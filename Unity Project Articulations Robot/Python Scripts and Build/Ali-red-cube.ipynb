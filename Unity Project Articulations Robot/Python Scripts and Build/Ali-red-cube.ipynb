{
 "cells": [
  {
   "cell_type": "code",
   "execution_count": null,
   "id": "b5f9cdf7",
   "metadata": {},
   "outputs": [],
   "source": [
    "!python -m pip uninstall opencv-python\n"
   ]
  },
  {
   "cell_type": "code",
   "execution_count": null,
   "id": "40bab95d-ec67-49f6-b46e-8fe3cbf78906",
   "metadata": {},
   "outputs": [],
   "source": [
    "!python -m pip install opencv-contrib-python"
   ]
  },
  {
   "cell_type": "code",
   "execution_count": null,
   "id": "9ac330c0-ea1f-40c7-bf47-448ddbf4d59f",
   "metadata": {},
   "outputs": [],
   "source": [
    "import numpy as np\n",
    "import cv2\n",
    "def drawBox(img, bbox):\n",
    "    x,y,w,h = int(bbox[0]),int(bbox[1]),int(bbox[2]),int(bbox[3])\n",
    "    cv2.rectangle(img,(x,y),((x+w),(y+h)),(0,0,255),3,1)\n",
    "    cv2.putText(img,\"Tracking\", (50,80),cv2.FONT_HERSHEY_COMPLEX,0.7,(0,255,0),1)\n",
    "# show x,y coordinate:\n",
    "  \n",
    "    \n",
    "    #return x,y coodinate for armrobot\n",
    "    \n",
    "    cv2.putText(img,\"X =\", (0,30),cv2.FONT_HERSHEY_COMPLEX,0.7,(0,255,0),1)\n",
    "    cv2.putText(img,str(int(x)), (40,30),cv2.FONT_HERSHEY_COMPLEX,0.7,(0,255,0),1)\n",
    "    cv2.putText(img,\"Y =\", (100,30),cv2.FONT_HERSHEY_COMPLEX,0.7,(0,255,0),1)\n",
    "    cv2.putText(img,str(int(y)), (140,30),cv2.FONT_HERSHEY_COMPLEX,0.7,(0,255,0),1)\n",
    "\n",
    "#load video from camera\n",
    "cap = cv2.VideoCapture(0)\n",
    "#tracker for opencv\n",
    "tracker = cv2.TrackerKCF_create()\n",
    "# tracker = cv2.TrackerCRST.create()\n",
    "success, img = cap.read()\n",
    "# print(\"success\",success)\n",
    "bbox = cv2.selectROI(\"Tracking\",img,False)\n",
    "tracker.init(img,bbox)\n",
    "\n",
    "while True:\n",
    "    timer = cv2.getTickCount()\n",
    "    success, img = cap.read()\n",
    "    success,bbox =tracker.update(img)   \n",
    "\n",
    "    if success:\n",
    "        drawBox(img,bbox)\n",
    "    else:\n",
    "        cv2.putText(img,\"Lost\", (50,80),cv2.FONT_HERSHEY_COMPLEX,0.7,(0,255,0),1)\n",
    "\n",
    "    fps = cv2.getTickFrequency()/(cv2.getTickCount()-timer)\n",
    "\n",
    "\n",
    "\n",
    "\n",
    "\n",
    "\n",
    "    cv2.imshow(\"Tracking\", img)\n",
    "\n",
    "    if cv2.waitKey(1) & 0xff == ord('q'):\n",
    "       break"
   ]
  },
  {
   "cell_type": "code",
   "execution_count": null,
   "id": "3afc4c74-a33a-4e2c-b0b2-cb9519306270",
   "metadata": {},
   "outputs": [],
   "source": []
  }
 ],
 "metadata": {
  "kernelspec": {
   "display_name": "Python 3 (ipykernel)",
   "language": "python",
   "name": "python3"
  },
  "language_info": {
   "codemirror_mode": {
    "name": "ipython",
    "version": 3
   },
   "file_extension": ".py",
   "mimetype": "text/x-python",
   "name": "python",
   "nbconvert_exporter": "python",
   "pygments_lexer": "ipython3",
   "version": "3.8.10"
  }
 },
 "nbformat": 4,
 "nbformat_minor": 5
}
