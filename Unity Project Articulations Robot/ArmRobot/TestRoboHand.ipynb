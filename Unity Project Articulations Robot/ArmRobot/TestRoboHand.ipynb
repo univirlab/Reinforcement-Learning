{
 "cells": [
  {
   "cell_type": "code",
   "execution_count": 1,
   "id": "6795b063",
   "metadata": {},
   "outputs": [
    {
     "ename": "UnityTimeOutException",
     "evalue": "The Unity environment took too long to respond. Make sure TouchCube does not need user interaction to launch and that the Academy and the external Brain(s) are attached to objects in the Scene.",
     "output_type": "error",
     "traceback": [
      "\u001b[1;31m---------------------------------------------------------------------------\u001b[0m",
      "\u001b[1;31mtimeout\u001b[0m                                   Traceback (most recent call last)",
      "File \u001b[1;32mc:\\users\\vika9\\appdata\\local\\programs\\python\\python38\\lib\\site-packages\\unityagents\\environment.py:99\u001b[0m, in \u001b[0;36mUnityEnvironment.__init__\u001b[1;34m(self, file_name, worker_id, base_port, curriculum)\u001b[0m\n\u001b[0;32m     98\u001b[0m \u001b[38;5;28mself\u001b[39m\u001b[38;5;241m.\u001b[39m_socket\u001b[38;5;241m.\u001b[39mlisten(\u001b[38;5;241m1\u001b[39m)\n\u001b[1;32m---> 99\u001b[0m \u001b[38;5;28mself\u001b[39m\u001b[38;5;241m.\u001b[39m_conn, _ \u001b[38;5;241m=\u001b[39m \u001b[38;5;28;43mself\u001b[39;49m\u001b[38;5;241;43m.\u001b[39;49m\u001b[43m_socket\u001b[49m\u001b[38;5;241;43m.\u001b[39;49m\u001b[43maccept\u001b[49m\u001b[43m(\u001b[49m\u001b[43m)\u001b[49m\n\u001b[0;32m    100\u001b[0m \u001b[38;5;28mself\u001b[39m\u001b[38;5;241m.\u001b[39m_conn\u001b[38;5;241m.\u001b[39msettimeout(\u001b[38;5;241m30\u001b[39m)\n",
      "File \u001b[1;32mc:\\users\\vika9\\appdata\\local\\programs\\python\\python38\\lib\\socket.py:292\u001b[0m, in \u001b[0;36msocket.accept\u001b[1;34m(self)\u001b[0m\n\u001b[0;32m    286\u001b[0m \u001b[38;5;124;03m\"\"\"accept() -> (socket object, address info)\u001b[39;00m\n\u001b[0;32m    287\u001b[0m \n\u001b[0;32m    288\u001b[0m \u001b[38;5;124;03mWait for an incoming connection.  Return a new socket\u001b[39;00m\n\u001b[0;32m    289\u001b[0m \u001b[38;5;124;03mrepresenting the connection, and the address of the client.\u001b[39;00m\n\u001b[0;32m    290\u001b[0m \u001b[38;5;124;03mFor IP sockets, the address info is a pair (hostaddr, port).\u001b[39;00m\n\u001b[0;32m    291\u001b[0m \u001b[38;5;124;03m\"\"\"\u001b[39;00m\n\u001b[1;32m--> 292\u001b[0m fd, addr \u001b[38;5;241m=\u001b[39m \u001b[38;5;28;43mself\u001b[39;49m\u001b[38;5;241;43m.\u001b[39;49m\u001b[43m_accept\u001b[49m\u001b[43m(\u001b[49m\u001b[43m)\u001b[49m\n\u001b[0;32m    293\u001b[0m sock \u001b[38;5;241m=\u001b[39m socket(\u001b[38;5;28mself\u001b[39m\u001b[38;5;241m.\u001b[39mfamily, \u001b[38;5;28mself\u001b[39m\u001b[38;5;241m.\u001b[39mtype, \u001b[38;5;28mself\u001b[39m\u001b[38;5;241m.\u001b[39mproto, fileno\u001b[38;5;241m=\u001b[39mfd)\n",
      "\u001b[1;31mtimeout\u001b[0m: timed out",
      "\nDuring handling of the above exception, another exception occurred:\n",
      "\u001b[1;31mUnityTimeOutException\u001b[0m                     Traceback (most recent call last)",
      "Input \u001b[1;32mIn [1]\u001b[0m, in \u001b[0;36m<cell line: 6>\u001b[1;34m()\u001b[0m\n\u001b[0;32m      4\u001b[0m \u001b[38;5;66;03m# Import the environment.\u001b[39;00m\n\u001b[0;32m      5\u001b[0m env_path \u001b[38;5;241m=\u001b[39m \u001b[38;5;124m'\u001b[39m\u001b[38;5;124mTouchCube\u001b[39m\u001b[38;5;124m'\u001b[39m\n\u001b[1;32m----> 6\u001b[0m env \u001b[38;5;241m=\u001b[39m \u001b[43mUnityEnvironment\u001b[49m\u001b[43m(\u001b[49m\u001b[43mfile_name\u001b[49m\u001b[38;5;241;43m=\u001b[39;49m\u001b[43menv_path\u001b[49m\u001b[43m)\u001b[49m\n\u001b[0;32m      8\u001b[0m \u001b[38;5;66;03m# Get default brain name.\u001b[39;00m\n\u001b[0;32m      9\u001b[0m brain_name \u001b[38;5;241m=\u001b[39m env\u001b[38;5;241m.\u001b[39mbrain_names[\u001b[38;5;241m0\u001b[39m]\n",
      "File \u001b[1;32mc:\\users\\vika9\\appdata\\local\\programs\\python\\python38\\lib\\site-packages\\unityagents\\environment.py:104\u001b[0m, in \u001b[0;36mUnityEnvironment.__init__\u001b[1;34m(self, file_name, worker_id, base_port, curriculum)\u001b[0m\n\u001b[0;32m    102\u001b[0m     p \u001b[38;5;241m=\u001b[39m json\u001b[38;5;241m.\u001b[39mloads(p)\n\u001b[0;32m    103\u001b[0m \u001b[38;5;28;01mexcept\u001b[39;00m socket\u001b[38;5;241m.\u001b[39mtimeout \u001b[38;5;28;01mas\u001b[39;00m e:\n\u001b[1;32m--> 104\u001b[0m     \u001b[38;5;28;01mraise\u001b[39;00m UnityTimeOutException(\n\u001b[0;32m    105\u001b[0m         \u001b[38;5;124m\"\u001b[39m\u001b[38;5;124mThe Unity environment took too long to respond. Make sure \u001b[39m\u001b[38;5;132;01m{}\u001b[39;00m\u001b[38;5;124m does not need user interaction to \u001b[39m\u001b[38;5;124m\"\u001b[39m\n\u001b[0;32m    106\u001b[0m         \u001b[38;5;124m\"\u001b[39m\u001b[38;5;124mlaunch and that the Academy and the external Brain(s) are attached to objects in the Scene.\u001b[39m\u001b[38;5;124m\"\u001b[39m\n\u001b[0;32m    107\u001b[0m         \u001b[38;5;241m.\u001b[39mformat(\u001b[38;5;28mstr\u001b[39m(file_name)))\n\u001b[0;32m    109\u001b[0m \u001b[38;5;28;01mif\u001b[39;00m \u001b[38;5;124m\"\u001b[39m\u001b[38;5;124mapiNumber\u001b[39m\u001b[38;5;124m\"\u001b[39m \u001b[38;5;129;01mnot\u001b[39;00m \u001b[38;5;129;01min\u001b[39;00m p:\n\u001b[0;32m    110\u001b[0m     \u001b[38;5;28mself\u001b[39m\u001b[38;5;241m.\u001b[39m_unity_api \u001b[38;5;241m=\u001b[39m \u001b[38;5;124m\"\u001b[39m\u001b[38;5;124mAPI-1\u001b[39m\u001b[38;5;124m\"\u001b[39m\n",
      "\u001b[1;31mUnityTimeOutException\u001b[0m: The Unity environment took too long to respond. Make sure TouchCube does not need user interaction to launch and that the Academy and the external Brain(s) are attached to objects in the Scene."
     ]
    }
   ],
   "source": [
    "# Initiate an unity environment.\n",
    "from unityagents import UnityEnvironment\n",
    "\n",
    "# Import the environment.\n",
    "env_path = 'TouchCube'\n",
    "env = UnityEnvironment(file_name=env_path)\n",
    "\n",
    "# Get default brain name.\n",
    "brain_name = env.brain_names[0]\n",
    "brain = env.brains[brain_name]\n",
    "\n",
    "# Reset the environment -> switch to training(episodical) mode,\n",
    "# and extract environment information out by indexing on brain_name.\n",
    "env_info = env.reset(train_mode=True)[brain_name]\n",
    "\n",
    "########### Preview env info ###########\n",
    "# number of agents\n",
    "num_agents = len(env_info.agents)\n",
    "printmd('**Number of agents:** {}'.format(num_agents))\n",
    "\n",
    "# size of each action\n",
    "action_size = brain.vector_action_space_size\n",
    "printmd('\\n**Size of each action:** {}'.format(action_size))\n",
    "\n",
    "# examine the state space \n",
    "states = env_info.vector_observations\n",
    "state_size = states.shape[1]\n",
    "printmd('\\n**There are** {} **agents. Each observes a state with length:** {}'.format(states.shape[0], state_size))\n",
    "printmd('\\n**The state for the agent looks like:**\\n')\n",
    "display(states[0])"
   ]
  },
  {
   "cell_type": "code",
   "execution_count": null,
   "id": "c17c2ae0",
   "metadata": {},
   "outputs": [],
   "source": []
  }
 ],
 "metadata": {
  "kernelspec": {
   "display_name": "Python 3 (ipykernel)",
   "language": "python",
   "name": "python3"
  },
  "language_info": {
   "codemirror_mode": {
    "name": "ipython",
    "version": 3
   },
   "file_extension": ".py",
   "mimetype": "text/x-python",
   "name": "python",
   "nbconvert_exporter": "python",
   "pygments_lexer": "ipython3",
   "version": "3.8.10"
  }
 },
 "nbformat": 4,
 "nbformat_minor": 5
}
