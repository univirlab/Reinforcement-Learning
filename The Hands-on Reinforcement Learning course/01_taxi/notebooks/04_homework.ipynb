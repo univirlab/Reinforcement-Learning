{
 "cells": [
  {
   "cell_type": "markdown",
   "id": "f0fd6807",
   "metadata": {},
   "source": [
    "# 04 Homework 🏋️🏋️🏋️"
   ]
  },
  {
   "cell_type": "markdown",
   "id": "abcf6613",
   "metadata": {},
   "source": [
    "#### 👉A course without homework is not a course!\n",
    "\n",
    "#### 👉Spend some time thinking and trying to implement the challenges I propose here.\n",
    "\n",
    "#### 👉They are not so easy, so if you get stuck drop me an email at `plabartabajo@gmail.com`"
   ]
  },
  {
   "cell_type": "markdown",
   "id": "86f82e45",
   "metadata": {},
   "source": [
    "-----"
   ]
  },
  {
   "cell_type": "markdown",
   "id": "67656662",
   "metadata": {},
   "source": [
    "## 1. Can you update the function `train` in a way that the input `epsilon` can also be a callable function?\n",
    "\n",
    "An `epsilon` value that decays after each episode works better than a fixed `epsilon` for most RL problems.\n",
    "\n",
    "This is hard exercise, but I want you to give it a try.\n",
    "\n",
    "If you do not manage it, do not worry. We are going to implement this in an upcoming lesson."
   ]
  },
  {
   "cell_type": "markdown",
   "id": "7d1e016e",
   "metadata": {},
   "source": [
    "-----"
   ]
  },
  {
   "cell_type": "markdown",
   "id": "c0a46bf7",
   "metadata": {},
   "source": [
    "## 2. Can you parallelize the function `train_many_runs` using Python's `multiprocessing` module?\n",
    "\n",
    "I do not like to wait and stare at each progress bar, while I think that each run in `train_many_runs` could execute\n",
    "in parallel.\n",
    "\n",
    "Create a new function called `train_many_runs_in_parallel` that outputs the same results as `train_many_runs` but that executes in a fraction of time."
   ]
  }
 ],
 "metadata": {
  "kernelspec": {
   "display_name": "Python 3 (ipykernel)",
   "language": "python",
   "name": "python3"
  },
  "language_info": {
   "codemirror_mode": {
    "name": "ipython",
    "version": 3
   },
   "file_extension": ".py",
   "mimetype": "text/x-python",
   "name": "python",
   "nbconvert_exporter": "python",
   "pygments_lexer": "ipython3",
   "version": "3.7.5"
  }
 },
 "nbformat": 4,
 "nbformat_minor": 5
}
