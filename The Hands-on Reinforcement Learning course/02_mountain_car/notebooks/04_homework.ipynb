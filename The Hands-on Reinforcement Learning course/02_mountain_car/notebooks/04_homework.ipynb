{
 "cells": [
  {
   "cell_type": "markdown",
   "id": "f0fd6807",
   "metadata": {},
   "source": [
    "# 04 Homework 🏋️🏋️🏋️"
   ]
  },
  {
   "cell_type": "markdown",
   "id": "abcf6613",
   "metadata": {},
   "source": [
    "#### 👉A course without homework is not a course!\n",
    "\n",
    "#### 👉Spend some time thinking and trying to implement the challenges I propose here.\n",
    "\n",
    "#### 👉Feel free to email me your solutions at:"
   ]
  },
  {
   "cell_type": "markdown",
   "id": "d1d983a3",
   "metadata": {},
   "source": [
    "# `plabartabajo@gmail.com`"
   ]
  },
  {
   "cell_type": "markdown",
   "id": "86f82e45",
   "metadata": {},
   "source": [
    "-----"
   ]
  },
  {
   "cell_type": "markdown",
   "id": "67656662",
   "metadata": {},
   "source": [
    "## 1. Can you adjust the hyper-parameters `alpha = 0.1` and `gamma = 0.9` to train a better SARSA agent than mine?\n",
    "\n",
    "Experiment with these 2 hyper-parameters to maximize the agent success rate."
   ]
  },
  {
   "cell_type": "markdown",
   "id": "c0a46bf7",
   "metadata": {},
   "source": [
    "## 2. Can you increase the resolution of the discretization?\n",
    "\n",
    "Instead of using round marks of\n",
    "- `0.1` for position\n",
    "- `0.01` for velocity\n",
    "\n",
    "Use 10x:\n",
    "- `0.01` for position\n",
    "- `0.001` for velocity\n",
    "\n",
    "Let me know if you get a better agent than mine?"
   ]
  }
 ],
 "metadata": {
  "kernelspec": {
   "display_name": "Python 3 (ipykernel)",
   "language": "python",
   "name": "python3"
  },
  "language_info": {
   "codemirror_mode": {
    "name": "ipython",
    "version": 3
   },
   "file_extension": ".py",
   "mimetype": "text/x-python",
   "name": "python",
   "nbconvert_exporter": "python",
   "pygments_lexer": "ipython3",
   "version": "3.7.5"
  }
 },
 "nbformat": 4,
 "nbformat_minor": 5
}
