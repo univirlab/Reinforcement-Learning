{
 "cells": [
  {
   "cell_type": "markdown",
   "id": "f7893323",
   "metadata": {},
   "source": [
    "# 03 Vanilla Policy Gradient with rewards to go as weights\n",
    "\n",
    "#### 👉🏽 The policy network will have the following architecture:\n",
    "\n",
    "<img src=\"https://github.com/Paulescu/hands-on-rl/blob/main/04_lunar_lander/images/policy_network.svg?raw=True\" width=\"300\"/>\n",
    "\n",
    "#### 👉🏽 And we will use the rewards-to-go to compute the weights in the policy gradient formula."
   ]
  },
  {
   "cell_type": "code",
   "execution_count": 11,
   "id": "fd7b5c91",
   "metadata": {},
   "outputs": [
    {
     "name": "stdout",
     "output_type": "stream",
     "text": [
      "The autoreload extension is already loaded. To reload it, use:\n",
      "  %reload_ext autoreload\n",
      "%pylab is deprecated, use %matplotlib inline and import the required libraries.\n",
      "Populating the interactive namespace from numpy and matplotlib\n"
     ]
    }
   ],
   "source": [
    "%load_ext autoreload\n",
    "%autoreload 2\n",
    "%pylab inline\n",
    "%config InlineBackend.figure_format = 'svg'"
   ]
  },
  {
   "cell_type": "markdown",
   "id": "9241f546",
   "metadata": {},
   "source": [
    "## Environment 🚀🌙"
   ]
  },
  {
   "cell_type": "code",
   "execution_count": 12,
   "id": "267a519c",
   "metadata": {},
   "outputs": [],
   "source": [
    "ENV_NAME = 'LunarLander-v2'"
   ]
  },
  {
   "cell_type": "markdown",
   "id": "a3e61b4b",
   "metadata": {},
   "source": [
    "## Create agent and set hyperparameters"
   ]
  },
  {
   "cell_type": "code",
   "execution_count": 13,
   "id": "70383cb2",
   "metadata": {},
   "outputs": [
    {
     "name": "stdout",
     "output_type": "stream",
     "text": [
      "Policy network with 836 parameters\n",
      "Sequential(\n",
      "  (0): Linear(in_features=8, out_features=64, bias=True)\n",
      "  (1): ReLU()\n",
      "  (2): Linear(in_features=64, out_features=4, bias=True)\n",
      ")\n"
     ]
    }
   ],
   "source": [
    "from src.vpg_agent import VPGAgent\n",
    "\n",
    "agent = VPGAgent(\n",
    "    env_name=ENV_NAME,\n",
    "    learning_rate=3e-3,\n",
    "    hidden_layers=[64],\n",
    "    gradient_weights='rewards-to-go',\n",
    ")"
   ]
  },
  {
   "cell_type": "markdown",
   "id": "e9a83b60",
   "metadata": {},
   "source": [
    "## Tensorboard logger to see training metrics"
   ]
  },
  {
   "cell_type": "code",
   "execution_count": 14,
   "id": "630ea91b",
   "metadata": {},
   "outputs": [
    {
     "name": "stdout",
     "output_type": "stream",
     "text": [
      "agent_id = 23\n"
     ]
    }
   ],
   "source": [
    "from src.utils import get_agent_id\n",
    "agent_id = get_agent_id(ENV_NAME)\n",
    "print(f'agent_id = {agent_id}')\n",
    "\n",
    "# tensorboard logger to see training curves\n",
    "from src.utils import get_logger, get_model_path\n",
    "logger = get_logger(env_name=ENV_NAME, agent_id=agent_id)\n",
    "\n",
    "# path to save policy network weights and hyperparameters\n",
    "model_path = get_model_path(env_name=ENV_NAME, agent_id=agent_id)"
   ]
  },
  {
   "cell_type": "markdown",
   "id": "639dd70c",
   "metadata": {},
   "source": [
    "## Training 🏋️"
   ]
  },
  {
   "cell_type": "code",
   "execution_count": 15,
   "id": "8285b344",
   "metadata": {
    "scrolled": true
   },
   "outputs": [
    {
     "name": "stdout",
     "output_type": "stream",
     "text": [
      "epoch:   0 \t loss: -219.557 \t reward: -210.354\n",
      "epoch:   1 \t loss: -198.102 \t reward: -178.642\n",
      "epoch:   2 \t loss: -176.342 \t reward: -160.211\n",
      "epoch:   3 \t loss: -165.565 \t reward: -153.454\n",
      "epoch:   4 \t loss: -229.541 \t reward: -210.441\n",
      "epoch:   5 \t loss: -182.263 \t reward: -162.529\n",
      "epoch:   6 \t loss: -197.870 \t reward: -181.052\n",
      "epoch:   7 \t loss: -223.961 \t reward: -211.405\n",
      "epoch:   8 \t loss: -176.830 \t reward: -159.285\n",
      "epoch:   9 \t loss: -220.593 \t reward: -194.883\n"
     ]
    },
    {
     "name": "stderr",
     "output_type": "stream",
     "text": [
      "100%|████████████████████████| 100/100 [00:03<00:00, 31.47it/s]\n"
     ]
    },
    {
     "name": "stdout",
     "output_type": "stream",
     "text": [
      "Best model! Average reward = -156.61, Success rate = 0.00%\n",
      "epoch:  10 \t loss: -163.496 \t reward: -136.943\n",
      "epoch:  11 \t loss: -136.275 \t reward: -125.193\n",
      "epoch:  12 \t loss: -178.673 \t reward: -163.996\n",
      "epoch:  13 \t loss: -156.057 \t reward: -133.095\n",
      "epoch:  14 \t loss: -187.334 \t reward: -166.165\n",
      "epoch:  15 \t loss: -166.904 \t reward: -153.786\n",
      "epoch:  16 \t loss: -171.442 \t reward: -147.795\n",
      "epoch:  17 \t loss: -164.764 \t reward: -154.427\n",
      "epoch:  18 \t loss: -163.790 \t reward: -144.550\n",
      "epoch:  19 \t loss: -188.326 \t reward: -171.990\n"
     ]
    },
    {
     "name": "stderr",
     "output_type": "stream",
     "text": [
      "100%|████████████████████████| 100/100 [00:03<00:00, 31.17it/s]\n"
     ]
    },
    {
     "name": "stdout",
     "output_type": "stream",
     "text": [
      "epoch:  20 \t loss: -187.428 \t reward: -165.605\n",
      "epoch:  21 \t loss: -176.768 \t reward: -160.501\n",
      "epoch:  22 \t loss: -152.036 \t reward: -128.415\n",
      "epoch:  23 \t loss: -147.510 \t reward: -128.238\n",
      "epoch:  24 \t loss: -196.918 \t reward: -170.067\n",
      "epoch:  25 \t loss: -149.487 \t reward: -141.187\n",
      "epoch:  26 \t loss: -176.416 \t reward: -150.956\n",
      "epoch:  27 \t loss: -166.370 \t reward: -148.962\n",
      "epoch:  28 \t loss: -143.317 \t reward: -116.716\n",
      "epoch:  29 \t loss: -171.784 \t reward: -148.677\n"
     ]
    },
    {
     "name": "stderr",
     "output_type": "stream",
     "text": [
      "100%|████████████████████████| 100/100 [00:03<00:00, 28.26it/s]\n"
     ]
    },
    {
     "name": "stdout",
     "output_type": "stream",
     "text": [
      "Best model! Average reward = -136.70, Success rate = 0.00%\n",
      "epoch:  30 \t loss: -190.818 \t reward: -161.031\n",
      "epoch:  31 \t loss: -166.440 \t reward: -154.863\n",
      "epoch:  32 \t loss: -184.824 \t reward: -146.858\n",
      "epoch:  33 \t loss: -150.537 \t reward: -139.159\n",
      "epoch:  34 \t loss: -167.144 \t reward: -131.680\n",
      "epoch:  35 \t loss: -169.192 \t reward: -147.883\n",
      "epoch:  36 \t loss: -192.295 \t reward: -179.450\n",
      "epoch:  37 \t loss: -187.964 \t reward: -164.123\n",
      "epoch:  38 \t loss: -179.720 \t reward: -149.952\n",
      "epoch:  39 \t loss: -69.607 \t reward: -110.525\n"
     ]
    },
    {
     "name": "stderr",
     "output_type": "stream",
     "text": [
      "100%|████████████████████████| 100/100 [00:03<00:00, 29.32it/s]\n"
     ]
    },
    {
     "name": "stdout",
     "output_type": "stream",
     "text": [
      "epoch:  40 \t loss: -171.644 \t reward: -138.530\n",
      "epoch:  41 \t loss: -142.865 \t reward: -118.218\n",
      "epoch:  42 \t loss: -149.591 \t reward: -132.745\n",
      "epoch:  43 \t loss: -128.302 \t reward: -108.745\n",
      "epoch:  44 \t loss: -186.743 \t reward: -162.469\n",
      "epoch:  45 \t loss: -142.649 \t reward: -125.990\n",
      "epoch:  46 \t loss: -116.474 \t reward: -102.643\n",
      "epoch:  47 \t loss: -141.348 \t reward: -126.178\n",
      "epoch:  48 \t loss: -149.578 \t reward: -125.679\n",
      "epoch:  49 \t loss: -178.115 \t reward: -148.610\n"
     ]
    },
    {
     "name": "stderr",
     "output_type": "stream",
     "text": [
      "100%|████████████████████████| 100/100 [00:03<00:00, 32.03it/s]\n"
     ]
    },
    {
     "name": "stdout",
     "output_type": "stream",
     "text": [
      "epoch:  50 \t loss: -156.960 \t reward: -132.879\n",
      "epoch:  51 \t loss: -184.666 \t reward: -157.439\n",
      "epoch:  52 \t loss: -168.074 \t reward: -145.044\n",
      "epoch:  53 \t loss: -150.242 \t reward: -135.804\n",
      "epoch:  54 \t loss: -155.842 \t reward: -135.469\n",
      "epoch:  55 \t loss: -139.772 \t reward: -120.471\n",
      "epoch:  56 \t loss: -134.192 \t reward: -111.368\n",
      "epoch:  57 \t loss: -152.492 \t reward: -138.562\n",
      "epoch:  58 \t loss: -139.870 \t reward: -122.757\n",
      "epoch:  59 \t loss: -127.655 \t reward: -110.529\n"
     ]
    },
    {
     "name": "stderr",
     "output_type": "stream",
     "text": [
      "100%|████████████████████████| 100/100 [00:03<00:00, 30.99it/s]\n"
     ]
    },
    {
     "name": "stdout",
     "output_type": "stream",
     "text": [
      "Best model! Average reward = -119.17, Success rate = 0.00%\n",
      "epoch:  60 \t loss: -134.873 \t reward: -119.553\n",
      "epoch:  61 \t loss: -150.093 \t reward: -132.687\n",
      "epoch:  62 \t loss: -160.913 \t reward: -134.385\n",
      "epoch:  63 \t loss: -137.451 \t reward: -122.856\n",
      "epoch:  64 \t loss: -140.499 \t reward: -121.146\n",
      "epoch:  65 \t loss: -165.276 \t reward: -136.004\n",
      "epoch:  66 \t loss: -143.463 \t reward: -119.217\n",
      "epoch:  67 \t loss: -139.739 \t reward: -121.398\n",
      "epoch:  68 \t loss: -134.697 \t reward: -111.977\n",
      "epoch:  69 \t loss: -164.112 \t reward: -144.815\n"
     ]
    },
    {
     "name": "stderr",
     "output_type": "stream",
     "text": [
      "100%|████████████████████████| 100/100 [00:03<00:00, 33.00it/s]\n"
     ]
    },
    {
     "name": "stdout",
     "output_type": "stream",
     "text": [
      "epoch:  70 \t loss: -117.935 \t reward: -109.225\n",
      "epoch:  71 \t loss: -126.283 \t reward: -109.009\n",
      "epoch:  72 \t loss: -133.018 \t reward: -112.331\n",
      "epoch:  73 \t loss: -125.244 \t reward: -114.278\n",
      "epoch:  74 \t loss: -137.788 \t reward: -116.136\n",
      "epoch:  75 \t loss: -153.858 \t reward: -127.871\n",
      "epoch:  76 \t loss: -136.969 \t reward: -126.438\n",
      "epoch:  77 \t loss: -135.320 \t reward: -120.993\n",
      "epoch:  78 \t loss: -142.210 \t reward: -126.824\n",
      "epoch:  79 \t loss: -119.013 \t reward: -110.635\n"
     ]
    },
    {
     "name": "stderr",
     "output_type": "stream",
     "text": [
      "100%|████████████████████████| 100/100 [00:02<00:00, 33.34it/s]\n"
     ]
    },
    {
     "name": "stdout",
     "output_type": "stream",
     "text": [
      "Best model! Average reward = -116.39, Success rate = 0.00%\n",
      "epoch:  80 \t loss: -123.181 \t reward: -116.297\n",
      "epoch:  81 \t loss: -139.398 \t reward: -119.570\n",
      "epoch:  82 \t loss: -133.832 \t reward: -111.223\n",
      "epoch:  83 \t loss: -124.224 \t reward: -103.455\n",
      "epoch:  84 \t loss: -130.580 \t reward: -117.157\n",
      "epoch:  85 \t loss: -131.770 \t reward: -114.511\n",
      "epoch:  86 \t loss: -119.795 \t reward: -103.106\n",
      "epoch:  87 \t loss: -149.123 \t reward: -125.657\n",
      "epoch:  88 \t loss: -143.734 \t reward: -128.275\n",
      "epoch:  89 \t loss: -138.628 \t reward: -123.674\n"
     ]
    },
    {
     "name": "stderr",
     "output_type": "stream",
     "text": [
      "100%|████████████████████████| 100/100 [00:03<00:00, 31.84it/s]\n"
     ]
    },
    {
     "name": "stdout",
     "output_type": "stream",
     "text": [
      "Best model! Average reward = -113.02, Success rate = 0.00%\n",
      "epoch:  90 \t loss: -114.478 \t reward: -101.750\n",
      "epoch:  91 \t loss: -124.309 \t reward: -110.738\n",
      "epoch:  92 \t loss: -137.103 \t reward: -114.593\n",
      "epoch:  93 \t loss: -120.997 \t reward: -107.041\n",
      "epoch:  94 \t loss: -122.621 \t reward: -107.560\n",
      "epoch:  95 \t loss: -158.480 \t reward: -138.908\n",
      "epoch:  96 \t loss: -125.532 \t reward: -107.148\n",
      "epoch:  97 \t loss: -144.413 \t reward: -119.509\n",
      "epoch:  98 \t loss: -131.348 \t reward: -110.117\n",
      "epoch:  99 \t loss: -141.334 \t reward: -117.303\n"
     ]
    },
    {
     "name": "stderr",
     "output_type": "stream",
     "text": [
      "100%|████████████████████████| 100/100 [00:03<00:00, 32.63it/s]\n"
     ]
    },
    {
     "name": "stdout",
     "output_type": "stream",
     "text": [
      "Best model! Average reward = -110.67, Success rate = 0.00%\n",
      "epoch: 100 \t loss: -109.116 \t reward: -91.959\n",
      "epoch: 101 \t loss: -113.062 \t reward: -95.356\n",
      "epoch: 102 \t loss: -118.466 \t reward: -106.104\n",
      "epoch: 103 \t loss: -124.029 \t reward: -106.027\n",
      "epoch: 104 \t loss: -127.184 \t reward: -107.966\n",
      "epoch: 105 \t loss: -118.652 \t reward: -99.388\n",
      "epoch: 106 \t loss: -115.893 \t reward: -101.239\n",
      "epoch: 107 \t loss: -106.692 \t reward: -96.675\n",
      "epoch: 108 \t loss: -126.215 \t reward: -113.253\n",
      "epoch: 109 \t loss: -135.307 \t reward: -125.736\n"
     ]
    },
    {
     "name": "stderr",
     "output_type": "stream",
     "text": [
      "100%|████████████████████████| 100/100 [00:02<00:00, 33.95it/s]\n"
     ]
    },
    {
     "name": "stdout",
     "output_type": "stream",
     "text": [
      "epoch: 110 \t loss: -127.300 \t reward: -115.988\n",
      "epoch: 111 \t loss: -128.772 \t reward: -112.439\n",
      "epoch: 112 \t loss: -121.824 \t reward: -111.147\n",
      "epoch: 113 \t loss: -143.642 \t reward: -127.134\n",
      "epoch: 114 \t loss: -135.784 \t reward: -126.008\n",
      "epoch: 115 \t loss: -125.461 \t reward: -108.621\n",
      "epoch: 116 \t loss: -117.597 \t reward: -104.257\n",
      "epoch: 117 \t loss: -121.028 \t reward: -107.794\n",
      "epoch: 118 \t loss: -141.988 \t reward: -125.661\n",
      "epoch: 119 \t loss: -135.509 \t reward: -112.724\n"
     ]
    },
    {
     "name": "stderr",
     "output_type": "stream",
     "text": [
      "100%|████████████████████████| 100/100 [00:02<00:00, 33.47it/s]\n"
     ]
    },
    {
     "name": "stdout",
     "output_type": "stream",
     "text": [
      "Best model! Average reward = -105.65, Success rate = 0.00%\n",
      "epoch: 120 \t loss: -120.141 \t reward: -103.282\n",
      "epoch: 121 \t loss: -107.372 \t reward: -92.941\n",
      "epoch: 122 \t loss: -139.265 \t reward: -117.615\n",
      "epoch: 123 \t loss: -119.078 \t reward: -100.287\n",
      "epoch: 124 \t loss: -122.917 \t reward: -106.950\n",
      "epoch: 125 \t loss: -117.221 \t reward: -101.914\n",
      "epoch: 126 \t loss: -133.541 \t reward: -111.379\n",
      "epoch: 127 \t loss: -115.641 \t reward: -98.883\n",
      "epoch: 128 \t loss: -127.975 \t reward: -110.978\n",
      "epoch: 129 \t loss: -116.198 \t reward: -99.210\n"
     ]
    },
    {
     "name": "stderr",
     "output_type": "stream",
     "text": [
      "100%|████████████████████████| 100/100 [00:03<00:00, 32.46it/s]\n"
     ]
    },
    {
     "name": "stdout",
     "output_type": "stream",
     "text": [
      "epoch: 130 \t loss: -131.473 \t reward: -112.659\n",
      "epoch: 131 \t loss: -109.927 \t reward: -100.413\n",
      "epoch: 132 \t loss: -110.367 \t reward: -99.602\n",
      "epoch: 133 \t loss: -112.060 \t reward: -96.053\n",
      "epoch: 134 \t loss: -121.636 \t reward: -102.617\n",
      "epoch: 135 \t loss: -129.475 \t reward: -110.322\n",
      "epoch: 136 \t loss: -114.535 \t reward: -95.676\n",
      "epoch: 137 \t loss: -129.447 \t reward: -110.180\n",
      "epoch: 138 \t loss: -111.420 \t reward: -95.516\n",
      "epoch: 139 \t loss: -113.617 \t reward: -101.709\n"
     ]
    },
    {
     "name": "stderr",
     "output_type": "stream",
     "text": [
      "100%|████████████████████████| 100/100 [00:03<00:00, 32.69it/s]\n"
     ]
    },
    {
     "name": "stdout",
     "output_type": "stream",
     "text": [
      "Best model! Average reward = -101.84, Success rate = 0.00%\n",
      "epoch: 140 \t loss: -104.342 \t reward: -94.153\n",
      "epoch: 141 \t loss: -122.950 \t reward: -102.663\n",
      "epoch: 142 \t loss: -128.600 \t reward: -117.097\n",
      "epoch: 143 \t loss: -124.936 \t reward: -104.135\n",
      "epoch: 144 \t loss: -112.981 \t reward: -95.399\n",
      "epoch: 145 \t loss: -108.327 \t reward: -95.502\n",
      "epoch: 146 \t loss: -116.164 \t reward: -95.406\n",
      "epoch: 147 \t loss: -111.353 \t reward: -100.008\n",
      "epoch: 148 \t loss: -109.661 \t reward: -99.321\n",
      "epoch: 149 \t loss: -103.843 \t reward: -95.859\n"
     ]
    },
    {
     "name": "stderr",
     "output_type": "stream",
     "text": [
      "100%|████████████████████████| 100/100 [00:03<00:00, 33.09it/s]\n"
     ]
    },
    {
     "name": "stdout",
     "output_type": "stream",
     "text": [
      "Best model! Average reward = -94.63, Success rate = 0.00%\n",
      "epoch: 150 \t loss: -112.251 \t reward: -97.808\n",
      "epoch: 151 \t loss: -112.029 \t reward: -99.993\n",
      "epoch: 152 \t loss: -112.818 \t reward: -101.096\n",
      "epoch: 153 \t loss: -111.838 \t reward: -95.039\n",
      "epoch: 154 \t loss: -110.159 \t reward: -91.432\n",
      "epoch: 155 \t loss: -120.005 \t reward: -104.882\n",
      "epoch: 156 \t loss: -98.426 \t reward: -82.852\n",
      "epoch: 157 \t loss: -110.559 \t reward: -94.534\n",
      "epoch: 158 \t loss: -120.966 \t reward: -104.311\n",
      "epoch: 159 \t loss: -116.819 \t reward: -103.293\n"
     ]
    },
    {
     "name": "stderr",
     "output_type": "stream",
     "text": [
      "100%|████████████████████████| 100/100 [00:03<00:00, 32.17it/s]\n"
     ]
    },
    {
     "name": "stdout",
     "output_type": "stream",
     "text": [
      "epoch: 160 \t loss: -112.346 \t reward: -103.080\n",
      "epoch: 161 \t loss: -111.904 \t reward: -98.929\n",
      "epoch: 162 \t loss: -121.404 \t reward: -110.007\n",
      "epoch: 163 \t loss: -95.215 \t reward: -92.467\n",
      "epoch: 164 \t loss: -84.752 \t reward: -77.402\n",
      "epoch: 165 \t loss: -123.662 \t reward: -108.350\n",
      "epoch: 166 \t loss: -109.098 \t reward: -97.660\n",
      "epoch: 167 \t loss: -113.831 \t reward: -104.847\n",
      "epoch: 168 \t loss: -114.813 \t reward: -97.101\n",
      "epoch: 169 \t loss: -104.466 \t reward: -94.123\n"
     ]
    },
    {
     "name": "stderr",
     "output_type": "stream",
     "text": [
      "100%|████████████████████████| 100/100 [00:03<00:00, 31.07it/s]\n"
     ]
    },
    {
     "name": "stdout",
     "output_type": "stream",
     "text": [
      "epoch: 170 \t loss: -97.607 \t reward: -82.836\n",
      "epoch: 171 \t loss: -110.481 \t reward: -96.796\n",
      "epoch: 172 \t loss: -102.742 \t reward: -95.272\n",
      "epoch: 173 \t loss: -118.020 \t reward: -101.497\n",
      "epoch: 174 \t loss: -121.320 \t reward: -99.461\n",
      "epoch: 175 \t loss: -111.885 \t reward: -97.606\n",
      "epoch: 176 \t loss: -105.047 \t reward: -90.008\n",
      "epoch: 177 \t loss: -117.315 \t reward: -100.264\n",
      "epoch: 178 \t loss: -114.216 \t reward: -93.035\n",
      "epoch: 179 \t loss: -111.155 \t reward: -100.207\n"
     ]
    },
    {
     "name": "stderr",
     "output_type": "stream",
     "text": [
      "100%|████████████████████████| 100/100 [00:03<00:00, 31.11it/s]\n"
     ]
    },
    {
     "name": "stdout",
     "output_type": "stream",
     "text": [
      "Best model! Average reward = -86.05, Success rate = 0.00%\n",
      "epoch: 180 \t loss: -106.024 \t reward: -92.306\n",
      "epoch: 181 \t loss: -90.994 \t reward: -78.679\n",
      "epoch: 182 \t loss: -120.105 \t reward: -97.359\n",
      "epoch: 183 \t loss: -98.048 \t reward: -87.635\n",
      "epoch: 184 \t loss: -97.698 \t reward: -84.041\n",
      "epoch: 185 \t loss: -99.326 \t reward: -85.241\n",
      "epoch: 186 \t loss: -105.049 \t reward: -87.273\n",
      "epoch: 187 \t loss: -95.352 \t reward: -79.222\n",
      "epoch: 188 \t loss: -99.838 \t reward: -83.713\n",
      "epoch: 189 \t loss: -98.737 \t reward: -86.793\n"
     ]
    },
    {
     "name": "stderr",
     "output_type": "stream",
     "text": [
      "100%|████████████████████████| 100/100 [00:03<00:00, 28.37it/s]\n"
     ]
    },
    {
     "name": "stdout",
     "output_type": "stream",
     "text": [
      "epoch: 190 \t loss: -99.840 \t reward: -85.623\n",
      "epoch: 191 \t loss: -99.706 \t reward: -82.780\n",
      "epoch: 192 \t loss: -104.297 \t reward: -89.094\n",
      "epoch: 193 \t loss: -109.616 \t reward: -95.207\n",
      "epoch: 194 \t loss: -65.817 \t reward: -75.079\n",
      "epoch: 195 \t loss: -86.985 \t reward: -75.157\n",
      "epoch: 196 \t loss: -90.602 \t reward: -73.554\n",
      "epoch: 197 \t loss: -94.297 \t reward: -75.116\n",
      "epoch: 198 \t loss: -108.912 \t reward: -88.727\n",
      "epoch: 199 \t loss: -96.815 \t reward: -83.476\n"
     ]
    },
    {
     "name": "stderr",
     "output_type": "stream",
     "text": [
      "100%|████████████████████████| 100/100 [00:03<00:00, 29.32it/s]\n"
     ]
    },
    {
     "name": "stdout",
     "output_type": "stream",
     "text": [
      "Best model! Average reward = -78.10, Success rate = 0.00%\n",
      "epoch: 200 \t loss: -78.567 \t reward: -64.935\n",
      "epoch: 201 \t loss: -97.411 \t reward: -85.050\n",
      "epoch: 202 \t loss: -98.645 \t reward: -80.667\n",
      "epoch: 203 \t loss: -86.026 \t reward: -76.704\n",
      "epoch: 204 \t loss: -99.303 \t reward: -82.654\n",
      "epoch: 205 \t loss: -91.553 \t reward: -74.015\n",
      "epoch: 206 \t loss: -87.875 \t reward: -74.973\n",
      "epoch: 207 \t loss: -99.770 \t reward: -80.607\n",
      "epoch: 208 \t loss: -93.663 \t reward: -76.688\n",
      "epoch: 209 \t loss: -86.178 \t reward: -73.597\n"
     ]
    },
    {
     "name": "stderr",
     "output_type": "stream",
     "text": [
      "100%|████████████████████████| 100/100 [00:03<00:00, 25.75it/s]\n"
     ]
    },
    {
     "name": "stdout",
     "output_type": "stream",
     "text": [
      "Best model! Average reward = -63.62, Success rate = 0.00%\n",
      "epoch: 210 \t loss: -79.322 \t reward: -66.691\n",
      "epoch: 211 \t loss: -96.714 \t reward: -76.354\n",
      "epoch: 212 \t loss: -86.432 \t reward: -72.146\n",
      "epoch: 213 \t loss: -42.231 \t reward: -35.476\n",
      "epoch: 214 \t loss: -98.041 \t reward: -75.296\n",
      "epoch: 215 \t loss: -83.144 \t reward: -71.708\n",
      "epoch: 216 \t loss: -86.345 \t reward: -71.080\n",
      "epoch: 217 \t loss: -93.499 \t reward: -75.140\n",
      "epoch: 218 \t loss: -76.436 \t reward: -64.371\n",
      "epoch: 219 \t loss: -82.675 \t reward: -64.264\n"
     ]
    },
    {
     "name": "stderr",
     "output_type": "stream",
     "text": [
      "100%|████████████████████████| 100/100 [00:06<00:00, 16.45it/s]\n"
     ]
    },
    {
     "name": "stdout",
     "output_type": "stream",
     "text": [
      "Best model! Average reward = -53.17, Success rate = 1.00%\n",
      "epoch: 220 \t loss: -70.221 \t reward: -56.698\n",
      "epoch: 221 \t loss: -65.809 \t reward: -52.655\n",
      "epoch: 222 \t loss: -78.812 \t reward: -65.400\n",
      "epoch: 223 \t loss: -68.370 \t reward: -49.881\n",
      "epoch: 224 \t loss: -74.199 \t reward: -55.921\n",
      "epoch: 225 \t loss: -98.237 \t reward: -83.460\n",
      "epoch: 226 \t loss: -60.625 \t reward: -48.953\n",
      "epoch: 227 \t loss: -77.113 \t reward: -56.380\n",
      "epoch: 228 \t loss: -56.763 \t reward: -47.428\n",
      "epoch: 229 \t loss: -63.521 \t reward: -44.670\n"
     ]
    },
    {
     "name": "stderr",
     "output_type": "stream",
     "text": [
      "100%|████████████████████████| 100/100 [00:07<00:00, 13.87it/s]\n"
     ]
    },
    {
     "name": "stdout",
     "output_type": "stream",
     "text": [
      "Best model! Average reward = -46.79, Success rate = 2.00%\n",
      "epoch: 230 \t loss: -68.544 \t reward: -56.109\n",
      "epoch: 231 \t loss: -59.820 \t reward: -51.651\n",
      "epoch: 232 \t loss: -72.147 \t reward: -53.715\n",
      "epoch: 233 \t loss: -46.231 \t reward: -32.235\n",
      "epoch: 234 \t loss: -71.686 \t reward: -55.488\n",
      "epoch: 235 \t loss: -43.502 \t reward: -24.701\n",
      "epoch: 236 \t loss: -68.891 \t reward: -45.832\n",
      "epoch: 237 \t loss: -49.367 \t reward: -30.873\n",
      "epoch: 238 \t loss: -61.555 \t reward: -41.112\n",
      "epoch: 239 \t loss: -59.752 \t reward: -41.647\n"
     ]
    },
    {
     "name": "stderr",
     "output_type": "stream",
     "text": [
      "100%|████████████████████████| 100/100 [00:05<00:00, 19.44it/s]\n"
     ]
    },
    {
     "name": "stdout",
     "output_type": "stream",
     "text": [
      "Best model! Average reward = -46.12, Success rate = 0.00%\n",
      "epoch: 240 \t loss: -48.241 \t reward: -22.796\n",
      "epoch: 241 \t loss: -68.803 \t reward: -51.785\n",
      "epoch: 242 \t loss: -50.920 \t reward: -38.855\n",
      "epoch: 243 \t loss: -70.190 \t reward: -40.535\n",
      "epoch: 244 \t loss: -54.766 \t reward: -35.570\n",
      "epoch: 245 \t loss: -52.199 \t reward: -25.752\n",
      "epoch: 246 \t loss: -76.374 \t reward: -56.105\n",
      "epoch: 247 \t loss: -67.657 \t reward: -47.787\n",
      "epoch: 248 \t loss: -62.028 \t reward: -43.697\n",
      "epoch: 249 \t loss: -58.098 \t reward: -28.316\n"
     ]
    },
    {
     "name": "stderr",
     "output_type": "stream",
     "text": [
      "100%|████████████████████████| 100/100 [00:05<00:00, 17.44it/s]\n"
     ]
    },
    {
     "name": "stdout",
     "output_type": "stream",
     "text": [
      "Best model! Average reward = -30.36, Success rate = 0.00%\n",
      "epoch: 250 \t loss: -39.463 \t reward: -27.401\n",
      "epoch: 251 \t loss: -66.128 \t reward: -28.781\n",
      "epoch: 252 \t loss: -45.368 \t reward: -29.701\n",
      "epoch: 253 \t loss: -66.783 \t reward: -33.506\n",
      "epoch: 254 \t loss: -37.094 \t reward: -22.571\n",
      "epoch: 255 \t loss: -38.091 \t reward: -14.098\n",
      "epoch: 256 \t loss: -77.023 \t reward: -54.055\n",
      "epoch: 257 \t loss: -52.857 \t reward: -33.060\n",
      "epoch: 258 \t loss: -39.483 \t reward: -29.031\n",
      "epoch: 259 \t loss: -63.498 \t reward: -14.135\n"
     ]
    },
    {
     "name": "stderr",
     "output_type": "stream",
     "text": [
      "100%|████████████████████████| 100/100 [00:21<00:00,  4.55it/s]\n"
     ]
    },
    {
     "name": "stdout",
     "output_type": "stream",
     "text": [
      "epoch: 260 \t loss: -64.397 \t reward: -35.851\n",
      "epoch: 261 \t loss: -56.149 \t reward: -22.085\n",
      "epoch: 262 \t loss: -69.457 \t reward: -98.090\n",
      "epoch: 263 \t loss: -78.586 \t reward: -48.058\n",
      "epoch: 264 \t loss: -46.170 \t reward: -24.184\n",
      "epoch: 265 \t loss: -61.476 \t reward: -31.560\n",
      "epoch: 266 \t loss: -21.459 \t reward: 0.353\n",
      "epoch: 267 \t loss: -51.209 \t reward: -32.658\n",
      "epoch: 268 \t loss: -64.365 \t reward: -48.677\n",
      "epoch: 269 \t loss: -70.350 \t reward: -28.283\n"
     ]
    },
    {
     "name": "stderr",
     "output_type": "stream",
     "text": [
      "100%|████████████████████████| 100/100 [00:30<00:00,  3.25it/s]\n"
     ]
    },
    {
     "name": "stdout",
     "output_type": "stream",
     "text": [
      "Best model! Average reward = -20.05, Success rate = 7.00%\n",
      "epoch: 270 \t loss: -65.350 \t reward: -52.565\n",
      "epoch: 271 \t loss: -54.716 \t reward: -16.198\n",
      "epoch: 272 \t loss: -50.467 \t reward: -9.880\n",
      "epoch: 273 \t loss: -18.448 \t reward: 24.472\n",
      "epoch: 274 \t loss: -77.637 \t reward: -41.531\n",
      "epoch: 275 \t loss: -37.702 \t reward: -18.470\n",
      "epoch: 276 \t loss: -75.711 \t reward: -53.060\n",
      "epoch: 277 \t loss: -27.301 \t reward: -2.622\n",
      "epoch: 278 \t loss: -51.644 \t reward: -9.206\n",
      "epoch: 279 \t loss: -59.590 \t reward: -31.784\n"
     ]
    },
    {
     "name": "stderr",
     "output_type": "stream",
     "text": [
      "100%|████████████████████████| 100/100 [00:17<00:00,  5.84it/s]\n"
     ]
    },
    {
     "name": "stdout",
     "output_type": "stream",
     "text": [
      "Best model! Average reward = -18.86, Success rate = 1.00%\n",
      "epoch: 280 \t loss: -65.742 \t reward: -16.060\n",
      "epoch: 281 \t loss: -35.574 \t reward: -20.381\n",
      "epoch: 282 \t loss: -39.918 \t reward: -31.217\n",
      "epoch: 283 \t loss: -61.760 \t reward: -38.388\n",
      "epoch: 284 \t loss: -28.791 \t reward: -9.984\n",
      "epoch: 285 \t loss: -54.607 \t reward: -14.526\n",
      "epoch: 286 \t loss: -87.111 \t reward: -26.645\n",
      "epoch: 287 \t loss: -34.379 \t reward: -5.601\n",
      "epoch: 288 \t loss: -46.217 \t reward: -25.070\n",
      "epoch: 289 \t loss: -34.794 \t reward: -1.112\n"
     ]
    },
    {
     "name": "stderr",
     "output_type": "stream",
     "text": [
      "100%|████████████████████████| 100/100 [00:10<00:00,  9.17it/s]\n"
     ]
    },
    {
     "name": "stdout",
     "output_type": "stream",
     "text": [
      "epoch: 290 \t loss: -30.401 \t reward: -10.347\n",
      "epoch: 291 \t loss: -30.424 \t reward: -10.913\n",
      "epoch: 292 \t loss: -35.199 \t reward: -10.616\n",
      "epoch: 293 \t loss: -20.336 \t reward: -4.613\n",
      "epoch: 294 \t loss: -58.902 \t reward: -11.011\n",
      "epoch: 295 \t loss: -57.456 \t reward: -20.068\n",
      "epoch: 296 \t loss: -46.553 \t reward: -5.153\n",
      "epoch: 297 \t loss: -39.585 \t reward: -16.791\n",
      "epoch: 298 \t loss: -49.626 \t reward: -19.352\n",
      "epoch: 299 \t loss: -49.427 \t reward: -10.641\n"
     ]
    },
    {
     "name": "stderr",
     "output_type": "stream",
     "text": [
      "100%|████████████████████████| 100/100 [00:13<00:00,  7.59it/s]\n"
     ]
    },
    {
     "name": "stdout",
     "output_type": "stream",
     "text": [
      "Best model! Average reward = -18.41, Success rate = 4.00%\n",
      "epoch: 300 \t loss: -50.016 \t reward: -23.173\n",
      "epoch: 301 \t loss: -31.563 \t reward: -5.673\n",
      "epoch: 302 \t loss: -20.255 \t reward: -1.112\n",
      "epoch: 303 \t loss: -35.451 \t reward: -14.558\n",
      "epoch: 304 \t loss: -19.446 \t reward: 2.011\n",
      "epoch: 305 \t loss: -35.641 \t reward: -13.697\n",
      "epoch: 306 \t loss: -65.087 \t reward: -36.692\n",
      "epoch: 307 \t loss: -24.576 \t reward: -2.012\n",
      "epoch: 308 \t loss: -76.808 \t reward: -23.094\n",
      "epoch: 309 \t loss: -42.082 \t reward: 30.617\n"
     ]
    },
    {
     "name": "stderr",
     "output_type": "stream",
     "text": [
      "100%|████████████████████████| 100/100 [00:19<00:00,  5.11it/s]\n"
     ]
    },
    {
     "name": "stdout",
     "output_type": "stream",
     "text": [
      "Best model! Average reward = -11.46, Success rate = 2.00%\n",
      "epoch: 310 \t loss: -35.219 \t reward: -1.980\n",
      "epoch: 311 \t loss: -103.785 \t reward: -31.994\n",
      "epoch: 312 \t loss: -81.607 \t reward: -7.872\n",
      "epoch: 313 \t loss: -52.835 \t reward: 3.603\n",
      "epoch: 314 \t loss: -33.299 \t reward: 16.455\n",
      "epoch: 315 \t loss: -22.533 \t reward: 13.336\n",
      "epoch: 316 \t loss: -33.930 \t reward: -10.282\n",
      "epoch: 317 \t loss: -72.699 \t reward: -10.028\n",
      "epoch: 318 \t loss: -75.305 \t reward: -22.918\n",
      "epoch: 319 \t loss: -36.304 \t reward: -16.364\n"
     ]
    },
    {
     "name": "stderr",
     "output_type": "stream",
     "text": [
      "100%|████████████████████████| 100/100 [00:20<00:00,  4.79it/s]\n"
     ]
    },
    {
     "name": "stdout",
     "output_type": "stream",
     "text": [
      "Best model! Average reward = -0.49, Success rate = 5.00%\n",
      "epoch: 320 \t loss: -63.702 \t reward: -20.016\n",
      "epoch: 321 \t loss: -36.979 \t reward: -5.657\n",
      "epoch: 322 \t loss: -43.341 \t reward: -11.863\n",
      "epoch: 323 \t loss: -32.003 \t reward: -3.881\n",
      "epoch: 324 \t loss: -17.224 \t reward: 6.816\n",
      "epoch: 325 \t loss: -18.010 \t reward: 7.407\n",
      "epoch: 326 \t loss: -36.393 \t reward: 0.945\n",
      "epoch: 327 \t loss: -36.602 \t reward: 9.197\n",
      "epoch: 328 \t loss: -60.348 \t reward: 12.152\n",
      "epoch: 329 \t loss: -58.459 \t reward: -24.762\n"
     ]
    },
    {
     "name": "stderr",
     "output_type": "stream",
     "text": [
      "100%|████████████████████████| 100/100 [00:31<00:00,  3.21it/s]\n"
     ]
    },
    {
     "name": "stdout",
     "output_type": "stream",
     "text": [
      "epoch: 330 \t loss: -168.674 \t reward: -41.925\n",
      "epoch: 331 \t loss: -55.486 \t reward: -2.793\n",
      "epoch: 332 \t loss: -16.903 \t reward: 15.309\n",
      "epoch: 333 \t loss: -67.610 \t reward: 2.249\n",
      "epoch: 334 \t loss: -48.088 \t reward: -16.751\n",
      "epoch: 335 \t loss: -29.628 \t reward: 23.665\n",
      "epoch: 336 \t loss: -28.306 \t reward: -8.093\n",
      "epoch: 337 \t loss: -64.501 \t reward: 6.023\n",
      "epoch: 338 \t loss: -39.952 \t reward: -9.622\n",
      "epoch: 339 \t loss: -34.607 \t reward: 5.142\n"
     ]
    },
    {
     "name": "stderr",
     "output_type": "stream",
     "text": [
      "100%|████████████████████████| 100/100 [00:37<00:00,  2.67it/s]\n"
     ]
    },
    {
     "name": "stdout",
     "output_type": "stream",
     "text": [
      "epoch: 340 \t loss: -34.233 \t reward: 7.630\n",
      "epoch: 341 \t loss: -16.046 \t reward: 14.633\n",
      "epoch: 342 \t loss: -42.166 \t reward: -2.805\n",
      "epoch: 343 \t loss: -55.451 \t reward: -0.964\n",
      "epoch: 344 \t loss: -28.851 \t reward: 12.640\n",
      "epoch: 345 \t loss: -198.478 \t reward: -81.423\n",
      "epoch: 346 \t loss: -50.173 \t reward: -18.755\n",
      "epoch: 347 \t loss: -46.644 \t reward: 4.468\n",
      "epoch: 348 \t loss: -32.574 \t reward: 7.753\n",
      "epoch: 349 \t loss: -23.336 \t reward: 19.035\n"
     ]
    },
    {
     "name": "stderr",
     "output_type": "stream",
     "text": [
      "100%|████████████████████████| 100/100 [00:16<00:00,  5.90it/s]\n"
     ]
    },
    {
     "name": "stdout",
     "output_type": "stream",
     "text": [
      "Best model! Average reward = 1.55, Success rate = 1.00%\n",
      "epoch: 350 \t loss: -27.738 \t reward: 11.136\n",
      "epoch: 351 \t loss: -37.785 \t reward: -5.005\n",
      "epoch: 352 \t loss: -41.396 \t reward: 12.382\n",
      "epoch: 353 \t loss: -72.071 \t reward: -18.803\n",
      "epoch: 354 \t loss: -27.512 \t reward: -4.505\n",
      "epoch: 355 \t loss: -38.175 \t reward: 12.809\n",
      "epoch: 356 \t loss: -56.970 \t reward: 13.254\n",
      "epoch: 357 \t loss: -46.317 \t reward: 5.337\n",
      "epoch: 358 \t loss: -50.396 \t reward: 1.810\n",
      "epoch: 359 \t loss: -34.978 \t reward: 14.574\n"
     ]
    },
    {
     "name": "stderr",
     "output_type": "stream",
     "text": [
      "100%|████████████████████████| 100/100 [00:37<00:00,  2.67it/s]\n"
     ]
    },
    {
     "name": "stdout",
     "output_type": "stream",
     "text": [
      "Best model! Average reward = 11.09, Success rate = 3.00%\n",
      "epoch: 360 \t loss: -10.933 \t reward: 12.510\n",
      "epoch: 361 \t loss: -22.405 \t reward: 9.941\n",
      "epoch: 362 \t loss: -20.896 \t reward: -8.471\n",
      "epoch: 363 \t loss: -43.296 \t reward: 5.092\n",
      "epoch: 364 \t loss: -13.341 \t reward: 6.783\n",
      "epoch: 365 \t loss: -12.907 \t reward: 31.529\n",
      "epoch: 366 \t loss: -35.351 \t reward: -0.090\n",
      "epoch: 367 \t loss: -17.603 \t reward: 12.865\n",
      "epoch: 368 \t loss: -10.849 \t reward: 15.779\n",
      "epoch: 369 \t loss: -125.138 \t reward: -27.619\n"
     ]
    },
    {
     "name": "stderr",
     "output_type": "stream",
     "text": [
      "100%|████████████████████████| 100/100 [00:24<00:00,  4.09it/s]\n"
     ]
    },
    {
     "name": "stdout",
     "output_type": "stream",
     "text": [
      "epoch: 370 \t loss: -47.152 \t reward: -0.049\n",
      "epoch: 371 \t loss: -35.493 \t reward: 1.908\n",
      "epoch: 372 \t loss: -43.916 \t reward: -1.546\n",
      "epoch: 373 \t loss: -26.861 \t reward: 3.921\n",
      "epoch: 374 \t loss: -15.311 \t reward: 11.971\n",
      "epoch: 375 \t loss: -16.907 \t reward: 4.097\n",
      "epoch: 376 \t loss: -130.179 \t reward: 4.184\n",
      "epoch: 377 \t loss: -29.888 \t reward: 13.002\n",
      "epoch: 378 \t loss: -22.699 \t reward: 15.900\n",
      "epoch: 379 \t loss: -19.529 \t reward: 3.739\n"
     ]
    },
    {
     "name": "stderr",
     "output_type": "stream",
     "text": [
      "100%|████████████████████████| 100/100 [00:07<00:00, 13.48it/s]\n"
     ]
    },
    {
     "name": "stdout",
     "output_type": "stream",
     "text": [
      "epoch: 380 \t loss: -20.608 \t reward: 7.109\n",
      "epoch: 381 \t loss: -21.679 \t reward: 7.637\n",
      "epoch: 382 \t loss: -22.102 \t reward: 1.067\n",
      "epoch: 383 \t loss: -19.716 \t reward: 5.057\n",
      "epoch: 384 \t loss: -13.621 \t reward: 11.749\n",
      "epoch: 385 \t loss: -11.748 \t reward: 8.260\n",
      "epoch: 386 \t loss: -21.819 \t reward: -1.311\n",
      "epoch: 387 \t loss: -23.114 \t reward: 7.849\n",
      "epoch: 388 \t loss: -16.637 \t reward: 13.378\n",
      "epoch: 389 \t loss: -19.459 \t reward: 7.244\n"
     ]
    },
    {
     "name": "stderr",
     "output_type": "stream",
     "text": [
      "100%|████████████████████████| 100/100 [00:12<00:00,  7.93it/s]\n"
     ]
    },
    {
     "name": "stdout",
     "output_type": "stream",
     "text": [
      "epoch: 390 \t loss: 7.303 \t reward: 12.105\n",
      "epoch: 391 \t loss: -28.178 \t reward: 4.757\n",
      "epoch: 392 \t loss: -40.172 \t reward: -3.397\n",
      "epoch: 393 \t loss: -27.429 \t reward: -5.674\n",
      "epoch: 394 \t loss: -27.305 \t reward: -7.403\n",
      "epoch: 395 \t loss: -18.354 \t reward: 7.985\n",
      "epoch: 396 \t loss: -27.328 \t reward: 0.615\n",
      "epoch: 397 \t loss: -10.141 \t reward: 19.231\n",
      "epoch: 398 \t loss: 14.022 \t reward: 38.335\n",
      "epoch: 399 \t loss: -25.247 \t reward: 14.458\n"
     ]
    },
    {
     "name": "stderr",
     "output_type": "stream",
     "text": [
      "100%|████████████████████████| 100/100 [00:46<00:00,  2.13it/s]\n"
     ]
    },
    {
     "name": "stdout",
     "output_type": "stream",
     "text": [
      "epoch: 400 \t loss: 2.810 \t reward: 31.057\n",
      "epoch: 401 \t loss: -13.815 \t reward: 7.760\n",
      "epoch: 402 \t loss: 40.770 \t reward: 66.229\n",
      "epoch: 403 \t loss: 19.323 \t reward: 92.801\n",
      "epoch: 404 \t loss: -14.956 \t reward: 37.017\n",
      "epoch: 405 \t loss: -23.056 \t reward: 20.902\n",
      "epoch: 406 \t loss: -12.458 \t reward: 19.272\n",
      "epoch: 407 \t loss: 0.376 \t reward: 31.506\n",
      "epoch: 408 \t loss: -12.196 \t reward: 11.561\n",
      "epoch: 409 \t loss: -1.572 \t reward: 26.403\n"
     ]
    },
    {
     "name": "stderr",
     "output_type": "stream",
     "text": [
      "100%|████████████████████████| 100/100 [00:19<00:00,  5.12it/s]\n"
     ]
    },
    {
     "name": "stdout",
     "output_type": "stream",
     "text": [
      "epoch: 410 \t loss: -27.639 \t reward: -4.414\n",
      "epoch: 411 \t loss: -48.210 \t reward: -15.113\n",
      "epoch: 412 \t loss: -21.887 \t reward: 15.108\n",
      "epoch: 413 \t loss: 26.374 \t reward: 55.087\n",
      "epoch: 414 \t loss: -2.234 \t reward: 28.327\n",
      "epoch: 415 \t loss: -31.233 \t reward: 5.926\n",
      "epoch: 416 \t loss: -17.048 \t reward: -1.023\n",
      "epoch: 417 \t loss: 43.445 \t reward: 71.723\n",
      "epoch: 418 \t loss: -48.030 \t reward: -6.945\n",
      "epoch: 419 \t loss: -18.155 \t reward: 27.023\n"
     ]
    },
    {
     "name": "stderr",
     "output_type": "stream",
     "text": [
      "100%|████████████████████████| 100/100 [00:14<00:00,  6.87it/s]\n"
     ]
    },
    {
     "name": "stdout",
     "output_type": "stream",
     "text": [
      "Best model! Average reward = 30.77, Success rate = 8.00%\n",
      "epoch: 420 \t loss: 7.853 \t reward: 38.597\n",
      "epoch: 421 \t loss: 26.684 \t reward: 38.948\n",
      "epoch: 422 \t loss: 47.840 \t reward: 79.083\n",
      "epoch: 423 \t loss: -67.598 \t reward: 6.210\n",
      "epoch: 424 \t loss: -8.034 \t reward: 29.579\n",
      "epoch: 425 \t loss: -8.410 \t reward: 22.295\n",
      "epoch: 426 \t loss: 14.246 \t reward: 28.210\n",
      "epoch: 427 \t loss: 9.526 \t reward: 36.310\n",
      "epoch: 428 \t loss: -47.765 \t reward: -6.579\n",
      "epoch: 429 \t loss: -30.001 \t reward: 28.013\n"
     ]
    },
    {
     "name": "stderr",
     "output_type": "stream",
     "text": [
      "100%|████████████████████████| 100/100 [00:34<00:00,  2.88it/s]\n"
     ]
    },
    {
     "name": "stdout",
     "output_type": "stream",
     "text": [
      "Best model! Average reward = 38.84, Success rate = 13.00%\n",
      "epoch: 430 \t loss: 13.104 \t reward: 42.013\n",
      "epoch: 431 \t loss: 30.795 \t reward: 37.978\n",
      "epoch: 432 \t loss: -9.090 \t reward: 27.429\n",
      "epoch: 433 \t loss: 12.816 \t reward: 57.212\n",
      "epoch: 434 \t loss: 7.900 \t reward: 46.274\n",
      "epoch: 435 \t loss: 85.242 \t reward: 145.697\n",
      "epoch: 436 \t loss: -11.091 \t reward: 26.145\n",
      "epoch: 437 \t loss: -81.693 \t reward: 2.889\n",
      "epoch: 438 \t loss: 19.379 \t reward: 43.506\n",
      "epoch: 439 \t loss: -16.441 \t reward: 34.492\n"
     ]
    },
    {
     "name": "stderr",
     "output_type": "stream",
     "text": [
      "100%|████████████████████████| 100/100 [00:54<00:00,  1.84it/s]\n"
     ]
    },
    {
     "name": "stdout",
     "output_type": "stream",
     "text": [
      "epoch: 440 \t loss: -13.970 \t reward: 24.233\n",
      "epoch: 441 \t loss: 55.505 \t reward: 98.400\n",
      "epoch: 442 \t loss: 10.133 \t reward: 47.395\n",
      "epoch: 443 \t loss: 46.799 \t reward: 67.346\n",
      "epoch: 444 \t loss: -0.889 \t reward: 20.744\n",
      "epoch: 445 \t loss: 36.637 \t reward: 69.793\n",
      "epoch: 446 \t loss: -82.832 \t reward: -6.030\n",
      "epoch: 447 \t loss: 40.605 \t reward: 65.461\n",
      "epoch: 448 \t loss: -81.666 \t reward: -4.332\n",
      "epoch: 449 \t loss: 4.704 \t reward: 45.304\n"
     ]
    },
    {
     "name": "stderr",
     "output_type": "stream",
     "text": [
      "100%|████████████████████████| 100/100 [00:21<00:00,  4.66it/s]\n"
     ]
    },
    {
     "name": "stdout",
     "output_type": "stream",
     "text": [
      "Best model! Average reward = 39.74, Success rate = 11.00%\n",
      "epoch: 450 \t loss: 7.557 \t reward: 30.766\n",
      "epoch: 451 \t loss: -45.977 \t reward: 11.240\n",
      "epoch: 452 \t loss: 13.033 \t reward: 36.954\n",
      "epoch: 453 \t loss: -69.201 \t reward: -5.873\n",
      "epoch: 454 \t loss: 9.969 \t reward: 42.411\n",
      "epoch: 455 \t loss: -27.267 \t reward: 5.545\n",
      "epoch: 456 \t loss: -24.324 \t reward: 9.351\n",
      "epoch: 457 \t loss: -15.363 \t reward: 17.611\n",
      "epoch: 458 \t loss: -64.052 \t reward: -9.431\n",
      "epoch: 459 \t loss: -5.092 \t reward: 25.417\n"
     ]
    },
    {
     "name": "stderr",
     "output_type": "stream",
     "text": [
      "100%|████████████████████████| 100/100 [00:10<00:00,  9.60it/s]\n"
     ]
    },
    {
     "name": "stdout",
     "output_type": "stream",
     "text": [
      "epoch: 460 \t loss: -20.856 \t reward: -0.225\n",
      "epoch: 461 \t loss: -12.635 \t reward: 20.460\n",
      "epoch: 462 \t loss: -30.519 \t reward: 11.749\n",
      "epoch: 463 \t loss: 1.234 \t reward: 30.418\n",
      "epoch: 464 \t loss: -16.973 \t reward: 9.302\n",
      "epoch: 465 \t loss: 8.399 \t reward: 23.227\n",
      "epoch: 466 \t loss: -13.594 \t reward: 13.153\n",
      "epoch: 467 \t loss: -6.064 \t reward: 20.868\n",
      "epoch: 468 \t loss: 15.188 \t reward: 32.196\n",
      "epoch: 469 \t loss: 12.144 \t reward: 30.726\n"
     ]
    },
    {
     "name": "stderr",
     "output_type": "stream",
     "text": [
      "100%|████████████████████████| 100/100 [00:07<00:00, 13.12it/s]\n"
     ]
    },
    {
     "name": "stdout",
     "output_type": "stream",
     "text": [
      "epoch: 470 \t loss: -2.421 \t reward: 23.405\n",
      "epoch: 471 \t loss: 40.873 \t reward: 51.463\n",
      "epoch: 472 \t loss: 12.101 \t reward: 24.530\n",
      "epoch: 473 \t loss: -6.025 \t reward: 24.776\n",
      "epoch: 474 \t loss: -4.858 \t reward: 23.790\n",
      "epoch: 475 \t loss: 16.408 \t reward: 36.238\n",
      "epoch: 476 \t loss: 19.090 \t reward: 27.805\n",
      "epoch: 477 \t loss: 21.641 \t reward: 36.636\n",
      "epoch: 478 \t loss: 37.096 \t reward: 60.832\n",
      "epoch: 479 \t loss: 22.970 \t reward: 40.695\n"
     ]
    },
    {
     "name": "stderr",
     "output_type": "stream",
     "text": [
      "100%|████████████████████████| 100/100 [00:09<00:00, 10.13it/s]\n"
     ]
    },
    {
     "name": "stdout",
     "output_type": "stream",
     "text": [
      "epoch: 480 \t loss: -6.627 \t reward: 22.677\n",
      "epoch: 481 \t loss: 14.503 \t reward: 32.555\n",
      "epoch: 482 \t loss: -3.667 \t reward: 28.872\n",
      "epoch: 483 \t loss: 19.605 \t reward: 44.008\n",
      "epoch: 484 \t loss: -11.519 \t reward: 23.439\n",
      "epoch: 485 \t loss: -21.738 \t reward: 6.859\n",
      "epoch: 486 \t loss: 22.626 \t reward: 37.301\n",
      "epoch: 487 \t loss: -7.737 \t reward: 29.197\n",
      "epoch: 488 \t loss: -16.198 \t reward: 22.513\n",
      "epoch: 489 \t loss: 27.382 \t reward: 41.558\n"
     ]
    },
    {
     "name": "stderr",
     "output_type": "stream",
     "text": [
      "100%|████████████████████████| 100/100 [00:17<00:00,  5.59it/s]\n"
     ]
    },
    {
     "name": "stdout",
     "output_type": "stream",
     "text": [
      "Best model! Average reward = 47.16, Success rate = 16.00%\n",
      "epoch: 490 \t loss: -5.299 \t reward: 29.030\n",
      "epoch: 491 \t loss: -5.238 \t reward: 29.051\n",
      "epoch: 492 \t loss: 46.552 \t reward: 69.925\n",
      "epoch: 493 \t loss: -7.174 \t reward: 14.812\n",
      "epoch: 494 \t loss: -20.260 \t reward: 35.927\n",
      "epoch: 495 \t loss: 18.510 \t reward: 47.406\n",
      "epoch: 496 \t loss: 17.847 \t reward: 67.203\n",
      "epoch: 497 \t loss: -26.359 \t reward: 55.568\n",
      "epoch: 498 \t loss: 20.996 \t reward: 53.213\n",
      "epoch: 499 \t loss: -69.435 \t reward: -39.683\n"
     ]
    },
    {
     "name": "stderr",
     "output_type": "stream",
     "text": [
      "100%|████████████████████████| 100/100 [00:45<00:00,  2.20it/s]\n"
     ]
    },
    {
     "name": "stdout",
     "output_type": "stream",
     "text": [
      "epoch: 500 \t loss: 31.120 \t reward: 87.978\n",
      "epoch: 501 \t loss: 56.745 \t reward: 97.182\n",
      "epoch: 502 \t loss: -133.920 \t reward: -59.128\n",
      "epoch: 503 \t loss: -14.082 \t reward: 15.697\n",
      "epoch: 504 \t loss: -20.418 \t reward: -6.038\n",
      "epoch: 505 \t loss: -20.637 \t reward: 15.448\n",
      "epoch: 506 \t loss: 55.532 \t reward: 170.106\n",
      "epoch: 507 \t loss: -8.276 \t reward: 48.040\n",
      "epoch: 508 \t loss: -76.451 \t reward: -14.369\n",
      "epoch: 509 \t loss: -72.234 \t reward: -53.824\n"
     ]
    },
    {
     "name": "stderr",
     "output_type": "stream",
     "text": [
      "100%|████████████████████████| 100/100 [01:27<00:00,  1.15it/s]\n"
     ]
    },
    {
     "name": "stdout",
     "output_type": "stream",
     "text": [
      "epoch: 510 \t loss: -27.162 \t reward: -3.649\n",
      "epoch: 511 \t loss: -22.639 \t reward: 4.268\n",
      "epoch: 512 \t loss: -71.474 \t reward: -44.273\n",
      "epoch: 513 \t loss: -22.937 \t reward: 7.020\n",
      "epoch: 514 \t loss: -41.279 \t reward: -37.515\n",
      "epoch: 515 \t loss: -47.415 \t reward: 8.424\n",
      "epoch: 516 \t loss: -17.546 \t reward: 17.181\n",
      "epoch: 517 \t loss: 6.479 \t reward: 72.011\n",
      "epoch: 518 \t loss: -62.057 \t reward: -20.277\n",
      "epoch: 519 \t loss: -63.100 \t reward: -40.981\n"
     ]
    },
    {
     "name": "stderr",
     "output_type": "stream",
     "text": [
      "100%|████████████████████████| 100/100 [01:41<00:00,  1.01s/it]\n"
     ]
    },
    {
     "name": "stdout",
     "output_type": "stream",
     "text": [
      "epoch: 520 \t loss: -168.165 \t reward: -113.278\n",
      "epoch: 521 \t loss: 55.436 \t reward: 134.932\n",
      "epoch: 522 \t loss: 46.962 \t reward: 137.857\n",
      "epoch: 523 \t loss: -64.406 \t reward: -8.647\n",
      "epoch: 524 \t loss: -50.249 \t reward: 12.952\n",
      "epoch: 525 \t loss: 14.860 \t reward: 62.727\n",
      "epoch: 526 \t loss: 3.548 \t reward: 92.366\n",
      "epoch: 527 \t loss: -8.524 \t reward: 28.773\n",
      "epoch: 528 \t loss: 41.258 \t reward: 113.935\n",
      "epoch: 529 \t loss: 38.141 \t reward: 68.437\n"
     ]
    },
    {
     "name": "stderr",
     "output_type": "stream",
     "text": [
      "100%|████████████████████████| 100/100 [01:52<00:00,  1.12s/it]\n"
     ]
    },
    {
     "name": "stdout",
     "output_type": "stream",
     "text": [
      "Best model! Average reward = 59.62, Success rate = 50.00%\n",
      "epoch: 530 \t loss: -39.274 \t reward: -0.765\n",
      "epoch: 531 \t loss: -33.201 \t reward: 20.477\n",
      "epoch: 532 \t loss: 8.016 \t reward: 93.901\n",
      "epoch: 533 \t loss: -1.784 \t reward: 31.685\n",
      "epoch: 534 \t loss: 46.927 \t reward: 134.003\n",
      "epoch: 535 \t loss: 34.518 \t reward: 90.134\n",
      "epoch: 536 \t loss: -155.587 \t reward: -132.174\n",
      "epoch: 537 \t loss: 70.427 \t reward: 99.922\n",
      "epoch: 538 \t loss: -161.115 \t reward: -165.385\n",
      "epoch: 539 \t loss: -9.699 \t reward: 36.201\n"
     ]
    },
    {
     "name": "stderr",
     "output_type": "stream",
     "text": [
      "100%|████████████████████████| 100/100 [02:31<00:00,  1.51s/it]\n"
     ]
    },
    {
     "name": "stdout",
     "output_type": "stream",
     "text": [
      "epoch: 540 \t loss: 47.209 \t reward: 78.300\n",
      "epoch: 541 \t loss: -40.926 \t reward: 2.421\n",
      "epoch: 542 \t loss: 52.161 \t reward: 95.743\n",
      "epoch: 543 \t loss: 26.732 \t reward: 38.067\n",
      "epoch: 544 \t loss: 54.024 \t reward: 96.037\n",
      "epoch: 545 \t loss: -48.120 \t reward: -30.421\n",
      "epoch: 546 \t loss: -20.872 \t reward: 4.239\n",
      "epoch: 547 \t loss: -24.722 \t reward: 27.336\n",
      "epoch: 548 \t loss: -109.535 \t reward: -81.364\n",
      "epoch: 549 \t loss: -31.073 \t reward: -1.491\n"
     ]
    },
    {
     "name": "stderr",
     "output_type": "stream",
     "text": [
      "100%|████████████████████████| 100/100 [01:50<00:00,  1.11s/it]\n"
     ]
    },
    {
     "name": "stdout",
     "output_type": "stream",
     "text": [
      "epoch: 550 \t loss: -120.486 \t reward: -92.358\n",
      "epoch: 551 \t loss: 41.677 \t reward: 91.427\n",
      "epoch: 552 \t loss: 8.537 \t reward: 82.816\n",
      "epoch: 553 \t loss: -93.324 \t reward: -19.325\n",
      "epoch: 554 \t loss: 5.572 \t reward: 85.325\n",
      "epoch: 555 \t loss: -124.267 \t reward: -72.895\n",
      "epoch: 556 \t loss: 38.924 \t reward: 125.248\n",
      "epoch: 557 \t loss: -2.986 \t reward: 69.358\n",
      "epoch: 558 \t loss: -6.641 \t reward: 16.778\n",
      "epoch: 559 \t loss: -213.578 \t reward: -129.898\n"
     ]
    },
    {
     "name": "stderr",
     "output_type": "stream",
     "text": [
      "100%|████████████████████████| 100/100 [01:02<00:00,  1.59it/s]\n"
     ]
    },
    {
     "name": "stdout",
     "output_type": "stream",
     "text": [
      "Best model! Average reward = 74.03, Success rate = 50.00%\n",
      "epoch: 560 \t loss: 60.340 \t reward: 78.899\n",
      "epoch: 561 \t loss: 3.088 \t reward: 38.282\n",
      "epoch: 562 \t loss: 2.332 \t reward: 54.574\n",
      "epoch: 563 \t loss: -43.376 \t reward: 93.000\n",
      "epoch: 564 \t loss: -44.184 \t reward: -14.386\n",
      "epoch: 565 \t loss: -37.822 \t reward: 2.611\n",
      "epoch: 566 \t loss: 25.405 \t reward: 73.039\n",
      "epoch: 567 \t loss: -12.438 \t reward: 42.264\n",
      "epoch: 568 \t loss: 16.214 \t reward: 63.738\n",
      "epoch: 569 \t loss: 41.201 \t reward: 61.128\n"
     ]
    },
    {
     "name": "stderr",
     "output_type": "stream",
     "text": [
      "100%|████████████████████████| 100/100 [00:16<00:00,  5.93it/s]\n"
     ]
    },
    {
     "name": "stdout",
     "output_type": "stream",
     "text": [
      "epoch: 570 \t loss: 31.270 \t reward: 57.179\n",
      "epoch: 571 \t loss: -1.385 \t reward: 36.352\n",
      "epoch: 572 \t loss: -13.376 \t reward: 18.646\n",
      "epoch: 573 \t loss: 21.038 \t reward: 45.762\n",
      "epoch: 574 \t loss: 12.333 \t reward: 44.689\n",
      "epoch: 575 \t loss: -12.612 \t reward: 21.851\n",
      "epoch: 576 \t loss: -35.114 \t reward: 9.806\n",
      "epoch: 577 \t loss: 13.585 \t reward: 29.962\n",
      "epoch: 578 \t loss: 10.567 \t reward: 44.557\n",
      "epoch: 579 \t loss: 4.144 \t reward: 32.279\n"
     ]
    },
    {
     "name": "stderr",
     "output_type": "stream",
     "text": [
      "100%|████████████████████████| 100/100 [00:06<00:00, 15.50it/s]\n"
     ]
    },
    {
     "name": "stdout",
     "output_type": "stream",
     "text": [
      "epoch: 580 \t loss: -0.721 \t reward: 31.556\n",
      "epoch: 581 \t loss: -0.836 \t reward: 28.618\n",
      "epoch: 582 \t loss: 18.173 \t reward: 38.217\n",
      "epoch: 583 \t loss: -49.087 \t reward: 4.227\n",
      "epoch: 584 \t loss: -1.361 \t reward: 33.404\n",
      "epoch: 585 \t loss: -5.849 \t reward: 27.543\n",
      "epoch: 586 \t loss: -8.232 \t reward: 20.860\n",
      "epoch: 587 \t loss: -9.903 \t reward: 16.491\n",
      "epoch: 588 \t loss: -0.733 \t reward: 37.250\n",
      "epoch: 589 \t loss: 18.580 \t reward: 46.943\n"
     ]
    },
    {
     "name": "stderr",
     "output_type": "stream",
     "text": [
      "100%|████████████████████████| 100/100 [00:30<00:00,  3.30it/s]\n"
     ]
    },
    {
     "name": "stdout",
     "output_type": "stream",
     "text": [
      "epoch: 590 \t loss: -33.563 \t reward: 46.542\n",
      "epoch: 591 \t loss: -4.056 \t reward: 28.932\n",
      "epoch: 592 \t loss: -42.748 \t reward: 10.702\n",
      "epoch: 593 \t loss: -9.656 \t reward: 28.509\n",
      "epoch: 594 \t loss: 12.999 \t reward: 44.726\n",
      "epoch: 595 \t loss: -2.625 \t reward: 27.193\n",
      "epoch: 596 \t loss: -66.077 \t reward: 4.695\n",
      "epoch: 597 \t loss: 45.220 \t reward: 58.311\n",
      "epoch: 598 \t loss: 12.294 \t reward: 46.741\n",
      "epoch: 599 \t loss: 30.627 \t reward: 64.481\n"
     ]
    },
    {
     "name": "stderr",
     "output_type": "stream",
     "text": [
      "100%|████████████████████████| 100/100 [00:15<00:00,  6.32it/s]\n"
     ]
    },
    {
     "name": "stdout",
     "output_type": "stream",
     "text": [
      "epoch: 600 \t loss: -3.618 \t reward: 38.906\n",
      "epoch: 601 \t loss: -1.347 \t reward: 37.231\n",
      "epoch: 602 \t loss: -19.801 \t reward: 37.852\n",
      "epoch: 603 \t loss: 23.303 \t reward: 60.359\n",
      "epoch: 604 \t loss: 35.957 \t reward: 65.931\n",
      "epoch: 605 \t loss: -5.060 \t reward: 29.509\n",
      "epoch: 606 \t loss: 34.996 \t reward: 58.054\n",
      "epoch: 607 \t loss: 37.391 \t reward: 64.756\n",
      "epoch: 608 \t loss: 56.123 \t reward: 91.715\n",
      "epoch: 609 \t loss: -60.208 \t reward: 15.969\n"
     ]
    },
    {
     "name": "stderr",
     "output_type": "stream",
     "text": [
      "100%|████████████████████████| 100/100 [00:51<00:00,  1.93it/s]\n"
     ]
    },
    {
     "name": "stdout",
     "output_type": "stream",
     "text": [
      "epoch: 610 \t loss: 7.835 \t reward: 60.222\n",
      "epoch: 611 \t loss: 69.820 \t reward: 108.022\n",
      "epoch: 612 \t loss: -16.490 \t reward: 29.868\n",
      "epoch: 613 \t loss: -21.249 \t reward: 15.208\n",
      "epoch: 614 \t loss: -32.337 \t reward: 63.041\n",
      "epoch: 615 \t loss: 31.315 \t reward: 87.001\n",
      "epoch: 616 \t loss: 44.180 \t reward: 111.990\n",
      "epoch: 617 \t loss: 10.316 \t reward: 62.719\n",
      "epoch: 618 \t loss: 38.234 \t reward: 124.293\n",
      "epoch: 619 \t loss: -22.980 \t reward: 70.921\n"
     ]
    },
    {
     "name": "stderr",
     "output_type": "stream",
     "text": [
      "100%|████████████████████████| 100/100 [01:13<00:00,  1.35it/s]\n"
     ]
    },
    {
     "name": "stdout",
     "output_type": "stream",
     "text": [
      "epoch: 620 \t loss: 55.322 \t reward: 102.046\n",
      "epoch: 621 \t loss: 65.952 \t reward: 164.045\n",
      "epoch: 622 \t loss: -58.630 \t reward: 6.081\n",
      "epoch: 623 \t loss: 29.831 \t reward: 146.095\n",
      "epoch: 624 \t loss: 43.237 \t reward: 85.500\n",
      "epoch: 625 \t loss: -16.127 \t reward: 51.586\n",
      "epoch: 626 \t loss: 49.037 \t reward: 108.511\n",
      "epoch: 627 \t loss: -1.776 \t reward: 33.523\n",
      "epoch: 628 \t loss: -104.705 \t reward: -35.065\n",
      "epoch: 629 \t loss: -11.646 \t reward: 61.971\n"
     ]
    },
    {
     "name": "stderr",
     "output_type": "stream",
     "text": [
      "100%|████████████████████████| 100/100 [00:27<00:00,  3.70it/s]\n"
     ]
    },
    {
     "name": "stdout",
     "output_type": "stream",
     "text": [
      "epoch: 630 \t loss: 39.520 \t reward: 70.247\n",
      "epoch: 631 \t loss: 63.444 \t reward: 133.645\n",
      "epoch: 632 \t loss: 76.871 \t reward: 139.600\n",
      "epoch: 633 \t loss: 42.841 \t reward: 83.765\n",
      "epoch: 634 \t loss: 38.392 \t reward: 77.070\n",
      "epoch: 635 \t loss: 23.303 \t reward: 56.665\n",
      "epoch: 636 \t loss: 21.593 \t reward: 53.728\n",
      "epoch: 637 \t loss: 18.675 \t reward: 103.128\n",
      "epoch: 638 \t loss: 10.766 \t reward: 54.648\n",
      "epoch: 639 \t loss: -7.491 \t reward: 55.906\n"
     ]
    },
    {
     "name": "stderr",
     "output_type": "stream",
     "text": [
      "100%|████████████████████████| 100/100 [01:02<00:00,  1.60it/s]\n"
     ]
    },
    {
     "name": "stdout",
     "output_type": "stream",
     "text": [
      "epoch: 640 \t loss: -57.222 \t reward: -11.683\n",
      "epoch: 641 \t loss: 30.871 \t reward: 72.939\n",
      "epoch: 642 \t loss: 20.844 \t reward: 90.372\n",
      "epoch: 643 \t loss: 17.200 \t reward: 93.695\n",
      "epoch: 644 \t loss: 41.898 \t reward: 127.361\n",
      "epoch: 645 \t loss: -55.739 \t reward: -13.247\n",
      "epoch: 646 \t loss: 23.299 \t reward: 99.730\n",
      "epoch: 647 \t loss: -10.705 \t reward: 46.242\n",
      "epoch: 648 \t loss: 20.853 \t reward: 126.514\n",
      "epoch: 649 \t loss: -8.969 \t reward: 49.607\n"
     ]
    },
    {
     "name": "stderr",
     "output_type": "stream",
     "text": [
      "100%|████████████████████████| 100/100 [03:07<00:00,  1.88s/it]\n"
     ]
    },
    {
     "name": "stdout",
     "output_type": "stream",
     "text": [
      "epoch: 650 \t loss: -69.935 \t reward: -28.737\n",
      "epoch: 651 \t loss: 6.655 \t reward: 73.903\n",
      "epoch: 652 \t loss: -6.083 \t reward: 19.968\n",
      "epoch: 653 \t loss: -74.924 \t reward: -24.430\n",
      "epoch: 654 \t loss: -37.556 \t reward: 28.209\n",
      "epoch: 655 \t loss: 36.261 \t reward: 103.617\n",
      "epoch: 656 \t loss: 43.667 \t reward: 137.062\n",
      "epoch: 657 \t loss: 28.929 \t reward: 107.960\n",
      "epoch: 658 \t loss: 44.631 \t reward: 139.326\n",
      "epoch: 659 \t loss: 34.872 \t reward: 122.040\n"
     ]
    },
    {
     "name": "stderr",
     "output_type": "stream",
     "text": [
      "100%|████████████████████████| 100/100 [02:43<00:00,  1.63s/it]\n"
     ]
    },
    {
     "name": "stdout",
     "output_type": "stream",
     "text": [
      "Best model! Average reward = 83.55, Success rate = 64.00%\n",
      "epoch: 660 \t loss: -94.440 \t reward: -57.709\n",
      "epoch: 661 \t loss: -10.508 \t reward: 69.522\n",
      "epoch: 662 \t loss: 8.213 \t reward: 63.019\n",
      "epoch: 663 \t loss: 14.940 \t reward: 119.889\n",
      "epoch: 664 \t loss: 23.930 \t reward: 89.593\n",
      "epoch: 665 \t loss: 47.487 \t reward: 101.648\n",
      "epoch: 666 \t loss: -43.150 \t reward: 27.597\n",
      "epoch: 667 \t loss: 58.764 \t reward: 160.522\n",
      "epoch: 668 \t loss: 1.990 \t reward: 49.413\n",
      "epoch: 669 \t loss: 38.493 \t reward: 109.309\n"
     ]
    },
    {
     "name": "stderr",
     "output_type": "stream",
     "text": [
      "100%|████████████████████████| 100/100 [01:12<00:00,  1.38it/s]\n"
     ]
    },
    {
     "name": "stdout",
     "output_type": "stream",
     "text": [
      "Best model! Average reward = 90.30, Success rate = 58.00%\n",
      "epoch: 670 \t loss: 78.672 \t reward: 154.014\n",
      "epoch: 671 \t loss: 28.444 \t reward: 86.888\n",
      "epoch: 672 \t loss: 72.048 \t reward: 127.302\n",
      "epoch: 673 \t loss: -9.289 \t reward: 72.564\n",
      "epoch: 674 \t loss: 58.139 \t reward: 118.407\n",
      "epoch: 675 \t loss: -15.920 \t reward: 44.936\n",
      "epoch: 676 \t loss: 54.358 \t reward: 124.937\n",
      "epoch: 677 \t loss: 85.225 \t reward: 178.703\n",
      "epoch: 678 \t loss: 56.991 \t reward: 109.154\n",
      "epoch: 679 \t loss: 51.127 \t reward: 102.091\n"
     ]
    },
    {
     "name": "stderr",
     "output_type": "stream",
     "text": [
      "100%|████████████████████████| 100/100 [01:04<00:00,  1.54it/s]\n"
     ]
    },
    {
     "name": "stdout",
     "output_type": "stream",
     "text": [
      "epoch: 680 \t loss: -33.723 \t reward: 17.756\n",
      "epoch: 681 \t loss: 43.565 \t reward: 115.858\n",
      "epoch: 682 \t loss: -6.914 \t reward: 86.522\n",
      "epoch: 683 \t loss: 82.579 \t reward: 162.528\n",
      "epoch: 684 \t loss: 63.577 \t reward: 135.338\n",
      "epoch: 685 \t loss: 21.176 \t reward: 88.989\n",
      "epoch: 686 \t loss: -55.634 \t reward: 20.906\n",
      "epoch: 687 \t loss: -3.441 \t reward: 67.973\n",
      "epoch: 688 \t loss: 85.754 \t reward: 166.867\n",
      "epoch: 689 \t loss: -16.946 \t reward: 68.284\n"
     ]
    },
    {
     "name": "stderr",
     "output_type": "stream",
     "text": [
      "100%|████████████████████████| 100/100 [01:26<00:00,  1.16it/s]\n"
     ]
    },
    {
     "name": "stdout",
     "output_type": "stream",
     "text": [
      "epoch: 690 \t loss: -5.668 \t reward: 59.161\n",
      "epoch: 691 \t loss: 57.778 \t reward: 135.072\n",
      "epoch: 692 \t loss: -73.607 \t reward: 15.977\n",
      "epoch: 693 \t loss: 61.062 \t reward: 143.998\n",
      "epoch: 694 \t loss: -10.263 \t reward: 90.821\n",
      "epoch: 695 \t loss: -49.662 \t reward: -5.674\n",
      "epoch: 696 \t loss: 67.410 \t reward: 130.101\n",
      "epoch: 697 \t loss: -14.665 \t reward: 22.803\n",
      "epoch: 698 \t loss: 34.098 \t reward: 39.590\n",
      "epoch: 699 \t loss: 47.301 \t reward: 78.616\n"
     ]
    },
    {
     "name": "stderr",
     "output_type": "stream",
     "text": [
      "100%|████████████████████████| 100/100 [01:12<00:00,  1.37it/s]\n"
     ]
    },
    {
     "name": "stdout",
     "output_type": "stream",
     "text": [
      "epoch: 700 \t loss: 1.944 \t reward: 42.935\n",
      "epoch: 701 \t loss: -58.420 \t reward: -51.772\n",
      "epoch: 702 \t loss: 73.039 \t reward: 161.922\n",
      "epoch: 703 \t loss: 72.389 \t reward: 98.491\n",
      "epoch: 704 \t loss: 13.789 \t reward: 34.855\n",
      "epoch: 705 \t loss: 22.082 \t reward: 28.860\n",
      "epoch: 706 \t loss: 37.938 \t reward: 64.808\n",
      "epoch: 707 \t loss: 44.379 \t reward: 81.263\n",
      "epoch: 708 \t loss: 71.985 \t reward: 90.049\n",
      "epoch: 709 \t loss: 103.611 \t reward: 185.590\n"
     ]
    },
    {
     "name": "stderr",
     "output_type": "stream",
     "text": [
      "100%|████████████████████████| 100/100 [01:03<00:00,  1.57it/s]\n"
     ]
    },
    {
     "name": "stdout",
     "output_type": "stream",
     "text": [
      "epoch: 710 \t loss: 65.133 \t reward: 121.245\n",
      "epoch: 711 \t loss: 54.468 \t reward: 85.135\n",
      "epoch: 712 \t loss: 78.423 \t reward: 149.664\n",
      "epoch: 713 \t loss: 74.618 \t reward: 151.772\n",
      "epoch: 714 \t loss: 2.434 \t reward: 34.195\n",
      "epoch: 715 \t loss: 46.828 \t reward: 86.845\n",
      "epoch: 716 \t loss: 43.806 \t reward: 72.934\n",
      "epoch: 717 \t loss: 51.037 \t reward: 107.377\n",
      "epoch: 718 \t loss: 0.934 \t reward: 62.050\n",
      "epoch: 719 \t loss: 59.821 \t reward: 105.119\n"
     ]
    },
    {
     "name": "stderr",
     "output_type": "stream",
     "text": [
      "100%|████████████████████████| 100/100 [00:36<00:00,  2.74it/s]\n"
     ]
    },
    {
     "name": "stdout",
     "output_type": "stream",
     "text": [
      "epoch: 720 \t loss: 77.646 \t reward: 146.313\n",
      "epoch: 721 \t loss: 10.606 \t reward: 33.211\n",
      "epoch: 722 \t loss: -17.854 \t reward: -7.262\n",
      "epoch: 723 \t loss: 28.945 \t reward: 56.420\n",
      "epoch: 724 \t loss: -0.576 \t reward: 35.832\n",
      "epoch: 725 \t loss: 68.990 \t reward: 114.960\n",
      "epoch: 726 \t loss: 1.833 \t reward: 32.776\n",
      "epoch: 727 \t loss: 24.241 \t reward: 41.104\n",
      "epoch: 728 \t loss: 7.852 \t reward: 26.035\n",
      "epoch: 729 \t loss: -38.513 \t reward: 2.140\n"
     ]
    },
    {
     "name": "stderr",
     "output_type": "stream",
     "text": [
      "100%|████████████████████████| 100/100 [00:25<00:00,  3.91it/s]\n"
     ]
    },
    {
     "name": "stdout",
     "output_type": "stream",
     "text": [
      "epoch: 730 \t loss: 0.734 \t reward: 32.837\n",
      "epoch: 731 \t loss: -20.839 \t reward: 37.901\n",
      "epoch: 732 \t loss: -3.487 \t reward: 12.376\n",
      "epoch: 733 \t loss: -10.460 \t reward: 16.288\n",
      "epoch: 734 \t loss: -7.002 \t reward: 19.893\n",
      "epoch: 735 \t loss: 55.571 \t reward: 103.996\n",
      "epoch: 736 \t loss: -30.486 \t reward: 2.173\n",
      "epoch: 737 \t loss: 26.955 \t reward: 88.170\n",
      "epoch: 738 \t loss: 2.761 \t reward: 38.613\n",
      "epoch: 739 \t loss: 29.342 \t reward: 60.231\n"
     ]
    },
    {
     "name": "stderr",
     "output_type": "stream",
     "text": [
      "100%|████████████████████████| 100/100 [00:37<00:00,  2.67it/s]\n"
     ]
    },
    {
     "name": "stdout",
     "output_type": "stream",
     "text": [
      "epoch: 740 \t loss: -49.912 \t reward: 8.392\n",
      "epoch: 741 \t loss: 31.627 \t reward: 151.001\n",
      "epoch: 742 \t loss: 34.574 \t reward: 73.054\n",
      "epoch: 743 \t loss: 45.665 \t reward: 94.240\n",
      "epoch: 744 \t loss: -15.579 \t reward: 29.809\n",
      "epoch: 745 \t loss: 75.759 \t reward: 139.740\n",
      "epoch: 746 \t loss: 3.360 \t reward: 66.780\n",
      "epoch: 747 \t loss: 27.947 \t reward: 136.047\n",
      "epoch: 748 \t loss: 35.259 \t reward: 108.699\n",
      "epoch: 749 \t loss: 28.284 \t reward: 88.579\n"
     ]
    },
    {
     "name": "stderr",
     "output_type": "stream",
     "text": [
      "100%|████████████████████████| 100/100 [00:38<00:00,  2.62it/s]\n"
     ]
    },
    {
     "name": "stdout",
     "output_type": "stream",
     "text": [
      "epoch: 750 \t loss: 56.338 \t reward: 123.795\n",
      "epoch: 751 \t loss: 20.460 \t reward: 71.986\n",
      "epoch: 752 \t loss: 29.955 \t reward: 74.133\n",
      "epoch: 753 \t loss: -85.658 \t reward: -17.130\n",
      "epoch: 754 \t loss: 60.782 \t reward: 158.805\n",
      "epoch: 755 \t loss: 11.588 \t reward: 102.468\n",
      "epoch: 756 \t loss: 58.404 \t reward: 136.114\n",
      "epoch: 757 \t loss: 72.707 \t reward: 164.257\n",
      "epoch: 758 \t loss: 8.363 \t reward: 66.089\n",
      "epoch: 759 \t loss: 46.446 \t reward: 110.047\n"
     ]
    },
    {
     "name": "stderr",
     "output_type": "stream",
     "text": [
      "100%|████████████████████████| 100/100 [00:47<00:00,  2.09it/s]\n"
     ]
    },
    {
     "name": "stdout",
     "output_type": "stream",
     "text": [
      "epoch: 760 \t loss: -9.038 \t reward: 55.706\n",
      "epoch: 761 \t loss: 31.241 \t reward: 60.695\n",
      "epoch: 762 \t loss: -49.299 \t reward: 22.382\n",
      "epoch: 763 \t loss: 73.247 \t reward: 151.092\n",
      "epoch: 764 \t loss: -59.087 \t reward: 2.592\n",
      "epoch: 765 \t loss: 63.104 \t reward: 155.766\n",
      "epoch: 766 \t loss: 1.086 \t reward: 77.738\n",
      "epoch: 767 \t loss: 15.480 \t reward: 62.607\n",
      "epoch: 768 \t loss: 54.152 \t reward: 135.243\n",
      "epoch: 769 \t loss: 26.302 \t reward: 132.233\n"
     ]
    },
    {
     "name": "stderr",
     "output_type": "stream",
     "text": [
      "100%|████████████████████████| 100/100 [00:59<00:00,  1.69it/s]\n"
     ]
    },
    {
     "name": "stdout",
     "output_type": "stream",
     "text": [
      "epoch: 770 \t loss: 51.251 \t reward: 64.471\n",
      "epoch: 771 \t loss: 57.957 \t reward: 108.558\n",
      "epoch: 772 \t loss: -4.282 \t reward: 55.496\n",
      "epoch: 773 \t loss: 69.305 \t reward: 128.209\n",
      "epoch: 774 \t loss: -41.676 \t reward: 4.061\n",
      "epoch: 775 \t loss: -40.277 \t reward: -6.654\n",
      "epoch: 776 \t loss: 44.597 \t reward: 98.736\n",
      "epoch: 777 \t loss: -4.805 \t reward: 45.769\n",
      "epoch: 778 \t loss: 59.794 \t reward: 75.427\n",
      "epoch: 779 \t loss: -9.549 \t reward: 7.319\n"
     ]
    },
    {
     "name": "stderr",
     "output_type": "stream",
     "text": [
      "100%|████████████████████████| 100/100 [00:57<00:00,  1.74it/s]\n"
     ]
    },
    {
     "name": "stdout",
     "output_type": "stream",
     "text": [
      "epoch: 780 \t loss: 26.806 \t reward: 50.187\n",
      "epoch: 781 \t loss: -3.073 \t reward: 59.443\n",
      "epoch: 782 \t loss: 18.346 \t reward: 45.034\n",
      "epoch: 783 \t loss: -1.558 \t reward: 73.381\n",
      "epoch: 784 \t loss: 10.141 \t reward: 78.488\n",
      "epoch: 785 \t loss: 23.112 \t reward: 55.630\n",
      "epoch: 786 \t loss: 87.979 \t reward: 146.729\n",
      "epoch: 787 \t loss: 52.811 \t reward: 97.775\n",
      "epoch: 788 \t loss: -20.526 \t reward: 41.719\n",
      "epoch: 789 \t loss: 39.573 \t reward: 61.033\n"
     ]
    },
    {
     "name": "stderr",
     "output_type": "stream",
     "text": [
      "100%|████████████████████████| 100/100 [00:49<00:00,  2.04it/s]\n"
     ]
    },
    {
     "name": "stdout",
     "output_type": "stream",
     "text": [
      "epoch: 790 \t loss: -59.894 \t reward: -15.530\n",
      "epoch: 791 \t loss: 17.887 \t reward: 53.402\n",
      "epoch: 792 \t loss: 13.061 \t reward: 62.197\n",
      "epoch: 793 \t loss: 34.951 \t reward: 95.886\n",
      "epoch: 794 \t loss: 16.031 \t reward: 88.983\n",
      "epoch: 795 \t loss: -10.442 \t reward: 94.529\n",
      "epoch: 796 \t loss: -49.530 \t reward: -25.042\n",
      "epoch: 797 \t loss: 18.257 \t reward: 65.686\n",
      "epoch: 798 \t loss: 6.012 \t reward: 42.894\n",
      "epoch: 799 \t loss: 9.525 \t reward: 66.703\n"
     ]
    },
    {
     "name": "stderr",
     "output_type": "stream",
     "text": [
      "100%|████████████████████████| 100/100 [00:36<00:00,  2.75it/s]\n"
     ]
    },
    {
     "name": "stdout",
     "output_type": "stream",
     "text": [
      "epoch: 800 \t loss: -32.101 \t reward: 4.432\n",
      "epoch: 801 \t loss: -6.739 \t reward: 20.370\n",
      "epoch: 802 \t loss: 1.236 \t reward: 28.705\n",
      "epoch: 803 \t loss: 22.954 \t reward: 92.018\n",
      "epoch: 804 \t loss: 33.500 \t reward: 122.612\n",
      "epoch: 805 \t loss: -1.317 \t reward: 48.592\n",
      "epoch: 806 \t loss: 39.924 \t reward: 93.697\n",
      "epoch: 807 \t loss: 71.614 \t reward: 118.980\n",
      "epoch: 808 \t loss: 1.657 \t reward: 98.530\n",
      "epoch: 809 \t loss: 55.061 \t reward: 60.977\n"
     ]
    },
    {
     "name": "stderr",
     "output_type": "stream",
     "text": [
      "100%|████████████████████████| 100/100 [00:40<00:00,  2.49it/s]\n"
     ]
    },
    {
     "name": "stdout",
     "output_type": "stream",
     "text": [
      "epoch: 810 \t loss: 29.582 \t reward: 73.187\n",
      "epoch: 811 \t loss: 9.370 \t reward: 44.837\n",
      "epoch: 812 \t loss: 26.716 \t reward: 69.117\n",
      "epoch: 813 \t loss: 1.673 \t reward: 93.324\n",
      "epoch: 814 \t loss: 49.054 \t reward: 175.562\n",
      "epoch: 815 \t loss: 1.431 \t reward: 5.262\n",
      "epoch: 816 \t loss: 4.948 \t reward: 57.379\n",
      "epoch: 817 \t loss: 17.626 \t reward: 53.959\n",
      "epoch: 818 \t loss: 73.591 \t reward: 113.759\n",
      "epoch: 819 \t loss: 10.506 \t reward: 47.179\n"
     ]
    },
    {
     "name": "stderr",
     "output_type": "stream",
     "text": [
      "100%|████████████████████████| 100/100 [00:33<00:00,  2.95it/s]\n"
     ]
    },
    {
     "name": "stdout",
     "output_type": "stream",
     "text": [
      "epoch: 820 \t loss: 11.181 \t reward: 35.008\n",
      "epoch: 821 \t loss: -18.447 \t reward: 17.510\n",
      "epoch: 822 \t loss: 24.121 \t reward: 93.598\n",
      "epoch: 823 \t loss: 74.202 \t reward: 122.531\n",
      "epoch: 824 \t loss: 27.130 \t reward: 23.215\n",
      "epoch: 825 \t loss: 13.115 \t reward: 59.766\n",
      "epoch: 826 \t loss: -2.221 \t reward: 41.595\n",
      "epoch: 827 \t loss: 5.460 \t reward: 64.930\n",
      "epoch: 828 \t loss: 4.341 \t reward: 107.462\n",
      "epoch: 829 \t loss: -8.046 \t reward: 83.666\n"
     ]
    },
    {
     "name": "stderr",
     "output_type": "stream",
     "text": [
      "100%|████████████████████████| 100/100 [01:19<00:00,  1.25it/s]\n"
     ]
    },
    {
     "name": "stdout",
     "output_type": "stream",
     "text": [
      "epoch: 830 \t loss: -23.333 \t reward: 42.104\n",
      "epoch: 831 \t loss: -7.409 \t reward: 112.790\n",
      "epoch: 832 \t loss: 76.752 \t reward: 171.774\n",
      "epoch: 833 \t loss: 11.068 \t reward: 83.581\n",
      "epoch: 834 \t loss: -41.244 \t reward: 42.758\n",
      "epoch: 835 \t loss: 24.049 \t reward: 93.223\n",
      "epoch: 836 \t loss: 11.883 \t reward: 95.226\n",
      "epoch: 837 \t loss: 48.447 \t reward: 129.449\n",
      "epoch: 838 \t loss: -43.121 \t reward: -14.981\n",
      "epoch: 839 \t loss: 31.621 \t reward: 73.244\n"
     ]
    },
    {
     "name": "stderr",
     "output_type": "stream",
     "text": [
      "100%|████████████████████████| 100/100 [01:26<00:00,  1.15it/s]\n"
     ]
    },
    {
     "name": "stdout",
     "output_type": "stream",
     "text": [
      "epoch: 840 \t loss: -26.913 \t reward: 39.513\n",
      "epoch: 841 \t loss: -73.425 \t reward: -35.400\n",
      "epoch: 842 \t loss: -42.859 \t reward: -8.028\n",
      "epoch: 843 \t loss: -28.784 \t reward: 15.219\n",
      "epoch: 844 \t loss: -21.143 \t reward: 56.740\n",
      "epoch: 845 \t loss: -25.380 \t reward: 71.526\n",
      "epoch: 846 \t loss: -48.633 \t reward: 25.675\n",
      "epoch: 847 \t loss: -47.746 \t reward: -1.764\n",
      "epoch: 848 \t loss: -25.160 \t reward: 28.827\n",
      "epoch: 849 \t loss: -6.101 \t reward: 100.715\n"
     ]
    },
    {
     "name": "stderr",
     "output_type": "stream",
     "text": [
      "100%|████████████████████████| 100/100 [01:34<00:00,  1.06it/s]\n"
     ]
    },
    {
     "name": "stdout",
     "output_type": "stream",
     "text": [
      "epoch: 850 \t loss: 7.462 \t reward: 75.830\n",
      "epoch: 851 \t loss: -24.274 \t reward: 36.122\n",
      "epoch: 852 \t loss: -11.914 \t reward: 71.125\n",
      "epoch: 853 \t loss: -8.141 \t reward: 80.470\n",
      "epoch: 854 \t loss: -29.522 \t reward: 31.377\n",
      "epoch: 855 \t loss: 44.286 \t reward: 73.007\n",
      "epoch: 856 \t loss: -53.263 \t reward: -25.456\n",
      "epoch: 857 \t loss: -1.339 \t reward: 57.473\n",
      "epoch: 858 \t loss: -21.029 \t reward: 22.220\n",
      "epoch: 859 \t loss: -33.837 \t reward: 34.936\n"
     ]
    },
    {
     "name": "stderr",
     "output_type": "stream",
     "text": [
      "100%|████████████████████████| 100/100 [01:38<00:00,  1.02it/s]\n"
     ]
    },
    {
     "name": "stdout",
     "output_type": "stream",
     "text": [
      "epoch: 860 \t loss: 18.114 \t reward: 78.386\n",
      "epoch: 861 \t loss: -55.852 \t reward: -9.502\n",
      "epoch: 862 \t loss: 32.131 \t reward: 96.401\n",
      "epoch: 863 \t loss: 31.677 \t reward: 123.804\n",
      "epoch: 864 \t loss: -15.821 \t reward: 26.850\n",
      "epoch: 865 \t loss: -45.806 \t reward: 16.778\n",
      "epoch: 866 \t loss: -34.277 \t reward: 62.896\n",
      "epoch: 867 \t loss: 30.117 \t reward: 118.657\n",
      "epoch: 868 \t loss: 41.431 \t reward: 68.819\n",
      "epoch: 869 \t loss: -12.041 \t reward: 6.702\n"
     ]
    },
    {
     "name": "stderr",
     "output_type": "stream",
     "text": [
      "100%|████████████████████████| 100/100 [01:10<00:00,  1.42it/s]\n"
     ]
    },
    {
     "name": "stdout",
     "output_type": "stream",
     "text": [
      "epoch: 870 \t loss: 43.242 \t reward: 149.727\n",
      "epoch: 871 \t loss: 21.870 \t reward: 81.823\n",
      "epoch: 872 \t loss: -25.959 \t reward: 8.691\n",
      "epoch: 873 \t loss: -9.437 \t reward: 41.464\n",
      "epoch: 874 \t loss: -23.841 \t reward: 22.677\n",
      "epoch: 875 \t loss: 4.135 \t reward: 65.793\n",
      "epoch: 876 \t loss: -5.161 \t reward: 32.110\n",
      "epoch: 877 \t loss: -4.531 \t reward: 106.463\n",
      "epoch: 878 \t loss: 31.098 \t reward: 117.178\n",
      "epoch: 879 \t loss: -30.894 \t reward: 17.062\n"
     ]
    },
    {
     "name": "stderr",
     "output_type": "stream",
     "text": [
      "100%|████████████████████████| 100/100 [02:23<00:00,  1.44s/it]\n"
     ]
    },
    {
     "name": "stdout",
     "output_type": "stream",
     "text": [
      "epoch: 880 \t loss: 2.949 \t reward: 9.952\n",
      "epoch: 881 \t loss: 5.477 \t reward: 44.275\n",
      "epoch: 882 \t loss: -6.832 \t reward: 11.290\n",
      "epoch: 883 \t loss: 29.600 \t reward: 114.859\n",
      "epoch: 884 \t loss: 30.301 \t reward: 114.778\n",
      "epoch: 885 \t loss: 0.671 \t reward: 87.851\n",
      "epoch: 886 \t loss: 9.563 \t reward: 58.717\n",
      "epoch: 887 \t loss: 7.814 \t reward: 64.489\n",
      "epoch: 888 \t loss: 20.407 \t reward: 143.624\n",
      "epoch: 889 \t loss: -96.526 \t reward: -18.347\n"
     ]
    },
    {
     "name": "stderr",
     "output_type": "stream",
     "text": [
      "100%|████████████████████████| 100/100 [03:08<00:00,  1.88s/it]\n"
     ]
    },
    {
     "name": "stdout",
     "output_type": "stream",
     "text": [
      "epoch: 890 \t loss: 15.865 \t reward: 52.019\n",
      "epoch: 891 \t loss: 29.507 \t reward: 91.444\n",
      "epoch: 892 \t loss: 58.082 \t reward: 173.824\n",
      "epoch: 893 \t loss: -15.072 \t reward: 71.843\n",
      "epoch: 894 \t loss: -10.833 \t reward: 75.795\n",
      "epoch: 895 \t loss: 9.827 \t reward: 93.443\n",
      "epoch: 896 \t loss: -3.111 \t reward: 74.916\n",
      "epoch: 897 \t loss: -0.859 \t reward: 42.461\n",
      "epoch: 898 \t loss: 10.015 \t reward: 95.302\n",
      "epoch: 899 \t loss: 81.604 \t reward: 181.831\n"
     ]
    },
    {
     "name": "stderr",
     "output_type": "stream",
     "text": [
      "100%|████████████████████████| 100/100 [03:05<00:00,  1.85s/it]\n"
     ]
    },
    {
     "name": "stdout",
     "output_type": "stream",
     "text": [
      "epoch: 900 \t loss: 24.637 \t reward: 104.586\n",
      "epoch: 901 \t loss: 93.654 \t reward: 202.293\n",
      "epoch: 902 \t loss: -44.384 \t reward: 41.264\n",
      "epoch: 903 \t loss: 20.928 \t reward: 117.980\n",
      "epoch: 904 \t loss: 27.772 \t reward: 121.185\n",
      "epoch: 905 \t loss: 24.667 \t reward: 80.928\n",
      "epoch: 906 \t loss: 77.095 \t reward: 164.961\n",
      "epoch: 907 \t loss: 57.986 \t reward: 113.238\n",
      "epoch: 908 \t loss: 26.055 \t reward: 102.116\n",
      "epoch: 909 \t loss: 38.050 \t reward: 150.373\n"
     ]
    },
    {
     "name": "stderr",
     "output_type": "stream",
     "text": [
      "100%|████████████████████████| 100/100 [01:45<00:00,  1.06s/it]\n"
     ]
    },
    {
     "name": "stdout",
     "output_type": "stream",
     "text": [
      "Best model! Average reward = 115.88, Success rate = 65.00%\n",
      "epoch: 910 \t loss: 19.017 \t reward: 106.045\n",
      "epoch: 911 \t loss: 9.966 \t reward: 41.892\n",
      "epoch: 912 \t loss: 76.377 \t reward: 186.305\n",
      "epoch: 913 \t loss: -66.207 \t reward: -31.222\n",
      "epoch: 914 \t loss: 31.388 \t reward: 118.398\n",
      "epoch: 915 \t loss: 82.906 \t reward: 135.623\n",
      "epoch: 916 \t loss: 15.407 \t reward: 103.021\n",
      "epoch: 917 \t loss: 4.781 \t reward: 60.132\n",
      "epoch: 918 \t loss: 26.792 \t reward: 102.835\n",
      "epoch: 919 \t loss: 17.672 \t reward: 128.308\n"
     ]
    },
    {
     "name": "stderr",
     "output_type": "stream",
     "text": [
      "100%|████████████████████████| 100/100 [01:27<00:00,  1.14it/s]\n"
     ]
    },
    {
     "name": "stdout",
     "output_type": "stream",
     "text": [
      "epoch: 920 \t loss: 59.200 \t reward: 150.738\n",
      "epoch: 921 \t loss: 41.853 \t reward: 102.422\n",
      "epoch: 922 \t loss: 64.170 \t reward: 124.824\n",
      "epoch: 923 \t loss: 44.290 \t reward: 127.441\n",
      "epoch: 924 \t loss: 64.949 \t reward: 169.816\n",
      "epoch: 925 \t loss: 25.704 \t reward: 63.650\n",
      "epoch: 926 \t loss: 46.659 \t reward: 158.896\n",
      "epoch: 927 \t loss: 20.618 \t reward: 59.430\n",
      "epoch: 928 \t loss: 16.585 \t reward: 94.663\n",
      "epoch: 929 \t loss: 10.361 \t reward: 110.426\n"
     ]
    },
    {
     "name": "stderr",
     "output_type": "stream",
     "text": [
      "100%|████████████████████████| 100/100 [01:14<00:00,  1.35it/s]\n"
     ]
    },
    {
     "name": "stdout",
     "output_type": "stream",
     "text": [
      "epoch: 930 \t loss: -35.677 \t reward: 47.803\n",
      "epoch: 931 \t loss: 76.014 \t reward: 154.781\n",
      "epoch: 932 \t loss: 16.777 \t reward: 117.514\n",
      "epoch: 933 \t loss: 59.393 \t reward: 104.768\n",
      "epoch: 934 \t loss: 51.797 \t reward: 117.552\n",
      "epoch: 935 \t loss: -87.003 \t reward: -9.389\n",
      "epoch: 936 \t loss: -51.822 \t reward: 12.780\n",
      "epoch: 937 \t loss: 57.658 \t reward: 146.222\n",
      "epoch: 938 \t loss: 57.393 \t reward: 151.111\n",
      "epoch: 939 \t loss: 21.642 \t reward: 98.366\n"
     ]
    },
    {
     "name": "stderr",
     "output_type": "stream",
     "text": [
      "100%|████████████████████████| 100/100 [01:02<00:00,  1.60it/s]\n"
     ]
    },
    {
     "name": "stdout",
     "output_type": "stream",
     "text": [
      "epoch: 940 \t loss: -35.132 \t reward: 41.337\n",
      "epoch: 941 \t loss: 44.713 \t reward: 132.282\n",
      "epoch: 942 \t loss: 69.321 \t reward: 182.342\n",
      "epoch: 943 \t loss: 28.800 \t reward: 79.801\n",
      "epoch: 944 \t loss: -49.797 \t reward: 3.394\n",
      "epoch: 945 \t loss: -16.190 \t reward: 51.765\n",
      "epoch: 946 \t loss: 27.849 \t reward: 79.421\n",
      "epoch: 947 \t loss: -74.808 \t reward: -27.685\n",
      "epoch: 948 \t loss: 66.470 \t reward: 169.619\n",
      "epoch: 949 \t loss: 12.553 \t reward: 86.851\n"
     ]
    },
    {
     "name": "stderr",
     "output_type": "stream",
     "text": [
      "100%|████████████████████████| 100/100 [00:33<00:00,  3.03it/s]\n"
     ]
    },
    {
     "name": "stdout",
     "output_type": "stream",
     "text": [
      "epoch: 950 \t loss: 75.094 \t reward: 135.662\n",
      "epoch: 951 \t loss: 11.161 \t reward: 77.905\n",
      "epoch: 952 \t loss: 1.970 \t reward: 54.677\n",
      "epoch: 953 \t loss: 6.458 \t reward: 63.181\n",
      "epoch: 954 \t loss: -10.494 \t reward: 45.843\n",
      "epoch: 955 \t loss: 35.702 \t reward: 94.062\n",
      "epoch: 956 \t loss: -21.470 \t reward: 40.914\n",
      "epoch: 957 \t loss: 47.550 \t reward: 137.487\n",
      "epoch: 958 \t loss: -21.803 \t reward: 39.797\n",
      "epoch: 959 \t loss: 3.462 \t reward: 78.820\n"
     ]
    },
    {
     "name": "stderr",
     "output_type": "stream",
     "text": [
      "100%|████████████████████████| 100/100 [00:28<00:00,  3.45it/s]\n"
     ]
    },
    {
     "name": "stdout",
     "output_type": "stream",
     "text": [
      "epoch: 960 \t loss: 1.682 \t reward: 62.981\n",
      "epoch: 961 \t loss: -10.250 \t reward: 60.483\n",
      "epoch: 962 \t loss: 3.226 \t reward: 97.893\n",
      "epoch: 963 \t loss: 34.312 \t reward: 150.792\n",
      "epoch: 964 \t loss: 38.701 \t reward: 114.101\n",
      "epoch: 965 \t loss: -12.940 \t reward: 48.124\n",
      "epoch: 966 \t loss: -9.362 \t reward: 42.407\n",
      "epoch: 967 \t loss: -19.816 \t reward: 45.424\n",
      "epoch: 968 \t loss: 49.092 \t reward: 110.042\n",
      "epoch: 969 \t loss: -17.386 \t reward: 64.239\n"
     ]
    },
    {
     "name": "stderr",
     "output_type": "stream",
     "text": [
      "100%|████████████████████████| 100/100 [00:28<00:00,  3.46it/s]\n"
     ]
    },
    {
     "name": "stdout",
     "output_type": "stream",
     "text": [
      "epoch: 970 \t loss: -16.518 \t reward: 71.334\n",
      "epoch: 971 \t loss: 16.261 \t reward: 96.340\n",
      "epoch: 972 \t loss: -0.525 \t reward: 91.587\n",
      "epoch: 973 \t loss: -4.085 \t reward: 57.522\n",
      "epoch: 974 \t loss: -53.961 \t reward: -3.633\n",
      "epoch: 975 \t loss: -83.713 \t reward: -5.726\n",
      "epoch: 976 \t loss: -69.689 \t reward: 5.555\n",
      "epoch: 977 \t loss: 5.876 \t reward: 83.852\n",
      "epoch: 978 \t loss: -7.260 \t reward: 42.271\n",
      "epoch: 979 \t loss: 26.397 \t reward: 83.173\n"
     ]
    },
    {
     "name": "stderr",
     "output_type": "stream",
     "text": [
      "100%|████████████████████████| 100/100 [00:23<00:00,  4.25it/s]\n"
     ]
    },
    {
     "name": "stdout",
     "output_type": "stream",
     "text": [
      "epoch: 980 \t loss: -13.917 \t reward: 46.630\n",
      "epoch: 981 \t loss: 65.376 \t reward: 142.407\n",
      "epoch: 982 \t loss: 6.291 \t reward: 80.849\n",
      "epoch: 983 \t loss: -32.724 \t reward: 33.934\n",
      "epoch: 984 \t loss: -19.723 \t reward: 42.826\n",
      "epoch: 985 \t loss: 30.338 \t reward: 90.429\n",
      "epoch: 986 \t loss: 47.790 \t reward: 101.706\n",
      "epoch: 987 \t loss: 11.713 \t reward: 64.258\n",
      "epoch: 988 \t loss: -30.354 \t reward: 36.390\n",
      "epoch: 989 \t loss: -8.166 \t reward: 57.591\n"
     ]
    },
    {
     "name": "stderr",
     "output_type": "stream",
     "text": [
      "100%|████████████████████████| 100/100 [00:15<00:00,  6.58it/s]\n"
     ]
    },
    {
     "name": "stdout",
     "output_type": "stream",
     "text": [
      "epoch: 990 \t loss: -36.287 \t reward: 38.399\n",
      "epoch: 991 \t loss: 12.424 \t reward: 69.918\n",
      "epoch: 992 \t loss: -30.581 \t reward: 12.074\n",
      "epoch: 993 \t loss: 20.893 \t reward: 95.151\n",
      "epoch: 994 \t loss: 21.506 \t reward: 67.492\n",
      "epoch: 995 \t loss: -22.911 \t reward: 11.664\n",
      "epoch: 996 \t loss: -5.777 \t reward: 30.240\n",
      "epoch: 997 \t loss: -38.546 \t reward: 19.047\n",
      "epoch: 998 \t loss: -14.484 \t reward: 21.745\n",
      "epoch: 999 \t loss: 7.780 \t reward: 43.944\n"
     ]
    },
    {
     "name": "stderr",
     "output_type": "stream",
     "text": [
      "100%|████████████████████████| 100/100 [00:10<00:00,  9.37it/s]\n"
     ]
    },
    {
     "name": "stdout",
     "output_type": "stream",
     "text": [
      "epoch: 1000 \t loss: -26.539 \t reward: 15.254\n",
      "epoch: 1001 \t loss: 21.880 \t reward: 57.320\n",
      "epoch: 1002 \t loss: 1.952 \t reward: 35.428\n",
      "epoch: 1003 \t loss: 31.882 \t reward: 107.609\n",
      "epoch: 1004 \t loss: 19.517 \t reward: 51.779\n",
      "epoch: 1005 \t loss: 14.851 \t reward: 29.038\n",
      "epoch: 1006 \t loss: -23.149 \t reward: 19.310\n",
      "epoch: 1007 \t loss: -0.836 \t reward: 23.627\n",
      "epoch: 1008 \t loss: 15.916 \t reward: 30.564\n",
      "epoch: 1009 \t loss: 22.923 \t reward: 49.069\n"
     ]
    },
    {
     "name": "stderr",
     "output_type": "stream",
     "text": [
      "100%|████████████████████████| 100/100 [00:12<00:00,  8.25it/s]\n"
     ]
    },
    {
     "name": "stdout",
     "output_type": "stream",
     "text": [
      "epoch: 1010 \t loss: 5.156 \t reward: 29.580\n",
      "epoch: 1011 \t loss: 66.216 \t reward: 149.802\n",
      "epoch: 1012 \t loss: 15.954 \t reward: 35.997\n",
      "epoch: 1013 \t loss: 27.768 \t reward: 58.775\n",
      "epoch: 1014 \t loss: 13.321 \t reward: 44.282\n",
      "epoch: 1015 \t loss: 28.863 \t reward: 47.749\n",
      "epoch: 1016 \t loss: 10.386 \t reward: 22.801\n",
      "epoch: 1017 \t loss: 9.946 \t reward: 22.768\n",
      "epoch: 1018 \t loss: 40.265 \t reward: 45.893\n",
      "epoch: 1019 \t loss: -14.736 \t reward: 18.073\n"
     ]
    },
    {
     "name": "stderr",
     "output_type": "stream",
     "text": [
      "100%|████████████████████████| 100/100 [00:13<00:00,  7.36it/s]\n"
     ]
    },
    {
     "name": "stdout",
     "output_type": "stream",
     "text": [
      "epoch: 1020 \t loss: 14.353 \t reward: 23.209\n",
      "epoch: 1021 \t loss: 62.108 \t reward: 78.810\n",
      "epoch: 1022 \t loss: 21.299 \t reward: 30.007\n",
      "epoch: 1023 \t loss: -16.765 \t reward: -10.760\n",
      "epoch: 1024 \t loss: 17.020 \t reward: 20.233\n",
      "epoch: 1025 \t loss: 51.444 \t reward: 96.917\n",
      "epoch: 1026 \t loss: 67.723 \t reward: 144.965\n",
      "epoch: 1027 \t loss: 63.503 \t reward: 78.935\n",
      "epoch: 1028 \t loss: 72.816 \t reward: 153.096\n",
      "epoch: 1029 \t loss: -9.979 \t reward: 28.329\n"
     ]
    },
    {
     "name": "stderr",
     "output_type": "stream",
     "text": [
      "100%|████████████████████████| 100/100 [00:16<00:00,  5.89it/s]\n"
     ]
    },
    {
     "name": "stdout",
     "output_type": "stream",
     "text": [
      "epoch: 1030 \t loss: 46.590 \t reward: 39.063\n",
      "epoch: 1031 \t loss: 5.364 \t reward: 80.351\n",
      "epoch: 1032 \t loss: 65.960 \t reward: 85.362\n",
      "epoch: 1033 \t loss: 71.465 \t reward: 115.675\n",
      "epoch: 1034 \t loss: 51.564 \t reward: 53.434\n",
      "epoch: 1035 \t loss: 32.047 \t reward: 39.590\n",
      "epoch: 1036 \t loss: -24.723 \t reward: -31.359\n",
      "epoch: 1037 \t loss: 8.983 \t reward: 28.116\n",
      "epoch: 1038 \t loss: 47.529 \t reward: 54.987\n",
      "epoch: 1039 \t loss: 60.058 \t reward: 89.188\n"
     ]
    },
    {
     "name": "stderr",
     "output_type": "stream",
     "text": [
      "100%|████████████████████████| 100/100 [00:22<00:00,  4.46it/s]\n"
     ]
    },
    {
     "name": "stdout",
     "output_type": "stream",
     "text": [
      "epoch: 1040 \t loss: 57.685 \t reward: 131.735\n",
      "epoch: 1041 \t loss: 45.464 \t reward: 70.505\n",
      "epoch: 1042 \t loss: 50.698 \t reward: 74.726\n",
      "epoch: 1043 \t loss: 23.002 \t reward: 45.196\n",
      "epoch: 1044 \t loss: -35.458 \t reward: 42.191\n",
      "epoch: 1045 \t loss: 10.932 \t reward: 64.851\n",
      "epoch: 1046 \t loss: -4.059 \t reward: 35.740\n",
      "epoch: 1047 \t loss: -4.649 \t reward: 69.614\n",
      "epoch: 1048 \t loss: 54.946 \t reward: 91.983\n",
      "epoch: 1049 \t loss: 19.344 \t reward: 128.709\n"
     ]
    },
    {
     "name": "stderr",
     "output_type": "stream",
     "text": [
      "100%|████████████████████████| 100/100 [00:37<00:00,  2.65it/s]\n"
     ]
    },
    {
     "name": "stdout",
     "output_type": "stream",
     "text": [
      "epoch: 1050 \t loss: 12.950 \t reward: 75.324\n",
      "epoch: 1051 \t loss: 29.335 \t reward: 118.848\n",
      "epoch: 1052 \t loss: 42.627 \t reward: 126.290\n",
      "epoch: 1053 \t loss: 75.568 \t reward: 190.725\n",
      "epoch: 1054 \t loss: -23.540 \t reward: 4.044\n",
      "epoch: 1055 \t loss: 1.399 \t reward: 36.762\n",
      "epoch: 1056 \t loss: 56.004 \t reward: 123.427\n",
      "epoch: 1057 \t loss: -17.267 \t reward: 54.924\n",
      "epoch: 1058 \t loss: 28.065 \t reward: 98.896\n",
      "epoch: 1059 \t loss: -33.660 \t reward: 2.831\n"
     ]
    },
    {
     "name": "stderr",
     "output_type": "stream",
     "text": [
      "100%|████████████████████████| 100/100 [00:44<00:00,  2.24it/s]\n"
     ]
    },
    {
     "name": "stdout",
     "output_type": "stream",
     "text": [
      "epoch: 1060 \t loss: 43.842 \t reward: 117.157\n",
      "epoch: 1061 \t loss: -6.307 \t reward: 40.603\n",
      "epoch: 1062 \t loss: 0.737 \t reward: 105.851\n",
      "epoch: 1063 \t loss: -23.035 \t reward: 29.181\n",
      "epoch: 1064 \t loss: -53.849 \t reward: -18.569\n",
      "epoch: 1065 \t loss: -3.697 \t reward: 56.486\n",
      "epoch: 1066 \t loss: -94.891 \t reward: -49.325\n",
      "epoch: 1067 \t loss: 15.170 \t reward: 35.516\n",
      "epoch: 1068 \t loss: 54.434 \t reward: 85.804\n",
      "epoch: 1069 \t loss: 28.255 \t reward: 72.316\n"
     ]
    },
    {
     "name": "stderr",
     "output_type": "stream",
     "text": [
      "100%|████████████████████████| 100/100 [00:50<00:00,  1.96it/s]\n"
     ]
    },
    {
     "name": "stdout",
     "output_type": "stream",
     "text": [
      "epoch: 1070 \t loss: 15.426 \t reward: 69.265\n",
      "epoch: 1071 \t loss: 88.851 \t reward: 172.540\n",
      "epoch: 1072 \t loss: 42.675 \t reward: 106.891\n",
      "epoch: 1073 \t loss: -27.865 \t reward: 7.991\n",
      "epoch: 1074 \t loss: -41.507 \t reward: 8.399\n",
      "epoch: 1075 \t loss: 9.444 \t reward: 117.247\n",
      "epoch: 1076 \t loss: 33.597 \t reward: 108.343\n",
      "epoch: 1077 \t loss: -0.589 \t reward: 40.193\n",
      "epoch: 1078 \t loss: 4.994 \t reward: 15.800\n",
      "epoch: 1079 \t loss: 20.513 \t reward: 126.412\n"
     ]
    },
    {
     "name": "stderr",
     "output_type": "stream",
     "text": [
      "100%|████████████████████████| 100/100 [00:54<00:00,  1.83it/s]\n"
     ]
    },
    {
     "name": "stdout",
     "output_type": "stream",
     "text": [
      "epoch: 1080 \t loss: 61.278 \t reward: 122.373\n",
      "epoch: 1081 \t loss: 94.279 \t reward: 180.988\n",
      "epoch: 1082 \t loss: 47.562 \t reward: 109.841\n",
      "epoch: 1083 \t loss: 65.282 \t reward: 143.909\n",
      "epoch: 1084 \t loss: -20.428 \t reward: 29.744\n",
      "epoch: 1085 \t loss: 69.982 \t reward: 166.920\n",
      "epoch: 1086 \t loss: 14.586 \t reward: 68.095\n",
      "epoch: 1087 \t loss: -43.666 \t reward: -14.512\n",
      "epoch: 1088 \t loss: 63.449 \t reward: 132.812\n",
      "epoch: 1089 \t loss: 11.919 \t reward: 65.314\n"
     ]
    },
    {
     "name": "stderr",
     "output_type": "stream",
     "text": [
      "100%|████████████████████████| 100/100 [01:20<00:00,  1.25it/s]\n"
     ]
    },
    {
     "name": "stdout",
     "output_type": "stream",
     "text": [
      "epoch: 1090 \t loss: -9.391 \t reward: 61.573\n",
      "epoch: 1091 \t loss: -24.648 \t reward: 33.980\n",
      "epoch: 1092 \t loss: 9.331 \t reward: 87.876\n",
      "epoch: 1093 \t loss: 20.224 \t reward: 107.729\n",
      "epoch: 1094 \t loss: 5.922 \t reward: 88.030\n",
      "epoch: 1095 \t loss: 14.680 \t reward: 47.236\n",
      "epoch: 1096 \t loss: -17.581 \t reward: 72.898\n",
      "epoch: 1097 \t loss: 25.834 \t reward: 115.956\n",
      "epoch: 1098 \t loss: 48.204 \t reward: 124.010\n",
      "epoch: 1099 \t loss: 36.158 \t reward: 137.536\n"
     ]
    },
    {
     "name": "stderr",
     "output_type": "stream",
     "text": [
      "100%|████████████████████████| 100/100 [01:14<00:00,  1.33it/s]\n"
     ]
    },
    {
     "name": "stdout",
     "output_type": "stream",
     "text": [
      "epoch: 1100 \t loss: 0.311 \t reward: 57.125\n",
      "epoch: 1101 \t loss: 40.268 \t reward: 137.688\n",
      "epoch: 1102 \t loss: 9.238 \t reward: 126.306\n",
      "epoch: 1103 \t loss: 12.544 \t reward: 87.327\n",
      "epoch: 1104 \t loss: 29.363 \t reward: 114.807\n",
      "epoch: 1105 \t loss: 33.660 \t reward: 136.341\n",
      "epoch: 1106 \t loss: -71.507 \t reward: 0.321\n",
      "epoch: 1107 \t loss: -19.992 \t reward: -5.164\n",
      "epoch: 1108 \t loss: 18.166 \t reward: 100.122\n",
      "epoch: 1109 \t loss: 0.194 \t reward: 79.281\n"
     ]
    },
    {
     "name": "stderr",
     "output_type": "stream",
     "text": [
      "100%|████████████████████████| 100/100 [01:09<00:00,  1.44it/s]\n"
     ]
    },
    {
     "name": "stdout",
     "output_type": "stream",
     "text": [
      "epoch: 1110 \t loss: 2.400 \t reward: 77.550\n",
      "epoch: 1111 \t loss: 33.930 \t reward: 106.845\n",
      "epoch: 1112 \t loss: 86.297 \t reward: 177.295\n",
      "epoch: 1113 \t loss: 93.847 \t reward: 186.708\n",
      "epoch: 1114 \t loss: -20.530 \t reward: 17.149\n",
      "epoch: 1115 \t loss: -37.822 \t reward: 9.500\n",
      "epoch: 1116 \t loss: 9.617 \t reward: 82.554\n",
      "epoch: 1117 \t loss: 11.672 \t reward: 59.853\n",
      "epoch: 1118 \t loss: 33.239 \t reward: 98.557\n",
      "epoch: 1119 \t loss: -29.617 \t reward: 4.877\n"
     ]
    },
    {
     "name": "stderr",
     "output_type": "stream",
     "text": [
      "100%|████████████████████████| 100/100 [01:27<00:00,  1.15it/s]\n"
     ]
    },
    {
     "name": "stdout",
     "output_type": "stream",
     "text": [
      "epoch: 1120 \t loss: 55.831 \t reward: 124.087\n",
      "epoch: 1121 \t loss: 82.374 \t reward: 167.758\n",
      "epoch: 1122 \t loss: -2.616 \t reward: 48.925\n",
      "epoch: 1123 \t loss: -10.074 \t reward: 32.128\n",
      "epoch: 1124 \t loss: 5.066 \t reward: 74.193\n",
      "epoch: 1125 \t loss: 60.718 \t reward: 146.286\n",
      "epoch: 1126 \t loss: 14.043 \t reward: 100.478\n",
      "epoch: 1127 \t loss: 10.993 \t reward: 68.579\n",
      "epoch: 1128 \t loss: 93.099 \t reward: 159.870\n",
      "epoch: 1129 \t loss: -21.093 \t reward: 59.833\n"
     ]
    },
    {
     "name": "stderr",
     "output_type": "stream",
     "text": [
      "100%|████████████████████████| 100/100 [01:29<00:00,  1.12it/s]\n"
     ]
    },
    {
     "name": "stdout",
     "output_type": "stream",
     "text": [
      "epoch: 1130 \t loss: 16.856 \t reward: 72.508\n",
      "epoch: 1131 \t loss: 42.315 \t reward: 93.969\n",
      "epoch: 1132 \t loss: -26.706 \t reward: 23.057\n",
      "epoch: 1133 \t loss: -28.103 \t reward: 13.141\n",
      "epoch: 1134 \t loss: 9.881 \t reward: 69.544\n",
      "epoch: 1135 \t loss: 57.656 \t reward: 150.321\n",
      "epoch: 1136 \t loss: 18.841 \t reward: 46.397\n",
      "epoch: 1137 \t loss: 24.952 \t reward: 116.829\n",
      "epoch: 1138 \t loss: -38.804 \t reward: 51.401\n",
      "epoch: 1139 \t loss: 28.889 \t reward: 104.677\n"
     ]
    },
    {
     "name": "stderr",
     "output_type": "stream",
     "text": [
      "100%|████████████████████████| 100/100 [01:28<00:00,  1.13it/s]\n"
     ]
    },
    {
     "name": "stdout",
     "output_type": "stream",
     "text": [
      "epoch: 1140 \t loss: 77.835 \t reward: 158.007\n",
      "epoch: 1141 \t loss: 31.813 \t reward: 96.879\n",
      "epoch: 1142 \t loss: -19.827 \t reward: 67.243\n",
      "epoch: 1143 \t loss: 77.983 \t reward: 143.778\n",
      "epoch: 1144 \t loss: 21.317 \t reward: 62.238\n",
      "epoch: 1145 \t loss: 52.695 \t reward: 164.314\n",
      "epoch: 1146 \t loss: 18.170 \t reward: 93.853\n",
      "epoch: 1147 \t loss: -18.342 \t reward: 18.534\n",
      "epoch: 1148 \t loss: 29.285 \t reward: 95.387\n",
      "epoch: 1149 \t loss: 29.987 \t reward: 131.253\n"
     ]
    },
    {
     "name": "stderr",
     "output_type": "stream",
     "text": [
      "100%|████████████████████████| 100/100 [01:10<00:00,  1.43it/s]\n"
     ]
    },
    {
     "name": "stdout",
     "output_type": "stream",
     "text": [
      "Best model! Average reward = 118.18, Success rate = 70.00%\n",
      "epoch: 1150 \t loss: -79.490 \t reward: -41.255\n",
      "epoch: 1151 \t loss: 81.185 \t reward: 192.792\n",
      "epoch: 1152 \t loss: 73.909 \t reward: 137.262\n",
      "epoch: 1153 \t loss: 29.070 \t reward: 85.252\n",
      "epoch: 1154 \t loss: 14.272 \t reward: 101.629\n",
      "epoch: 1155 \t loss: 36.006 \t reward: 146.577\n",
      "epoch: 1156 \t loss: 18.021 \t reward: 94.280\n",
      "epoch: 1157 \t loss: 36.421 \t reward: 120.600\n",
      "epoch: 1158 \t loss: 22.022 \t reward: 70.910\n",
      "epoch: 1159 \t loss: -45.241 \t reward: 6.455\n"
     ]
    },
    {
     "name": "stderr",
     "output_type": "stream",
     "text": [
      "100%|████████████████████████| 100/100 [00:45<00:00,  2.21it/s]\n"
     ]
    },
    {
     "name": "stdout",
     "output_type": "stream",
     "text": [
      "epoch: 1160 \t loss: 72.736 \t reward: 159.317\n",
      "epoch: 1161 \t loss: 95.769 \t reward: 216.048\n",
      "epoch: 1162 \t loss: -17.978 \t reward: 7.216\n",
      "epoch: 1163 \t loss: 9.516 \t reward: 76.286\n",
      "epoch: 1164 \t loss: 6.605 \t reward: 108.338\n",
      "epoch: 1165 \t loss: 38.742 \t reward: 113.604\n",
      "epoch: 1166 \t loss: -32.259 \t reward: 58.567\n",
      "epoch: 1167 \t loss: -21.939 \t reward: 52.647\n",
      "epoch: 1168 \t loss: 47.925 \t reward: 180.920\n",
      "epoch: 1169 \t loss: 63.400 \t reward: 152.832\n"
     ]
    },
    {
     "name": "stderr",
     "output_type": "stream",
     "text": [
      "100%|████████████████████████| 100/100 [00:43<00:00,  2.30it/s]\n"
     ]
    },
    {
     "name": "stdout",
     "output_type": "stream",
     "text": [
      "epoch: 1170 \t loss: 8.320 \t reward: 103.111\n",
      "epoch: 1171 \t loss: 38.849 \t reward: 126.280\n",
      "epoch: 1172 \t loss: 0.640 \t reward: 57.570\n",
      "epoch: 1173 \t loss: 0.822 \t reward: 57.833\n",
      "epoch: 1174 \t loss: 0.919 \t reward: 108.189\n",
      "epoch: 1175 \t loss: 26.866 \t reward: 90.841\n",
      "epoch: 1176 \t loss: 27.140 \t reward: 84.539\n",
      "epoch: 1177 \t loss: 37.596 \t reward: 142.626\n",
      "epoch: 1178 \t loss: 28.379 \t reward: 118.289\n",
      "epoch: 1179 \t loss: 32.966 \t reward: 74.549\n"
     ]
    },
    {
     "name": "stderr",
     "output_type": "stream",
     "text": [
      "100%|████████████████████████| 100/100 [00:43<00:00,  2.31it/s]\n"
     ]
    },
    {
     "name": "stdout",
     "output_type": "stream",
     "text": [
      "Best model! Average reward = 135.49, Success rate = 63.00%\n",
      "epoch: 1180 \t loss: 31.177 \t reward: 64.472\n",
      "epoch: 1181 \t loss: 38.670 \t reward: 115.095\n",
      "epoch: 1182 \t loss: 34.998 \t reward: 146.425\n",
      "epoch: 1183 \t loss: 55.140 \t reward: 191.675\n",
      "epoch: 1184 \t loss: -14.134 \t reward: 60.242\n",
      "epoch: 1185 \t loss: 85.300 \t reward: 235.148\n",
      "epoch: 1186 \t loss: 17.547 \t reward: 92.404\n",
      "epoch: 1187 \t loss: 54.748 \t reward: 182.335\n",
      "epoch: 1188 \t loss: 56.650 \t reward: 158.661\n",
      "epoch: 1189 \t loss: 40.596 \t reward: 129.240\n"
     ]
    },
    {
     "name": "stderr",
     "output_type": "stream",
     "text": [
      "100%|████████████████████████| 100/100 [00:48<00:00,  2.05it/s]\n"
     ]
    },
    {
     "name": "stdout",
     "output_type": "stream",
     "text": [
      "Best model! Average reward = 137.29, Success rate = 66.00%\n",
      "epoch: 1190 \t loss: 15.982 \t reward: 89.286\n",
      "epoch: 1191 \t loss: 55.300 \t reward: 184.569\n",
      "epoch: 1192 \t loss: 11.293 \t reward: 128.797\n",
      "epoch: 1193 \t loss: 59.974 \t reward: 178.278\n",
      "epoch: 1194 \t loss: 42.422 \t reward: 165.296\n",
      "epoch: 1195 \t loss: 103.736 \t reward: 192.980\n",
      "epoch: 1196 \t loss: 105.910 \t reward: 206.232\n",
      "epoch: 1197 \t loss: 59.875 \t reward: 156.401\n",
      "epoch: 1198 \t loss: 50.606 \t reward: 179.357\n",
      "epoch: 1199 \t loss: 45.655 \t reward: 135.812\n"
     ]
    },
    {
     "name": "stderr",
     "output_type": "stream",
     "text": [
      "100%|████████████████████████| 100/100 [01:04<00:00,  1.54it/s]\n"
     ]
    },
    {
     "name": "stdout",
     "output_type": "stream",
     "text": [
      "Best model! Average reward = 137.48, Success rate = 70.00%\n",
      "epoch: 1200 \t loss: 20.129 \t reward: 75.608\n",
      "epoch: 1201 \t loss: 85.433 \t reward: 192.051\n",
      "epoch: 1202 \t loss: 20.638 \t reward: 102.460\n",
      "epoch: 1203 \t loss: 4.264 \t reward: 82.389\n",
      "epoch: 1204 \t loss: 25.604 \t reward: 99.301\n",
      "epoch: 1205 \t loss: 31.084 \t reward: 118.613\n",
      "epoch: 1206 \t loss: 39.501 \t reward: 129.734\n",
      "epoch: 1207 \t loss: 45.589 \t reward: 155.351\n",
      "epoch: 1208 \t loss: 48.994 \t reward: 165.401\n",
      "epoch: 1209 \t loss: 57.162 \t reward: 172.798\n"
     ]
    },
    {
     "name": "stderr",
     "output_type": "stream",
     "text": [
      "100%|████████████████████████| 100/100 [01:04<00:00,  1.54it/s]\n"
     ]
    },
    {
     "name": "stdout",
     "output_type": "stream",
     "text": [
      "Best model! Average reward = 143.66, Success rate = 73.00%\n",
      "epoch: 1210 \t loss: 57.836 \t reward: 163.188\n",
      "epoch: 1211 \t loss: 5.944 \t reward: 102.479\n",
      "epoch: 1212 \t loss: 56.271 \t reward: 183.104\n",
      "epoch: 1213 \t loss: 59.912 \t reward: 169.901\n",
      "epoch: 1214 \t loss: 77.121 \t reward: 181.249\n",
      "epoch: 1215 \t loss: 48.824 \t reward: 162.073\n",
      "epoch: 1216 \t loss: 8.914 \t reward: 118.170\n",
      "epoch: 1217 \t loss: -11.108 \t reward: 51.596\n",
      "epoch: 1218 \t loss: 53.437 \t reward: 185.486\n",
      "epoch: 1219 \t loss: 19.053 \t reward: 149.527\n"
     ]
    },
    {
     "name": "stderr",
     "output_type": "stream",
     "text": [
      "100%|████████████████████████| 100/100 [01:00<00:00,  1.64it/s]\n"
     ]
    },
    {
     "name": "stdout",
     "output_type": "stream",
     "text": [
      "epoch: 1220 \t loss: 46.585 \t reward: 158.877\n",
      "epoch: 1221 \t loss: -9.966 \t reward: 61.169\n",
      "epoch: 1222 \t loss: 8.398 \t reward: 114.037\n",
      "epoch: 1223 \t loss: 34.528 \t reward: 117.315\n",
      "epoch: 1224 \t loss: 88.539 \t reward: 181.976\n",
      "epoch: 1225 \t loss: 30.217 \t reward: 112.741\n",
      "epoch: 1226 \t loss: 40.626 \t reward: 202.193\n",
      "epoch: 1227 \t loss: 33.981 \t reward: 140.394\n",
      "epoch: 1228 \t loss: 33.406 \t reward: 126.948\n",
      "epoch: 1229 \t loss: 52.521 \t reward: 192.613\n"
     ]
    },
    {
     "name": "stderr",
     "output_type": "stream",
     "text": [
      "100%|████████████████████████| 100/100 [00:57<00:00,  1.75it/s]\n"
     ]
    },
    {
     "name": "stdout",
     "output_type": "stream",
     "text": [
      "Best model! Average reward = 145.55, Success rate = 65.00%\n",
      "epoch: 1230 \t loss: 27.060 \t reward: 93.552\n",
      "epoch: 1231 \t loss: -1.356 \t reward: 52.088\n",
      "epoch: 1232 \t loss: 63.688 \t reward: 161.290\n",
      "epoch: 1233 \t loss: 26.912 \t reward: 116.305\n",
      "epoch: 1234 \t loss: 45.588 \t reward: 158.174\n",
      "epoch: 1235 \t loss: 61.990 \t reward: 182.093\n",
      "epoch: 1236 \t loss: 40.459 \t reward: 129.272\n",
      "epoch: 1237 \t loss: -9.914 \t reward: 60.355\n",
      "epoch: 1238 \t loss: 24.535 \t reward: 133.573\n",
      "epoch: 1239 \t loss: -16.538 \t reward: 68.721\n"
     ]
    },
    {
     "name": "stderr",
     "output_type": "stream",
     "text": [
      "100%|████████████████████████| 100/100 [00:57<00:00,  1.74it/s]\n"
     ]
    },
    {
     "name": "stdout",
     "output_type": "stream",
     "text": [
      "epoch: 1240 \t loss: 36.717 \t reward: 156.132\n",
      "epoch: 1241 \t loss: 67.876 \t reward: 159.441\n",
      "epoch: 1242 \t loss: 72.830 \t reward: 216.431\n",
      "epoch: 1243 \t loss: -27.092 \t reward: 23.285\n",
      "epoch: 1244 \t loss: 67.483 \t reward: 145.976\n",
      "epoch: 1245 \t loss: 30.865 \t reward: 122.550\n",
      "epoch: 1246 \t loss: 17.474 \t reward: 126.678\n",
      "epoch: 1247 \t loss: 71.422 \t reward: 143.019\n",
      "epoch: 1248 \t loss: 10.635 \t reward: 89.655\n",
      "epoch: 1249 \t loss: 8.172 \t reward: 86.803\n"
     ]
    },
    {
     "name": "stderr",
     "output_type": "stream",
     "text": [
      "100%|████████████████████████| 100/100 [00:36<00:00,  2.77it/s]\n"
     ]
    },
    {
     "name": "stdout",
     "output_type": "stream",
     "text": [
      "epoch: 1250 \t loss: -36.157 \t reward: 52.992\n",
      "epoch: 1251 \t loss: 30.559 \t reward: 124.861\n",
      "epoch: 1252 \t loss: -1.953 \t reward: 85.168\n",
      "epoch: 1253 \t loss: 23.134 \t reward: 94.896\n",
      "epoch: 1254 \t loss: 17.151 \t reward: 96.578\n",
      "epoch: 1255 \t loss: 9.662 \t reward: 87.557\n",
      "epoch: 1256 \t loss: 53.636 \t reward: 161.361\n",
      "epoch: 1257 \t loss: 42.626 \t reward: 145.983\n",
      "epoch: 1258 \t loss: 2.812 \t reward: 60.369\n",
      "epoch: 1259 \t loss: 24.380 \t reward: 96.802\n"
     ]
    },
    {
     "name": "stderr",
     "output_type": "stream",
     "text": [
      "100%|████████████████████████| 100/100 [00:33<00:00,  2.95it/s]\n"
     ]
    },
    {
     "name": "stdout",
     "output_type": "stream",
     "text": [
      "epoch: 1260 \t loss: 51.072 \t reward: 130.985\n",
      "epoch: 1261 \t loss: 34.665 \t reward: 124.568\n",
      "epoch: 1262 \t loss: 10.495 \t reward: 72.375\n",
      "epoch: 1263 \t loss: 71.733 \t reward: 171.815\n",
      "epoch: 1264 \t loss: 3.826 \t reward: 64.020\n",
      "epoch: 1265 \t loss: 26.229 \t reward: 58.584\n",
      "epoch: 1266 \t loss: 65.194 \t reward: 145.090\n",
      "epoch: 1267 \t loss: 13.576 \t reward: 46.203\n",
      "epoch: 1268 \t loss: 12.475 \t reward: 76.325\n",
      "epoch: 1269 \t loss: 76.345 \t reward: 167.155\n"
     ]
    },
    {
     "name": "stderr",
     "output_type": "stream",
     "text": [
      "100%|████████████████████████| 100/100 [00:14<00:00,  6.89it/s]\n"
     ]
    },
    {
     "name": "stdout",
     "output_type": "stream",
     "text": [
      "epoch: 1270 \t loss: -13.002 \t reward: 26.474\n",
      "epoch: 1271 \t loss: 39.304 \t reward: 83.444\n",
      "epoch: 1272 \t loss: -0.729 \t reward: 53.073\n",
      "epoch: 1273 \t loss: -6.872 \t reward: 14.552\n",
      "epoch: 1274 \t loss: 4.407 \t reward: 55.896\n",
      "epoch: 1275 \t loss: 17.726 \t reward: 37.018\n",
      "epoch: 1276 \t loss: -7.913 \t reward: 27.755\n",
      "epoch: 1277 \t loss: 48.399 \t reward: 114.695\n",
      "epoch: 1278 \t loss: -34.866 \t reward: -4.593\n",
      "epoch: 1279 \t loss: -74.977 \t reward: -37.792\n"
     ]
    },
    {
     "name": "stderr",
     "output_type": "stream",
     "text": [
      "100%|████████████████████████| 100/100 [00:14<00:00,  7.11it/s]\n"
     ]
    },
    {
     "name": "stdout",
     "output_type": "stream",
     "text": [
      "epoch: 1280 \t loss: -4.019 \t reward: 15.267\n",
      "epoch: 1281 \t loss: -21.575 \t reward: 20.958\n",
      "epoch: 1282 \t loss: -40.154 \t reward: -22.878\n",
      "epoch: 1283 \t loss: 21.719 \t reward: 55.333\n",
      "epoch: 1284 \t loss: -23.567 \t reward: 15.171\n",
      "epoch: 1285 \t loss: -14.697 \t reward: 12.289\n",
      "epoch: 1286 \t loss: 7.842 \t reward: 31.993\n",
      "epoch: 1287 \t loss: 27.419 \t reward: 59.370\n",
      "epoch: 1288 \t loss: 17.496 \t reward: 58.520\n",
      "epoch: 1289 \t loss: -35.758 \t reward: 19.529\n"
     ]
    },
    {
     "name": "stderr",
     "output_type": "stream",
     "text": [
      "100%|████████████████████████| 100/100 [00:28<00:00,  3.56it/s]\n"
     ]
    },
    {
     "name": "stdout",
     "output_type": "stream",
     "text": [
      "epoch: 1290 \t loss: -2.349 \t reward: 56.786\n",
      "epoch: 1291 \t loss: 20.021 \t reward: 82.705\n",
      "epoch: 1292 \t loss: 0.766 \t reward: 51.172\n",
      "epoch: 1293 \t loss: -20.315 \t reward: 3.820\n",
      "epoch: 1294 \t loss: 60.219 \t reward: 115.319\n",
      "epoch: 1295 \t loss: 21.026 \t reward: 102.812\n",
      "epoch: 1296 \t loss: 38.302 \t reward: 109.824\n",
      "epoch: 1297 \t loss: 28.635 \t reward: 132.567\n",
      "epoch: 1298 \t loss: 49.739 \t reward: 122.056\n",
      "epoch: 1299 \t loss: 44.084 \t reward: 160.775\n"
     ]
    },
    {
     "name": "stderr",
     "output_type": "stream",
     "text": [
      "100%|████████████████████████| 100/100 [00:43<00:00,  2.28it/s]\n"
     ]
    },
    {
     "name": "stdout",
     "output_type": "stream",
     "text": [
      "epoch: 1300 \t loss: -0.058 \t reward: 104.027\n",
      "epoch: 1301 \t loss: -7.707 \t reward: 60.496\n",
      "epoch: 1302 \t loss: 65.530 \t reward: 137.554\n",
      "epoch: 1303 \t loss: 19.544 \t reward: 82.739\n",
      "epoch: 1304 \t loss: -51.750 \t reward: 11.842\n",
      "epoch: 1305 \t loss: 9.206 \t reward: 85.688\n",
      "epoch: 1306 \t loss: 12.541 \t reward: 79.896\n",
      "epoch: 1307 \t loss: 41.365 \t reward: 159.551\n",
      "epoch: 1308 \t loss: 30.204 \t reward: 120.573\n",
      "epoch: 1309 \t loss: 54.810 \t reward: 175.553\n"
     ]
    },
    {
     "name": "stderr",
     "output_type": "stream",
     "text": [
      "100%|████████████████████████| 100/100 [01:00<00:00,  1.66it/s]\n"
     ]
    },
    {
     "name": "stdout",
     "output_type": "stream",
     "text": [
      "epoch: 1310 \t loss: 7.982 \t reward: 54.266\n",
      "epoch: 1311 \t loss: -21.480 \t reward: 45.754\n",
      "epoch: 1312 \t loss: 32.415 \t reward: 114.135\n",
      "epoch: 1313 \t loss: -22.461 \t reward: 75.636\n",
      "epoch: 1314 \t loss: -1.871 \t reward: 66.277\n",
      "epoch: 1315 \t loss: -10.570 \t reward: -8.414\n",
      "epoch: 1316 \t loss: 35.470 \t reward: 116.763\n",
      "epoch: 1317 \t loss: 30.111 \t reward: 82.773\n",
      "epoch: 1318 \t loss: 33.657 \t reward: 82.592\n",
      "epoch: 1319 \t loss: 47.865 \t reward: 82.483\n"
     ]
    },
    {
     "name": "stderr",
     "output_type": "stream",
     "text": [
      "100%|████████████████████████| 100/100 [01:05<00:00,  1.54it/s]\n"
     ]
    },
    {
     "name": "stdout",
     "output_type": "stream",
     "text": [
      "epoch: 1320 \t loss: -22.330 \t reward: 52.395\n",
      "epoch: 1321 \t loss: -3.940 \t reward: 20.311\n",
      "epoch: 1322 \t loss: -15.261 \t reward: 27.728\n",
      "epoch: 1323 \t loss: -21.622 \t reward: 8.946\n",
      "epoch: 1324 \t loss: -56.811 \t reward: -43.348\n",
      "epoch: 1325 \t loss: -9.062 \t reward: -25.700\n",
      "epoch: 1326 \t loss: 7.227 \t reward: 100.105\n",
      "epoch: 1327 \t loss: 12.396 \t reward: 117.862\n",
      "epoch: 1328 \t loss: -35.823 \t reward: -11.839\n",
      "epoch: 1329 \t loss: -20.409 \t reward: -11.486\n"
     ]
    },
    {
     "name": "stderr",
     "output_type": "stream",
     "text": [
      "100%|████████████████████████| 100/100 [00:45<00:00,  2.19it/s]\n"
     ]
    },
    {
     "name": "stdout",
     "output_type": "stream",
     "text": [
      "epoch: 1330 \t loss: -10.299 \t reward: 2.265\n",
      "epoch: 1331 \t loss: 9.724 \t reward: 60.957\n",
      "epoch: 1332 \t loss: -12.325 \t reward: 25.219\n",
      "epoch: 1333 \t loss: -24.608 \t reward: 49.763\n",
      "epoch: 1334 \t loss: 64.060 \t reward: 85.436\n",
      "epoch: 1335 \t loss: 23.509 \t reward: 110.748\n",
      "epoch: 1336 \t loss: 38.693 \t reward: 112.291\n",
      "epoch: 1337 \t loss: 45.455 \t reward: 45.511\n",
      "epoch: 1338 \t loss: -13.574 \t reward: 8.397\n",
      "epoch: 1339 \t loss: 72.777 \t reward: 156.781\n"
     ]
    },
    {
     "name": "stderr",
     "output_type": "stream",
     "text": [
      "100%|████████████████████████| 100/100 [00:30<00:00,  3.31it/s]\n"
     ]
    },
    {
     "name": "stdout",
     "output_type": "stream",
     "text": [
      "epoch: 1340 \t loss: 37.377 \t reward: 130.249\n",
      "epoch: 1341 \t loss: 10.289 \t reward: 49.600\n",
      "epoch: 1342 \t loss: -11.061 \t reward: 43.586\n",
      "epoch: 1343 \t loss: -23.593 \t reward: 23.611\n",
      "epoch: 1344 \t loss: 8.281 \t reward: 38.879\n",
      "epoch: 1345 \t loss: 11.552 \t reward: 46.577\n",
      "epoch: 1346 \t loss: -1.537 \t reward: 34.823\n",
      "epoch: 1347 \t loss: 16.973 \t reward: 69.044\n",
      "epoch: 1348 \t loss: -48.653 \t reward: 22.465\n",
      "epoch: 1349 \t loss: 17.508 \t reward: 71.373\n"
     ]
    },
    {
     "name": "stderr",
     "output_type": "stream",
     "text": [
      "100%|████████████████████████| 100/100 [00:29<00:00,  3.39it/s]\n"
     ]
    },
    {
     "name": "stdout",
     "output_type": "stream",
     "text": [
      "epoch: 1350 \t loss: 41.618 \t reward: 84.975\n",
      "epoch: 1351 \t loss: 25.153 \t reward: 101.187\n",
      "epoch: 1352 \t loss: 17.549 \t reward: 72.781\n",
      "epoch: 1353 \t loss: 2.954 \t reward: 36.353\n",
      "epoch: 1354 \t loss: -121.852 \t reward: -53.944\n",
      "epoch: 1355 \t loss: 8.950 \t reward: 78.259\n",
      "epoch: 1356 \t loss: 14.238 \t reward: 101.182\n",
      "epoch: 1357 \t loss: 18.783 \t reward: 108.862\n",
      "epoch: 1358 \t loss: 0.437 \t reward: 85.384\n",
      "epoch: 1359 \t loss: -2.083 \t reward: 94.010\n"
     ]
    },
    {
     "name": "stderr",
     "output_type": "stream",
     "text": [
      "100%|████████████████████████| 100/100 [00:37<00:00,  2.63it/s]\n"
     ]
    },
    {
     "name": "stdout",
     "output_type": "stream",
     "text": [
      "epoch: 1360 \t loss: 16.738 \t reward: 92.904\n",
      "epoch: 1361 \t loss: 19.660 \t reward: 99.004\n",
      "epoch: 1362 \t loss: 14.560 \t reward: 71.990\n",
      "epoch: 1363 \t loss: 15.158 \t reward: 91.418\n",
      "epoch: 1364 \t loss: 12.366 \t reward: 85.272\n",
      "epoch: 1365 \t loss: 22.945 \t reward: 86.459\n",
      "epoch: 1366 \t loss: 43.030 \t reward: 191.471\n",
      "epoch: 1367 \t loss: 47.986 \t reward: 102.884\n",
      "epoch: 1368 \t loss: 22.257 \t reward: 83.110\n",
      "epoch: 1369 \t loss: 62.724 \t reward: 151.681\n"
     ]
    },
    {
     "name": "stderr",
     "output_type": "stream",
     "text": [
      "100%|████████████████████████| 100/100 [00:55<00:00,  1.82it/s]\n"
     ]
    },
    {
     "name": "stdout",
     "output_type": "stream",
     "text": [
      "epoch: 1370 \t loss: 21.987 \t reward: 160.641\n",
      "epoch: 1371 \t loss: 4.844 \t reward: 88.505\n",
      "epoch: 1372 \t loss: 69.667 \t reward: 188.275\n",
      "epoch: 1373 \t loss: -7.518 \t reward: 38.447\n",
      "epoch: 1374 \t loss: -6.116 \t reward: 123.707\n",
      "epoch: 1375 \t loss: 34.765 \t reward: 156.206\n",
      "epoch: 1376 \t loss: 13.453 \t reward: 153.902\n",
      "epoch: 1377 \t loss: 47.000 \t reward: 185.586\n",
      "epoch: 1378 \t loss: 45.831 \t reward: 207.016\n",
      "epoch: 1379 \t loss: 24.627 \t reward: 139.947\n"
     ]
    },
    {
     "name": "stderr",
     "output_type": "stream",
     "text": [
      "100%|████████████████████████| 100/100 [01:25<00:00,  1.18it/s]\n"
     ]
    },
    {
     "name": "stdout",
     "output_type": "stream",
     "text": [
      "epoch: 1380 \t loss: 1.580 \t reward: 118.235\n",
      "epoch: 1381 \t loss: 35.391 \t reward: 145.790\n",
      "epoch: 1382 \t loss: -0.779 \t reward: 110.218\n",
      "epoch: 1383 \t loss: 27.367 \t reward: 132.518\n",
      "epoch: 1384 \t loss: -7.334 \t reward: 116.139\n",
      "epoch: 1385 \t loss: 11.347 \t reward: 98.807\n",
      "epoch: 1386 \t loss: 21.603 \t reward: 121.411\n",
      "epoch: 1387 \t loss: -55.100 \t reward: -5.557\n",
      "epoch: 1388 \t loss: -1.466 \t reward: 146.696\n",
      "epoch: 1389 \t loss: 79.702 \t reward: 217.995\n"
     ]
    },
    {
     "name": "stderr",
     "output_type": "stream",
     "text": [
      "100%|████████████████████████| 100/100 [01:19<00:00,  1.27it/s]\n"
     ]
    },
    {
     "name": "stdout",
     "output_type": "stream",
     "text": [
      "epoch: 1390 \t loss: -5.506 \t reward: 70.875\n",
      "epoch: 1391 \t loss: 20.274 \t reward: 147.372\n",
      "epoch: 1392 \t loss: -5.046 \t reward: 82.022\n",
      "epoch: 1393 \t loss: -16.515 \t reward: 64.826\n",
      "epoch: 1394 \t loss: 21.784 \t reward: 118.503\n",
      "epoch: 1395 \t loss: 33.947 \t reward: 166.287\n",
      "epoch: 1396 \t loss: 47.583 \t reward: 188.074\n",
      "epoch: 1397 \t loss: -30.603 \t reward: 38.353\n",
      "epoch: 1398 \t loss: 3.393 \t reward: 127.584\n",
      "epoch: 1399 \t loss: 22.850 \t reward: 171.997\n"
     ]
    },
    {
     "name": "stderr",
     "output_type": "stream",
     "text": [
      "100%|████████████████████████| 100/100 [01:12<00:00,  1.37it/s]\n"
     ]
    },
    {
     "name": "stdout",
     "output_type": "stream",
     "text": [
      "Best model! Average reward = 146.47, Success rate = 70.00%\n",
      "epoch: 1400 \t loss: 78.293 \t reward: 178.186\n",
      "epoch: 1401 \t loss: 13.198 \t reward: 144.091\n",
      "epoch: 1402 \t loss: 10.023 \t reward: 126.716\n",
      "epoch: 1403 \t loss: 20.506 \t reward: 110.906\n",
      "epoch: 1404 \t loss: 45.429 \t reward: 204.797\n",
      "epoch: 1405 \t loss: 21.465 \t reward: 95.048\n",
      "epoch: 1406 \t loss: 47.669 \t reward: 203.134\n",
      "epoch: 1407 \t loss: 74.847 \t reward: 193.670\n",
      "epoch: 1408 \t loss: 72.090 \t reward: 223.114\n",
      "epoch: 1409 \t loss: 3.456 \t reward: 122.328\n"
     ]
    },
    {
     "name": "stderr",
     "output_type": "stream",
     "text": [
      "100%|████████████████████████| 100/100 [01:02<00:00,  1.61it/s]\n"
     ]
    },
    {
     "name": "stdout",
     "output_type": "stream",
     "text": [
      "epoch: 1410 \t loss: 45.514 \t reward: 165.256\n",
      "epoch: 1411 \t loss: 10.317 \t reward: 106.111\n",
      "epoch: 1412 \t loss: -17.413 \t reward: 22.221\n",
      "epoch: 1413 \t loss: 16.426 \t reward: 98.074\n",
      "epoch: 1414 \t loss: 28.128 \t reward: 150.150\n",
      "epoch: 1415 \t loss: 31.909 \t reward: 137.251\n",
      "epoch: 1416 \t loss: 49.888 \t reward: 198.243\n",
      "epoch: 1417 \t loss: 23.824 \t reward: 104.754\n",
      "epoch: 1418 \t loss: -5.086 \t reward: 69.267\n",
      "epoch: 1419 \t loss: 48.540 \t reward: 116.324\n"
     ]
    },
    {
     "name": "stderr",
     "output_type": "stream",
     "text": [
      "100%|████████████████████████| 100/100 [00:28<00:00,  3.47it/s]\n"
     ]
    },
    {
     "name": "stdout",
     "output_type": "stream",
     "text": [
      "epoch: 1420 \t loss: 60.808 \t reward: 188.936\n",
      "epoch: 1421 \t loss: 14.898 \t reward: 69.821\n",
      "epoch: 1422 \t loss: 26.035 \t reward: 103.660\n",
      "epoch: 1423 \t loss: 44.935 \t reward: 185.091\n",
      "epoch: 1424 \t loss: 21.609 \t reward: 137.552\n",
      "epoch: 1425 \t loss: 20.557 \t reward: 103.230\n",
      "epoch: 1426 \t loss: 23.243 \t reward: 102.095\n",
      "epoch: 1427 \t loss: 13.414 \t reward: 89.772\n",
      "epoch: 1428 \t loss: 15.898 \t reward: 113.511\n",
      "epoch: 1429 \t loss: 68.171 \t reward: 159.503\n"
     ]
    },
    {
     "name": "stderr",
     "output_type": "stream",
     "text": [
      "100%|████████████████████████| 100/100 [00:29<00:00,  3.35it/s]\n"
     ]
    },
    {
     "name": "stdout",
     "output_type": "stream",
     "text": [
      "epoch: 1430 \t loss: 31.280 \t reward: 74.266\n",
      "epoch: 1431 \t loss: 4.238 \t reward: 100.201\n",
      "epoch: 1432 \t loss: 54.415 \t reward: 170.494\n",
      "epoch: 1433 \t loss: 41.664 \t reward: 86.353\n",
      "epoch: 1434 \t loss: 42.996 \t reward: 89.147\n",
      "epoch: 1435 \t loss: 24.871 \t reward: 116.161\n",
      "epoch: 1436 \t loss: 30.965 \t reward: 69.958\n",
      "epoch: 1437 \t loss: -0.152 \t reward: 49.697\n",
      "epoch: 1438 \t loss: 11.977 \t reward: 52.623\n",
      "epoch: 1439 \t loss: -9.171 \t reward: 15.951\n"
     ]
    },
    {
     "name": "stderr",
     "output_type": "stream",
     "text": [
      "100%|████████████████████████| 100/100 [00:12<00:00,  8.29it/s]\n"
     ]
    },
    {
     "name": "stdout",
     "output_type": "stream",
     "text": [
      "epoch: 1440 \t loss: 0.725 \t reward: 44.750\n",
      "epoch: 1441 \t loss: -9.927 \t reward: 32.264\n",
      "epoch: 1442 \t loss: 2.863 \t reward: 42.922\n",
      "epoch: 1443 \t loss: 12.138 \t reward: 45.536\n",
      "epoch: 1444 \t loss: 7.152 \t reward: 66.849\n",
      "epoch: 1445 \t loss: 35.907 \t reward: 52.743\n",
      "epoch: 1446 \t loss: 25.058 \t reward: 107.542\n",
      "epoch: 1447 \t loss: -3.282 \t reward: 59.418\n",
      "epoch: 1448 \t loss: 16.136 \t reward: 95.419\n",
      "epoch: 1449 \t loss: 10.234 \t reward: 98.198\n"
     ]
    },
    {
     "name": "stderr",
     "output_type": "stream",
     "text": [
      "100%|████████████████████████| 100/100 [00:26<00:00,  3.75it/s]\n"
     ]
    },
    {
     "name": "stdout",
     "output_type": "stream",
     "text": [
      "epoch: 1450 \t loss: 13.257 \t reward: 56.035\n",
      "epoch: 1451 \t loss: 55.575 \t reward: 117.952\n",
      "epoch: 1452 \t loss: 3.093 \t reward: 87.569\n",
      "epoch: 1453 \t loss: 78.864 \t reward: 189.049\n",
      "epoch: 1454 \t loss: 34.047 \t reward: 146.949\n",
      "epoch: 1455 \t loss: -11.118 \t reward: 66.201\n",
      "epoch: 1456 \t loss: 37.077 \t reward: 148.052\n",
      "epoch: 1457 \t loss: 23.814 \t reward: 126.152\n",
      "epoch: 1458 \t loss: 2.256 \t reward: 89.415\n",
      "epoch: 1459 \t loss: 23.215 \t reward: 91.300\n"
     ]
    },
    {
     "name": "stderr",
     "output_type": "stream",
     "text": [
      "100%|████████████████████████| 100/100 [00:50<00:00,  2.00it/s]\n"
     ]
    },
    {
     "name": "stdout",
     "output_type": "stream",
     "text": [
      "epoch: 1460 \t loss: 19.655 \t reward: 116.868\n",
      "epoch: 1461 \t loss: 33.582 \t reward: 131.596\n",
      "epoch: 1462 \t loss: 62.699 \t reward: 123.538\n",
      "epoch: 1463 \t loss: 28.322 \t reward: 97.958\n",
      "epoch: 1464 \t loss: 15.732 \t reward: 118.164\n",
      "epoch: 1465 \t loss: 34.721 \t reward: 165.891\n",
      "epoch: 1466 \t loss: 32.563 \t reward: 131.768\n",
      "epoch: 1467 \t loss: 22.852 \t reward: 112.207\n",
      "epoch: 1468 \t loss: -5.353 \t reward: 112.939\n",
      "epoch: 1469 \t loss: 65.014 \t reward: 178.395\n"
     ]
    },
    {
     "name": "stderr",
     "output_type": "stream",
     "text": [
      "100%|████████████████████████| 100/100 [00:49<00:00,  2.02it/s]\n"
     ]
    },
    {
     "name": "stdout",
     "output_type": "stream",
     "text": [
      "Best model! Average reward = 152.49, Success rate = 77.00%\n",
      "epoch: 1470 \t loss: 31.396 \t reward: 149.523\n",
      "epoch: 1471 \t loss: 58.033 \t reward: 163.269\n",
      "epoch: 1472 \t loss: 2.798 \t reward: 116.320\n",
      "epoch: 1473 \t loss: 25.807 \t reward: 137.640\n",
      "epoch: 1474 \t loss: 49.728 \t reward: 186.251\n",
      "epoch: 1475 \t loss: 28.353 \t reward: 129.518\n",
      "epoch: 1476 \t loss: 67.050 \t reward: 195.656\n",
      "epoch: 1477 \t loss: 32.526 \t reward: 184.587\n",
      "epoch: 1478 \t loss: 1.952 \t reward: 90.803\n",
      "epoch: 1479 \t loss: 40.555 \t reward: 201.230\n"
     ]
    },
    {
     "name": "stderr",
     "output_type": "stream",
     "text": [
      "100%|████████████████████████| 100/100 [00:33<00:00,  2.99it/s]\n"
     ]
    },
    {
     "name": "stdout",
     "output_type": "stream",
     "text": [
      "epoch: 1480 \t loss: 30.910 \t reward: 115.826\n",
      "epoch: 1481 \t loss: 3.610 \t reward: 148.901\n",
      "epoch: 1482 \t loss: 55.529 \t reward: 150.302\n",
      "epoch: 1483 \t loss: 80.735 \t reward: 177.611\n",
      "epoch: 1484 \t loss: 50.106 \t reward: 145.902\n",
      "epoch: 1485 \t loss: 36.735 \t reward: 200.940\n",
      "epoch: 1486 \t loss: 66.714 \t reward: 165.613\n",
      "epoch: 1487 \t loss: 33.284 \t reward: 158.818\n",
      "epoch: 1488 \t loss: 27.258 \t reward: 126.756\n",
      "epoch: 1489 \t loss: 2.720 \t reward: 66.194\n"
     ]
    },
    {
     "name": "stderr",
     "output_type": "stream",
     "text": [
      "100%|████████████████████████| 100/100 [00:32<00:00,  3.07it/s]\n"
     ]
    },
    {
     "name": "stdout",
     "output_type": "stream",
     "text": [
      "epoch: 1490 \t loss: 3.740 \t reward: 174.672\n",
      "epoch: 1491 \t loss: 7.077 \t reward: 82.748\n",
      "epoch: 1492 \t loss: 9.906 \t reward: 101.379\n",
      "epoch: 1493 \t loss: 27.933 \t reward: 120.994\n",
      "epoch: 1494 \t loss: 21.599 \t reward: 119.137\n",
      "epoch: 1495 \t loss: 45.798 \t reward: 175.632\n",
      "epoch: 1496 \t loss: 26.606 \t reward: 117.014\n",
      "epoch: 1497 \t loss: 88.249 \t reward: 239.234\n",
      "epoch: 1498 \t loss: 24.170 \t reward: 110.499\n",
      "epoch: 1499 \t loss: 17.103 \t reward: 111.076\n"
     ]
    },
    {
     "name": "stderr",
     "output_type": "stream",
     "text": [
      "100%|████████████████████████| 100/100 [00:41<00:00,  2.41it/s]\n"
     ]
    },
    {
     "name": "stdout",
     "output_type": "stream",
     "text": [
      "epoch: 1500 \t loss: -10.427 \t reward: 57.490\n",
      "epoch: 1501 \t loss: 86.438 \t reward: 239.756\n",
      "epoch: 1502 \t loss: 46.694 \t reward: 185.878\n",
      "epoch: 1503 \t loss: 22.689 \t reward: 138.456\n",
      "epoch: 1504 \t loss: 57.910 \t reward: 177.445\n",
      "epoch: 1505 \t loss: -6.025 \t reward: 61.739\n",
      "epoch: 1506 \t loss: -19.418 \t reward: 32.650\n",
      "epoch: 1507 \t loss: 5.025 \t reward: 87.867\n",
      "epoch: 1508 \t loss: 12.278 \t reward: 151.491\n",
      "epoch: 1509 \t loss: 38.309 \t reward: 163.430\n"
     ]
    },
    {
     "name": "stderr",
     "output_type": "stream",
     "text": [
      "100%|████████████████████████| 100/100 [00:54<00:00,  1.83it/s]\n"
     ]
    },
    {
     "name": "stdout",
     "output_type": "stream",
     "text": [
      "epoch: 1510 \t loss: 37.820 \t reward: 189.443\n",
      "epoch: 1511 \t loss: 24.884 \t reward: 168.434\n",
      "epoch: 1512 \t loss: 56.733 \t reward: 209.651\n",
      "epoch: 1513 \t loss: 5.296 \t reward: 79.148\n",
      "epoch: 1514 \t loss: 9.645 \t reward: 131.889\n",
      "epoch: 1515 \t loss: -16.485 \t reward: 102.785\n",
      "epoch: 1516 \t loss: 30.002 \t reward: 168.013\n",
      "epoch: 1517 \t loss: 0.472 \t reward: 126.721\n",
      "epoch: 1518 \t loss: 21.230 \t reward: 148.198\n",
      "epoch: 1519 \t loss: 8.223 \t reward: 119.604\n"
     ]
    },
    {
     "name": "stderr",
     "output_type": "stream",
     "text": [
      "100%|████████████████████████| 100/100 [00:54<00:00,  1.82it/s]\n"
     ]
    },
    {
     "name": "stdout",
     "output_type": "stream",
     "text": [
      "epoch: 1520 \t loss: 41.502 \t reward: 180.153\n",
      "epoch: 1521 \t loss: 53.182 \t reward: 193.182\n",
      "epoch: 1522 \t loss: 84.764 \t reward: 222.736\n",
      "epoch: 1523 \t loss: 16.871 \t reward: 111.350\n",
      "epoch: 1524 \t loss: -12.902 \t reward: 60.521\n",
      "epoch: 1525 \t loss: 22.884 \t reward: 123.745\n",
      "epoch: 1526 \t loss: 0.286 \t reward: 131.581\n",
      "epoch: 1527 \t loss: 36.943 \t reward: 172.000\n",
      "epoch: 1528 \t loss: 61.330 \t reward: 165.566\n",
      "epoch: 1529 \t loss: 36.158 \t reward: 141.519\n"
     ]
    },
    {
     "name": "stderr",
     "output_type": "stream",
     "text": [
      "100%|████████████████████████| 100/100 [00:54<00:00,  1.82it/s]\n"
     ]
    },
    {
     "name": "stdout",
     "output_type": "stream",
     "text": [
      "Best model! Average reward = 155.29, Success rate = 69.00%\n",
      "epoch: 1530 \t loss: 9.616 \t reward: 120.781\n",
      "epoch: 1531 \t loss: 33.816 \t reward: 168.165\n",
      "epoch: 1532 \t loss: 39.191 \t reward: 156.142\n",
      "epoch: 1533 \t loss: 36.644 \t reward: 204.252\n",
      "epoch: 1534 \t loss: 37.898 \t reward: 193.053\n",
      "epoch: 1535 \t loss: 11.839 \t reward: 90.468\n",
      "epoch: 1536 \t loss: 36.127 \t reward: 189.915\n",
      "epoch: 1537 \t loss: 3.421 \t reward: 126.459\n",
      "epoch: 1538 \t loss: 38.945 \t reward: 134.022\n",
      "epoch: 1539 \t loss: 32.307 \t reward: 145.947\n"
     ]
    },
    {
     "name": "stderr",
     "output_type": "stream",
     "text": [
      "100%|████████████████████████| 100/100 [00:57<00:00,  1.72it/s]\n"
     ]
    },
    {
     "name": "stdout",
     "output_type": "stream",
     "text": [
      "Best model! Average reward = 156.78, Success rate = 67.00%\n",
      "epoch: 1540 \t loss: 46.008 \t reward: 202.003\n",
      "epoch: 1541 \t loss: 1.821 \t reward: 116.314\n",
      "epoch: 1542 \t loss: 26.326 \t reward: 110.947\n",
      "epoch: 1543 \t loss: 3.286 \t reward: 116.619\n",
      "epoch: 1544 \t loss: 45.498 \t reward: 213.783\n",
      "epoch: 1545 \t loss: 76.893 \t reward: 211.822\n",
      "epoch: 1546 \t loss: 63.735 \t reward: 199.037\n",
      "epoch: 1547 \t loss: 48.492 \t reward: 232.732\n",
      "epoch: 1548 \t loss: 53.319 \t reward: 175.570\n",
      "epoch: 1549 \t loss: -1.028 \t reward: 134.789\n"
     ]
    },
    {
     "name": "stderr",
     "output_type": "stream",
     "text": [
      "100%|████████████████████████| 100/100 [01:09<00:00,  1.44it/s]\n"
     ]
    },
    {
     "name": "stdout",
     "output_type": "stream",
     "text": [
      "Best model! Average reward = 160.28, Success rate = 73.00%\n",
      "epoch: 1550 \t loss: 7.630 \t reward: 97.953\n",
      "epoch: 1551 \t loss: 19.955 \t reward: 177.018\n",
      "epoch: 1552 \t loss: -1.944 \t reward: 86.296\n",
      "epoch: 1553 \t loss: 6.521 \t reward: 132.434\n",
      "epoch: 1554 \t loss: 11.478 \t reward: 147.303\n",
      "epoch: 1555 \t loss: 16.716 \t reward: 76.471\n",
      "epoch: 1556 \t loss: 5.428 \t reward: 110.965\n",
      "epoch: 1557 \t loss: 6.361 \t reward: 111.891\n",
      "epoch: 1558 \t loss: 16.141 \t reward: 82.396\n",
      "epoch: 1559 \t loss: -14.786 \t reward: 96.060\n"
     ]
    },
    {
     "name": "stderr",
     "output_type": "stream",
     "text": [
      "100%|████████████████████████| 100/100 [01:16<00:00,  1.30it/s]\n"
     ]
    },
    {
     "name": "stdout",
     "output_type": "stream",
     "text": [
      "epoch: 1560 \t loss: -11.893 \t reward: 68.984\n",
      "epoch: 1561 \t loss: 46.188 \t reward: 128.478\n",
      "epoch: 1562 \t loss: 42.078 \t reward: 129.283\n",
      "epoch: 1563 \t loss: 11.054 \t reward: 159.333\n",
      "epoch: 1564 \t loss: 32.197 \t reward: 148.405\n",
      "epoch: 1565 \t loss: 18.757 \t reward: 147.597\n",
      "epoch: 1566 \t loss: -3.568 \t reward: 122.612\n",
      "epoch: 1567 \t loss: 29.437 \t reward: 143.621\n",
      "epoch: 1568 \t loss: 0.361 \t reward: 108.972\n",
      "epoch: 1569 \t loss: 2.236 \t reward: 99.482\n"
     ]
    },
    {
     "name": "stderr",
     "output_type": "stream",
     "text": [
      "100%|████████████████████████| 100/100 [01:24<00:00,  1.19it/s]\n"
     ]
    },
    {
     "name": "stdout",
     "output_type": "stream",
     "text": [
      "epoch: 1570 \t loss: 30.007 \t reward: 133.141\n",
      "epoch: 1571 \t loss: 7.000 \t reward: 128.360\n",
      "epoch: 1572 \t loss: -19.520 \t reward: 76.276\n",
      "epoch: 1573 \t loss: 34.157 \t reward: 183.525\n",
      "epoch: 1574 \t loss: -22.203 \t reward: 54.600\n",
      "epoch: 1575 \t loss: 0.581 \t reward: 109.621\n",
      "epoch: 1576 \t loss: 37.791 \t reward: 173.026\n",
      "epoch: 1577 \t loss: 38.958 \t reward: 156.307\n",
      "epoch: 1578 \t loss: 19.865 \t reward: 129.682\n",
      "epoch: 1579 \t loss: 73.669 \t reward: 179.221\n"
     ]
    },
    {
     "name": "stderr",
     "output_type": "stream",
     "text": [
      "100%|████████████████████████| 100/100 [01:34<00:00,  1.05it/s]\n"
     ]
    },
    {
     "name": "stdout",
     "output_type": "stream",
     "text": [
      "epoch: 1580 \t loss: -1.387 \t reward: 96.817\n",
      "epoch: 1581 \t loss: -2.358 \t reward: 75.540\n",
      "epoch: 1582 \t loss: 12.165 \t reward: 110.196\n",
      "epoch: 1583 \t loss: 14.853 \t reward: 128.519\n",
      "epoch: 1584 \t loss: 20.610 \t reward: 152.289\n",
      "epoch: 1585 \t loss: 1.471 \t reward: 102.698\n",
      "epoch: 1586 \t loss: 49.065 \t reward: 162.990\n",
      "epoch: 1587 \t loss: 91.482 \t reward: 218.111\n",
      "epoch: 1588 \t loss: -15.867 \t reward: 45.806\n",
      "epoch: 1589 \t loss: 6.544 \t reward: 116.487\n"
     ]
    },
    {
     "name": "stderr",
     "output_type": "stream",
     "text": [
      "100%|████████████████████████| 100/100 [01:32<00:00,  1.08it/s]\n"
     ]
    },
    {
     "name": "stdout",
     "output_type": "stream",
     "text": [
      "epoch: 1590 \t loss: 8.308 \t reward: 125.519\n",
      "epoch: 1591 \t loss: -7.036 \t reward: 104.432\n",
      "epoch: 1592 \t loss: 10.578 \t reward: 104.753\n",
      "epoch: 1593 \t loss: 1.641 \t reward: 108.799\n",
      "epoch: 1594 \t loss: 39.577 \t reward: 169.885\n",
      "epoch: 1595 \t loss: 1.511 \t reward: 110.496\n",
      "epoch: 1596 \t loss: 29.333 \t reward: 155.236\n",
      "epoch: 1597 \t loss: 45.558 \t reward: 163.517\n",
      "epoch: 1598 \t loss: 80.032 \t reward: 202.621\n",
      "epoch: 1599 \t loss: 33.437 \t reward: 93.151\n"
     ]
    },
    {
     "name": "stderr",
     "output_type": "stream",
     "text": [
      "100%|████████████████████████| 100/100 [01:20<00:00,  1.24it/s]\n"
     ]
    },
    {
     "name": "stdout",
     "output_type": "stream",
     "text": [
      "epoch: 1600 \t loss: 95.748 \t reward: 174.837\n",
      "epoch: 1601 \t loss: 10.992 \t reward: 121.916\n",
      "epoch: 1602 \t loss: -7.206 \t reward: 104.559\n",
      "epoch: 1603 \t loss: 53.508 \t reward: 169.581\n",
      "epoch: 1604 \t loss: 46.119 \t reward: 175.310\n",
      "epoch: 1605 \t loss: 33.834 \t reward: 161.468\n",
      "epoch: 1606 \t loss: 58.791 \t reward: 148.962\n",
      "epoch: 1607 \t loss: 15.229 \t reward: 145.879\n",
      "epoch: 1608 \t loss: 61.472 \t reward: 193.459\n",
      "epoch: 1609 \t loss: 23.232 \t reward: 120.245\n"
     ]
    },
    {
     "name": "stderr",
     "output_type": "stream",
     "text": [
      "100%|████████████████████████| 100/100 [01:18<00:00,  1.28it/s]\n"
     ]
    },
    {
     "name": "stdout",
     "output_type": "stream",
     "text": [
      "epoch: 1610 \t loss: 15.683 \t reward: 114.911\n",
      "epoch: 1611 \t loss: 4.400 \t reward: 128.447\n",
      "epoch: 1612 \t loss: 6.808 \t reward: 122.385\n",
      "epoch: 1613 \t loss: 12.847 \t reward: 155.721\n",
      "epoch: 1614 \t loss: -3.988 \t reward: 81.065\n",
      "epoch: 1615 \t loss: 56.269 \t reward: 167.406\n",
      "epoch: 1616 \t loss: 42.793 \t reward: 177.193\n",
      "epoch: 1617 \t loss: 24.650 \t reward: 117.237\n",
      "epoch: 1618 \t loss: 49.604 \t reward: 178.229\n",
      "epoch: 1619 \t loss: 34.829 \t reward: 129.389\n"
     ]
    },
    {
     "name": "stderr",
     "output_type": "stream",
     "text": [
      "100%|████████████████████████| 100/100 [01:19<00:00,  1.25it/s]\n"
     ]
    },
    {
     "name": "stdout",
     "output_type": "stream",
     "text": [
      "epoch: 1620 \t loss: 41.146 \t reward: 183.802\n",
      "epoch: 1621 \t loss: 37.640 \t reward: 161.669\n",
      "epoch: 1622 \t loss: 24.227 \t reward: 125.253\n",
      "epoch: 1623 \t loss: 47.515 \t reward: 143.620\n",
      "epoch: 1624 \t loss: 2.875 \t reward: 98.884\n",
      "epoch: 1625 \t loss: 52.056 \t reward: 182.970\n",
      "epoch: 1626 \t loss: 69.034 \t reward: 202.457\n",
      "epoch: 1627 \t loss: 7.763 \t reward: 100.492\n",
      "epoch: 1628 \t loss: 39.264 \t reward: 164.171\n",
      "epoch: 1629 \t loss: -9.209 \t reward: 61.572\n"
     ]
    },
    {
     "name": "stderr",
     "output_type": "stream",
     "text": [
      "100%|████████████████████████| 100/100 [01:33<00:00,  1.07it/s]\n"
     ]
    },
    {
     "name": "stdout",
     "output_type": "stream",
     "text": [
      "epoch: 1630 \t loss: 16.294 \t reward: 138.606\n",
      "epoch: 1631 \t loss: 77.208 \t reward: 152.581\n",
      "epoch: 1632 \t loss: 52.400 \t reward: 171.842\n",
      "epoch: 1633 \t loss: 17.596 \t reward: 105.893\n",
      "epoch: 1634 \t loss: -17.315 \t reward: 55.898\n",
      "epoch: 1635 \t loss: 30.274 \t reward: 136.235\n",
      "epoch: 1636 \t loss: 40.400 \t reward: 170.376\n",
      "epoch: 1637 \t loss: -20.529 \t reward: 65.545\n",
      "epoch: 1638 \t loss: 82.116 \t reward: 175.909\n",
      "epoch: 1639 \t loss: 15.766 \t reward: 139.249\n"
     ]
    },
    {
     "name": "stderr",
     "output_type": "stream",
     "text": [
      "100%|████████████████████████| 100/100 [01:36<00:00,  1.04it/s]\n"
     ]
    },
    {
     "name": "stdout",
     "output_type": "stream",
     "text": [
      "epoch: 1640 \t loss: -10.009 \t reward: 68.138\n",
      "epoch: 1641 \t loss: 66.194 \t reward: 187.853\n",
      "epoch: 1642 \t loss: 95.460 \t reward: 227.754\n",
      "epoch: 1643 \t loss: 23.275 \t reward: 148.421\n",
      "epoch: 1644 \t loss: 4.303 \t reward: 78.412\n",
      "epoch: 1645 \t loss: 7.141 \t reward: 41.910\n",
      "epoch: 1646 \t loss: 86.967 \t reward: 206.683\n",
      "epoch: 1647 \t loss: 6.167 \t reward: 101.066\n",
      "epoch: 1648 \t loss: 5.417 \t reward: 67.265\n",
      "epoch: 1649 \t loss: 10.331 \t reward: 115.672\n"
     ]
    },
    {
     "name": "stderr",
     "output_type": "stream",
     "text": [
      "100%|████████████████████████| 100/100 [01:24<00:00,  1.18it/s]\n"
     ]
    },
    {
     "name": "stdout",
     "output_type": "stream",
     "text": [
      "epoch: 1650 \t loss: 13.552 \t reward: 128.277\n",
      "epoch: 1651 \t loss: 56.247 \t reward: 185.220\n",
      "epoch: 1652 \t loss: 34.361 \t reward: 141.969\n",
      "epoch: 1653 \t loss: 47.438 \t reward: 156.975\n",
      "epoch: 1654 \t loss: 22.094 \t reward: 160.247\n",
      "epoch: 1655 \t loss: 6.278 \t reward: -6.030\n",
      "epoch: 1656 \t loss: 46.540 \t reward: 102.735\n",
      "epoch: 1657 \t loss: 40.716 \t reward: 59.739\n",
      "epoch: 1658 \t loss: -19.129 \t reward: 12.451\n",
      "epoch: 1659 \t loss: 45.077 \t reward: 150.366\n"
     ]
    },
    {
     "name": "stderr",
     "output_type": "stream",
     "text": [
      "100%|████████████████████████| 100/100 [01:34<00:00,  1.06it/s]\n"
     ]
    },
    {
     "name": "stdout",
     "output_type": "stream",
     "text": [
      "epoch: 1660 \t loss: 25.209 \t reward: 153.660\n",
      "epoch: 1661 \t loss: 11.232 \t reward: 140.211\n",
      "epoch: 1662 \t loss: 87.482 \t reward: 244.038\n",
      "epoch: 1663 \t loss: 33.678 \t reward: 160.864\n",
      "epoch: 1664 \t loss: 5.811 \t reward: 99.002\n",
      "epoch: 1665 \t loss: 51.410 \t reward: 123.875\n",
      "epoch: 1666 \t loss: 55.098 \t reward: 111.421\n",
      "epoch: 1667 \t loss: 60.500 \t reward: 172.720\n",
      "epoch: 1668 \t loss: 52.215 \t reward: 98.967\n",
      "epoch: 1669 \t loss: 1.209 \t reward: 127.764\n"
     ]
    },
    {
     "name": "stderr",
     "output_type": "stream",
     "text": [
      "100%|████████████████████████| 100/100 [00:56<00:00,  1.76it/s]\n"
     ]
    },
    {
     "name": "stdout",
     "output_type": "stream",
     "text": [
      "epoch: 1670 \t loss: 63.763 \t reward: 215.731\n",
      "epoch: 1671 \t loss: 45.499 \t reward: 67.233\n",
      "epoch: 1672 \t loss: 68.462 \t reward: 152.599\n",
      "epoch: 1673 \t loss: 45.243 \t reward: 122.768\n",
      "epoch: 1674 \t loss: 22.989 \t reward: 179.611\n",
      "epoch: 1675 \t loss: -11.971 \t reward: 53.785\n",
      "epoch: 1676 \t loss: 35.614 \t reward: 84.388\n",
      "epoch: 1677 \t loss: -6.842 \t reward: 89.406\n",
      "epoch: 1678 \t loss: 17.969 \t reward: 119.538\n",
      "epoch: 1679 \t loss: 71.393 \t reward: 183.138\n"
     ]
    },
    {
     "name": "stderr",
     "output_type": "stream",
     "text": [
      "100%|████████████████████████| 100/100 [00:33<00:00,  3.02it/s]\n"
     ]
    },
    {
     "name": "stdout",
     "output_type": "stream",
     "text": [
      "epoch: 1680 \t loss: 42.799 \t reward: 89.422\n",
      "epoch: 1681 \t loss: 22.207 \t reward: 102.751\n",
      "epoch: 1682 \t loss: 10.225 \t reward: 62.695\n",
      "epoch: 1683 \t loss: 42.132 \t reward: 163.569\n",
      "epoch: 1684 \t loss: 26.164 \t reward: 124.711\n",
      "epoch: 1685 \t loss: 60.490 \t reward: 217.111\n",
      "epoch: 1686 \t loss: 22.897 \t reward: 86.340\n",
      "epoch: 1687 \t loss: 1.697 \t reward: 43.591\n",
      "epoch: 1688 \t loss: -0.953 \t reward: 19.227\n",
      "epoch: 1689 \t loss: 3.711 \t reward: 82.925\n"
     ]
    },
    {
     "name": "stderr",
     "output_type": "stream",
     "text": [
      "100%|████████████████████████| 100/100 [00:21<00:00,  4.70it/s]\n"
     ]
    },
    {
     "name": "stdout",
     "output_type": "stream",
     "text": [
      "epoch: 1690 \t loss: 24.498 \t reward: 56.685\n",
      "epoch: 1691 \t loss: 41.239 \t reward: 74.403\n",
      "epoch: 1692 \t loss: 20.198 \t reward: 53.314\n",
      "epoch: 1693 \t loss: 7.117 \t reward: 100.543\n",
      "epoch: 1694 \t loss: 38.298 \t reward: 90.556\n",
      "epoch: 1695 \t loss: -6.335 \t reward: 66.337\n",
      "epoch: 1696 \t loss: 13.892 \t reward: 50.716\n",
      "epoch: 1697 \t loss: 22.225 \t reward: 66.120\n",
      "epoch: 1698 \t loss: 34.772 \t reward: 116.186\n",
      "epoch: 1699 \t loss: 21.189 \t reward: 99.752\n"
     ]
    },
    {
     "name": "stderr",
     "output_type": "stream",
     "text": [
      "100%|████████████████████████| 100/100 [00:21<00:00,  4.69it/s]\n"
     ]
    },
    {
     "name": "stdout",
     "output_type": "stream",
     "text": [
      "epoch: 1700 \t loss: 33.823 \t reward: 84.307\n",
      "epoch: 1701 \t loss: 12.855 \t reward: 61.795\n",
      "epoch: 1702 \t loss: 34.354 \t reward: 110.364\n",
      "epoch: 1703 \t loss: 28.363 \t reward: 122.766\n",
      "epoch: 1704 \t loss: 32.852 \t reward: 79.207\n",
      "epoch: 1705 \t loss: 42.756 \t reward: 99.763\n",
      "epoch: 1706 \t loss: 23.377 \t reward: 97.770\n",
      "epoch: 1707 \t loss: 18.280 \t reward: 138.579\n",
      "epoch: 1708 \t loss: 44.457 \t reward: 127.343\n",
      "epoch: 1709 \t loss: 23.051 \t reward: 106.458\n"
     ]
    },
    {
     "name": "stderr",
     "output_type": "stream",
     "text": [
      "100%|████████████████████████| 100/100 [00:33<00:00,  2.98it/s]\n"
     ]
    },
    {
     "name": "stdout",
     "output_type": "stream",
     "text": [
      "epoch: 1710 \t loss: 12.260 \t reward: 98.499\n",
      "epoch: 1711 \t loss: 42.716 \t reward: 137.569\n",
      "epoch: 1712 \t loss: 54.797 \t reward: 106.785\n",
      "epoch: 1713 \t loss: 59.509 \t reward: 192.662\n",
      "epoch: 1714 \t loss: 23.863 \t reward: 97.557\n",
      "epoch: 1715 \t loss: 71.307 \t reward: 166.182\n",
      "epoch: 1716 \t loss: 31.073 \t reward: 186.501\n",
      "epoch: 1717 \t loss: 13.755 \t reward: 121.500\n",
      "epoch: 1718 \t loss: 1.744 \t reward: 110.399\n",
      "epoch: 1719 \t loss: 15.543 \t reward: 145.972\n"
     ]
    },
    {
     "name": "stderr",
     "output_type": "stream",
     "text": [
      "100%|████████████████████████| 100/100 [00:44<00:00,  2.25it/s]\n"
     ]
    },
    {
     "name": "stdout",
     "output_type": "stream",
     "text": [
      "Best model! Average reward = 171.22, Success rate = 81.00%\n",
      "epoch: 1720 \t loss: 17.740 \t reward: 109.188\n",
      "epoch: 1721 \t loss: -2.208 \t reward: 120.016\n",
      "epoch: 1722 \t loss: 6.839 \t reward: 66.233\n",
      "epoch: 1723 \t loss: 69.311 \t reward: 209.633\n",
      "epoch: 1724 \t loss: 59.532 \t reward: 149.350\n",
      "epoch: 1725 \t loss: 96.174 \t reward: 211.317\n",
      "epoch: 1726 \t loss: 46.205 \t reward: 164.963\n",
      "epoch: 1727 \t loss: 8.895 \t reward: 129.956\n",
      "epoch: 1728 \t loss: 54.380 \t reward: 164.854\n",
      "epoch: 1729 \t loss: 26.188 \t reward: 126.259\n"
     ]
    },
    {
     "name": "stderr",
     "output_type": "stream",
     "text": [
      "100%|████████████████████████| 100/100 [00:55<00:00,  1.79it/s]\n"
     ]
    },
    {
     "name": "stdout",
     "output_type": "stream",
     "text": [
      "epoch: 1730 \t loss: 53.530 \t reward: 205.511\n",
      "epoch: 1731 \t loss: 11.109 \t reward: 115.871\n",
      "epoch: 1732 \t loss: 34.668 \t reward: 177.747\n",
      "epoch: 1733 \t loss: -8.780 \t reward: 64.131\n",
      "epoch: 1734 \t loss: 75.344 \t reward: 229.373\n",
      "epoch: 1735 \t loss: -10.432 \t reward: 67.434\n",
      "epoch: 1736 \t loss: -5.403 \t reward: 104.968\n",
      "epoch: 1737 \t loss: 33.666 \t reward: 146.465\n",
      "epoch: 1738 \t loss: 30.298 \t reward: 178.945\n",
      "epoch: 1739 \t loss: 2.883 \t reward: 112.606\n"
     ]
    },
    {
     "name": "stderr",
     "output_type": "stream",
     "text": [
      "100%|████████████████████████| 100/100 [01:05<00:00,  1.53it/s]\n"
     ]
    },
    {
     "name": "stdout",
     "output_type": "stream",
     "text": [
      "epoch: 1740 \t loss: 29.386 \t reward: 153.396\n",
      "epoch: 1741 \t loss: 38.321 \t reward: 180.188\n",
      "epoch: 1742 \t loss: 64.712 \t reward: 193.734\n",
      "epoch: 1743 \t loss: 77.407 \t reward: 213.751\n",
      "epoch: 1744 \t loss: 47.161 \t reward: 161.981\n",
      "epoch: 1745 \t loss: 2.809 \t reward: 98.374\n",
      "epoch: 1746 \t loss: 59.618 \t reward: 180.220\n",
      "epoch: 1747 \t loss: 40.091 \t reward: 120.235\n",
      "epoch: 1748 \t loss: 4.751 \t reward: 122.717\n",
      "epoch: 1749 \t loss: -1.083 \t reward: 108.302\n"
     ]
    },
    {
     "name": "stderr",
     "output_type": "stream",
     "text": [
      "100%|████████████████████████| 100/100 [01:20<00:00,  1.25it/s]\n"
     ]
    },
    {
     "name": "stdout",
     "output_type": "stream",
     "text": [
      "epoch: 1750 \t loss: 28.285 \t reward: 172.617\n",
      "epoch: 1751 \t loss: 13.298 \t reward: 100.735\n",
      "epoch: 1752 \t loss: 24.806 \t reward: 114.764\n",
      "epoch: 1753 \t loss: 11.399 \t reward: 125.146\n",
      "epoch: 1754 \t loss: 73.261 \t reward: 197.018\n",
      "epoch: 1755 \t loss: 24.831 \t reward: 155.602\n",
      "epoch: 1756 \t loss: 43.795 \t reward: 165.380\n",
      "epoch: 1757 \t loss: 39.406 \t reward: 144.434\n",
      "epoch: 1758 \t loss: 34.656 \t reward: 157.368\n",
      "epoch: 1759 \t loss: 6.827 \t reward: 124.902\n"
     ]
    },
    {
     "name": "stderr",
     "output_type": "stream",
     "text": [
      "100%|████████████████████████| 100/100 [01:33<00:00,  1.07it/s]\n"
     ]
    },
    {
     "name": "stdout",
     "output_type": "stream",
     "text": [
      "epoch: 1760 \t loss: 30.161 \t reward: 171.379\n",
      "epoch: 1761 \t loss: 58.000 \t reward: 179.188\n",
      "epoch: 1762 \t loss: 46.633 \t reward: 180.911\n",
      "epoch: 1763 \t loss: -1.624 \t reward: 112.976\n",
      "epoch: 1764 \t loss: 24.460 \t reward: 150.599\n",
      "epoch: 1765 \t loss: 48.114 \t reward: 170.118\n",
      "epoch: 1766 \t loss: 32.394 \t reward: 155.637\n",
      "epoch: 1767 \t loss: 15.858 \t reward: 137.671\n",
      "epoch: 1768 \t loss: 42.985 \t reward: 146.373\n",
      "epoch: 1769 \t loss: 15.886 \t reward: 123.845\n"
     ]
    },
    {
     "name": "stderr",
     "output_type": "stream",
     "text": [
      "100%|████████████████████████| 100/100 [01:13<00:00,  1.37it/s]\n"
     ]
    },
    {
     "name": "stdout",
     "output_type": "stream",
     "text": [
      "epoch: 1770 \t loss: 57.669 \t reward: 156.629\n",
      "epoch: 1771 \t loss: 76.296 \t reward: 189.515\n",
      "epoch: 1772 \t loss: 65.156 \t reward: 201.971\n",
      "epoch: 1773 \t loss: 49.780 \t reward: 198.763\n",
      "epoch: 1774 \t loss: 94.999 \t reward: 226.076\n",
      "epoch: 1775 \t loss: 24.480 \t reward: 162.437\n",
      "epoch: 1776 \t loss: 49.520 \t reward: 203.717\n",
      "epoch: 1777 \t loss: 73.229 \t reward: 197.403\n",
      "epoch: 1778 \t loss: 50.382 \t reward: 196.394\n",
      "epoch: 1779 \t loss: 43.155 \t reward: 181.041\n"
     ]
    },
    {
     "name": "stderr",
     "output_type": "stream",
     "text": [
      "100%|████████████████████████| 100/100 [01:00<00:00,  1.64it/s]\n"
     ]
    },
    {
     "name": "stdout",
     "output_type": "stream",
     "text": [
      "Best model! Average reward = 173.89, Success rate = 83.00%\n",
      "epoch: 1780 \t loss: 46.580 \t reward: 202.228\n",
      "epoch: 1781 \t loss: 17.806 \t reward: 140.906\n",
      "epoch: 1782 \t loss: 9.835 \t reward: 140.881\n",
      "epoch: 1783 \t loss: 6.811 \t reward: 90.381\n",
      "epoch: 1784 \t loss: 31.956 \t reward: 177.623\n",
      "epoch: 1785 \t loss: 8.861 \t reward: 129.118\n",
      "epoch: 1786 \t loss: 55.493 \t reward: 152.370\n",
      "epoch: 1787 \t loss: 39.784 \t reward: 140.550\n",
      "epoch: 1788 \t loss: 70.395 \t reward: 182.566\n",
      "epoch: 1789 \t loss: 38.279 \t reward: 151.113\n"
     ]
    },
    {
     "name": "stderr",
     "output_type": "stream",
     "text": [
      "100%|████████████████████████| 100/100 [01:12<00:00,  1.37it/s]\n"
     ]
    },
    {
     "name": "stdout",
     "output_type": "stream",
     "text": [
      "epoch: 1790 \t loss: -15.447 \t reward: 64.378\n",
      "epoch: 1791 \t loss: 0.805 \t reward: 92.725\n",
      "epoch: 1792 \t loss: 57.399 \t reward: 137.284\n",
      "epoch: 1793 \t loss: 26.834 \t reward: 120.402\n",
      "epoch: 1794 \t loss: 21.362 \t reward: 114.747\n",
      "epoch: 1795 \t loss: 21.267 \t reward: 116.491\n",
      "epoch: 1796 \t loss: 2.353 \t reward: 95.311\n",
      "epoch: 1797 \t loss: 63.784 \t reward: 126.395\n",
      "epoch: 1798 \t loss: 62.932 \t reward: 171.737\n",
      "epoch: 1799 \t loss: 93.900 \t reward: 208.531\n"
     ]
    },
    {
     "name": "stderr",
     "output_type": "stream",
     "text": [
      "100%|████████████████████████| 100/100 [01:14<00:00,  1.34it/s]\n"
     ]
    },
    {
     "name": "stdout",
     "output_type": "stream",
     "text": [
      "epoch: 1800 \t loss: 24.552 \t reward: 154.683\n",
      "epoch: 1801 \t loss: 12.401 \t reward: 134.209\n",
      "epoch: 1802 \t loss: -19.658 \t reward: 64.838\n",
      "epoch: 1803 \t loss: 38.874 \t reward: 103.392\n",
      "epoch: 1804 \t loss: 31.313 \t reward: 133.997\n",
      "epoch: 1805 \t loss: -9.512 \t reward: 55.590\n",
      "epoch: 1806 \t loss: 23.638 \t reward: 149.375\n",
      "epoch: 1807 \t loss: 16.844 \t reward: 121.031\n",
      "epoch: 1808 \t loss: 0.818 \t reward: 55.182\n",
      "epoch: 1809 \t loss: 65.278 \t reward: 171.786\n"
     ]
    },
    {
     "name": "stderr",
     "output_type": "stream",
     "text": [
      "100%|████████████████████████| 100/100 [02:03<00:00,  1.24s/it]\n"
     ]
    },
    {
     "name": "stdout",
     "output_type": "stream",
     "text": [
      "epoch: 1810 \t loss: -6.487 \t reward: 73.485\n",
      "epoch: 1811 \t loss: 5.582 \t reward: 51.358\n",
      "epoch: 1812 \t loss: -21.458 \t reward: 53.210\n",
      "epoch: 1813 \t loss: -15.529 \t reward: 37.530\n",
      "epoch: 1814 \t loss: -9.012 \t reward: 80.873\n",
      "epoch: 1815 \t loss: -107.285 \t reward: -47.282\n",
      "epoch: 1816 \t loss: -44.798 \t reward: 7.167\n",
      "epoch: 1817 \t loss: -55.619 \t reward: 6.797\n",
      "epoch: 1818 \t loss: -56.693 \t reward: 4.312\n",
      "epoch: 1819 \t loss: -19.395 \t reward: 38.222\n"
     ]
    },
    {
     "name": "stderr",
     "output_type": "stream",
     "text": [
      "100%|████████████████████████| 100/100 [02:45<00:00,  1.65s/it]\n"
     ]
    },
    {
     "name": "stdout",
     "output_type": "stream",
     "text": [
      "epoch: 1820 \t loss: -53.606 \t reward: -13.753\n",
      "epoch: 1821 \t loss: -64.644 \t reward: -21.083\n",
      "epoch: 1822 \t loss: -10.546 \t reward: 27.242\n",
      "epoch: 1823 \t loss: -41.977 \t reward: -1.779\n",
      "epoch: 1824 \t loss: -34.170 \t reward: 25.615\n",
      "epoch: 1825 \t loss: -10.943 \t reward: 50.600\n",
      "epoch: 1826 \t loss: -46.484 \t reward: 9.912\n",
      "epoch: 1827 \t loss: 32.847 \t reward: 97.908\n",
      "epoch: 1828 \t loss: -23.316 \t reward: 43.481\n",
      "epoch: 1829 \t loss: -57.568 \t reward: 0.754\n"
     ]
    },
    {
     "name": "stderr",
     "output_type": "stream",
     "text": [
      "100%|████████████████████████| 100/100 [02:26<00:00,  1.47s/it]\n"
     ]
    },
    {
     "name": "stdout",
     "output_type": "stream",
     "text": [
      "epoch: 1830 \t loss: 92.436 \t reward: 200.908\n",
      "epoch: 1831 \t loss: -19.601 \t reward: 30.566\n",
      "epoch: 1832 \t loss: 68.898 \t reward: 169.171\n",
      "epoch: 1833 \t loss: -6.949 \t reward: 83.261\n",
      "epoch: 1834 \t loss: -33.825 \t reward: 13.664\n",
      "epoch: 1835 \t loss: -34.210 \t reward: 26.904\n",
      "epoch: 1836 \t loss: -34.563 \t reward: 22.491\n",
      "epoch: 1837 \t loss: 35.562 \t reward: 118.594\n",
      "epoch: 1838 \t loss: -7.741 \t reward: 112.771\n",
      "epoch: 1839 \t loss: 33.062 \t reward: 137.373\n"
     ]
    },
    {
     "name": "stderr",
     "output_type": "stream",
     "text": [
      "100%|████████████████████████| 100/100 [01:44<00:00,  1.04s/it]\n"
     ]
    },
    {
     "name": "stdout",
     "output_type": "stream",
     "text": [
      "epoch: 1840 \t loss: 28.872 \t reward: 115.066\n",
      "epoch: 1841 \t loss: 1.750 \t reward: 68.330\n",
      "epoch: 1842 \t loss: 47.227 \t reward: 163.179\n",
      "epoch: 1843 \t loss: 32.701 \t reward: 138.912\n",
      "epoch: 1844 \t loss: 100.418 \t reward: 227.674\n",
      "epoch: 1845 \t loss: 11.762 \t reward: 107.503\n",
      "epoch: 1846 \t loss: 35.936 \t reward: 152.365\n",
      "epoch: 1847 \t loss: 40.888 \t reward: 144.959\n",
      "epoch: 1848 \t loss: 14.975 \t reward: 131.726\n",
      "epoch: 1849 \t loss: -8.482 \t reward: 70.551\n"
     ]
    },
    {
     "name": "stderr",
     "output_type": "stream",
     "text": [
      "100%|████████████████████████| 100/100 [01:24<00:00,  1.18it/s]\n"
     ]
    },
    {
     "name": "stdout",
     "output_type": "stream",
     "text": [
      "epoch: 1850 \t loss: 38.806 \t reward: 182.335\n",
      "epoch: 1851 \t loss: 71.383 \t reward: 164.907\n",
      "epoch: 1852 \t loss: 64.354 \t reward: 197.087\n",
      "epoch: 1853 \t loss: 68.715 \t reward: 189.270\n",
      "epoch: 1854 \t loss: 31.907 \t reward: 171.161\n",
      "epoch: 1855 \t loss: 75.151 \t reward: 198.929\n",
      "epoch: 1856 \t loss: 76.163 \t reward: 187.131\n",
      "epoch: 1857 \t loss: -11.408 \t reward: 76.083\n",
      "epoch: 1858 \t loss: 27.502 \t reward: 95.225\n",
      "epoch: 1859 \t loss: -15.485 \t reward: 54.946\n"
     ]
    },
    {
     "name": "stderr",
     "output_type": "stream",
     "text": [
      "100%|████████████████████████| 100/100 [01:21<00:00,  1.23it/s]\n"
     ]
    },
    {
     "name": "stdout",
     "output_type": "stream",
     "text": [
      "epoch: 1860 \t loss: 42.789 \t reward: 161.927\n",
      "epoch: 1861 \t loss: 6.690 \t reward: 103.760\n",
      "epoch: 1862 \t loss: 52.564 \t reward: 158.791\n",
      "epoch: 1863 \t loss: 30.747 \t reward: 155.383\n",
      "epoch: 1864 \t loss: 25.200 \t reward: 159.362\n",
      "epoch: 1865 \t loss: 78.808 \t reward: 193.259\n",
      "epoch: 1866 \t loss: 21.750 \t reward: 166.853\n",
      "epoch: 1867 \t loss: 40.600 \t reward: 160.322\n",
      "epoch: 1868 \t loss: 6.045 \t reward: 113.855\n",
      "epoch: 1869 \t loss: 16.702 \t reward: 109.683\n"
     ]
    },
    {
     "name": "stderr",
     "output_type": "stream",
     "text": [
      "100%|████████████████████████| 100/100 [01:15<00:00,  1.32it/s]\n"
     ]
    },
    {
     "name": "stdout",
     "output_type": "stream",
     "text": [
      "epoch: 1870 \t loss: 92.304 \t reward: 228.657\n",
      "epoch: 1871 \t loss: 60.051 \t reward: 178.698\n",
      "epoch: 1872 \t loss: 66.088 \t reward: 179.023\n",
      "epoch: 1873 \t loss: 20.962 \t reward: 146.734\n",
      "epoch: 1874 \t loss: 20.423 \t reward: 108.096\n",
      "epoch: 1875 \t loss: 34.074 \t reward: 169.901\n",
      "epoch: 1876 \t loss: 69.415 \t reward: 190.255\n",
      "epoch: 1877 \t loss: 39.409 \t reward: 159.407\n",
      "epoch: 1878 \t loss: 46.647 \t reward: 179.284\n",
      "epoch: 1879 \t loss: 13.080 \t reward: 132.291\n"
     ]
    },
    {
     "name": "stderr",
     "output_type": "stream",
     "text": [
      "100%|████████████████████████| 100/100 [01:14<00:00,  1.35it/s]\n"
     ]
    },
    {
     "name": "stdout",
     "output_type": "stream",
     "text": [
      "epoch: 1880 \t loss: 55.487 \t reward: 158.229\n",
      "epoch: 1881 \t loss: 73.826 \t reward: 208.750\n",
      "epoch: 1882 \t loss: 48.809 \t reward: 179.345\n",
      "epoch: 1883 \t loss: 56.570 \t reward: 205.617\n",
      "epoch: 1884 \t loss: 56.713 \t reward: 115.174\n",
      "epoch: 1885 \t loss: 40.243 \t reward: 144.140\n",
      "epoch: 1886 \t loss: 41.366 \t reward: 159.151\n",
      "epoch: 1887 \t loss: 1.442 \t reward: 108.237\n",
      "epoch: 1888 \t loss: 33.641 \t reward: 170.320\n",
      "epoch: 1889 \t loss: 10.080 \t reward: 111.145\n"
     ]
    },
    {
     "name": "stderr",
     "output_type": "stream",
     "text": [
      "100%|████████████████████████| 100/100 [01:13<00:00,  1.36it/s]\n"
     ]
    },
    {
     "name": "stdout",
     "output_type": "stream",
     "text": [
      "Best model! Average reward = 177.91, Success rate = 89.00%\n",
      "epoch: 1890 \t loss: 58.519 \t reward: 194.568\n",
      "epoch: 1891 \t loss: 5.942 \t reward: 108.025\n",
      "epoch: 1892 \t loss: 43.767 \t reward: 184.138\n",
      "epoch: 1893 \t loss: 78.806 \t reward: 200.534\n",
      "epoch: 1894 \t loss: 13.824 \t reward: 131.905\n",
      "epoch: 1895 \t loss: 7.648 \t reward: 137.208\n",
      "epoch: 1896 \t loss: -13.731 \t reward: 69.605\n",
      "epoch: 1897 \t loss: 17.893 \t reward: 146.311\n",
      "epoch: 1898 \t loss: 35.413 \t reward: 143.978\n",
      "epoch: 1899 \t loss: 6.898 \t reward: 103.983\n"
     ]
    },
    {
     "name": "stderr",
     "output_type": "stream",
     "text": [
      "100%|████████████████████████| 100/100 [01:20<00:00,  1.24it/s]\n"
     ]
    },
    {
     "name": "stdout",
     "output_type": "stream",
     "text": [
      "epoch: 1900 \t loss: 35.049 \t reward: 162.248\n",
      "epoch: 1901 \t loss: 24.233 \t reward: 128.890\n",
      "epoch: 1902 \t loss: 84.517 \t reward: 222.825\n",
      "epoch: 1903 \t loss: 15.939 \t reward: 142.634\n",
      "epoch: 1904 \t loss: 80.306 \t reward: 205.424\n",
      "epoch: 1905 \t loss: 41.080 \t reward: 133.707\n",
      "epoch: 1906 \t loss: 68.196 \t reward: 215.984\n",
      "epoch: 1907 \t loss: 28.041 \t reward: 169.341\n",
      "epoch: 1908 \t loss: 99.644 \t reward: 227.968\n",
      "epoch: 1909 \t loss: 52.068 \t reward: 204.823\n"
     ]
    },
    {
     "name": "stderr",
     "output_type": "stream",
     "text": [
      "100%|████████████████████████| 100/100 [01:23<00:00,  1.20it/s]\n"
     ]
    },
    {
     "name": "stdout",
     "output_type": "stream",
     "text": [
      "epoch: 1910 \t loss: 15.461 \t reward: 137.602\n",
      "epoch: 1911 \t loss: 39.701 \t reward: 186.435\n",
      "epoch: 1912 \t loss: 43.236 \t reward: 169.890\n",
      "epoch: 1913 \t loss: 13.408 \t reward: 161.251\n",
      "epoch: 1914 \t loss: 29.913 \t reward: 159.573\n",
      "epoch: 1915 \t loss: 61.682 \t reward: 206.333\n",
      "epoch: 1916 \t loss: 28.517 \t reward: 128.555\n",
      "epoch: 1917 \t loss: -13.757 \t reward: 71.422\n",
      "epoch: 1918 \t loss: 61.482 \t reward: 197.741\n",
      "epoch: 1919 \t loss: 64.996 \t reward: 168.044\n"
     ]
    },
    {
     "name": "stderr",
     "output_type": "stream",
     "text": [
      "100%|████████████████████████| 100/100 [01:03<00:00,  1.58it/s]\n"
     ]
    },
    {
     "name": "stdout",
     "output_type": "stream",
     "text": [
      "epoch: 1920 \t loss: -4.421 \t reward: 77.844\n",
      "epoch: 1921 \t loss: 49.428 \t reward: 178.830\n",
      "epoch: 1922 \t loss: 49.728 \t reward: 160.252\n",
      "epoch: 1923 \t loss: 43.478 \t reward: 183.942\n",
      "epoch: 1924 \t loss: 23.892 \t reward: 142.907\n",
      "epoch: 1925 \t loss: 25.609 \t reward: 149.640\n",
      "epoch: 1926 \t loss: 3.581 \t reward: 108.396\n",
      "epoch: 1927 \t loss: 33.528 \t reward: 152.328\n",
      "epoch: 1928 \t loss: 40.110 \t reward: 163.035\n",
      "epoch: 1929 \t loss: 37.106 \t reward: 168.112\n"
     ]
    },
    {
     "name": "stderr",
     "output_type": "stream",
     "text": [
      "100%|████████████████████████| 100/100 [01:01<00:00,  1.62it/s]\n"
     ]
    },
    {
     "name": "stdout",
     "output_type": "stream",
     "text": [
      "epoch: 1930 \t loss: 26.866 \t reward: 138.297\n",
      "epoch: 1931 \t loss: 64.921 \t reward: 213.654\n",
      "epoch: 1932 \t loss: 33.245 \t reward: 127.691\n",
      "epoch: 1933 \t loss: 3.491 \t reward: 102.974\n",
      "epoch: 1934 \t loss: 49.264 \t reward: 171.743\n",
      "epoch: 1935 \t loss: 1.281 \t reward: 105.646\n",
      "epoch: 1936 \t loss: 66.864 \t reward: 182.789\n",
      "epoch: 1937 \t loss: 52.615 \t reward: 197.546\n",
      "epoch: 1938 \t loss: 73.333 \t reward: 214.824\n",
      "epoch: 1939 \t loss: 49.438 \t reward: 153.221\n"
     ]
    },
    {
     "name": "stderr",
     "output_type": "stream",
     "text": [
      "100%|████████████████████████| 100/100 [00:48<00:00,  2.07it/s]\n"
     ]
    },
    {
     "name": "stdout",
     "output_type": "stream",
     "text": [
      "epoch: 1940 \t loss: 15.111 \t reward: 125.171\n",
      "epoch: 1941 \t loss: 47.991 \t reward: 180.006\n",
      "epoch: 1942 \t loss: 58.049 \t reward: 204.116\n",
      "epoch: 1943 \t loss: 20.820 \t reward: 122.495\n",
      "epoch: 1944 \t loss: 29.557 \t reward: 126.318\n",
      "epoch: 1945 \t loss: 20.437 \t reward: 143.229\n",
      "epoch: 1946 \t loss: 42.697 \t reward: 92.644\n",
      "epoch: 1947 \t loss: 30.704 \t reward: 164.705\n",
      "epoch: 1948 \t loss: 34.198 \t reward: 150.581\n",
      "epoch: 1949 \t loss: 24.482 \t reward: 115.067\n"
     ]
    },
    {
     "name": "stderr",
     "output_type": "stream",
     "text": [
      "100%|████████████████████████| 100/100 [00:44<00:00,  2.25it/s]\n"
     ]
    },
    {
     "name": "stdout",
     "output_type": "stream",
     "text": [
      "epoch: 1950 \t loss: 1.169 \t reward: 96.144\n",
      "epoch: 1951 \t loss: 36.634 \t reward: 190.240\n",
      "epoch: 1952 \t loss: 22.925 \t reward: 135.318\n",
      "epoch: 1953 \t loss: 28.303 \t reward: 155.684\n",
      "epoch: 1954 \t loss: 29.649 \t reward: 126.956\n",
      "epoch: 1955 \t loss: 4.917 \t reward: 116.009\n",
      "epoch: 1956 \t loss: 32.162 \t reward: 163.511\n",
      "epoch: 1957 \t loss: 41.926 \t reward: 145.797\n",
      "epoch: 1958 \t loss: 37.967 \t reward: 155.507\n",
      "epoch: 1959 \t loss: 49.052 \t reward: 152.904\n"
     ]
    },
    {
     "name": "stderr",
     "output_type": "stream",
     "text": [
      "100%|████████████████████████| 100/100 [00:53<00:00,  1.87it/s]\n"
     ]
    },
    {
     "name": "stdout",
     "output_type": "stream",
     "text": [
      "epoch: 1960 \t loss: 21.438 \t reward: 89.998\n",
      "epoch: 1961 \t loss: 59.144 \t reward: 180.913\n",
      "epoch: 1962 \t loss: 63.761 \t reward: 209.162\n",
      "epoch: 1963 \t loss: 65.775 \t reward: 187.618\n",
      "epoch: 1964 \t loss: 61.647 \t reward: 182.150\n",
      "epoch: 1965 \t loss: 24.793 \t reward: 97.979\n",
      "epoch: 1966 \t loss: 31.634 \t reward: 177.333\n",
      "epoch: 1967 \t loss: 7.474 \t reward: 107.249\n",
      "epoch: 1968 \t loss: 44.558 \t reward: 172.395\n",
      "epoch: 1969 \t loss: 27.692 \t reward: 110.479\n"
     ]
    },
    {
     "name": "stderr",
     "output_type": "stream",
     "text": [
      "100%|████████████████████████| 100/100 [01:02<00:00,  1.61it/s]\n"
     ]
    },
    {
     "name": "stdout",
     "output_type": "stream",
     "text": [
      "epoch: 1970 \t loss: 40.007 \t reward: 176.953\n",
      "epoch: 1971 \t loss: 21.953 \t reward: 141.765\n",
      "epoch: 1972 \t loss: 48.036 \t reward: 134.123\n",
      "epoch: 1973 \t loss: 41.918 \t reward: 190.615\n",
      "epoch: 1974 \t loss: 60.013 \t reward: 198.198\n",
      "epoch: 1975 \t loss: 18.538 \t reward: 118.307\n",
      "epoch: 1976 \t loss: 71.630 \t reward: 198.255\n",
      "epoch: 1977 \t loss: 20.834 \t reward: 164.504\n",
      "epoch: 1978 \t loss: 48.519 \t reward: 184.331\n",
      "epoch: 1979 \t loss: 11.385 \t reward: 98.565\n"
     ]
    },
    {
     "name": "stderr",
     "output_type": "stream",
     "text": [
      "100%|████████████████████████| 100/100 [01:02<00:00,  1.60it/s]\n"
     ]
    },
    {
     "name": "stdout",
     "output_type": "stream",
     "text": [
      "epoch: 1980 \t loss: 62.100 \t reward: 202.175\n",
      "epoch: 1981 \t loss: 44.703 \t reward: 172.795\n",
      "epoch: 1982 \t loss: 94.741 \t reward: 217.227\n",
      "epoch: 1983 \t loss: 23.655 \t reward: 136.071\n",
      "epoch: 1984 \t loss: 38.412 \t reward: 159.449\n",
      "epoch: 1985 \t loss: 96.018 \t reward: 230.550\n",
      "epoch: 1986 \t loss: 82.900 \t reward: 217.727\n",
      "epoch: 1987 \t loss: 96.973 \t reward: 231.058\n",
      "epoch: 1988 \t loss: 82.913 \t reward: 229.274\n",
      "epoch: 1989 \t loss: -9.724 \t reward: 63.530\n"
     ]
    },
    {
     "name": "stderr",
     "output_type": "stream",
     "text": [
      "100%|████████████████████████| 100/100 [01:20<00:00,  1.25it/s]\n"
     ]
    },
    {
     "name": "stdout",
     "output_type": "stream",
     "text": [
      "epoch: 1990 \t loss: 76.337 \t reward: 203.232\n",
      "epoch: 1991 \t loss: 66.569 \t reward: 190.482\n",
      "epoch: 1992 \t loss: 22.218 \t reward: 91.602\n",
      "epoch: 1993 \t loss: 35.351 \t reward: 138.847\n",
      "epoch: 1994 \t loss: 22.974 \t reward: 131.817\n",
      "epoch: 1995 \t loss: 28.460 \t reward: 150.992\n",
      "epoch: 1996 \t loss: 8.557 \t reward: 129.847\n",
      "epoch: 1997 \t loss: 5.384 \t reward: 71.076\n",
      "epoch: 1998 \t loss: 10.080 \t reward: 106.572\n",
      "epoch: 1999 \t loss: 22.594 \t reward: 115.230\n"
     ]
    },
    {
     "name": "stderr",
     "output_type": "stream",
     "text": [
      "100%|████████████████████████| 100/100 [01:50<00:00,  1.10s/it]\n"
     ]
    },
    {
     "name": "stdout",
     "output_type": "stream",
     "text": [
      "epoch: 2000 \t loss: 21.681 \t reward: 137.232\n",
      "epoch: 2001 \t loss: -4.988 \t reward: 72.255\n",
      "epoch: 2002 \t loss: -33.127 \t reward: 11.865\n",
      "epoch: 2003 \t loss: 77.286 \t reward: 161.831\n",
      "epoch: 2004 \t loss: -5.683 \t reward: 81.689\n",
      "epoch: 2005 \t loss: 57.330 \t reward: 160.072\n",
      "epoch: 2006 \t loss: -0.019 \t reward: 71.518\n",
      "epoch: 2007 \t loss: 36.531 \t reward: 139.191\n",
      "epoch: 2008 \t loss: 77.258 \t reward: 186.625\n",
      "epoch: 2009 \t loss: -3.613 \t reward: 50.099\n"
     ]
    },
    {
     "name": "stderr",
     "output_type": "stream",
     "text": [
      "100%|████████████████████████| 100/100 [02:20<00:00,  1.41s/it]\n"
     ]
    },
    {
     "name": "stdout",
     "output_type": "stream",
     "text": [
      "epoch: 2010 \t loss: -26.036 \t reward: 55.627\n",
      "epoch: 2011 \t loss: 70.649 \t reward: 173.593\n",
      "epoch: 2012 \t loss: 12.132 \t reward: 118.647\n",
      "epoch: 2013 \t loss: 36.635 \t reward: 121.457\n",
      "epoch: 2014 \t loss: 85.370 \t reward: 183.241\n",
      "epoch: 2015 \t loss: 37.428 \t reward: 139.882\n",
      "epoch: 2016 \t loss: 45.975 \t reward: 150.970\n",
      "epoch: 2017 \t loss: 65.868 \t reward: 161.265\n",
      "epoch: 2018 \t loss: -13.653 \t reward: 69.930\n",
      "epoch: 2019 \t loss: 18.340 \t reward: 118.751\n"
     ]
    },
    {
     "name": "stderr",
     "output_type": "stream",
     "text": [
      "100%|████████████████████████| 100/100 [01:43<00:00,  1.04s/it]\n"
     ]
    },
    {
     "name": "stdout",
     "output_type": "stream",
     "text": [
      "epoch: 2020 \t loss: 57.942 \t reward: 158.772\n",
      "epoch: 2021 \t loss: 39.398 \t reward: 159.229\n",
      "epoch: 2022 \t loss: -16.141 \t reward: 67.680\n",
      "epoch: 2023 \t loss: 36.067 \t reward: 135.116\n",
      "epoch: 2024 \t loss: 0.222 \t reward: 86.114\n",
      "epoch: 2025 \t loss: 36.933 \t reward: 150.158\n",
      "epoch: 2026 \t loss: 10.807 \t reward: 141.348\n",
      "epoch: 2027 \t loss: 49.732 \t reward: 171.007\n",
      "epoch: 2028 \t loss: 45.189 \t reward: 175.493\n",
      "epoch: 2029 \t loss: 36.038 \t reward: 159.082\n"
     ]
    },
    {
     "name": "stderr",
     "output_type": "stream",
     "text": [
      "100%|████████████████████████| 100/100 [01:34<00:00,  1.06it/s]\n"
     ]
    },
    {
     "name": "stdout",
     "output_type": "stream",
     "text": [
      "epoch: 2030 \t loss: 20.164 \t reward: 135.606\n",
      "epoch: 2031 \t loss: 37.339 \t reward: 142.158\n",
      "epoch: 2032 \t loss: 34.735 \t reward: 141.730\n",
      "epoch: 2033 \t loss: 40.093 \t reward: 135.610\n",
      "epoch: 2034 \t loss: 4.333 \t reward: 84.162\n",
      "epoch: 2035 \t loss: -10.938 \t reward: 93.070\n",
      "epoch: 2036 \t loss: 13.098 \t reward: 135.402\n",
      "epoch: 2037 \t loss: 42.173 \t reward: 178.394\n",
      "epoch: 2038 \t loss: 87.940 \t reward: 211.553\n",
      "epoch: 2039 \t loss: -6.004 \t reward: 50.549\n"
     ]
    },
    {
     "name": "stderr",
     "output_type": "stream",
     "text": [
      "100%|████████████████████████| 100/100 [01:29<00:00,  1.12it/s]\n"
     ]
    },
    {
     "name": "stdout",
     "output_type": "stream",
     "text": [
      "epoch: 2040 \t loss: 83.882 \t reward: 203.718\n",
      "epoch: 2041 \t loss: 17.224 \t reward: 115.235\n",
      "epoch: 2042 \t loss: 76.981 \t reward: 202.900\n",
      "epoch: 2043 \t loss: 115.832 \t reward: 229.012\n",
      "epoch: 2044 \t loss: 5.713 \t reward: 129.168\n",
      "epoch: 2045 \t loss: 36.138 \t reward: 152.092\n",
      "epoch: 2046 \t loss: -9.572 \t reward: 52.942\n",
      "epoch: 2047 \t loss: 11.622 \t reward: 119.778\n",
      "epoch: 2048 \t loss: 16.552 \t reward: 113.799\n",
      "epoch: 2049 \t loss: 39.891 \t reward: 147.340\n"
     ]
    },
    {
     "name": "stderr",
     "output_type": "stream",
     "text": [
      "100%|████████████████████████| 100/100 [01:27<00:00,  1.15it/s]\n"
     ]
    },
    {
     "name": "stdout",
     "output_type": "stream",
     "text": [
      "epoch: 2050 \t loss: 11.571 \t reward: 109.072\n",
      "epoch: 2051 \t loss: 34.267 \t reward: 167.531\n",
      "epoch: 2052 \t loss: 28.044 \t reward: 152.509\n",
      "epoch: 2053 \t loss: 65.314 \t reward: 151.261\n",
      "epoch: 2054 \t loss: 57.477 \t reward: 190.658\n",
      "epoch: 2055 \t loss: 9.869 \t reward: 127.879\n",
      "epoch: 2056 \t loss: 41.215 \t reward: 154.578\n",
      "epoch: 2057 \t loss: 14.279 \t reward: 127.792\n",
      "epoch: 2058 \t loss: 15.790 \t reward: 119.474\n",
      "epoch: 2059 \t loss: 50.166 \t reward: 155.816\n"
     ]
    },
    {
     "name": "stderr",
     "output_type": "stream",
     "text": [
      "100%|████████████████████████| 100/100 [01:42<00:00,  1.03s/it]\n"
     ]
    },
    {
     "name": "stdout",
     "output_type": "stream",
     "text": [
      "epoch: 2060 \t loss: 41.298 \t reward: 150.111\n",
      "epoch: 2061 \t loss: 28.985 \t reward: 131.893\n",
      "epoch: 2062 \t loss: -2.026 \t reward: 84.717\n",
      "epoch: 2063 \t loss: 32.124 \t reward: 166.081\n",
      "epoch: 2064 \t loss: 76.214 \t reward: 198.302\n",
      "epoch: 2065 \t loss: 59.953 \t reward: 166.356\n",
      "epoch: 2066 \t loss: 44.914 \t reward: 156.938\n",
      "epoch: 2067 \t loss: 9.549 \t reward: 114.403\n",
      "epoch: 2068 \t loss: 57.025 \t reward: 203.342\n",
      "epoch: 2069 \t loss: -13.261 \t reward: 56.398\n"
     ]
    },
    {
     "name": "stderr",
     "output_type": "stream",
     "text": [
      "100%|████████████████████████| 100/100 [01:43<00:00,  1.03s/it]\n"
     ]
    },
    {
     "name": "stdout",
     "output_type": "stream",
     "text": [
      "epoch: 2070 \t loss: -9.155 \t reward: 71.456\n",
      "epoch: 2071 \t loss: 24.081 \t reward: 144.069\n",
      "epoch: 2072 \t loss: 37.040 \t reward: 185.019\n",
      "epoch: 2073 \t loss: -7.691 \t reward: 72.644\n",
      "epoch: 2074 \t loss: 31.258 \t reward: 129.588\n",
      "epoch: 2075 \t loss: 38.592 \t reward: 163.434\n",
      "epoch: 2076 \t loss: 49.705 \t reward: 181.449\n",
      "epoch: 2077 \t loss: 11.073 \t reward: 119.352\n",
      "epoch: 2078 \t loss: 62.899 \t reward: 198.552\n",
      "epoch: 2079 \t loss: 72.265 \t reward: 180.686\n"
     ]
    },
    {
     "name": "stderr",
     "output_type": "stream",
     "text": [
      "100%|████████████████████████| 100/100 [01:40<00:00,  1.00s/it]\n"
     ]
    },
    {
     "name": "stdout",
     "output_type": "stream",
     "text": [
      "epoch: 2080 \t loss: 11.954 \t reward: 112.591\n",
      "epoch: 2081 \t loss: 31.606 \t reward: 161.320\n",
      "epoch: 2082 \t loss: 13.699 \t reward: 134.034\n",
      "epoch: 2083 \t loss: 7.847 \t reward: 116.038\n",
      "epoch: 2084 \t loss: 54.593 \t reward: 194.861\n",
      "epoch: 2085 \t loss: 10.765 \t reward: 98.994\n",
      "epoch: 2086 \t loss: 10.531 \t reward: 69.009\n",
      "epoch: 2087 \t loss: 10.161 \t reward: 102.609\n",
      "epoch: 2088 \t loss: 3.770 \t reward: 110.473\n",
      "epoch: 2089 \t loss: 31.104 \t reward: 136.890\n"
     ]
    },
    {
     "name": "stderr",
     "output_type": "stream",
     "text": [
      "100%|████████████████████████| 100/100 [01:43<00:00,  1.03s/it]\n"
     ]
    },
    {
     "name": "stdout",
     "output_type": "stream",
     "text": [
      "epoch: 2090 \t loss: 53.328 \t reward: 211.987\n",
      "epoch: 2091 \t loss: 5.548 \t reward: 88.045\n",
      "epoch: 2092 \t loss: 86.627 \t reward: 223.844\n",
      "epoch: 2093 \t loss: 13.277 \t reward: 138.229\n",
      "epoch: 2094 \t loss: -6.560 \t reward: 85.097\n",
      "epoch: 2095 \t loss: 39.999 \t reward: 157.962\n",
      "epoch: 2096 \t loss: 47.213 \t reward: 184.756\n",
      "epoch: 2097 \t loss: 40.359 \t reward: 137.211\n",
      "epoch: 2098 \t loss: 56.062 \t reward: 185.484\n",
      "epoch: 2099 \t loss: 46.718 \t reward: 177.339\n"
     ]
    },
    {
     "name": "stderr",
     "output_type": "stream",
     "text": [
      "100%|████████████████████████| 100/100 [01:46<00:00,  1.07s/it]\n"
     ]
    },
    {
     "name": "stdout",
     "output_type": "stream",
     "text": [
      "epoch: 2100 \t loss: 5.337 \t reward: 114.672\n",
      "epoch: 2101 \t loss: 33.680 \t reward: 153.234\n",
      "epoch: 2102 \t loss: 10.768 \t reward: 115.261\n",
      "epoch: 2103 \t loss: 27.492 \t reward: 118.815\n",
      "epoch: 2104 \t loss: 64.800 \t reward: 164.740\n",
      "epoch: 2105 \t loss: 103.907 \t reward: 217.854\n",
      "epoch: 2106 \t loss: 74.719 \t reward: 209.305\n",
      "epoch: 2107 \t loss: 56.862 \t reward: 168.731\n",
      "epoch: 2108 \t loss: 39.692 \t reward: 161.036\n",
      "epoch: 2109 \t loss: 18.032 \t reward: 152.255\n"
     ]
    },
    {
     "name": "stderr",
     "output_type": "stream",
     "text": [
      "100%|████████████████████████| 100/100 [01:22<00:00,  1.22it/s]\n"
     ]
    },
    {
     "name": "stdout",
     "output_type": "stream",
     "text": [
      "epoch: 2110 \t loss: 44.311 \t reward: 168.600\n",
      "epoch: 2111 \t loss: 74.555 \t reward: 206.560\n",
      "epoch: 2112 \t loss: 27.257 \t reward: 125.612\n",
      "epoch: 2113 \t loss: -9.261 \t reward: 92.557\n",
      "epoch: 2114 \t loss: 12.887 \t reward: 120.805\n",
      "epoch: 2115 \t loss: 46.891 \t reward: 185.812\n",
      "epoch: 2116 \t loss: 47.129 \t reward: 155.147\n",
      "epoch: 2117 \t loss: 75.815 \t reward: 195.905\n",
      "epoch: 2118 \t loss: 79.847 \t reward: 187.777\n",
      "epoch: 2119 \t loss: 11.338 \t reward: 145.734\n"
     ]
    },
    {
     "name": "stderr",
     "output_type": "stream",
     "text": [
      "100%|████████████████████████| 100/100 [01:21<00:00,  1.23it/s]\n"
     ]
    },
    {
     "name": "stdout",
     "output_type": "stream",
     "text": [
      "epoch: 2120 \t loss: 60.022 \t reward: 186.185\n",
      "epoch: 2121 \t loss: 66.830 \t reward: 222.584\n",
      "epoch: 2122 \t loss: 47.079 \t reward: 176.580\n",
      "epoch: 2123 \t loss: 66.467 \t reward: 184.761\n",
      "epoch: 2124 \t loss: 39.225 \t reward: 176.381\n",
      "epoch: 2125 \t loss: 23.007 \t reward: 149.537\n",
      "epoch: 2126 \t loss: 61.666 \t reward: 207.786\n",
      "epoch: 2127 \t loss: 76.917 \t reward: 217.328\n",
      "epoch: 2128 \t loss: 48.097 \t reward: 180.081\n",
      "epoch: 2129 \t loss: 23.704 \t reward: 162.129\n"
     ]
    },
    {
     "name": "stderr",
     "output_type": "stream",
     "text": [
      "100%|████████████████████████| 100/100 [01:15<00:00,  1.33it/s]\n"
     ]
    },
    {
     "name": "stdout",
     "output_type": "stream",
     "text": [
      "epoch: 2130 \t loss: 7.192 \t reward: 89.235\n",
      "epoch: 2131 \t loss: 36.211 \t reward: 164.020\n",
      "epoch: 2132 \t loss: 23.313 \t reward: 160.281\n",
      "epoch: 2133 \t loss: 99.831 \t reward: 221.558\n",
      "epoch: 2134 \t loss: 10.925 \t reward: 136.561\n",
      "epoch: 2135 \t loss: 29.500 \t reward: 113.913\n",
      "epoch: 2136 \t loss: 20.386 \t reward: 149.188\n",
      "epoch: 2137 \t loss: 64.686 \t reward: 223.505\n",
      "epoch: 2138 \t loss: 13.055 \t reward: 140.875\n",
      "epoch: 2139 \t loss: 49.002 \t reward: 201.300\n"
     ]
    },
    {
     "name": "stderr",
     "output_type": "stream",
     "text": [
      "100%|████████████████████████| 100/100 [01:01<00:00,  1.64it/s]\n"
     ]
    },
    {
     "name": "stdout",
     "output_type": "stream",
     "text": [
      "epoch: 2140 \t loss: 75.492 \t reward: 205.514\n",
      "epoch: 2141 \t loss: 57.080 \t reward: 212.557\n",
      "epoch: 2142 \t loss: -3.124 \t reward: 94.058\n",
      "epoch: 2143 \t loss: 34.855 \t reward: 143.326\n",
      "epoch: 2144 \t loss: 59.741 \t reward: 191.315\n",
      "epoch: 2145 \t loss: 36.693 \t reward: 150.255\n",
      "epoch: 2146 \t loss: 43.780 \t reward: 167.557\n",
      "epoch: 2147 \t loss: 39.581 \t reward: 166.339\n",
      "epoch: 2148 \t loss: 51.560 \t reward: 192.522\n",
      "epoch: 2149 \t loss: 77.289 \t reward: 195.287\n"
     ]
    },
    {
     "name": "stderr",
     "output_type": "stream",
     "text": [
      "100%|████████████████████████| 100/100 [00:55<00:00,  1.80it/s]\n"
     ]
    },
    {
     "name": "stdout",
     "output_type": "stream",
     "text": [
      "Best model! Average reward = 179.40, Success rate = 81.00%\n",
      "epoch: 2150 \t loss: 62.031 \t reward: 188.050\n",
      "epoch: 2151 \t loss: 34.940 \t reward: 167.092\n",
      "epoch: 2152 \t loss: 71.989 \t reward: 173.792\n",
      "epoch: 2153 \t loss: 41.101 \t reward: 165.140\n",
      "epoch: 2154 \t loss: 49.566 \t reward: 156.351\n",
      "epoch: 2155 \t loss: 44.573 \t reward: 176.412\n",
      "epoch: 2156 \t loss: 77.620 \t reward: 225.403\n",
      "epoch: 2157 \t loss: 40.796 \t reward: 159.547\n",
      "epoch: 2158 \t loss: 32.323 \t reward: 114.876\n",
      "epoch: 2159 \t loss: 27.619 \t reward: 118.388\n"
     ]
    },
    {
     "name": "stderr",
     "output_type": "stream",
     "text": [
      "100%|████████████████████████| 100/100 [00:46<00:00,  2.16it/s]\n"
     ]
    },
    {
     "name": "stdout",
     "output_type": "stream",
     "text": [
      "epoch: 2160 \t loss: 22.747 \t reward: 78.055\n",
      "epoch: 2161 \t loss: 20.603 \t reward: 90.256\n",
      "epoch: 2162 \t loss: 26.763 \t reward: 123.466\n",
      "epoch: 2163 \t loss: 8.298 \t reward: 72.884\n",
      "epoch: 2164 \t loss: 71.478 \t reward: 184.924\n",
      "epoch: 2165 \t loss: -2.885 \t reward: 46.841\n",
      "epoch: 2166 \t loss: -8.912 \t reward: 69.683\n",
      "epoch: 2167 \t loss: 48.933 \t reward: 107.330\n",
      "epoch: 2168 \t loss: 20.032 \t reward: 100.845\n",
      "epoch: 2169 \t loss: 70.323 \t reward: 125.487\n"
     ]
    },
    {
     "name": "stderr",
     "output_type": "stream",
     "text": [
      "100%|████████████████████████| 100/100 [00:44<00:00,  2.27it/s]\n"
     ]
    },
    {
     "name": "stdout",
     "output_type": "stream",
     "text": [
      "epoch: 2170 \t loss: 47.382 \t reward: 107.444\n",
      "epoch: 2171 \t loss: 38.295 \t reward: 176.846\n",
      "epoch: 2172 \t loss: -0.509 \t reward: 67.838\n",
      "epoch: 2173 \t loss: 10.725 \t reward: 133.009\n",
      "epoch: 2174 \t loss: 56.301 \t reward: 142.987\n",
      "epoch: 2175 \t loss: 79.079 \t reward: 171.783\n",
      "epoch: 2176 \t loss: 6.765 \t reward: 97.589\n",
      "epoch: 2177 \t loss: 69.924 \t reward: 137.613\n",
      "epoch: 2178 \t loss: 11.114 \t reward: 158.368\n",
      "epoch: 2179 \t loss: -10.897 \t reward: 7.379\n"
     ]
    },
    {
     "name": "stderr",
     "output_type": "stream",
     "text": [
      "100%|████████████████████████| 100/100 [01:02<00:00,  1.59it/s]\n"
     ]
    },
    {
     "name": "stdout",
     "output_type": "stream",
     "text": [
      "epoch: 2180 \t loss: 81.792 \t reward: 213.754\n",
      "epoch: 2181 \t loss: 57.890 \t reward: 120.354\n",
      "epoch: 2182 \t loss: 63.702 \t reward: 129.924\n",
      "epoch: 2183 \t loss: 69.471 \t reward: 176.640\n",
      "epoch: 2184 \t loss: 7.476 \t reward: 79.072\n",
      "epoch: 2185 \t loss: 26.472 \t reward: 98.026\n",
      "epoch: 2186 \t loss: 2.570 \t reward: 78.638\n",
      "epoch: 2187 \t loss: -17.292 \t reward: 63.709\n",
      "epoch: 2188 \t loss: 70.074 \t reward: 142.727\n",
      "epoch: 2189 \t loss: 87.760 \t reward: 175.669\n"
     ]
    },
    {
     "name": "stderr",
     "output_type": "stream",
     "text": [
      "100%|████████████████████████| 100/100 [01:45<00:00,  1.05s/it]\n"
     ]
    },
    {
     "name": "stdout",
     "output_type": "stream",
     "text": [
      "epoch: 2190 \t loss: 39.016 \t reward: 122.602\n",
      "epoch: 2191 \t loss: 0.717 \t reward: 61.407\n",
      "epoch: 2192 \t loss: 74.427 \t reward: 162.415\n",
      "epoch: 2193 \t loss: -1.025 \t reward: 41.129\n",
      "epoch: 2194 \t loss: -0.016 \t reward: -7.588\n",
      "epoch: 2195 \t loss: 11.950 \t reward: 76.247\n",
      "epoch: 2196 \t loss: 24.339 \t reward: 113.756\n",
      "epoch: 2197 \t loss: 35.948 \t reward: 122.561\n",
      "epoch: 2198 \t loss: 38.837 \t reward: 110.016\n",
      "epoch: 2199 \t loss: -1.018 \t reward: 32.792\n"
     ]
    },
    {
     "name": "stderr",
     "output_type": "stream",
     "text": [
      "100%|████████████████████████| 100/100 [02:02<00:00,  1.23s/it]\n"
     ]
    },
    {
     "name": "stdout",
     "output_type": "stream",
     "text": [
      "epoch: 2200 \t loss: 55.083 \t reward: 163.882\n",
      "epoch: 2201 \t loss: 21.553 \t reward: 96.347\n",
      "epoch: 2202 \t loss: -15.017 \t reward: 40.390\n",
      "epoch: 2203 \t loss: 18.129 \t reward: 97.017\n",
      "epoch: 2204 \t loss: 56.411 \t reward: 105.982\n",
      "epoch: 2205 \t loss: -18.109 \t reward: 22.111\n",
      "epoch: 2206 \t loss: 17.841 \t reward: 80.199\n",
      "epoch: 2207 \t loss: 39.196 \t reward: 125.790\n",
      "epoch: 2208 \t loss: 9.157 \t reward: 84.348\n",
      "epoch: 2209 \t loss: 10.957 \t reward: 42.915\n"
     ]
    },
    {
     "name": "stderr",
     "output_type": "stream",
     "text": [
      "100%|████████████████████████| 100/100 [01:51<00:00,  1.11s/it]\n"
     ]
    },
    {
     "name": "stdout",
     "output_type": "stream",
     "text": [
      "epoch: 2210 \t loss: 43.983 \t reward: 117.594\n",
      "epoch: 2211 \t loss: 14.878 \t reward: 130.469\n",
      "epoch: 2212 \t loss: 9.286 \t reward: 83.710\n",
      "epoch: 2213 \t loss: 39.984 \t reward: 146.540\n",
      "epoch: 2214 \t loss: -14.372 \t reward: 19.058\n",
      "epoch: 2215 \t loss: 47.260 \t reward: 151.400\n",
      "epoch: 2216 \t loss: 109.284 \t reward: 188.332\n",
      "epoch: 2217 \t loss: 18.808 \t reward: 128.623\n",
      "epoch: 2218 \t loss: 36.191 \t reward: 154.836\n",
      "epoch: 2219 \t loss: 35.274 \t reward: 169.717\n"
     ]
    },
    {
     "name": "stderr",
     "output_type": "stream",
     "text": [
      "100%|████████████████████████| 100/100 [01:41<00:00,  1.01s/it]\n"
     ]
    },
    {
     "name": "stdout",
     "output_type": "stream",
     "text": [
      "epoch: 2220 \t loss: 54.319 \t reward: 165.536\n",
      "epoch: 2221 \t loss: 58.188 \t reward: 194.035\n",
      "epoch: 2222 \t loss: 43.818 \t reward: 153.756\n",
      "epoch: 2223 \t loss: 50.141 \t reward: 174.470\n",
      "epoch: 2224 \t loss: 63.943 \t reward: 179.108\n",
      "epoch: 2225 \t loss: 75.967 \t reward: 210.933\n",
      "epoch: 2226 \t loss: 62.959 \t reward: 192.726\n",
      "epoch: 2227 \t loss: 8.675 \t reward: 100.474\n",
      "epoch: 2228 \t loss: 23.014 \t reward: 121.133\n",
      "epoch: 2229 \t loss: 33.411 \t reward: 137.512\n"
     ]
    },
    {
     "name": "stderr",
     "output_type": "stream",
     "text": [
      "100%|████████████████████████| 100/100 [01:26<00:00,  1.15it/s]\n"
     ]
    },
    {
     "name": "stdout",
     "output_type": "stream",
     "text": [
      "epoch: 2230 \t loss: 20.159 \t reward: 118.573\n",
      "epoch: 2231 \t loss: 41.904 \t reward: 165.813\n",
      "epoch: 2232 \t loss: 11.073 \t reward: 82.035\n",
      "epoch: 2233 \t loss: 16.116 \t reward: 135.855\n",
      "epoch: 2234 \t loss: 28.836 \t reward: 132.408\n",
      "epoch: 2235 \t loss: 77.788 \t reward: 202.411\n",
      "epoch: 2236 \t loss: 19.006 \t reward: 147.696\n",
      "epoch: 2237 \t loss: 59.561 \t reward: 204.252\n",
      "epoch: 2238 \t loss: 20.751 \t reward: 119.418\n",
      "epoch: 2239 \t loss: 59.431 \t reward: 189.867\n"
     ]
    },
    {
     "name": "stderr",
     "output_type": "stream",
     "text": [
      "100%|████████████████████████| 100/100 [01:10<00:00,  1.41it/s]\n"
     ]
    },
    {
     "name": "stdout",
     "output_type": "stream",
     "text": [
      "epoch: 2240 \t loss: 33.077 \t reward: 174.019\n",
      "epoch: 2241 \t loss: 42.908 \t reward: 210.263\n",
      "epoch: 2242 \t loss: 47.054 \t reward: 187.300\n",
      "epoch: 2243 \t loss: 31.072 \t reward: 128.572\n",
      "epoch: 2244 \t loss: 71.170 \t reward: 207.633\n",
      "epoch: 2245 \t loss: 77.655 \t reward: 217.668\n",
      "epoch: 2246 \t loss: 27.987 \t reward: 130.871\n",
      "epoch: 2247 \t loss: 72.509 \t reward: 207.712\n",
      "epoch: 2248 \t loss: 34.524 \t reward: 150.546\n",
      "epoch: 2249 \t loss: 56.138 \t reward: 182.338\n"
     ]
    },
    {
     "name": "stderr",
     "output_type": "stream",
     "text": [
      "100%|████████████████████████| 100/100 [01:22<00:00,  1.21it/s]\n"
     ]
    },
    {
     "name": "stdout",
     "output_type": "stream",
     "text": [
      "epoch: 2250 \t loss: 72.751 \t reward: 240.726\n",
      "epoch: 2251 \t loss: 36.072 \t reward: 183.042\n",
      "epoch: 2252 \t loss: 86.386 \t reward: 201.968\n",
      "epoch: 2253 \t loss: 30.568 \t reward: 170.192\n",
      "epoch: 2254 \t loss: 51.767 \t reward: 198.482\n",
      "epoch: 2255 \t loss: 56.113 \t reward: 194.404\n",
      "epoch: 2256 \t loss: 22.235 \t reward: 125.649\n",
      "epoch: 2257 \t loss: 13.182 \t reward: 120.894\n",
      "epoch: 2258 \t loss: 43.369 \t reward: 160.137\n",
      "epoch: 2259 \t loss: 44.204 \t reward: 189.299\n"
     ]
    },
    {
     "name": "stderr",
     "output_type": "stream",
     "text": [
      "100%|████████████████████████| 100/100 [01:05<00:00,  1.52it/s]\n"
     ]
    },
    {
     "name": "stdout",
     "output_type": "stream",
     "text": [
      "epoch: 2260 \t loss: 76.521 \t reward: 196.683\n",
      "epoch: 2261 \t loss: 32.332 \t reward: 141.767\n",
      "epoch: 2262 \t loss: 10.804 \t reward: 105.020\n",
      "epoch: 2263 \t loss: 63.249 \t reward: 193.874\n",
      "epoch: 2264 \t loss: 18.233 \t reward: 132.995\n",
      "epoch: 2265 \t loss: 56.983 \t reward: 175.871\n",
      "epoch: 2266 \t loss: 74.715 \t reward: 223.047\n",
      "epoch: 2267 \t loss: 10.487 \t reward: 136.639\n",
      "epoch: 2268 \t loss: 57.385 \t reward: 182.110\n",
      "epoch: 2269 \t loss: 40.181 \t reward: 164.767\n"
     ]
    },
    {
     "name": "stderr",
     "output_type": "stream",
     "text": [
      "100%|████████████████████████| 100/100 [01:03<00:00,  1.58it/s]\n"
     ]
    },
    {
     "name": "stdout",
     "output_type": "stream",
     "text": [
      "epoch: 2270 \t loss: 31.707 \t reward: 164.736\n",
      "epoch: 2271 \t loss: 50.148 \t reward: 151.838\n",
      "epoch: 2272 \t loss: 65.827 \t reward: 179.931\n",
      "epoch: 2273 \t loss: 44.119 \t reward: 169.709\n",
      "epoch: 2274 \t loss: 6.928 \t reward: 132.936\n",
      "epoch: 2275 \t loss: 13.410 \t reward: 141.393\n",
      "epoch: 2276 \t loss: 42.902 \t reward: 168.043\n",
      "epoch: 2277 \t loss: 22.000 \t reward: 142.780\n",
      "epoch: 2278 \t loss: 53.285 \t reward: 180.413\n",
      "epoch: 2279 \t loss: 48.356 \t reward: 173.906\n"
     ]
    },
    {
     "name": "stderr",
     "output_type": "stream",
     "text": [
      "100%|████████████████████████| 100/100 [00:52<00:00,  1.92it/s]\n"
     ]
    },
    {
     "name": "stdout",
     "output_type": "stream",
     "text": [
      "epoch: 2280 \t loss: 73.957 \t reward: 176.736\n",
      "epoch: 2281 \t loss: 29.273 \t reward: 144.839\n",
      "epoch: 2282 \t loss: 52.025 \t reward: 154.740\n",
      "epoch: 2283 \t loss: 49.305 \t reward: 188.578\n",
      "epoch: 2284 \t loss: 36.857 \t reward: 181.985\n",
      "epoch: 2285 \t loss: 14.036 \t reward: 142.597\n",
      "epoch: 2286 \t loss: 55.620 \t reward: 140.382\n",
      "epoch: 2287 \t loss: 26.991 \t reward: 134.568\n",
      "epoch: 2288 \t loss: 31.612 \t reward: 141.551\n",
      "epoch: 2289 \t loss: 43.942 \t reward: 204.056\n"
     ]
    },
    {
     "name": "stderr",
     "output_type": "stream",
     "text": [
      "100%|████████████████████████| 100/100 [00:42<00:00,  2.35it/s]\n"
     ]
    },
    {
     "name": "stdout",
     "output_type": "stream",
     "text": [
      "epoch: 2290 \t loss: 39.963 \t reward: 181.352\n",
      "epoch: 2291 \t loss: 62.953 \t reward: 148.512\n",
      "epoch: 2292 \t loss: 57.822 \t reward: 161.958\n",
      "epoch: 2293 \t loss: 12.941 \t reward: 106.790\n",
      "epoch: 2294 \t loss: 52.413 \t reward: 197.765\n",
      "epoch: 2295 \t loss: 33.478 \t reward: 154.281\n",
      "epoch: 2296 \t loss: 78.700 \t reward: 220.943\n",
      "epoch: 2297 \t loss: 20.378 \t reward: 180.758\n",
      "epoch: 2298 \t loss: 28.433 \t reward: 141.229\n",
      "epoch: 2299 \t loss: 75.027 \t reward: 229.779\n"
     ]
    },
    {
     "name": "stderr",
     "output_type": "stream",
     "text": [
      "100%|████████████████████████| 100/100 [00:44<00:00,  2.25it/s]\n"
     ]
    },
    {
     "name": "stdout",
     "output_type": "stream",
     "text": [
      "epoch: 2300 \t loss: 68.784 \t reward: 147.170\n",
      "epoch: 2301 \t loss: 44.480 \t reward: 207.608\n",
      "epoch: 2302 \t loss: 32.326 \t reward: 158.473\n",
      "epoch: 2303 \t loss: 21.310 \t reward: 88.005\n",
      "epoch: 2304 \t loss: 24.596 \t reward: 176.105\n",
      "epoch: 2305 \t loss: 32.537 \t reward: 181.128\n",
      "epoch: 2306 \t loss: 9.742 \t reward: 67.188\n",
      "epoch: 2307 \t loss: 41.662 \t reward: 207.353\n",
      "epoch: 2308 \t loss: 41.254 \t reward: 186.184\n",
      "epoch: 2309 \t loss: 14.437 \t reward: 127.446\n"
     ]
    },
    {
     "name": "stderr",
     "output_type": "stream",
     "text": [
      "100%|████████████████████████| 100/100 [00:48<00:00,  2.08it/s]\n"
     ]
    },
    {
     "name": "stdout",
     "output_type": "stream",
     "text": [
      "epoch: 2310 \t loss: 54.934 \t reward: 176.997\n",
      "epoch: 2311 \t loss: 57.685 \t reward: 134.762\n",
      "epoch: 2312 \t loss: 26.311 \t reward: 134.887\n",
      "epoch: 2313 \t loss: 22.749 \t reward: 171.204\n",
      "epoch: 2314 \t loss: 45.539 \t reward: 185.974\n",
      "epoch: 2315 \t loss: 53.348 \t reward: 168.947\n",
      "epoch: 2316 \t loss: 61.694 \t reward: 184.364\n",
      "epoch: 2317 \t loss: 71.196 \t reward: 200.537\n",
      "epoch: 2318 \t loss: 66.649 \t reward: 159.947\n",
      "epoch: 2319 \t loss: 102.384 \t reward: 233.790\n"
     ]
    },
    {
     "name": "stderr",
     "output_type": "stream",
     "text": [
      "100%|████████████████████████| 100/100 [01:01<00:00,  1.62it/s]\n"
     ]
    },
    {
     "name": "stdout",
     "output_type": "stream",
     "text": [
      "epoch: 2320 \t loss: 97.981 \t reward: 235.005\n",
      "epoch: 2321 \t loss: 50.515 \t reward: 182.528\n",
      "epoch: 2322 \t loss: 60.854 \t reward: 201.883\n",
      "epoch: 2323 \t loss: 23.942 \t reward: 96.606\n",
      "epoch: 2324 \t loss: 25.696 \t reward: 122.069\n",
      "epoch: 2325 \t loss: 46.965 \t reward: 200.536\n",
      "epoch: 2326 \t loss: 32.747 \t reward: 112.461\n",
      "epoch: 2327 \t loss: 42.984 \t reward: 173.390\n",
      "epoch: 2328 \t loss: 70.302 \t reward: 167.049\n",
      "epoch: 2329 \t loss: 80.627 \t reward: 207.758\n"
     ]
    },
    {
     "name": "stderr",
     "output_type": "stream",
     "text": [
      "100%|████████████████████████| 100/100 [00:55<00:00,  1.79it/s]\n"
     ]
    },
    {
     "name": "stdout",
     "output_type": "stream",
     "text": [
      "epoch: 2330 \t loss: 61.280 \t reward: 177.982\n",
      "epoch: 2331 \t loss: 44.182 \t reward: 139.194\n",
      "epoch: 2332 \t loss: -2.579 \t reward: 52.546\n",
      "epoch: 2333 \t loss: 46.223 \t reward: 162.137\n",
      "epoch: 2334 \t loss: 30.560 \t reward: 131.458\n",
      "epoch: 2335 \t loss: 60.858 \t reward: 198.805\n",
      "epoch: 2336 \t loss: 68.704 \t reward: 172.164\n",
      "epoch: 2337 \t loss: 48.568 \t reward: 164.767\n",
      "epoch: 2338 \t loss: 53.907 \t reward: 170.519\n",
      "epoch: 2339 \t loss: 62.378 \t reward: 176.095\n"
     ]
    },
    {
     "name": "stderr",
     "output_type": "stream",
     "text": [
      "100%|████████████████████████| 100/100 [00:57<00:00,  1.73it/s]\n"
     ]
    },
    {
     "name": "stdout",
     "output_type": "stream",
     "text": [
      "epoch: 2340 \t loss: 58.274 \t reward: 176.502\n",
      "epoch: 2341 \t loss: 41.039 \t reward: 134.329\n",
      "epoch: 2342 \t loss: 62.135 \t reward: 190.378\n",
      "epoch: 2343 \t loss: 59.821 \t reward: 163.596\n",
      "epoch: 2344 \t loss: 50.305 \t reward: 172.728\n",
      "epoch: 2345 \t loss: 18.728 \t reward: 140.967\n",
      "epoch: 2346 \t loss: 59.072 \t reward: 191.977\n",
      "epoch: 2347 \t loss: 52.832 \t reward: 138.438\n",
      "epoch: 2348 \t loss: 36.956 \t reward: 155.752\n",
      "epoch: 2349 \t loss: 65.125 \t reward: 121.326\n"
     ]
    },
    {
     "name": "stderr",
     "output_type": "stream",
     "text": [
      "100%|████████████████████████| 100/100 [00:49<00:00,  2.04it/s]\n"
     ]
    },
    {
     "name": "stdout",
     "output_type": "stream",
     "text": [
      "epoch: 2350 \t loss: 51.994 \t reward: 197.198\n",
      "epoch: 2351 \t loss: 44.965 \t reward: 160.810\n",
      "epoch: 2352 \t loss: 42.934 \t reward: 166.143\n",
      "epoch: 2353 \t loss: 43.848 \t reward: 180.025\n",
      "epoch: 2354 \t loss: 50.137 \t reward: 168.922\n",
      "epoch: 2355 \t loss: 44.555 \t reward: 173.100\n",
      "epoch: 2356 \t loss: 26.043 \t reward: 122.873\n",
      "epoch: 2357 \t loss: 14.018 \t reward: 57.690\n",
      "epoch: 2358 \t loss: 79.962 \t reward: 153.723\n",
      "epoch: 2359 \t loss: 68.692 \t reward: 169.477\n"
     ]
    },
    {
     "name": "stderr",
     "output_type": "stream",
     "text": [
      "100%|████████████████████████| 100/100 [00:36<00:00,  2.72it/s]\n"
     ]
    },
    {
     "name": "stdout",
     "output_type": "stream",
     "text": [
      "epoch: 2360 \t loss: 36.608 \t reward: 74.864\n",
      "epoch: 2361 \t loss: 64.301 \t reward: 152.790\n",
      "epoch: 2362 \t loss: 35.462 \t reward: 191.531\n",
      "epoch: 2363 \t loss: 29.261 \t reward: 127.870\n",
      "epoch: 2364 \t loss: 79.987 \t reward: 163.193\n",
      "epoch: 2365 \t loss: 47.755 \t reward: 158.274\n",
      "epoch: 2366 \t loss: 30.742 \t reward: 131.751\n",
      "epoch: 2367 \t loss: 36.624 \t reward: 126.206\n",
      "epoch: 2368 \t loss: 6.264 \t reward: 119.923\n",
      "epoch: 2369 \t loss: 37.425 \t reward: 137.162\n"
     ]
    },
    {
     "name": "stderr",
     "output_type": "stream",
     "text": [
      "100%|████████████████████████| 100/100 [00:37<00:00,  2.68it/s]\n"
     ]
    },
    {
     "name": "stdout",
     "output_type": "stream",
     "text": [
      "epoch: 2370 \t loss: 18.062 \t reward: 91.724\n",
      "epoch: 2371 \t loss: 72.179 \t reward: 208.713\n",
      "epoch: 2372 \t loss: 25.612 \t reward: 143.201\n",
      "epoch: 2373 \t loss: 81.619 \t reward: 203.369\n",
      "epoch: 2374 \t loss: 67.224 \t reward: 167.391\n",
      "epoch: 2375 \t loss: 68.808 \t reward: 139.807\n",
      "epoch: 2376 \t loss: 65.275 \t reward: 154.728\n",
      "epoch: 2377 \t loss: 16.882 \t reward: 127.196\n",
      "epoch: 2378 \t loss: 44.068 \t reward: 195.857\n",
      "epoch: 2379 \t loss: 22.496 \t reward: 93.269\n"
     ]
    },
    {
     "name": "stderr",
     "output_type": "stream",
     "text": [
      "100%|████████████████████████| 100/100 [00:37<00:00,  2.66it/s]\n"
     ]
    },
    {
     "name": "stdout",
     "output_type": "stream",
     "text": [
      "epoch: 2380 \t loss: 26.217 \t reward: 96.117\n",
      "epoch: 2381 \t loss: 60.834 \t reward: 194.073\n",
      "epoch: 2382 \t loss: 31.540 \t reward: 129.025\n",
      "epoch: 2383 \t loss: 43.681 \t reward: 152.777\n",
      "epoch: 2384 \t loss: 47.606 \t reward: 130.511\n",
      "epoch: 2385 \t loss: 66.581 \t reward: 173.960\n",
      "epoch: 2386 \t loss: 49.363 \t reward: 120.160\n",
      "epoch: 2387 \t loss: 79.110 \t reward: 204.522\n",
      "epoch: 2388 \t loss: 46.173 \t reward: 213.508\n",
      "epoch: 2389 \t loss: 44.473 \t reward: 194.331\n"
     ]
    },
    {
     "name": "stderr",
     "output_type": "stream",
     "text": [
      "100%|████████████████████████| 100/100 [00:39<00:00,  2.55it/s]\n"
     ]
    },
    {
     "name": "stdout",
     "output_type": "stream",
     "text": [
      "epoch: 2390 \t loss: 26.159 \t reward: 115.295\n",
      "epoch: 2391 \t loss: 32.281 \t reward: 124.024\n",
      "epoch: 2392 \t loss: 61.242 \t reward: 138.803\n",
      "epoch: 2393 \t loss: 49.860 \t reward: 101.403\n",
      "epoch: 2394 \t loss: 63.414 \t reward: 163.734\n",
      "epoch: 2395 \t loss: 21.472 \t reward: 112.044\n",
      "epoch: 2396 \t loss: 38.828 \t reward: 163.995\n",
      "epoch: 2397 \t loss: 15.171 \t reward: 120.070\n",
      "epoch: 2398 \t loss: 32.823 \t reward: 149.943\n",
      "epoch: 2399 \t loss: 20.980 \t reward: 140.068\n"
     ]
    },
    {
     "name": "stderr",
     "output_type": "stream",
     "text": [
      "100%|████████████████████████| 100/100 [00:30<00:00,  3.33it/s]\n"
     ]
    },
    {
     "name": "stdout",
     "output_type": "stream",
     "text": [
      "epoch: 2400 \t loss: 66.039 \t reward: 157.569\n",
      "epoch: 2401 \t loss: 61.180 \t reward: 113.745\n",
      "epoch: 2402 \t loss: 42.021 \t reward: 77.121\n",
      "epoch: 2403 \t loss: 57.941 \t reward: 214.132\n",
      "epoch: 2404 \t loss: 11.632 \t reward: 116.290\n",
      "epoch: 2405 \t loss: 45.073 \t reward: 166.131\n",
      "epoch: 2406 \t loss: 32.430 \t reward: 140.946\n",
      "epoch: 2407 \t loss: 26.281 \t reward: 98.804\n",
      "epoch: 2408 \t loss: 59.043 \t reward: 125.940\n",
      "epoch: 2409 \t loss: 27.648 \t reward: 203.482\n"
     ]
    },
    {
     "name": "stderr",
     "output_type": "stream",
     "text": [
      "100%|████████████████████████| 100/100 [00:44<00:00,  2.26it/s]\n"
     ]
    },
    {
     "name": "stdout",
     "output_type": "stream",
     "text": [
      "epoch: 2410 \t loss: 45.211 \t reward: 109.437\n",
      "epoch: 2411 \t loss: 4.658 \t reward: 122.335\n",
      "epoch: 2412 \t loss: 36.100 \t reward: 169.718\n",
      "epoch: 2413 \t loss: 72.081 \t reward: 180.516\n",
      "epoch: 2414 \t loss: 33.097 \t reward: 178.636\n",
      "epoch: 2415 \t loss: 2.975 \t reward: 109.021\n",
      "epoch: 2416 \t loss: 7.856 \t reward: 126.148\n",
      "epoch: 2417 \t loss: 33.194 \t reward: 155.076\n",
      "epoch: 2418 \t loss: -11.365 \t reward: 53.589\n",
      "epoch: 2419 \t loss: 34.169 \t reward: 154.435\n"
     ]
    },
    {
     "name": "stderr",
     "output_type": "stream",
     "text": [
      "100%|████████████████████████| 100/100 [01:05<00:00,  1.53it/s]\n"
     ]
    },
    {
     "name": "stdout",
     "output_type": "stream",
     "text": [
      "epoch: 2420 \t loss: 75.866 \t reward: 205.911\n",
      "epoch: 2421 \t loss: 17.623 \t reward: 127.907\n",
      "epoch: 2422 \t loss: 14.738 \t reward: 162.854\n",
      "epoch: 2423 \t loss: 78.015 \t reward: 224.584\n",
      "epoch: 2424 \t loss: 12.039 \t reward: 105.748\n",
      "epoch: 2425 \t loss: 41.902 \t reward: 147.712\n",
      "epoch: 2426 \t loss: 35.620 \t reward: 152.688\n",
      "epoch: 2427 \t loss: 53.490 \t reward: 201.511\n",
      "epoch: 2428 \t loss: 46.429 \t reward: 199.106\n",
      "epoch: 2429 \t loss: 19.212 \t reward: 97.084\n"
     ]
    },
    {
     "name": "stderr",
     "output_type": "stream",
     "text": [
      "100%|████████████████████████| 100/100 [00:43<00:00,  2.28it/s]\n"
     ]
    },
    {
     "name": "stdout",
     "output_type": "stream",
     "text": [
      "epoch: 2430 \t loss: 12.735 \t reward: 140.783\n",
      "epoch: 2431 \t loss: 33.039 \t reward: 140.858\n",
      "epoch: 2432 \t loss: 27.401 \t reward: 68.675\n",
      "epoch: 2433 \t loss: 37.081 \t reward: 111.970\n",
      "epoch: 2434 \t loss: 36.008 \t reward: 143.130\n",
      "epoch: 2435 \t loss: 36.133 \t reward: 155.736\n",
      "epoch: 2436 \t loss: 27.264 \t reward: 111.465\n",
      "epoch: 2437 \t loss: 71.025 \t reward: 173.344\n",
      "epoch: 2438 \t loss: 58.819 \t reward: 152.794\n",
      "epoch: 2439 \t loss: 20.967 \t reward: 111.740\n"
     ]
    },
    {
     "name": "stderr",
     "output_type": "stream",
     "text": [
      "100%|████████████████████████| 100/100 [01:08<00:00,  1.46it/s]\n"
     ]
    },
    {
     "name": "stdout",
     "output_type": "stream",
     "text": [
      "epoch: 2440 \t loss: 8.595 \t reward: 93.437\n",
      "epoch: 2441 \t loss: 58.139 \t reward: 165.429\n",
      "epoch: 2442 \t loss: 50.975 \t reward: 171.869\n",
      "epoch: 2443 \t loss: 79.578 \t reward: 191.972\n",
      "epoch: 2444 \t loss: -10.092 \t reward: 62.369\n",
      "epoch: 2445 \t loss: 88.470 \t reward: 183.973\n",
      "epoch: 2446 \t loss: -16.407 \t reward: 62.747\n",
      "epoch: 2447 \t loss: 11.673 \t reward: 96.666\n",
      "epoch: 2448 \t loss: 21.915 \t reward: 125.210\n",
      "epoch: 2449 \t loss: 14.421 \t reward: 46.626\n"
     ]
    },
    {
     "name": "stderr",
     "output_type": "stream",
     "text": [
      "100%|████████████████████████| 100/100 [01:02<00:00,  1.60it/s]\n"
     ]
    },
    {
     "name": "stdout",
     "output_type": "stream",
     "text": [
      "epoch: 2450 \t loss: 6.383 \t reward: 78.565\n",
      "epoch: 2451 \t loss: 30.957 \t reward: 132.430\n",
      "epoch: 2452 \t loss: 37.409 \t reward: 163.636\n",
      "epoch: 2453 \t loss: 68.672 \t reward: 167.132\n",
      "epoch: 2454 \t loss: 25.131 \t reward: 111.442\n",
      "epoch: 2455 \t loss: 24.749 \t reward: 84.224\n",
      "epoch: 2456 \t loss: 20.275 \t reward: 93.601\n",
      "epoch: 2457 \t loss: 7.540 \t reward: 23.463\n",
      "epoch: 2458 \t loss: 54.624 \t reward: 165.002\n",
      "epoch: 2459 \t loss: 49.975 \t reward: 172.169\n"
     ]
    },
    {
     "name": "stderr",
     "output_type": "stream",
     "text": [
      "100%|████████████████████████| 100/100 [01:01<00:00,  1.61it/s]\n"
     ]
    },
    {
     "name": "stdout",
     "output_type": "stream",
     "text": [
      "epoch: 2460 \t loss: 71.920 \t reward: 180.559\n",
      "epoch: 2461 \t loss: 35.107 \t reward: 93.505\n",
      "epoch: 2462 \t loss: 25.258 \t reward: 87.649\n",
      "epoch: 2463 \t loss: 48.003 \t reward: 159.197\n",
      "epoch: 2464 \t loss: 60.535 \t reward: 133.689\n",
      "epoch: 2465 \t loss: 52.128 \t reward: 106.687\n",
      "epoch: 2466 \t loss: 33.518 \t reward: 124.845\n",
      "epoch: 2467 \t loss: 50.722 \t reward: 149.229\n",
      "epoch: 2468 \t loss: 44.705 \t reward: 141.817\n",
      "epoch: 2469 \t loss: 41.628 \t reward: 114.067\n"
     ]
    },
    {
     "name": "stderr",
     "output_type": "stream",
     "text": [
      "100%|████████████████████████| 100/100 [00:57<00:00,  1.73it/s]\n"
     ]
    },
    {
     "name": "stdout",
     "output_type": "stream",
     "text": [
      "epoch: 2470 \t loss: 33.227 \t reward: 105.817\n",
      "epoch: 2471 \t loss: 54.884 \t reward: 134.709\n",
      "epoch: 2472 \t loss: 30.103 \t reward: 128.561\n",
      "epoch: 2473 \t loss: 53.214 \t reward: 108.603\n",
      "epoch: 2474 \t loss: 32.234 \t reward: 110.888\n",
      "epoch: 2475 \t loss: 37.763 \t reward: 138.968\n",
      "epoch: 2476 \t loss: 6.264 \t reward: 87.680\n",
      "epoch: 2477 \t loss: 52.500 \t reward: 157.688\n",
      "epoch: 2478 \t loss: 45.324 \t reward: 162.633\n",
      "epoch: 2479 \t loss: 42.954 \t reward: 117.850\n"
     ]
    },
    {
     "name": "stderr",
     "output_type": "stream",
     "text": [
      "100%|████████████████████████| 100/100 [00:54<00:00,  1.84it/s]\n"
     ]
    },
    {
     "name": "stdout",
     "output_type": "stream",
     "text": [
      "epoch: 2480 \t loss: 8.540 \t reward: 75.720\n",
      "epoch: 2481 \t loss: 16.738 \t reward: 62.210\n",
      "epoch: 2482 \t loss: 20.579 \t reward: 71.430\n",
      "epoch: 2483 \t loss: 52.975 \t reward: 81.787\n",
      "epoch: 2484 \t loss: 17.908 \t reward: 98.449\n",
      "epoch: 2485 \t loss: 17.517 \t reward: 84.374\n",
      "epoch: 2486 \t loss: 33.718 \t reward: 62.229\n",
      "epoch: 2487 \t loss: 51.190 \t reward: 146.852\n",
      "epoch: 2488 \t loss: 93.587 \t reward: 177.169\n",
      "epoch: 2489 \t loss: 71.371 \t reward: 118.170\n"
     ]
    },
    {
     "name": "stderr",
     "output_type": "stream",
     "text": [
      "100%|████████████████████████| 100/100 [01:03<00:00,  1.57it/s]\n"
     ]
    },
    {
     "name": "stdout",
     "output_type": "stream",
     "text": [
      "epoch: 2490 \t loss: -18.845 \t reward: 10.395\n",
      "epoch: 2491 \t loss: -59.004 \t reward: -59.116\n",
      "epoch: 2492 \t loss: 10.179 \t reward: 44.462\n",
      "epoch: 2493 \t loss: 18.134 \t reward: 56.636\n",
      "epoch: 2494 \t loss: 51.287 \t reward: 160.409\n",
      "epoch: 2495 \t loss: 16.600 \t reward: 81.332\n",
      "epoch: 2496 \t loss: 23.344 \t reward: 58.829\n",
      "epoch: 2497 \t loss: 92.486 \t reward: 108.788\n",
      "epoch: 2498 \t loss: 58.888 \t reward: 142.918\n",
      "epoch: 2499 \t loss: 29.409 \t reward: 86.924\n"
     ]
    },
    {
     "name": "stderr",
     "output_type": "stream",
     "text": [
      "100%|████████████████████████| 100/100 [00:51<00:00,  1.95it/s]\n"
     ]
    },
    {
     "name": "stdout",
     "output_type": "stream",
     "text": [
      "epoch: 2500 \t loss: 118.268 \t reward: 203.616\n",
      "epoch: 2501 \t loss: 51.593 \t reward: 149.136\n",
      "epoch: 2502 \t loss: 20.545 \t reward: 74.191\n",
      "epoch: 2503 \t loss: 9.090 \t reward: -29.880\n",
      "epoch: 2504 \t loss: -92.077 \t reward: -121.048\n",
      "epoch: 2505 \t loss: 57.738 \t reward: 120.758\n",
      "epoch: 2506 \t loss: 55.067 \t reward: 99.639\n",
      "epoch: 2507 \t loss: 61.037 \t reward: 75.144\n",
      "epoch: 2508 \t loss: 29.678 \t reward: 90.124\n",
      "epoch: 2509 \t loss: 89.217 \t reward: 156.697\n"
     ]
    },
    {
     "name": "stderr",
     "output_type": "stream",
     "text": [
      "100%|████████████████████████| 100/100 [00:38<00:00,  2.57it/s]\n"
     ]
    },
    {
     "name": "stdout",
     "output_type": "stream",
     "text": [
      "epoch: 2510 \t loss: 65.552 \t reward: 179.340\n",
      "epoch: 2511 \t loss: 21.742 \t reward: 51.539\n",
      "epoch: 2512 \t loss: 88.582 \t reward: 186.059\n",
      "epoch: 2513 \t loss: -24.907 \t reward: 16.797\n",
      "epoch: 2514 \t loss: 86.880 \t reward: 226.351\n",
      "epoch: 2515 \t loss: 10.260 \t reward: 88.109\n",
      "epoch: 2516 \t loss: -2.380 \t reward: 33.062\n",
      "epoch: 2517 \t loss: 56.193 \t reward: 85.400\n",
      "epoch: 2518 \t loss: 39.059 \t reward: 134.906\n",
      "epoch: 2519 \t loss: -33.483 \t reward: -33.800\n"
     ]
    },
    {
     "name": "stderr",
     "output_type": "stream",
     "text": [
      "100%|████████████████████████| 100/100 [00:30<00:00,  3.32it/s]\n"
     ]
    },
    {
     "name": "stdout",
     "output_type": "stream",
     "text": [
      "epoch: 2520 \t loss: 25.192 \t reward: 42.386\n",
      "epoch: 2521 \t loss: 12.828 \t reward: 75.638\n",
      "epoch: 2522 \t loss: 43.750 \t reward: 148.371\n",
      "epoch: 2523 \t loss: 39.187 \t reward: 114.304\n",
      "epoch: 2524 \t loss: 29.672 \t reward: 85.675\n",
      "epoch: 2525 \t loss: 7.899 \t reward: 64.116\n",
      "epoch: 2526 \t loss: 9.440 \t reward: 37.502\n",
      "epoch: 2527 \t loss: 32.534 \t reward: 108.650\n",
      "epoch: 2528 \t loss: 37.677 \t reward: 103.896\n",
      "epoch: 2529 \t loss: 0.148 \t reward: 3.612\n"
     ]
    },
    {
     "name": "stderr",
     "output_type": "stream",
     "text": [
      "100%|████████████████████████| 100/100 [00:19<00:00,  5.05it/s]\n"
     ]
    },
    {
     "name": "stdout",
     "output_type": "stream",
     "text": [
      "epoch: 2530 \t loss: 9.569 \t reward: 41.326\n",
      "epoch: 2531 \t loss: 18.874 \t reward: 101.440\n",
      "epoch: 2532 \t loss: -5.397 \t reward: 4.065\n",
      "epoch: 2533 \t loss: 14.889 \t reward: -1.570\n",
      "epoch: 2534 \t loss: 3.472 \t reward: 12.528\n",
      "epoch: 2535 \t loss: 19.022 \t reward: 39.301\n",
      "epoch: 2536 \t loss: 24.111 \t reward: 33.757\n",
      "epoch: 2537 \t loss: 43.810 \t reward: 169.393\n",
      "epoch: 2538 \t loss: 30.595 \t reward: 50.918\n",
      "epoch: 2539 \t loss: 26.845 \t reward: 70.059\n"
     ]
    },
    {
     "name": "stderr",
     "output_type": "stream",
     "text": [
      "100%|████████████████████████| 100/100 [00:22<00:00,  4.51it/s]\n"
     ]
    },
    {
     "name": "stdout",
     "output_type": "stream",
     "text": [
      "epoch: 2540 \t loss: 14.347 \t reward: 46.162\n",
      "epoch: 2541 \t loss: 35.564 \t reward: 63.732\n",
      "epoch: 2542 \t loss: 45.079 \t reward: 84.443\n",
      "epoch: 2543 \t loss: 23.279 \t reward: 92.953\n",
      "epoch: 2544 \t loss: 36.744 \t reward: 49.564\n",
      "epoch: 2545 \t loss: 18.428 \t reward: 54.885\n",
      "epoch: 2546 \t loss: 63.444 \t reward: 136.276\n",
      "epoch: 2547 \t loss: 8.033 \t reward: 64.565\n",
      "epoch: 2548 \t loss: 13.829 \t reward: 78.947\n",
      "epoch: 2549 \t loss: 47.816 \t reward: 96.736\n"
     ]
    },
    {
     "name": "stderr",
     "output_type": "stream",
     "text": [
      "100%|████████████████████████| 100/100 [00:27<00:00,  3.67it/s]\n"
     ]
    },
    {
     "name": "stdout",
     "output_type": "stream",
     "text": [
      "epoch: 2550 \t loss: 31.246 \t reward: 142.715\n",
      "epoch: 2551 \t loss: 39.220 \t reward: 160.273\n",
      "epoch: 2552 \t loss: 37.039 \t reward: 158.861\n",
      "epoch: 2553 \t loss: 28.888 \t reward: 116.709\n",
      "epoch: 2554 \t loss: 67.676 \t reward: 174.604\n",
      "epoch: 2555 \t loss: 8.934 \t reward: 71.782\n",
      "epoch: 2556 \t loss: 26.591 \t reward: 143.633\n",
      "epoch: 2557 \t loss: 30.116 \t reward: 82.839\n",
      "epoch: 2558 \t loss: 39.220 \t reward: 146.743\n",
      "epoch: 2559 \t loss: 25.613 \t reward: 65.576\n"
     ]
    },
    {
     "name": "stderr",
     "output_type": "stream",
     "text": [
      "100%|████████████████████████| 100/100 [00:30<00:00,  3.29it/s]\n"
     ]
    },
    {
     "name": "stdout",
     "output_type": "stream",
     "text": [
      "epoch: 2560 \t loss: 73.693 \t reward: 150.716\n",
      "epoch: 2561 \t loss: 13.444 \t reward: 113.003\n",
      "epoch: 2562 \t loss: 21.222 \t reward: 93.691\n",
      "epoch: 2563 \t loss: 16.108 \t reward: 63.489\n",
      "epoch: 2564 \t loss: 16.142 \t reward: 61.232\n",
      "epoch: 2565 \t loss: 53.521 \t reward: 120.722\n",
      "epoch: 2566 \t loss: 31.860 \t reward: 97.552\n",
      "epoch: 2567 \t loss: 28.005 \t reward: 82.252\n",
      "epoch: 2568 \t loss: 59.263 \t reward: 169.362\n",
      "epoch: 2569 \t loss: 65.352 \t reward: 162.969\n"
     ]
    },
    {
     "name": "stderr",
     "output_type": "stream",
     "text": [
      "100%|████████████████████████| 100/100 [00:36<00:00,  2.73it/s]\n"
     ]
    },
    {
     "name": "stdout",
     "output_type": "stream",
     "text": [
      "epoch: 2570 \t loss: 32.777 \t reward: 85.775\n",
      "epoch: 2571 \t loss: 67.930 \t reward: 144.787\n",
      "epoch: 2572 \t loss: 41.247 \t reward: 129.485\n",
      "epoch: 2573 \t loss: 31.812 \t reward: 94.580\n",
      "epoch: 2574 \t loss: 44.268 \t reward: 180.670\n",
      "epoch: 2575 \t loss: 55.573 \t reward: 207.057\n",
      "epoch: 2576 \t loss: 87.908 \t reward: 184.950\n",
      "epoch: 2577 \t loss: 83.817 \t reward: 200.201\n",
      "epoch: 2578 \t loss: 10.119 \t reward: 78.752\n",
      "epoch: 2579 \t loss: 19.620 \t reward: 76.887\n"
     ]
    },
    {
     "name": "stderr",
     "output_type": "stream",
     "text": [
      "100%|████████████████████████| 100/100 [00:34<00:00,  2.88it/s]\n"
     ]
    },
    {
     "name": "stdout",
     "output_type": "stream",
     "text": [
      "epoch: 2580 \t loss: 0.331 \t reward: 66.952\n",
      "epoch: 2581 \t loss: 32.369 \t reward: 117.738\n",
      "epoch: 2582 \t loss: 31.189 \t reward: 118.682\n",
      "epoch: 2583 \t loss: 47.731 \t reward: 175.936\n",
      "epoch: 2584 \t loss: 54.584 \t reward: 148.564\n",
      "epoch: 2585 \t loss: 45.974 \t reward: 189.006\n",
      "epoch: 2586 \t loss: 54.971 \t reward: 142.334\n",
      "epoch: 2587 \t loss: 65.871 \t reward: 156.467\n",
      "epoch: 2588 \t loss: 11.231 \t reward: 106.115\n",
      "epoch: 2589 \t loss: 23.223 \t reward: 107.823\n"
     ]
    },
    {
     "name": "stderr",
     "output_type": "stream",
     "text": [
      "100%|████████████████████████| 100/100 [00:35<00:00,  2.79it/s]\n"
     ]
    },
    {
     "name": "stdout",
     "output_type": "stream",
     "text": [
      "epoch: 2590 \t loss: 49.447 \t reward: 131.482\n",
      "epoch: 2591 \t loss: 64.454 \t reward: 154.924\n",
      "epoch: 2592 \t loss: 52.208 \t reward: 176.124\n",
      "epoch: 2593 \t loss: 34.986 \t reward: 152.654\n",
      "epoch: 2594 \t loss: 55.647 \t reward: 139.992\n",
      "epoch: 2595 \t loss: -5.905 \t reward: 76.291\n",
      "epoch: 2596 \t loss: 25.799 \t reward: 107.290\n",
      "epoch: 2597 \t loss: 62.763 \t reward: 205.973\n",
      "epoch: 2598 \t loss: 39.241 \t reward: 169.320\n",
      "epoch: 2599 \t loss: 20.757 \t reward: 144.064\n"
     ]
    },
    {
     "name": "stderr",
     "output_type": "stream",
     "text": [
      "100%|████████████████████████| 100/100 [00:39<00:00,  2.55it/s]\n"
     ]
    },
    {
     "name": "stdout",
     "output_type": "stream",
     "text": [
      "epoch: 2600 \t loss: 81.658 \t reward: 227.429\n",
      "epoch: 2601 \t loss: 63.847 \t reward: 144.927\n",
      "epoch: 2602 \t loss: 31.097 \t reward: 144.843\n",
      "epoch: 2603 \t loss: 51.982 \t reward: 139.819\n",
      "epoch: 2604 \t loss: 39.783 \t reward: 202.126\n",
      "epoch: 2605 \t loss: 35.987 \t reward: 121.866\n",
      "epoch: 2606 \t loss: 89.950 \t reward: 194.583\n",
      "epoch: 2607 \t loss: 72.328 \t reward: 184.085\n",
      "epoch: 2608 \t loss: 65.778 \t reward: 190.665\n",
      "epoch: 2609 \t loss: 35.317 \t reward: 148.034\n"
     ]
    },
    {
     "name": "stderr",
     "output_type": "stream",
     "text": [
      "100%|████████████████████████| 100/100 [00:43<00:00,  2.29it/s]\n"
     ]
    },
    {
     "name": "stdout",
     "output_type": "stream",
     "text": [
      "epoch: 2610 \t loss: 43.637 \t reward: 166.001\n",
      "epoch: 2611 \t loss: 76.954 \t reward: 223.275\n",
      "epoch: 2612 \t loss: 100.137 \t reward: 229.224\n",
      "epoch: 2613 \t loss: 58.298 \t reward: 151.992\n",
      "epoch: 2614 \t loss: 71.154 \t reward: 165.071\n",
      "epoch: 2615 \t loss: 39.643 \t reward: 169.127\n",
      "epoch: 2616 \t loss: 61.709 \t reward: 178.266\n",
      "epoch: 2617 \t loss: 55.133 \t reward: 157.018\n",
      "epoch: 2618 \t loss: 82.372 \t reward: 192.830\n",
      "epoch: 2619 \t loss: 50.886 \t reward: 191.360\n"
     ]
    },
    {
     "name": "stderr",
     "output_type": "stream",
     "text": [
      "100%|████████████████████████| 100/100 [00:51<00:00,  1.95it/s]\n"
     ]
    },
    {
     "name": "stdout",
     "output_type": "stream",
     "text": [
      "Best model! Average reward = 184.10, Success rate = 84.00%\n",
      "epoch: 2620 \t loss: 74.309 \t reward: 228.251\n",
      "epoch: 2621 \t loss: 62.707 \t reward: 219.180\n",
      "epoch: 2622 \t loss: 44.580 \t reward: 171.575\n",
      "epoch: 2623 \t loss: 46.912 \t reward: 174.462\n",
      "epoch: 2624 \t loss: 27.773 \t reward: 129.259\n",
      "epoch: 2625 \t loss: 72.966 \t reward: 209.487\n",
      "epoch: 2626 \t loss: 31.444 \t reward: 177.215\n",
      "epoch: 2627 \t loss: 61.791 \t reward: 195.229\n",
      "epoch: 2628 \t loss: 56.930 \t reward: 181.651\n",
      "epoch: 2629 \t loss: 74.660 \t reward: 209.433\n"
     ]
    },
    {
     "name": "stderr",
     "output_type": "stream",
     "text": [
      "100%|████████████████████████| 100/100 [01:13<00:00,  1.35it/s]\n"
     ]
    },
    {
     "name": "stdout",
     "output_type": "stream",
     "text": [
      "epoch: 2630 \t loss: 52.674 \t reward: 154.318\n",
      "epoch: 2631 \t loss: 78.985 \t reward: 202.763\n",
      "epoch: 2632 \t loss: 36.666 \t reward: 149.230\n",
      "epoch: 2633 \t loss: 69.439 \t reward: 191.880\n",
      "epoch: 2634 \t loss: 46.641 \t reward: 180.818\n",
      "epoch: 2635 \t loss: 49.253 \t reward: 157.352\n",
      "epoch: 2636 \t loss: 97.900 \t reward: 224.185\n",
      "epoch: 2637 \t loss: 57.086 \t reward: 190.001\n",
      "epoch: 2638 \t loss: 66.313 \t reward: 210.261\n",
      "epoch: 2639 \t loss: 77.689 \t reward: 198.281\n"
     ]
    },
    {
     "name": "stderr",
     "output_type": "stream",
     "text": [
      "100%|████████████████████████| 100/100 [01:24<00:00,  1.19it/s]\n"
     ]
    },
    {
     "name": "stdout",
     "output_type": "stream",
     "text": [
      "epoch: 2640 \t loss: 29.941 \t reward: 119.531\n",
      "epoch: 2641 \t loss: 37.512 \t reward: 165.955\n",
      "epoch: 2642 \t loss: 8.672 \t reward: 119.763\n",
      "epoch: 2643 \t loss: 22.958 \t reward: 126.316\n",
      "epoch: 2644 \t loss: 34.333 \t reward: 139.981\n",
      "epoch: 2645 \t loss: 68.273 \t reward: 192.461\n",
      "epoch: 2646 \t loss: 39.584 \t reward: 147.859\n",
      "epoch: 2647 \t loss: 46.134 \t reward: 166.108\n",
      "epoch: 2648 \t loss: 38.419 \t reward: 129.359\n",
      "epoch: 2649 \t loss: 42.028 \t reward: 138.787\n"
     ]
    },
    {
     "name": "stderr",
     "output_type": "stream",
     "text": [
      "100%|████████████████████████| 100/100 [01:48<00:00,  1.09s/it]\n"
     ]
    },
    {
     "name": "stdout",
     "output_type": "stream",
     "text": [
      "epoch: 2650 \t loss: 13.776 \t reward: 120.565\n",
      "epoch: 2651 \t loss: 43.087 \t reward: 169.127\n",
      "epoch: 2652 \t loss: 38.712 \t reward: 143.034\n",
      "epoch: 2653 \t loss: 56.838 \t reward: 184.059\n",
      "epoch: 2654 \t loss: 41.318 \t reward: 154.204\n",
      "epoch: 2655 \t loss: 15.895 \t reward: 134.102\n",
      "epoch: 2656 \t loss: 18.151 \t reward: 112.047\n",
      "epoch: 2657 \t loss: 81.475 \t reward: 181.839\n",
      "epoch: 2658 \t loss: 3.478 \t reward: 86.893\n",
      "epoch: 2659 \t loss: 17.594 \t reward: 110.003\n"
     ]
    },
    {
     "name": "stderr",
     "output_type": "stream",
     "text": [
      "100%|████████████████████████| 100/100 [01:53<00:00,  1.14s/it]\n"
     ]
    },
    {
     "name": "stdout",
     "output_type": "stream",
     "text": [
      "epoch: 2660 \t loss: 55.677 \t reward: 172.288\n",
      "epoch: 2661 \t loss: 49.413 \t reward: 190.802\n",
      "epoch: 2662 \t loss: 42.134 \t reward: 157.712\n",
      "epoch: 2663 \t loss: 45.996 \t reward: 141.010\n",
      "epoch: 2664 \t loss: 54.544 \t reward: 189.154\n",
      "epoch: 2665 \t loss: 102.830 \t reward: 223.408\n",
      "epoch: 2666 \t loss: 65.721 \t reward: 164.337\n",
      "epoch: 2667 \t loss: 49.921 \t reward: 175.846\n",
      "epoch: 2668 \t loss: 14.176 \t reward: 110.757\n",
      "epoch: 2669 \t loss: 17.458 \t reward: 126.264\n"
     ]
    },
    {
     "name": "stderr",
     "output_type": "stream",
     "text": [
      "100%|████████████████████████| 100/100 [01:52<00:00,  1.13s/it]\n"
     ]
    },
    {
     "name": "stdout",
     "output_type": "stream",
     "text": [
      "epoch: 2670 \t loss: 15.978 \t reward: 142.208\n",
      "epoch: 2671 \t loss: 15.166 \t reward: 128.059\n",
      "epoch: 2672 \t loss: 17.178 \t reward: 108.734\n",
      "epoch: 2673 \t loss: -7.858 \t reward: 49.596\n",
      "epoch: 2674 \t loss: 44.481 \t reward: 159.625\n",
      "epoch: 2675 \t loss: 10.913 \t reward: 104.916\n",
      "epoch: 2676 \t loss: 51.645 \t reward: 172.084\n",
      "epoch: 2677 \t loss: 48.432 \t reward: 143.512\n",
      "epoch: 2678 \t loss: 15.909 \t reward: 115.788\n",
      "epoch: 2679 \t loss: 38.207 \t reward: 133.545\n"
     ]
    },
    {
     "name": "stderr",
     "output_type": "stream",
     "text": [
      "100%|████████████████████████| 100/100 [01:44<00:00,  1.04s/it]\n"
     ]
    },
    {
     "name": "stdout",
     "output_type": "stream",
     "text": [
      "epoch: 2680 \t loss: 33.923 \t reward: 149.747\n",
      "epoch: 2681 \t loss: 79.158 \t reward: 198.095\n",
      "epoch: 2682 \t loss: 69.943 \t reward: 205.073\n",
      "epoch: 2683 \t loss: 42.869 \t reward: 161.444\n",
      "epoch: 2684 \t loss: 10.797 \t reward: 91.203\n",
      "epoch: 2685 \t loss: 86.846 \t reward: 190.886\n",
      "epoch: 2686 \t loss: 41.780 \t reward: 138.947\n",
      "epoch: 2687 \t loss: -4.860 \t reward: 87.841\n",
      "epoch: 2688 \t loss: 36.450 \t reward: 133.076\n",
      "epoch: 2689 \t loss: 52.411 \t reward: 130.638\n"
     ]
    },
    {
     "name": "stderr",
     "output_type": "stream",
     "text": [
      "100%|████████████████████████| 100/100 [01:51<00:00,  1.12s/it]\n"
     ]
    },
    {
     "name": "stdout",
     "output_type": "stream",
     "text": [
      "epoch: 2690 \t loss: 13.182 \t reward: 106.699\n",
      "epoch: 2691 \t loss: 54.239 \t reward: 191.659\n",
      "epoch: 2692 \t loss: -6.706 \t reward: 73.595\n",
      "epoch: 2693 \t loss: 38.064 \t reward: 144.645\n",
      "epoch: 2694 \t loss: 57.869 \t reward: 175.135\n",
      "epoch: 2695 \t loss: 37.533 \t reward: 141.818\n",
      "epoch: 2696 \t loss: 43.496 \t reward: 158.682\n",
      "epoch: 2697 \t loss: 49.688 \t reward: 166.814\n",
      "epoch: 2698 \t loss: 40.096 \t reward: 169.405\n",
      "epoch: 2699 \t loss: 17.087 \t reward: 87.748\n"
     ]
    },
    {
     "name": "stderr",
     "output_type": "stream",
     "text": [
      "100%|████████████████████████| 100/100 [01:40<00:00,  1.00s/it]\n"
     ]
    },
    {
     "name": "stdout",
     "output_type": "stream",
     "text": [
      "epoch: 2700 \t loss: 71.201 \t reward: 194.681\n",
      "epoch: 2701 \t loss: 14.348 \t reward: 119.641\n",
      "epoch: 2702 \t loss: 66.067 \t reward: 190.038\n",
      "epoch: 2703 \t loss: 62.073 \t reward: 203.526\n",
      "epoch: 2704 \t loss: 53.352 \t reward: 179.347\n",
      "epoch: 2705 \t loss: 9.331 \t reward: 105.671\n",
      "epoch: 2706 \t loss: 18.166 \t reward: 131.169\n",
      "epoch: 2707 \t loss: 38.254 \t reward: 170.932\n",
      "epoch: 2708 \t loss: 44.624 \t reward: 148.863\n",
      "epoch: 2709 \t loss: 55.118 \t reward: 171.984\n"
     ]
    },
    {
     "name": "stderr",
     "output_type": "stream",
     "text": [
      "100%|████████████████████████| 100/100 [01:33<00:00,  1.07it/s]\n"
     ]
    },
    {
     "name": "stdout",
     "output_type": "stream",
     "text": [
      "epoch: 2710 \t loss: 40.182 \t reward: 145.221\n",
      "epoch: 2711 \t loss: 42.452 \t reward: 192.221\n",
      "epoch: 2712 \t loss: 44.428 \t reward: 160.525\n",
      "epoch: 2713 \t loss: -6.383 \t reward: 55.034\n",
      "epoch: 2714 \t loss: 53.581 \t reward: 215.188\n",
      "epoch: 2715 \t loss: 23.702 \t reward: 136.257\n",
      "epoch: 2716 \t loss: 43.132 \t reward: 172.542\n",
      "epoch: 2717 \t loss: 35.354 \t reward: 194.205\n",
      "epoch: 2718 \t loss: 18.741 \t reward: 107.937\n",
      "epoch: 2719 \t loss: 56.404 \t reward: 179.749\n"
     ]
    },
    {
     "name": "stderr",
     "output_type": "stream",
     "text": [
      "100%|████████████████████████| 100/100 [01:42<00:00,  1.03s/it]\n"
     ]
    },
    {
     "name": "stdout",
     "output_type": "stream",
     "text": [
      "epoch: 2720 \t loss: 60.511 \t reward: 201.654\n",
      "epoch: 2721 \t loss: -1.513 \t reward: 97.156\n",
      "epoch: 2722 \t loss: 103.836 \t reward: 229.668\n",
      "epoch: 2723 \t loss: 16.038 \t reward: 120.311\n",
      "epoch: 2724 \t loss: 23.184 \t reward: 135.431\n",
      "epoch: 2725 \t loss: 17.440 \t reward: 120.385\n",
      "epoch: 2726 \t loss: 19.011 \t reward: 128.901\n",
      "epoch: 2727 \t loss: 46.190 \t reward: 168.209\n",
      "epoch: 2728 \t loss: 48.459 \t reward: 177.818\n",
      "epoch: 2729 \t loss: 2.574 \t reward: 98.921\n"
     ]
    },
    {
     "name": "stderr",
     "output_type": "stream",
     "text": [
      "100%|████████████████████████| 100/100 [01:50<00:00,  1.11s/it]\n"
     ]
    },
    {
     "name": "stdout",
     "output_type": "stream",
     "text": [
      "epoch: 2730 \t loss: -10.286 \t reward: 50.616\n",
      "epoch: 2731 \t loss: 18.669 \t reward: 137.217\n",
      "epoch: 2732 \t loss: 46.876 \t reward: 170.282\n",
      "epoch: 2733 \t loss: 43.208 \t reward: 165.370\n",
      "epoch: 2734 \t loss: 26.061 \t reward: 161.435\n",
      "epoch: 2735 \t loss: 82.230 \t reward: 230.915\n",
      "epoch: 2736 \t loss: 48.922 \t reward: 197.100\n",
      "epoch: 2737 \t loss: 50.972 \t reward: 174.169\n",
      "epoch: 2738 \t loss: 49.076 \t reward: 177.312\n",
      "epoch: 2739 \t loss: -5.623 \t reward: 2.815\n"
     ]
    },
    {
     "name": "stderr",
     "output_type": "stream",
     "text": [
      "100%|████████████████████████| 100/100 [01:50<00:00,  1.10s/it]\n"
     ]
    },
    {
     "name": "stdout",
     "output_type": "stream",
     "text": [
      "epoch: 2740 \t loss: 45.134 \t reward: 164.491\n",
      "epoch: 2741 \t loss: 51.974 \t reward: 169.212\n",
      "epoch: 2742 \t loss: 20.391 \t reward: 147.004\n",
      "epoch: 2743 \t loss: 39.860 \t reward: 181.770\n",
      "epoch: 2744 \t loss: 19.531 \t reward: 129.574\n",
      "epoch: 2745 \t loss: 43.402 \t reward: 71.363\n",
      "epoch: 2746 \t loss: 1.840 \t reward: 90.879\n",
      "epoch: 2747 \t loss: -3.088 \t reward: 59.033\n",
      "epoch: 2748 \t loss: 39.906 \t reward: 175.803\n",
      "epoch: 2749 \t loss: 2.535 \t reward: 92.829\n"
     ]
    },
    {
     "name": "stderr",
     "output_type": "stream",
     "text": [
      "100%|████████████████████████| 100/100 [01:29<00:00,  1.12it/s]\n"
     ]
    },
    {
     "name": "stdout",
     "output_type": "stream",
     "text": [
      "epoch: 2750 \t loss: 60.459 \t reward: 214.414\n",
      "epoch: 2751 \t loss: 15.661 \t reward: 136.242\n",
      "epoch: 2752 \t loss: 15.087 \t reward: 151.298\n",
      "epoch: 2753 \t loss: 52.701 \t reward: 230.445\n",
      "epoch: 2754 \t loss: 23.183 \t reward: 108.825\n",
      "epoch: 2755 \t loss: 44.942 \t reward: 180.940\n",
      "epoch: 2756 \t loss: -1.061 \t reward: 107.146\n",
      "epoch: 2757 \t loss: 25.681 \t reward: 165.037\n",
      "epoch: 2758 \t loss: 22.327 \t reward: 171.562\n",
      "epoch: 2759 \t loss: 49.647 \t reward: 154.144\n"
     ]
    },
    {
     "name": "stderr",
     "output_type": "stream",
     "text": [
      "100%|████████████████████████| 100/100 [01:06<00:00,  1.50it/s]\n"
     ]
    },
    {
     "name": "stdout",
     "output_type": "stream",
     "text": [
      "epoch: 2760 \t loss: 15.007 \t reward: 104.309\n",
      "epoch: 2761 \t loss: 9.184 \t reward: 123.559\n",
      "epoch: 2762 \t loss: 22.853 \t reward: 135.647\n",
      "epoch: 2763 \t loss: -5.004 \t reward: 69.628\n",
      "epoch: 2764 \t loss: 5.907 \t reward: 97.192\n",
      "epoch: 2765 \t loss: 25.824 \t reward: 174.536\n",
      "epoch: 2766 \t loss: 22.337 \t reward: 183.651\n",
      "epoch: 2767 \t loss: 45.508 \t reward: 216.990\n",
      "epoch: 2768 \t loss: 37.853 \t reward: 179.642\n",
      "epoch: 2769 \t loss: 33.426 \t reward: 144.283\n"
     ]
    },
    {
     "name": "stderr",
     "output_type": "stream",
     "text": [
      "100%|████████████████████████| 100/100 [00:59<00:00,  1.69it/s]\n"
     ]
    },
    {
     "name": "stdout",
     "output_type": "stream",
     "text": [
      "epoch: 2770 \t loss: 7.619 \t reward: 79.389\n",
      "epoch: 2771 \t loss: -4.112 \t reward: 72.562\n",
      "epoch: 2772 \t loss: 25.806 \t reward: 177.350\n",
      "epoch: 2773 \t loss: -2.314 \t reward: 64.223\n",
      "epoch: 2774 \t loss: 10.593 \t reward: 139.292\n",
      "epoch: 2775 \t loss: 37.615 \t reward: 188.004\n",
      "epoch: 2776 \t loss: 33.998 \t reward: 147.264\n",
      "epoch: 2777 \t loss: 45.949 \t reward: 207.212\n",
      "epoch: 2778 \t loss: 75.722 \t reward: 204.482\n",
      "epoch: 2779 \t loss: 38.749 \t reward: 172.063\n"
     ]
    },
    {
     "name": "stderr",
     "output_type": "stream",
     "text": [
      "100%|████████████████████████| 100/100 [00:56<00:00,  1.76it/s]\n"
     ]
    },
    {
     "name": "stdout",
     "output_type": "stream",
     "text": [
      "epoch: 2780 \t loss: 17.471 \t reward: 137.261\n",
      "epoch: 2781 \t loss: 25.906 \t reward: 152.671\n",
      "epoch: 2782 \t loss: -5.413 \t reward: 34.792\n",
      "epoch: 2783 \t loss: 7.257 \t reward: 88.218\n",
      "epoch: 2784 \t loss: 42.870 \t reward: 177.594\n",
      "epoch: 2785 \t loss: 36.647 \t reward: 163.745\n",
      "epoch: 2786 \t loss: 29.316 \t reward: 141.251\n",
      "epoch: 2787 \t loss: 59.244 \t reward: 209.425\n",
      "epoch: 2788 \t loss: 35.564 \t reward: 155.903\n",
      "epoch: 2789 \t loss: 63.914 \t reward: 221.107\n"
     ]
    },
    {
     "name": "stderr",
     "output_type": "stream",
     "text": [
      "100%|████████████████████████| 100/100 [01:00<00:00,  1.66it/s]\n"
     ]
    },
    {
     "name": "stdout",
     "output_type": "stream",
     "text": [
      "epoch: 2790 \t loss: 44.985 \t reward: 196.313\n",
      "epoch: 2791 \t loss: 64.978 \t reward: 197.947\n",
      "epoch: 2792 \t loss: 115.137 \t reward: 236.840\n",
      "epoch: 2793 \t loss: 72.573 \t reward: 194.242\n",
      "epoch: 2794 \t loss: 83.911 \t reward: 189.931\n",
      "epoch: 2795 \t loss: 36.262 \t reward: 167.864\n",
      "epoch: 2796 \t loss: 82.279 \t reward: 239.133\n",
      "epoch: 2797 \t loss: 98.324 \t reward: 221.795\n",
      "epoch: 2798 \t loss: 100.444 \t reward: 212.384\n",
      "epoch: 2799 \t loss: 7.886 \t reward: 116.299\n"
     ]
    },
    {
     "name": "stderr",
     "output_type": "stream",
     "text": [
      "100%|████████████████████████| 100/100 [01:01<00:00,  1.64it/s]\n"
     ]
    },
    {
     "name": "stdout",
     "output_type": "stream",
     "text": [
      "epoch: 2800 \t loss: 60.603 \t reward: 160.201\n",
      "epoch: 2801 \t loss: -3.829 \t reward: 67.565\n",
      "epoch: 2802 \t loss: 90.912 \t reward: 213.896\n",
      "epoch: 2803 \t loss: 56.995 \t reward: 167.589\n",
      "epoch: 2804 \t loss: 56.621 \t reward: 166.133\n",
      "epoch: 2805 \t loss: 49.751 \t reward: 180.670\n",
      "epoch: 2806 \t loss: 73.395 \t reward: 191.556\n",
      "epoch: 2807 \t loss: 25.150 \t reward: 160.510\n",
      "epoch: 2808 \t loss: 14.286 \t reward: 95.728\n",
      "epoch: 2809 \t loss: 62.717 \t reward: 166.266\n"
     ]
    },
    {
     "name": "stderr",
     "output_type": "stream",
     "text": [
      "100%|████████████████████████| 100/100 [01:02<00:00,  1.59it/s]\n"
     ]
    },
    {
     "name": "stdout",
     "output_type": "stream",
     "text": [
      "epoch: 2810 \t loss: 85.687 \t reward: 183.415\n",
      "epoch: 2811 \t loss: 2.161 \t reward: 44.627\n",
      "epoch: 2812 \t loss: 26.909 \t reward: 135.051\n",
      "epoch: 2813 \t loss: 71.682 \t reward: 143.891\n",
      "epoch: 2814 \t loss: 47.661 \t reward: 183.819\n",
      "epoch: 2815 \t loss: 16.255 \t reward: 109.460\n",
      "epoch: 2816 \t loss: 54.893 \t reward: 186.433\n",
      "epoch: 2817 \t loss: 56.149 \t reward: 184.308\n",
      "epoch: 2818 \t loss: 50.087 \t reward: 180.757\n",
      "epoch: 2819 \t loss: 51.767 \t reward: 153.316\n"
     ]
    },
    {
     "name": "stderr",
     "output_type": "stream",
     "text": [
      "100%|████████████████████████| 100/100 [00:52<00:00,  1.90it/s]\n"
     ]
    },
    {
     "name": "stdout",
     "output_type": "stream",
     "text": [
      "epoch: 2820 \t loss: 79.134 \t reward: 191.309\n",
      "epoch: 2821 \t loss: 43.333 \t reward: 181.358\n",
      "epoch: 2822 \t loss: 49.194 \t reward: 154.607\n",
      "epoch: 2823 \t loss: 65.349 \t reward: 188.458\n",
      "epoch: 2824 \t loss: 56.101 \t reward: 169.852\n",
      "epoch: 2825 \t loss: 29.232 \t reward: 123.983\n",
      "epoch: 2826 \t loss: 85.084 \t reward: 211.179\n",
      "epoch: 2827 \t loss: 61.372 \t reward: 138.134\n",
      "epoch: 2828 \t loss: 84.277 \t reward: 202.044\n",
      "epoch: 2829 \t loss: 11.230 \t reward: 103.099\n"
     ]
    },
    {
     "name": "stderr",
     "output_type": "stream",
     "text": [
      "100%|████████████████████████| 100/100 [00:50<00:00,  1.99it/s]\n"
     ]
    },
    {
     "name": "stdout",
     "output_type": "stream",
     "text": [
      "epoch: 2830 \t loss: 48.710 \t reward: 196.906\n",
      "epoch: 2831 \t loss: 94.542 \t reward: 207.618\n",
      "epoch: 2832 \t loss: 35.079 \t reward: 135.198\n",
      "epoch: 2833 \t loss: 21.072 \t reward: 104.520\n",
      "epoch: 2834 \t loss: 64.795 \t reward: 192.843\n",
      "epoch: 2835 \t loss: 45.535 \t reward: 158.272\n",
      "epoch: 2836 \t loss: 38.242 \t reward: 158.811\n",
      "epoch: 2837 \t loss: 70.698 \t reward: 166.807\n",
      "epoch: 2838 \t loss: 40.715 \t reward: 127.590\n",
      "epoch: 2839 \t loss: 29.798 \t reward: 165.292\n"
     ]
    },
    {
     "name": "stderr",
     "output_type": "stream",
     "text": [
      "100%|████████████████████████| 100/100 [00:46<00:00,  2.16it/s]\n"
     ]
    },
    {
     "name": "stdout",
     "output_type": "stream",
     "text": [
      "epoch: 2840 \t loss: 33.912 \t reward: 135.396\n",
      "epoch: 2841 \t loss: 10.689 \t reward: 102.420\n",
      "epoch: 2842 \t loss: 32.617 \t reward: 183.474\n",
      "epoch: 2843 \t loss: 80.162 \t reward: 219.626\n",
      "epoch: 2844 \t loss: 34.839 \t reward: 187.574\n",
      "epoch: 2845 \t loss: 53.000 \t reward: 168.015\n",
      "epoch: 2846 \t loss: 65.328 \t reward: 164.054\n",
      "epoch: 2847 \t loss: 21.113 \t reward: 100.623\n",
      "epoch: 2848 \t loss: 22.848 \t reward: 45.883\n",
      "epoch: 2849 \t loss: 45.787 \t reward: 201.629\n"
     ]
    },
    {
     "name": "stderr",
     "output_type": "stream",
     "text": [
      "100%|████████████████████████| 100/100 [00:40<00:00,  2.44it/s]\n"
     ]
    },
    {
     "name": "stdout",
     "output_type": "stream",
     "text": [
      "epoch: 2850 \t loss: 80.182 \t reward: 198.681\n",
      "epoch: 2851 \t loss: 83.484 \t reward: 231.198\n",
      "epoch: 2852 \t loss: 41.783 \t reward: 201.409\n",
      "epoch: 2853 \t loss: 11.659 \t reward: 140.803\n",
      "epoch: 2854 \t loss: 42.975 \t reward: 187.158\n",
      "epoch: 2855 \t loss: 59.376 \t reward: 147.575\n",
      "epoch: 2856 \t loss: 75.265 \t reward: 232.877\n",
      "epoch: 2857 \t loss: 44.423 \t reward: 148.281\n",
      "epoch: 2858 \t loss: 37.079 \t reward: 143.221\n",
      "epoch: 2859 \t loss: 47.271 \t reward: 175.987\n"
     ]
    },
    {
     "name": "stderr",
     "output_type": "stream",
     "text": [
      "100%|████████████████████████| 100/100 [00:45<00:00,  2.18it/s]\n"
     ]
    },
    {
     "name": "stdout",
     "output_type": "stream",
     "text": [
      "epoch: 2860 \t loss: 76.552 \t reward: 182.634\n",
      "epoch: 2861 \t loss: 69.845 \t reward: 152.796\n",
      "epoch: 2862 \t loss: 67.530 \t reward: 168.768\n",
      "epoch: 2863 \t loss: 68.484 \t reward: 233.647\n",
      "epoch: 2864 \t loss: 65.948 \t reward: 202.646\n",
      "epoch: 2865 \t loss: 22.211 \t reward: 149.860\n",
      "epoch: 2866 \t loss: 53.477 \t reward: 201.274\n",
      "epoch: 2867 \t loss: 43.522 \t reward: 158.020\n",
      "epoch: 2868 \t loss: 61.609 \t reward: 159.097\n",
      "epoch: 2869 \t loss: 48.501 \t reward: 165.241\n"
     ]
    },
    {
     "name": "stderr",
     "output_type": "stream",
     "text": [
      "100%|████████████████████████| 100/100 [00:44<00:00,  2.27it/s]\n"
     ]
    },
    {
     "name": "stdout",
     "output_type": "stream",
     "text": [
      "epoch: 2870 \t loss: 46.638 \t reward: 181.410\n",
      "epoch: 2871 \t loss: 98.569 \t reward: 209.052\n",
      "epoch: 2872 \t loss: 60.806 \t reward: 205.078\n",
      "epoch: 2873 \t loss: 64.720 \t reward: 157.449\n",
      "epoch: 2874 \t loss: 70.668 \t reward: 172.597\n",
      "epoch: 2875 \t loss: 44.049 \t reward: 209.076\n",
      "epoch: 2876 \t loss: 36.449 \t reward: 186.236\n",
      "epoch: 2877 \t loss: 58.915 \t reward: 156.857\n",
      "epoch: 2878 \t loss: 77.798 \t reward: 196.436\n",
      "epoch: 2879 \t loss: 22.183 \t reward: 140.299\n"
     ]
    },
    {
     "name": "stderr",
     "output_type": "stream",
     "text": [
      "100%|████████████████████████| 100/100 [00:46<00:00,  2.17it/s]\n"
     ]
    },
    {
     "name": "stdout",
     "output_type": "stream",
     "text": [
      "epoch: 2880 \t loss: 69.795 \t reward: 213.701\n",
      "epoch: 2881 \t loss: 75.689 \t reward: 222.165\n",
      "epoch: 2882 \t loss: 23.706 \t reward: 107.487\n",
      "epoch: 2883 \t loss: 54.445 \t reward: 132.020\n",
      "epoch: 2884 \t loss: 96.123 \t reward: 230.858\n",
      "epoch: 2885 \t loss: 45.350 \t reward: 164.390\n",
      "epoch: 2886 \t loss: 11.826 \t reward: 152.910\n",
      "epoch: 2887 \t loss: 53.480 \t reward: 141.636\n",
      "epoch: 2888 \t loss: 73.626 \t reward: 169.330\n",
      "epoch: 2889 \t loss: 79.064 \t reward: 202.094\n"
     ]
    },
    {
     "name": "stderr",
     "output_type": "stream",
     "text": [
      "100%|████████████████████████| 100/100 [00:34<00:00,  2.91it/s]\n"
     ]
    },
    {
     "name": "stdout",
     "output_type": "stream",
     "text": [
      "epoch: 2890 \t loss: 12.928 \t reward: 138.223\n",
      "epoch: 2891 \t loss: 69.220 \t reward: 233.052\n",
      "epoch: 2892 \t loss: 53.945 \t reward: 172.186\n",
      "epoch: 2893 \t loss: 79.382 \t reward: 185.592\n",
      "epoch: 2894 \t loss: 44.212 \t reward: 171.531\n",
      "epoch: 2895 \t loss: 38.322 \t reward: 149.249\n",
      "epoch: 2896 \t loss: 93.894 \t reward: 186.649\n",
      "epoch: 2897 \t loss: 19.475 \t reward: 99.833\n",
      "epoch: 2898 \t loss: 37.841 \t reward: 156.818\n",
      "epoch: 2899 \t loss: 73.037 \t reward: 172.003\n"
     ]
    },
    {
     "name": "stderr",
     "output_type": "stream",
     "text": [
      "100%|████████████████████████| 100/100 [00:30<00:00,  3.23it/s]\n"
     ]
    },
    {
     "name": "stdout",
     "output_type": "stream",
     "text": [
      "epoch: 2900 \t loss: 19.237 \t reward: 121.084\n",
      "epoch: 2901 \t loss: 23.174 \t reward: 89.462\n",
      "epoch: 2902 \t loss: 38.359 \t reward: 146.179\n",
      "epoch: 2903 \t loss: 55.278 \t reward: 165.945\n",
      "epoch: 2904 \t loss: 19.617 \t reward: 89.269\n",
      "epoch: 2905 \t loss: 66.596 \t reward: 181.574\n",
      "epoch: 2906 \t loss: 26.452 \t reward: 108.954\n",
      "epoch: 2907 \t loss: 47.795 \t reward: 151.342\n",
      "epoch: 2908 \t loss: 57.887 \t reward: 154.691\n",
      "epoch: 2909 \t loss: 35.238 \t reward: 79.442\n"
     ]
    },
    {
     "name": "stderr",
     "output_type": "stream",
     "text": [
      "100%|████████████████████████| 100/100 [00:25<00:00,  3.88it/s]\n"
     ]
    },
    {
     "name": "stdout",
     "output_type": "stream",
     "text": [
      "epoch: 2910 \t loss: -0.285 \t reward: 57.022\n",
      "epoch: 2911 \t loss: 79.974 \t reward: 230.966\n",
      "epoch: 2912 \t loss: 30.958 \t reward: 76.251\n",
      "epoch: 2913 \t loss: 60.988 \t reward: 193.241\n",
      "epoch: 2914 \t loss: 31.531 \t reward: 172.242\n",
      "epoch: 2915 \t loss: 56.139 \t reward: 176.692\n",
      "epoch: 2916 \t loss: 88.346 \t reward: 232.589\n",
      "epoch: 2917 \t loss: 17.410 \t reward: 130.374\n",
      "epoch: 2918 \t loss: 45.458 \t reward: 166.071\n",
      "epoch: 2919 \t loss: 50.226 \t reward: 153.732\n"
     ]
    },
    {
     "name": "stderr",
     "output_type": "stream",
     "text": [
      "100%|████████████████████████| 100/100 [00:32<00:00,  3.07it/s]\n"
     ]
    },
    {
     "name": "stdout",
     "output_type": "stream",
     "text": [
      "epoch: 2920 \t loss: 70.022 \t reward: 175.820\n",
      "epoch: 2921 \t loss: 69.340 \t reward: 163.901\n",
      "epoch: 2922 \t loss: 23.966 \t reward: 122.064\n",
      "epoch: 2923 \t loss: 78.550 \t reward: 202.613\n",
      "epoch: 2924 \t loss: 35.565 \t reward: 160.135\n",
      "epoch: 2925 \t loss: 38.492 \t reward: 144.343\n",
      "epoch: 2926 \t loss: 68.121 \t reward: 165.349\n",
      "epoch: 2927 \t loss: 62.164 \t reward: 151.692\n",
      "epoch: 2928 \t loss: 15.752 \t reward: 104.451\n",
      "epoch: 2929 \t loss: 79.464 \t reward: 222.255\n"
     ]
    },
    {
     "name": "stderr",
     "output_type": "stream",
     "text": [
      "100%|████████████████████████| 100/100 [00:41<00:00,  2.42it/s]\n"
     ]
    },
    {
     "name": "stdout",
     "output_type": "stream",
     "text": [
      "epoch: 2930 \t loss: 30.082 \t reward: 155.501\n",
      "epoch: 2931 \t loss: 69.894 \t reward: 161.949\n",
      "epoch: 2932 \t loss: 39.179 \t reward: 167.524\n",
      "epoch: 2933 \t loss: 35.686 \t reward: 144.767\n",
      "epoch: 2934 \t loss: 57.279 \t reward: 165.814\n",
      "epoch: 2935 \t loss: 77.422 \t reward: 185.148\n",
      "epoch: 2936 \t loss: 74.609 \t reward: 184.807\n",
      "epoch: 2937 \t loss: 53.823 \t reward: 183.126\n",
      "epoch: 2938 \t loss: 42.173 \t reward: 138.699\n",
      "epoch: 2939 \t loss: 61.294 \t reward: 177.634\n"
     ]
    },
    {
     "name": "stderr",
     "output_type": "stream",
     "text": [
      "100%|████████████████████████| 100/100 [00:42<00:00,  2.37it/s]\n"
     ]
    },
    {
     "name": "stdout",
     "output_type": "stream",
     "text": [
      "epoch: 2940 \t loss: -9.025 \t reward: 95.493\n",
      "epoch: 2941 \t loss: 38.539 \t reward: 186.502\n",
      "epoch: 2942 \t loss: 39.522 \t reward: 178.589\n",
      "epoch: 2943 \t loss: 37.734 \t reward: 162.472\n",
      "epoch: 2944 \t loss: 43.219 \t reward: 192.108\n",
      "epoch: 2945 \t loss: 53.808 \t reward: 179.670\n",
      "epoch: 2946 \t loss: 40.893 \t reward: 161.703\n",
      "epoch: 2947 \t loss: 48.788 \t reward: 152.638\n",
      "epoch: 2948 \t loss: 28.125 \t reward: 110.537\n",
      "epoch: 2949 \t loss: 43.045 \t reward: 155.075\n"
     ]
    },
    {
     "name": "stderr",
     "output_type": "stream",
     "text": [
      "100%|████████████████████████| 100/100 [00:45<00:00,  2.20it/s]\n"
     ]
    },
    {
     "name": "stdout",
     "output_type": "stream",
     "text": [
      "epoch: 2950 \t loss: 21.541 \t reward: 150.858\n",
      "epoch: 2951 \t loss: 33.420 \t reward: 135.894\n",
      "epoch: 2952 \t loss: 9.293 \t reward: 148.670\n",
      "epoch: 2953 \t loss: 46.089 \t reward: 182.166\n",
      "epoch: 2954 \t loss: 26.625 \t reward: 144.209\n",
      "epoch: 2955 \t loss: 26.883 \t reward: 117.492\n",
      "epoch: 2956 \t loss: 67.821 \t reward: 185.989\n",
      "epoch: 2957 \t loss: 57.914 \t reward: 143.496\n",
      "epoch: 2958 \t loss: -9.546 \t reward: 62.836\n",
      "epoch: 2959 \t loss: 93.728 \t reward: 207.550\n"
     ]
    },
    {
     "name": "stderr",
     "output_type": "stream",
     "text": [
      "100%|████████████████████████| 100/100 [00:45<00:00,  2.18it/s]\n"
     ]
    },
    {
     "name": "stdout",
     "output_type": "stream",
     "text": [
      "Best model! Average reward = 189.37, Success rate = 92.00%\n",
      "epoch: 2960 \t loss: 18.737 \t reward: 150.091\n",
      "epoch: 2961 \t loss: 1.535 \t reward: 97.309\n",
      "epoch: 2962 \t loss: 41.518 \t reward: 172.368\n",
      "epoch: 2963 \t loss: 31.986 \t reward: 131.237\n",
      "epoch: 2964 \t loss: 6.008 \t reward: 111.795\n",
      "epoch: 2965 \t loss: 43.738 \t reward: 181.410\n",
      "epoch: 2966 \t loss: 87.311 \t reward: 207.501\n",
      "epoch: 2967 \t loss: 32.576 \t reward: 161.367\n",
      "epoch: 2968 \t loss: 18.774 \t reward: 154.431\n",
      "epoch: 2969 \t loss: 88.644 \t reward: 190.051\n"
     ]
    },
    {
     "name": "stderr",
     "output_type": "stream",
     "text": [
      "100%|████████████████████████| 100/100 [00:43<00:00,  2.29it/s]\n"
     ]
    },
    {
     "name": "stdout",
     "output_type": "stream",
     "text": [
      "epoch: 2970 \t loss: 44.991 \t reward: 182.801\n",
      "epoch: 2971 \t loss: 67.814 \t reward: 194.137\n",
      "epoch: 2972 \t loss: 27.351 \t reward: 150.232\n",
      "epoch: 2973 \t loss: 79.257 \t reward: 208.573\n",
      "epoch: 2974 \t loss: 67.333 \t reward: 180.063\n",
      "epoch: 2975 \t loss: 16.284 \t reward: 97.543\n",
      "epoch: 2976 \t loss: 87.255 \t reward: 219.739\n",
      "epoch: 2977 \t loss: 10.510 \t reward: 138.303\n",
      "epoch: 2978 \t loss: 49.755 \t reward: 152.573\n",
      "epoch: 2979 \t loss: 49.481 \t reward: 208.686\n"
     ]
    },
    {
     "name": "stderr",
     "output_type": "stream",
     "text": [
      "100%|████████████████████████| 100/100 [00:43<00:00,  2.32it/s]\n"
     ]
    },
    {
     "name": "stdout",
     "output_type": "stream",
     "text": [
      "epoch: 2980 \t loss: 42.365 \t reward: 171.885\n",
      "epoch: 2981 \t loss: 59.273 \t reward: 203.570\n",
      "epoch: 2982 \t loss: 48.175 \t reward: 172.645\n",
      "epoch: 2983 \t loss: 55.473 \t reward: 194.977\n",
      "epoch: 2984 \t loss: 86.629 \t reward: 218.451\n",
      "epoch: 2985 \t loss: 43.190 \t reward: 122.415\n",
      "epoch: 2986 \t loss: 49.748 \t reward: 157.891\n",
      "epoch: 2987 \t loss: 50.400 \t reward: 176.901\n",
      "epoch: 2988 \t loss: 61.999 \t reward: 200.164\n",
      "epoch: 2989 \t loss: 24.315 \t reward: 149.872\n"
     ]
    },
    {
     "name": "stderr",
     "output_type": "stream",
     "text": [
      "100%|████████████████████████| 100/100 [00:42<00:00,  2.33it/s]\n"
     ]
    },
    {
     "name": "stdout",
     "output_type": "stream",
     "text": [
      "Best model! Average reward = 197.67, Success rate = 85.00%\n",
      "epoch: 2990 \t loss: 68.332 \t reward: 207.155\n",
      "epoch: 2991 \t loss: 48.533 \t reward: 209.278\n",
      "epoch: 2992 \t loss: 37.214 \t reward: 159.698\n",
      "epoch: 2993 \t loss: 12.087 \t reward: 179.394\n",
      "epoch: 2994 \t loss: 39.682 \t reward: 163.082\n",
      "epoch: 2995 \t loss: 7.371 \t reward: 104.962\n",
      "epoch: 2996 \t loss: 44.236 \t reward: 197.461\n",
      "epoch: 2997 \t loss: 39.657 \t reward: 186.619\n",
      "epoch: 2998 \t loss: 24.390 \t reward: 147.529\n",
      "epoch: 2999 \t loss: 30.082 \t reward: 142.229\n"
     ]
    },
    {
     "name": "stderr",
     "output_type": "stream",
     "text": [
      "100%|████████████████████████| 100/100 [00:44<00:00,  2.23it/s]\n"
     ]
    },
    {
     "name": "stdout",
     "output_type": "stream",
     "text": [
      "epoch: 3000 \t loss: 33.634 \t reward: 190.749\n",
      "epoch: 3001 \t loss: 36.292 \t reward: 184.850\n",
      "epoch: 3002 \t loss: 78.577 \t reward: 210.931\n",
      "epoch: 3003 \t loss: 69.317 \t reward: 193.976\n",
      "epoch: 3004 \t loss: 51.456 \t reward: 134.380\n",
      "epoch: 3005 \t loss: 74.642 \t reward: 201.352\n",
      "epoch: 3006 \t loss: 38.149 \t reward: 138.863\n",
      "epoch: 3007 \t loss: 30.434 \t reward: 171.506\n",
      "epoch: 3008 \t loss: 55.802 \t reward: 212.346\n",
      "epoch: 3009 \t loss: 35.615 \t reward: 161.901\n"
     ]
    },
    {
     "name": "stderr",
     "output_type": "stream",
     "text": [
      "100%|████████████████████████| 100/100 [00:43<00:00,  2.30it/s]\n"
     ]
    },
    {
     "name": "stdout",
     "output_type": "stream",
     "text": [
      "epoch: 3010 \t loss: 56.753 \t reward: 205.657\n",
      "epoch: 3011 \t loss: 42.496 \t reward: 177.949\n",
      "epoch: 3012 \t loss: 31.214 \t reward: 157.311\n",
      "epoch: 3013 \t loss: 39.225 \t reward: 190.455\n",
      "epoch: 3014 \t loss: 9.451 \t reward: 111.882\n",
      "epoch: 3015 \t loss: 55.549 \t reward: 192.730\n",
      "epoch: 3016 \t loss: 55.131 \t reward: 157.575\n",
      "epoch: 3017 \t loss: 67.807 \t reward: 151.925\n",
      "epoch: 3018 \t loss: 48.084 \t reward: 190.204\n",
      "epoch: 3019 \t loss: 76.148 \t reward: 197.505\n"
     ]
    },
    {
     "name": "stderr",
     "output_type": "stream",
     "text": [
      "100%|████████████████████████| 100/100 [00:36<00:00,  2.77it/s]\n"
     ]
    },
    {
     "name": "stdout",
     "output_type": "stream",
     "text": [
      "epoch: 3020 \t loss: 56.352 \t reward: 211.849\n",
      "epoch: 3021 \t loss: 49.163 \t reward: 200.399\n",
      "epoch: 3022 \t loss: 35.537 \t reward: 132.339\n",
      "epoch: 3023 \t loss: 72.340 \t reward: 196.827\n",
      "epoch: 3024 \t loss: 17.389 \t reward: 111.602\n",
      "epoch: 3025 \t loss: 86.226 \t reward: 206.063\n",
      "epoch: 3026 \t loss: 69.070 \t reward: 171.559\n",
      "epoch: 3027 \t loss: 68.263 \t reward: 178.845\n",
      "epoch: 3028 \t loss: 53.632 \t reward: 195.909\n",
      "epoch: 3029 \t loss: 63.562 \t reward: 180.575\n"
     ]
    },
    {
     "name": "stderr",
     "output_type": "stream",
     "text": [
      "100%|████████████████████████| 100/100 [00:43<00:00,  2.28it/s]\n"
     ]
    },
    {
     "name": "stdout",
     "output_type": "stream",
     "text": [
      "epoch: 3030 \t loss: 48.818 \t reward: 202.349\n",
      "epoch: 3031 \t loss: -5.695 \t reward: 34.484\n",
      "epoch: 3032 \t loss: 61.969 \t reward: 154.827\n",
      "epoch: 3033 \t loss: 75.643 \t reward: 203.170\n",
      "epoch: 3034 \t loss: 20.070 \t reward: 136.864\n",
      "epoch: 3035 \t loss: 37.217 \t reward: 115.543\n",
      "epoch: 3036 \t loss: 59.682 \t reward: 203.384\n",
      "epoch: 3037 \t loss: 86.456 \t reward: 212.678\n",
      "epoch: 3038 \t loss: 38.129 \t reward: 187.716\n",
      "epoch: 3039 \t loss: 43.537 \t reward: 168.019\n"
     ]
    },
    {
     "name": "stderr",
     "output_type": "stream",
     "text": [
      "100%|████████████████████████| 100/100 [00:47<00:00,  2.10it/s]\n"
     ]
    },
    {
     "name": "stdout",
     "output_type": "stream",
     "text": [
      "epoch: 3040 \t loss: 36.399 \t reward: 165.395\n",
      "epoch: 3041 \t loss: 39.890 \t reward: 157.220\n",
      "epoch: 3042 \t loss: 34.545 \t reward: 154.807\n",
      "epoch: 3043 \t loss: 32.922 \t reward: 115.436\n",
      "epoch: 3044 \t loss: 84.208 \t reward: 174.383\n",
      "epoch: 3045 \t loss: 96.975 \t reward: 226.620\n",
      "epoch: 3046 \t loss: 24.840 \t reward: 141.181\n",
      "epoch: 3047 \t loss: 55.097 \t reward: 184.373\n",
      "epoch: 3048 \t loss: 101.939 \t reward: 227.825\n",
      "epoch: 3049 \t loss: 27.599 \t reward: 129.926\n"
     ]
    },
    {
     "name": "stderr",
     "output_type": "stream",
     "text": [
      "100%|████████████████████████| 100/100 [00:56<00:00,  1.78it/s]\n"
     ]
    },
    {
     "name": "stdout",
     "output_type": "stream",
     "text": [
      "epoch: 3050 \t loss: -14.035 \t reward: 53.206\n",
      "epoch: 3051 \t loss: 39.280 \t reward: 155.759\n",
      "epoch: 3052 \t loss: 48.490 \t reward: 176.860\n",
      "epoch: 3053 \t loss: 32.124 \t reward: 140.738\n",
      "epoch: 3054 \t loss: 79.418 \t reward: 178.004\n",
      "epoch: 3055 \t loss: 63.463 \t reward: 199.079\n",
      "epoch: 3056 \t loss: 51.900 \t reward: 185.151\n",
      "epoch: 3057 \t loss: 60.424 \t reward: 188.122\n",
      "epoch: 3058 \t loss: 56.365 \t reward: 186.805\n",
      "epoch: 3059 \t loss: 62.488 \t reward: 188.690\n"
     ]
    },
    {
     "name": "stderr",
     "output_type": "stream",
     "text": [
      "100%|████████████████████████| 100/100 [01:06<00:00,  1.50it/s]\n"
     ]
    },
    {
     "name": "stdout",
     "output_type": "stream",
     "text": [
      "epoch: 3060 \t loss: 42.177 \t reward: 151.921\n",
      "epoch: 3061 \t loss: 32.948 \t reward: 182.035\n",
      "epoch: 3062 \t loss: 51.454 \t reward: 162.278\n",
      "epoch: 3063 \t loss: 47.794 \t reward: 187.436\n",
      "epoch: 3064 \t loss: 89.021 \t reward: 212.843\n",
      "epoch: 3065 \t loss: 93.718 \t reward: 225.381\n",
      "epoch: 3066 \t loss: 84.181 \t reward: 146.541\n",
      "epoch: 3067 \t loss: 69.135 \t reward: 204.105\n",
      "epoch: 3068 \t loss: 97.943 \t reward: 211.811\n",
      "epoch: 3069 \t loss: 54.357 \t reward: 163.498\n"
     ]
    },
    {
     "name": "stderr",
     "output_type": "stream",
     "text": [
      "100%|████████████████████████| 100/100 [01:24<00:00,  1.18it/s]\n"
     ]
    },
    {
     "name": "stdout",
     "output_type": "stream",
     "text": [
      "epoch: 3070 \t loss: 65.850 \t reward: 175.693\n",
      "epoch: 3071 \t loss: 80.583 \t reward: 185.835\n",
      "epoch: 3072 \t loss: 26.807 \t reward: 56.536\n",
      "epoch: 3073 \t loss: 106.384 \t reward: 202.585\n",
      "epoch: 3074 \t loss: 78.059 \t reward: 191.481\n",
      "epoch: 3075 \t loss: 75.991 \t reward: 197.955\n",
      "epoch: 3076 \t loss: 103.259 \t reward: 213.333\n",
      "epoch: 3077 \t loss: 52.587 \t reward: 165.950\n",
      "epoch: 3078 \t loss: 40.820 \t reward: 118.309\n",
      "epoch: 3079 \t loss: 56.670 \t reward: 163.095\n"
     ]
    },
    {
     "name": "stderr",
     "output_type": "stream",
     "text": [
      "100%|████████████████████████| 100/100 [01:33<00:00,  1.07it/s]\n"
     ]
    },
    {
     "name": "stdout",
     "output_type": "stream",
     "text": [
      "epoch: 3080 \t loss: 7.299 \t reward: 89.350\n",
      "epoch: 3081 \t loss: 16.659 \t reward: 118.449\n",
      "epoch: 3082 \t loss: 57.493 \t reward: 153.673\n",
      "epoch: 3083 \t loss: 87.438 \t reward: 167.929\n",
      "epoch: 3084 \t loss: 63.675 \t reward: 138.189\n",
      "epoch: 3085 \t loss: 5.254 \t reward: 108.596\n",
      "epoch: 3086 \t loss: 41.819 \t reward: 99.718\n",
      "epoch: 3087 \t loss: 27.342 \t reward: 97.440\n",
      "epoch: 3088 \t loss: 42.487 \t reward: 156.390\n",
      "epoch: 3089 \t loss: 66.129 \t reward: 177.308\n"
     ]
    },
    {
     "name": "stderr",
     "output_type": "stream",
     "text": [
      "100%|████████████████████████| 100/100 [01:51<00:00,  1.12s/it]\n"
     ]
    },
    {
     "name": "stdout",
     "output_type": "stream",
     "text": [
      "epoch: 3090 \t loss: 14.369 \t reward: 100.591\n",
      "epoch: 3091 \t loss: 3.824 \t reward: 96.650\n",
      "epoch: 3092 \t loss: 40.345 \t reward: 124.768\n",
      "epoch: 3093 \t loss: 45.825 \t reward: 118.983\n",
      "epoch: 3094 \t loss: 18.063 \t reward: 139.860\n",
      "epoch: 3095 \t loss: 79.929 \t reward: 179.096\n",
      "epoch: 3096 \t loss: 16.332 \t reward: 100.455\n",
      "epoch: 3097 \t loss: 38.740 \t reward: 116.180\n",
      "epoch: 3098 \t loss: 98.298 \t reward: 205.746\n",
      "epoch: 3099 \t loss: 106.100 \t reward: 209.851\n"
     ]
    },
    {
     "name": "stderr",
     "output_type": "stream",
     "text": [
      "100%|████████████████████████| 100/100 [01:35<00:00,  1.05it/s]\n"
     ]
    },
    {
     "name": "stdout",
     "output_type": "stream",
     "text": [
      "epoch: 3100 \t loss: 36.777 \t reward: 132.790\n",
      "epoch: 3101 \t loss: 67.123 \t reward: 163.506\n",
      "epoch: 3102 \t loss: 38.200 \t reward: 158.993\n",
      "epoch: 3103 \t loss: 58.812 \t reward: 178.261\n",
      "epoch: 3104 \t loss: 38.871 \t reward: 143.167\n",
      "epoch: 3105 \t loss: 56.664 \t reward: 131.159\n",
      "epoch: 3106 \t loss: 9.823 \t reward: 106.222\n",
      "epoch: 3107 \t loss: 38.720 \t reward: 151.351\n",
      "epoch: 3108 \t loss: 7.547 \t reward: 90.837\n",
      "epoch: 3109 \t loss: 39.261 \t reward: 139.268\n"
     ]
    },
    {
     "name": "stderr",
     "output_type": "stream",
     "text": [
      "100%|████████████████████████| 100/100 [01:42<00:00,  1.03s/it]\n"
     ]
    },
    {
     "name": "stdout",
     "output_type": "stream",
     "text": [
      "epoch: 3110 \t loss: 49.359 \t reward: 138.396\n",
      "epoch: 3111 \t loss: 51.134 \t reward: 168.265\n",
      "epoch: 3112 \t loss: 97.632 \t reward: 195.403\n",
      "epoch: 3113 \t loss: 5.032 \t reward: 106.758\n",
      "epoch: 3114 \t loss: 81.551 \t reward: 192.826\n",
      "epoch: 3115 \t loss: 23.525 \t reward: 132.491\n",
      "epoch: 3116 \t loss: 44.486 \t reward: 124.702\n",
      "epoch: 3117 \t loss: 11.798 \t reward: 101.115\n",
      "epoch: 3118 \t loss: 53.558 \t reward: 97.069\n",
      "epoch: 3119 \t loss: 80.402 \t reward: 185.867\n"
     ]
    },
    {
     "name": "stderr",
     "output_type": "stream",
     "text": [
      "100%|████████████████████████| 100/100 [01:32<00:00,  1.08it/s]\n"
     ]
    },
    {
     "name": "stdout",
     "output_type": "stream",
     "text": [
      "epoch: 3120 \t loss: 13.920 \t reward: 116.142\n",
      "epoch: 3121 \t loss: 10.655 \t reward: 97.943\n",
      "epoch: 3122 \t loss: 37.212 \t reward: 158.045\n",
      "epoch: 3123 \t loss: 14.523 \t reward: 108.980\n",
      "epoch: 3124 \t loss: 50.541 \t reward: 161.294\n",
      "epoch: 3125 \t loss: 43.176 \t reward: 159.894\n",
      "epoch: 3126 \t loss: 36.407 \t reward: 147.296\n",
      "epoch: 3127 \t loss: 71.045 \t reward: 200.546\n",
      "epoch: 3128 \t loss: 7.116 \t reward: 83.718\n",
      "epoch: 3129 \t loss: 39.100 \t reward: 125.946\n"
     ]
    },
    {
     "name": "stderr",
     "output_type": "stream",
     "text": [
      "100%|████████████████████████| 100/100 [01:32<00:00,  1.08it/s]\n"
     ]
    },
    {
     "name": "stdout",
     "output_type": "stream",
     "text": [
      "epoch: 3130 \t loss: 83.519 \t reward: 188.476\n",
      "epoch: 3131 \t loss: 79.448 \t reward: 181.572\n",
      "epoch: 3132 \t loss: 52.394 \t reward: 156.800\n",
      "epoch: 3133 \t loss: 39.865 \t reward: 153.562\n",
      "epoch: 3134 \t loss: 11.244 \t reward: 94.010\n",
      "epoch: 3135 \t loss: 12.005 \t reward: 101.116\n",
      "epoch: 3136 \t loss: 27.343 \t reward: 128.631\n",
      "epoch: 3137 \t loss: 42.342 \t reward: 135.354\n",
      "epoch: 3138 \t loss: 36.060 \t reward: 114.807\n",
      "epoch: 3139 \t loss: 84.591 \t reward: 168.474\n"
     ]
    },
    {
     "name": "stderr",
     "output_type": "stream",
     "text": [
      "100%|████████████████████████| 100/100 [01:35<00:00,  1.05it/s]\n"
     ]
    },
    {
     "name": "stdout",
     "output_type": "stream",
     "text": [
      "epoch: 3140 \t loss: -9.761 \t reward: 71.424\n",
      "epoch: 3141 \t loss: 85.513 \t reward: 189.033\n",
      "epoch: 3142 \t loss: 33.090 \t reward: 144.355\n",
      "epoch: 3143 \t loss: 39.896 \t reward: 134.336\n",
      "epoch: 3144 \t loss: 19.200 \t reward: 124.439\n",
      "epoch: 3145 \t loss: 11.711 \t reward: 97.281\n",
      "epoch: 3146 \t loss: 50.761 \t reward: 135.593\n",
      "epoch: 3147 \t loss: 41.532 \t reward: 165.627\n",
      "epoch: 3148 \t loss: 44.621 \t reward: 139.133\n",
      "epoch: 3149 \t loss: 34.646 \t reward: 123.786\n"
     ]
    },
    {
     "name": "stderr",
     "output_type": "stream",
     "text": [
      "100%|████████████████████████| 100/100 [01:58<00:00,  1.18s/it]\n"
     ]
    },
    {
     "name": "stdout",
     "output_type": "stream",
     "text": [
      "epoch: 3150 \t loss: 13.477 \t reward: 112.359\n",
      "epoch: 3151 \t loss: 15.170 \t reward: 110.027\n",
      "epoch: 3152 \t loss: 88.353 \t reward: 176.885\n",
      "epoch: 3153 \t loss: 92.395 \t reward: 204.552\n",
      "epoch: 3154 \t loss: 76.821 \t reward: 174.102\n",
      "epoch: 3155 \t loss: 20.144 \t reward: 100.887\n",
      "epoch: 3156 \t loss: 36.757 \t reward: 145.553\n",
      "epoch: 3157 \t loss: 13.142 \t reward: 98.396\n",
      "epoch: 3158 \t loss: 9.810 \t reward: 105.734\n",
      "epoch: 3159 \t loss: 101.715 \t reward: 216.629\n"
     ]
    },
    {
     "name": "stderr",
     "output_type": "stream",
     "text": [
      "100%|████████████████████████| 100/100 [01:36<00:00,  1.03it/s]\n"
     ]
    },
    {
     "name": "stdout",
     "output_type": "stream",
     "text": [
      "epoch: 3160 \t loss: 73.683 \t reward: 187.685\n",
      "epoch: 3161 \t loss: 48.501 \t reward: 173.719\n",
      "epoch: 3162 \t loss: 38.096 \t reward: 123.081\n",
      "epoch: 3163 \t loss: 37.623 \t reward: 129.442\n",
      "epoch: 3164 \t loss: 57.624 \t reward: 143.500\n",
      "epoch: 3165 \t loss: 44.702 \t reward: 170.460\n",
      "epoch: 3166 \t loss: 51.050 \t reward: 149.654\n",
      "epoch: 3167 \t loss: 10.723 \t reward: 90.901\n",
      "epoch: 3168 \t loss: 30.956 \t reward: 114.721\n",
      "epoch: 3169 \t loss: 12.656 \t reward: 50.923\n"
     ]
    },
    {
     "name": "stderr",
     "output_type": "stream",
     "text": [
      "100%|████████████████████████| 100/100 [01:50<00:00,  1.10s/it]\n"
     ]
    },
    {
     "name": "stdout",
     "output_type": "stream",
     "text": [
      "epoch: 3170 \t loss: 16.812 \t reward: 127.784\n",
      "epoch: 3171 \t loss: 48.269 \t reward: 137.366\n",
      "epoch: 3172 \t loss: 56.356 \t reward: 154.774\n",
      "epoch: 3173 \t loss: 21.055 \t reward: 121.666\n",
      "epoch: 3174 \t loss: 40.140 \t reward: 114.222\n",
      "epoch: 3175 \t loss: 33.453 \t reward: 109.849\n",
      "epoch: 3176 \t loss: 94.761 \t reward: 175.042\n",
      "epoch: 3177 \t loss: 71.093 \t reward: 175.718\n",
      "epoch: 3178 \t loss: 52.340 \t reward: 135.762\n",
      "epoch: 3179 \t loss: 7.956 \t reward: 106.518\n"
     ]
    },
    {
     "name": "stderr",
     "output_type": "stream",
     "text": [
      "100%|████████████████████████| 100/100 [01:43<00:00,  1.04s/it]\n"
     ]
    },
    {
     "name": "stdout",
     "output_type": "stream",
     "text": [
      "epoch: 3180 \t loss: 39.285 \t reward: 109.997\n",
      "epoch: 3181 \t loss: 0.464 \t reward: 74.997\n",
      "epoch: 3182 \t loss: 35.600 \t reward: 107.190\n",
      "epoch: 3183 \t loss: 7.963 \t reward: 77.977\n",
      "epoch: 3184 \t loss: 65.963 \t reward: 162.469\n",
      "epoch: 3185 \t loss: 48.449 \t reward: 154.055\n",
      "epoch: 3186 \t loss: 38.259 \t reward: 108.826\n",
      "epoch: 3187 \t loss: 83.738 \t reward: 147.551\n",
      "epoch: 3188 \t loss: 76.895 \t reward: 160.058\n",
      "epoch: 3189 \t loss: 53.784 \t reward: 166.553\n"
     ]
    },
    {
     "name": "stderr",
     "output_type": "stream",
     "text": [
      "100%|████████████████████████| 100/100 [01:43<00:00,  1.03s/it]\n"
     ]
    },
    {
     "name": "stdout",
     "output_type": "stream",
     "text": [
      "epoch: 3190 \t loss: 70.800 \t reward: 173.209\n",
      "epoch: 3191 \t loss: -16.131 \t reward: 63.371\n",
      "epoch: 3192 \t loss: -0.506 \t reward: 90.973\n",
      "epoch: 3193 \t loss: 70.367 \t reward: 138.410\n",
      "epoch: 3194 \t loss: 16.987 \t reward: 71.047\n",
      "epoch: 3195 \t loss: -23.735 \t reward: -50.428\n",
      "epoch: 3196 \t loss: 7.667 \t reward: 78.834\n",
      "epoch: 3197 \t loss: -27.706 \t reward: 4.386\n",
      "epoch: 3198 \t loss: -59.140 \t reward: 0.638\n",
      "epoch: 3199 \t loss: -15.198 \t reward: 44.938\n"
     ]
    },
    {
     "name": "stderr",
     "output_type": "stream",
     "text": [
      "100%|████████████████████████| 100/100 [02:00<00:00,  1.21s/it]\n"
     ]
    },
    {
     "name": "stdout",
     "output_type": "stream",
     "text": [
      "epoch: 3200 \t loss: 11.978 \t reward: 90.488\n",
      "epoch: 3201 \t loss: -44.164 \t reward: 10.432\n",
      "epoch: 3202 \t loss: 10.648 \t reward: 64.341\n",
      "epoch: 3203 \t loss: 3.177 \t reward: 62.534\n",
      "epoch: 3204 \t loss: -32.576 \t reward: 9.366\n",
      "epoch: 3205 \t loss: 27.336 \t reward: 101.502\n",
      "epoch: 3206 \t loss: -17.794 \t reward: 12.243\n",
      "epoch: 3207 \t loss: -25.275 \t reward: 26.562\n",
      "epoch: 3208 \t loss: -32.105 \t reward: 25.767\n",
      "epoch: 3209 \t loss: -31.357 \t reward: 14.275\n"
     ]
    },
    {
     "name": "stderr",
     "output_type": "stream",
     "text": [
      "100%|████████████████████████| 100/100 [02:02<00:00,  1.23s/it]\n"
     ]
    },
    {
     "name": "stdout",
     "output_type": "stream",
     "text": [
      "epoch: 3210 \t loss: -19.886 \t reward: 48.154\n",
      "epoch: 3211 \t loss: 18.791 \t reward: 66.159\n",
      "epoch: 3212 \t loss: 32.742 \t reward: 110.769\n",
      "epoch: 3213 \t loss: 0.052 \t reward: 42.205\n",
      "epoch: 3214 \t loss: 56.168 \t reward: 124.717\n",
      "epoch: 3215 \t loss: 46.152 \t reward: 104.354\n",
      "epoch: 3216 \t loss: 52.184 \t reward: 141.375\n",
      "epoch: 3217 \t loss: 103.091 \t reward: 190.707\n",
      "epoch: 3218 \t loss: -11.063 \t reward: 50.608\n",
      "epoch: 3219 \t loss: 6.179 \t reward: 63.707\n"
     ]
    },
    {
     "name": "stderr",
     "output_type": "stream",
     "text": [
      "100%|████████████████████████| 100/100 [02:01<00:00,  1.22s/it]\n"
     ]
    },
    {
     "name": "stdout",
     "output_type": "stream",
     "text": [
      "epoch: 3220 \t loss: 40.235 \t reward: 86.996\n",
      "epoch: 3221 \t loss: 49.815 \t reward: 132.047\n",
      "epoch: 3222 \t loss: 59.170 \t reward: 141.142\n",
      "epoch: 3223 \t loss: 12.073 \t reward: 62.464\n",
      "epoch: 3224 \t loss: 21.227 \t reward: -8.869\n",
      "epoch: 3225 \t loss: 60.253 \t reward: 183.207\n",
      "epoch: 3226 \t loss: -9.854 \t reward: 59.942\n",
      "epoch: 3227 \t loss: 0.137 \t reward: 46.993\n",
      "epoch: 3228 \t loss: 46.783 \t reward: 136.203\n",
      "epoch: 3229 \t loss: 13.558 \t reward: 84.663\n"
     ]
    },
    {
     "name": "stderr",
     "output_type": "stream",
     "text": [
      "100%|████████████████████████| 100/100 [01:51<00:00,  1.11s/it]\n"
     ]
    },
    {
     "name": "stdout",
     "output_type": "stream",
     "text": [
      "epoch: 3230 \t loss: -16.292 \t reward: 32.759\n",
      "epoch: 3231 \t loss: 77.270 \t reward: 184.974\n",
      "epoch: 3232 \t loss: 40.416 \t reward: 128.050\n",
      "epoch: 3233 \t loss: 3.826 \t reward: 66.682\n",
      "epoch: 3234 \t loss: 65.682 \t reward: 159.368\n",
      "epoch: 3235 \t loss: 70.084 \t reward: 154.999\n",
      "epoch: 3236 \t loss: 59.184 \t reward: 176.846\n",
      "epoch: 3237 \t loss: 63.411 \t reward: 153.035\n",
      "epoch: 3238 \t loss: 16.307 \t reward: 102.801\n",
      "epoch: 3239 \t loss: 50.319 \t reward: 143.885\n"
     ]
    },
    {
     "name": "stderr",
     "output_type": "stream",
     "text": [
      "100%|████████████████████████| 100/100 [01:32<00:00,  1.09it/s]\n"
     ]
    },
    {
     "name": "stdout",
     "output_type": "stream",
     "text": [
      "epoch: 3240 \t loss: 60.131 \t reward: 155.988\n",
      "epoch: 3241 \t loss: 63.285 \t reward: 150.243\n",
      "epoch: 3242 \t loss: 64.133 \t reward: 191.717\n",
      "epoch: 3243 \t loss: 72.148 \t reward: 186.483\n",
      "epoch: 3244 \t loss: 48.999 \t reward: 166.645\n",
      "epoch: 3245 \t loss: 25.046 \t reward: 117.470\n",
      "epoch: 3246 \t loss: 82.926 \t reward: 207.101\n",
      "epoch: 3247 \t loss: 19.570 \t reward: 113.680\n",
      "epoch: 3248 \t loss: 59.377 \t reward: 182.354\n",
      "epoch: 3249 \t loss: 105.037 \t reward: 219.832\n"
     ]
    },
    {
     "name": "stderr",
     "output_type": "stream",
     "text": [
      "100%|████████████████████████| 100/100 [01:24<00:00,  1.18it/s]\n"
     ]
    },
    {
     "name": "stdout",
     "output_type": "stream",
     "text": [
      "epoch: 3250 \t loss: 49.078 \t reward: 153.377\n",
      "epoch: 3251 \t loss: 76.301 \t reward: 192.434\n",
      "epoch: 3252 \t loss: 34.356 \t reward: 134.611\n",
      "epoch: 3253 \t loss: 64.564 \t reward: 180.682\n",
      "epoch: 3254 \t loss: 27.166 \t reward: 133.930\n",
      "epoch: 3255 \t loss: 41.210 \t reward: 130.173\n",
      "epoch: 3256 \t loss: 48.320 \t reward: 163.853\n",
      "epoch: 3257 \t loss: 74.956 \t reward: 193.298\n",
      "epoch: 3258 \t loss: 32.016 \t reward: 157.195\n",
      "epoch: 3259 \t loss: 18.306 \t reward: 104.015\n"
     ]
    },
    {
     "name": "stderr",
     "output_type": "stream",
     "text": [
      "100%|████████████████████████| 100/100 [01:10<00:00,  1.42it/s]\n"
     ]
    },
    {
     "name": "stdout",
     "output_type": "stream",
     "text": [
      "epoch: 3260 \t loss: 10.961 \t reward: 74.553\n",
      "epoch: 3261 \t loss: 15.526 \t reward: 100.150\n",
      "epoch: 3262 \t loss: 67.517 \t reward: 210.593\n",
      "epoch: 3263 \t loss: 71.356 \t reward: 150.796\n",
      "epoch: 3264 \t loss: 48.414 \t reward: 134.399\n",
      "epoch: 3265 \t loss: 90.190 \t reward: 200.021\n",
      "epoch: 3266 \t loss: 70.204 \t reward: 190.111\n",
      "epoch: 3267 \t loss: 24.895 \t reward: 95.635\n",
      "epoch: 3268 \t loss: 17.359 \t reward: 112.730\n",
      "epoch: 3269 \t loss: 28.953 \t reward: 115.884\n"
     ]
    },
    {
     "name": "stderr",
     "output_type": "stream",
     "text": [
      "100%|████████████████████████| 100/100 [01:26<00:00,  1.15it/s]\n"
     ]
    },
    {
     "name": "stdout",
     "output_type": "stream",
     "text": [
      "epoch: 3270 \t loss: 94.030 \t reward: 199.820\n",
      "epoch: 3271 \t loss: 72.939 \t reward: 199.518\n",
      "epoch: 3272 \t loss: 36.120 \t reward: 129.073\n",
      "epoch: 3273 \t loss: 39.633 \t reward: 129.034\n",
      "epoch: 3274 \t loss: 25.005 \t reward: 111.749\n",
      "epoch: 3275 \t loss: 75.578 \t reward: 173.544\n",
      "epoch: 3276 \t loss: 17.053 \t reward: 115.655\n",
      "epoch: 3277 \t loss: 48.339 \t reward: 164.377\n",
      "epoch: 3278 \t loss: 54.202 \t reward: 149.962\n",
      "epoch: 3279 \t loss: 54.601 \t reward: 174.496\n"
     ]
    },
    {
     "name": "stderr",
     "output_type": "stream",
     "text": [
      "100%|████████████████████████| 100/100 [01:31<00:00,  1.10it/s]\n"
     ]
    },
    {
     "name": "stdout",
     "output_type": "stream",
     "text": [
      "epoch: 3280 \t loss: 64.239 \t reward: 172.465\n",
      "epoch: 3281 \t loss: 34.157 \t reward: 152.686\n",
      "epoch: 3282 \t loss: 47.248 \t reward: 167.917\n",
      "epoch: 3283 \t loss: 35.161 \t reward: 148.788\n",
      "epoch: 3284 \t loss: 47.043 \t reward: 182.049\n",
      "epoch: 3285 \t loss: 40.061 \t reward: 152.049\n",
      "epoch: 3286 \t loss: 48.664 \t reward: 170.886\n",
      "epoch: 3287 \t loss: 12.354 \t reward: 98.619\n",
      "epoch: 3288 \t loss: 13.787 \t reward: 104.825\n",
      "epoch: 3289 \t loss: 21.649 \t reward: 120.369\n"
     ]
    },
    {
     "name": "stderr",
     "output_type": "stream",
     "text": [
      "100%|████████████████████████| 100/100 [01:31<00:00,  1.09it/s]\n"
     ]
    },
    {
     "name": "stdout",
     "output_type": "stream",
     "text": [
      "epoch: 3290 \t loss: 58.852 \t reward: 187.738\n",
      "epoch: 3291 \t loss: 70.354 \t reward: 175.921\n",
      "epoch: 3292 \t loss: 78.280 \t reward: 174.952\n",
      "epoch: 3293 \t loss: 24.535 \t reward: 144.719\n",
      "epoch: 3294 \t loss: 57.983 \t reward: 137.281\n",
      "epoch: 3295 \t loss: 58.296 \t reward: 160.326\n",
      "epoch: 3296 \t loss: 61.260 \t reward: 140.610\n",
      "epoch: 3297 \t loss: 21.600 \t reward: 79.803\n",
      "epoch: 3298 \t loss: 38.984 \t reward: 128.125\n",
      "epoch: 3299 \t loss: 52.537 \t reward: 136.104\n"
     ]
    },
    {
     "name": "stderr",
     "output_type": "stream",
     "text": [
      "100%|████████████████████████| 100/100 [01:35<00:00,  1.04it/s]\n"
     ]
    },
    {
     "name": "stdout",
     "output_type": "stream",
     "text": [
      "epoch: 3300 \t loss: 82.558 \t reward: 160.432\n",
      "epoch: 3301 \t loss: 24.853 \t reward: 97.349\n",
      "epoch: 3302 \t loss: 45.640 \t reward: 153.980\n",
      "epoch: 3303 \t loss: 95.653 \t reward: 182.425\n",
      "epoch: 3304 \t loss: 14.611 \t reward: 82.270\n",
      "epoch: 3305 \t loss: 57.865 \t reward: 124.656\n",
      "epoch: 3306 \t loss: 85.850 \t reward: 153.777\n",
      "epoch: 3307 \t loss: 52.372 \t reward: 168.584\n",
      "epoch: 3308 \t loss: 14.955 \t reward: 107.726\n",
      "epoch: 3309 \t loss: 51.318 \t reward: 117.135\n"
     ]
    },
    {
     "name": "stderr",
     "output_type": "stream",
     "text": [
      "100%|████████████████████████| 100/100 [01:39<00:00,  1.00it/s]\n"
     ]
    },
    {
     "name": "stdout",
     "output_type": "stream",
     "text": [
      "epoch: 3310 \t loss: 57.700 \t reward: 140.842\n",
      "epoch: 3311 \t loss: -23.830 \t reward: -55.258\n",
      "epoch: 3312 \t loss: 57.280 \t reward: 141.084\n",
      "epoch: 3313 \t loss: -21.854 \t reward: 19.953\n",
      "epoch: 3314 \t loss: -25.346 \t reward: 17.713\n",
      "epoch: 3315 \t loss: -27.951 \t reward: 27.631\n",
      "epoch: 3316 \t loss: 11.157 \t reward: 43.163\n",
      "epoch: 3317 \t loss: -24.249 \t reward: 23.707\n",
      "epoch: 3318 \t loss: 1.127 \t reward: 36.125\n",
      "epoch: 3319 \t loss: -30.102 \t reward: 12.959\n"
     ]
    },
    {
     "name": "stderr",
     "output_type": "stream",
     "text": [
      "100%|████████████████████████| 100/100 [02:15<00:00,  1.35s/it]\n"
     ]
    },
    {
     "name": "stdout",
     "output_type": "stream",
     "text": [
      "epoch: 3320 \t loss: 89.775 \t reward: 156.569\n",
      "epoch: 3321 \t loss: 19.711 \t reward: 55.863\n",
      "epoch: 3322 \t loss: -30.255 \t reward: -3.686\n",
      "epoch: 3323 \t loss: -3.448 \t reward: 40.456\n",
      "epoch: 3324 \t loss: -18.709 \t reward: 27.921\n",
      "epoch: 3325 \t loss: 10.790 \t reward: 30.783\n",
      "epoch: 3326 \t loss: -30.192 \t reward: 28.341\n",
      "epoch: 3327 \t loss: 21.494 \t reward: 53.662\n",
      "epoch: 3328 \t loss: 0.876 \t reward: 29.539\n",
      "epoch: 3329 \t loss: 0.786 \t reward: 44.258\n"
     ]
    },
    {
     "name": "stderr",
     "output_type": "stream",
     "text": [
      "100%|████████████████████████| 100/100 [02:10<00:00,  1.30s/it]\n"
     ]
    },
    {
     "name": "stdout",
     "output_type": "stream",
     "text": [
      "epoch: 3330 \t loss: 11.162 \t reward: 36.940\n",
      "epoch: 3331 \t loss: 4.012 \t reward: 79.952\n",
      "epoch: 3332 \t loss: 41.842 \t reward: 73.781\n",
      "epoch: 3333 \t loss: 32.765 \t reward: 100.570\n",
      "epoch: 3334 \t loss: -40.028 \t reward: -26.717\n",
      "epoch: 3335 \t loss: -39.082 \t reward: -17.296\n",
      "epoch: 3336 \t loss: -27.321 \t reward: 12.671\n",
      "epoch: 3337 \t loss: 17.905 \t reward: 66.411\n",
      "epoch: 3338 \t loss: 91.340 \t reward: 144.487\n",
      "epoch: 3339 \t loss: 21.450 \t reward: 51.499\n"
     ]
    },
    {
     "name": "stderr",
     "output_type": "stream",
     "text": [
      "100%|████████████████████████| 100/100 [02:08<00:00,  1.28s/it]\n"
     ]
    },
    {
     "name": "stdout",
     "output_type": "stream",
     "text": [
      "epoch: 3340 \t loss: 47.341 \t reward: 84.215\n",
      "epoch: 3341 \t loss: 48.366 \t reward: 89.753\n",
      "epoch: 3342 \t loss: 10.945 \t reward: 80.003\n",
      "epoch: 3343 \t loss: 39.168 \t reward: 114.405\n",
      "epoch: 3344 \t loss: 51.675 \t reward: 99.030\n",
      "epoch: 3345 \t loss: 52.477 \t reward: 102.512\n",
      "epoch: 3346 \t loss: 15.034 \t reward: -11.610\n",
      "epoch: 3347 \t loss: 18.652 \t reward: 49.967\n",
      "epoch: 3348 \t loss: 105.287 \t reward: 156.864\n",
      "epoch: 3349 \t loss: 30.427 \t reward: 108.322\n"
     ]
    },
    {
     "name": "stderr",
     "output_type": "stream",
     "text": [
      "100%|████████████████████████| 100/100 [01:48<00:00,  1.09s/it]\n"
     ]
    },
    {
     "name": "stdout",
     "output_type": "stream",
     "text": [
      "epoch: 3350 \t loss: 34.833 \t reward: 29.804\n",
      "epoch: 3351 \t loss: 53.012 \t reward: 96.017\n",
      "epoch: 3352 \t loss: 18.390 \t reward: 102.131\n",
      "epoch: 3353 \t loss: 68.123 \t reward: 152.515\n",
      "epoch: 3354 \t loss: 63.508 \t reward: 164.848\n",
      "epoch: 3355 \t loss: 54.188 \t reward: 164.340\n",
      "epoch: 3356 \t loss: 87.735 \t reward: 213.535\n",
      "epoch: 3357 \t loss: 20.205 \t reward: 106.159\n",
      "epoch: 3358 \t loss: 26.788 \t reward: 122.336\n",
      "epoch: 3359 \t loss: 24.727 \t reward: 82.588\n"
     ]
    },
    {
     "name": "stderr",
     "output_type": "stream",
     "text": [
      "100%|████████████████████████| 100/100 [01:26<00:00,  1.15it/s]\n"
     ]
    },
    {
     "name": "stdout",
     "output_type": "stream",
     "text": [
      "epoch: 3360 \t loss: 25.927 \t reward: 120.843\n",
      "epoch: 3361 \t loss: 39.680 \t reward: 89.555\n",
      "epoch: 3362 \t loss: 58.914 \t reward: 157.472\n",
      "epoch: 3363 \t loss: 51.459 \t reward: 182.596\n",
      "epoch: 3364 \t loss: 65.377 \t reward: 100.955\n",
      "epoch: 3365 \t loss: 83.016 \t reward: 196.740\n",
      "epoch: 3366 \t loss: 31.227 \t reward: 137.684\n",
      "epoch: 3367 \t loss: 51.511 \t reward: 158.769\n",
      "epoch: 3368 \t loss: 19.452 \t reward: 101.665\n",
      "epoch: 3369 \t loss: 45.681 \t reward: 162.694\n"
     ]
    },
    {
     "name": "stderr",
     "output_type": "stream",
     "text": [
      "100%|████████████████████████| 100/100 [01:15<00:00,  1.32it/s]\n"
     ]
    },
    {
     "name": "stdout",
     "output_type": "stream",
     "text": [
      "epoch: 3370 \t loss: 39.532 \t reward: 141.029\n",
      "epoch: 3371 \t loss: -0.238 \t reward: 87.772\n",
      "epoch: 3372 \t loss: 35.606 \t reward: 112.593\n",
      "epoch: 3373 \t loss: 77.739 \t reward: 203.492\n",
      "epoch: 3374 \t loss: -12.059 \t reward: 53.630\n",
      "epoch: 3375 \t loss: -0.396 \t reward: 93.567\n",
      "epoch: 3376 \t loss: 94.866 \t reward: 237.937\n",
      "epoch: 3377 \t loss: 16.163 \t reward: 110.718\n",
      "epoch: 3378 \t loss: 51.521 \t reward: 154.384\n",
      "epoch: 3379 \t loss: 25.718 \t reward: 148.579\n"
     ]
    },
    {
     "name": "stderr",
     "output_type": "stream",
     "text": [
      "100%|████████████████████████| 100/100 [01:13<00:00,  1.36it/s]\n"
     ]
    },
    {
     "name": "stdout",
     "output_type": "stream",
     "text": [
      "epoch: 3380 \t loss: 96.389 \t reward: 218.138\n",
      "epoch: 3381 \t loss: 21.296 \t reward: 152.206\n",
      "epoch: 3382 \t loss: 52.110 \t reward: 162.576\n",
      "epoch: 3383 \t loss: 74.573 \t reward: 211.174\n",
      "epoch: 3384 \t loss: 22.240 \t reward: 105.790\n",
      "epoch: 3385 \t loss: 48.164 \t reward: 138.771\n",
      "epoch: 3386 \t loss: 62.239 \t reward: 179.616\n",
      "epoch: 3387 \t loss: 33.920 \t reward: 143.539\n",
      "epoch: 3388 \t loss: 88.828 \t reward: 214.327\n",
      "epoch: 3389 \t loss: 82.686 \t reward: 207.231\n"
     ]
    },
    {
     "name": "stderr",
     "output_type": "stream",
     "text": [
      "100%|████████████████████████| 100/100 [01:13<00:00,  1.36it/s]\n"
     ]
    },
    {
     "name": "stdout",
     "output_type": "stream",
     "text": [
      "epoch: 3390 \t loss: 24.029 \t reward: 109.803\n",
      "epoch: 3391 \t loss: 42.111 \t reward: 155.941\n",
      "epoch: 3392 \t loss: 88.803 \t reward: 209.984\n",
      "epoch: 3393 \t loss: 62.340 \t reward: 179.014\n",
      "epoch: 3394 \t loss: 46.966 \t reward: 170.942\n",
      "epoch: 3395 \t loss: 102.139 \t reward: 232.296\n",
      "epoch: 3396 \t loss: 72.790 \t reward: 189.704\n",
      "epoch: 3397 \t loss: 30.678 \t reward: 55.523\n",
      "epoch: 3398 \t loss: 55.414 \t reward: 172.885\n",
      "epoch: 3399 \t loss: 97.019 \t reward: 211.211\n"
     ]
    },
    {
     "name": "stderr",
     "output_type": "stream",
     "text": [
      "100%|████████████████████████| 100/100 [01:08<00:00,  1.46it/s]\n"
     ]
    },
    {
     "name": "stdout",
     "output_type": "stream",
     "text": [
      "epoch: 3400 \t loss: 17.609 \t reward: 142.272\n",
      "epoch: 3401 \t loss: 61.774 \t reward: 168.653\n",
      "epoch: 3402 \t loss: 66.897 \t reward: 176.334\n",
      "epoch: 3403 \t loss: 13.922 \t reward: -2.963\n",
      "epoch: 3404 \t loss: 15.380 \t reward: 139.837\n",
      "epoch: 3405 \t loss: 93.355 \t reward: 188.115\n",
      "epoch: 3406 \t loss: 74.570 \t reward: 186.164\n",
      "epoch: 3407 \t loss: 33.103 \t reward: 156.811\n",
      "epoch: 3408 \t loss: 44.215 \t reward: 177.047\n",
      "epoch: 3409 \t loss: 38.414 \t reward: 162.106\n"
     ]
    },
    {
     "name": "stderr",
     "output_type": "stream",
     "text": [
      "100%|████████████████████████| 100/100 [01:09<00:00,  1.43it/s]\n"
     ]
    },
    {
     "name": "stdout",
     "output_type": "stream",
     "text": [
      "epoch: 3410 \t loss: 41.467 \t reward: 137.932\n",
      "epoch: 3411 \t loss: 51.170 \t reward: 176.507\n",
      "epoch: 3412 \t loss: 104.379 \t reward: 212.980\n",
      "epoch: 3413 \t loss: 76.586 \t reward: 195.526\n",
      "epoch: 3414 \t loss: 47.993 \t reward: 178.865\n",
      "epoch: 3415 \t loss: 59.033 \t reward: 182.800\n",
      "epoch: 3416 \t loss: 90.785 \t reward: 163.541\n",
      "epoch: 3417 \t loss: 31.439 \t reward: 159.928\n",
      "epoch: 3418 \t loss: 12.326 \t reward: 127.564\n",
      "epoch: 3419 \t loss: 43.137 \t reward: 179.494\n"
     ]
    },
    {
     "name": "stderr",
     "output_type": "stream",
     "text": [
      "100%|████████████████████████| 100/100 [01:09<00:00,  1.44it/s]\n"
     ]
    },
    {
     "name": "stdout",
     "output_type": "stream",
     "text": [
      "epoch: 3420 \t loss: 85.723 \t reward: 214.381\n",
      "epoch: 3421 \t loss: 48.925 \t reward: 143.609\n",
      "epoch: 3422 \t loss: 67.801 \t reward: 239.531\n",
      "epoch: 3423 \t loss: -1.422 \t reward: 112.448\n",
      "epoch: 3424 \t loss: 26.415 \t reward: 70.046\n",
      "epoch: 3425 \t loss: 75.851 \t reward: 118.305\n",
      "epoch: 3426 \t loss: 71.547 \t reward: 171.654\n",
      "epoch: 3427 \t loss: 19.975 \t reward: 124.534\n",
      "epoch: 3428 \t loss: 29.797 \t reward: 153.060\n",
      "epoch: 3429 \t loss: 27.773 \t reward: 122.222\n"
     ]
    },
    {
     "name": "stderr",
     "output_type": "stream",
     "text": [
      "100%|████████████████████████| 100/100 [01:02<00:00,  1.61it/s]\n"
     ]
    },
    {
     "name": "stdout",
     "output_type": "stream",
     "text": [
      "epoch: 3430 \t loss: 27.603 \t reward: 151.791\n",
      "epoch: 3431 \t loss: 51.378 \t reward: 149.571\n",
      "epoch: 3432 \t loss: 23.298 \t reward: 138.577\n",
      "epoch: 3433 \t loss: 54.434 \t reward: 183.832\n",
      "epoch: 3434 \t loss: 19.277 \t reward: 107.845\n",
      "epoch: 3435 \t loss: 85.510 \t reward: 193.929\n",
      "epoch: 3436 \t loss: 80.914 \t reward: 143.452\n",
      "epoch: 3437 \t loss: 23.043 \t reward: 106.681\n",
      "epoch: 3438 \t loss: 50.875 \t reward: 178.678\n",
      "epoch: 3439 \t loss: 0.751 \t reward: 89.459\n"
     ]
    },
    {
     "name": "stderr",
     "output_type": "stream",
     "text": [
      "100%|████████████████████████| 100/100 [00:56<00:00,  1.76it/s]\n"
     ]
    },
    {
     "name": "stdout",
     "output_type": "stream",
     "text": [
      "epoch: 3440 \t loss: 65.662 \t reward: 163.429\n",
      "epoch: 3441 \t loss: 29.740 \t reward: 111.677\n",
      "epoch: 3442 \t loss: 11.930 \t reward: 91.508\n",
      "epoch: 3443 \t loss: 48.061 \t reward: 113.820\n",
      "epoch: 3444 \t loss: 61.347 \t reward: 189.973\n",
      "epoch: 3445 \t loss: 19.012 \t reward: 161.581\n",
      "epoch: 3446 \t loss: 33.432 \t reward: 91.329\n",
      "epoch: 3447 \t loss: 40.278 \t reward: 134.365\n",
      "epoch: 3448 \t loss: 32.307 \t reward: 141.642\n",
      "epoch: 3449 \t loss: 44.774 \t reward: 196.713\n"
     ]
    },
    {
     "name": "stderr",
     "output_type": "stream",
     "text": [
      "100%|████████████████████████| 100/100 [00:53<00:00,  1.86it/s]\n"
     ]
    },
    {
     "name": "stdout",
     "output_type": "stream",
     "text": [
      "epoch: 3450 \t loss: 84.285 \t reward: 193.651\n",
      "epoch: 3451 \t loss: 13.658 \t reward: 75.706\n",
      "epoch: 3452 \t loss: 48.375 \t reward: 196.039\n",
      "epoch: 3453 \t loss: 34.405 \t reward: 172.979\n",
      "epoch: 3454 \t loss: 72.445 \t reward: 206.714\n",
      "epoch: 3455 \t loss: 2.481 \t reward: 106.680\n",
      "epoch: 3456 \t loss: 34.008 \t reward: 119.121\n",
      "epoch: 3457 \t loss: 19.645 \t reward: 135.854\n",
      "epoch: 3458 \t loss: 29.020 \t reward: 123.567\n",
      "epoch: 3459 \t loss: 1.377 \t reward: 97.884\n"
     ]
    },
    {
     "name": "stderr",
     "output_type": "stream",
     "text": [
      "100%|████████████████████████| 100/100 [01:13<00:00,  1.36it/s]\n"
     ]
    },
    {
     "name": "stdout",
     "output_type": "stream",
     "text": [
      "epoch: 3460 \t loss: 47.735 \t reward: 175.464\n",
      "epoch: 3461 \t loss: 17.934 \t reward: 117.816\n",
      "epoch: 3462 \t loss: -7.360 \t reward: 9.010\n",
      "epoch: 3463 \t loss: 25.584 \t reward: 73.656\n",
      "epoch: 3464 \t loss: 41.359 \t reward: 180.883\n",
      "epoch: 3465 \t loss: -4.404 \t reward: 12.819\n",
      "epoch: 3466 \t loss: 18.047 \t reward: 131.552\n",
      "epoch: 3467 \t loss: 49.548 \t reward: 182.069\n",
      "epoch: 3468 \t loss: 26.868 \t reward: 126.889\n",
      "epoch: 3469 \t loss: 61.467 \t reward: 176.925\n"
     ]
    },
    {
     "name": "stderr",
     "output_type": "stream",
     "text": [
      "100%|████████████████████████| 100/100 [01:19<00:00,  1.25it/s]\n"
     ]
    },
    {
     "name": "stdout",
     "output_type": "stream",
     "text": [
      "epoch: 3470 \t loss: 44.297 \t reward: 189.071\n",
      "epoch: 3471 \t loss: 20.146 \t reward: 135.100\n",
      "epoch: 3472 \t loss: 66.043 \t reward: 211.804\n",
      "epoch: 3473 \t loss: 37.816 \t reward: 150.147\n",
      "epoch: 3474 \t loss: 46.174 \t reward: 169.644\n",
      "epoch: 3475 \t loss: 19.710 \t reward: 146.366\n",
      "epoch: 3476 \t loss: 27.351 \t reward: 110.013\n",
      "epoch: 3477 \t loss: 16.405 \t reward: 145.307\n",
      "epoch: 3478 \t loss: 15.341 \t reward: 75.307\n",
      "epoch: 3479 \t loss: 28.042 \t reward: 70.438\n"
     ]
    },
    {
     "name": "stderr",
     "output_type": "stream",
     "text": [
      "100%|████████████████████████| 100/100 [01:29<00:00,  1.12it/s]\n"
     ]
    },
    {
     "name": "stdout",
     "output_type": "stream",
     "text": [
      "epoch: 3480 \t loss: 47.799 \t reward: 193.262\n",
      "epoch: 3481 \t loss: 63.726 \t reward: 227.778\n",
      "epoch: 3482 \t loss: 50.645 \t reward: 191.342\n",
      "epoch: 3483 \t loss: 23.024 \t reward: 173.290\n",
      "epoch: 3484 \t loss: 47.260 \t reward: 194.880\n",
      "epoch: 3485 \t loss: 65.160 \t reward: 217.774\n",
      "epoch: 3486 \t loss: 22.996 \t reward: 148.563\n",
      "epoch: 3487 \t loss: 24.656 \t reward: 153.052\n",
      "epoch: 3488 \t loss: 19.941 \t reward: 184.503\n",
      "epoch: 3489 \t loss: 26.019 \t reward: 174.267\n"
     ]
    },
    {
     "name": "stderr",
     "output_type": "stream",
     "text": [
      "100%|████████████████████████| 100/100 [01:36<00:00,  1.04it/s]\n"
     ]
    },
    {
     "name": "stdout",
     "output_type": "stream",
     "text": [
      "epoch: 3490 \t loss: 21.224 \t reward: 147.621\n",
      "epoch: 3491 \t loss: 7.278 \t reward: 111.326\n",
      "epoch: 3492 \t loss: 24.833 \t reward: 146.339\n",
      "epoch: 3493 \t loss: 47.639 \t reward: 192.372\n",
      "epoch: 3494 \t loss: 8.101 \t reward: 137.446\n",
      "epoch: 3495 \t loss: 25.371 \t reward: 146.799\n",
      "epoch: 3496 \t loss: 3.271 \t reward: 118.670\n",
      "epoch: 3497 \t loss: 10.840 \t reward: 124.360\n",
      "epoch: 3498 \t loss: 4.682 \t reward: 151.159\n",
      "epoch: 3499 \t loss: 0.382 \t reward: 117.559\n"
     ]
    },
    {
     "name": "stderr",
     "output_type": "stream",
     "text": [
      "100%|████████████████████████| 100/100 [01:51<00:00,  1.12s/it]\n"
     ]
    },
    {
     "name": "stdout",
     "output_type": "stream",
     "text": [
      "epoch: 3500 \t loss: 6.259 \t reward: 102.843\n",
      "epoch: 3501 \t loss: 7.039 \t reward: 116.014\n",
      "epoch: 3502 \t loss: 24.036 \t reward: 187.898\n",
      "epoch: 3503 \t loss: 2.893 \t reward: 123.868\n",
      "epoch: 3504 \t loss: 20.135 \t reward: 144.183\n",
      "epoch: 3505 \t loss: 7.006 \t reward: 103.272\n",
      "epoch: 3506 \t loss: 11.092 \t reward: 156.650\n",
      "epoch: 3507 \t loss: 5.631 \t reward: 122.279\n",
      "epoch: 3508 \t loss: 5.730 \t reward: 109.823\n",
      "epoch: 3509 \t loss: 7.132 \t reward: 141.594\n"
     ]
    },
    {
     "name": "stderr",
     "output_type": "stream",
     "text": [
      "100%|████████████████████████| 100/100 [01:49<00:00,  1.10s/it]\n"
     ]
    },
    {
     "name": "stdout",
     "output_type": "stream",
     "text": [
      "epoch: 3510 \t loss: 6.778 \t reward: 97.360\n",
      "epoch: 3511 \t loss: 0.416 \t reward: 104.330\n",
      "epoch: 3512 \t loss: 6.922 \t reward: 134.701\n",
      "epoch: 3513 \t loss: 4.760 \t reward: 67.402\n",
      "epoch: 3514 \t loss: 6.488 \t reward: 135.946\n",
      "epoch: 3515 \t loss: 8.460 \t reward: 162.052\n",
      "epoch: 3516 \t loss: 16.453 \t reward: 178.152\n",
      "epoch: 3517 \t loss: 6.084 \t reward: 138.800\n",
      "epoch: 3518 \t loss: 23.943 \t reward: 171.125\n",
      "epoch: 3519 \t loss: 1.640 \t reward: 116.725\n"
     ]
    },
    {
     "name": "stderr",
     "output_type": "stream",
     "text": [
      "100%|████████████████████████| 100/100 [01:43<00:00,  1.04s/it]\n"
     ]
    },
    {
     "name": "stdout",
     "output_type": "stream",
     "text": [
      "epoch: 3520 \t loss: 3.631 \t reward: 133.004\n",
      "epoch: 3521 \t loss: 7.860 \t reward: 98.340\n",
      "epoch: 3522 \t loss: 23.282 \t reward: 155.970\n",
      "epoch: 3523 \t loss: 2.166 \t reward: 138.723\n",
      "epoch: 3524 \t loss: 1.788 \t reward: 116.561\n",
      "epoch: 3525 \t loss: -5.206 \t reward: 96.520\n",
      "epoch: 3526 \t loss: 0.988 \t reward: 115.091\n",
      "epoch: 3527 \t loss: -0.149 \t reward: 82.778\n",
      "epoch: 3528 \t loss: 3.629 \t reward: 91.779\n",
      "epoch: 3529 \t loss: 29.894 \t reward: 164.589\n"
     ]
    },
    {
     "name": "stderr",
     "output_type": "stream",
     "text": [
      "100%|████████████████████████| 100/100 [01:31<00:00,  1.09it/s]\n"
     ]
    },
    {
     "name": "stdout",
     "output_type": "stream",
     "text": [
      "epoch: 3530 \t loss: -2.673 \t reward: 91.731\n",
      "epoch: 3531 \t loss: 13.326 \t reward: 120.263\n",
      "epoch: 3532 \t loss: 2.537 \t reward: 112.482\n",
      "epoch: 3533 \t loss: 5.855 \t reward: 126.087\n",
      "epoch: 3534 \t loss: 2.247 \t reward: 120.361\n",
      "epoch: 3535 \t loss: 5.092 \t reward: 124.431\n",
      "epoch: 3536 \t loss: 2.332 \t reward: 140.441\n",
      "epoch: 3537 \t loss: 15.743 \t reward: 145.112\n",
      "epoch: 3538 \t loss: 0.233 \t reward: 104.639\n",
      "epoch: 3539 \t loss: 38.651 \t reward: 151.108\n"
     ]
    },
    {
     "name": "stderr",
     "output_type": "stream",
     "text": [
      "100%|████████████████████████| 100/100 [01:33<00:00,  1.07it/s]\n"
     ]
    },
    {
     "name": "stdout",
     "output_type": "stream",
     "text": [
      "epoch: 3540 \t loss: 34.781 \t reward: 166.149\n",
      "epoch: 3541 \t loss: 16.201 \t reward: 127.909\n",
      "epoch: 3542 \t loss: 3.460 \t reward: 80.813\n",
      "epoch: 3543 \t loss: 51.837 \t reward: 181.448\n",
      "epoch: 3544 \t loss: 45.441 \t reward: 194.942\n",
      "epoch: 3545 \t loss: 6.408 \t reward: 117.917\n",
      "epoch: 3546 \t loss: 23.534 \t reward: 156.850\n",
      "epoch: 3547 \t loss: 7.286 \t reward: 147.769\n",
      "epoch: 3548 \t loss: 6.018 \t reward: 133.980\n",
      "epoch: 3549 \t loss: 20.952 \t reward: 120.194\n"
     ]
    },
    {
     "name": "stderr",
     "output_type": "stream",
     "text": [
      "100%|████████████████████████| 100/100 [01:39<00:00,  1.01it/s]\n"
     ]
    },
    {
     "name": "stdout",
     "output_type": "stream",
     "text": [
      "epoch: 3550 \t loss: 22.627 \t reward: 148.505\n",
      "epoch: 3551 \t loss: 44.241 \t reward: 193.868\n",
      "epoch: 3552 \t loss: 26.831 \t reward: 184.841\n",
      "epoch: 3553 \t loss: 29.883 \t reward: 111.495\n",
      "epoch: 3554 \t loss: 21.549 \t reward: 150.459\n",
      "epoch: 3555 \t loss: 19.159 \t reward: 136.559\n",
      "epoch: 3556 \t loss: 29.200 \t reward: 154.727\n",
      "epoch: 3557 \t loss: 18.930 \t reward: 162.178\n",
      "epoch: 3558 \t loss: 17.058 \t reward: 149.544\n",
      "epoch: 3559 \t loss: 28.643 \t reward: 174.421\n"
     ]
    },
    {
     "name": "stderr",
     "output_type": "stream",
     "text": [
      "100%|████████████████████████| 100/100 [01:21<00:00,  1.22it/s]\n"
     ]
    },
    {
     "name": "stdout",
     "output_type": "stream",
     "text": [
      "epoch: 3560 \t loss: 49.049 \t reward: 197.371\n",
      "epoch: 3561 \t loss: 33.412 \t reward: 164.311\n",
      "epoch: 3562 \t loss: 47.570 \t reward: 194.801\n",
      "epoch: 3563 \t loss: 12.380 \t reward: 121.992\n",
      "epoch: 3564 \t loss: 29.018 \t reward: 161.696\n",
      "epoch: 3565 \t loss: 48.735 \t reward: 211.863\n",
      "epoch: 3566 \t loss: 39.211 \t reward: 114.791\n",
      "epoch: 3567 \t loss: 4.848 \t reward: 118.853\n",
      "epoch: 3568 \t loss: 18.625 \t reward: 130.242\n",
      "epoch: 3569 \t loss: 73.643 \t reward: 236.416\n"
     ]
    },
    {
     "name": "stderr",
     "output_type": "stream",
     "text": [
      "100%|████████████████████████| 100/100 [01:22<00:00,  1.21it/s]\n"
     ]
    },
    {
     "name": "stdout",
     "output_type": "stream",
     "text": [
      "epoch: 3570 \t loss: 20.608 \t reward: 154.087\n",
      "epoch: 3571 \t loss: 24.489 \t reward: 161.117\n",
      "epoch: 3572 \t loss: 46.534 \t reward: 181.689\n",
      "epoch: 3573 \t loss: 43.271 \t reward: 174.143\n",
      "epoch: 3574 \t loss: 54.817 \t reward: 228.460\n",
      "epoch: 3575 \t loss: 73.207 \t reward: 215.454\n",
      "epoch: 3576 \t loss: 65.498 \t reward: 145.774\n",
      "epoch: 3577 \t loss: 16.594 \t reward: 151.002\n",
      "epoch: 3578 \t loss: 24.736 \t reward: 136.680\n",
      "epoch: 3579 \t loss: -3.323 \t reward: 40.332\n"
     ]
    },
    {
     "name": "stderr",
     "output_type": "stream",
     "text": [
      "100%|████████████████████████| 100/100 [01:25<00:00,  1.17it/s]\n"
     ]
    },
    {
     "name": "stdout",
     "output_type": "stream",
     "text": [
      "epoch: 3580 \t loss: 55.156 \t reward: 209.709\n",
      "epoch: 3581 \t loss: 46.728 \t reward: 152.113\n",
      "epoch: 3582 \t loss: 17.485 \t reward: 151.519\n",
      "epoch: 3583 \t loss: 54.359 \t reward: 199.073\n",
      "epoch: 3584 \t loss: 15.952 \t reward: 151.640\n",
      "epoch: 3585 \t loss: 1.175 \t reward: 112.874\n",
      "epoch: 3586 \t loss: 17.598 \t reward: 49.334\n",
      "epoch: 3587 \t loss: 37.848 \t reward: 164.837\n",
      "epoch: 3588 \t loss: 29.329 \t reward: 83.386\n",
      "epoch: 3589 \t loss: 42.312 \t reward: 221.989\n"
     ]
    },
    {
     "name": "stderr",
     "output_type": "stream",
     "text": [
      "100%|████████████████████████| 100/100 [01:08<00:00,  1.47it/s]\n"
     ]
    },
    {
     "name": "stdout",
     "output_type": "stream",
     "text": [
      "epoch: 3590 \t loss: 20.233 \t reward: 139.690\n",
      "epoch: 3591 \t loss: 83.608 \t reward: 247.618\n",
      "epoch: 3592 \t loss: 21.079 \t reward: 163.553\n",
      "epoch: 3593 \t loss: 28.534 \t reward: 198.699\n",
      "epoch: 3594 \t loss: 29.201 \t reward: 163.647\n",
      "epoch: 3595 \t loss: 48.781 \t reward: 165.884\n",
      "epoch: 3596 \t loss: 32.382 \t reward: 147.323\n",
      "epoch: 3597 \t loss: 12.315 \t reward: 135.042\n",
      "epoch: 3598 \t loss: 24.363 \t reward: 141.318\n",
      "epoch: 3599 \t loss: 52.647 \t reward: 194.497\n"
     ]
    },
    {
     "name": "stderr",
     "output_type": "stream",
     "text": [
      "100%|████████████████████████| 100/100 [01:12<00:00,  1.38it/s]\n"
     ]
    },
    {
     "name": "stdout",
     "output_type": "stream",
     "text": [
      "epoch: 3600 \t loss: 22.643 \t reward: 131.040\n",
      "epoch: 3601 \t loss: 65.180 \t reward: 211.242\n",
      "epoch: 3602 \t loss: 67.827 \t reward: 211.305\n",
      "epoch: 3603 \t loss: 47.246 \t reward: 174.128\n",
      "epoch: 3604 \t loss: 40.120 \t reward: 127.931\n",
      "epoch: 3605 \t loss: 37.172 \t reward: 171.008\n",
      "epoch: 3606 \t loss: 39.934 \t reward: 174.993\n",
      "epoch: 3607 \t loss: 47.343 \t reward: 171.943\n",
      "epoch: 3608 \t loss: 16.362 \t reward: 113.112\n",
      "epoch: 3609 \t loss: 44.027 \t reward: 187.735\n"
     ]
    },
    {
     "name": "stderr",
     "output_type": "stream",
     "text": [
      "100%|████████████████████████| 100/100 [01:04<00:00,  1.55it/s]\n"
     ]
    },
    {
     "name": "stdout",
     "output_type": "stream",
     "text": [
      "epoch: 3610 \t loss: 98.695 \t reward: 204.965\n",
      "epoch: 3611 \t loss: 2.981 \t reward: 99.649\n",
      "epoch: 3612 \t loss: 21.650 \t reward: 151.000\n",
      "epoch: 3613 \t loss: 69.744 \t reward: 123.395\n",
      "epoch: 3614 \t loss: 52.514 \t reward: 177.382\n",
      "epoch: 3615 \t loss: -1.580 \t reward: 100.044\n",
      "epoch: 3616 \t loss: 22.731 \t reward: 157.063\n",
      "epoch: 3617 \t loss: 3.036 \t reward: 94.168\n",
      "epoch: 3618 \t loss: 60.904 \t reward: 199.865\n",
      "epoch: 3619 \t loss: 15.208 \t reward: 120.933\n"
     ]
    },
    {
     "name": "stderr",
     "output_type": "stream",
     "text": [
      "100%|████████████████████████| 100/100 [01:27<00:00,  1.14it/s]\n"
     ]
    },
    {
     "name": "stdout",
     "output_type": "stream",
     "text": [
      "epoch: 3620 \t loss: 46.661 \t reward: 194.001\n",
      "epoch: 3621 \t loss: 48.625 \t reward: 173.323\n",
      "epoch: 3622 \t loss: 56.568 \t reward: 189.404\n",
      "epoch: 3623 \t loss: 63.563 \t reward: 209.112\n",
      "epoch: 3624 \t loss: 20.444 \t reward: 153.472\n",
      "epoch: 3625 \t loss: 41.913 \t reward: 169.605\n",
      "epoch: 3626 \t loss: 14.668 \t reward: 36.126\n",
      "epoch: 3627 \t loss: 53.262 \t reward: 189.152\n",
      "epoch: 3628 \t loss: 86.122 \t reward: 232.274\n",
      "epoch: 3629 \t loss: 47.943 \t reward: 175.606\n"
     ]
    },
    {
     "name": "stderr",
     "output_type": "stream",
     "text": [
      "100%|████████████████████████| 100/100 [01:23<00:00,  1.19it/s]\n"
     ]
    },
    {
     "name": "stdout",
     "output_type": "stream",
     "text": [
      "epoch: 3630 \t loss: 25.086 \t reward: 159.605\n",
      "epoch: 3631 \t loss: 28.653 \t reward: 170.400\n",
      "epoch: 3632 \t loss: 62.908 \t reward: 220.475\n",
      "epoch: 3633 \t loss: 51.829 \t reward: 195.124\n",
      "epoch: 3634 \t loss: 64.284 \t reward: 201.236\n",
      "epoch: 3635 \t loss: 17.722 \t reward: 153.338\n",
      "epoch: 3636 \t loss: 80.858 \t reward: 192.873\n",
      "epoch: 3637 \t loss: 58.077 \t reward: 203.062\n",
      "epoch: 3638 \t loss: 20.809 \t reward: 156.034\n",
      "epoch: 3639 \t loss: 52.770 \t reward: 203.527\n"
     ]
    },
    {
     "name": "stderr",
     "output_type": "stream",
     "text": [
      "100%|████████████████████████| 100/100 [01:17<00:00,  1.29it/s]\n"
     ]
    },
    {
     "name": "stdout",
     "output_type": "stream",
     "text": [
      "epoch: 3640 \t loss: 33.603 \t reward: 170.492\n",
      "epoch: 3641 \t loss: 21.458 \t reward: 151.343\n",
      "epoch: 3642 \t loss: 14.886 \t reward: 121.419\n",
      "epoch: 3643 \t loss: 16.120 \t reward: 117.456\n",
      "epoch: 3644 \t loss: 76.632 \t reward: 229.778\n",
      "epoch: 3645 \t loss: 18.699 \t reward: 146.706\n",
      "epoch: 3646 \t loss: 86.925 \t reward: 215.756\n",
      "epoch: 3647 \t loss: 75.542 \t reward: 170.246\n",
      "epoch: 3648 \t loss: 36.915 \t reward: 183.034\n",
      "epoch: 3649 \t loss: 41.211 \t reward: 178.817\n"
     ]
    },
    {
     "name": "stderr",
     "output_type": "stream",
     "text": [
      "100%|████████████████████████| 100/100 [01:09<00:00,  1.44it/s]\n"
     ]
    },
    {
     "name": "stdout",
     "output_type": "stream",
     "text": [
      "epoch: 3650 \t loss: 38.922 \t reward: 146.146\n",
      "epoch: 3651 \t loss: -3.014 \t reward: 63.452\n",
      "epoch: 3652 \t loss: 11.133 \t reward: 126.577\n",
      "epoch: 3653 \t loss: 72.012 \t reward: 224.385\n",
      "epoch: 3654 \t loss: 33.018 \t reward: 123.165\n",
      "epoch: 3655 \t loss: 23.049 \t reward: 124.520\n",
      "epoch: 3656 \t loss: 21.810 \t reward: 165.012\n",
      "epoch: 3657 \t loss: 39.534 \t reward: 152.461\n",
      "epoch: 3658 \t loss: 58.386 \t reward: 207.472\n",
      "epoch: 3659 \t loss: 17.183 \t reward: 108.845\n"
     ]
    },
    {
     "name": "stderr",
     "output_type": "stream",
     "text": [
      "100%|████████████████████████| 100/100 [01:14<00:00,  1.34it/s]\n"
     ]
    },
    {
     "name": "stdout",
     "output_type": "stream",
     "text": [
      "epoch: 3660 \t loss: 22.026 \t reward: 56.123\n",
      "epoch: 3661 \t loss: 63.090 \t reward: 196.809\n",
      "epoch: 3662 \t loss: 71.241 \t reward: 176.752\n",
      "epoch: 3663 \t loss: 27.818 \t reward: 179.531\n",
      "epoch: 3664 \t loss: 3.118 \t reward: 115.070\n",
      "epoch: 3665 \t loss: 52.600 \t reward: 188.460\n",
      "epoch: 3666 \t loss: 64.923 \t reward: 211.845\n",
      "epoch: 3667 \t loss: 8.824 \t reward: 102.612\n",
      "epoch: 3668 \t loss: 23.949 \t reward: 119.779\n",
      "epoch: 3669 \t loss: 15.878 \t reward: 144.763\n"
     ]
    },
    {
     "name": "stderr",
     "output_type": "stream",
     "text": [
      "100%|████████████████████████| 100/100 [01:16<00:00,  1.31it/s]\n"
     ]
    },
    {
     "name": "stdout",
     "output_type": "stream",
     "text": [
      "epoch: 3670 \t loss: 65.430 \t reward: 207.830\n",
      "epoch: 3671 \t loss: 38.570 \t reward: 173.309\n",
      "epoch: 3672 \t loss: 55.784 \t reward: 184.787\n",
      "epoch: 3673 \t loss: 23.413 \t reward: 160.127\n",
      "epoch: 3674 \t loss: 16.846 \t reward: 138.283\n",
      "epoch: 3675 \t loss: 90.864 \t reward: 219.887\n",
      "epoch: 3676 \t loss: 55.265 \t reward: 205.652\n",
      "epoch: 3677 \t loss: -0.472 \t reward: 80.324\n",
      "epoch: 3678 \t loss: 70.645 \t reward: 184.010\n",
      "epoch: 3679 \t loss: 58.482 \t reward: 189.060\n"
     ]
    },
    {
     "name": "stderr",
     "output_type": "stream",
     "text": [
      "100%|████████████████████████| 100/100 [01:08<00:00,  1.47it/s]\n"
     ]
    },
    {
     "name": "stdout",
     "output_type": "stream",
     "text": [
      "epoch: 3680 \t loss: 2.776 \t reward: 80.139\n",
      "epoch: 3681 \t loss: 34.745 \t reward: 126.023\n",
      "epoch: 3682 \t loss: 22.628 \t reward: 165.110\n",
      "epoch: 3683 \t loss: 28.642 \t reward: 132.792\n",
      "epoch: 3684 \t loss: 33.714 \t reward: 156.002\n",
      "epoch: 3685 \t loss: 40.125 \t reward: 198.180\n",
      "epoch: 3686 \t loss: 19.615 \t reward: 121.558\n",
      "epoch: 3687 \t loss: 56.489 \t reward: 195.405\n",
      "epoch: 3688 \t loss: 42.880 \t reward: 153.405\n",
      "epoch: 3689 \t loss: 49.071 \t reward: 196.811\n"
     ]
    },
    {
     "name": "stderr",
     "output_type": "stream",
     "text": [
      "100%|████████████████████████| 100/100 [01:16<00:00,  1.32it/s]\n"
     ]
    },
    {
     "name": "stdout",
     "output_type": "stream",
     "text": [
      "epoch: 3690 \t loss: 20.668 \t reward: 93.503\n",
      "epoch: 3691 \t loss: -2.809 \t reward: 102.805\n",
      "epoch: 3692 \t loss: 47.947 \t reward: 177.507\n",
      "epoch: 3693 \t loss: 1.170 \t reward: 104.535\n",
      "epoch: 3694 \t loss: 18.985 \t reward: 140.920\n",
      "epoch: 3695 \t loss: 46.763 \t reward: 168.688\n",
      "epoch: 3696 \t loss: 13.500 \t reward: 121.628\n",
      "epoch: 3697 \t loss: 25.062 \t reward: 152.998\n",
      "epoch: 3698 \t loss: 28.298 \t reward: 168.377\n",
      "epoch: 3699 \t loss: 61.369 \t reward: 209.112\n"
     ]
    },
    {
     "name": "stderr",
     "output_type": "stream",
     "text": [
      "100%|████████████████████████| 100/100 [01:10<00:00,  1.41it/s]\n"
     ]
    },
    {
     "name": "stdout",
     "output_type": "stream",
     "text": [
      "epoch: 3700 \t loss: 22.001 \t reward: 157.200\n",
      "epoch: 3701 \t loss: 86.264 \t reward: 230.286\n",
      "epoch: 3702 \t loss: 64.940 \t reward: 210.890\n",
      "epoch: 3703 \t loss: 63.105 \t reward: 213.323\n",
      "epoch: 3704 \t loss: 16.923 \t reward: 148.016\n",
      "epoch: 3705 \t loss: 28.756 \t reward: 148.250\n",
      "epoch: 3706 \t loss: 32.312 \t reward: 193.571\n",
      "epoch: 3707 \t loss: 44.968 \t reward: 188.293\n",
      "epoch: 3708 \t loss: 17.898 \t reward: 136.306\n",
      "epoch: 3709 \t loss: 34.878 \t reward: 184.004\n"
     ]
    },
    {
     "name": "stderr",
     "output_type": "stream",
     "text": [
      "100%|████████████████████████| 100/100 [01:07<00:00,  1.49it/s]\n"
     ]
    },
    {
     "name": "stdout",
     "output_type": "stream",
     "text": [
      "epoch: 3710 \t loss: 51.749 \t reward: 210.466\n",
      "epoch: 3711 \t loss: 70.884 \t reward: 204.837\n",
      "epoch: 3712 \t loss: 11.024 \t reward: 98.705\n",
      "epoch: 3713 \t loss: 86.803 \t reward: 239.600\n",
      "epoch: 3714 \t loss: 25.622 \t reward: 161.469\n",
      "epoch: 3715 \t loss: 29.089 \t reward: 176.424\n",
      "epoch: 3716 \t loss: 51.147 \t reward: 149.248\n",
      "epoch: 3717 \t loss: 23.570 \t reward: 99.140\n",
      "epoch: 3718 \t loss: 76.390 \t reward: 198.929\n",
      "epoch: 3719 \t loss: 23.189 \t reward: 151.473\n"
     ]
    },
    {
     "name": "stderr",
     "output_type": "stream",
     "text": [
      "100%|████████████████████████| 100/100 [00:55<00:00,  1.80it/s]\n"
     ]
    },
    {
     "name": "stdout",
     "output_type": "stream",
     "text": [
      "epoch: 3720 \t loss: 57.577 \t reward: 215.950\n",
      "epoch: 3721 \t loss: 11.607 \t reward: 121.180\n",
      "epoch: 3722 \t loss: 38.728 \t reward: 175.842\n",
      "epoch: 3723 \t loss: 19.984 \t reward: 166.648\n",
      "epoch: 3724 \t loss: 41.846 \t reward: 170.062\n",
      "epoch: 3725 \t loss: 24.945 \t reward: 157.840\n",
      "epoch: 3726 \t loss: 40.604 \t reward: 168.469\n",
      "epoch: 3727 \t loss: 26.353 \t reward: 150.071\n",
      "epoch: 3728 \t loss: 63.018 \t reward: 174.106\n",
      "epoch: 3729 \t loss: 5.829 \t reward: 113.809\n"
     ]
    },
    {
     "name": "stderr",
     "output_type": "stream",
     "text": [
      "100%|████████████████████████| 100/100 [00:53<00:00,  1.87it/s]\n"
     ]
    },
    {
     "name": "stdout",
     "output_type": "stream",
     "text": [
      "epoch: 3730 \t loss: 49.825 \t reward: 202.724\n",
      "epoch: 3731 \t loss: 43.698 \t reward: 187.309\n",
      "epoch: 3732 \t loss: 33.226 \t reward: 186.743\n",
      "epoch: 3733 \t loss: 1.939 \t reward: 71.785\n",
      "epoch: 3734 \t loss: 58.845 \t reward: 156.275\n",
      "epoch: 3735 \t loss: 16.106 \t reward: 148.437\n",
      "epoch: 3736 \t loss: 20.989 \t reward: 150.768\n",
      "epoch: 3737 \t loss: 44.961 \t reward: 180.055\n",
      "epoch: 3738 \t loss: 32.444 \t reward: 170.814\n",
      "epoch: 3739 \t loss: 44.871 \t reward: 162.503\n"
     ]
    },
    {
     "name": "stderr",
     "output_type": "stream",
     "text": [
      "100%|████████████████████████| 100/100 [01:01<00:00,  1.62it/s]\n"
     ]
    },
    {
     "name": "stdout",
     "output_type": "stream",
     "text": [
      "epoch: 3740 \t loss: 24.628 \t reward: 169.830\n",
      "epoch: 3741 \t loss: 69.676 \t reward: 259.987\n",
      "epoch: 3742 \t loss: 42.917 \t reward: 166.775\n",
      "epoch: 3743 \t loss: -0.381 \t reward: 113.025\n",
      "epoch: 3744 \t loss: 36.754 \t reward: 149.448\n",
      "epoch: 3745 \t loss: 19.939 \t reward: 167.027\n",
      "epoch: 3746 \t loss: 43.255 \t reward: 189.638\n",
      "epoch: 3747 \t loss: 39.799 \t reward: 172.717\n",
      "epoch: 3748 \t loss: 17.487 \t reward: 138.751\n",
      "epoch: 3749 \t loss: 80.013 \t reward: 239.978\n"
     ]
    },
    {
     "name": "stderr",
     "output_type": "stream",
     "text": [
      "100%|████████████████████████| 100/100 [01:01<00:00,  1.62it/s]\n"
     ]
    },
    {
     "name": "stdout",
     "output_type": "stream",
     "text": [
      "epoch: 3750 \t loss: 22.342 \t reward: 157.709\n",
      "epoch: 3751 \t loss: 26.558 \t reward: 176.985\n",
      "epoch: 3752 \t loss: 85.727 \t reward: 243.397\n",
      "epoch: 3753 \t loss: 33.324 \t reward: 129.081\n",
      "epoch: 3754 \t loss: 60.294 \t reward: 220.421\n",
      "epoch: 3755 \t loss: 82.118 \t reward: 235.051\n",
      "epoch: 3756 \t loss: 20.048 \t reward: 150.583\n",
      "epoch: 3757 \t loss: 40.736 \t reward: 150.676\n",
      "epoch: 3758 \t loss: 17.991 \t reward: 164.010\n",
      "epoch: 3759 \t loss: 4.844 \t reward: 111.273\n"
     ]
    },
    {
     "name": "stderr",
     "output_type": "stream",
     "text": [
      "100%|████████████████████████| 100/100 [01:31<00:00,  1.10it/s]\n"
     ]
    },
    {
     "name": "stdout",
     "output_type": "stream",
     "text": [
      "epoch: 3760 \t loss: 21.766 \t reward: 160.435\n",
      "epoch: 3761 \t loss: 17.471 \t reward: 138.581\n",
      "epoch: 3762 \t loss: 3.482 \t reward: 98.561\n",
      "epoch: 3763 \t loss: 8.933 \t reward: 100.354\n",
      "epoch: 3764 \t loss: 19.410 \t reward: 142.254\n",
      "epoch: 3765 \t loss: 15.192 \t reward: 173.325\n",
      "epoch: 3766 \t loss: 4.680 \t reward: 116.032\n",
      "epoch: 3767 \t loss: 9.198 \t reward: 139.935\n",
      "epoch: 3768 \t loss: 3.600 \t reward: 127.311\n",
      "epoch: 3769 \t loss: 1.759 \t reward: 51.837\n"
     ]
    },
    {
     "name": "stderr",
     "output_type": "stream",
     "text": [
      "100%|████████████████████████| 100/100 [01:42<00:00,  1.03s/it]\n"
     ]
    },
    {
     "name": "stdout",
     "output_type": "stream",
     "text": [
      "epoch: 3770 \t loss: 14.766 \t reward: 176.783\n",
      "epoch: 3771 \t loss: 2.538 \t reward: 138.697\n",
      "epoch: 3772 \t loss: 47.667 \t reward: 203.202\n",
      "epoch: 3773 \t loss: 27.240 \t reward: 142.815\n",
      "epoch: 3774 \t loss: 2.284 \t reward: 119.549\n",
      "epoch: 3775 \t loss: 18.395 \t reward: 180.987\n",
      "epoch: 3776 \t loss: 18.402 \t reward: 167.942\n",
      "epoch: 3777 \t loss: 16.271 \t reward: 172.759\n",
      "epoch: 3778 \t loss: 2.235 \t reward: 132.513\n",
      "epoch: 3779 \t loss: 4.804 \t reward: 106.475\n"
     ]
    },
    {
     "name": "stderr",
     "output_type": "stream",
     "text": [
      "100%|████████████████████████| 100/100 [01:55<00:00,  1.15s/it]\n"
     ]
    },
    {
     "name": "stdout",
     "output_type": "stream",
     "text": [
      "epoch: 3780 \t loss: 6.474 \t reward: 152.586\n",
      "epoch: 3781 \t loss: 1.921 \t reward: 129.758\n",
      "epoch: 3782 \t loss: 4.377 \t reward: 118.316\n",
      "epoch: 3783 \t loss: 5.938 \t reward: 128.408\n",
      "epoch: 3784 \t loss: 6.345 \t reward: 108.176\n",
      "epoch: 3785 \t loss: 3.058 \t reward: 143.264\n",
      "epoch: 3786 \t loss: 3.460 \t reward: 125.116\n",
      "epoch: 3787 \t loss: 6.999 \t reward: 130.847\n",
      "epoch: 3788 \t loss: 4.353 \t reward: 129.744\n",
      "epoch: 3789 \t loss: 4.477 \t reward: 110.654\n"
     ]
    },
    {
     "name": "stderr",
     "output_type": "stream",
     "text": [
      "100%|████████████████████████| 100/100 [01:54<00:00,  1.14s/it]\n"
     ]
    },
    {
     "name": "stdout",
     "output_type": "stream",
     "text": [
      "epoch: 3790 \t loss: 3.642 \t reward: 122.323\n",
      "epoch: 3791 \t loss: 2.781 \t reward: 154.719\n",
      "epoch: 3792 \t loss: 9.912 \t reward: 135.003\n",
      "epoch: 3793 \t loss: 1.566 \t reward: 50.909\n",
      "epoch: 3794 \t loss: 7.402 \t reward: 130.469\n",
      "epoch: 3795 \t loss: 2.279 \t reward: 116.714\n",
      "epoch: 3796 \t loss: -3.048 \t reward: 136.401\n",
      "epoch: 3797 \t loss: 17.304 \t reward: 158.478\n",
      "epoch: 3798 \t loss: 29.657 \t reward: 140.519\n",
      "epoch: 3799 \t loss: 7.904 \t reward: 148.806\n"
     ]
    },
    {
     "name": "stderr",
     "output_type": "stream",
     "text": [
      "100%|████████████████████████| 100/100 [02:01<00:00,  1.22s/it]\n"
     ]
    },
    {
     "name": "stdout",
     "output_type": "stream",
     "text": [
      "epoch: 3800 \t loss: 5.203 \t reward: 109.806\n",
      "epoch: 3801 \t loss: 2.299 \t reward: 119.253\n",
      "epoch: 3802 \t loss: 7.342 \t reward: 121.038\n",
      "epoch: 3803 \t loss: -1.850 \t reward: 120.755\n",
      "epoch: 3804 \t loss: 12.833 \t reward: 141.328\n",
      "epoch: 3805 \t loss: -1.396 \t reward: 97.034\n",
      "epoch: 3806 \t loss: 5.572 \t reward: 127.131\n",
      "epoch: 3807 \t loss: 7.685 \t reward: 142.072\n",
      "epoch: 3808 \t loss: 6.857 \t reward: 136.020\n",
      "epoch: 3809 \t loss: 5.226 \t reward: 109.949\n"
     ]
    },
    {
     "name": "stderr",
     "output_type": "stream",
     "text": [
      "100%|████████████████████████| 100/100 [01:58<00:00,  1.19s/it]\n"
     ]
    },
    {
     "name": "stdout",
     "output_type": "stream",
     "text": [
      "epoch: 3810 \t loss: 7.461 \t reward: 147.599\n",
      "epoch: 3811 \t loss: 15.629 \t reward: 164.744\n",
      "epoch: 3812 \t loss: 5.214 \t reward: 126.226\n",
      "epoch: 3813 \t loss: 5.243 \t reward: 116.983\n",
      "epoch: 3814 \t loss: 10.718 \t reward: 132.242\n",
      "epoch: 3815 \t loss: 6.671 \t reward: 107.877\n",
      "epoch: 3816 \t loss: 7.900 \t reward: 143.300\n",
      "epoch: 3817 \t loss: 4.924 \t reward: 137.597\n",
      "epoch: 3818 \t loss: 13.198 \t reward: 147.155\n",
      "epoch: 3819 \t loss: 4.384 \t reward: 138.939\n"
     ]
    },
    {
     "name": "stderr",
     "output_type": "stream",
     "text": [
      "100%|████████████████████████| 100/100 [02:04<00:00,  1.25s/it]\n"
     ]
    },
    {
     "name": "stdout",
     "output_type": "stream",
     "text": [
      "epoch: 3820 \t loss: 4.085 \t reward: 118.903\n",
      "epoch: 3821 \t loss: 5.612 \t reward: 109.001\n",
      "epoch: 3822 \t loss: 6.025 \t reward: 129.302\n",
      "epoch: 3823 \t loss: 9.074 \t reward: 139.768\n",
      "epoch: 3824 \t loss: 2.566 \t reward: 143.098\n",
      "epoch: 3825 \t loss: 6.072 \t reward: 119.411\n",
      "epoch: 3826 \t loss: 8.145 \t reward: 141.909\n",
      "epoch: 3827 \t loss: -1.984 \t reward: 64.401\n",
      "epoch: 3828 \t loss: 6.669 \t reward: 110.165\n",
      "epoch: 3829 \t loss: 6.703 \t reward: 120.124\n"
     ]
    },
    {
     "name": "stderr",
     "output_type": "stream",
     "text": [
      "100%|████████████████████████| 100/100 [02:01<00:00,  1.21s/it]\n"
     ]
    },
    {
     "name": "stdout",
     "output_type": "stream",
     "text": [
      "epoch: 3830 \t loss: 6.920 \t reward: 127.596\n",
      "epoch: 3831 \t loss: 8.250 \t reward: 120.370\n",
      "epoch: 3832 \t loss: 7.690 \t reward: 132.372\n",
      "epoch: 3833 \t loss: 9.000 \t reward: 119.713\n",
      "epoch: 3834 \t loss: 7.488 \t reward: 114.263\n",
      "epoch: 3835 \t loss: 5.961 \t reward: 120.708\n",
      "epoch: 3836 \t loss: -7.049 \t reward: 10.876\n",
      "epoch: 3837 \t loss: -17.543 \t reward: -17.157\n",
      "epoch: 3838 \t loss: 7.062 \t reward: 141.467\n",
      "epoch: 3839 \t loss: 12.568 \t reward: 128.040\n"
     ]
    },
    {
     "name": "stderr",
     "output_type": "stream",
     "text": [
      "100%|████████████████████████| 100/100 [02:15<00:00,  1.36s/it]\n"
     ]
    },
    {
     "name": "stdout",
     "output_type": "stream",
     "text": [
      "epoch: 3840 \t loss: 1.347 \t reward: 66.558\n",
      "epoch: 3841 \t loss: 12.581 \t reward: 128.915\n",
      "epoch: 3842 \t loss: 1.527 \t reward: 107.934\n",
      "epoch: 3843 \t loss: 8.181 \t reward: 110.078\n",
      "epoch: 3844 \t loss: 0.910 \t reward: 55.827\n",
      "epoch: 3845 \t loss: 6.830 \t reward: 104.170\n",
      "epoch: 3846 \t loss: 5.131 \t reward: 90.691\n",
      "epoch: 3847 \t loss: 7.105 \t reward: 125.743\n",
      "epoch: 3848 \t loss: -3.198 \t reward: -23.143\n",
      "epoch: 3849 \t loss: 2.025 \t reward: 27.740\n"
     ]
    },
    {
     "name": "stderr",
     "output_type": "stream",
     "text": [
      "100%|████████████████████████| 100/100 [02:11<00:00,  1.32s/it]\n"
     ]
    },
    {
     "name": "stdout",
     "output_type": "stream",
     "text": [
      "epoch: 3850 \t loss: 11.599 \t reward: 116.587\n",
      "epoch: 3851 \t loss: 8.007 \t reward: 108.226\n",
      "epoch: 3852 \t loss: 5.591 \t reward: 108.418\n",
      "epoch: 3853 \t loss: 7.403 \t reward: 110.424\n",
      "epoch: 3854 \t loss: 6.659 \t reward: 124.293\n",
      "epoch: 3855 \t loss: 9.702 \t reward: 144.279\n",
      "epoch: 3856 \t loss: 6.731 \t reward: 91.123\n",
      "epoch: 3857 \t loss: 6.740 \t reward: 110.521\n",
      "epoch: 3858 \t loss: 11.005 \t reward: 126.762\n",
      "epoch: 3859 \t loss: 8.018 \t reward: 101.458\n"
     ]
    },
    {
     "name": "stderr",
     "output_type": "stream",
     "text": [
      "100%|█████████████████████| 100/100 [8:41:34<00:00, 312.95s/it]\n"
     ]
    },
    {
     "name": "stdout",
     "output_type": "stream",
     "text": [
      "epoch: 3860 \t loss: 14.211 \t reward: 140.647\n",
      "epoch: 3861 \t loss: 7.197 \t reward: 128.292\n",
      "epoch: 3862 \t loss: 13.469 \t reward: 145.234\n",
      "epoch: 3863 \t loss: 10.307 \t reward: 128.480\n",
      "epoch: 3864 \t loss: 8.758 \t reward: 118.163\n",
      "epoch: 3865 \t loss: 13.336 \t reward: 147.487\n",
      "epoch: 3866 \t loss: 19.551 \t reward: 135.694\n",
      "epoch: 3867 \t loss: 7.893 \t reward: 102.863\n",
      "epoch: 3868 \t loss: 9.009 \t reward: 117.004\n",
      "epoch: 3869 \t loss: 10.105 \t reward: 129.604\n"
     ]
    },
    {
     "name": "stderr",
     "output_type": "stream",
     "text": [
      "100%|████████████████████████| 100/100 [02:21<00:00,  1.41s/it]\n"
     ]
    },
    {
     "name": "stdout",
     "output_type": "stream",
     "text": [
      "epoch: 3870 \t loss: 11.701 \t reward: 116.027\n",
      "epoch: 3871 \t loss: 10.527 \t reward: 105.439\n",
      "epoch: 3872 \t loss: 20.056 \t reward: 162.282\n",
      "epoch: 3873 \t loss: 8.034 \t reward: 130.823\n",
      "epoch: 3874 \t loss: 9.950 \t reward: 114.870\n",
      "epoch: 3875 \t loss: 5.376 \t reward: 116.643\n",
      "epoch: 3876 \t loss: 6.257 \t reward: 126.465\n",
      "epoch: 3877 \t loss: 1.823 \t reward: 123.188\n",
      "epoch: 3878 \t loss: 11.013 \t reward: 98.176\n",
      "epoch: 3879 \t loss: 12.364 \t reward: 127.784\n"
     ]
    },
    {
     "name": "stderr",
     "output_type": "stream",
     "text": [
      "100%|████████████████████████| 100/100 [02:13<00:00,  1.33s/it]\n"
     ]
    },
    {
     "name": "stdout",
     "output_type": "stream",
     "text": [
      "epoch: 3880 \t loss: 14.045 \t reward: 149.104\n",
      "epoch: 3881 \t loss: 10.244 \t reward: 116.371\n",
      "epoch: 3882 \t loss: 9.582 \t reward: 116.834\n",
      "epoch: 3883 \t loss: 13.215 \t reward: 152.572\n",
      "epoch: 3884 \t loss: 6.855 \t reward: 143.645\n",
      "epoch: 3885 \t loss: 8.644 \t reward: 124.747\n",
      "epoch: 3886 \t loss: 10.441 \t reward: 118.561\n",
      "epoch: 3887 \t loss: 9.460 \t reward: 124.707\n",
      "epoch: 3888 \t loss: 7.727 \t reward: 92.057\n",
      "epoch: 3889 \t loss: 13.679 \t reward: 122.539\n"
     ]
    },
    {
     "name": "stderr",
     "output_type": "stream",
     "text": [
      "100%|████████████████████████| 100/100 [02:13<00:00,  1.33s/it]\n"
     ]
    },
    {
     "name": "stdout",
     "output_type": "stream",
     "text": [
      "epoch: 3890 \t loss: 2.443 \t reward: 90.474\n",
      "epoch: 3891 \t loss: 11.543 \t reward: 138.048\n",
      "epoch: 3892 \t loss: 10.529 \t reward: 134.009\n",
      "epoch: 3893 \t loss: 8.462 \t reward: 108.143\n",
      "epoch: 3894 \t loss: 8.902 \t reward: 138.122\n",
      "epoch: 3895 \t loss: 10.968 \t reward: 128.517\n",
      "epoch: 3896 \t loss: 7.796 \t reward: 136.630\n",
      "epoch: 3897 \t loss: 7.989 \t reward: 139.106\n",
      "epoch: 3898 \t loss: -0.188 \t reward: 17.723\n",
      "epoch: 3899 \t loss: 8.031 \t reward: 124.389\n"
     ]
    },
    {
     "name": "stderr",
     "output_type": "stream",
     "text": [
      "100%|████████████████████████| 100/100 [02:34<00:00,  1.55s/it]\n"
     ]
    },
    {
     "name": "stdout",
     "output_type": "stream",
     "text": [
      "epoch: 3900 \t loss: -5.051 \t reward: 18.927\n",
      "epoch: 3901 \t loss: -3.146 \t reward: -26.697\n",
      "epoch: 3902 \t loss: 0.626 \t reward: 15.755\n",
      "epoch: 3903 \t loss: 11.441 \t reward: 130.308\n",
      "epoch: 3904 \t loss: 1.293 \t reward: 100.864\n",
      "epoch: 3905 \t loss: 3.074 \t reward: 113.754\n",
      "epoch: 3906 \t loss: 7.641 \t reward: 133.223\n",
      "epoch: 3907 \t loss: -2.448 \t reward: 28.292\n",
      "epoch: 3908 \t loss: 2.074 \t reward: 99.843\n",
      "epoch: 3909 \t loss: -0.328 \t reward: 54.033\n"
     ]
    },
    {
     "name": "stderr",
     "output_type": "stream",
     "text": [
      "100%|██████████████████████| 100/100 [1:04:35<00:00, 38.75s/it]\n"
     ]
    },
    {
     "name": "stdout",
     "output_type": "stream",
     "text": [
      "epoch: 3910 \t loss: 19.124 \t reward: 138.358\n",
      "epoch: 3911 \t loss: 9.797 \t reward: 141.090\n",
      "epoch: 3912 \t loss: 8.373 \t reward: 136.155\n",
      "epoch: 3913 \t loss: 73.130 \t reward: 237.267\n",
      "epoch: 3914 \t loss: 8.862 \t reward: 136.849\n",
      "epoch: 3915 \t loss: 1.820 \t reward: 37.835\n",
      "epoch: 3916 \t loss: 7.521 \t reward: 128.432\n",
      "epoch: 3917 \t loss: 0.592 \t reward: 53.400\n",
      "epoch: 3918 \t loss: -0.287 \t reward: 44.861\n",
      "epoch: 3919 \t loss: 12.075 \t reward: 147.648\n"
     ]
    },
    {
     "name": "stderr",
     "output_type": "stream",
     "text": [
      "100%|████████████████████████| 100/100 [02:13<00:00,  1.33s/it]\n"
     ]
    },
    {
     "name": "stdout",
     "output_type": "stream",
     "text": [
      "epoch: 3920 \t loss: 13.471 \t reward: 127.097\n",
      "epoch: 3921 \t loss: 9.342 \t reward: 144.924\n",
      "epoch: 3922 \t loss: 11.162 \t reward: 143.790\n",
      "epoch: 3923 \t loss: 9.743 \t reward: 122.710\n",
      "epoch: 3924 \t loss: 6.294 \t reward: 30.329\n",
      "epoch: 3925 \t loss: 11.399 \t reward: 128.987\n",
      "epoch: 3926 \t loss: 10.390 \t reward: 140.143\n",
      "epoch: 3927 \t loss: 5.990 \t reward: 131.708\n",
      "epoch: 3928 \t loss: 7.970 \t reward: 127.116\n",
      "epoch: 3929 \t loss: 10.737 \t reward: 112.927\n"
     ]
    },
    {
     "name": "stderr",
     "output_type": "stream",
     "text": [
      "100%|████████████████████████| 100/100 [31:39<00:00, 18.99s/it]\n"
     ]
    },
    {
     "name": "stdout",
     "output_type": "stream",
     "text": [
      "epoch: 3930 \t loss: 6.619 \t reward: 111.842\n",
      "epoch: 3931 \t loss: 7.642 \t reward: 150.521\n",
      "epoch: 3932 \t loss: 0.397 \t reward: 20.060\n",
      "epoch: 3933 \t loss: 6.346 \t reward: 115.496\n",
      "epoch: 3934 \t loss: 8.291 \t reward: 136.082\n",
      "epoch: 3935 \t loss: 8.429 \t reward: 106.117\n",
      "epoch: 3936 \t loss: 10.119 \t reward: 130.193\n",
      "epoch: 3937 \t loss: 10.464 \t reward: 116.428\n",
      "epoch: 3938 \t loss: 7.067 \t reward: 120.592\n",
      "epoch: 3939 \t loss: 9.168 \t reward: 117.875\n"
     ]
    },
    {
     "name": "stderr",
     "output_type": "stream",
     "text": [
      "100%|████████████████████████| 100/100 [03:29<00:00,  2.09s/it]\n"
     ]
    },
    {
     "name": "stdout",
     "output_type": "stream",
     "text": [
      "epoch: 3940 \t loss: 9.828 \t reward: 126.989\n",
      "epoch: 3941 \t loss: 8.180 \t reward: 121.646\n",
      "epoch: 3942 \t loss: 11.047 \t reward: 130.584\n",
      "epoch: 3943 \t loss: 10.961 \t reward: 150.387\n",
      "epoch: 3944 \t loss: 6.515 \t reward: 124.051\n",
      "epoch: 3945 \t loss: 10.940 \t reward: 130.660\n",
      "epoch: 3946 \t loss: 9.643 \t reward: 127.435\n"
     ]
    },
    {
     "ename": "KeyboardInterrupt",
     "evalue": "",
     "output_type": "error",
     "traceback": [
      "\u001b[0;31m---------------------------------------------------------------------------\u001b[0m",
      "\u001b[0;31mKeyboardInterrupt\u001b[0m                         Traceback (most recent call last)",
      "Input \u001b[0;32mIn [15]\u001b[0m, in \u001b[0;36m<cell line: 1>\u001b[0;34m()\u001b[0m\n\u001b[0;32m----> 1\u001b[0m \u001b[43magent\u001b[49m\u001b[38;5;241;43m.\u001b[39;49m\u001b[43mtrain\u001b[49m\u001b[43m(\u001b[49m\n\u001b[1;32m      2\u001b[0m \u001b[43m    \u001b[49m\u001b[43mn_policy_updates\u001b[49m\u001b[38;5;241;43m=\u001b[39;49m\u001b[38;5;241;43m4000\u001b[39;49m\u001b[43m,\u001b[49m\u001b[43m \u001b[49m\u001b[38;5;66;43;03m#4000,\u001b[39;49;00m\n\u001b[1;32m      3\u001b[0m \u001b[43m    \u001b[49m\u001b[43mbatch_size\u001b[49m\u001b[38;5;241;43m=\u001b[39;49m\u001b[38;5;241;43m2000\u001b[39;49m\u001b[43m,\u001b[49m\n\u001b[1;32m      4\u001b[0m \u001b[43m    \u001b[49m\u001b[43mlogger\u001b[49m\u001b[38;5;241;43m=\u001b[39;49m\u001b[43mlogger\u001b[49m\u001b[43m,\u001b[49m\n\u001b[1;32m      5\u001b[0m \u001b[43m    \u001b[49m\u001b[43mmodel_path\u001b[49m\u001b[38;5;241;43m=\u001b[39;49m\u001b[43mmodel_path\u001b[49m\u001b[43m,\u001b[49m\n\u001b[1;32m      6\u001b[0m \u001b[43m)\u001b[49m\n",
      "File \u001b[0;32m~/src/online-courses/hands-on-rl/04_lunar_lander/src/vpg_agent.py:98\u001b[0m, in \u001b[0;36mVPGAgent.train\u001b[0;34m(self, n_policy_updates, batch_size, logger, model_path, seed, freq_eval_in_epochs)\u001b[0m\n\u001b[1;32m     93\u001b[0m set_seed(\u001b[38;5;28mself\u001b[39m\u001b[38;5;241m.\u001b[39menv, seed)\n\u001b[1;32m     95\u001b[0m \u001b[38;5;28;01mfor\u001b[39;00m i \u001b[38;5;129;01min\u001b[39;00m \u001b[38;5;28mrange\u001b[39m(n_policy_updates):\n\u001b[1;32m     96\u001b[0m \n\u001b[1;32m     97\u001b[0m     \u001b[38;5;66;03m# use current policy to collect trajectories\u001b[39;00m\n\u001b[0;32m---> 98\u001b[0m     states, actions, weights, rewards \u001b[38;5;241m=\u001b[39m \u001b[38;5;28;43mself\u001b[39;49m\u001b[38;5;241;43m.\u001b[39;49m\u001b[43m_collect_trajectories\u001b[49m\u001b[43m(\u001b[49m\u001b[43mn_samples\u001b[49m\u001b[38;5;241;43m=\u001b[39;49m\u001b[43mbatch_size\u001b[49m\u001b[43m)\u001b[49m\n\u001b[1;32m    100\u001b[0m     \u001b[38;5;66;03m# one step of gradient ascent to update policy parameters\u001b[39;00m\n\u001b[1;32m    101\u001b[0m     loss \u001b[38;5;241m=\u001b[39m \u001b[38;5;28mself\u001b[39m\u001b[38;5;241m.\u001b[39m_update_parameters(states, actions, weights)\n",
      "File \u001b[0;32m~/src/online-courses/hands-on-rl/04_lunar_lander/src/vpg_agent.py:179\u001b[0m, in \u001b[0;36mVPGAgent._collect_trajectories\u001b[0;34m(self, n_samples)\u001b[0m\n\u001b[1;32m    175\u001b[0m batch_obs\u001b[38;5;241m.\u001b[39mappend(obs\u001b[38;5;241m.\u001b[39mcopy())\n\u001b[1;32m    177\u001b[0m \u001b[38;5;66;03m# act in the environment\u001b[39;00m\n\u001b[1;32m    178\u001b[0m \u001b[38;5;66;03m# act = get_action(torch.as_tensor(obs, dtype=torch.float32))\u001b[39;00m\n\u001b[0;32m--> 179\u001b[0m action \u001b[38;5;241m=\u001b[39m \u001b[38;5;28;43mself\u001b[39;49m\u001b[38;5;241;43m.\u001b[39;49m\u001b[43mact\u001b[49m\u001b[43m(\u001b[49m\u001b[43mtorch\u001b[49m\u001b[38;5;241;43m.\u001b[39;49m\u001b[43mas_tensor\u001b[49m\u001b[43m(\u001b[49m\u001b[43mobs\u001b[49m\u001b[43m,\u001b[49m\u001b[43m \u001b[49m\u001b[43mdtype\u001b[49m\u001b[38;5;241;43m=\u001b[39;49m\u001b[43mtorch\u001b[49m\u001b[38;5;241;43m.\u001b[39;49m\u001b[43mfloat32\u001b[49m\u001b[43m)\u001b[49m\u001b[43m)\u001b[49m\n\u001b[1;32m    180\u001b[0m obs, rew, done, _ \u001b[38;5;241m=\u001b[39m \u001b[38;5;28mself\u001b[39m\u001b[38;5;241m.\u001b[39menv\u001b[38;5;241m.\u001b[39mstep(action)\n\u001b[1;32m    182\u001b[0m \u001b[38;5;66;03m# save action, reward\u001b[39;00m\n",
      "File \u001b[0;32m~/src/online-courses/hands-on-rl/04_lunar_lander/src/vpg_agent.py:74\u001b[0m, in \u001b[0;36mVPGAgent.act\u001b[0;34m(self, obs)\u001b[0m\n\u001b[1;32m     70\u001b[0m \u001b[38;5;28;01mdef\u001b[39;00m \u001b[38;5;21mact\u001b[39m(\u001b[38;5;28mself\u001b[39m, obs: torch\u001b[38;5;241m.\u001b[39mTensor):\n\u001b[1;32m     71\u001b[0m     \u001b[38;5;124;03m\"\"\"\u001b[39;00m\n\u001b[1;32m     72\u001b[0m \u001b[38;5;124;03m    Action selection function (outputs int actions, sampled from policy)\u001b[39;00m\n\u001b[1;32m     73\u001b[0m \u001b[38;5;124;03m    \"\"\"\u001b[39;00m\n\u001b[0;32m---> 74\u001b[0m     \u001b[38;5;28;01mreturn\u001b[39;00m \u001b[38;5;28;43mself\u001b[39;49m\u001b[38;5;241;43m.\u001b[39;49m\u001b[43m_get_policy\u001b[49m\u001b[43m(\u001b[49m\u001b[43mobs\u001b[49m\u001b[43m)\u001b[49m\u001b[38;5;241m.\u001b[39msample()\u001b[38;5;241m.\u001b[39mitem()\n",
      "File \u001b[0;32m~/src/online-courses/hands-on-rl/04_lunar_lander/src/vpg_agent.py:239\u001b[0m, in \u001b[0;36mVPGAgent._get_policy\u001b[0;34m(self, obs)\u001b[0m\n\u001b[1;32m    235\u001b[0m \u001b[38;5;28;01mdef\u001b[39;00m \u001b[38;5;21m_get_policy\u001b[39m(\u001b[38;5;28mself\u001b[39m, obs):\n\u001b[1;32m    236\u001b[0m     \u001b[38;5;124;03m\"\"\"\u001b[39;00m\n\u001b[1;32m    237\u001b[0m \u001b[38;5;124;03m    Get action distribution given the current policy\u001b[39;00m\n\u001b[1;32m    238\u001b[0m \u001b[38;5;124;03m    \"\"\"\u001b[39;00m\n\u001b[0;32m--> 239\u001b[0m     logits \u001b[38;5;241m=\u001b[39m \u001b[38;5;28;43mself\u001b[39;49m\u001b[38;5;241;43m.\u001b[39;49m\u001b[43mpolicy_net\u001b[49m\u001b[43m(\u001b[49m\u001b[43mobs\u001b[49m\u001b[43m)\u001b[49m\n\u001b[1;32m    240\u001b[0m     \u001b[38;5;28;01mreturn\u001b[39;00m Categorical(logits\u001b[38;5;241m=\u001b[39mlogits)\n",
      "File \u001b[0;32m~/src/online-courses/hands-on-rl/04_lunar_lander/.venv/lib/python3.8/site-packages/torch/nn/modules/module.py:1110\u001b[0m, in \u001b[0;36mModule._call_impl\u001b[0;34m(self, *input, **kwargs)\u001b[0m\n\u001b[1;32m   1106\u001b[0m \u001b[38;5;66;03m# If we don't have any hooks, we want to skip the rest of the logic in\u001b[39;00m\n\u001b[1;32m   1107\u001b[0m \u001b[38;5;66;03m# this function, and just call forward.\u001b[39;00m\n\u001b[1;32m   1108\u001b[0m \u001b[38;5;28;01mif\u001b[39;00m \u001b[38;5;129;01mnot\u001b[39;00m (\u001b[38;5;28mself\u001b[39m\u001b[38;5;241m.\u001b[39m_backward_hooks \u001b[38;5;129;01mor\u001b[39;00m \u001b[38;5;28mself\u001b[39m\u001b[38;5;241m.\u001b[39m_forward_hooks \u001b[38;5;129;01mor\u001b[39;00m \u001b[38;5;28mself\u001b[39m\u001b[38;5;241m.\u001b[39m_forward_pre_hooks \u001b[38;5;129;01mor\u001b[39;00m _global_backward_hooks\n\u001b[1;32m   1109\u001b[0m         \u001b[38;5;129;01mor\u001b[39;00m _global_forward_hooks \u001b[38;5;129;01mor\u001b[39;00m _global_forward_pre_hooks):\n\u001b[0;32m-> 1110\u001b[0m     \u001b[38;5;28;01mreturn\u001b[39;00m \u001b[43mforward_call\u001b[49m\u001b[43m(\u001b[49m\u001b[38;5;241;43m*\u001b[39;49m\u001b[38;5;28;43minput\u001b[39;49m\u001b[43m,\u001b[49m\u001b[43m \u001b[49m\u001b[38;5;241;43m*\u001b[39;49m\u001b[38;5;241;43m*\u001b[39;49m\u001b[43mkwargs\u001b[49m\u001b[43m)\u001b[49m\n\u001b[1;32m   1111\u001b[0m \u001b[38;5;66;03m# Do not call functions when jit is used\u001b[39;00m\n\u001b[1;32m   1112\u001b[0m full_backward_hooks, non_full_backward_hooks \u001b[38;5;241m=\u001b[39m [], []\n",
      "File \u001b[0;32m~/src/online-courses/hands-on-rl/04_lunar_lander/.venv/lib/python3.8/site-packages/torch/nn/modules/container.py:141\u001b[0m, in \u001b[0;36mSequential.forward\u001b[0;34m(self, input)\u001b[0m\n\u001b[1;32m    139\u001b[0m \u001b[38;5;28;01mdef\u001b[39;00m \u001b[38;5;21mforward\u001b[39m(\u001b[38;5;28mself\u001b[39m, \u001b[38;5;28minput\u001b[39m):\n\u001b[1;32m    140\u001b[0m     \u001b[38;5;28;01mfor\u001b[39;00m module \u001b[38;5;129;01min\u001b[39;00m \u001b[38;5;28mself\u001b[39m:\n\u001b[0;32m--> 141\u001b[0m         \u001b[38;5;28minput\u001b[39m \u001b[38;5;241m=\u001b[39m \u001b[43mmodule\u001b[49m\u001b[43m(\u001b[49m\u001b[38;5;28;43minput\u001b[39;49m\u001b[43m)\u001b[49m\n\u001b[1;32m    142\u001b[0m     \u001b[38;5;28;01mreturn\u001b[39;00m \u001b[38;5;28minput\u001b[39m\n",
      "File \u001b[0;32m~/src/online-courses/hands-on-rl/04_lunar_lander/.venv/lib/python3.8/site-packages/torch/nn/modules/module.py:1110\u001b[0m, in \u001b[0;36mModule._call_impl\u001b[0;34m(self, *input, **kwargs)\u001b[0m\n\u001b[1;32m   1106\u001b[0m \u001b[38;5;66;03m# If we don't have any hooks, we want to skip the rest of the logic in\u001b[39;00m\n\u001b[1;32m   1107\u001b[0m \u001b[38;5;66;03m# this function, and just call forward.\u001b[39;00m\n\u001b[1;32m   1108\u001b[0m \u001b[38;5;28;01mif\u001b[39;00m \u001b[38;5;129;01mnot\u001b[39;00m (\u001b[38;5;28mself\u001b[39m\u001b[38;5;241m.\u001b[39m_backward_hooks \u001b[38;5;129;01mor\u001b[39;00m \u001b[38;5;28mself\u001b[39m\u001b[38;5;241m.\u001b[39m_forward_hooks \u001b[38;5;129;01mor\u001b[39;00m \u001b[38;5;28mself\u001b[39m\u001b[38;5;241m.\u001b[39m_forward_pre_hooks \u001b[38;5;129;01mor\u001b[39;00m _global_backward_hooks\n\u001b[1;32m   1109\u001b[0m         \u001b[38;5;129;01mor\u001b[39;00m _global_forward_hooks \u001b[38;5;129;01mor\u001b[39;00m _global_forward_pre_hooks):\n\u001b[0;32m-> 1110\u001b[0m     \u001b[38;5;28;01mreturn\u001b[39;00m \u001b[43mforward_call\u001b[49m\u001b[43m(\u001b[49m\u001b[38;5;241;43m*\u001b[39;49m\u001b[38;5;28;43minput\u001b[39;49m\u001b[43m,\u001b[49m\u001b[43m \u001b[49m\u001b[38;5;241;43m*\u001b[39;49m\u001b[38;5;241;43m*\u001b[39;49m\u001b[43mkwargs\u001b[49m\u001b[43m)\u001b[49m\n\u001b[1;32m   1111\u001b[0m \u001b[38;5;66;03m# Do not call functions when jit is used\u001b[39;00m\n\u001b[1;32m   1112\u001b[0m full_backward_hooks, non_full_backward_hooks \u001b[38;5;241m=\u001b[39m [], []\n",
      "File \u001b[0;32m~/src/online-courses/hands-on-rl/04_lunar_lander/.venv/lib/python3.8/site-packages/torch/nn/modules/linear.py:103\u001b[0m, in \u001b[0;36mLinear.forward\u001b[0;34m(self, input)\u001b[0m\n\u001b[1;32m    102\u001b[0m \u001b[38;5;28;01mdef\u001b[39;00m \u001b[38;5;21mforward\u001b[39m(\u001b[38;5;28mself\u001b[39m, \u001b[38;5;28minput\u001b[39m: Tensor) \u001b[38;5;241m-\u001b[39m\u001b[38;5;241m>\u001b[39m Tensor:\n\u001b[0;32m--> 103\u001b[0m     \u001b[38;5;28;01mreturn\u001b[39;00m \u001b[43mF\u001b[49m\u001b[38;5;241;43m.\u001b[39;49m\u001b[43mlinear\u001b[49m\u001b[43m(\u001b[49m\u001b[38;5;28;43minput\u001b[39;49m\u001b[43m,\u001b[49m\u001b[43m \u001b[49m\u001b[38;5;28;43mself\u001b[39;49m\u001b[38;5;241;43m.\u001b[39;49m\u001b[43mweight\u001b[49m\u001b[43m,\u001b[49m\u001b[43m \u001b[49m\u001b[38;5;28;43mself\u001b[39;49m\u001b[38;5;241;43m.\u001b[39;49m\u001b[43mbias\u001b[49m\u001b[43m)\u001b[49m\n",
      "\u001b[0;31mKeyboardInterrupt\u001b[0m: "
     ]
    }
   ],
   "source": [
    "agent.train(\n",
    "    n_policy_updates=5000,\n",
    "    batch_size=256,\n",
    "    logger=logger,\n",
    "    model_path=model_path,\n",
    ")"
   ]
  },
  {
   "cell_type": "markdown",
   "id": "1ddadefa",
   "metadata": {},
   "source": [
    "## Evaluate the agent ⏱️"
   ]
  },
  {
   "cell_type": "code",
   "execution_count": 16,
   "id": "17cfcaaf",
   "metadata": {},
   "outputs": [
    {
     "name": "stderr",
     "output_type": "stream",
     "text": [
      "100%|████████████████████████| 100/100 [06:36<00:00,  3.96s/it]\n"
     ]
    }
   ],
   "source": [
    "rewards, success = agent.evaluate(n_episodes=100)"
   ]
  },
  {
   "cell_type": "markdown",
   "id": "d34f870c",
   "metadata": {},
   "source": [
    "### Average reward"
   ]
  },
  {
   "cell_type": "code",
   "execution_count": 17,
   "id": "7b05acf0",
   "metadata": {},
   "outputs": [
    {
     "name": "stdout",
     "output_type": "stream",
     "text": [
      "Reward average 133.08, std 46.63\n",
      "Succes rate = 35.00%\n"
     ]
    }
   ],
   "source": [
    "import numpy as np\n",
    "reward_avg = np.array(rewards).mean()\n",
    "reward_std = np.array(rewards).std()\n",
    "print(f'Reward average {reward_avg:.2f}, std {reward_std:.2f}')\n",
    "\n",
    "success_rate = np.array(success).mean()\n",
    "print(f'Succes rate = {success_rate:.2%}')"
   ]
  },
  {
   "cell_type": "markdown",
   "id": "15dfe200",
   "metadata": {},
   "source": [
    "## Reward distribution"
   ]
  },
  {
   "cell_type": "code",
   "execution_count": 93,
   "id": "a4bb1269",
   "metadata": {},
   "outputs": [
    {
     "data": {
      "image/svg+xml": [
       "<?xml version=\"1.0\" encoding=\"utf-8\" standalone=\"no\"?>\n",
       "<!DOCTYPE svg PUBLIC \"-//W3C//DTD SVG 1.1//EN\"\n",
       "  \"http://www.w3.org/Graphics/SVG/1.1/DTD/svg11.dtd\">\n",
       "<svg xmlns:xlink=\"http://www.w3.org/1999/xlink\" width=\"605.803125pt\" height=\"263.63625pt\" viewBox=\"0 0 605.803125 263.63625\" xmlns=\"http://www.w3.org/2000/svg\" version=\"1.1\">\n",
       " <metadata>\n",
       "  <rdf:RDF xmlns:dc=\"http://purl.org/dc/elements/1.1/\" xmlns:cc=\"http://creativecommons.org/ns#\" xmlns:rdf=\"http://www.w3.org/1999/02/22-rdf-syntax-ns#\">\n",
       "   <cc:Work>\n",
       "    <dc:type rdf:resource=\"http://purl.org/dc/dcmitype/StillImage\"/>\n",
       "    <dc:date>2022-04-22T13:19:13.322773</dc:date>\n",
       "    <dc:format>image/svg+xml</dc:format>\n",
       "    <dc:creator>\n",
       "     <cc:Agent>\n",
       "      <dc:title>Matplotlib v3.5.1, https://matplotlib.org/</dc:title>\n",
       "     </cc:Agent>\n",
       "    </dc:creator>\n",
       "   </cc:Work>\n",
       "  </rdf:RDF>\n",
       " </metadata>\n",
       " <defs>\n",
       "  <style type=\"text/css\">*{stroke-linejoin: round; stroke-linecap: butt}</style>\n",
       " </defs>\n",
       " <g id=\"figure_1\">\n",
       "  <g id=\"patch_1\">\n",
       "   <path d=\"M 0 263.63625 \n",
       "L 605.803125 263.63625 \n",
       "L 605.803125 0 \n",
       "L 0 0 \n",
       "L 0 263.63625 \n",
       "z\n",
       "\" style=\"fill: none\"/>\n",
       "  </g>\n",
       "  <g id=\"axes_1\">\n",
       "   <g id=\"patch_2\">\n",
       "    <path d=\"M 40.603125 239.758125 \n",
       "L 598.603125 239.758125 \n",
       "L 598.603125 22.318125 \n",
       "L 40.603125 22.318125 \n",
       "z\n",
       "\" style=\"fill: #ffffff\"/>\n",
       "   </g>\n",
       "   <g id=\"patch_3\">\n",
       "    <path d=\"M 65.966761 239.758125 \n",
       "L 71.039489 239.758125 \n",
       "L 71.039489 219.049554 \n",
       "L 65.966761 219.049554 \n",
       "z\n",
       "\" clip-path=\"url(#paa1361496c)\" style=\"fill: #1f77b4\"/>\n",
       "   </g>\n",
       "   <g id=\"patch_4\">\n",
       "    <path d=\"M 71.039489 239.758125 \n",
       "L 76.112216 239.758125 \n",
       "L 76.112216 239.758125 \n",
       "L 71.039489 239.758125 \n",
       "z\n",
       "\" clip-path=\"url(#paa1361496c)\" style=\"fill: #1f77b4\"/>\n",
       "   </g>\n",
       "   <g id=\"patch_5\">\n",
       "    <path d=\"M 76.112216 239.758125 \n",
       "L 81.184943 239.758125 \n",
       "L 81.184943 239.758125 \n",
       "L 76.112216 239.758125 \n",
       "z\n",
       "\" clip-path=\"url(#paa1361496c)\" style=\"fill: #1f77b4\"/>\n",
       "   </g>\n",
       "   <g id=\"patch_6\">\n",
       "    <path d=\"M 81.184943 239.758125 \n",
       "L 86.25767 239.758125 \n",
       "L 86.25767 239.758125 \n",
       "L 81.184943 239.758125 \n",
       "z\n",
       "\" clip-path=\"url(#paa1361496c)\" style=\"fill: #1f77b4\"/>\n",
       "   </g>\n",
       "   <g id=\"patch_7\">\n",
       "    <path d=\"M 86.25767 239.758125 \n",
       "L 91.330398 239.758125 \n",
       "L 91.330398 239.758125 \n",
       "L 86.25767 239.758125 \n",
       "z\n",
       "\" clip-path=\"url(#paa1361496c)\" style=\"fill: #1f77b4\"/>\n",
       "   </g>\n",
       "   <g id=\"patch_8\">\n",
       "    <path d=\"M 91.330398 239.758125 \n",
       "L 96.403125 239.758125 \n",
       "L 96.403125 239.758125 \n",
       "L 91.330398 239.758125 \n",
       "z\n",
       "\" clip-path=\"url(#paa1361496c)\" style=\"fill: #1f77b4\"/>\n",
       "   </g>\n",
       "   <g id=\"patch_9\">\n",
       "    <path d=\"M 96.403125 239.758125 \n",
       "L 101.475852 239.758125 \n",
       "L 101.475852 239.758125 \n",
       "L 96.403125 239.758125 \n",
       "z\n",
       "\" clip-path=\"url(#paa1361496c)\" style=\"fill: #1f77b4\"/>\n",
       "   </g>\n",
       "   <g id=\"patch_10\">\n",
       "    <path d=\"M 101.475852 239.758125 \n",
       "L 106.54858 239.758125 \n",
       "L 106.54858 239.758125 \n",
       "L 101.475852 239.758125 \n",
       "z\n",
       "\" clip-path=\"url(#paa1361496c)\" style=\"fill: #1f77b4\"/>\n",
       "   </g>\n",
       "   <g id=\"patch_11\">\n",
       "    <path d=\"M 106.54858 239.758125 \n",
       "L 111.621307 239.758125 \n",
       "L 111.621307 239.758125 \n",
       "L 106.54858 239.758125 \n",
       "z\n",
       "\" clip-path=\"url(#paa1361496c)\" style=\"fill: #1f77b4\"/>\n",
       "   </g>\n",
       "   <g id=\"patch_12\">\n",
       "    <path d=\"M 111.621307 239.758125 \n",
       "L 116.694034 239.758125 \n",
       "L 116.694034 239.758125 \n",
       "L 111.621307 239.758125 \n",
       "z\n",
       "\" clip-path=\"url(#paa1361496c)\" style=\"fill: #1f77b4\"/>\n",
       "   </g>\n",
       "   <g id=\"patch_13\">\n",
       "    <path d=\"M 116.694034 239.758125 \n",
       "L 121.766761 239.758125 \n",
       "L 121.766761 239.758125 \n",
       "L 116.694034 239.758125 \n",
       "z\n",
       "\" clip-path=\"url(#paa1361496c)\" style=\"fill: #1f77b4\"/>\n",
       "   </g>\n",
       "   <g id=\"patch_14\">\n",
       "    <path d=\"M 121.766761 239.758125 \n",
       "L 126.839489 239.758125 \n",
       "L 126.839489 239.758125 \n",
       "L 121.766761 239.758125 \n",
       "z\n",
       "\" clip-path=\"url(#paa1361496c)\" style=\"fill: #1f77b4\"/>\n",
       "   </g>\n",
       "   <g id=\"patch_15\">\n",
       "    <path d=\"M 126.839489 239.758125 \n",
       "L 131.912216 239.758125 \n",
       "L 131.912216 239.758125 \n",
       "L 126.839489 239.758125 \n",
       "z\n",
       "\" clip-path=\"url(#paa1361496c)\" style=\"fill: #1f77b4\"/>\n",
       "   </g>\n",
       "   <g id=\"patch_16\">\n",
       "    <path d=\"M 131.912216 239.758125 \n",
       "L 136.984943 239.758125 \n",
       "L 136.984943 239.758125 \n",
       "L 131.912216 239.758125 \n",
       "z\n",
       "\" clip-path=\"url(#paa1361496c)\" style=\"fill: #1f77b4\"/>\n",
       "   </g>\n",
       "   <g id=\"patch_17\">\n",
       "    <path d=\"M 136.984943 239.758125 \n",
       "L 142.05767 239.758125 \n",
       "L 142.05767 239.758125 \n",
       "L 136.984943 239.758125 \n",
       "z\n",
       "\" clip-path=\"url(#paa1361496c)\" style=\"fill: #1f77b4\"/>\n",
       "   </g>\n",
       "   <g id=\"patch_18\">\n",
       "    <path d=\"M 142.05767 239.758125 \n",
       "L 147.130398 239.758125 \n",
       "L 147.130398 239.758125 \n",
       "L 142.05767 239.758125 \n",
       "z\n",
       "\" clip-path=\"url(#paa1361496c)\" style=\"fill: #1f77b4\"/>\n",
       "   </g>\n",
       "   <g id=\"patch_19\">\n",
       "    <path d=\"M 147.130398 239.758125 \n",
       "L 152.203125 239.758125 \n",
       "L 152.203125 239.758125 \n",
       "L 147.130398 239.758125 \n",
       "z\n",
       "\" clip-path=\"url(#paa1361496c)\" style=\"fill: #1f77b4\"/>\n",
       "   </g>\n",
       "   <g id=\"patch_20\">\n",
       "    <path d=\"M 152.203125 239.758125 \n",
       "L 157.275852 239.758125 \n",
       "L 157.275852 239.758125 \n",
       "L 152.203125 239.758125 \n",
       "z\n",
       "\" clip-path=\"url(#paa1361496c)\" style=\"fill: #1f77b4\"/>\n",
       "   </g>\n",
       "   <g id=\"patch_21\">\n",
       "    <path d=\"M 157.275852 239.758125 \n",
       "L 162.34858 239.758125 \n",
       "L 162.34858 239.758125 \n",
       "L 157.275852 239.758125 \n",
       "z\n",
       "\" clip-path=\"url(#paa1361496c)\" style=\"fill: #1f77b4\"/>\n",
       "   </g>\n",
       "   <g id=\"patch_22\">\n",
       "    <path d=\"M 162.34858 239.758125 \n",
       "L 167.421307 239.758125 \n",
       "L 167.421307 239.758125 \n",
       "L 162.34858 239.758125 \n",
       "z\n",
       "\" clip-path=\"url(#paa1361496c)\" style=\"fill: #1f77b4\"/>\n",
       "   </g>\n",
       "   <g id=\"patch_23\">\n",
       "    <path d=\"M 167.421307 239.758125 \n",
       "L 172.494034 239.758125 \n",
       "L 172.494034 239.758125 \n",
       "L 167.421307 239.758125 \n",
       "z\n",
       "\" clip-path=\"url(#paa1361496c)\" style=\"fill: #1f77b4\"/>\n",
       "   </g>\n",
       "   <g id=\"patch_24\">\n",
       "    <path d=\"M 172.494034 239.758125 \n",
       "L 177.566761 239.758125 \n",
       "L 177.566761 239.758125 \n",
       "L 172.494034 239.758125 \n",
       "z\n",
       "\" clip-path=\"url(#paa1361496c)\" style=\"fill: #1f77b4\"/>\n",
       "   </g>\n",
       "   <g id=\"patch_25\">\n",
       "    <path d=\"M 177.566761 239.758125 \n",
       "L 182.639489 239.758125 \n",
       "L 182.639489 239.758125 \n",
       "L 177.566761 239.758125 \n",
       "z\n",
       "\" clip-path=\"url(#paa1361496c)\" style=\"fill: #1f77b4\"/>\n",
       "   </g>\n",
       "   <g id=\"patch_26\">\n",
       "    <path d=\"M 182.639489 239.758125 \n",
       "L 187.712216 239.758125 \n",
       "L 187.712216 239.758125 \n",
       "L 182.639489 239.758125 \n",
       "z\n",
       "\" clip-path=\"url(#paa1361496c)\" style=\"fill: #1f77b4\"/>\n",
       "   </g>\n",
       "   <g id=\"patch_27\">\n",
       "    <path d=\"M 187.712216 239.758125 \n",
       "L 192.784943 239.758125 \n",
       "L 192.784943 239.758125 \n",
       "L 187.712216 239.758125 \n",
       "z\n",
       "\" clip-path=\"url(#paa1361496c)\" style=\"fill: #1f77b4\"/>\n",
       "   </g>\n",
       "   <g id=\"patch_28\">\n",
       "    <path d=\"M 192.784943 239.758125 \n",
       "L 197.85767 239.758125 \n",
       "L 197.85767 239.758125 \n",
       "L 192.784943 239.758125 \n",
       "z\n",
       "\" clip-path=\"url(#paa1361496c)\" style=\"fill: #1f77b4\"/>\n",
       "   </g>\n",
       "   <g id=\"patch_29\">\n",
       "    <path d=\"M 197.85767 239.758125 \n",
       "L 202.930398 239.758125 \n",
       "L 202.930398 239.758125 \n",
       "L 197.85767 239.758125 \n",
       "z\n",
       "\" clip-path=\"url(#paa1361496c)\" style=\"fill: #1f77b4\"/>\n",
       "   </g>\n",
       "   <g id=\"patch_30\">\n",
       "    <path d=\"M 202.930398 239.758125 \n",
       "L 208.003125 239.758125 \n",
       "L 208.003125 219.049554 \n",
       "L 202.930398 219.049554 \n",
       "z\n",
       "\" clip-path=\"url(#paa1361496c)\" style=\"fill: #1f77b4\"/>\n",
       "   </g>\n",
       "   <g id=\"patch_31\">\n",
       "    <path d=\"M 208.003125 239.758125 \n",
       "L 213.075852 239.758125 \n",
       "L 213.075852 239.758125 \n",
       "L 208.003125 239.758125 \n",
       "z\n",
       "\" clip-path=\"url(#paa1361496c)\" style=\"fill: #1f77b4\"/>\n",
       "   </g>\n",
       "   <g id=\"patch_32\">\n",
       "    <path d=\"M 213.075852 239.758125 \n",
       "L 218.14858 239.758125 \n",
       "L 218.14858 239.758125 \n",
       "L 213.075852 239.758125 \n",
       "z\n",
       "\" clip-path=\"url(#paa1361496c)\" style=\"fill: #1f77b4\"/>\n",
       "   </g>\n",
       "   <g id=\"patch_33\">\n",
       "    <path d=\"M 218.14858 239.758125 \n",
       "L 223.221307 239.758125 \n",
       "L 223.221307 239.758125 \n",
       "L 218.14858 239.758125 \n",
       "z\n",
       "\" clip-path=\"url(#paa1361496c)\" style=\"fill: #1f77b4\"/>\n",
       "   </g>\n",
       "   <g id=\"patch_34\">\n",
       "    <path d=\"M 223.221307 239.758125 \n",
       "L 228.294034 239.758125 \n",
       "L 228.294034 239.758125 \n",
       "L 223.221307 239.758125 \n",
       "z\n",
       "\" clip-path=\"url(#paa1361496c)\" style=\"fill: #1f77b4\"/>\n",
       "   </g>\n",
       "   <g id=\"patch_35\">\n",
       "    <path d=\"M 228.294034 239.758125 \n",
       "L 233.366761 239.758125 \n",
       "L 233.366761 239.758125 \n",
       "L 228.294034 239.758125 \n",
       "z\n",
       "\" clip-path=\"url(#paa1361496c)\" style=\"fill: #1f77b4\"/>\n",
       "   </g>\n",
       "   <g id=\"patch_36\">\n",
       "    <path d=\"M 233.366761 239.758125 \n",
       "L 238.439489 239.758125 \n",
       "L 238.439489 239.758125 \n",
       "L 233.366761 239.758125 \n",
       "z\n",
       "\" clip-path=\"url(#paa1361496c)\" style=\"fill: #1f77b4\"/>\n",
       "   </g>\n",
       "   <g id=\"patch_37\">\n",
       "    <path d=\"M 238.439489 239.758125 \n",
       "L 243.512216 239.758125 \n",
       "L 243.512216 239.758125 \n",
       "L 238.439489 239.758125 \n",
       "z\n",
       "\" clip-path=\"url(#paa1361496c)\" style=\"fill: #1f77b4\"/>\n",
       "   </g>\n",
       "   <g id=\"patch_38\">\n",
       "    <path d=\"M 243.512216 239.758125 \n",
       "L 248.584943 239.758125 \n",
       "L 248.584943 239.758125 \n",
       "L 243.512216 239.758125 \n",
       "z\n",
       "\" clip-path=\"url(#paa1361496c)\" style=\"fill: #1f77b4\"/>\n",
       "   </g>\n",
       "   <g id=\"patch_39\">\n",
       "    <path d=\"M 248.584943 239.758125 \n",
       "L 253.65767 239.758125 \n",
       "L 253.65767 239.758125 \n",
       "L 248.584943 239.758125 \n",
       "z\n",
       "\" clip-path=\"url(#paa1361496c)\" style=\"fill: #1f77b4\"/>\n",
       "   </g>\n",
       "   <g id=\"patch_40\">\n",
       "    <path d=\"M 253.65767 239.758125 \n",
       "L 258.730398 239.758125 \n",
       "L 258.730398 239.758125 \n",
       "L 253.65767 239.758125 \n",
       "z\n",
       "\" clip-path=\"url(#paa1361496c)\" style=\"fill: #1f77b4\"/>\n",
       "   </g>\n",
       "   <g id=\"patch_41\">\n",
       "    <path d=\"M 258.730398 239.758125 \n",
       "L 263.803125 239.758125 \n",
       "L 263.803125 239.758125 \n",
       "L 258.730398 239.758125 \n",
       "z\n",
       "\" clip-path=\"url(#paa1361496c)\" style=\"fill: #1f77b4\"/>\n",
       "   </g>\n",
       "   <g id=\"patch_42\">\n",
       "    <path d=\"M 263.803125 239.758125 \n",
       "L 268.875852 239.758125 \n",
       "L 268.875852 239.758125 \n",
       "L 263.803125 239.758125 \n",
       "z\n",
       "\" clip-path=\"url(#paa1361496c)\" style=\"fill: #1f77b4\"/>\n",
       "   </g>\n",
       "   <g id=\"patch_43\">\n",
       "    <path d=\"M 268.875852 239.758125 \n",
       "L 273.94858 239.758125 \n",
       "L 273.94858 239.758125 \n",
       "L 268.875852 239.758125 \n",
       "z\n",
       "\" clip-path=\"url(#paa1361496c)\" style=\"fill: #1f77b4\"/>\n",
       "   </g>\n",
       "   <g id=\"patch_44\">\n",
       "    <path d=\"M 273.94858 239.758125 \n",
       "L 279.021307 239.758125 \n",
       "L 279.021307 239.758125 \n",
       "L 273.94858 239.758125 \n",
       "z\n",
       "\" clip-path=\"url(#paa1361496c)\" style=\"fill: #1f77b4\"/>\n",
       "   </g>\n",
       "   <g id=\"patch_45\">\n",
       "    <path d=\"M 279.021307 239.758125 \n",
       "L 284.094034 239.758125 \n",
       "L 284.094034 239.758125 \n",
       "L 279.021307 239.758125 \n",
       "z\n",
       "\" clip-path=\"url(#paa1361496c)\" style=\"fill: #1f77b4\"/>\n",
       "   </g>\n",
       "   <g id=\"patch_46\">\n",
       "    <path d=\"M 284.094034 239.758125 \n",
       "L 289.166761 239.758125 \n",
       "L 289.166761 219.049554 \n",
       "L 284.094034 219.049554 \n",
       "z\n",
       "\" clip-path=\"url(#paa1361496c)\" style=\"fill: #1f77b4\"/>\n",
       "   </g>\n",
       "   <g id=\"patch_47\">\n",
       "    <path d=\"M 289.166761 239.758125 \n",
       "L 294.239489 239.758125 \n",
       "L 294.239489 239.758125 \n",
       "L 289.166761 239.758125 \n",
       "z\n",
       "\" clip-path=\"url(#paa1361496c)\" style=\"fill: #1f77b4\"/>\n",
       "   </g>\n",
       "   <g id=\"patch_48\">\n",
       "    <path d=\"M 294.239489 239.758125 \n",
       "L 299.312216 239.758125 \n",
       "L 299.312216 239.758125 \n",
       "L 294.239489 239.758125 \n",
       "z\n",
       "\" clip-path=\"url(#paa1361496c)\" style=\"fill: #1f77b4\"/>\n",
       "   </g>\n",
       "   <g id=\"patch_49\">\n",
       "    <path d=\"M 299.312216 239.758125 \n",
       "L 304.384943 239.758125 \n",
       "L 304.384943 177.632411 \n",
       "L 299.312216 177.632411 \n",
       "z\n",
       "\" clip-path=\"url(#paa1361496c)\" style=\"fill: #1f77b4\"/>\n",
       "   </g>\n",
       "   <g id=\"patch_50\">\n",
       "    <path d=\"M 304.384943 239.758125 \n",
       "L 309.45767 239.758125 \n",
       "L 309.45767 239.758125 \n",
       "L 304.384943 239.758125 \n",
       "z\n",
       "\" clip-path=\"url(#paa1361496c)\" style=\"fill: #1f77b4\"/>\n",
       "   </g>\n",
       "   <g id=\"patch_51\">\n",
       "    <path d=\"M 309.45767 239.758125 \n",
       "L 314.530398 239.758125 \n",
       "L 314.530398 219.049554 \n",
       "L 309.45767 219.049554 \n",
       "z\n",
       "\" clip-path=\"url(#paa1361496c)\" style=\"fill: #1f77b4\"/>\n",
       "   </g>\n",
       "   <g id=\"patch_52\">\n",
       "    <path d=\"M 314.530398 239.758125 \n",
       "L 319.603125 239.758125 \n",
       "L 319.603125 239.758125 \n",
       "L 314.530398 239.758125 \n",
       "z\n",
       "\" clip-path=\"url(#paa1361496c)\" style=\"fill: #1f77b4\"/>\n",
       "   </g>\n",
       "   <g id=\"patch_53\">\n",
       "    <path d=\"M 319.603125 239.758125 \n",
       "L 324.675852 239.758125 \n",
       "L 324.675852 219.049554 \n",
       "L 319.603125 219.049554 \n",
       "z\n",
       "\" clip-path=\"url(#paa1361496c)\" style=\"fill: #1f77b4\"/>\n",
       "   </g>\n",
       "   <g id=\"patch_54\">\n",
       "    <path d=\"M 324.675852 239.758125 \n",
       "L 329.74858 239.758125 \n",
       "L 329.74858 239.758125 \n",
       "L 324.675852 239.758125 \n",
       "z\n",
       "\" clip-path=\"url(#paa1361496c)\" style=\"fill: #1f77b4\"/>\n",
       "   </g>\n",
       "   <g id=\"patch_55\">\n",
       "    <path d=\"M 329.74858 239.758125 \n",
       "L 334.821307 239.758125 \n",
       "L 334.821307 239.758125 \n",
       "L 329.74858 239.758125 \n",
       "z\n",
       "\" clip-path=\"url(#paa1361496c)\" style=\"fill: #1f77b4\"/>\n",
       "   </g>\n",
       "   <g id=\"patch_56\">\n",
       "    <path d=\"M 334.821307 239.758125 \n",
       "L 339.894034 239.758125 \n",
       "L 339.894034 239.758125 \n",
       "L 334.821307 239.758125 \n",
       "z\n",
       "\" clip-path=\"url(#paa1361496c)\" style=\"fill: #1f77b4\"/>\n",
       "   </g>\n",
       "   <g id=\"patch_57\">\n",
       "    <path d=\"M 339.894034 239.758125 \n",
       "L 344.966761 239.758125 \n",
       "L 344.966761 239.758125 \n",
       "L 339.894034 239.758125 \n",
       "z\n",
       "\" clip-path=\"url(#paa1361496c)\" style=\"fill: #1f77b4\"/>\n",
       "   </g>\n",
       "   <g id=\"patch_58\">\n",
       "    <path d=\"M 344.966761 239.758125 \n",
       "L 350.039489 239.758125 \n",
       "L 350.039489 239.758125 \n",
       "L 344.966761 239.758125 \n",
       "z\n",
       "\" clip-path=\"url(#paa1361496c)\" style=\"fill: #1f77b4\"/>\n",
       "   </g>\n",
       "   <g id=\"patch_59\">\n",
       "    <path d=\"M 350.039489 239.758125 \n",
       "L 355.112216 239.758125 \n",
       "L 355.112216 239.758125 \n",
       "L 350.039489 239.758125 \n",
       "z\n",
       "\" clip-path=\"url(#paa1361496c)\" style=\"fill: #1f77b4\"/>\n",
       "   </g>\n",
       "   <g id=\"patch_60\">\n",
       "    <path d=\"M 355.112216 239.758125 \n",
       "L 360.184943 239.758125 \n",
       "L 360.184943 239.758125 \n",
       "L 355.112216 239.758125 \n",
       "z\n",
       "\" clip-path=\"url(#paa1361496c)\" style=\"fill: #1f77b4\"/>\n",
       "   </g>\n",
       "   <g id=\"patch_61\">\n",
       "    <path d=\"M 360.184943 239.758125 \n",
       "L 365.25767 239.758125 \n",
       "L 365.25767 239.758125 \n",
       "L 360.184943 239.758125 \n",
       "z\n",
       "\" clip-path=\"url(#paa1361496c)\" style=\"fill: #1f77b4\"/>\n",
       "   </g>\n",
       "   <g id=\"patch_62\">\n",
       "    <path d=\"M 365.25767 239.758125 \n",
       "L 370.330398 239.758125 \n",
       "L 370.330398 239.758125 \n",
       "L 365.25767 239.758125 \n",
       "z\n",
       "\" clip-path=\"url(#paa1361496c)\" style=\"fill: #1f77b4\"/>\n",
       "   </g>\n",
       "   <g id=\"patch_63\">\n",
       "    <path d=\"M 370.330398 239.758125 \n",
       "L 375.403125 239.758125 \n",
       "L 375.403125 239.758125 \n",
       "L 370.330398 239.758125 \n",
       "z\n",
       "\" clip-path=\"url(#paa1361496c)\" style=\"fill: #1f77b4\"/>\n",
       "   </g>\n",
       "   <g id=\"patch_64\">\n",
       "    <path d=\"M 375.403125 239.758125 \n",
       "L 380.475852 239.758125 \n",
       "L 380.475852 239.758125 \n",
       "L 375.403125 239.758125 \n",
       "z\n",
       "\" clip-path=\"url(#paa1361496c)\" style=\"fill: #1f77b4\"/>\n",
       "   </g>\n",
       "   <g id=\"patch_65\">\n",
       "    <path d=\"M 380.475852 239.758125 \n",
       "L 385.54858 239.758125 \n",
       "L 385.54858 239.758125 \n",
       "L 380.475852 239.758125 \n",
       "z\n",
       "\" clip-path=\"url(#paa1361496c)\" style=\"fill: #1f77b4\"/>\n",
       "   </g>\n",
       "   <g id=\"patch_66\">\n",
       "    <path d=\"M 385.54858 239.758125 \n",
       "L 390.621307 239.758125 \n",
       "L 390.621307 239.758125 \n",
       "L 385.54858 239.758125 \n",
       "z\n",
       "\" clip-path=\"url(#paa1361496c)\" style=\"fill: #1f77b4\"/>\n",
       "   </g>\n",
       "   <g id=\"patch_67\">\n",
       "    <path d=\"M 390.621307 239.758125 \n",
       "L 395.694034 239.758125 \n",
       "L 395.694034 239.758125 \n",
       "L 390.621307 239.758125 \n",
       "z\n",
       "\" clip-path=\"url(#paa1361496c)\" style=\"fill: #1f77b4\"/>\n",
       "   </g>\n",
       "   <g id=\"patch_68\">\n",
       "    <path d=\"M 395.694034 239.758125 \n",
       "L 400.766761 239.758125 \n",
       "L 400.766761 239.758125 \n",
       "L 395.694034 239.758125 \n",
       "z\n",
       "\" clip-path=\"url(#paa1361496c)\" style=\"fill: #1f77b4\"/>\n",
       "   </g>\n",
       "   <g id=\"patch_69\">\n",
       "    <path d=\"M 400.766761 239.758125 \n",
       "L 405.839489 239.758125 \n",
       "L 405.839489 239.758125 \n",
       "L 400.766761 239.758125 \n",
       "z\n",
       "\" clip-path=\"url(#paa1361496c)\" style=\"fill: #1f77b4\"/>\n",
       "   </g>\n",
       "   <g id=\"patch_70\">\n",
       "    <path d=\"M 405.839489 239.758125 \n",
       "L 410.912216 239.758125 \n",
       "L 410.912216 239.758125 \n",
       "L 405.839489 239.758125 \n",
       "z\n",
       "\" clip-path=\"url(#paa1361496c)\" style=\"fill: #1f77b4\"/>\n",
       "   </g>\n",
       "   <g id=\"patch_71\">\n",
       "    <path d=\"M 410.912216 239.758125 \n",
       "L 415.984943 239.758125 \n",
       "L 415.984943 239.758125 \n",
       "L 410.912216 239.758125 \n",
       "z\n",
       "\" clip-path=\"url(#paa1361496c)\" style=\"fill: #1f77b4\"/>\n",
       "   </g>\n",
       "   <g id=\"patch_72\">\n",
       "    <path d=\"M 415.984943 239.758125 \n",
       "L 421.05767 239.758125 \n",
       "L 421.05767 239.758125 \n",
       "L 415.984943 239.758125 \n",
       "z\n",
       "\" clip-path=\"url(#paa1361496c)\" style=\"fill: #1f77b4\"/>\n",
       "   </g>\n",
       "   <g id=\"patch_73\">\n",
       "    <path d=\"M 421.05767 239.758125 \n",
       "L 426.130398 239.758125 \n",
       "L 426.130398 239.758125 \n",
       "L 421.05767 239.758125 \n",
       "z\n",
       "\" clip-path=\"url(#paa1361496c)\" style=\"fill: #1f77b4\"/>\n",
       "   </g>\n",
       "   <g id=\"patch_74\">\n",
       "    <path d=\"M 426.130398 239.758125 \n",
       "L 431.203125 239.758125 \n",
       "L 431.203125 239.758125 \n",
       "L 426.130398 239.758125 \n",
       "z\n",
       "\" clip-path=\"url(#paa1361496c)\" style=\"fill: #1f77b4\"/>\n",
       "   </g>\n",
       "   <g id=\"patch_75\">\n",
       "    <path d=\"M 431.203125 239.758125 \n",
       "L 436.275852 239.758125 \n",
       "L 436.275852 239.758125 \n",
       "L 431.203125 239.758125 \n",
       "z\n",
       "\" clip-path=\"url(#paa1361496c)\" style=\"fill: #1f77b4\"/>\n",
       "   </g>\n",
       "   <g id=\"patch_76\">\n",
       "    <path d=\"M 436.275852 239.758125 \n",
       "L 441.34858 239.758125 \n",
       "L 441.34858 219.049554 \n",
       "L 436.275852 219.049554 \n",
       "z\n",
       "\" clip-path=\"url(#paa1361496c)\" style=\"fill: #1f77b4\"/>\n",
       "   </g>\n",
       "   <g id=\"patch_77\">\n",
       "    <path d=\"M 441.34858 239.758125 \n",
       "L 446.421307 239.758125 \n",
       "L 446.421307 239.758125 \n",
       "L 441.34858 239.758125 \n",
       "z\n",
       "\" clip-path=\"url(#paa1361496c)\" style=\"fill: #1f77b4\"/>\n",
       "   </g>\n",
       "   <g id=\"patch_78\">\n",
       "    <path d=\"M 446.421307 239.758125 \n",
       "L 451.494034 239.758125 \n",
       "L 451.494034 239.758125 \n",
       "L 446.421307 239.758125 \n",
       "z\n",
       "\" clip-path=\"url(#paa1361496c)\" style=\"fill: #1f77b4\"/>\n",
       "   </g>\n",
       "   <g id=\"patch_79\">\n",
       "    <path d=\"M 451.494034 239.758125 \n",
       "L 456.566761 239.758125 \n",
       "L 456.566761 239.758125 \n",
       "L 451.494034 239.758125 \n",
       "z\n",
       "\" clip-path=\"url(#paa1361496c)\" style=\"fill: #1f77b4\"/>\n",
       "   </g>\n",
       "   <g id=\"patch_80\">\n",
       "    <path d=\"M 456.566761 239.758125 \n",
       "L 461.639489 239.758125 \n",
       "L 461.639489 239.758125 \n",
       "L 456.566761 239.758125 \n",
       "z\n",
       "\" clip-path=\"url(#paa1361496c)\" style=\"fill: #1f77b4\"/>\n",
       "   </g>\n",
       "   <g id=\"patch_81\">\n",
       "    <path d=\"M 461.639489 239.758125 \n",
       "L 466.712216 239.758125 \n",
       "L 466.712216 239.758125 \n",
       "L 461.639489 239.758125 \n",
       "z\n",
       "\" clip-path=\"url(#paa1361496c)\" style=\"fill: #1f77b4\"/>\n",
       "   </g>\n",
       "   <g id=\"patch_82\">\n",
       "    <path d=\"M 466.712216 239.758125 \n",
       "L 471.784943 239.758125 \n",
       "L 471.784943 239.758125 \n",
       "L 466.712216 239.758125 \n",
       "z\n",
       "\" clip-path=\"url(#paa1361496c)\" style=\"fill: #1f77b4\"/>\n",
       "   </g>\n",
       "   <g id=\"patch_83\">\n",
       "    <path d=\"M 471.784943 239.758125 \n",
       "L 476.85767 239.758125 \n",
       "L 476.85767 239.758125 \n",
       "L 471.784943 239.758125 \n",
       "z\n",
       "\" clip-path=\"url(#paa1361496c)\" style=\"fill: #1f77b4\"/>\n",
       "   </g>\n",
       "   <g id=\"patch_84\">\n",
       "    <path d=\"M 476.85767 239.758125 \n",
       "L 481.930398 239.758125 \n",
       "L 481.930398 219.049554 \n",
       "L 476.85767 219.049554 \n",
       "z\n",
       "\" clip-path=\"url(#paa1361496c)\" style=\"fill: #1f77b4\"/>\n",
       "   </g>\n",
       "   <g id=\"patch_85\">\n",
       "    <path d=\"M 481.930398 239.758125 \n",
       "L 487.003125 239.758125 \n",
       "L 487.003125 239.758125 \n",
       "L 481.930398 239.758125 \n",
       "z\n",
       "\" clip-path=\"url(#paa1361496c)\" style=\"fill: #1f77b4\"/>\n",
       "   </g>\n",
       "   <g id=\"patch_86\">\n",
       "    <path d=\"M 487.003125 239.758125 \n",
       "L 492.075852 239.758125 \n",
       "L 492.075852 219.049554 \n",
       "L 487.003125 219.049554 \n",
       "z\n",
       "\" clip-path=\"url(#paa1361496c)\" style=\"fill: #1f77b4\"/>\n",
       "   </g>\n",
       "   <g id=\"patch_87\">\n",
       "    <path d=\"M 492.075852 239.758125 \n",
       "L 497.14858 239.758125 \n",
       "L 497.14858 219.049554 \n",
       "L 492.075852 219.049554 \n",
       "z\n",
       "\" clip-path=\"url(#paa1361496c)\" style=\"fill: #1f77b4\"/>\n",
       "   </g>\n",
       "   <g id=\"patch_88\">\n",
       "    <path d=\"M 497.14858 239.758125 \n",
       "L 502.221307 239.758125 \n",
       "L 502.221307 136.215268 \n",
       "L 497.14858 136.215268 \n",
       "z\n",
       "\" clip-path=\"url(#paa1361496c)\" style=\"fill: #1f77b4\"/>\n",
       "   </g>\n",
       "   <g id=\"patch_89\">\n",
       "    <path d=\"M 502.221307 239.758125 \n",
       "L 507.294034 239.758125 \n",
       "L 507.294034 156.923839 \n",
       "L 502.221307 156.923839 \n",
       "z\n",
       "\" clip-path=\"url(#paa1361496c)\" style=\"fill: #1f77b4\"/>\n",
       "   </g>\n",
       "   <g id=\"patch_90\">\n",
       "    <path d=\"M 507.294034 239.758125 \n",
       "L 512.366761 239.758125 \n",
       "L 512.366761 115.506696 \n",
       "L 507.294034 115.506696 \n",
       "z\n",
       "\" clip-path=\"url(#paa1361496c)\" style=\"fill: #1f77b4\"/>\n",
       "   </g>\n",
       "   <g id=\"patch_91\">\n",
       "    <path d=\"M 512.366761 239.758125 \n",
       "L 517.439489 239.758125 \n",
       "L 517.439489 115.506696 \n",
       "L 512.366761 115.506696 \n",
       "z\n",
       "\" clip-path=\"url(#paa1361496c)\" style=\"fill: #1f77b4\"/>\n",
       "   </g>\n",
       "   <g id=\"patch_92\">\n",
       "    <path d=\"M 517.439489 239.758125 \n",
       "L 522.512216 239.758125 \n",
       "L 522.512216 94.798125 \n",
       "L 517.439489 94.798125 \n",
       "z\n",
       "\" clip-path=\"url(#paa1361496c)\" style=\"fill: #1f77b4\"/>\n",
       "   </g>\n",
       "   <g id=\"patch_93\">\n",
       "    <path d=\"M 522.512216 239.758125 \n",
       "L 527.584943 239.758125 \n",
       "L 527.584943 136.215268 \n",
       "L 522.512216 136.215268 \n",
       "z\n",
       "\" clip-path=\"url(#paa1361496c)\" style=\"fill: #1f77b4\"/>\n",
       "   </g>\n",
       "   <g id=\"patch_94\">\n",
       "    <path d=\"M 527.584943 239.758125 \n",
       "L 532.65767 239.758125 \n",
       "L 532.65767 74.089554 \n",
       "L 527.584943 74.089554 \n",
       "z\n",
       "\" clip-path=\"url(#paa1361496c)\" style=\"fill: #1f77b4\"/>\n",
       "   </g>\n",
       "   <g id=\"patch_95\">\n",
       "    <path d=\"M 532.65767 239.758125 \n",
       "L 537.730398 239.758125 \n",
       "L 537.730398 32.672411 \n",
       "L 532.65767 32.672411 \n",
       "z\n",
       "\" clip-path=\"url(#paa1361496c)\" style=\"fill: #1f77b4\"/>\n",
       "   </g>\n",
       "   <g id=\"patch_96\">\n",
       "    <path d=\"M 537.730398 239.758125 \n",
       "L 542.803125 239.758125 \n",
       "L 542.803125 53.380982 \n",
       "L 537.730398 53.380982 \n",
       "z\n",
       "\" clip-path=\"url(#paa1361496c)\" style=\"fill: #1f77b4\"/>\n",
       "   </g>\n",
       "   <g id=\"patch_97\">\n",
       "    <path d=\"M 542.803125 239.758125 \n",
       "L 547.875852 239.758125 \n",
       "L 547.875852 156.923839 \n",
       "L 542.803125 156.923839 \n",
       "z\n",
       "\" clip-path=\"url(#paa1361496c)\" style=\"fill: #1f77b4\"/>\n",
       "   </g>\n",
       "   <g id=\"patch_98\">\n",
       "    <path d=\"M 547.875852 239.758125 \n",
       "L 552.94858 239.758125 \n",
       "L 552.94858 177.632411 \n",
       "L 547.875852 177.632411 \n",
       "z\n",
       "\" clip-path=\"url(#paa1361496c)\" style=\"fill: #1f77b4\"/>\n",
       "   </g>\n",
       "   <g id=\"patch_99\">\n",
       "    <path d=\"M 552.94858 239.758125 \n",
       "L 558.021307 239.758125 \n",
       "L 558.021307 32.672411 \n",
       "L 552.94858 32.672411 \n",
       "z\n",
       "\" clip-path=\"url(#paa1361496c)\" style=\"fill: #1f77b4\"/>\n",
       "   </g>\n",
       "   <g id=\"patch_100\">\n",
       "    <path d=\"M 558.021307 239.758125 \n",
       "L 563.094034 239.758125 \n",
       "L 563.094034 198.340982 \n",
       "L 558.021307 198.340982 \n",
       "z\n",
       "\" clip-path=\"url(#paa1361496c)\" style=\"fill: #1f77b4\"/>\n",
       "   </g>\n",
       "   <g id=\"patch_101\">\n",
       "    <path d=\"M 563.094034 239.758125 \n",
       "L 568.166761 239.758125 \n",
       "L 568.166761 136.215268 \n",
       "L 563.094034 136.215268 \n",
       "z\n",
       "\" clip-path=\"url(#paa1361496c)\" style=\"fill: #1f77b4\"/>\n",
       "   </g>\n",
       "   <g id=\"patch_102\">\n",
       "    <path d=\"M 568.166761 239.758125 \n",
       "L 573.239489 239.758125 \n",
       "L 573.239489 156.923839 \n",
       "L 568.166761 156.923839 \n",
       "z\n",
       "\" clip-path=\"url(#paa1361496c)\" style=\"fill: #1f77b4\"/>\n",
       "   </g>\n",
       "   <g id=\"matplotlib.axis_1\">\n",
       "    <g id=\"xtick_1\">\n",
       "     <g id=\"line2d_1\">\n",
       "      <defs>\n",
       "       <path id=\"m3503861fcd\" d=\"M 0 0 \n",
       "L 0 3.5 \n",
       "\" style=\"stroke: #000000; stroke-width: 0.8\"/>\n",
       "      </defs>\n",
       "      <g>\n",
       "       <use xlink:href=\"#m3503861fcd\" x=\"53.929344\" y=\"239.758125\" style=\"stroke: #000000; stroke-width: 0.8\"/>\n",
       "      </g>\n",
       "     </g>\n",
       "     <g id=\"text_1\">\n",
       "      <!-- −200 -->\n",
       "      <g transform=\"translate(40.19575 254.356563)scale(0.1 -0.1)\">\n",
       "       <defs>\n",
       "        <path id=\"DejaVuSans-2212\" d=\"M 678 2272 \n",
       "L 4684 2272 \n",
       "L 4684 1741 \n",
       "L 678 1741 \n",
       "L 678 2272 \n",
       "z\n",
       "\" transform=\"scale(0.015625)\"/>\n",
       "        <path id=\"DejaVuSans-32\" d=\"M 1228 531 \n",
       "L 3431 531 \n",
       "L 3431 0 \n",
       "L 469 0 \n",
       "L 469 531 \n",
       "Q 828 903 1448 1529 \n",
       "Q 2069 2156 2228 2338 \n",
       "Q 2531 2678 2651 2914 \n",
       "Q 2772 3150 2772 3378 \n",
       "Q 2772 3750 2511 3984 \n",
       "Q 2250 4219 1831 4219 \n",
       "Q 1534 4219 1204 4116 \n",
       "Q 875 4013 500 3803 \n",
       "L 500 4441 \n",
       "Q 881 4594 1212 4672 \n",
       "Q 1544 4750 1819 4750 \n",
       "Q 2544 4750 2975 4387 \n",
       "Q 3406 4025 3406 3419 \n",
       "Q 3406 3131 3298 2873 \n",
       "Q 3191 2616 2906 2266 \n",
       "Q 2828 2175 2409 1742 \n",
       "Q 1991 1309 1228 531 \n",
       "z\n",
       "\" transform=\"scale(0.015625)\"/>\n",
       "        <path id=\"DejaVuSans-30\" d=\"M 2034 4250 \n",
       "Q 1547 4250 1301 3770 \n",
       "Q 1056 3291 1056 2328 \n",
       "Q 1056 1369 1301 889 \n",
       "Q 1547 409 2034 409 \n",
       "Q 2525 409 2770 889 \n",
       "Q 3016 1369 3016 2328 \n",
       "Q 3016 3291 2770 3770 \n",
       "Q 2525 4250 2034 4250 \n",
       "z\n",
       "M 2034 4750 \n",
       "Q 2819 4750 3233 4129 \n",
       "Q 3647 3509 3647 2328 \n",
       "Q 3647 1150 3233 529 \n",
       "Q 2819 -91 2034 -91 \n",
       "Q 1250 -91 836 529 \n",
       "Q 422 1150 422 2328 \n",
       "Q 422 3509 836 4129 \n",
       "Q 1250 4750 2034 4750 \n",
       "z\n",
       "\" transform=\"scale(0.015625)\"/>\n",
       "       </defs>\n",
       "       <use xlink:href=\"#DejaVuSans-2212\"/>\n",
       "       <use xlink:href=\"#DejaVuSans-32\" x=\"83.789062\"/>\n",
       "       <use xlink:href=\"#DejaVuSans-30\" x=\"147.412109\"/>\n",
       "       <use xlink:href=\"#DejaVuSans-30\" x=\"211.035156\"/>\n",
       "      </g>\n",
       "     </g>\n",
       "    </g>\n",
       "    <g id=\"xtick_2\">\n",
       "     <g id=\"line2d_2\">\n",
       "      <g>\n",
       "       <use xlink:href=\"#m3503861fcd\" x=\"158.484983\" y=\"239.758125\" style=\"stroke: #000000; stroke-width: 0.8\"/>\n",
       "      </g>\n",
       "     </g>\n",
       "     <g id=\"text_2\">\n",
       "      <!-- −100 -->\n",
       "      <g transform=\"translate(144.751389 254.356563)scale(0.1 -0.1)\">\n",
       "       <defs>\n",
       "        <path id=\"DejaVuSans-31\" d=\"M 794 531 \n",
       "L 1825 531 \n",
       "L 1825 4091 \n",
       "L 703 3866 \n",
       "L 703 4441 \n",
       "L 1819 4666 \n",
       "L 2450 4666 \n",
       "L 2450 531 \n",
       "L 3481 531 \n",
       "L 3481 0 \n",
       "L 794 0 \n",
       "L 794 531 \n",
       "z\n",
       "\" transform=\"scale(0.015625)\"/>\n",
       "       </defs>\n",
       "       <use xlink:href=\"#DejaVuSans-2212\"/>\n",
       "       <use xlink:href=\"#DejaVuSans-31\" x=\"83.789062\"/>\n",
       "       <use xlink:href=\"#DejaVuSans-30\" x=\"147.412109\"/>\n",
       "       <use xlink:href=\"#DejaVuSans-30\" x=\"211.035156\"/>\n",
       "      </g>\n",
       "     </g>\n",
       "    </g>\n",
       "    <g id=\"xtick_3\">\n",
       "     <g id=\"line2d_3\">\n",
       "      <g>\n",
       "       <use xlink:href=\"#m3503861fcd\" x=\"263.040622\" y=\"239.758125\" style=\"stroke: #000000; stroke-width: 0.8\"/>\n",
       "      </g>\n",
       "     </g>\n",
       "     <g id=\"text_3\">\n",
       "      <!-- 0 -->\n",
       "      <g transform=\"translate(259.859372 254.356563)scale(0.1 -0.1)\">\n",
       "       <use xlink:href=\"#DejaVuSans-30\"/>\n",
       "      </g>\n",
       "     </g>\n",
       "    </g>\n",
       "    <g id=\"xtick_4\">\n",
       "     <g id=\"line2d_4\">\n",
       "      <g>\n",
       "       <use xlink:href=\"#m3503861fcd\" x=\"367.596261\" y=\"239.758125\" style=\"stroke: #000000; stroke-width: 0.8\"/>\n",
       "      </g>\n",
       "     </g>\n",
       "     <g id=\"text_4\">\n",
       "      <!-- 100 -->\n",
       "      <g transform=\"translate(358.052511 254.356563)scale(0.1 -0.1)\">\n",
       "       <use xlink:href=\"#DejaVuSans-31\"/>\n",
       "       <use xlink:href=\"#DejaVuSans-30\" x=\"63.623047\"/>\n",
       "       <use xlink:href=\"#DejaVuSans-30\" x=\"127.246094\"/>\n",
       "      </g>\n",
       "     </g>\n",
       "    </g>\n",
       "    <g id=\"xtick_5\">\n",
       "     <g id=\"line2d_5\">\n",
       "      <g>\n",
       "       <use xlink:href=\"#m3503861fcd\" x=\"472.151901\" y=\"239.758125\" style=\"stroke: #000000; stroke-width: 0.8\"/>\n",
       "      </g>\n",
       "     </g>\n",
       "     <g id=\"text_5\">\n",
       "      <!-- 200 -->\n",
       "      <g transform=\"translate(462.608151 254.356563)scale(0.1 -0.1)\">\n",
       "       <use xlink:href=\"#DejaVuSans-32\"/>\n",
       "       <use xlink:href=\"#DejaVuSans-30\" x=\"63.623047\"/>\n",
       "       <use xlink:href=\"#DejaVuSans-30\" x=\"127.246094\"/>\n",
       "      </g>\n",
       "     </g>\n",
       "    </g>\n",
       "    <g id=\"xtick_6\">\n",
       "     <g id=\"line2d_6\">\n",
       "      <g>\n",
       "       <use xlink:href=\"#m3503861fcd\" x=\"576.70754\" y=\"239.758125\" style=\"stroke: #000000; stroke-width: 0.8\"/>\n",
       "      </g>\n",
       "     </g>\n",
       "     <g id=\"text_6\">\n",
       "      <!-- 300 -->\n",
       "      <g transform=\"translate(567.16379 254.356563)scale(0.1 -0.1)\">\n",
       "       <defs>\n",
       "        <path id=\"DejaVuSans-33\" d=\"M 2597 2516 \n",
       "Q 3050 2419 3304 2112 \n",
       "Q 3559 1806 3559 1356 \n",
       "Q 3559 666 3084 287 \n",
       "Q 2609 -91 1734 -91 \n",
       "Q 1441 -91 1130 -33 \n",
       "Q 819 25 488 141 \n",
       "L 488 750 \n",
       "Q 750 597 1062 519 \n",
       "Q 1375 441 1716 441 \n",
       "Q 2309 441 2620 675 \n",
       "Q 2931 909 2931 1356 \n",
       "Q 2931 1769 2642 2001 \n",
       "Q 2353 2234 1838 2234 \n",
       "L 1294 2234 \n",
       "L 1294 2753 \n",
       "L 1863 2753 \n",
       "Q 2328 2753 2575 2939 \n",
       "Q 2822 3125 2822 3475 \n",
       "Q 2822 3834 2567 4026 \n",
       "Q 2313 4219 1838 4219 \n",
       "Q 1578 4219 1281 4162 \n",
       "Q 984 4106 628 3988 \n",
       "L 628 4550 \n",
       "Q 988 4650 1302 4700 \n",
       "Q 1616 4750 1894 4750 \n",
       "Q 2613 4750 3031 4423 \n",
       "Q 3450 4097 3450 3541 \n",
       "Q 3450 3153 3228 2886 \n",
       "Q 3006 2619 2597 2516 \n",
       "z\n",
       "\" transform=\"scale(0.015625)\"/>\n",
       "       </defs>\n",
       "       <use xlink:href=\"#DejaVuSans-33\"/>\n",
       "       <use xlink:href=\"#DejaVuSans-30\" x=\"63.623047\"/>\n",
       "       <use xlink:href=\"#DejaVuSans-30\" x=\"127.246094\"/>\n",
       "      </g>\n",
       "     </g>\n",
       "    </g>\n",
       "   </g>\n",
       "   <g id=\"matplotlib.axis_2\">\n",
       "    <g id=\"ytick_1\">\n",
       "     <g id=\"line2d_7\">\n",
       "      <defs>\n",
       "       <path id=\"m488fbea116\" d=\"M 0 0 \n",
       "L -3.5 0 \n",
       "\" style=\"stroke: #000000; stroke-width: 0.8\"/>\n",
       "      </defs>\n",
       "      <g>\n",
       "       <use xlink:href=\"#m488fbea116\" x=\"40.603125\" y=\"239.758125\" style=\"stroke: #000000; stroke-width: 0.8\"/>\n",
       "      </g>\n",
       "     </g>\n",
       "     <g id=\"text_7\">\n",
       "      <!-- 0 -->\n",
       "      <g transform=\"translate(27.240625 243.557344)scale(0.1 -0.1)\">\n",
       "       <use xlink:href=\"#DejaVuSans-30\"/>\n",
       "      </g>\n",
       "     </g>\n",
       "    </g>\n",
       "    <g id=\"ytick_2\">\n",
       "     <g id=\"line2d_8\">\n",
       "      <g>\n",
       "       <use xlink:href=\"#m488fbea116\" x=\"40.603125\" y=\"198.340982\" style=\"stroke: #000000; stroke-width: 0.8\"/>\n",
       "      </g>\n",
       "     </g>\n",
       "     <g id=\"text_8\">\n",
       "      <!-- 2 -->\n",
       "      <g transform=\"translate(27.240625 202.140201)scale(0.1 -0.1)\">\n",
       "       <use xlink:href=\"#DejaVuSans-32\"/>\n",
       "      </g>\n",
       "     </g>\n",
       "    </g>\n",
       "    <g id=\"ytick_3\">\n",
       "     <g id=\"line2d_9\">\n",
       "      <g>\n",
       "       <use xlink:href=\"#m488fbea116\" x=\"40.603125\" y=\"156.923839\" style=\"stroke: #000000; stroke-width: 0.8\"/>\n",
       "      </g>\n",
       "     </g>\n",
       "     <g id=\"text_9\">\n",
       "      <!-- 4 -->\n",
       "      <g transform=\"translate(27.240625 160.723058)scale(0.1 -0.1)\">\n",
       "       <defs>\n",
       "        <path id=\"DejaVuSans-34\" d=\"M 2419 4116 \n",
       "L 825 1625 \n",
       "L 2419 1625 \n",
       "L 2419 4116 \n",
       "z\n",
       "M 2253 4666 \n",
       "L 3047 4666 \n",
       "L 3047 1625 \n",
       "L 3713 1625 \n",
       "L 3713 1100 \n",
       "L 3047 1100 \n",
       "L 3047 0 \n",
       "L 2419 0 \n",
       "L 2419 1100 \n",
       "L 313 1100 \n",
       "L 313 1709 \n",
       "L 2253 4666 \n",
       "z\n",
       "\" transform=\"scale(0.015625)\"/>\n",
       "       </defs>\n",
       "       <use xlink:href=\"#DejaVuSans-34\"/>\n",
       "      </g>\n",
       "     </g>\n",
       "    </g>\n",
       "    <g id=\"ytick_4\">\n",
       "     <g id=\"line2d_10\">\n",
       "      <g>\n",
       "       <use xlink:href=\"#m488fbea116\" x=\"40.603125\" y=\"115.506696\" style=\"stroke: #000000; stroke-width: 0.8\"/>\n",
       "      </g>\n",
       "     </g>\n",
       "     <g id=\"text_10\">\n",
       "      <!-- 6 -->\n",
       "      <g transform=\"translate(27.240625 119.305915)scale(0.1 -0.1)\">\n",
       "       <defs>\n",
       "        <path id=\"DejaVuSans-36\" d=\"M 2113 2584 \n",
       "Q 1688 2584 1439 2293 \n",
       "Q 1191 2003 1191 1497 \n",
       "Q 1191 994 1439 701 \n",
       "Q 1688 409 2113 409 \n",
       "Q 2538 409 2786 701 \n",
       "Q 3034 994 3034 1497 \n",
       "Q 3034 2003 2786 2293 \n",
       "Q 2538 2584 2113 2584 \n",
       "z\n",
       "M 3366 4563 \n",
       "L 3366 3988 \n",
       "Q 3128 4100 2886 4159 \n",
       "Q 2644 4219 2406 4219 \n",
       "Q 1781 4219 1451 3797 \n",
       "Q 1122 3375 1075 2522 \n",
       "Q 1259 2794 1537 2939 \n",
       "Q 1816 3084 2150 3084 \n",
       "Q 2853 3084 3261 2657 \n",
       "Q 3669 2231 3669 1497 \n",
       "Q 3669 778 3244 343 \n",
       "Q 2819 -91 2113 -91 \n",
       "Q 1303 -91 875 529 \n",
       "Q 447 1150 447 2328 \n",
       "Q 447 3434 972 4092 \n",
       "Q 1497 4750 2381 4750 \n",
       "Q 2619 4750 2861 4703 \n",
       "Q 3103 4656 3366 4563 \n",
       "z\n",
       "\" transform=\"scale(0.015625)\"/>\n",
       "       </defs>\n",
       "       <use xlink:href=\"#DejaVuSans-36\"/>\n",
       "      </g>\n",
       "     </g>\n",
       "    </g>\n",
       "    <g id=\"ytick_5\">\n",
       "     <g id=\"line2d_11\">\n",
       "      <g>\n",
       "       <use xlink:href=\"#m488fbea116\" x=\"40.603125\" y=\"74.089554\" style=\"stroke: #000000; stroke-width: 0.8\"/>\n",
       "      </g>\n",
       "     </g>\n",
       "     <g id=\"text_11\">\n",
       "      <!-- 8 -->\n",
       "      <g transform=\"translate(27.240625 77.888772)scale(0.1 -0.1)\">\n",
       "       <defs>\n",
       "        <path id=\"DejaVuSans-38\" d=\"M 2034 2216 \n",
       "Q 1584 2216 1326 1975 \n",
       "Q 1069 1734 1069 1313 \n",
       "Q 1069 891 1326 650 \n",
       "Q 1584 409 2034 409 \n",
       "Q 2484 409 2743 651 \n",
       "Q 3003 894 3003 1313 \n",
       "Q 3003 1734 2745 1975 \n",
       "Q 2488 2216 2034 2216 \n",
       "z\n",
       "M 1403 2484 \n",
       "Q 997 2584 770 2862 \n",
       "Q 544 3141 544 3541 \n",
       "Q 544 4100 942 4425 \n",
       "Q 1341 4750 2034 4750 \n",
       "Q 2731 4750 3128 4425 \n",
       "Q 3525 4100 3525 3541 \n",
       "Q 3525 3141 3298 2862 \n",
       "Q 3072 2584 2669 2484 \n",
       "Q 3125 2378 3379 2068 \n",
       "Q 3634 1759 3634 1313 \n",
       "Q 3634 634 3220 271 \n",
       "Q 2806 -91 2034 -91 \n",
       "Q 1263 -91 848 271 \n",
       "Q 434 634 434 1313 \n",
       "Q 434 1759 690 2068 \n",
       "Q 947 2378 1403 2484 \n",
       "z\n",
       "M 1172 3481 \n",
       "Q 1172 3119 1398 2916 \n",
       "Q 1625 2713 2034 2713 \n",
       "Q 2441 2713 2670 2916 \n",
       "Q 2900 3119 2900 3481 \n",
       "Q 2900 3844 2670 4047 \n",
       "Q 2441 4250 2034 4250 \n",
       "Q 1625 4250 1398 4047 \n",
       "Q 1172 3844 1172 3481 \n",
       "z\n",
       "\" transform=\"scale(0.015625)\"/>\n",
       "       </defs>\n",
       "       <use xlink:href=\"#DejaVuSans-38\"/>\n",
       "      </g>\n",
       "     </g>\n",
       "    </g>\n",
       "    <g id=\"ytick_6\">\n",
       "     <g id=\"line2d_12\">\n",
       "      <g>\n",
       "       <use xlink:href=\"#m488fbea116\" x=\"40.603125\" y=\"32.672411\" style=\"stroke: #000000; stroke-width: 0.8\"/>\n",
       "      </g>\n",
       "     </g>\n",
       "     <g id=\"text_12\">\n",
       "      <!-- 10 -->\n",
       "      <g transform=\"translate(20.878125 36.471629)scale(0.1 -0.1)\">\n",
       "       <use xlink:href=\"#DejaVuSans-31\"/>\n",
       "       <use xlink:href=\"#DejaVuSans-30\" x=\"63.623047\"/>\n",
       "      </g>\n",
       "     </g>\n",
       "    </g>\n",
       "    <g id=\"text_13\">\n",
       "     <!-- Frequency -->\n",
       "     <g transform=\"translate(14.798437 156.867813)rotate(-90)scale(0.1 -0.1)\">\n",
       "      <defs>\n",
       "       <path id=\"DejaVuSans-46\" d=\"M 628 4666 \n",
       "L 3309 4666 \n",
       "L 3309 4134 \n",
       "L 1259 4134 \n",
       "L 1259 2759 \n",
       "L 3109 2759 \n",
       "L 3109 2228 \n",
       "L 1259 2228 \n",
       "L 1259 0 \n",
       "L 628 0 \n",
       "L 628 4666 \n",
       "z\n",
       "\" transform=\"scale(0.015625)\"/>\n",
       "       <path id=\"DejaVuSans-72\" d=\"M 2631 2963 \n",
       "Q 2534 3019 2420 3045 \n",
       "Q 2306 3072 2169 3072 \n",
       "Q 1681 3072 1420 2755 \n",
       "Q 1159 2438 1159 1844 \n",
       "L 1159 0 \n",
       "L 581 0 \n",
       "L 581 3500 \n",
       "L 1159 3500 \n",
       "L 1159 2956 \n",
       "Q 1341 3275 1631 3429 \n",
       "Q 1922 3584 2338 3584 \n",
       "Q 2397 3584 2469 3576 \n",
       "Q 2541 3569 2628 3553 \n",
       "L 2631 2963 \n",
       "z\n",
       "\" transform=\"scale(0.015625)\"/>\n",
       "       <path id=\"DejaVuSans-65\" d=\"M 3597 1894 \n",
       "L 3597 1613 \n",
       "L 953 1613 \n",
       "Q 991 1019 1311 708 \n",
       "Q 1631 397 2203 397 \n",
       "Q 2534 397 2845 478 \n",
       "Q 3156 559 3463 722 \n",
       "L 3463 178 \n",
       "Q 3153 47 2828 -22 \n",
       "Q 2503 -91 2169 -91 \n",
       "Q 1331 -91 842 396 \n",
       "Q 353 884 353 1716 \n",
       "Q 353 2575 817 3079 \n",
       "Q 1281 3584 2069 3584 \n",
       "Q 2775 3584 3186 3129 \n",
       "Q 3597 2675 3597 1894 \n",
       "z\n",
       "M 3022 2063 \n",
       "Q 3016 2534 2758 2815 \n",
       "Q 2500 3097 2075 3097 \n",
       "Q 1594 3097 1305 2825 \n",
       "Q 1016 2553 972 2059 \n",
       "L 3022 2063 \n",
       "z\n",
       "\" transform=\"scale(0.015625)\"/>\n",
       "       <path id=\"DejaVuSans-71\" d=\"M 947 1747 \n",
       "Q 947 1113 1208 752 \n",
       "Q 1469 391 1925 391 \n",
       "Q 2381 391 2643 752 \n",
       "Q 2906 1113 2906 1747 \n",
       "Q 2906 2381 2643 2742 \n",
       "Q 2381 3103 1925 3103 \n",
       "Q 1469 3103 1208 2742 \n",
       "Q 947 2381 947 1747 \n",
       "z\n",
       "M 2906 525 \n",
       "Q 2725 213 2448 61 \n",
       "Q 2172 -91 1784 -91 \n",
       "Q 1150 -91 751 415 \n",
       "Q 353 922 353 1747 \n",
       "Q 353 2572 751 3078 \n",
       "Q 1150 3584 1784 3584 \n",
       "Q 2172 3584 2448 3432 \n",
       "Q 2725 3281 2906 2969 \n",
       "L 2906 3500 \n",
       "L 3481 3500 \n",
       "L 3481 -1331 \n",
       "L 2906 -1331 \n",
       "L 2906 525 \n",
       "z\n",
       "\" transform=\"scale(0.015625)\"/>\n",
       "       <path id=\"DejaVuSans-75\" d=\"M 544 1381 \n",
       "L 544 3500 \n",
       "L 1119 3500 \n",
       "L 1119 1403 \n",
       "Q 1119 906 1312 657 \n",
       "Q 1506 409 1894 409 \n",
       "Q 2359 409 2629 706 \n",
       "Q 2900 1003 2900 1516 \n",
       "L 2900 3500 \n",
       "L 3475 3500 \n",
       "L 3475 0 \n",
       "L 2900 0 \n",
       "L 2900 538 \n",
       "Q 2691 219 2414 64 \n",
       "Q 2138 -91 1772 -91 \n",
       "Q 1169 -91 856 284 \n",
       "Q 544 659 544 1381 \n",
       "z\n",
       "M 1991 3584 \n",
       "L 1991 3584 \n",
       "z\n",
       "\" transform=\"scale(0.015625)\"/>\n",
       "       <path id=\"DejaVuSans-6e\" d=\"M 3513 2113 \n",
       "L 3513 0 \n",
       "L 2938 0 \n",
       "L 2938 2094 \n",
       "Q 2938 2591 2744 2837 \n",
       "Q 2550 3084 2163 3084 \n",
       "Q 1697 3084 1428 2787 \n",
       "Q 1159 2491 1159 1978 \n",
       "L 1159 0 \n",
       "L 581 0 \n",
       "L 581 3500 \n",
       "L 1159 3500 \n",
       "L 1159 2956 \n",
       "Q 1366 3272 1645 3428 \n",
       "Q 1925 3584 2291 3584 \n",
       "Q 2894 3584 3203 3211 \n",
       "Q 3513 2838 3513 2113 \n",
       "z\n",
       "\" transform=\"scale(0.015625)\"/>\n",
       "       <path id=\"DejaVuSans-63\" d=\"M 3122 3366 \n",
       "L 3122 2828 \n",
       "Q 2878 2963 2633 3030 \n",
       "Q 2388 3097 2138 3097 \n",
       "Q 1578 3097 1268 2742 \n",
       "Q 959 2388 959 1747 \n",
       "Q 959 1106 1268 751 \n",
       "Q 1578 397 2138 397 \n",
       "Q 2388 397 2633 464 \n",
       "Q 2878 531 3122 666 \n",
       "L 3122 134 \n",
       "Q 2881 22 2623 -34 \n",
       "Q 2366 -91 2075 -91 \n",
       "Q 1284 -91 818 406 \n",
       "Q 353 903 353 1747 \n",
       "Q 353 2603 823 3093 \n",
       "Q 1294 3584 2113 3584 \n",
       "Q 2378 3584 2631 3529 \n",
       "Q 2884 3475 3122 3366 \n",
       "z\n",
       "\" transform=\"scale(0.015625)\"/>\n",
       "       <path id=\"DejaVuSans-79\" d=\"M 2059 -325 \n",
       "Q 1816 -950 1584 -1140 \n",
       "Q 1353 -1331 966 -1331 \n",
       "L 506 -1331 \n",
       "L 506 -850 \n",
       "L 844 -850 \n",
       "Q 1081 -850 1212 -737 \n",
       "Q 1344 -625 1503 -206 \n",
       "L 1606 56 \n",
       "L 191 3500 \n",
       "L 800 3500 \n",
       "L 1894 763 \n",
       "L 2988 3500 \n",
       "L 3597 3500 \n",
       "L 2059 -325 \n",
       "z\n",
       "\" transform=\"scale(0.015625)\"/>\n",
       "      </defs>\n",
       "      <use xlink:href=\"#DejaVuSans-46\"/>\n",
       "      <use xlink:href=\"#DejaVuSans-72\" x=\"50.269531\"/>\n",
       "      <use xlink:href=\"#DejaVuSans-65\" x=\"89.132812\"/>\n",
       "      <use xlink:href=\"#DejaVuSans-71\" x=\"150.65625\"/>\n",
       "      <use xlink:href=\"#DejaVuSans-75\" x=\"214.132812\"/>\n",
       "      <use xlink:href=\"#DejaVuSans-65\" x=\"277.511719\"/>\n",
       "      <use xlink:href=\"#DejaVuSans-6e\" x=\"339.035156\"/>\n",
       "      <use xlink:href=\"#DejaVuSans-63\" x=\"402.414062\"/>\n",
       "      <use xlink:href=\"#DejaVuSans-79\" x=\"457.394531\"/>\n",
       "     </g>\n",
       "    </g>\n",
       "   </g>\n",
       "   <g id=\"patch_103\">\n",
       "    <path d=\"M 40.603125 239.758125 \n",
       "L 40.603125 22.318125 \n",
       "\" style=\"fill: none; stroke: #000000; stroke-width: 0.8; stroke-linejoin: miter; stroke-linecap: square\"/>\n",
       "   </g>\n",
       "   <g id=\"patch_104\">\n",
       "    <path d=\"M 598.603125 239.758125 \n",
       "L 598.603125 22.318125 \n",
       "\" style=\"fill: none; stroke: #000000; stroke-width: 0.8; stroke-linejoin: miter; stroke-linecap: square\"/>\n",
       "   </g>\n",
       "   <g id=\"patch_105\">\n",
       "    <path d=\"M 40.603125 239.758125 \n",
       "L 598.603125 239.758125 \n",
       "\" style=\"fill: none; stroke: #000000; stroke-width: 0.8; stroke-linejoin: miter; stroke-linecap: square\"/>\n",
       "   </g>\n",
       "   <g id=\"patch_106\">\n",
       "    <path d=\"M 40.603125 22.318125 \n",
       "L 598.603125 22.318125 \n",
       "\" style=\"fill: none; stroke: #000000; stroke-width: 0.8; stroke-linejoin: miter; stroke-linecap: square\"/>\n",
       "   </g>\n",
       "   <g id=\"text_14\">\n",
       "    <!-- Rewards -->\n",
       "    <g transform=\"translate(294.132187 16.318125)scale(0.12 -0.12)\">\n",
       "     <defs>\n",
       "      <path id=\"DejaVuSans-52\" d=\"M 2841 2188 \n",
       "Q 3044 2119 3236 1894 \n",
       "Q 3428 1669 3622 1275 \n",
       "L 4263 0 \n",
       "L 3584 0 \n",
       "L 2988 1197 \n",
       "Q 2756 1666 2539 1819 \n",
       "Q 2322 1972 1947 1972 \n",
       "L 1259 1972 \n",
       "L 1259 0 \n",
       "L 628 0 \n",
       "L 628 4666 \n",
       "L 2053 4666 \n",
       "Q 2853 4666 3247 4331 \n",
       "Q 3641 3997 3641 3322 \n",
       "Q 3641 2881 3436 2590 \n",
       "Q 3231 2300 2841 2188 \n",
       "z\n",
       "M 1259 4147 \n",
       "L 1259 2491 \n",
       "L 2053 2491 \n",
       "Q 2509 2491 2742 2702 \n",
       "Q 2975 2913 2975 3322 \n",
       "Q 2975 3731 2742 3939 \n",
       "Q 2509 4147 2053 4147 \n",
       "L 1259 4147 \n",
       "z\n",
       "\" transform=\"scale(0.015625)\"/>\n",
       "      <path id=\"DejaVuSans-77\" d=\"M 269 3500 \n",
       "L 844 3500 \n",
       "L 1563 769 \n",
       "L 2278 3500 \n",
       "L 2956 3500 \n",
       "L 3675 769 \n",
       "L 4391 3500 \n",
       "L 4966 3500 \n",
       "L 4050 0 \n",
       "L 3372 0 \n",
       "L 2619 2869 \n",
       "L 1863 0 \n",
       "L 1184 0 \n",
       "L 269 3500 \n",
       "z\n",
       "\" transform=\"scale(0.015625)\"/>\n",
       "      <path id=\"DejaVuSans-61\" d=\"M 2194 1759 \n",
       "Q 1497 1759 1228 1600 \n",
       "Q 959 1441 959 1056 \n",
       "Q 959 750 1161 570 \n",
       "Q 1363 391 1709 391 \n",
       "Q 2188 391 2477 730 \n",
       "Q 2766 1069 2766 1631 \n",
       "L 2766 1759 \n",
       "L 2194 1759 \n",
       "z\n",
       "M 3341 1997 \n",
       "L 3341 0 \n",
       "L 2766 0 \n",
       "L 2766 531 \n",
       "Q 2569 213 2275 61 \n",
       "Q 1981 -91 1556 -91 \n",
       "Q 1019 -91 701 211 \n",
       "Q 384 513 384 1019 \n",
       "Q 384 1609 779 1909 \n",
       "Q 1175 2209 1959 2209 \n",
       "L 2766 2209 \n",
       "L 2766 2266 \n",
       "Q 2766 2663 2505 2880 \n",
       "Q 2244 3097 1772 3097 \n",
       "Q 1472 3097 1187 3025 \n",
       "Q 903 2953 641 2809 \n",
       "L 641 3341 \n",
       "Q 956 3463 1253 3523 \n",
       "Q 1550 3584 1831 3584 \n",
       "Q 2591 3584 2966 3190 \n",
       "Q 3341 2797 3341 1997 \n",
       "z\n",
       "\" transform=\"scale(0.015625)\"/>\n",
       "      <path id=\"DejaVuSans-64\" d=\"M 2906 2969 \n",
       "L 2906 4863 \n",
       "L 3481 4863 \n",
       "L 3481 0 \n",
       "L 2906 0 \n",
       "L 2906 525 \n",
       "Q 2725 213 2448 61 \n",
       "Q 2172 -91 1784 -91 \n",
       "Q 1150 -91 751 415 \n",
       "Q 353 922 353 1747 \n",
       "Q 353 2572 751 3078 \n",
       "Q 1150 3584 1784 3584 \n",
       "Q 2172 3584 2448 3432 \n",
       "Q 2725 3281 2906 2969 \n",
       "z\n",
       "M 947 1747 \n",
       "Q 947 1113 1208 752 \n",
       "Q 1469 391 1925 391 \n",
       "Q 2381 391 2643 752 \n",
       "Q 2906 1113 2906 1747 \n",
       "Q 2906 2381 2643 2742 \n",
       "Q 2381 3103 1925 3103 \n",
       "Q 1469 3103 1208 2742 \n",
       "Q 947 2381 947 1747 \n",
       "z\n",
       "\" transform=\"scale(0.015625)\"/>\n",
       "      <path id=\"DejaVuSans-73\" d=\"M 2834 3397 \n",
       "L 2834 2853 \n",
       "Q 2591 2978 2328 3040 \n",
       "Q 2066 3103 1784 3103 \n",
       "Q 1356 3103 1142 2972 \n",
       "Q 928 2841 928 2578 \n",
       "Q 928 2378 1081 2264 \n",
       "Q 1234 2150 1697 2047 \n",
       "L 1894 2003 \n",
       "Q 2506 1872 2764 1633 \n",
       "Q 3022 1394 3022 966 \n",
       "Q 3022 478 2636 193 \n",
       "Q 2250 -91 1575 -91 \n",
       "Q 1294 -91 989 -36 \n",
       "Q 684 19 347 128 \n",
       "L 347 722 \n",
       "Q 666 556 975 473 \n",
       "Q 1284 391 1588 391 \n",
       "Q 1994 391 2212 530 \n",
       "Q 2431 669 2431 922 \n",
       "Q 2431 1156 2273 1281 \n",
       "Q 2116 1406 1581 1522 \n",
       "L 1381 1569 \n",
       "Q 847 1681 609 1914 \n",
       "Q 372 2147 372 2553 \n",
       "Q 372 3047 722 3315 \n",
       "Q 1072 3584 1716 3584 \n",
       "Q 2034 3584 2315 3537 \n",
       "Q 2597 3491 2834 3397 \n",
       "z\n",
       "\" transform=\"scale(0.015625)\"/>\n",
       "     </defs>\n",
       "     <use xlink:href=\"#DejaVuSans-52\"/>\n",
       "     <use xlink:href=\"#DejaVuSans-65\" x=\"64.982422\"/>\n",
       "     <use xlink:href=\"#DejaVuSans-77\" x=\"126.505859\"/>\n",
       "     <use xlink:href=\"#DejaVuSans-61\" x=\"208.292969\"/>\n",
       "     <use xlink:href=\"#DejaVuSans-72\" x=\"269.572266\"/>\n",
       "     <use xlink:href=\"#DejaVuSans-64\" x=\"308.935547\"/>\n",
       "     <use xlink:href=\"#DejaVuSans-73\" x=\"372.412109\"/>\n",
       "    </g>\n",
       "   </g>\n",
       "  </g>\n",
       " </g>\n",
       " <defs>\n",
       "  <clipPath id=\"paa1361496c\">\n",
       "   <rect x=\"40.603125\" y=\"22.318125\" width=\"558\" height=\"217.44\"/>\n",
       "  </clipPath>\n",
       " </defs>\n",
       "</svg>\n"
      ],
      "text/plain": [
       "<Figure size 720x288 with 1 Axes>"
      ]
     },
     "metadata": {
      "needs_background": "light"
     },
     "output_type": "display_data"
    }
   ],
   "source": [
    "import matplotlib.pyplot as plt\n",
    "import pandas as pd\n",
    "\n",
    "fig, ax = plt.subplots(figsize = (10, 4))\n",
    "ax.set_title(\"Rewards\")    \n",
    "pd.Series(rewards).plot(kind='hist', bins=100)\n",
    "\n",
    "plt.show()"
   ]
  },
  {
   "cell_type": "markdown",
   "id": "bcbf6d1d",
   "metadata": {},
   "source": [
    "## Let's see our agent in action 🎬"
   ]
  },
  {
   "cell_type": "code",
   "execution_count": 94,
   "id": "de569e48",
   "metadata": {},
   "outputs": [
    {
     "data": {
      "image/svg+xml": [
       "<?xml version=\"1.0\" encoding=\"utf-8\" standalone=\"no\"?>\n",
       "<!DOCTYPE svg PUBLIC \"-//W3C//DTD SVG 1.1//EN\"\n",
       "  \"http://www.w3.org/Graphics/SVG/1.1/DTD/svg11.dtd\">\n",
       "<svg xmlns:xlink=\"http://www.w3.org/1999/xlink\" width=\"464.3pt\" height=\"343.79625pt\" viewBox=\"0 0 464.3 343.79625\" xmlns=\"http://www.w3.org/2000/svg\" version=\"1.1\">\n",
       " <metadata>\n",
       "  <rdf:RDF xmlns:dc=\"http://purl.org/dc/elements/1.1/\" xmlns:cc=\"http://creativecommons.org/ns#\" xmlns:rdf=\"http://www.w3.org/1999/02/22-rdf-syntax-ns#\">\n",
       "   <cc:Work>\n",
       "    <dc:type rdf:resource=\"http://purl.org/dc/dcmitype/StillImage\"/>\n",
       "    <dc:date>2022-04-22T13:20:36.759453</dc:date>\n",
       "    <dc:format>image/svg+xml</dc:format>\n",
       "    <dc:creator>\n",
       "     <cc:Agent>\n",
       "      <dc:title>Matplotlib v3.5.1, https://matplotlib.org/</dc:title>\n",
       "     </cc:Agent>\n",
       "    </dc:creator>\n",
       "   </cc:Work>\n",
       "  </rdf:RDF>\n",
       " </metadata>\n",
       " <defs>\n",
       "  <style type=\"text/css\">*{stroke-linejoin: round; stroke-linecap: butt}</style>\n",
       " </defs>\n",
       " <g id=\"figure_1\">\n",
       "  <g id=\"patch_1\">\n",
       "   <path d=\"M 0 343.79625 \n",
       "L 464.3 343.79625 \n",
       "L 464.3 0 \n",
       "L 0 0 \n",
       "L 0 343.79625 \n",
       "z\n",
       "\" style=\"fill: none\"/>\n",
       "  </g>\n",
       "  <g id=\"axes_1\">\n",
       "   <g id=\"patch_2\">\n",
       "    <path d=\"M 10.7 319.918125 \n",
       "L 457.1 319.918125 \n",
       "L 457.1 22.318125 \n",
       "L 10.7 22.318125 \n",
       "z\n",
       "\" style=\"fill: #ffffff\"/>\n",
       "   </g>\n",
       "   <g clip-path=\"url(#p348437e059)\">\n",
       "    <image xlink:href=\"data:image/png;base64,\n",
       "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\" id=\"image10939756c0\" transform=\"scale(1 -1)translate(0 -298)\" x=\"10.7\" y=\"-21.918125\" width=\"447\" height=\"298\"/>\n",
       "   </g>\n",
       "   <g id=\"matplotlib.axis_1\">\n",
       "    <g id=\"xtick_1\">\n",
       "     <g id=\"line2d_1\">\n",
       "      <defs>\n",
       "       <path id=\"m38b2036b7e\" d=\"M 0 0 \n",
       "L 0 3.5 \n",
       "\" style=\"stroke: #000000; stroke-width: 0.8\"/>\n",
       "      </defs>\n",
       "      <g>\n",
       "       <use xlink:href=\"#m38b2036b7e\" x=\"10.886\" y=\"319.918125\" style=\"stroke: #000000; stroke-width: 0.8\"/>\n",
       "      </g>\n",
       "     </g>\n",
       "     <g id=\"text_1\">\n",
       "      <!-- 0 -->\n",
       "      <g transform=\"translate(7.70475 334.516562)scale(0.1 -0.1)\">\n",
       "       <defs>\n",
       "        <path id=\"DejaVuSans-30\" d=\"M 2034 4250 \n",
       "Q 1547 4250 1301 3770 \n",
       "Q 1056 3291 1056 2328 \n",
       "Q 1056 1369 1301 889 \n",
       "Q 1547 409 2034 409 \n",
       "Q 2525 409 2770 889 \n",
       "Q 3016 1369 3016 2328 \n",
       "Q 3016 3291 2770 3770 \n",
       "Q 2525 4250 2034 4250 \n",
       "z\n",
       "M 2034 4750 \n",
       "Q 2819 4750 3233 4129 \n",
       "Q 3647 3509 3647 2328 \n",
       "Q 3647 1150 3233 529 \n",
       "Q 2819 -91 2034 -91 \n",
       "Q 1250 -91 836 529 \n",
       "Q 422 1150 422 2328 \n",
       "Q 422 3509 836 4129 \n",
       "Q 1250 4750 2034 4750 \n",
       "z\n",
       "\" transform=\"scale(0.015625)\"/>\n",
       "       </defs>\n",
       "       <use xlink:href=\"#DejaVuSans-30\"/>\n",
       "      </g>\n",
       "     </g>\n",
       "    </g>\n",
       "    <g id=\"xtick_2\">\n",
       "     <g id=\"line2d_2\">\n",
       "      <g>\n",
       "       <use xlink:href=\"#m38b2036b7e\" x=\"85.286\" y=\"319.918125\" style=\"stroke: #000000; stroke-width: 0.8\"/>\n",
       "      </g>\n",
       "     </g>\n",
       "     <g id=\"text_2\">\n",
       "      <!-- 200 -->\n",
       "      <g transform=\"translate(75.74225 334.516562)scale(0.1 -0.1)\">\n",
       "       <defs>\n",
       "        <path id=\"DejaVuSans-32\" d=\"M 1228 531 \n",
       "L 3431 531 \n",
       "L 3431 0 \n",
       "L 469 0 \n",
       "L 469 531 \n",
       "Q 828 903 1448 1529 \n",
       "Q 2069 2156 2228 2338 \n",
       "Q 2531 2678 2651 2914 \n",
       "Q 2772 3150 2772 3378 \n",
       "Q 2772 3750 2511 3984 \n",
       "Q 2250 4219 1831 4219 \n",
       "Q 1534 4219 1204 4116 \n",
       "Q 875 4013 500 3803 \n",
       "L 500 4441 \n",
       "Q 881 4594 1212 4672 \n",
       "Q 1544 4750 1819 4750 \n",
       "Q 2544 4750 2975 4387 \n",
       "Q 3406 4025 3406 3419 \n",
       "Q 3406 3131 3298 2873 \n",
       "Q 3191 2616 2906 2266 \n",
       "Q 2828 2175 2409 1742 \n",
       "Q 1991 1309 1228 531 \n",
       "z\n",
       "\" transform=\"scale(0.015625)\"/>\n",
       "       </defs>\n",
       "       <use xlink:href=\"#DejaVuSans-32\"/>\n",
       "       <use xlink:href=\"#DejaVuSans-30\" x=\"63.623047\"/>\n",
       "       <use xlink:href=\"#DejaVuSans-30\" x=\"127.246094\"/>\n",
       "      </g>\n",
       "     </g>\n",
       "    </g>\n",
       "    <g id=\"xtick_3\">\n",
       "     <g id=\"line2d_3\">\n",
       "      <g>\n",
       "       <use xlink:href=\"#m38b2036b7e\" x=\"159.686\" y=\"319.918125\" style=\"stroke: #000000; stroke-width: 0.8\"/>\n",
       "      </g>\n",
       "     </g>\n",
       "     <g id=\"text_3\">\n",
       "      <!-- 400 -->\n",
       "      <g transform=\"translate(150.14225 334.516562)scale(0.1 -0.1)\">\n",
       "       <defs>\n",
       "        <path id=\"DejaVuSans-34\" d=\"M 2419 4116 \n",
       "L 825 1625 \n",
       "L 2419 1625 \n",
       "L 2419 4116 \n",
       "z\n",
       "M 2253 4666 \n",
       "L 3047 4666 \n",
       "L 3047 1625 \n",
       "L 3713 1625 \n",
       "L 3713 1100 \n",
       "L 3047 1100 \n",
       "L 3047 0 \n",
       "L 2419 0 \n",
       "L 2419 1100 \n",
       "L 313 1100 \n",
       "L 313 1709 \n",
       "L 2253 4666 \n",
       "z\n",
       "\" transform=\"scale(0.015625)\"/>\n",
       "       </defs>\n",
       "       <use xlink:href=\"#DejaVuSans-34\"/>\n",
       "       <use xlink:href=\"#DejaVuSans-30\" x=\"63.623047\"/>\n",
       "       <use xlink:href=\"#DejaVuSans-30\" x=\"127.246094\"/>\n",
       "      </g>\n",
       "     </g>\n",
       "    </g>\n",
       "    <g id=\"xtick_4\">\n",
       "     <g id=\"line2d_4\">\n",
       "      <g>\n",
       "       <use xlink:href=\"#m38b2036b7e\" x=\"234.086\" y=\"319.918125\" style=\"stroke: #000000; stroke-width: 0.8\"/>\n",
       "      </g>\n",
       "     </g>\n",
       "     <g id=\"text_4\">\n",
       "      <!-- 600 -->\n",
       "      <g transform=\"translate(224.54225 334.516562)scale(0.1 -0.1)\">\n",
       "       <defs>\n",
       "        <path id=\"DejaVuSans-36\" d=\"M 2113 2584 \n",
       "Q 1688 2584 1439 2293 \n",
       "Q 1191 2003 1191 1497 \n",
       "Q 1191 994 1439 701 \n",
       "Q 1688 409 2113 409 \n",
       "Q 2538 409 2786 701 \n",
       "Q 3034 994 3034 1497 \n",
       "Q 3034 2003 2786 2293 \n",
       "Q 2538 2584 2113 2584 \n",
       "z\n",
       "M 3366 4563 \n",
       "L 3366 3988 \n",
       "Q 3128 4100 2886 4159 \n",
       "Q 2644 4219 2406 4219 \n",
       "Q 1781 4219 1451 3797 \n",
       "Q 1122 3375 1075 2522 \n",
       "Q 1259 2794 1537 2939 \n",
       "Q 1816 3084 2150 3084 \n",
       "Q 2853 3084 3261 2657 \n",
       "Q 3669 2231 3669 1497 \n",
       "Q 3669 778 3244 343 \n",
       "Q 2819 -91 2113 -91 \n",
       "Q 1303 -91 875 529 \n",
       "Q 447 1150 447 2328 \n",
       "Q 447 3434 972 4092 \n",
       "Q 1497 4750 2381 4750 \n",
       "Q 2619 4750 2861 4703 \n",
       "Q 3103 4656 3366 4563 \n",
       "z\n",
       "\" transform=\"scale(0.015625)\"/>\n",
       "       </defs>\n",
       "       <use xlink:href=\"#DejaVuSans-36\"/>\n",
       "       <use xlink:href=\"#DejaVuSans-30\" x=\"63.623047\"/>\n",
       "       <use xlink:href=\"#DejaVuSans-30\" x=\"127.246094\"/>\n",
       "      </g>\n",
       "     </g>\n",
       "    </g>\n",
       "    <g id=\"xtick_5\">\n",
       "     <g id=\"line2d_5\">\n",
       "      <g>\n",
       "       <use xlink:href=\"#m38b2036b7e\" x=\"308.486\" y=\"319.918125\" style=\"stroke: #000000; stroke-width: 0.8\"/>\n",
       "      </g>\n",
       "     </g>\n",
       "     <g id=\"text_5\">\n",
       "      <!-- 800 -->\n",
       "      <g transform=\"translate(298.94225 334.516562)scale(0.1 -0.1)\">\n",
       "       <defs>\n",
       "        <path id=\"DejaVuSans-38\" d=\"M 2034 2216 \n",
       "Q 1584 2216 1326 1975 \n",
       "Q 1069 1734 1069 1313 \n",
       "Q 1069 891 1326 650 \n",
       "Q 1584 409 2034 409 \n",
       "Q 2484 409 2743 651 \n",
       "Q 3003 894 3003 1313 \n",
       "Q 3003 1734 2745 1975 \n",
       "Q 2488 2216 2034 2216 \n",
       "z\n",
       "M 1403 2484 \n",
       "Q 997 2584 770 2862 \n",
       "Q 544 3141 544 3541 \n",
       "Q 544 4100 942 4425 \n",
       "Q 1341 4750 2034 4750 \n",
       "Q 2731 4750 3128 4425 \n",
       "Q 3525 4100 3525 3541 \n",
       "Q 3525 3141 3298 2862 \n",
       "Q 3072 2584 2669 2484 \n",
       "Q 3125 2378 3379 2068 \n",
       "Q 3634 1759 3634 1313 \n",
       "Q 3634 634 3220 271 \n",
       "Q 2806 -91 2034 -91 \n",
       "Q 1263 -91 848 271 \n",
       "Q 434 634 434 1313 \n",
       "Q 434 1759 690 2068 \n",
       "Q 947 2378 1403 2484 \n",
       "z\n",
       "M 1172 3481 \n",
       "Q 1172 3119 1398 2916 \n",
       "Q 1625 2713 2034 2713 \n",
       "Q 2441 2713 2670 2916 \n",
       "Q 2900 3119 2900 3481 \n",
       "Q 2900 3844 2670 4047 \n",
       "Q 2441 4250 2034 4250 \n",
       "Q 1625 4250 1398 4047 \n",
       "Q 1172 3844 1172 3481 \n",
       "z\n",
       "\" transform=\"scale(0.015625)\"/>\n",
       "       </defs>\n",
       "       <use xlink:href=\"#DejaVuSans-38\"/>\n",
       "       <use xlink:href=\"#DejaVuSans-30\" x=\"63.623047\"/>\n",
       "       <use xlink:href=\"#DejaVuSans-30\" x=\"127.246094\"/>\n",
       "      </g>\n",
       "     </g>\n",
       "    </g>\n",
       "    <g id=\"xtick_6\">\n",
       "     <g id=\"line2d_6\">\n",
       "      <g>\n",
       "       <use xlink:href=\"#m38b2036b7e\" x=\"382.886\" y=\"319.918125\" style=\"stroke: #000000; stroke-width: 0.8\"/>\n",
       "      </g>\n",
       "     </g>\n",
       "     <g id=\"text_6\">\n",
       "      <!-- 1000 -->\n",
       "      <g transform=\"translate(370.161 334.516562)scale(0.1 -0.1)\">\n",
       "       <defs>\n",
       "        <path id=\"DejaVuSans-31\" d=\"M 794 531 \n",
       "L 1825 531 \n",
       "L 1825 4091 \n",
       "L 703 3866 \n",
       "L 703 4441 \n",
       "L 1819 4666 \n",
       "L 2450 4666 \n",
       "L 2450 531 \n",
       "L 3481 531 \n",
       "L 3481 0 \n",
       "L 794 0 \n",
       "L 794 531 \n",
       "z\n",
       "\" transform=\"scale(0.015625)\"/>\n",
       "       </defs>\n",
       "       <use xlink:href=\"#DejaVuSans-31\"/>\n",
       "       <use xlink:href=\"#DejaVuSans-30\" x=\"63.623047\"/>\n",
       "       <use xlink:href=\"#DejaVuSans-30\" x=\"127.246094\"/>\n",
       "       <use xlink:href=\"#DejaVuSans-30\" x=\"190.869141\"/>\n",
       "      </g>\n",
       "     </g>\n",
       "    </g>\n",
       "   </g>\n",
       "   <g id=\"patch_3\">\n",
       "    <path d=\"M 10.7 319.918125 \n",
       "L 10.7 22.318125 \n",
       "\" style=\"fill: none; stroke: #000000; stroke-width: 0.8; stroke-linejoin: miter; stroke-linecap: square\"/>\n",
       "   </g>\n",
       "   <g id=\"patch_4\">\n",
       "    <path d=\"M 457.1 319.918125 \n",
       "L 457.1 22.318125 \n",
       "\" style=\"fill: none; stroke: #000000; stroke-width: 0.8; stroke-linejoin: miter; stroke-linecap: square\"/>\n",
       "   </g>\n",
       "   <g id=\"patch_5\">\n",
       "    <path d=\"M 10.7 319.918125 \n",
       "L 457.1 319.918125 \n",
       "\" style=\"fill: none; stroke: #000000; stroke-width: 0.8; stroke-linejoin: miter; stroke-linecap: square\"/>\n",
       "   </g>\n",
       "   <g id=\"patch_6\">\n",
       "    <path d=\"M 10.7 22.318125 \n",
       "L 457.1 22.318125 \n",
       "\" style=\"fill: none; stroke: #000000; stroke-width: 0.8; stroke-linejoin: miter; stroke-linecap: square\"/>\n",
       "   </g>\n",
       "   <g id=\"text_7\">\n",
       "    <!-- Steps: 337 -->\n",
       "    <g transform=\"translate(201.731562 16.318125)scale(0.12 -0.12)\">\n",
       "     <defs>\n",
       "      <path id=\"DejaVuSans-53\" d=\"M 3425 4513 \n",
       "L 3425 3897 \n",
       "Q 3066 4069 2747 4153 \n",
       "Q 2428 4238 2131 4238 \n",
       "Q 1616 4238 1336 4038 \n",
       "Q 1056 3838 1056 3469 \n",
       "Q 1056 3159 1242 3001 \n",
       "Q 1428 2844 1947 2747 \n",
       "L 2328 2669 \n",
       "Q 3034 2534 3370 2195 \n",
       "Q 3706 1856 3706 1288 \n",
       "Q 3706 609 3251 259 \n",
       "Q 2797 -91 1919 -91 \n",
       "Q 1588 -91 1214 -16 \n",
       "Q 841 59 441 206 \n",
       "L 441 856 \n",
       "Q 825 641 1194 531 \n",
       "Q 1563 422 1919 422 \n",
       "Q 2459 422 2753 634 \n",
       "Q 3047 847 3047 1241 \n",
       "Q 3047 1584 2836 1778 \n",
       "Q 2625 1972 2144 2069 \n",
       "L 1759 2144 \n",
       "Q 1053 2284 737 2584 \n",
       "Q 422 2884 422 3419 \n",
       "Q 422 4038 858 4394 \n",
       "Q 1294 4750 2059 4750 \n",
       "Q 2388 4750 2728 4690 \n",
       "Q 3069 4631 3425 4513 \n",
       "z\n",
       "\" transform=\"scale(0.015625)\"/>\n",
       "      <path id=\"DejaVuSans-74\" d=\"M 1172 4494 \n",
       "L 1172 3500 \n",
       "L 2356 3500 \n",
       "L 2356 3053 \n",
       "L 1172 3053 \n",
       "L 1172 1153 \n",
       "Q 1172 725 1289 603 \n",
       "Q 1406 481 1766 481 \n",
       "L 2356 481 \n",
       "L 2356 0 \n",
       "L 1766 0 \n",
       "Q 1100 0 847 248 \n",
       "Q 594 497 594 1153 \n",
       "L 594 3053 \n",
       "L 172 3053 \n",
       "L 172 3500 \n",
       "L 594 3500 \n",
       "L 594 4494 \n",
       "L 1172 4494 \n",
       "z\n",
       "\" transform=\"scale(0.015625)\"/>\n",
       "      <path id=\"DejaVuSans-65\" d=\"M 3597 1894 \n",
       "L 3597 1613 \n",
       "L 953 1613 \n",
       "Q 991 1019 1311 708 \n",
       "Q 1631 397 2203 397 \n",
       "Q 2534 397 2845 478 \n",
       "Q 3156 559 3463 722 \n",
       "L 3463 178 \n",
       "Q 3153 47 2828 -22 \n",
       "Q 2503 -91 2169 -91 \n",
       "Q 1331 -91 842 396 \n",
       "Q 353 884 353 1716 \n",
       "Q 353 2575 817 3079 \n",
       "Q 1281 3584 2069 3584 \n",
       "Q 2775 3584 3186 3129 \n",
       "Q 3597 2675 3597 1894 \n",
       "z\n",
       "M 3022 2063 \n",
       "Q 3016 2534 2758 2815 \n",
       "Q 2500 3097 2075 3097 \n",
       "Q 1594 3097 1305 2825 \n",
       "Q 1016 2553 972 2059 \n",
       "L 3022 2063 \n",
       "z\n",
       "\" transform=\"scale(0.015625)\"/>\n",
       "      <path id=\"DejaVuSans-70\" d=\"M 1159 525 \n",
       "L 1159 -1331 \n",
       "L 581 -1331 \n",
       "L 581 3500 \n",
       "L 1159 3500 \n",
       "L 1159 2969 \n",
       "Q 1341 3281 1617 3432 \n",
       "Q 1894 3584 2278 3584 \n",
       "Q 2916 3584 3314 3078 \n",
       "Q 3713 2572 3713 1747 \n",
       "Q 3713 922 3314 415 \n",
       "Q 2916 -91 2278 -91 \n",
       "Q 1894 -91 1617 61 \n",
       "Q 1341 213 1159 525 \n",
       "z\n",
       "M 3116 1747 \n",
       "Q 3116 2381 2855 2742 \n",
       "Q 2594 3103 2138 3103 \n",
       "Q 1681 3103 1420 2742 \n",
       "Q 1159 2381 1159 1747 \n",
       "Q 1159 1113 1420 752 \n",
       "Q 1681 391 2138 391 \n",
       "Q 2594 391 2855 752 \n",
       "Q 3116 1113 3116 1747 \n",
       "z\n",
       "\" transform=\"scale(0.015625)\"/>\n",
       "      <path id=\"DejaVuSans-73\" d=\"M 2834 3397 \n",
       "L 2834 2853 \n",
       "Q 2591 2978 2328 3040 \n",
       "Q 2066 3103 1784 3103 \n",
       "Q 1356 3103 1142 2972 \n",
       "Q 928 2841 928 2578 \n",
       "Q 928 2378 1081 2264 \n",
       "Q 1234 2150 1697 2047 \n",
       "L 1894 2003 \n",
       "Q 2506 1872 2764 1633 \n",
       "Q 3022 1394 3022 966 \n",
       "Q 3022 478 2636 193 \n",
       "Q 2250 -91 1575 -91 \n",
       "Q 1294 -91 989 -36 \n",
       "Q 684 19 347 128 \n",
       "L 347 722 \n",
       "Q 666 556 975 473 \n",
       "Q 1284 391 1588 391 \n",
       "Q 1994 391 2212 530 \n",
       "Q 2431 669 2431 922 \n",
       "Q 2431 1156 2273 1281 \n",
       "Q 2116 1406 1581 1522 \n",
       "L 1381 1569 \n",
       "Q 847 1681 609 1914 \n",
       "Q 372 2147 372 2553 \n",
       "Q 372 3047 722 3315 \n",
       "Q 1072 3584 1716 3584 \n",
       "Q 2034 3584 2315 3537 \n",
       "Q 2597 3491 2834 3397 \n",
       "z\n",
       "\" transform=\"scale(0.015625)\"/>\n",
       "      <path id=\"DejaVuSans-3a\" d=\"M 750 794 \n",
       "L 1409 794 \n",
       "L 1409 0 \n",
       "L 750 0 \n",
       "L 750 794 \n",
       "z\n",
       "M 750 3309 \n",
       "L 1409 3309 \n",
       "L 1409 2516 \n",
       "L 750 2516 \n",
       "L 750 3309 \n",
       "z\n",
       "\" transform=\"scale(0.015625)\"/>\n",
       "      <path id=\"DejaVuSans-20\" transform=\"scale(0.015625)\"/>\n",
       "      <path id=\"DejaVuSans-33\" d=\"M 2597 2516 \n",
       "Q 3050 2419 3304 2112 \n",
       "Q 3559 1806 3559 1356 \n",
       "Q 3559 666 3084 287 \n",
       "Q 2609 -91 1734 -91 \n",
       "Q 1441 -91 1130 -33 \n",
       "Q 819 25 488 141 \n",
       "L 488 750 \n",
       "Q 750 597 1062 519 \n",
       "Q 1375 441 1716 441 \n",
       "Q 2309 441 2620 675 \n",
       "Q 2931 909 2931 1356 \n",
       "Q 2931 1769 2642 2001 \n",
       "Q 2353 2234 1838 2234 \n",
       "L 1294 2234 \n",
       "L 1294 2753 \n",
       "L 1863 2753 \n",
       "Q 2328 2753 2575 2939 \n",
       "Q 2822 3125 2822 3475 \n",
       "Q 2822 3834 2567 4026 \n",
       "Q 2313 4219 1838 4219 \n",
       "Q 1578 4219 1281 4162 \n",
       "Q 984 4106 628 3988 \n",
       "L 628 4550 \n",
       "Q 988 4650 1302 4700 \n",
       "Q 1616 4750 1894 4750 \n",
       "Q 2613 4750 3031 4423 \n",
       "Q 3450 4097 3450 3541 \n",
       "Q 3450 3153 3228 2886 \n",
       "Q 3006 2619 2597 2516 \n",
       "z\n",
       "\" transform=\"scale(0.015625)\"/>\n",
       "      <path id=\"DejaVuSans-37\" d=\"M 525 4666 \n",
       "L 3525 4666 \n",
       "L 3525 4397 \n",
       "L 1831 0 \n",
       "L 1172 0 \n",
       "L 2766 4134 \n",
       "L 525 4134 \n",
       "L 525 4666 \n",
       "z\n",
       "\" transform=\"scale(0.015625)\"/>\n",
       "     </defs>\n",
       "     <use xlink:href=\"#DejaVuSans-53\"/>\n",
       "     <use xlink:href=\"#DejaVuSans-74\" x=\"63.476562\"/>\n",
       "     <use xlink:href=\"#DejaVuSans-65\" x=\"102.685547\"/>\n",
       "     <use xlink:href=\"#DejaVuSans-70\" x=\"164.208984\"/>\n",
       "     <use xlink:href=\"#DejaVuSans-73\" x=\"227.685547\"/>\n",
       "     <use xlink:href=\"#DejaVuSans-3a\" x=\"279.785156\"/>\n",
       "     <use xlink:href=\"#DejaVuSans-20\" x=\"313.476562\"/>\n",
       "     <use xlink:href=\"#DejaVuSans-33\" x=\"345.263672\"/>\n",
       "     <use xlink:href=\"#DejaVuSans-33\" x=\"408.886719\"/>\n",
       "     <use xlink:href=\"#DejaVuSans-37\" x=\"472.509766\"/>\n",
       "    </g>\n",
       "   </g>\n",
       "  </g>\n",
       " </g>\n",
       " <defs>\n",
       "  <clipPath id=\"p348437e059\">\n",
       "   <rect x=\"10.7\" y=\"22.318125\" width=\"446.4\" height=\"297.6\"/>\n",
       "  </clipPath>\n",
       " </defs>\n",
       "</svg>\n"
      ],
      "text/plain": [
       "<Figure size 576x432 with 1 Axes>"
      ]
     },
     "metadata": {},
     "output_type": "display_data"
    }
   ],
   "source": [
    "# Workaround for pygame error: \"error: No available video device\"\n",
    "# See https://stackoverflow.com/questions/15933493/pygame-error-no-available-video-device?rq=1\n",
    "# This is probably needed only for Linux\n",
    "import os\n",
    "os.environ[\"SDL_VIDEODRIVER\"] = \"dummy\"\n",
    "from src.viz import show_video\n",
    "\n",
    "show_video(agent, env, sleep_sec=0.01, seed=12345)"
   ]
  }
 ],
 "metadata": {
  "kernelspec": {
   "display_name": "Python 3 (ipykernel)",
   "language": "python",
   "name": "python3"
  },
  "language_info": {
   "codemirror_mode": {
    "name": "ipython",
    "version": 3
   },
   "file_extension": ".py",
   "mimetype": "text/x-python",
   "name": "python",
   "nbconvert_exporter": "python",
   "pygments_lexer": "ipython3",
   "version": "3.8.10"
  }
 },
 "nbformat": 4,
 "nbformat_minor": 5
}
