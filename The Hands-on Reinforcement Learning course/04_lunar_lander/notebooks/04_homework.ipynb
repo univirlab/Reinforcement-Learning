{
 "cells": [
  {
   "cell_type": "markdown",
   "id": "f0fd6807",
   "metadata": {},
   "source": [
    "# 04 Homework 🏋️🏋️🏋️"
   ]
  },
  {
   "cell_type": "markdown",
   "id": "abcf6613",
   "metadata": {},
   "source": [
    "#### 👉A course without homework is not a course!\n",
    "\n",
    "#### 👉Spend some time thinking and trying to implement the challenges I propose here.\n",
    "\n",
    "#### 👉Feel free to email me your solutions at:"
   ]
  },
  {
   "cell_type": "markdown",
   "id": "d1d983a3",
   "metadata": {},
   "source": [
    "# `plabartabajo@gmail.com`"
   ]
  },
  {
   "cell_type": "markdown",
   "id": "86f82e45",
   "metadata": {},
   "source": [
    "-----"
   ]
  },
  {
   "cell_type": "markdown",
   "id": "67656662",
   "metadata": {},
   "source": [
    "## 1. Can you find a smaller network that solves this environment?\n",
    "\n",
    "I used one hidden layer with 64 units, but I have the feeling this  was an overkill."
   ]
  },
  {
   "cell_type": "markdown",
   "id": "c0a46bf7",
   "metadata": {},
   "source": [
    "## 2. Can you speed up converge by properly tunning the `batch_size`?"
   ]
  }
 ],
 "metadata": {
  "kernelspec": {
   "display_name": "Python 3 (ipykernel)",
   "language": "python",
   "name": "python3"
  },
  "language_info": {
   "codemirror_mode": {
    "name": "ipython",
    "version": 3
   },
   "file_extension": ".py",
   "mimetype": "text/x-python",
   "name": "python",
   "nbconvert_exporter": "python",
   "pygments_lexer": "ipython3",
   "version": "3.8.10"
  }
 },
 "nbformat": 4,
 "nbformat_minor": 5
}
