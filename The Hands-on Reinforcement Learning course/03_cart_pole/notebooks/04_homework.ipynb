{
 "cells": [
  {
   "cell_type": "markdown",
   "id": "f0fd6807",
   "metadata": {},
   "source": [
    "# 04 Homework 🏋️🏋️🏋️"
   ]
  },
  {
   "cell_type": "markdown",
   "id": "abcf6613",
   "metadata": {},
   "source": [
    "#### 👉A course without homework is not a course!\n",
    "\n",
    "#### 👉Spend some time thinking and trying to implement the challenges I propose here.\n",
    "\n",
    "#### 👉Feel free to email me your solutions at:"
   ]
  },
  {
   "cell_type": "markdown",
   "id": "d1d983a3",
   "metadata": {},
   "source": [
    "# `plabartabajo@gmail.com`"
   ]
  },
  {
   "cell_type": "markdown",
   "id": "86f82e45",
   "metadata": {},
   "source": [
    "-----"
   ]
  },
  {
   "cell_type": "markdown",
   "id": "67656662",
   "metadata": {},
   "source": [
    "## 1. Can you use 3 different `SEED` values and re-train the agent with good hyper-parameters?\n",
    "\n",
    "Do you still train a good agent? Or does the seed really affect the training outcome?"
   ]
  },
  {
   "cell_type": "markdown",
   "id": "c0a46bf7",
   "metadata": {},
   "source": [
    "## 2. Can you solve the `MountainCar-v0` environment using today's code?\n",
    "\n",
    "Are you able to score 99% on the evaluation set?"
   ]
  }
 ],
 "metadata": {
  "kernelspec": {
   "display_name": "Python 3 (ipykernel)",
   "language": "python",
   "name": "python3"
  },
  "language_info": {
   "codemirror_mode": {
    "name": "ipython",
    "version": 3
   },
   "file_extension": ".py",
   "mimetype": "text/x-python",
   "name": "python",
   "nbconvert_exporter": "python",
   "pygments_lexer": "ipython3",
   "version": "3.7.5"
  }
 },
 "nbformat": 4,
 "nbformat_minor": 5
}
