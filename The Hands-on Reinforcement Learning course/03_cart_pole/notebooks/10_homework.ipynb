{
 "cells": [
  {
   "cell_type": "markdown",
   "id": "f0fd6807",
   "metadata": {},
   "source": [
    "# 10 Homework 🏋️🏋️🏋️"
   ]
  },
  {
   "cell_type": "markdown",
   "id": "3f1582da",
   "metadata": {},
   "source": [
    "## Challenge"
   ]
  },
  {
   "cell_type": "markdown",
   "id": "67656662",
   "metadata": {},
   "source": [
    "If you carefully look at `sample_hyper_parameters()` in `src/optimize_hyperparameters.py` you will see I did not let Optuna test different neural network architectures.\n",
    "\n",
    "I set `nn_hidden_layers = [256, 256]` and that was it.\n",
    "\n",
    "I dare you find the smallest neural network architecture that solves the `CartPole` perfectly."
   ]
  },
  {
   "cell_type": "markdown",
   "id": "4ea9756e",
   "metadata": {},
   "source": [
    "## Send your solution through\n",
    "\n",
    "- a pull request or\n",
    "- direcly by email at `plabartabajo@gmail.com`"
   ]
  }
 ],
 "metadata": {
  "kernelspec": {
   "display_name": "Python 3 (ipykernel)",
   "language": "python",
   "name": "python3"
  },
  "language_info": {
   "codemirror_mode": {
    "name": "ipython",
    "version": 3
   },
   "file_extension": ".py",
   "mimetype": "text/x-python",
   "name": "python",
   "nbconvert_exporter": "python",
   "pygments_lexer": "ipython3",
   "version": "3.7.5"
  }
 },
 "nbformat": 4,
 "nbformat_minor": 5
}
