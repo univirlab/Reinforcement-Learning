{
 "cells": [
  {
   "cell_type": "markdown",
   "id": "f7893323",
   "metadata": {},
   "source": [
    "# 05 Crash course on Neural Nets\n",
    "\n",
    "## Skip this lecture if you think you are a Deep Learning master\n",
    "\n",
    "#### 👉 Let's train a few neural network models in a supervised setting.\n",
    "\n",
    "#### 👉 In Supervised Machine Learning you have input features and target values. And the goal is to find the *right* mapping between input features and target values.\n",
    "\n",
    "#### 👉Neural networks are usually highly-parametric models that are able to fit complex patterns between the input features and the target.\n",
    "\n",
    "#### 👉 The type of neural network we will use is a Multi Layer Perceptron (MLP). MLPs are stacks of linear models, interleaved with *activation functions.*"
   ]
  },
  {
   "cell_type": "code",
   "execution_count": 5,
   "id": "fd7b5c91",
   "metadata": {},
   "outputs": [
    {
     "name": "stdout",
     "output_type": "stream",
     "text": [
      "The autoreload extension is already loaded. To reload it, use:\n",
      "  %reload_ext autoreload\n",
      "Populating the interactive namespace from numpy and matplotlib\n"
     ]
    }
   ],
   "source": [
    "%load_ext autoreload\n",
    "%autoreload 2\n",
    "%pylab inline\n",
    "%config InlineBackend.figure_format = 'svg'"
   ]
  },
  {
   "cell_type": "markdown",
   "id": "6d71e5be",
   "metadata": {},
   "source": [
    "## Environment 🌎"
   ]
  },
  {
   "cell_type": "code",
   "execution_count": 6,
   "id": "bfb033c6",
   "metadata": {},
   "outputs": [],
   "source": [
    "import gym\n",
    "env = gym.make('CartPole-v1')"
   ]
  },
  {
   "cell_type": "markdown",
   "id": "ddad327f",
   "metadata": {},
   "source": [
    "# 1. Data\n",
    "\n",
    "Steps to generate the train data and test data we will need to build the neural network, and to evaluate it."
   ]
  },
  {
   "cell_type": "markdown",
   "id": "708c3134",
   "metadata": {},
   "source": [
    "## 1.1 Download the agent parameters from Google Drive 📩"
   ]
  },
  {
   "cell_type": "code",
   "execution_count": 8,
   "id": "795a2250",
   "metadata": {},
   "outputs": [
    {
     "name": "stderr",
     "output_type": "stream",
     "text": [
      "Downloading...\n",
      "From: https://docs.google.com/uc?export=download&id=1ZdyAuzY-0VYfyNrg0a7gHd5TOX-GadJJ\n",
      "To: /Users/paulabartabajo/src/online-courses/hands-on-rl/03_cart_pole/saved_agents/CartPole-v1/gdrive_agent.zip\n",
      "100%|█████████████████████████████████████████████████████████████████████| 255k/255k [00:00<00:00, 533kB/s]\n"
     ]
    }
   ],
   "source": [
    "from src.supervised_ml import download_agent_parameters\n",
    "\n",
    "path_to_agent_data = download_agent_parameters()\n",
    "print(f'path_to_agent_data={path_to_agent_data}')"
   ]
  },
  {
   "cell_type": "markdown",
   "id": "e4bc3d23",
   "metadata": {},
   "source": [
    "## 1.2 Create `QAgent` object from the parameters (and hyper-parameters) we just downloaded"
   ]
  },
  {
   "cell_type": "code",
   "execution_count": 9,
   "id": "d1513b96",
   "metadata": {},
   "outputs": [
    {
     "name": "stdout",
     "output_type": "stream",
     "text": [
      "67,586 parameters\n"
     ]
    }
   ],
   "source": [
    "from src.q_agent import QAgent\n",
    "\n",
    "agent = QAgent.load_from_disk(env, path=path_to_agent_data)"
   ]
  },
  {
   "cell_type": "markdown",
   "id": "65c3dbbc",
   "metadata": {},
   "source": [
    "## 1.3 Let's check it works like a charm"
   ]
  },
  {
   "cell_type": "code",
   "execution_count": 10,
   "id": "9fd9aeb1",
   "metadata": {},
   "outputs": [
    {
     "name": "stderr",
     "output_type": "stream",
     "text": [
      "100%|███████████████████████████████████████████████████████████████████| 1000/1000 [02:24<00:00,  6.91it/s]\n"
     ]
    }
   ],
   "source": [
    "from src.utils import set_seed\n",
    "set_seed(env, 1234)\n",
    "\n",
    "from src.loops import evaluate\n",
    "rewards, steps = evaluate(\n",
    "    agent, env,\n",
    "    n_episodes=1000,\n",
    "    epsilon=0.0 # 100% greedy strategy\n",
    ")"
   ]
  },
  {
   "cell_type": "code",
   "execution_count": 11,
   "id": "2067b8c5",
   "metadata": {},
   "outputs": [
    {
     "data": {
      "image/svg+xml": [
       "<?xml version=\"1.0\" encoding=\"utf-8\" standalone=\"no\"?>\n",
       "<!DOCTYPE svg PUBLIC \"-//W3C//DTD SVG 1.1//EN\"\n",
       "  \"http://www.w3.org/Graphics/SVG/1.1/DTD/svg11.dtd\">\n",
       "<svg xmlns:xlink=\"http://www.w3.org/1999/xlink\" width=\"618.528125pt\" height=\"263.63625pt\" viewBox=\"0 0 618.528125 263.63625\" xmlns=\"http://www.w3.org/2000/svg\" version=\"1.1\">\n",
       " <metadata>\n",
       "  <rdf:RDF xmlns:dc=\"http://purl.org/dc/elements/1.1/\" xmlns:cc=\"http://creativecommons.org/ns#\" xmlns:rdf=\"http://www.w3.org/1999/02/22-rdf-syntax-ns#\">\n",
       "   <cc:Work>\n",
       "    <dc:type rdf:resource=\"http://purl.org/dc/dcmitype/StillImage\"/>\n",
       "    <dc:date>2022-03-02T10:30:18.594195</dc:date>\n",
       "    <dc:format>image/svg+xml</dc:format>\n",
       "    <dc:creator>\n",
       "     <cc:Agent>\n",
       "      <dc:title>Matplotlib v3.5.1, https://matplotlib.org/</dc:title>\n",
       "     </cc:Agent>\n",
       "    </dc:creator>\n",
       "   </cc:Work>\n",
       "  </rdf:RDF>\n",
       " </metadata>\n",
       " <defs>\n",
       "  <style type=\"text/css\">*{stroke-linejoin: round; stroke-linecap: butt}</style>\n",
       " </defs>\n",
       " <g id=\"figure_1\">\n",
       "  <g id=\"patch_1\">\n",
       "   <path d=\"M 0 263.63625 \n",
       "L 618.528125 263.63625 \n",
       "L 618.528125 0 \n",
       "L 0 0 \n",
       "L 0 263.63625 \n",
       "z\n",
       "\" style=\"fill: none\"/>\n",
       "  </g>\n",
       "  <g id=\"axes_1\">\n",
       "   <g id=\"patch_2\">\n",
       "    <path d=\"M 53.328125 239.758125 \n",
       "L 611.328125 239.758125 \n",
       "L 611.328125 22.318125 \n",
       "L 53.328125 22.318125 \n",
       "z\n",
       "\" style=\"fill: #ffffff\"/>\n",
       "   </g>\n",
       "   <g id=\"patch_3\">\n",
       "    <path d=\"M 78.691761 239.758125 \n",
       "L 83.764489 239.758125 \n",
       "L 83.764489 239.758125 \n",
       "L 78.691761 239.758125 \n",
       "z\n",
       "\" clip-path=\"url(#p37ef800d5e)\" style=\"fill: #1f77b4\"/>\n",
       "   </g>\n",
       "   <g id=\"patch_4\">\n",
       "    <path d=\"M 83.764489 239.758125 \n",
       "L 88.837216 239.758125 \n",
       "L 88.837216 239.758125 \n",
       "L 83.764489 239.758125 \n",
       "z\n",
       "\" clip-path=\"url(#p37ef800d5e)\" style=\"fill: #1f77b4\"/>\n",
       "   </g>\n",
       "   <g id=\"patch_5\">\n",
       "    <path d=\"M 88.837216 239.758125 \n",
       "L 93.909943 239.758125 \n",
       "L 93.909943 239.758125 \n",
       "L 88.837216 239.758125 \n",
       "z\n",
       "\" clip-path=\"url(#p37ef800d5e)\" style=\"fill: #1f77b4\"/>\n",
       "   </g>\n",
       "   <g id=\"patch_6\">\n",
       "    <path d=\"M 93.909943 239.758125 \n",
       "L 98.98267 239.758125 \n",
       "L 98.98267 239.758125 \n",
       "L 93.909943 239.758125 \n",
       "z\n",
       "\" clip-path=\"url(#p37ef800d5e)\" style=\"fill: #1f77b4\"/>\n",
       "   </g>\n",
       "   <g id=\"patch_7\">\n",
       "    <path d=\"M 98.98267 239.758125 \n",
       "L 104.055398 239.758125 \n",
       "L 104.055398 239.758125 \n",
       "L 98.98267 239.758125 \n",
       "z\n",
       "\" clip-path=\"url(#p37ef800d5e)\" style=\"fill: #1f77b4\"/>\n",
       "   </g>\n",
       "   <g id=\"patch_8\">\n",
       "    <path d=\"M 104.055398 239.758125 \n",
       "L 109.128125 239.758125 \n",
       "L 109.128125 239.758125 \n",
       "L 104.055398 239.758125 \n",
       "z\n",
       "\" clip-path=\"url(#p37ef800d5e)\" style=\"fill: #1f77b4\"/>\n",
       "   </g>\n",
       "   <g id=\"patch_9\">\n",
       "    <path d=\"M 109.128125 239.758125 \n",
       "L 114.200852 239.758125 \n",
       "L 114.200852 239.758125 \n",
       "L 109.128125 239.758125 \n",
       "z\n",
       "\" clip-path=\"url(#p37ef800d5e)\" style=\"fill: #1f77b4\"/>\n",
       "   </g>\n",
       "   <g id=\"patch_10\">\n",
       "    <path d=\"M 114.200852 239.758125 \n",
       "L 119.27358 239.758125 \n",
       "L 119.27358 239.758125 \n",
       "L 114.200852 239.758125 \n",
       "z\n",
       "\" clip-path=\"url(#p37ef800d5e)\" style=\"fill: #1f77b4\"/>\n",
       "   </g>\n",
       "   <g id=\"patch_11\">\n",
       "    <path d=\"M 119.27358 239.758125 \n",
       "L 124.346307 239.758125 \n",
       "L 124.346307 239.758125 \n",
       "L 119.27358 239.758125 \n",
       "z\n",
       "\" clip-path=\"url(#p37ef800d5e)\" style=\"fill: #1f77b4\"/>\n",
       "   </g>\n",
       "   <g id=\"patch_12\">\n",
       "    <path d=\"M 124.346307 239.758125 \n",
       "L 129.419034 239.758125 \n",
       "L 129.419034 239.758125 \n",
       "L 124.346307 239.758125 \n",
       "z\n",
       "\" clip-path=\"url(#p37ef800d5e)\" style=\"fill: #1f77b4\"/>\n",
       "   </g>\n",
       "   <g id=\"patch_13\">\n",
       "    <path d=\"M 129.419034 239.758125 \n",
       "L 134.491761 239.758125 \n",
       "L 134.491761 239.758125 \n",
       "L 129.419034 239.758125 \n",
       "z\n",
       "\" clip-path=\"url(#p37ef800d5e)\" style=\"fill: #1f77b4\"/>\n",
       "   </g>\n",
       "   <g id=\"patch_14\">\n",
       "    <path d=\"M 134.491761 239.758125 \n",
       "L 139.564489 239.758125 \n",
       "L 139.564489 239.758125 \n",
       "L 134.491761 239.758125 \n",
       "z\n",
       "\" clip-path=\"url(#p37ef800d5e)\" style=\"fill: #1f77b4\"/>\n",
       "   </g>\n",
       "   <g id=\"patch_15\">\n",
       "    <path d=\"M 139.564489 239.758125 \n",
       "L 144.637216 239.758125 \n",
       "L 144.637216 239.758125 \n",
       "L 139.564489 239.758125 \n",
       "z\n",
       "\" clip-path=\"url(#p37ef800d5e)\" style=\"fill: #1f77b4\"/>\n",
       "   </g>\n",
       "   <g id=\"patch_16\">\n",
       "    <path d=\"M 144.637216 239.758125 \n",
       "L 149.709943 239.758125 \n",
       "L 149.709943 239.758125 \n",
       "L 144.637216 239.758125 \n",
       "z\n",
       "\" clip-path=\"url(#p37ef800d5e)\" style=\"fill: #1f77b4\"/>\n",
       "   </g>\n",
       "   <g id=\"patch_17\">\n",
       "    <path d=\"M 149.709943 239.758125 \n",
       "L 154.78267 239.758125 \n",
       "L 154.78267 239.758125 \n",
       "L 149.709943 239.758125 \n",
       "z\n",
       "\" clip-path=\"url(#p37ef800d5e)\" style=\"fill: #1f77b4\"/>\n",
       "   </g>\n",
       "   <g id=\"patch_18\">\n",
       "    <path d=\"M 154.78267 239.758125 \n",
       "L 159.855398 239.758125 \n",
       "L 159.855398 239.758125 \n",
       "L 154.78267 239.758125 \n",
       "z\n",
       "\" clip-path=\"url(#p37ef800d5e)\" style=\"fill: #1f77b4\"/>\n",
       "   </g>\n",
       "   <g id=\"patch_19\">\n",
       "    <path d=\"M 159.855398 239.758125 \n",
       "L 164.928125 239.758125 \n",
       "L 164.928125 239.758125 \n",
       "L 159.855398 239.758125 \n",
       "z\n",
       "\" clip-path=\"url(#p37ef800d5e)\" style=\"fill: #1f77b4\"/>\n",
       "   </g>\n",
       "   <g id=\"patch_20\">\n",
       "    <path d=\"M 164.928125 239.758125 \n",
       "L 170.000852 239.758125 \n",
       "L 170.000852 239.758125 \n",
       "L 164.928125 239.758125 \n",
       "z\n",
       "\" clip-path=\"url(#p37ef800d5e)\" style=\"fill: #1f77b4\"/>\n",
       "   </g>\n",
       "   <g id=\"patch_21\">\n",
       "    <path d=\"M 170.000852 239.758125 \n",
       "L 175.07358 239.758125 \n",
       "L 175.07358 239.758125 \n",
       "L 170.000852 239.758125 \n",
       "z\n",
       "\" clip-path=\"url(#p37ef800d5e)\" style=\"fill: #1f77b4\"/>\n",
       "   </g>\n",
       "   <g id=\"patch_22\">\n",
       "    <path d=\"M 175.07358 239.758125 \n",
       "L 180.146307 239.758125 \n",
       "L 180.146307 239.758125 \n",
       "L 175.07358 239.758125 \n",
       "z\n",
       "\" clip-path=\"url(#p37ef800d5e)\" style=\"fill: #1f77b4\"/>\n",
       "   </g>\n",
       "   <g id=\"patch_23\">\n",
       "    <path d=\"M 180.146307 239.758125 \n",
       "L 185.219034 239.758125 \n",
       "L 185.219034 239.758125 \n",
       "L 180.146307 239.758125 \n",
       "z\n",
       "\" clip-path=\"url(#p37ef800d5e)\" style=\"fill: #1f77b4\"/>\n",
       "   </g>\n",
       "   <g id=\"patch_24\">\n",
       "    <path d=\"M 185.219034 239.758125 \n",
       "L 190.291761 239.758125 \n",
       "L 190.291761 239.758125 \n",
       "L 185.219034 239.758125 \n",
       "z\n",
       "\" clip-path=\"url(#p37ef800d5e)\" style=\"fill: #1f77b4\"/>\n",
       "   </g>\n",
       "   <g id=\"patch_25\">\n",
       "    <path d=\"M 190.291761 239.758125 \n",
       "L 195.364489 239.758125 \n",
       "L 195.364489 239.758125 \n",
       "L 190.291761 239.758125 \n",
       "z\n",
       "\" clip-path=\"url(#p37ef800d5e)\" style=\"fill: #1f77b4\"/>\n",
       "   </g>\n",
       "   <g id=\"patch_26\">\n",
       "    <path d=\"M 195.364489 239.758125 \n",
       "L 200.437216 239.758125 \n",
       "L 200.437216 239.758125 \n",
       "L 195.364489 239.758125 \n",
       "z\n",
       "\" clip-path=\"url(#p37ef800d5e)\" style=\"fill: #1f77b4\"/>\n",
       "   </g>\n",
       "   <g id=\"patch_27\">\n",
       "    <path d=\"M 200.437216 239.758125 \n",
       "L 205.509943 239.758125 \n",
       "L 205.509943 239.758125 \n",
       "L 200.437216 239.758125 \n",
       "z\n",
       "\" clip-path=\"url(#p37ef800d5e)\" style=\"fill: #1f77b4\"/>\n",
       "   </g>\n",
       "   <g id=\"patch_28\">\n",
       "    <path d=\"M 205.509943 239.758125 \n",
       "L 210.58267 239.758125 \n",
       "L 210.58267 239.758125 \n",
       "L 205.509943 239.758125 \n",
       "z\n",
       "\" clip-path=\"url(#p37ef800d5e)\" style=\"fill: #1f77b4\"/>\n",
       "   </g>\n",
       "   <g id=\"patch_29\">\n",
       "    <path d=\"M 210.58267 239.758125 \n",
       "L 215.655398 239.758125 \n",
       "L 215.655398 239.758125 \n",
       "L 210.58267 239.758125 \n",
       "z\n",
       "\" clip-path=\"url(#p37ef800d5e)\" style=\"fill: #1f77b4\"/>\n",
       "   </g>\n",
       "   <g id=\"patch_30\">\n",
       "    <path d=\"M 215.655398 239.758125 \n",
       "L 220.728125 239.758125 \n",
       "L 220.728125 239.758125 \n",
       "L 215.655398 239.758125 \n",
       "z\n",
       "\" clip-path=\"url(#p37ef800d5e)\" style=\"fill: #1f77b4\"/>\n",
       "   </g>\n",
       "   <g id=\"patch_31\">\n",
       "    <path d=\"M 220.728125 239.758125 \n",
       "L 225.800852 239.758125 \n",
       "L 225.800852 239.758125 \n",
       "L 220.728125 239.758125 \n",
       "z\n",
       "\" clip-path=\"url(#p37ef800d5e)\" style=\"fill: #1f77b4\"/>\n",
       "   </g>\n",
       "   <g id=\"patch_32\">\n",
       "    <path d=\"M 225.800852 239.758125 \n",
       "L 230.87358 239.758125 \n",
       "L 230.87358 239.758125 \n",
       "L 225.800852 239.758125 \n",
       "z\n",
       "\" clip-path=\"url(#p37ef800d5e)\" style=\"fill: #1f77b4\"/>\n",
       "   </g>\n",
       "   <g id=\"patch_33\">\n",
       "    <path d=\"M 230.87358 239.758125 \n",
       "L 235.946307 239.758125 \n",
       "L 235.946307 239.758125 \n",
       "L 230.87358 239.758125 \n",
       "z\n",
       "\" clip-path=\"url(#p37ef800d5e)\" style=\"fill: #1f77b4\"/>\n",
       "   </g>\n",
       "   <g id=\"patch_34\">\n",
       "    <path d=\"M 235.946307 239.758125 \n",
       "L 241.019034 239.758125 \n",
       "L 241.019034 239.758125 \n",
       "L 235.946307 239.758125 \n",
       "z\n",
       "\" clip-path=\"url(#p37ef800d5e)\" style=\"fill: #1f77b4\"/>\n",
       "   </g>\n",
       "   <g id=\"patch_35\">\n",
       "    <path d=\"M 241.019034 239.758125 \n",
       "L 246.091761 239.758125 \n",
       "L 246.091761 239.758125 \n",
       "L 241.019034 239.758125 \n",
       "z\n",
       "\" clip-path=\"url(#p37ef800d5e)\" style=\"fill: #1f77b4\"/>\n",
       "   </g>\n",
       "   <g id=\"patch_36\">\n",
       "    <path d=\"M 246.091761 239.758125 \n",
       "L 251.164489 239.758125 \n",
       "L 251.164489 239.758125 \n",
       "L 246.091761 239.758125 \n",
       "z\n",
       "\" clip-path=\"url(#p37ef800d5e)\" style=\"fill: #1f77b4\"/>\n",
       "   </g>\n",
       "   <g id=\"patch_37\">\n",
       "    <path d=\"M 251.164489 239.758125 \n",
       "L 256.237216 239.758125 \n",
       "L 256.237216 239.758125 \n",
       "L 251.164489 239.758125 \n",
       "z\n",
       "\" clip-path=\"url(#p37ef800d5e)\" style=\"fill: #1f77b4\"/>\n",
       "   </g>\n",
       "   <g id=\"patch_38\">\n",
       "    <path d=\"M 256.237216 239.758125 \n",
       "L 261.309943 239.758125 \n",
       "L 261.309943 239.758125 \n",
       "L 256.237216 239.758125 \n",
       "z\n",
       "\" clip-path=\"url(#p37ef800d5e)\" style=\"fill: #1f77b4\"/>\n",
       "   </g>\n",
       "   <g id=\"patch_39\">\n",
       "    <path d=\"M 261.309943 239.758125 \n",
       "L 266.38267 239.758125 \n",
       "L 266.38267 239.758125 \n",
       "L 261.309943 239.758125 \n",
       "z\n",
       "\" clip-path=\"url(#p37ef800d5e)\" style=\"fill: #1f77b4\"/>\n",
       "   </g>\n",
       "   <g id=\"patch_40\">\n",
       "    <path d=\"M 266.38267 239.758125 \n",
       "L 271.455398 239.758125 \n",
       "L 271.455398 239.758125 \n",
       "L 266.38267 239.758125 \n",
       "z\n",
       "\" clip-path=\"url(#p37ef800d5e)\" style=\"fill: #1f77b4\"/>\n",
       "   </g>\n",
       "   <g id=\"patch_41\">\n",
       "    <path d=\"M 271.455398 239.758125 \n",
       "L 276.528125 239.758125 \n",
       "L 276.528125 239.758125 \n",
       "L 271.455398 239.758125 \n",
       "z\n",
       "\" clip-path=\"url(#p37ef800d5e)\" style=\"fill: #1f77b4\"/>\n",
       "   </g>\n",
       "   <g id=\"patch_42\">\n",
       "    <path d=\"M 276.528125 239.758125 \n",
       "L 281.600852 239.758125 \n",
       "L 281.600852 239.758125 \n",
       "L 276.528125 239.758125 \n",
       "z\n",
       "\" clip-path=\"url(#p37ef800d5e)\" style=\"fill: #1f77b4\"/>\n",
       "   </g>\n",
       "   <g id=\"patch_43\">\n",
       "    <path d=\"M 281.600852 239.758125 \n",
       "L 286.67358 239.758125 \n",
       "L 286.67358 239.758125 \n",
       "L 281.600852 239.758125 \n",
       "z\n",
       "\" clip-path=\"url(#p37ef800d5e)\" style=\"fill: #1f77b4\"/>\n",
       "   </g>\n",
       "   <g id=\"patch_44\">\n",
       "    <path d=\"M 286.67358 239.758125 \n",
       "L 291.746307 239.758125 \n",
       "L 291.746307 239.758125 \n",
       "L 286.67358 239.758125 \n",
       "z\n",
       "\" clip-path=\"url(#p37ef800d5e)\" style=\"fill: #1f77b4\"/>\n",
       "   </g>\n",
       "   <g id=\"patch_45\">\n",
       "    <path d=\"M 291.746307 239.758125 \n",
       "L 296.819034 239.758125 \n",
       "L 296.819034 239.758125 \n",
       "L 291.746307 239.758125 \n",
       "z\n",
       "\" clip-path=\"url(#p37ef800d5e)\" style=\"fill: #1f77b4\"/>\n",
       "   </g>\n",
       "   <g id=\"patch_46\">\n",
       "    <path d=\"M 296.819034 239.758125 \n",
       "L 301.891761 239.758125 \n",
       "L 301.891761 239.758125 \n",
       "L 296.819034 239.758125 \n",
       "z\n",
       "\" clip-path=\"url(#p37ef800d5e)\" style=\"fill: #1f77b4\"/>\n",
       "   </g>\n",
       "   <g id=\"patch_47\">\n",
       "    <path d=\"M 301.891761 239.758125 \n",
       "L 306.964489 239.758125 \n",
       "L 306.964489 239.758125 \n",
       "L 301.891761 239.758125 \n",
       "z\n",
       "\" clip-path=\"url(#p37ef800d5e)\" style=\"fill: #1f77b4\"/>\n",
       "   </g>\n",
       "   <g id=\"patch_48\">\n",
       "    <path d=\"M 306.964489 239.758125 \n",
       "L 312.037216 239.758125 \n",
       "L 312.037216 239.758125 \n",
       "L 306.964489 239.758125 \n",
       "z\n",
       "\" clip-path=\"url(#p37ef800d5e)\" style=\"fill: #1f77b4\"/>\n",
       "   </g>\n",
       "   <g id=\"patch_49\">\n",
       "    <path d=\"M 312.037216 239.758125 \n",
       "L 317.109943 239.758125 \n",
       "L 317.109943 239.758125 \n",
       "L 312.037216 239.758125 \n",
       "z\n",
       "\" clip-path=\"url(#p37ef800d5e)\" style=\"fill: #1f77b4\"/>\n",
       "   </g>\n",
       "   <g id=\"patch_50\">\n",
       "    <path d=\"M 317.109943 239.758125 \n",
       "L 322.18267 239.758125 \n",
       "L 322.18267 239.758125 \n",
       "L 317.109943 239.758125 \n",
       "z\n",
       "\" clip-path=\"url(#p37ef800d5e)\" style=\"fill: #1f77b4\"/>\n",
       "   </g>\n",
       "   <g id=\"patch_51\">\n",
       "    <path d=\"M 322.18267 239.758125 \n",
       "L 327.255398 239.758125 \n",
       "L 327.255398 239.758125 \n",
       "L 322.18267 239.758125 \n",
       "z\n",
       "\" clip-path=\"url(#p37ef800d5e)\" style=\"fill: #1f77b4\"/>\n",
       "   </g>\n",
       "   <g id=\"patch_52\">\n",
       "    <path d=\"M 327.255398 239.758125 \n",
       "L 332.328125 239.758125 \n",
       "L 332.328125 239.758125 \n",
       "L 327.255398 239.758125 \n",
       "z\n",
       "\" clip-path=\"url(#p37ef800d5e)\" style=\"fill: #1f77b4\"/>\n",
       "   </g>\n",
       "   <g id=\"patch_53\">\n",
       "    <path d=\"M 332.328125 239.758125 \n",
       "L 337.400852 239.758125 \n",
       "L 337.400852 32.672411 \n",
       "L 332.328125 32.672411 \n",
       "z\n",
       "\" clip-path=\"url(#p37ef800d5e)\" style=\"fill: #1f77b4\"/>\n",
       "   </g>\n",
       "   <g id=\"patch_54\">\n",
       "    <path d=\"M 337.400852 239.758125 \n",
       "L 342.47358 239.758125 \n",
       "L 342.47358 239.758125 \n",
       "L 337.400852 239.758125 \n",
       "z\n",
       "\" clip-path=\"url(#p37ef800d5e)\" style=\"fill: #1f77b4\"/>\n",
       "   </g>\n",
       "   <g id=\"patch_55\">\n",
       "    <path d=\"M 342.47358 239.758125 \n",
       "L 347.546307 239.758125 \n",
       "L 347.546307 239.758125 \n",
       "L 342.47358 239.758125 \n",
       "z\n",
       "\" clip-path=\"url(#p37ef800d5e)\" style=\"fill: #1f77b4\"/>\n",
       "   </g>\n",
       "   <g id=\"patch_56\">\n",
       "    <path d=\"M 347.546307 239.758125 \n",
       "L 352.619034 239.758125 \n",
       "L 352.619034 239.758125 \n",
       "L 347.546307 239.758125 \n",
       "z\n",
       "\" clip-path=\"url(#p37ef800d5e)\" style=\"fill: #1f77b4\"/>\n",
       "   </g>\n",
       "   <g id=\"patch_57\">\n",
       "    <path d=\"M 352.619034 239.758125 \n",
       "L 357.691761 239.758125 \n",
       "L 357.691761 239.758125 \n",
       "L 352.619034 239.758125 \n",
       "z\n",
       "\" clip-path=\"url(#p37ef800d5e)\" style=\"fill: #1f77b4\"/>\n",
       "   </g>\n",
       "   <g id=\"patch_58\">\n",
       "    <path d=\"M 357.691761 239.758125 \n",
       "L 362.764489 239.758125 \n",
       "L 362.764489 239.758125 \n",
       "L 357.691761 239.758125 \n",
       "z\n",
       "\" clip-path=\"url(#p37ef800d5e)\" style=\"fill: #1f77b4\"/>\n",
       "   </g>\n",
       "   <g id=\"patch_59\">\n",
       "    <path d=\"M 362.764489 239.758125 \n",
       "L 367.837216 239.758125 \n",
       "L 367.837216 239.758125 \n",
       "L 362.764489 239.758125 \n",
       "z\n",
       "\" clip-path=\"url(#p37ef800d5e)\" style=\"fill: #1f77b4\"/>\n",
       "   </g>\n",
       "   <g id=\"patch_60\">\n",
       "    <path d=\"M 367.837216 239.758125 \n",
       "L 372.909943 239.758125 \n",
       "L 372.909943 239.758125 \n",
       "L 367.837216 239.758125 \n",
       "z\n",
       "\" clip-path=\"url(#p37ef800d5e)\" style=\"fill: #1f77b4\"/>\n",
       "   </g>\n",
       "   <g id=\"patch_61\">\n",
       "    <path d=\"M 372.909943 239.758125 \n",
       "L 377.98267 239.758125 \n",
       "L 377.98267 239.758125 \n",
       "L 372.909943 239.758125 \n",
       "z\n",
       "\" clip-path=\"url(#p37ef800d5e)\" style=\"fill: #1f77b4\"/>\n",
       "   </g>\n",
       "   <g id=\"patch_62\">\n",
       "    <path d=\"M 377.98267 239.758125 \n",
       "L 383.055398 239.758125 \n",
       "L 383.055398 239.758125 \n",
       "L 377.98267 239.758125 \n",
       "z\n",
       "\" clip-path=\"url(#p37ef800d5e)\" style=\"fill: #1f77b4\"/>\n",
       "   </g>\n",
       "   <g id=\"patch_63\">\n",
       "    <path d=\"M 383.055398 239.758125 \n",
       "L 388.128125 239.758125 \n",
       "L 388.128125 239.758125 \n",
       "L 383.055398 239.758125 \n",
       "z\n",
       "\" clip-path=\"url(#p37ef800d5e)\" style=\"fill: #1f77b4\"/>\n",
       "   </g>\n",
       "   <g id=\"patch_64\">\n",
       "    <path d=\"M 388.128125 239.758125 \n",
       "L 393.200852 239.758125 \n",
       "L 393.200852 239.758125 \n",
       "L 388.128125 239.758125 \n",
       "z\n",
       "\" clip-path=\"url(#p37ef800d5e)\" style=\"fill: #1f77b4\"/>\n",
       "   </g>\n",
       "   <g id=\"patch_65\">\n",
       "    <path d=\"M 393.200852 239.758125 \n",
       "L 398.27358 239.758125 \n",
       "L 398.27358 239.758125 \n",
       "L 393.200852 239.758125 \n",
       "z\n",
       "\" clip-path=\"url(#p37ef800d5e)\" style=\"fill: #1f77b4\"/>\n",
       "   </g>\n",
       "   <g id=\"patch_66\">\n",
       "    <path d=\"M 398.27358 239.758125 \n",
       "L 403.346307 239.758125 \n",
       "L 403.346307 239.758125 \n",
       "L 398.27358 239.758125 \n",
       "z\n",
       "\" clip-path=\"url(#p37ef800d5e)\" style=\"fill: #1f77b4\"/>\n",
       "   </g>\n",
       "   <g id=\"patch_67\">\n",
       "    <path d=\"M 403.346307 239.758125 \n",
       "L 408.419034 239.758125 \n",
       "L 408.419034 239.758125 \n",
       "L 403.346307 239.758125 \n",
       "z\n",
       "\" clip-path=\"url(#p37ef800d5e)\" style=\"fill: #1f77b4\"/>\n",
       "   </g>\n",
       "   <g id=\"patch_68\">\n",
       "    <path d=\"M 408.419034 239.758125 \n",
       "L 413.491761 239.758125 \n",
       "L 413.491761 239.758125 \n",
       "L 408.419034 239.758125 \n",
       "z\n",
       "\" clip-path=\"url(#p37ef800d5e)\" style=\"fill: #1f77b4\"/>\n",
       "   </g>\n",
       "   <g id=\"patch_69\">\n",
       "    <path d=\"M 413.491761 239.758125 \n",
       "L 418.564489 239.758125 \n",
       "L 418.564489 239.758125 \n",
       "L 413.491761 239.758125 \n",
       "z\n",
       "\" clip-path=\"url(#p37ef800d5e)\" style=\"fill: #1f77b4\"/>\n",
       "   </g>\n",
       "   <g id=\"patch_70\">\n",
       "    <path d=\"M 418.564489 239.758125 \n",
       "L 423.637216 239.758125 \n",
       "L 423.637216 239.758125 \n",
       "L 418.564489 239.758125 \n",
       "z\n",
       "\" clip-path=\"url(#p37ef800d5e)\" style=\"fill: #1f77b4\"/>\n",
       "   </g>\n",
       "   <g id=\"patch_71\">\n",
       "    <path d=\"M 423.637216 239.758125 \n",
       "L 428.709943 239.758125 \n",
       "L 428.709943 239.758125 \n",
       "L 423.637216 239.758125 \n",
       "z\n",
       "\" clip-path=\"url(#p37ef800d5e)\" style=\"fill: #1f77b4\"/>\n",
       "   </g>\n",
       "   <g id=\"patch_72\">\n",
       "    <path d=\"M 428.709943 239.758125 \n",
       "L 433.78267 239.758125 \n",
       "L 433.78267 239.758125 \n",
       "L 428.709943 239.758125 \n",
       "z\n",
       "\" clip-path=\"url(#p37ef800d5e)\" style=\"fill: #1f77b4\"/>\n",
       "   </g>\n",
       "   <g id=\"patch_73\">\n",
       "    <path d=\"M 433.78267 239.758125 \n",
       "L 438.855398 239.758125 \n",
       "L 438.855398 239.758125 \n",
       "L 433.78267 239.758125 \n",
       "z\n",
       "\" clip-path=\"url(#p37ef800d5e)\" style=\"fill: #1f77b4\"/>\n",
       "   </g>\n",
       "   <g id=\"patch_74\">\n",
       "    <path d=\"M 438.855398 239.758125 \n",
       "L 443.928125 239.758125 \n",
       "L 443.928125 239.758125 \n",
       "L 438.855398 239.758125 \n",
       "z\n",
       "\" clip-path=\"url(#p37ef800d5e)\" style=\"fill: #1f77b4\"/>\n",
       "   </g>\n",
       "   <g id=\"patch_75\">\n",
       "    <path d=\"M 443.928125 239.758125 \n",
       "L 449.000852 239.758125 \n",
       "L 449.000852 239.758125 \n",
       "L 443.928125 239.758125 \n",
       "z\n",
       "\" clip-path=\"url(#p37ef800d5e)\" style=\"fill: #1f77b4\"/>\n",
       "   </g>\n",
       "   <g id=\"patch_76\">\n",
       "    <path d=\"M 449.000852 239.758125 \n",
       "L 454.07358 239.758125 \n",
       "L 454.07358 239.758125 \n",
       "L 449.000852 239.758125 \n",
       "z\n",
       "\" clip-path=\"url(#p37ef800d5e)\" style=\"fill: #1f77b4\"/>\n",
       "   </g>\n",
       "   <g id=\"patch_77\">\n",
       "    <path d=\"M 454.07358 239.758125 \n",
       "L 459.146307 239.758125 \n",
       "L 459.146307 239.758125 \n",
       "L 454.07358 239.758125 \n",
       "z\n",
       "\" clip-path=\"url(#p37ef800d5e)\" style=\"fill: #1f77b4\"/>\n",
       "   </g>\n",
       "   <g id=\"patch_78\">\n",
       "    <path d=\"M 459.146307 239.758125 \n",
       "L 464.219034 239.758125 \n",
       "L 464.219034 239.758125 \n",
       "L 459.146307 239.758125 \n",
       "z\n",
       "\" clip-path=\"url(#p37ef800d5e)\" style=\"fill: #1f77b4\"/>\n",
       "   </g>\n",
       "   <g id=\"patch_79\">\n",
       "    <path d=\"M 464.219034 239.758125 \n",
       "L 469.291761 239.758125 \n",
       "L 469.291761 239.758125 \n",
       "L 464.219034 239.758125 \n",
       "z\n",
       "\" clip-path=\"url(#p37ef800d5e)\" style=\"fill: #1f77b4\"/>\n",
       "   </g>\n",
       "   <g id=\"patch_80\">\n",
       "    <path d=\"M 469.291761 239.758125 \n",
       "L 474.364489 239.758125 \n",
       "L 474.364489 239.758125 \n",
       "L 469.291761 239.758125 \n",
       "z\n",
       "\" clip-path=\"url(#p37ef800d5e)\" style=\"fill: #1f77b4\"/>\n",
       "   </g>\n",
       "   <g id=\"patch_81\">\n",
       "    <path d=\"M 474.364489 239.758125 \n",
       "L 479.437216 239.758125 \n",
       "L 479.437216 239.758125 \n",
       "L 474.364489 239.758125 \n",
       "z\n",
       "\" clip-path=\"url(#p37ef800d5e)\" style=\"fill: #1f77b4\"/>\n",
       "   </g>\n",
       "   <g id=\"patch_82\">\n",
       "    <path d=\"M 479.437216 239.758125 \n",
       "L 484.509943 239.758125 \n",
       "L 484.509943 239.758125 \n",
       "L 479.437216 239.758125 \n",
       "z\n",
       "\" clip-path=\"url(#p37ef800d5e)\" style=\"fill: #1f77b4\"/>\n",
       "   </g>\n",
       "   <g id=\"patch_83\">\n",
       "    <path d=\"M 484.509943 239.758125 \n",
       "L 489.58267 239.758125 \n",
       "L 489.58267 239.758125 \n",
       "L 484.509943 239.758125 \n",
       "z\n",
       "\" clip-path=\"url(#p37ef800d5e)\" style=\"fill: #1f77b4\"/>\n",
       "   </g>\n",
       "   <g id=\"patch_84\">\n",
       "    <path d=\"M 489.58267 239.758125 \n",
       "L 494.655398 239.758125 \n",
       "L 494.655398 239.758125 \n",
       "L 489.58267 239.758125 \n",
       "z\n",
       "\" clip-path=\"url(#p37ef800d5e)\" style=\"fill: #1f77b4\"/>\n",
       "   </g>\n",
       "   <g id=\"patch_85\">\n",
       "    <path d=\"M 494.655398 239.758125 \n",
       "L 499.728125 239.758125 \n",
       "L 499.728125 239.758125 \n",
       "L 494.655398 239.758125 \n",
       "z\n",
       "\" clip-path=\"url(#p37ef800d5e)\" style=\"fill: #1f77b4\"/>\n",
       "   </g>\n",
       "   <g id=\"patch_86\">\n",
       "    <path d=\"M 499.728125 239.758125 \n",
       "L 504.800852 239.758125 \n",
       "L 504.800852 239.758125 \n",
       "L 499.728125 239.758125 \n",
       "z\n",
       "\" clip-path=\"url(#p37ef800d5e)\" style=\"fill: #1f77b4\"/>\n",
       "   </g>\n",
       "   <g id=\"patch_87\">\n",
       "    <path d=\"M 504.800852 239.758125 \n",
       "L 509.87358 239.758125 \n",
       "L 509.87358 239.758125 \n",
       "L 504.800852 239.758125 \n",
       "z\n",
       "\" clip-path=\"url(#p37ef800d5e)\" style=\"fill: #1f77b4\"/>\n",
       "   </g>\n",
       "   <g id=\"patch_88\">\n",
       "    <path d=\"M 509.87358 239.758125 \n",
       "L 514.946307 239.758125 \n",
       "L 514.946307 239.758125 \n",
       "L 509.87358 239.758125 \n",
       "z\n",
       "\" clip-path=\"url(#p37ef800d5e)\" style=\"fill: #1f77b4\"/>\n",
       "   </g>\n",
       "   <g id=\"patch_89\">\n",
       "    <path d=\"M 514.946307 239.758125 \n",
       "L 520.019034 239.758125 \n",
       "L 520.019034 239.758125 \n",
       "L 514.946307 239.758125 \n",
       "z\n",
       "\" clip-path=\"url(#p37ef800d5e)\" style=\"fill: #1f77b4\"/>\n",
       "   </g>\n",
       "   <g id=\"patch_90\">\n",
       "    <path d=\"M 520.019034 239.758125 \n",
       "L 525.091761 239.758125 \n",
       "L 525.091761 239.758125 \n",
       "L 520.019034 239.758125 \n",
       "z\n",
       "\" clip-path=\"url(#p37ef800d5e)\" style=\"fill: #1f77b4\"/>\n",
       "   </g>\n",
       "   <g id=\"patch_91\">\n",
       "    <path d=\"M 525.091761 239.758125 \n",
       "L 530.164489 239.758125 \n",
       "L 530.164489 239.758125 \n",
       "L 525.091761 239.758125 \n",
       "z\n",
       "\" clip-path=\"url(#p37ef800d5e)\" style=\"fill: #1f77b4\"/>\n",
       "   </g>\n",
       "   <g id=\"patch_92\">\n",
       "    <path d=\"M 530.164489 239.758125 \n",
       "L 535.237216 239.758125 \n",
       "L 535.237216 239.758125 \n",
       "L 530.164489 239.758125 \n",
       "z\n",
       "\" clip-path=\"url(#p37ef800d5e)\" style=\"fill: #1f77b4\"/>\n",
       "   </g>\n",
       "   <g id=\"patch_93\">\n",
       "    <path d=\"M 535.237216 239.758125 \n",
       "L 540.309943 239.758125 \n",
       "L 540.309943 239.758125 \n",
       "L 535.237216 239.758125 \n",
       "z\n",
       "\" clip-path=\"url(#p37ef800d5e)\" style=\"fill: #1f77b4\"/>\n",
       "   </g>\n",
       "   <g id=\"patch_94\">\n",
       "    <path d=\"M 540.309943 239.758125 \n",
       "L 545.38267 239.758125 \n",
       "L 545.38267 239.758125 \n",
       "L 540.309943 239.758125 \n",
       "z\n",
       "\" clip-path=\"url(#p37ef800d5e)\" style=\"fill: #1f77b4\"/>\n",
       "   </g>\n",
       "   <g id=\"patch_95\">\n",
       "    <path d=\"M 545.38267 239.758125 \n",
       "L 550.455398 239.758125 \n",
       "L 550.455398 239.758125 \n",
       "L 545.38267 239.758125 \n",
       "z\n",
       "\" clip-path=\"url(#p37ef800d5e)\" style=\"fill: #1f77b4\"/>\n",
       "   </g>\n",
       "   <g id=\"patch_96\">\n",
       "    <path d=\"M 550.455398 239.758125 \n",
       "L 555.528125 239.758125 \n",
       "L 555.528125 239.758125 \n",
       "L 550.455398 239.758125 \n",
       "z\n",
       "\" clip-path=\"url(#p37ef800d5e)\" style=\"fill: #1f77b4\"/>\n",
       "   </g>\n",
       "   <g id=\"patch_97\">\n",
       "    <path d=\"M 555.528125 239.758125 \n",
       "L 560.600852 239.758125 \n",
       "L 560.600852 239.758125 \n",
       "L 555.528125 239.758125 \n",
       "z\n",
       "\" clip-path=\"url(#p37ef800d5e)\" style=\"fill: #1f77b4\"/>\n",
       "   </g>\n",
       "   <g id=\"patch_98\">\n",
       "    <path d=\"M 560.600852 239.758125 \n",
       "L 565.67358 239.758125 \n",
       "L 565.67358 239.758125 \n",
       "L 560.600852 239.758125 \n",
       "z\n",
       "\" clip-path=\"url(#p37ef800d5e)\" style=\"fill: #1f77b4\"/>\n",
       "   </g>\n",
       "   <g id=\"patch_99\">\n",
       "    <path d=\"M 565.67358 239.758125 \n",
       "L 570.746307 239.758125 \n",
       "L 570.746307 239.758125 \n",
       "L 565.67358 239.758125 \n",
       "z\n",
       "\" clip-path=\"url(#p37ef800d5e)\" style=\"fill: #1f77b4\"/>\n",
       "   </g>\n",
       "   <g id=\"patch_100\">\n",
       "    <path d=\"M 570.746307 239.758125 \n",
       "L 575.819034 239.758125 \n",
       "L 575.819034 239.758125 \n",
       "L 570.746307 239.758125 \n",
       "z\n",
       "\" clip-path=\"url(#p37ef800d5e)\" style=\"fill: #1f77b4\"/>\n",
       "   </g>\n",
       "   <g id=\"patch_101\">\n",
       "    <path d=\"M 575.819034 239.758125 \n",
       "L 580.891761 239.758125 \n",
       "L 580.891761 239.758125 \n",
       "L 575.819034 239.758125 \n",
       "z\n",
       "\" clip-path=\"url(#p37ef800d5e)\" style=\"fill: #1f77b4\"/>\n",
       "   </g>\n",
       "   <g id=\"patch_102\">\n",
       "    <path d=\"M 580.891761 239.758125 \n",
       "L 585.964489 239.758125 \n",
       "L 585.964489 239.758125 \n",
       "L 580.891761 239.758125 \n",
       "z\n",
       "\" clip-path=\"url(#p37ef800d5e)\" style=\"fill: #1f77b4\"/>\n",
       "   </g>\n",
       "   <g id=\"matplotlib.axis_1\">\n",
       "    <g id=\"xtick_1\">\n",
       "     <g id=\"line2d_1\">\n",
       "      <defs>\n",
       "       <path id=\"mf8e78f8968\" d=\"M 0 0 \n",
       "L 0 3.5 \n",
       "\" style=\"stroke: #000000; stroke-width: 0.8\"/>\n",
       "      </defs>\n",
       "      <g>\n",
       "       <use xlink:href=\"#mf8e78f8968\" x=\"129.419034\" y=\"239.758125\" style=\"stroke: #000000; stroke-width: 0.8\"/>\n",
       "      </g>\n",
       "     </g>\n",
       "     <g id=\"text_1\">\n",
       "      <!-- 499.6 -->\n",
       "      <g transform=\"translate(115.104972 254.356563)scale(0.1 -0.1)\">\n",
       "       <defs>\n",
       "        <path id=\"DejaVuSans-34\" d=\"M 2419 4116 \n",
       "L 825 1625 \n",
       "L 2419 1625 \n",
       "L 2419 4116 \n",
       "z\n",
       "M 2253 4666 \n",
       "L 3047 4666 \n",
       "L 3047 1625 \n",
       "L 3713 1625 \n",
       "L 3713 1100 \n",
       "L 3047 1100 \n",
       "L 3047 0 \n",
       "L 2419 0 \n",
       "L 2419 1100 \n",
       "L 313 1100 \n",
       "L 313 1709 \n",
       "L 2253 4666 \n",
       "z\n",
       "\" transform=\"scale(0.015625)\"/>\n",
       "        <path id=\"DejaVuSans-39\" d=\"M 703 97 \n",
       "L 703 672 \n",
       "Q 941 559 1184 500 \n",
       "Q 1428 441 1663 441 \n",
       "Q 2288 441 2617 861 \n",
       "Q 2947 1281 2994 2138 \n",
       "Q 2813 1869 2534 1725 \n",
       "Q 2256 1581 1919 1581 \n",
       "Q 1219 1581 811 2004 \n",
       "Q 403 2428 403 3163 \n",
       "Q 403 3881 828 4315 \n",
       "Q 1253 4750 1959 4750 \n",
       "Q 2769 4750 3195 4129 \n",
       "Q 3622 3509 3622 2328 \n",
       "Q 3622 1225 3098 567 \n",
       "Q 2575 -91 1691 -91 \n",
       "Q 1453 -91 1209 -44 \n",
       "Q 966 3 703 97 \n",
       "z\n",
       "M 1959 2075 \n",
       "Q 2384 2075 2632 2365 \n",
       "Q 2881 2656 2881 3163 \n",
       "Q 2881 3666 2632 3958 \n",
       "Q 2384 4250 1959 4250 \n",
       "Q 1534 4250 1286 3958 \n",
       "Q 1038 3666 1038 3163 \n",
       "Q 1038 2656 1286 2365 \n",
       "Q 1534 2075 1959 2075 \n",
       "z\n",
       "\" transform=\"scale(0.015625)\"/>\n",
       "        <path id=\"DejaVuSans-2e\" d=\"M 684 794 \n",
       "L 1344 794 \n",
       "L 1344 0 \n",
       "L 684 0 \n",
       "L 684 794 \n",
       "z\n",
       "\" transform=\"scale(0.015625)\"/>\n",
       "        <path id=\"DejaVuSans-36\" d=\"M 2113 2584 \n",
       "Q 1688 2584 1439 2293 \n",
       "Q 1191 2003 1191 1497 \n",
       "Q 1191 994 1439 701 \n",
       "Q 1688 409 2113 409 \n",
       "Q 2538 409 2786 701 \n",
       "Q 3034 994 3034 1497 \n",
       "Q 3034 2003 2786 2293 \n",
       "Q 2538 2584 2113 2584 \n",
       "z\n",
       "M 3366 4563 \n",
       "L 3366 3988 \n",
       "Q 3128 4100 2886 4159 \n",
       "Q 2644 4219 2406 4219 \n",
       "Q 1781 4219 1451 3797 \n",
       "Q 1122 3375 1075 2522 \n",
       "Q 1259 2794 1537 2939 \n",
       "Q 1816 3084 2150 3084 \n",
       "Q 2853 3084 3261 2657 \n",
       "Q 3669 2231 3669 1497 \n",
       "Q 3669 778 3244 343 \n",
       "Q 2819 -91 2113 -91 \n",
       "Q 1303 -91 875 529 \n",
       "Q 447 1150 447 2328 \n",
       "Q 447 3434 972 4092 \n",
       "Q 1497 4750 2381 4750 \n",
       "Q 2619 4750 2861 4703 \n",
       "Q 3103 4656 3366 4563 \n",
       "z\n",
       "\" transform=\"scale(0.015625)\"/>\n",
       "       </defs>\n",
       "       <use xlink:href=\"#DejaVuSans-34\"/>\n",
       "       <use xlink:href=\"#DejaVuSans-39\" x=\"63.623047\"/>\n",
       "       <use xlink:href=\"#DejaVuSans-39\" x=\"127.246094\"/>\n",
       "       <use xlink:href=\"#DejaVuSans-2e\" x=\"190.869141\"/>\n",
       "       <use xlink:href=\"#DejaVuSans-36\" x=\"222.65625\"/>\n",
       "      </g>\n",
       "     </g>\n",
       "    </g>\n",
       "    <g id=\"xtick_2\">\n",
       "     <g id=\"line2d_2\">\n",
       "      <g>\n",
       "       <use xlink:href=\"#mf8e78f8968\" x=\"230.87358\" y=\"239.758125\" style=\"stroke: #000000; stroke-width: 0.8\"/>\n",
       "      </g>\n",
       "     </g>\n",
       "     <g id=\"text_2\">\n",
       "      <!-- 499.8 -->\n",
       "      <g transform=\"translate(216.559517 254.356563)scale(0.1 -0.1)\">\n",
       "       <defs>\n",
       "        <path id=\"DejaVuSans-38\" d=\"M 2034 2216 \n",
       "Q 1584 2216 1326 1975 \n",
       "Q 1069 1734 1069 1313 \n",
       "Q 1069 891 1326 650 \n",
       "Q 1584 409 2034 409 \n",
       "Q 2484 409 2743 651 \n",
       "Q 3003 894 3003 1313 \n",
       "Q 3003 1734 2745 1975 \n",
       "Q 2488 2216 2034 2216 \n",
       "z\n",
       "M 1403 2484 \n",
       "Q 997 2584 770 2862 \n",
       "Q 544 3141 544 3541 \n",
       "Q 544 4100 942 4425 \n",
       "Q 1341 4750 2034 4750 \n",
       "Q 2731 4750 3128 4425 \n",
       "Q 3525 4100 3525 3541 \n",
       "Q 3525 3141 3298 2862 \n",
       "Q 3072 2584 2669 2484 \n",
       "Q 3125 2378 3379 2068 \n",
       "Q 3634 1759 3634 1313 \n",
       "Q 3634 634 3220 271 \n",
       "Q 2806 -91 2034 -91 \n",
       "Q 1263 -91 848 271 \n",
       "Q 434 634 434 1313 \n",
       "Q 434 1759 690 2068 \n",
       "Q 947 2378 1403 2484 \n",
       "z\n",
       "M 1172 3481 \n",
       "Q 1172 3119 1398 2916 \n",
       "Q 1625 2713 2034 2713 \n",
       "Q 2441 2713 2670 2916 \n",
       "Q 2900 3119 2900 3481 \n",
       "Q 2900 3844 2670 4047 \n",
       "Q 2441 4250 2034 4250 \n",
       "Q 1625 4250 1398 4047 \n",
       "Q 1172 3844 1172 3481 \n",
       "z\n",
       "\" transform=\"scale(0.015625)\"/>\n",
       "       </defs>\n",
       "       <use xlink:href=\"#DejaVuSans-34\"/>\n",
       "       <use xlink:href=\"#DejaVuSans-39\" x=\"63.623047\"/>\n",
       "       <use xlink:href=\"#DejaVuSans-39\" x=\"127.246094\"/>\n",
       "       <use xlink:href=\"#DejaVuSans-2e\" x=\"190.869141\"/>\n",
       "       <use xlink:href=\"#DejaVuSans-38\" x=\"222.65625\"/>\n",
       "      </g>\n",
       "     </g>\n",
       "    </g>\n",
       "    <g id=\"xtick_3\">\n",
       "     <g id=\"line2d_3\">\n",
       "      <g>\n",
       "       <use xlink:href=\"#mf8e78f8968\" x=\"332.328125\" y=\"239.758125\" style=\"stroke: #000000; stroke-width: 0.8\"/>\n",
       "      </g>\n",
       "     </g>\n",
       "     <g id=\"text_3\">\n",
       "      <!-- 500.0 -->\n",
       "      <g transform=\"translate(318.014063 254.356563)scale(0.1 -0.1)\">\n",
       "       <defs>\n",
       "        <path id=\"DejaVuSans-35\" d=\"M 691 4666 \n",
       "L 3169 4666 \n",
       "L 3169 4134 \n",
       "L 1269 4134 \n",
       "L 1269 2991 \n",
       "Q 1406 3038 1543 3061 \n",
       "Q 1681 3084 1819 3084 \n",
       "Q 2600 3084 3056 2656 \n",
       "Q 3513 2228 3513 1497 \n",
       "Q 3513 744 3044 326 \n",
       "Q 2575 -91 1722 -91 \n",
       "Q 1428 -91 1123 -41 \n",
       "Q 819 9 494 109 \n",
       "L 494 744 \n",
       "Q 775 591 1075 516 \n",
       "Q 1375 441 1709 441 \n",
       "Q 2250 441 2565 725 \n",
       "Q 2881 1009 2881 1497 \n",
       "Q 2881 1984 2565 2268 \n",
       "Q 2250 2553 1709 2553 \n",
       "Q 1456 2553 1204 2497 \n",
       "Q 953 2441 691 2322 \n",
       "L 691 4666 \n",
       "z\n",
       "\" transform=\"scale(0.015625)\"/>\n",
       "        <path id=\"DejaVuSans-30\" d=\"M 2034 4250 \n",
       "Q 1547 4250 1301 3770 \n",
       "Q 1056 3291 1056 2328 \n",
       "Q 1056 1369 1301 889 \n",
       "Q 1547 409 2034 409 \n",
       "Q 2525 409 2770 889 \n",
       "Q 3016 1369 3016 2328 \n",
       "Q 3016 3291 2770 3770 \n",
       "Q 2525 4250 2034 4250 \n",
       "z\n",
       "M 2034 4750 \n",
       "Q 2819 4750 3233 4129 \n",
       "Q 3647 3509 3647 2328 \n",
       "Q 3647 1150 3233 529 \n",
       "Q 2819 -91 2034 -91 \n",
       "Q 1250 -91 836 529 \n",
       "Q 422 1150 422 2328 \n",
       "Q 422 3509 836 4129 \n",
       "Q 1250 4750 2034 4750 \n",
       "z\n",
       "\" transform=\"scale(0.015625)\"/>\n",
       "       </defs>\n",
       "       <use xlink:href=\"#DejaVuSans-35\"/>\n",
       "       <use xlink:href=\"#DejaVuSans-30\" x=\"63.623047\"/>\n",
       "       <use xlink:href=\"#DejaVuSans-30\" x=\"127.246094\"/>\n",
       "       <use xlink:href=\"#DejaVuSans-2e\" x=\"190.869141\"/>\n",
       "       <use xlink:href=\"#DejaVuSans-30\" x=\"222.65625\"/>\n",
       "      </g>\n",
       "     </g>\n",
       "    </g>\n",
       "    <g id=\"xtick_4\">\n",
       "     <g id=\"line2d_4\">\n",
       "      <g>\n",
       "       <use xlink:href=\"#mf8e78f8968\" x=\"433.78267\" y=\"239.758125\" style=\"stroke: #000000; stroke-width: 0.8\"/>\n",
       "      </g>\n",
       "     </g>\n",
       "     <g id=\"text_4\">\n",
       "      <!-- 500.2 -->\n",
       "      <g transform=\"translate(419.468608 254.356563)scale(0.1 -0.1)\">\n",
       "       <defs>\n",
       "        <path id=\"DejaVuSans-32\" d=\"M 1228 531 \n",
       "L 3431 531 \n",
       "L 3431 0 \n",
       "L 469 0 \n",
       "L 469 531 \n",
       "Q 828 903 1448 1529 \n",
       "Q 2069 2156 2228 2338 \n",
       "Q 2531 2678 2651 2914 \n",
       "Q 2772 3150 2772 3378 \n",
       "Q 2772 3750 2511 3984 \n",
       "Q 2250 4219 1831 4219 \n",
       "Q 1534 4219 1204 4116 \n",
       "Q 875 4013 500 3803 \n",
       "L 500 4441 \n",
       "Q 881 4594 1212 4672 \n",
       "Q 1544 4750 1819 4750 \n",
       "Q 2544 4750 2975 4387 \n",
       "Q 3406 4025 3406 3419 \n",
       "Q 3406 3131 3298 2873 \n",
       "Q 3191 2616 2906 2266 \n",
       "Q 2828 2175 2409 1742 \n",
       "Q 1991 1309 1228 531 \n",
       "z\n",
       "\" transform=\"scale(0.015625)\"/>\n",
       "       </defs>\n",
       "       <use xlink:href=\"#DejaVuSans-35\"/>\n",
       "       <use xlink:href=\"#DejaVuSans-30\" x=\"63.623047\"/>\n",
       "       <use xlink:href=\"#DejaVuSans-30\" x=\"127.246094\"/>\n",
       "       <use xlink:href=\"#DejaVuSans-2e\" x=\"190.869141\"/>\n",
       "       <use xlink:href=\"#DejaVuSans-32\" x=\"222.65625\"/>\n",
       "      </g>\n",
       "     </g>\n",
       "    </g>\n",
       "    <g id=\"xtick_5\">\n",
       "     <g id=\"line2d_5\">\n",
       "      <g>\n",
       "       <use xlink:href=\"#mf8e78f8968\" x=\"535.237216\" y=\"239.758125\" style=\"stroke: #000000; stroke-width: 0.8\"/>\n",
       "      </g>\n",
       "     </g>\n",
       "     <g id=\"text_5\">\n",
       "      <!-- 500.4 -->\n",
       "      <g transform=\"translate(520.923153 254.356563)scale(0.1 -0.1)\">\n",
       "       <use xlink:href=\"#DejaVuSans-35\"/>\n",
       "       <use xlink:href=\"#DejaVuSans-30\" x=\"63.623047\"/>\n",
       "       <use xlink:href=\"#DejaVuSans-30\" x=\"127.246094\"/>\n",
       "       <use xlink:href=\"#DejaVuSans-2e\" x=\"190.869141\"/>\n",
       "       <use xlink:href=\"#DejaVuSans-34\" x=\"222.65625\"/>\n",
       "      </g>\n",
       "     </g>\n",
       "    </g>\n",
       "   </g>\n",
       "   <g id=\"matplotlib.axis_2\">\n",
       "    <g id=\"ytick_1\">\n",
       "     <g id=\"line2d_6\">\n",
       "      <defs>\n",
       "       <path id=\"m92f6a09295\" d=\"M 0 0 \n",
       "L -3.5 0 \n",
       "\" style=\"stroke: #000000; stroke-width: 0.8\"/>\n",
       "      </defs>\n",
       "      <g>\n",
       "       <use xlink:href=\"#m92f6a09295\" x=\"53.328125\" y=\"239.758125\" style=\"stroke: #000000; stroke-width: 0.8\"/>\n",
       "      </g>\n",
       "     </g>\n",
       "     <g id=\"text_6\">\n",
       "      <!-- 0 -->\n",
       "      <g transform=\"translate(39.965625 243.557344)scale(0.1 -0.1)\">\n",
       "       <use xlink:href=\"#DejaVuSans-30\"/>\n",
       "      </g>\n",
       "     </g>\n",
       "    </g>\n",
       "    <g id=\"ytick_2\">\n",
       "     <g id=\"line2d_7\">\n",
       "      <g>\n",
       "       <use xlink:href=\"#m92f6a09295\" x=\"53.328125\" y=\"198.340982\" style=\"stroke: #000000; stroke-width: 0.8\"/>\n",
       "      </g>\n",
       "     </g>\n",
       "     <g id=\"text_7\">\n",
       "      <!-- 200 -->\n",
       "      <g transform=\"translate(27.240625 202.140201)scale(0.1 -0.1)\">\n",
       "       <use xlink:href=\"#DejaVuSans-32\"/>\n",
       "       <use xlink:href=\"#DejaVuSans-30\" x=\"63.623047\"/>\n",
       "       <use xlink:href=\"#DejaVuSans-30\" x=\"127.246094\"/>\n",
       "      </g>\n",
       "     </g>\n",
       "    </g>\n",
       "    <g id=\"ytick_3\">\n",
       "     <g id=\"line2d_8\">\n",
       "      <g>\n",
       "       <use xlink:href=\"#m92f6a09295\" x=\"53.328125\" y=\"156.923839\" style=\"stroke: #000000; stroke-width: 0.8\"/>\n",
       "      </g>\n",
       "     </g>\n",
       "     <g id=\"text_8\">\n",
       "      <!-- 400 -->\n",
       "      <g transform=\"translate(27.240625 160.723058)scale(0.1 -0.1)\">\n",
       "       <use xlink:href=\"#DejaVuSans-34\"/>\n",
       "       <use xlink:href=\"#DejaVuSans-30\" x=\"63.623047\"/>\n",
       "       <use xlink:href=\"#DejaVuSans-30\" x=\"127.246094\"/>\n",
       "      </g>\n",
       "     </g>\n",
       "    </g>\n",
       "    <g id=\"ytick_4\">\n",
       "     <g id=\"line2d_9\">\n",
       "      <g>\n",
       "       <use xlink:href=\"#m92f6a09295\" x=\"53.328125\" y=\"115.506696\" style=\"stroke: #000000; stroke-width: 0.8\"/>\n",
       "      </g>\n",
       "     </g>\n",
       "     <g id=\"text_9\">\n",
       "      <!-- 600 -->\n",
       "      <g transform=\"translate(27.240625 119.305915)scale(0.1 -0.1)\">\n",
       "       <use xlink:href=\"#DejaVuSans-36\"/>\n",
       "       <use xlink:href=\"#DejaVuSans-30\" x=\"63.623047\"/>\n",
       "       <use xlink:href=\"#DejaVuSans-30\" x=\"127.246094\"/>\n",
       "      </g>\n",
       "     </g>\n",
       "    </g>\n",
       "    <g id=\"ytick_5\">\n",
       "     <g id=\"line2d_10\">\n",
       "      <g>\n",
       "       <use xlink:href=\"#m92f6a09295\" x=\"53.328125\" y=\"74.089554\" style=\"stroke: #000000; stroke-width: 0.8\"/>\n",
       "      </g>\n",
       "     </g>\n",
       "     <g id=\"text_10\">\n",
       "      <!-- 800 -->\n",
       "      <g transform=\"translate(27.240625 77.888772)scale(0.1 -0.1)\">\n",
       "       <use xlink:href=\"#DejaVuSans-38\"/>\n",
       "       <use xlink:href=\"#DejaVuSans-30\" x=\"63.623047\"/>\n",
       "       <use xlink:href=\"#DejaVuSans-30\" x=\"127.246094\"/>\n",
       "      </g>\n",
       "     </g>\n",
       "    </g>\n",
       "    <g id=\"ytick_6\">\n",
       "     <g id=\"line2d_11\">\n",
       "      <g>\n",
       "       <use xlink:href=\"#m92f6a09295\" x=\"53.328125\" y=\"32.672411\" style=\"stroke: #000000; stroke-width: 0.8\"/>\n",
       "      </g>\n",
       "     </g>\n",
       "     <g id=\"text_11\">\n",
       "      <!-- 1000 -->\n",
       "      <g transform=\"translate(20.878125 36.471629)scale(0.1 -0.1)\">\n",
       "       <defs>\n",
       "        <path id=\"DejaVuSans-31\" d=\"M 794 531 \n",
       "L 1825 531 \n",
       "L 1825 4091 \n",
       "L 703 3866 \n",
       "L 703 4441 \n",
       "L 1819 4666 \n",
       "L 2450 4666 \n",
       "L 2450 531 \n",
       "L 3481 531 \n",
       "L 3481 0 \n",
       "L 794 0 \n",
       "L 794 531 \n",
       "z\n",
       "\" transform=\"scale(0.015625)\"/>\n",
       "       </defs>\n",
       "       <use xlink:href=\"#DejaVuSans-31\"/>\n",
       "       <use xlink:href=\"#DejaVuSans-30\" x=\"63.623047\"/>\n",
       "       <use xlink:href=\"#DejaVuSans-30\" x=\"127.246094\"/>\n",
       "       <use xlink:href=\"#DejaVuSans-30\" x=\"190.869141\"/>\n",
       "      </g>\n",
       "     </g>\n",
       "    </g>\n",
       "    <g id=\"text_12\">\n",
       "     <!-- Frequency -->\n",
       "     <g transform=\"translate(14.798438 156.867813)rotate(-90)scale(0.1 -0.1)\">\n",
       "      <defs>\n",
       "       <path id=\"DejaVuSans-46\" d=\"M 628 4666 \n",
       "L 3309 4666 \n",
       "L 3309 4134 \n",
       "L 1259 4134 \n",
       "L 1259 2759 \n",
       "L 3109 2759 \n",
       "L 3109 2228 \n",
       "L 1259 2228 \n",
       "L 1259 0 \n",
       "L 628 0 \n",
       "L 628 4666 \n",
       "z\n",
       "\" transform=\"scale(0.015625)\"/>\n",
       "       <path id=\"DejaVuSans-72\" d=\"M 2631 2963 \n",
       "Q 2534 3019 2420 3045 \n",
       "Q 2306 3072 2169 3072 \n",
       "Q 1681 3072 1420 2755 \n",
       "Q 1159 2438 1159 1844 \n",
       "L 1159 0 \n",
       "L 581 0 \n",
       "L 581 3500 \n",
       "L 1159 3500 \n",
       "L 1159 2956 \n",
       "Q 1341 3275 1631 3429 \n",
       "Q 1922 3584 2338 3584 \n",
       "Q 2397 3584 2469 3576 \n",
       "Q 2541 3569 2628 3553 \n",
       "L 2631 2963 \n",
       "z\n",
       "\" transform=\"scale(0.015625)\"/>\n",
       "       <path id=\"DejaVuSans-65\" d=\"M 3597 1894 \n",
       "L 3597 1613 \n",
       "L 953 1613 \n",
       "Q 991 1019 1311 708 \n",
       "Q 1631 397 2203 397 \n",
       "Q 2534 397 2845 478 \n",
       "Q 3156 559 3463 722 \n",
       "L 3463 178 \n",
       "Q 3153 47 2828 -22 \n",
       "Q 2503 -91 2169 -91 \n",
       "Q 1331 -91 842 396 \n",
       "Q 353 884 353 1716 \n",
       "Q 353 2575 817 3079 \n",
       "Q 1281 3584 2069 3584 \n",
       "Q 2775 3584 3186 3129 \n",
       "Q 3597 2675 3597 1894 \n",
       "z\n",
       "M 3022 2063 \n",
       "Q 3016 2534 2758 2815 \n",
       "Q 2500 3097 2075 3097 \n",
       "Q 1594 3097 1305 2825 \n",
       "Q 1016 2553 972 2059 \n",
       "L 3022 2063 \n",
       "z\n",
       "\" transform=\"scale(0.015625)\"/>\n",
       "       <path id=\"DejaVuSans-71\" d=\"M 947 1747 \n",
       "Q 947 1113 1208 752 \n",
       "Q 1469 391 1925 391 \n",
       "Q 2381 391 2643 752 \n",
       "Q 2906 1113 2906 1747 \n",
       "Q 2906 2381 2643 2742 \n",
       "Q 2381 3103 1925 3103 \n",
       "Q 1469 3103 1208 2742 \n",
       "Q 947 2381 947 1747 \n",
       "z\n",
       "M 2906 525 \n",
       "Q 2725 213 2448 61 \n",
       "Q 2172 -91 1784 -91 \n",
       "Q 1150 -91 751 415 \n",
       "Q 353 922 353 1747 \n",
       "Q 353 2572 751 3078 \n",
       "Q 1150 3584 1784 3584 \n",
       "Q 2172 3584 2448 3432 \n",
       "Q 2725 3281 2906 2969 \n",
       "L 2906 3500 \n",
       "L 3481 3500 \n",
       "L 3481 -1331 \n",
       "L 2906 -1331 \n",
       "L 2906 525 \n",
       "z\n",
       "\" transform=\"scale(0.015625)\"/>\n",
       "       <path id=\"DejaVuSans-75\" d=\"M 544 1381 \n",
       "L 544 3500 \n",
       "L 1119 3500 \n",
       "L 1119 1403 \n",
       "Q 1119 906 1312 657 \n",
       "Q 1506 409 1894 409 \n",
       "Q 2359 409 2629 706 \n",
       "Q 2900 1003 2900 1516 \n",
       "L 2900 3500 \n",
       "L 3475 3500 \n",
       "L 3475 0 \n",
       "L 2900 0 \n",
       "L 2900 538 \n",
       "Q 2691 219 2414 64 \n",
       "Q 2138 -91 1772 -91 \n",
       "Q 1169 -91 856 284 \n",
       "Q 544 659 544 1381 \n",
       "z\n",
       "M 1991 3584 \n",
       "L 1991 3584 \n",
       "z\n",
       "\" transform=\"scale(0.015625)\"/>\n",
       "       <path id=\"DejaVuSans-6e\" d=\"M 3513 2113 \n",
       "L 3513 0 \n",
       "L 2938 0 \n",
       "L 2938 2094 \n",
       "Q 2938 2591 2744 2837 \n",
       "Q 2550 3084 2163 3084 \n",
       "Q 1697 3084 1428 2787 \n",
       "Q 1159 2491 1159 1978 \n",
       "L 1159 0 \n",
       "L 581 0 \n",
       "L 581 3500 \n",
       "L 1159 3500 \n",
       "L 1159 2956 \n",
       "Q 1366 3272 1645 3428 \n",
       "Q 1925 3584 2291 3584 \n",
       "Q 2894 3584 3203 3211 \n",
       "Q 3513 2838 3513 2113 \n",
       "z\n",
       "\" transform=\"scale(0.015625)\"/>\n",
       "       <path id=\"DejaVuSans-63\" d=\"M 3122 3366 \n",
       "L 3122 2828 \n",
       "Q 2878 2963 2633 3030 \n",
       "Q 2388 3097 2138 3097 \n",
       "Q 1578 3097 1268 2742 \n",
       "Q 959 2388 959 1747 \n",
       "Q 959 1106 1268 751 \n",
       "Q 1578 397 2138 397 \n",
       "Q 2388 397 2633 464 \n",
       "Q 2878 531 3122 666 \n",
       "L 3122 134 \n",
       "Q 2881 22 2623 -34 \n",
       "Q 2366 -91 2075 -91 \n",
       "Q 1284 -91 818 406 \n",
       "Q 353 903 353 1747 \n",
       "Q 353 2603 823 3093 \n",
       "Q 1294 3584 2113 3584 \n",
       "Q 2378 3584 2631 3529 \n",
       "Q 2884 3475 3122 3366 \n",
       "z\n",
       "\" transform=\"scale(0.015625)\"/>\n",
       "       <path id=\"DejaVuSans-79\" d=\"M 2059 -325 \n",
       "Q 1816 -950 1584 -1140 \n",
       "Q 1353 -1331 966 -1331 \n",
       "L 506 -1331 \n",
       "L 506 -850 \n",
       "L 844 -850 \n",
       "Q 1081 -850 1212 -737 \n",
       "Q 1344 -625 1503 -206 \n",
       "L 1606 56 \n",
       "L 191 3500 \n",
       "L 800 3500 \n",
       "L 1894 763 \n",
       "L 2988 3500 \n",
       "L 3597 3500 \n",
       "L 2059 -325 \n",
       "z\n",
       "\" transform=\"scale(0.015625)\"/>\n",
       "      </defs>\n",
       "      <use xlink:href=\"#DejaVuSans-46\"/>\n",
       "      <use xlink:href=\"#DejaVuSans-72\" x=\"50.269531\"/>\n",
       "      <use xlink:href=\"#DejaVuSans-65\" x=\"89.132812\"/>\n",
       "      <use xlink:href=\"#DejaVuSans-71\" x=\"150.65625\"/>\n",
       "      <use xlink:href=\"#DejaVuSans-75\" x=\"214.132812\"/>\n",
       "      <use xlink:href=\"#DejaVuSans-65\" x=\"277.511719\"/>\n",
       "      <use xlink:href=\"#DejaVuSans-6e\" x=\"339.035156\"/>\n",
       "      <use xlink:href=\"#DejaVuSans-63\" x=\"402.414062\"/>\n",
       "      <use xlink:href=\"#DejaVuSans-79\" x=\"457.394531\"/>\n",
       "     </g>\n",
       "    </g>\n",
       "   </g>\n",
       "   <g id=\"patch_103\">\n",
       "    <path d=\"M 53.328125 239.758125 \n",
       "L 53.328125 22.318125 \n",
       "\" style=\"fill: none; stroke: #000000; stroke-width: 0.8; stroke-linejoin: miter; stroke-linecap: square\"/>\n",
       "   </g>\n",
       "   <g id=\"patch_104\">\n",
       "    <path d=\"M 611.328125 239.758125 \n",
       "L 611.328125 22.318125 \n",
       "\" style=\"fill: none; stroke: #000000; stroke-width: 0.8; stroke-linejoin: miter; stroke-linecap: square\"/>\n",
       "   </g>\n",
       "   <g id=\"patch_105\">\n",
       "    <path d=\"M 53.328125 239.758125 \n",
       "L 611.328125 239.758125 \n",
       "\" style=\"fill: none; stroke: #000000; stroke-width: 0.8; stroke-linejoin: miter; stroke-linecap: square\"/>\n",
       "   </g>\n",
       "   <g id=\"patch_106\">\n",
       "    <path d=\"M 53.328125 22.318125 \n",
       "L 611.328125 22.318125 \n",
       "\" style=\"fill: none; stroke: #000000; stroke-width: 0.8; stroke-linejoin: miter; stroke-linecap: square\"/>\n",
       "   </g>\n",
       "   <g id=\"text_13\">\n",
       "    <!-- Rewards -->\n",
       "    <g transform=\"translate(306.857188 16.318125)scale(0.12 -0.12)\">\n",
       "     <defs>\n",
       "      <path id=\"DejaVuSans-52\" d=\"M 2841 2188 \n",
       "Q 3044 2119 3236 1894 \n",
       "Q 3428 1669 3622 1275 \n",
       "L 4263 0 \n",
       "L 3584 0 \n",
       "L 2988 1197 \n",
       "Q 2756 1666 2539 1819 \n",
       "Q 2322 1972 1947 1972 \n",
       "L 1259 1972 \n",
       "L 1259 0 \n",
       "L 628 0 \n",
       "L 628 4666 \n",
       "L 2053 4666 \n",
       "Q 2853 4666 3247 4331 \n",
       "Q 3641 3997 3641 3322 \n",
       "Q 3641 2881 3436 2590 \n",
       "Q 3231 2300 2841 2188 \n",
       "z\n",
       "M 1259 4147 \n",
       "L 1259 2491 \n",
       "L 2053 2491 \n",
       "Q 2509 2491 2742 2702 \n",
       "Q 2975 2913 2975 3322 \n",
       "Q 2975 3731 2742 3939 \n",
       "Q 2509 4147 2053 4147 \n",
       "L 1259 4147 \n",
       "z\n",
       "\" transform=\"scale(0.015625)\"/>\n",
       "      <path id=\"DejaVuSans-77\" d=\"M 269 3500 \n",
       "L 844 3500 \n",
       "L 1563 769 \n",
       "L 2278 3500 \n",
       "L 2956 3500 \n",
       "L 3675 769 \n",
       "L 4391 3500 \n",
       "L 4966 3500 \n",
       "L 4050 0 \n",
       "L 3372 0 \n",
       "L 2619 2869 \n",
       "L 1863 0 \n",
       "L 1184 0 \n",
       "L 269 3500 \n",
       "z\n",
       "\" transform=\"scale(0.015625)\"/>\n",
       "      <path id=\"DejaVuSans-61\" d=\"M 2194 1759 \n",
       "Q 1497 1759 1228 1600 \n",
       "Q 959 1441 959 1056 \n",
       "Q 959 750 1161 570 \n",
       "Q 1363 391 1709 391 \n",
       "Q 2188 391 2477 730 \n",
       "Q 2766 1069 2766 1631 \n",
       "L 2766 1759 \n",
       "L 2194 1759 \n",
       "z\n",
       "M 3341 1997 \n",
       "L 3341 0 \n",
       "L 2766 0 \n",
       "L 2766 531 \n",
       "Q 2569 213 2275 61 \n",
       "Q 1981 -91 1556 -91 \n",
       "Q 1019 -91 701 211 \n",
       "Q 384 513 384 1019 \n",
       "Q 384 1609 779 1909 \n",
       "Q 1175 2209 1959 2209 \n",
       "L 2766 2209 \n",
       "L 2766 2266 \n",
       "Q 2766 2663 2505 2880 \n",
       "Q 2244 3097 1772 3097 \n",
       "Q 1472 3097 1187 3025 \n",
       "Q 903 2953 641 2809 \n",
       "L 641 3341 \n",
       "Q 956 3463 1253 3523 \n",
       "Q 1550 3584 1831 3584 \n",
       "Q 2591 3584 2966 3190 \n",
       "Q 3341 2797 3341 1997 \n",
       "z\n",
       "\" transform=\"scale(0.015625)\"/>\n",
       "      <path id=\"DejaVuSans-64\" d=\"M 2906 2969 \n",
       "L 2906 4863 \n",
       "L 3481 4863 \n",
       "L 3481 0 \n",
       "L 2906 0 \n",
       "L 2906 525 \n",
       "Q 2725 213 2448 61 \n",
       "Q 2172 -91 1784 -91 \n",
       "Q 1150 -91 751 415 \n",
       "Q 353 922 353 1747 \n",
       "Q 353 2572 751 3078 \n",
       "Q 1150 3584 1784 3584 \n",
       "Q 2172 3584 2448 3432 \n",
       "Q 2725 3281 2906 2969 \n",
       "z\n",
       "M 947 1747 \n",
       "Q 947 1113 1208 752 \n",
       "Q 1469 391 1925 391 \n",
       "Q 2381 391 2643 752 \n",
       "Q 2906 1113 2906 1747 \n",
       "Q 2906 2381 2643 2742 \n",
       "Q 2381 3103 1925 3103 \n",
       "Q 1469 3103 1208 2742 \n",
       "Q 947 2381 947 1747 \n",
       "z\n",
       "\" transform=\"scale(0.015625)\"/>\n",
       "      <path id=\"DejaVuSans-73\" d=\"M 2834 3397 \n",
       "L 2834 2853 \n",
       "Q 2591 2978 2328 3040 \n",
       "Q 2066 3103 1784 3103 \n",
       "Q 1356 3103 1142 2972 \n",
       "Q 928 2841 928 2578 \n",
       "Q 928 2378 1081 2264 \n",
       "Q 1234 2150 1697 2047 \n",
       "L 1894 2003 \n",
       "Q 2506 1872 2764 1633 \n",
       "Q 3022 1394 3022 966 \n",
       "Q 3022 478 2636 193 \n",
       "Q 2250 -91 1575 -91 \n",
       "Q 1294 -91 989 -36 \n",
       "Q 684 19 347 128 \n",
       "L 347 722 \n",
       "Q 666 556 975 473 \n",
       "Q 1284 391 1588 391 \n",
       "Q 1994 391 2212 530 \n",
       "Q 2431 669 2431 922 \n",
       "Q 2431 1156 2273 1281 \n",
       "Q 2116 1406 1581 1522 \n",
       "L 1381 1569 \n",
       "Q 847 1681 609 1914 \n",
       "Q 372 2147 372 2553 \n",
       "Q 372 3047 722 3315 \n",
       "Q 1072 3584 1716 3584 \n",
       "Q 2034 3584 2315 3537 \n",
       "Q 2597 3491 2834 3397 \n",
       "z\n",
       "\" transform=\"scale(0.015625)\"/>\n",
       "     </defs>\n",
       "     <use xlink:href=\"#DejaVuSans-52\"/>\n",
       "     <use xlink:href=\"#DejaVuSans-65\" x=\"64.982422\"/>\n",
       "     <use xlink:href=\"#DejaVuSans-77\" x=\"126.505859\"/>\n",
       "     <use xlink:href=\"#DejaVuSans-61\" x=\"208.292969\"/>\n",
       "     <use xlink:href=\"#DejaVuSans-72\" x=\"269.572266\"/>\n",
       "     <use xlink:href=\"#DejaVuSans-64\" x=\"308.935547\"/>\n",
       "     <use xlink:href=\"#DejaVuSans-73\" x=\"372.412109\"/>\n",
       "    </g>\n",
       "   </g>\n",
       "  </g>\n",
       " </g>\n",
       " <defs>\n",
       "  <clipPath id=\"p37ef800d5e\">\n",
       "   <rect x=\"53.328125\" y=\"22.318125\" width=\"558\" height=\"217.44\"/>\n",
       "  </clipPath>\n",
       " </defs>\n",
       "</svg>\n"
      ],
      "text/plain": [
       "<Figure size 720x288 with 1 Axes>"
      ]
     },
     "metadata": {
      "needs_background": "light"
     },
     "output_type": "display_data"
    }
   ],
   "source": [
    "import matplotlib.pyplot as plt\n",
    "import pandas as pd\n",
    "\n",
    "fig, ax = plt.subplots(figsize = (10, 4))\n",
    "ax.set_title(\"Rewards\")    \n",
    "pd.Series(rewards).plot(kind='hist', bins=100)\n",
    "\n",
    "plt.show()"
   ]
  },
  {
   "cell_type": "markdown",
   "id": "53e4673a",
   "metadata": {},
   "source": [
    "## 1.4 Generate train data -->  `train.csv`"
   ]
  },
  {
   "cell_type": "code",
   "execution_count": 10,
   "id": "05fad909",
   "metadata": {},
   "outputs": [
    {
     "name": "stderr",
     "output_type": "stream",
     "text": [
      "100%|██████████████████████████████████████████████████████████████████████| 1000/1000 [00:00<00:00, 5710.11it/s]\n"
     ]
    }
   ],
   "source": [
    "from src.supervised_ml import generate_state_action_data\n",
    "from src.config import DATA_SUPERVISED_ML\n",
    "\n",
    "n_samples_train = 1000\n",
    "path_to_train_data = DATA_SUPERVISED_ML / 'train.csv'\n",
    "env.seed(0)\n",
    "\n",
    "# we let the agent interact with the environment until we have\n",
    "# collected enough pairs (state, action)\n",
    "generate_state_action_data(env, agent,\n",
    "                           n_samples=n_samples_train,\n",
    "                           path=path_to_train_data)"
   ]
  },
  {
   "cell_type": "markdown",
   "id": "352ab13d",
   "metadata": {},
   "source": [
    "## 1.5 Generate test data --> `test.csv`"
   ]
  },
  {
   "cell_type": "code",
   "execution_count": 11,
   "id": "0ed66beb",
   "metadata": {},
   "outputs": [
    {
     "name": "stderr",
     "output_type": "stream",
     "text": [
      "100%|██████████████████████████████████████████████████████████████████████| 1000/1000 [00:00<00:00, 6252.54it/s]\n"
     ]
    }
   ],
   "source": [
    "# test data\n",
    "n_samples_test = 1000\n",
    "path_to_test_data = DATA_SUPERVISED_ML / 'test.csv'\n",
    "\n",
    "# Very important to use another seed than for the\n",
    "# train set\n",
    "env.seed(1)\n",
    "\n",
    "generate_state_action_data(env, agent, \n",
    "                           n_samples=n_samples_test,\n",
    "                           path=path_to_test_data)"
   ]
  },
  {
   "cell_type": "markdown",
   "id": "93058fd0",
   "metadata": {},
   "source": [
    "-----"
   ]
  },
  {
   "cell_type": "markdown",
   "id": "4d0db3d6",
   "metadata": {},
   "source": [
    "# 2. Let's train a few neural networks\n",
    "\n",
    "#### 👉We will try different neural network architecture, to see which one works best for our problem.\n",
    "#### 👉 Finding the right architecture is not an easy problem. This is one of the hard parts of training neural networks."
   ]
  },
  {
   "cell_type": "markdown",
   "id": "d4b49be6",
   "metadata": {},
   "source": [
    "## Load `train.csv` and `test.csv` into 🐼"
   ]
  },
  {
   "cell_type": "code",
   "execution_count": 44,
   "id": "1c0e0a30",
   "metadata": {},
   "outputs": [],
   "source": [
    "import pandas as pd\n",
    "\n",
    "train_data = pd.read_csv(path_to_train_data)\n",
    "test_data = pd.read_csv(path_to_test_data)"
   ]
  },
  {
   "cell_type": "markdown",
   "id": "5b900fb0",
   "metadata": {},
   "source": [
    "## PyTorch datasets"
   ]
  },
  {
   "cell_type": "code",
   "execution_count": null,
   "id": "904a4c99",
   "metadata": {},
   "outputs": [],
   "source": [
    "from torch.utils.data import Dataset\n",
    "\n",
    "class OptimalPolicyDataset(Dataset):\n",
    "\n",
    "    def __init__(self, X: pd.DataFrame, y: pd.Series):\n",
    "        self.X = X\n",
    "        self.y = y\n",
    "\n",
    "    def __len__(self):\n",
    "        \"\"\"\n",
    "        Returns number of samples in the data\n",
    "        \"\"\"\n",
    "        return len(self.X)\n",
    "\n",
    "    def __getitem__(self, idx):\n",
    "        \"\"\"\n",
    "        Returns the features and label\n",
    "        of sample number `idx`\n",
    "        \"\"\"\n",
    "        return self.X.iloc[idx].values, self.y.iloc[idx]"
   ]
  },
  {
   "cell_type": "code",
   "execution_count": 13,
   "id": "b75b13ea",
   "metadata": {},
   "outputs": [],
   "source": [
    "# split features and labels\n",
    "X_train = train_data[['s0', 's1', 's2', 's3']]\n",
    "y_train = train_data['action']\n",
    "X_test = test_data[['s0', 's1', 's2', 's3']]\n",
    "y_test = test_data['action']\n",
    "\n",
    "# PyTorch datasets\n",
    "from src.supervised_ml import OptimalPolicyDataset\n",
    "train_dataset = OptimalPolicyDataset(X_train, y_train)\n",
    "test_dataset = OptimalPolicyDataset(X_test, y_test)"
   ]
  },
  {
   "cell_type": "markdown",
   "id": "ee996ce4",
   "metadata": {},
   "source": [
    "## PyTorch dataloaders"
   ]
  },
  {
   "cell_type": "code",
   "execution_count": 14,
   "id": "186254a2",
   "metadata": {},
   "outputs": [],
   "source": [
    "BATCH_SIZE = 64\n",
    "\n",
    "# PyTorch dataloaders\n",
    "from torch.utils.data import DataLoader\n",
    "train_dataloader = DataLoader(train_dataset,\n",
    "                              batch_size=BATCH_SIZE,\n",
    "                              shuffle=True)\n",
    "test_dataloader = DataLoader(test_dataset,\n",
    "                             batch_size=BATCH_SIZE,\n",
    "                             shuffle=False)"
   ]
  },
  {
   "cell_type": "markdown",
   "id": "cc7bfec4",
   "metadata": {},
   "source": [
    "## Loss function\n",
    "#### 👉 The cross entropy is a common choice for classification problems"
   ]
  },
  {
   "cell_type": "code",
   "execution_count": 22,
   "id": "0a4256e4",
   "metadata": {},
   "outputs": [],
   "source": [
    "import torch.nn as nn\n",
    "criterion = nn.CrossEntropyLoss()"
   ]
  },
  {
   "cell_type": "markdown",
   "id": "ef0b92a4",
   "metadata": {},
   "source": [
    "## Model 0: Baseline"
   ]
  },
  {
   "cell_type": "code",
   "execution_count": 41,
   "id": "58a1a153",
   "metadata": {},
   "outputs": [
    {
     "data": {
      "text/plain": [
       "0    501\n",
       "1    499\n",
       "Name: action, dtype: int64"
      ]
     },
     "execution_count": 41,
     "metadata": {},
     "output_type": "execute_result"
    }
   ],
   "source": [
    "train_data['action'].value_counts()"
   ]
  },
  {
   "cell_type": "code",
   "execution_count": 43,
   "id": "a0746021",
   "metadata": {},
   "outputs": [
    {
     "data": {
      "text/plain": [
       "1    500\n",
       "0    500\n",
       "Name: action, dtype: int64"
      ]
     },
     "execution_count": 43,
     "metadata": {},
     "output_type": "execute_result"
    }
   ],
   "source": [
    "test_data['action'].value_counts()"
   ]
  },
  {
   "cell_type": "markdown",
   "id": "83cd9abf",
   "metadata": {},
   "source": [
    "## Model 1: Linear model"
   ]
  },
  {
   "cell_type": "markdown",
   "id": "ec6276f6",
   "metadata": {},
   "source": [
    "### Model architecture 📐🏗️"
   ]
  },
  {
   "cell_type": "code",
   "execution_count": 28,
   "id": "3350a669",
   "metadata": {},
   "outputs": [
    {
     "name": "stdout",
     "output_type": "stream",
     "text": [
      "10 parameters\n",
      "Sequential(\n",
      "  (0): Linear(in_features=4, out_features=2, bias=True)\n",
      ")\n"
     ]
    }
   ],
   "source": [
    "import torch\n",
    "from src.model_factory import get_model, count_parameters\n",
    "\n",
    "# linear model --> no hidden_layers (hidden_layers = None)\n",
    "model = get_model(input_dim=4, output_dim=2, hidden_layers=None)\n",
    "\n",
    "# send the model to GPU if you have one.\n",
    "# GPUs have a very fast implementation of matrix multiplication,\n",
    "# which is the key operation to propagate inputs to outputs\n",
    "# in most neural network architectures\n",
    "device = torch.device(\"cuda\" if torch.cuda.is_available() else \"cpu\")\n",
    "model.to(device)\n",
    "\n",
    "print(f'{count_parameters(model):,} parameters')\n",
    "print(model)"
   ]
  },
  {
   "cell_type": "markdown",
   "id": "481fadcd",
   "metadata": {},
   "source": [
    "![image](https://github.com/Paulescu/hands-on-rl/blob/main/03_cart_pole/images/linear_model_sml.jpg?raw=true)"
   ]
  },
  {
   "cell_type": "markdown",
   "id": "350103d3",
   "metadata": {},
   "source": [
    "### Train loop 🏋️"
   ]
  },
  {
   "cell_type": "code",
   "execution_count": 29,
   "id": "da48fe72",
   "metadata": {
    "scrolled": true
   },
   "outputs": [
    {
     "name": "stderr",
     "output_type": "stream",
     "text": [
      "Epoch 0 - loss: 0.6817 - accuracy: 0.5760: 100%|████████████████████████████████| 16/16 [00:00<00:00, 112.51it/s]\n",
      "Epoch 0 - loss: 0.6790 - accuracy: 0.5820: 100%|████████████████████████████████| 16/16 [00:00<00:00, 114.85it/s]\n"
     ]
    },
    {
     "name": "stdout",
     "output_type": "stream",
     "text": [
      "----------\n"
     ]
    },
    {
     "name": "stderr",
     "output_type": "stream",
     "text": [
      "Epoch 1 - loss: 0.6744 - accuracy: 0.5830: 100%|████████████████████████████████| 16/16 [00:00<00:00, 110.46it/s]\n",
      "Epoch 1 - loss: 0.6746 - accuracy: 0.5840: 100%|████████████████████████████████| 16/16 [00:00<00:00, 113.52it/s]\n"
     ]
    },
    {
     "name": "stdout",
     "output_type": "stream",
     "text": [
      "----------\n"
     ]
    },
    {
     "name": "stderr",
     "output_type": "stream",
     "text": [
      "Epoch 2 - loss: 0.6736 - accuracy: 0.5770: 100%|████████████████████████████████| 16/16 [00:00<00:00, 107.44it/s]\n",
      "Epoch 2 - loss: 0.6710 - accuracy: 0.5900: 100%|████████████████████████████████| 16/16 [00:00<00:00, 104.91it/s]\n"
     ]
    },
    {
     "name": "stdout",
     "output_type": "stream",
     "text": [
      "----------\n"
     ]
    },
    {
     "name": "stderr",
     "output_type": "stream",
     "text": [
      "Epoch 3 - loss: 0.6707 - accuracy: 0.5870: 100%|████████████████████████████████| 16/16 [00:00<00:00, 101.93it/s]\n",
      "Epoch 3 - loss: 0.6682 - accuracy: 0.5990: 100%|█████████████████████████████████| 16/16 [00:00<00:00, 74.20it/s]\n"
     ]
    },
    {
     "name": "stdout",
     "output_type": "stream",
     "text": [
      "----------\n"
     ]
    },
    {
     "name": "stderr",
     "output_type": "stream",
     "text": [
      "Epoch 4 - loss: 0.6683 - accuracy: 0.5950: 100%|█████████████████████████████████| 16/16 [00:00<00:00, 99.96it/s]\n",
      "Epoch 4 - loss: 0.6659 - accuracy: 0.6020: 100%|█████████████████████████████████| 16/16 [00:00<00:00, 83.77it/s]\n"
     ]
    },
    {
     "name": "stdout",
     "output_type": "stream",
     "text": [
      "----------\n"
     ]
    },
    {
     "name": "stderr",
     "output_type": "stream",
     "text": [
      "Epoch 5 - loss: 0.6644 - accuracy: 0.6010: 100%|█████████████████████████████████| 16/16 [00:00<00:00, 75.54it/s]\n",
      "Epoch 5 - loss: 0.6638 - accuracy: 0.6040: 100%|█████████████████████████████████| 16/16 [00:00<00:00, 74.24it/s]\n"
     ]
    },
    {
     "name": "stdout",
     "output_type": "stream",
     "text": [
      "----------\n"
     ]
    },
    {
     "name": "stderr",
     "output_type": "stream",
     "text": [
      "Epoch 6 - loss: 0.6623 - accuracy: 0.6070: 100%|█████████████████████████████████| 16/16 [00:00<00:00, 85.38it/s]\n",
      "Epoch 6 - loss: 0.6619 - accuracy: 0.6160: 100%|█████████████████████████████████| 16/16 [00:00<00:00, 90.81it/s]\n"
     ]
    },
    {
     "name": "stdout",
     "output_type": "stream",
     "text": [
      "----------\n"
     ]
    },
    {
     "name": "stderr",
     "output_type": "stream",
     "text": [
      "Epoch 7 - loss: 0.6632 - accuracy: 0.6110: 100%|█████████████████████████████████| 16/16 [00:00<00:00, 94.45it/s]\n",
      "Epoch 7 - loss: 0.6602 - accuracy: 0.6200: 100%|█████████████████████████████████| 16/16 [00:00<00:00, 44.79it/s]\n"
     ]
    },
    {
     "name": "stdout",
     "output_type": "stream",
     "text": [
      "----------\n"
     ]
    },
    {
     "name": "stderr",
     "output_type": "stream",
     "text": [
      "Epoch 8 - loss: 0.6595 - accuracy: 0.6140: 100%|█████████████████████████████████| 16/16 [00:00<00:00, 54.43it/s]\n",
      "Epoch 8 - loss: 0.6586 - accuracy: 0.6210: 100%|█████████████████████████████████| 16/16 [00:00<00:00, 67.47it/s]\n"
     ]
    },
    {
     "name": "stdout",
     "output_type": "stream",
     "text": [
      "----------\n"
     ]
    },
    {
     "name": "stderr",
     "output_type": "stream",
     "text": [
      "Epoch 9 - loss: 0.6581 - accuracy: 0.6170: 100%|█████████████████████████████████| 16/16 [00:00<00:00, 83.94it/s]\n",
      "Epoch 9 - loss: 0.6569 - accuracy: 0.6270: 100%|█████████████████████████████████| 16/16 [00:00<00:00, 92.27it/s]\n"
     ]
    },
    {
     "name": "stdout",
     "output_type": "stream",
     "text": [
      "----------\n"
     ]
    },
    {
     "name": "stderr",
     "output_type": "stream",
     "text": [
      "Epoch 10 - loss: 0.6568 - accuracy: 0.6210: 100%|████████████████████████████████| 16/16 [00:00<00:00, 83.34it/s]\n",
      "Epoch 10 - loss: 0.6554 - accuracy: 0.6310: 100%|████████████████████████████████| 16/16 [00:00<00:00, 91.53it/s]\n"
     ]
    },
    {
     "name": "stdout",
     "output_type": "stream",
     "text": [
      "----------\n"
     ]
    },
    {
     "name": "stderr",
     "output_type": "stream",
     "text": [
      "Epoch 11 - loss: 0.6549 - accuracy: 0.6260: 100%|████████████████████████████████| 16/16 [00:00<00:00, 88.63it/s]\n",
      "Epoch 11 - loss: 0.6539 - accuracy: 0.6320: 100%|████████████████████████████████| 16/16 [00:00<00:00, 91.77it/s]\n"
     ]
    },
    {
     "name": "stdout",
     "output_type": "stream",
     "text": [
      "----------\n"
     ]
    },
    {
     "name": "stderr",
     "output_type": "stream",
     "text": [
      "Epoch 12 - loss: 0.6548 - accuracy: 0.6280: 100%|████████████████████████████████| 16/16 [00:00<00:00, 88.79it/s]\n",
      "Epoch 12 - loss: 0.6525 - accuracy: 0.6340: 100%|████████████████████████████████| 16/16 [00:00<00:00, 99.64it/s]\n"
     ]
    },
    {
     "name": "stdout",
     "output_type": "stream",
     "text": [
      "----------\n"
     ]
    },
    {
     "name": "stderr",
     "output_type": "stream",
     "text": [
      "Epoch 13 - loss: 0.6522 - accuracy: 0.6300: 100%|████████████████████████████████| 16/16 [00:00<00:00, 60.66it/s]\n",
      "Epoch 13 - loss: 0.6512 - accuracy: 0.6340: 100%|████████████████████████████████| 16/16 [00:00<00:00, 76.47it/s]\n"
     ]
    },
    {
     "name": "stdout",
     "output_type": "stream",
     "text": [
      "----------\n"
     ]
    },
    {
     "name": "stderr",
     "output_type": "stream",
     "text": [
      "Epoch 14 - loss: 0.6514 - accuracy: 0.6320: 100%|████████████████████████████████| 16/16 [00:00<00:00, 91.81it/s]\n",
      "Epoch 14 - loss: 0.6499 - accuracy: 0.6400: 100%|████████████████████████████████| 16/16 [00:00<00:00, 84.73it/s]\n"
     ]
    },
    {
     "name": "stdout",
     "output_type": "stream",
     "text": [
      "----------\n"
     ]
    },
    {
     "name": "stderr",
     "output_type": "stream",
     "text": [
      "Epoch 15 - loss: 0.6496 - accuracy: 0.6320: 100%|████████████████████████████████| 16/16 [00:00<00:00, 87.18it/s]\n",
      "Epoch 15 - loss: 0.6485 - accuracy: 0.6440: 100%|████████████████████████████████| 16/16 [00:00<00:00, 91.30it/s]\n"
     ]
    },
    {
     "name": "stdout",
     "output_type": "stream",
     "text": [
      "----------\n"
     ]
    },
    {
     "name": "stderr",
     "output_type": "stream",
     "text": [
      "Epoch 16 - loss: 0.6491 - accuracy: 0.6330: 100%|████████████████████████████████| 16/16 [00:00<00:00, 86.58it/s]\n",
      "Epoch 16 - loss: 0.6473 - accuracy: 0.6470: 100%|████████████████████████████████| 16/16 [00:00<00:00, 99.67it/s]\n"
     ]
    },
    {
     "name": "stdout",
     "output_type": "stream",
     "text": [
      "----------\n"
     ]
    },
    {
     "name": "stderr",
     "output_type": "stream",
     "text": [
      "Epoch 17 - loss: 0.6489 - accuracy: 0.6370: 100%|████████████████████████████████| 16/16 [00:00<00:00, 53.42it/s]\n",
      "Epoch 17 - loss: 0.6461 - accuracy: 0.6520: 100%|████████████████████████████████| 16/16 [00:00<00:00, 91.06it/s]\n"
     ]
    },
    {
     "name": "stdout",
     "output_type": "stream",
     "text": [
      "----------\n"
     ]
    },
    {
     "name": "stderr",
     "output_type": "stream",
     "text": [
      "Epoch 18 - loss: 0.6462 - accuracy: 0.6390: 100%|████████████████████████████████| 16/16 [00:00<00:00, 95.51it/s]\n",
      "Epoch 18 - loss: 0.6449 - accuracy: 0.6500: 100%|████████████████████████████████| 16/16 [00:00<00:00, 77.36it/s]\n"
     ]
    },
    {
     "name": "stdout",
     "output_type": "stream",
     "text": [
      "----------\n"
     ]
    },
    {
     "name": "stderr",
     "output_type": "stream",
     "text": [
      "Epoch 19 - loss: 0.6458 - accuracy: 0.6440: 100%|████████████████████████████████| 16/16 [00:00<00:00, 66.29it/s]\n",
      "Epoch 19 - loss: 0.6438 - accuracy: 0.6510: 100%|████████████████████████████████| 16/16 [00:00<00:00, 73.72it/s]\n"
     ]
    },
    {
     "name": "stdout",
     "output_type": "stream",
     "text": [
      "----------\n"
     ]
    },
    {
     "name": "stderr",
     "output_type": "stream",
     "text": [
      "Epoch 20 - loss: 0.6465 - accuracy: 0.6420: 100%|████████████████████████████████| 16/16 [00:00<00:00, 82.27it/s]\n",
      "Epoch 20 - loss: 0.6427 - accuracy: 0.6530: 100%|████████████████████████████████| 16/16 [00:00<00:00, 87.35it/s]\n"
     ]
    },
    {
     "name": "stdout",
     "output_type": "stream",
     "text": [
      "----------\n"
     ]
    },
    {
     "name": "stderr",
     "output_type": "stream",
     "text": [
      "Epoch 21 - loss: 0.6448 - accuracy: 0.6450: 100%|████████████████████████████████| 16/16 [00:00<00:00, 88.14it/s]\n",
      "Epoch 21 - loss: 0.6416 - accuracy: 0.6550: 100%|████████████████████████████████| 16/16 [00:00<00:00, 83.62it/s]\n"
     ]
    },
    {
     "name": "stdout",
     "output_type": "stream",
     "text": [
      "----------\n"
     ]
    },
    {
     "name": "stderr",
     "output_type": "stream",
     "text": [
      "Epoch 22 - loss: 0.6423 - accuracy: 0.6430: 100%|████████████████████████████████| 16/16 [00:00<00:00, 83.22it/s]\n",
      "Epoch 22 - loss: 0.6406 - accuracy: 0.6540: 100%|████████████████████████████████| 16/16 [00:00<00:00, 93.55it/s]\n"
     ]
    },
    {
     "name": "stdout",
     "output_type": "stream",
     "text": [
      "----------\n"
     ]
    },
    {
     "name": "stderr",
     "output_type": "stream",
     "text": [
      "Epoch 23 - loss: 0.6414 - accuracy: 0.6440: 100%|████████████████████████████████| 16/16 [00:00<00:00, 89.47it/s]\n",
      "Epoch 23 - loss: 0.6396 - accuracy: 0.6560: 100%|████████████████████████████████| 16/16 [00:00<00:00, 82.34it/s]\n"
     ]
    },
    {
     "name": "stdout",
     "output_type": "stream",
     "text": [
      "----------\n"
     ]
    },
    {
     "name": "stderr",
     "output_type": "stream",
     "text": [
      "Epoch 24 - loss: 0.6393 - accuracy: 0.6480: 100%|████████████████████████████████| 16/16 [00:00<00:00, 76.38it/s]\n",
      "Epoch 24 - loss: 0.6387 - accuracy: 0.6590: 100%|████████████████████████████████| 16/16 [00:00<00:00, 85.23it/s]\n"
     ]
    },
    {
     "name": "stdout",
     "output_type": "stream",
     "text": [
      "----------\n"
     ]
    },
    {
     "name": "stderr",
     "output_type": "stream",
     "text": [
      "Epoch 25 - loss: 0.6384 - accuracy: 0.6480: 100%|████████████████████████████████| 16/16 [00:00<00:00, 84.10it/s]\n",
      "Epoch 25 - loss: 0.6377 - accuracy: 0.6610: 100%|████████████████████████████████| 16/16 [00:00<00:00, 83.17it/s]\n"
     ]
    },
    {
     "name": "stdout",
     "output_type": "stream",
     "text": [
      "----------\n"
     ]
    },
    {
     "name": "stderr",
     "output_type": "stream",
     "text": [
      "Epoch 26 - loss: 0.6373 - accuracy: 0.6510: 100%|████████████████████████████████| 16/16 [00:00<00:00, 81.64it/s]\n",
      "Epoch 26 - loss: 0.6368 - accuracy: 0.6620: 100%|████████████████████████████████| 16/16 [00:00<00:00, 95.49it/s]\n"
     ]
    },
    {
     "name": "stdout",
     "output_type": "stream",
     "text": [
      "----------\n"
     ]
    },
    {
     "name": "stderr",
     "output_type": "stream",
     "text": [
      "Epoch 27 - loss: 0.6377 - accuracy: 0.6510: 100%|████████████████████████████████| 16/16 [00:00<00:00, 96.30it/s]\n",
      "Epoch 27 - loss: 0.6359 - accuracy: 0.6620: 100%|███████████████████████████████| 16/16 [00:00<00:00, 102.11it/s]\n"
     ]
    },
    {
     "name": "stdout",
     "output_type": "stream",
     "text": [
      "----------\n"
     ]
    },
    {
     "name": "stderr",
     "output_type": "stream",
     "text": [
      "Epoch 28 - loss: 0.6361 - accuracy: 0.6540: 100%|████████████████████████████████| 16/16 [00:00<00:00, 95.85it/s]\n",
      "Epoch 28 - loss: 0.6350 - accuracy: 0.6640: 100%|███████████████████████████████| 16/16 [00:00<00:00, 104.43it/s]\n"
     ]
    },
    {
     "name": "stdout",
     "output_type": "stream",
     "text": [
      "----------\n"
     ]
    },
    {
     "name": "stderr",
     "output_type": "stream",
     "text": [
      "Epoch 29 - loss: 0.6378 - accuracy: 0.6520: 100%|████████████████████████████████| 16/16 [00:00<00:00, 89.61it/s]\n",
      "Epoch 29 - loss: 0.6342 - accuracy: 0.6640: 100%|████████████████████████████████| 16/16 [00:00<00:00, 85.11it/s]\n"
     ]
    },
    {
     "name": "stdout",
     "output_type": "stream",
     "text": [
      "----------\n"
     ]
    },
    {
     "name": "stderr",
     "output_type": "stream",
     "text": [
      "Epoch 30 - loss: 0.6350 - accuracy: 0.6590: 100%|████████████████████████████████| 16/16 [00:00<00:00, 89.20it/s]\n",
      "Epoch 30 - loss: 0.6333 - accuracy: 0.6710: 100%|████████████████████████████████| 16/16 [00:00<00:00, 96.23it/s]\n"
     ]
    },
    {
     "name": "stdout",
     "output_type": "stream",
     "text": [
      "----------\n"
     ]
    },
    {
     "name": "stderr",
     "output_type": "stream",
     "text": [
      "Epoch 31 - loss: 0.6331 - accuracy: 0.6600: 100%|████████████████████████████████| 16/16 [00:00<00:00, 95.15it/s]\n",
      "Epoch 31 - loss: 0.6325 - accuracy: 0.6700: 100%|████████████████████████████████| 16/16 [00:00<00:00, 98.98it/s]\n"
     ]
    },
    {
     "name": "stdout",
     "output_type": "stream",
     "text": [
      "----------\n"
     ]
    },
    {
     "name": "stderr",
     "output_type": "stream",
     "text": [
      "Epoch 32 - loss: 0.6330 - accuracy: 0.6590: 100%|████████████████████████████████| 16/16 [00:00<00:00, 97.89it/s]\n",
      "Epoch 32 - loss: 0.6317 - accuracy: 0.6720: 100%|████████████████████████████████| 16/16 [00:00<00:00, 90.91it/s]\n"
     ]
    },
    {
     "name": "stdout",
     "output_type": "stream",
     "text": [
      "----------\n"
     ]
    },
    {
     "name": "stderr",
     "output_type": "stream",
     "text": [
      "Epoch 33 - loss: 0.6327 - accuracy: 0.6580: 100%|████████████████████████████████| 16/16 [00:00<00:00, 60.36it/s]\n",
      "Epoch 33 - loss: 0.6310 - accuracy: 0.6720: 100%|████████████████████████████████| 16/16 [00:00<00:00, 98.91it/s]\n"
     ]
    },
    {
     "name": "stdout",
     "output_type": "stream",
     "text": [
      "----------\n"
     ]
    },
    {
     "name": "stderr",
     "output_type": "stream",
     "text": [
      "Epoch 34 - loss: 0.6327 - accuracy: 0.6580: 100%|████████████████████████████████| 16/16 [00:00<00:00, 72.27it/s]\n",
      "Epoch 34 - loss: 0.6302 - accuracy: 0.6760: 100%|███████████████████████████████| 16/16 [00:00<00:00, 104.47it/s]\n"
     ]
    },
    {
     "name": "stdout",
     "output_type": "stream",
     "text": [
      "----------\n"
     ]
    },
    {
     "name": "stderr",
     "output_type": "stream",
     "text": [
      "Epoch 35 - loss: 0.6319 - accuracy: 0.6650: 100%|███████████████████████████████| 16/16 [00:00<00:00, 104.13it/s]\n",
      "Epoch 35 - loss: 0.6295 - accuracy: 0.6750: 100%|███████████████████████████████| 16/16 [00:00<00:00, 106.68it/s]\n"
     ]
    },
    {
     "name": "stdout",
     "output_type": "stream",
     "text": [
      "----------\n"
     ]
    },
    {
     "name": "stderr",
     "output_type": "stream",
     "text": [
      "Epoch 36 - loss: 0.6286 - accuracy: 0.6680: 100%|████████████████████████████████| 16/16 [00:00<00:00, 87.04it/s]\n",
      "Epoch 36 - loss: 0.6287 - accuracy: 0.6770: 100%|████████████████████████████████| 16/16 [00:00<00:00, 99.83it/s]\n"
     ]
    },
    {
     "name": "stdout",
     "output_type": "stream",
     "text": [
      "----------\n"
     ]
    },
    {
     "name": "stderr",
     "output_type": "stream",
     "text": [
      "Epoch 37 - loss: 0.6298 - accuracy: 0.6680: 100%|████████████████████████████████| 16/16 [00:00<00:00, 74.23it/s]\n",
      "Epoch 37 - loss: 0.6280 - accuracy: 0.6750: 100%|████████████████████████████████| 16/16 [00:00<00:00, 89.69it/s]\n"
     ]
    },
    {
     "name": "stdout",
     "output_type": "stream",
     "text": [
      "----------\n"
     ]
    },
    {
     "name": "stderr",
     "output_type": "stream",
     "text": [
      "Epoch 38 - loss: 0.6294 - accuracy: 0.6740: 100%|████████████████████████████████| 16/16 [00:00<00:00, 86.44it/s]\n",
      "Epoch 38 - loss: 0.6274 - accuracy: 0.6730: 100%|████████████████████████████████| 16/16 [00:00<00:00, 99.71it/s]\n"
     ]
    },
    {
     "name": "stdout",
     "output_type": "stream",
     "text": [
      "----------\n"
     ]
    },
    {
     "name": "stderr",
     "output_type": "stream",
     "text": [
      "Epoch 39 - loss: 0.6290 - accuracy: 0.6740: 100%|████████████████████████████████| 16/16 [00:00<00:00, 84.52it/s]\n",
      "Epoch 39 - loss: 0.6267 - accuracy: 0.6780: 100%|████████████████████████████████| 16/16 [00:00<00:00, 99.27it/s]\n"
     ]
    },
    {
     "name": "stdout",
     "output_type": "stream",
     "text": [
      "----------\n"
     ]
    },
    {
     "name": "stderr",
     "output_type": "stream",
     "text": [
      "Epoch 40 - loss: 0.6279 - accuracy: 0.6740: 100%|████████████████████████████████| 16/16 [00:00<00:00, 83.40it/s]\n",
      "Epoch 40 - loss: 0.6261 - accuracy: 0.6790: 100%|████████████████████████████████| 16/16 [00:00<00:00, 75.45it/s]\n"
     ]
    },
    {
     "name": "stdout",
     "output_type": "stream",
     "text": [
      "----------\n"
     ]
    },
    {
     "name": "stderr",
     "output_type": "stream",
     "text": [
      "Epoch 41 - loss: 0.6252 - accuracy: 0.6740: 100%|████████████████████████████████| 16/16 [00:00<00:00, 89.68it/s]\n",
      "Epoch 41 - loss: 0.6254 - accuracy: 0.6790: 100%|████████████████████████████████| 16/16 [00:00<00:00, 99.66it/s]\n"
     ]
    },
    {
     "name": "stdout",
     "output_type": "stream",
     "text": [
      "----------\n"
     ]
    },
    {
     "name": "stderr",
     "output_type": "stream",
     "text": [
      "Epoch 42 - loss: 0.6259 - accuracy: 0.6740: 100%|████████████████████████████████| 16/16 [00:00<00:00, 94.79it/s]\n",
      "Epoch 42 - loss: 0.6248 - accuracy: 0.6800: 100%|███████████████████████████████| 16/16 [00:00<00:00, 100.64it/s]\n"
     ]
    },
    {
     "name": "stdout",
     "output_type": "stream",
     "text": [
      "----------\n"
     ]
    },
    {
     "name": "stderr",
     "output_type": "stream",
     "text": [
      "Epoch 43 - loss: 0.6272 - accuracy: 0.6740: 100%|████████████████████████████████| 16/16 [00:00<00:00, 90.20it/s]\n",
      "Epoch 43 - loss: 0.6242 - accuracy: 0.6800: 100%|████████████████████████████████| 16/16 [00:00<00:00, 92.86it/s]\n"
     ]
    },
    {
     "name": "stdout",
     "output_type": "stream",
     "text": [
      "----------\n"
     ]
    },
    {
     "name": "stderr",
     "output_type": "stream",
     "text": [
      "Epoch 44 - loss: 0.6253 - accuracy: 0.6800: 100%|████████████████████████████████| 16/16 [00:00<00:00, 88.24it/s]\n",
      "Epoch 44 - loss: 0.6236 - accuracy: 0.6820: 100%|████████████████████████████████| 16/16 [00:00<00:00, 97.96it/s]\n"
     ]
    },
    {
     "name": "stdout",
     "output_type": "stream",
     "text": [
      "----------\n"
     ]
    },
    {
     "name": "stderr",
     "output_type": "stream",
     "text": [
      "Epoch 45 - loss: 0.6246 - accuracy: 0.6820: 100%|████████████████████████████████| 16/16 [00:00<00:00, 91.43it/s]\n",
      "Epoch 45 - loss: 0.6230 - accuracy: 0.6850: 100%|████████████████████████████████| 16/16 [00:00<00:00, 97.62it/s]\n"
     ]
    },
    {
     "name": "stdout",
     "output_type": "stream",
     "text": [
      "----------\n"
     ]
    },
    {
     "name": "stderr",
     "output_type": "stream",
     "text": [
      "Epoch 46 - loss: 0.6243 - accuracy: 0.6830: 100%|███████████████████████████████| 16/16 [00:00<00:00, 100.57it/s]\n",
      "Epoch 46 - loss: 0.6225 - accuracy: 0.6860: 100%|████████████████████████████████| 16/16 [00:00<00:00, 86.54it/s]\n"
     ]
    },
    {
     "name": "stdout",
     "output_type": "stream",
     "text": [
      "----------\n"
     ]
    },
    {
     "name": "stderr",
     "output_type": "stream",
     "text": [
      "Epoch 47 - loss: 0.6232 - accuracy: 0.6870: 100%|████████████████████████████████| 16/16 [00:00<00:00, 84.36it/s]\n",
      "Epoch 47 - loss: 0.6219 - accuracy: 0.6820: 100%|███████████████████████████████| 16/16 [00:00<00:00, 100.32it/s]\n"
     ]
    },
    {
     "name": "stdout",
     "output_type": "stream",
     "text": [
      "----------\n"
     ]
    },
    {
     "name": "stderr",
     "output_type": "stream",
     "text": [
      "Epoch 48 - loss: 0.6214 - accuracy: 0.6850: 100%|████████████████████████████████| 16/16 [00:00<00:00, 88.56it/s]\n",
      "Epoch 48 - loss: 0.6214 - accuracy: 0.6850: 100%|███████████████████████████████| 16/16 [00:00<00:00, 107.50it/s]\n"
     ]
    },
    {
     "name": "stdout",
     "output_type": "stream",
     "text": [
      "----------\n"
     ]
    },
    {
     "name": "stderr",
     "output_type": "stream",
     "text": [
      "Epoch 49 - loss: 0.6223 - accuracy: 0.6860: 100%|███████████████████████████████| 16/16 [00:00<00:00, 101.40it/s]\n",
      "Epoch 49 - loss: 0.6209 - accuracy: 0.6890: 100%|███████████████████████████████| 16/16 [00:00<00:00, 108.00it/s]\n"
     ]
    },
    {
     "name": "stdout",
     "output_type": "stream",
     "text": [
      "----------\n"
     ]
    },
    {
     "name": "stderr",
     "output_type": "stream",
     "text": [
      "Epoch 50 - loss: 0.6230 - accuracy: 0.6830: 100%|███████████████████████████████| 16/16 [00:00<00:00, 103.47it/s]\n",
      "Epoch 50 - loss: 0.6203 - accuracy: 0.6830: 100%|███████████████████████████████| 16/16 [00:00<00:00, 109.95it/s]\n"
     ]
    },
    {
     "name": "stdout",
     "output_type": "stream",
     "text": [
      "----------\n"
     ]
    },
    {
     "name": "stderr",
     "output_type": "stream",
     "text": [
      "Epoch 51 - loss: 0.6226 - accuracy: 0.6870: 100%|████████████████████████████████| 16/16 [00:00<00:00, 86.34it/s]\n",
      "Epoch 51 - loss: 0.6198 - accuracy: 0.6880: 100%|███████████████████████████████| 16/16 [00:00<00:00, 113.43it/s]\n"
     ]
    },
    {
     "name": "stdout",
     "output_type": "stream",
     "text": [
      "----------\n"
     ]
    },
    {
     "name": "stderr",
     "output_type": "stream",
     "text": [
      "Epoch 52 - loss: 0.6204 - accuracy: 0.6860: 100%|███████████████████████████████| 16/16 [00:00<00:00, 107.00it/s]\n",
      "Epoch 52 - loss: 0.6193 - accuracy: 0.6830: 100%|███████████████████████████████| 16/16 [00:00<00:00, 113.95it/s]\n"
     ]
    },
    {
     "name": "stdout",
     "output_type": "stream",
     "text": [
      "----------\n"
     ]
    },
    {
     "name": "stderr",
     "output_type": "stream",
     "text": [
      "Epoch 53 - loss: 0.6217 - accuracy: 0.6920: 100%|███████████████████████████████| 16/16 [00:00<00:00, 105.94it/s]\n",
      "Epoch 53 - loss: 0.6189 - accuracy: 0.6870: 100%|███████████████████████████████| 16/16 [00:00<00:00, 103.40it/s]\n"
     ]
    },
    {
     "name": "stdout",
     "output_type": "stream",
     "text": [
      "----------\n"
     ]
    },
    {
     "name": "stderr",
     "output_type": "stream",
     "text": [
      "Epoch 54 - loss: 0.6212 - accuracy: 0.6900: 100%|███████████████████████████████| 16/16 [00:00<00:00, 107.37it/s]\n",
      "Epoch 54 - loss: 0.6184 - accuracy: 0.6870: 100%|███████████████████████████████| 16/16 [00:00<00:00, 113.15it/s]\n"
     ]
    },
    {
     "name": "stdout",
     "output_type": "stream",
     "text": [
      "----------\n"
     ]
    },
    {
     "name": "stderr",
     "output_type": "stream",
     "text": [
      "Epoch 55 - loss: 0.6203 - accuracy: 0.6890: 100%|████████████████████████████████| 16/16 [00:00<00:00, 93.56it/s]\n",
      "Epoch 55 - loss: 0.6179 - accuracy: 0.6870: 100%|███████████████████████████████| 16/16 [00:00<00:00, 117.51it/s]\n"
     ]
    },
    {
     "name": "stdout",
     "output_type": "stream",
     "text": [
      "----------\n"
     ]
    },
    {
     "name": "stderr",
     "output_type": "stream",
     "text": [
      "Epoch 56 - loss: 0.6193 - accuracy: 0.6860: 100%|███████████████████████████████| 16/16 [00:00<00:00, 110.84it/s]\n",
      "Epoch 56 - loss: 0.6174 - accuracy: 0.6840: 100%|███████████████████████████████| 16/16 [00:00<00:00, 118.23it/s]\n"
     ]
    },
    {
     "name": "stdout",
     "output_type": "stream",
     "text": [
      "----------\n"
     ]
    },
    {
     "name": "stderr",
     "output_type": "stream",
     "text": [
      "Epoch 57 - loss: 0.6201 - accuracy: 0.6860: 100%|███████████████████████████████| 16/16 [00:00<00:00, 111.06it/s]\n",
      "Epoch 57 - loss: 0.6170 - accuracy: 0.6860: 100%|███████████████████████████████| 16/16 [00:00<00:00, 116.78it/s]\n"
     ]
    },
    {
     "name": "stdout",
     "output_type": "stream",
     "text": [
      "----------\n"
     ]
    },
    {
     "name": "stderr",
     "output_type": "stream",
     "text": [
      "Epoch 58 - loss: 0.6179 - accuracy: 0.6860: 100%|███████████████████████████████| 16/16 [00:00<00:00, 103.59it/s]\n",
      "Epoch 58 - loss: 0.6165 - accuracy: 0.6830: 100%|███████████████████████████████| 16/16 [00:00<00:00, 115.39it/s]\n"
     ]
    },
    {
     "name": "stdout",
     "output_type": "stream",
     "text": [
      "----------\n"
     ]
    },
    {
     "name": "stderr",
     "output_type": "stream",
     "text": [
      "Epoch 59 - loss: 0.6171 - accuracy: 0.6840: 100%|███████████████████████████████| 16/16 [00:00<00:00, 112.16it/s]\n",
      "Epoch 59 - loss: 0.6161 - accuracy: 0.6840: 100%|███████████████████████████████| 16/16 [00:00<00:00, 117.84it/s]\n"
     ]
    },
    {
     "name": "stdout",
     "output_type": "stream",
     "text": [
      "----------\n"
     ]
    },
    {
     "name": "stderr",
     "output_type": "stream",
     "text": [
      "Epoch 60 - loss: 0.6169 - accuracy: 0.6860: 100%|███████████████████████████████| 16/16 [00:00<00:00, 110.80it/s]\n",
      "Epoch 60 - loss: 0.6157 - accuracy: 0.6860: 100%|███████████████████████████████| 16/16 [00:00<00:00, 120.14it/s]\n"
     ]
    },
    {
     "name": "stdout",
     "output_type": "stream",
     "text": [
      "----------\n"
     ]
    },
    {
     "name": "stderr",
     "output_type": "stream",
     "text": [
      "Epoch 61 - loss: 0.6183 - accuracy: 0.6880: 100%|███████████████████████████████| 16/16 [00:00<00:00, 113.87it/s]\n",
      "Epoch 61 - loss: 0.6153 - accuracy: 0.6840: 100%|███████████████████████████████| 16/16 [00:00<00:00, 121.22it/s]\n"
     ]
    },
    {
     "name": "stdout",
     "output_type": "stream",
     "text": [
      "----------\n"
     ]
    },
    {
     "name": "stderr",
     "output_type": "stream",
     "text": [
      "Epoch 62 - loss: 0.6157 - accuracy: 0.6870: 100%|███████████████████████████████| 16/16 [00:00<00:00, 112.35it/s]\n",
      "Epoch 62 - loss: 0.6148 - accuracy: 0.6820: 100%|███████████████████████████████| 16/16 [00:00<00:00, 122.00it/s]\n"
     ]
    },
    {
     "name": "stdout",
     "output_type": "stream",
     "text": [
      "----------\n"
     ]
    },
    {
     "name": "stderr",
     "output_type": "stream",
     "text": [
      "Epoch 63 - loss: 0.6169 - accuracy: 0.6860: 100%|███████████████████████████████| 16/16 [00:00<00:00, 116.01it/s]\n",
      "Epoch 63 - loss: 0.6145 - accuracy: 0.6820: 100%|███████████████████████████████| 16/16 [00:00<00:00, 122.42it/s]\n"
     ]
    },
    {
     "name": "stdout",
     "output_type": "stream",
     "text": [
      "----------\n"
     ]
    },
    {
     "name": "stderr",
     "output_type": "stream",
     "text": [
      "Epoch 64 - loss: 0.6143 - accuracy: 0.6890: 100%|███████████████████████████████| 16/16 [00:00<00:00, 114.74it/s]\n",
      "Epoch 64 - loss: 0.6141 - accuracy: 0.6830: 100%|███████████████████████████████| 16/16 [00:00<00:00, 121.68it/s]\n"
     ]
    },
    {
     "name": "stdout",
     "output_type": "stream",
     "text": [
      "----------\n"
     ]
    },
    {
     "name": "stderr",
     "output_type": "stream",
     "text": [
      "Epoch 65 - loss: 0.6163 - accuracy: 0.6870: 100%|███████████████████████████████| 16/16 [00:00<00:00, 114.76it/s]\n",
      "Epoch 65 - loss: 0.6137 - accuracy: 0.6840: 100%|███████████████████████████████| 16/16 [00:00<00:00, 122.72it/s]\n"
     ]
    },
    {
     "name": "stdout",
     "output_type": "stream",
     "text": [
      "----------\n"
     ]
    },
    {
     "name": "stderr",
     "output_type": "stream",
     "text": [
      "Epoch 66 - loss: 0.6148 - accuracy: 0.6880: 100%|███████████████████████████████| 16/16 [00:00<00:00, 118.58it/s]\n",
      "Epoch 66 - loss: 0.6133 - accuracy: 0.6840: 100%|███████████████████████████████| 16/16 [00:00<00:00, 126.54it/s]\n"
     ]
    },
    {
     "name": "stdout",
     "output_type": "stream",
     "text": [
      "----------\n"
     ]
    },
    {
     "name": "stderr",
     "output_type": "stream",
     "text": [
      "Epoch 67 - loss: 0.6148 - accuracy: 0.6890: 100%|███████████████████████████████| 16/16 [00:00<00:00, 112.87it/s]\n",
      "Epoch 67 - loss: 0.6129 - accuracy: 0.6840: 100%|███████████████████████████████| 16/16 [00:00<00:00, 124.67it/s]\n"
     ]
    },
    {
     "name": "stdout",
     "output_type": "stream",
     "text": [
      "----------\n"
     ]
    },
    {
     "name": "stderr",
     "output_type": "stream",
     "text": [
      "Epoch 68 - loss: 0.6148 - accuracy: 0.6900: 100%|███████████████████████████████| 16/16 [00:00<00:00, 118.72it/s]\n",
      "Epoch 68 - loss: 0.6125 - accuracy: 0.6860: 100%|███████████████████████████████| 16/16 [00:00<00:00, 126.07it/s]\n"
     ]
    },
    {
     "name": "stdout",
     "output_type": "stream",
     "text": [
      "----------\n"
     ]
    },
    {
     "name": "stderr",
     "output_type": "stream",
     "text": [
      "Epoch 69 - loss: 0.6132 - accuracy: 0.6910: 100%|███████████████████████████████| 16/16 [00:00<00:00, 119.17it/s]\n",
      "Epoch 69 - loss: 0.6121 - accuracy: 0.6850: 100%|████████████████████████████████| 16/16 [00:00<00:00, 91.37it/s]\n"
     ]
    },
    {
     "name": "stdout",
     "output_type": "stream",
     "text": [
      "----------\n"
     ]
    },
    {
     "name": "stderr",
     "output_type": "stream",
     "text": [
      "Epoch 70 - loss: 0.6126 - accuracy: 0.6910: 100%|████████████████████████████████| 16/16 [00:00<00:00, 98.03it/s]\n",
      "Epoch 70 - loss: 0.6118 - accuracy: 0.6870: 100%|███████████████████████████████| 16/16 [00:00<00:00, 112.90it/s]\n"
     ]
    },
    {
     "name": "stdout",
     "output_type": "stream",
     "text": [
      "----------\n"
     ]
    },
    {
     "name": "stderr",
     "output_type": "stream",
     "text": [
      "Epoch 71 - loss: 0.6128 - accuracy: 0.6920: 100%|████████████████████████████████| 16/16 [00:00<00:00, 92.35it/s]\n",
      "Epoch 71 - loss: 0.6114 - accuracy: 0.6850: 100%|████████████████████████████████| 16/16 [00:00<00:00, 67.44it/s]\n"
     ]
    },
    {
     "name": "stdout",
     "output_type": "stream",
     "text": [
      "----------\n"
     ]
    },
    {
     "name": "stderr",
     "output_type": "stream",
     "text": [
      "Epoch 72 - loss: 0.6132 - accuracy: 0.6940: 100%|████████████████████████████████| 16/16 [00:00<00:00, 83.22it/s]\n",
      "Epoch 72 - loss: 0.6111 - accuracy: 0.6860: 100%|████████████████████████████████| 16/16 [00:00<00:00, 67.22it/s]\n"
     ]
    },
    {
     "name": "stdout",
     "output_type": "stream",
     "text": [
      "----------\n"
     ]
    },
    {
     "name": "stderr",
     "output_type": "stream",
     "text": [
      "Epoch 73 - loss: 0.6127 - accuracy: 0.6930: 100%|████████████████████████████████| 16/16 [00:00<00:00, 87.52it/s]\n",
      "Epoch 73 - loss: 0.6107 - accuracy: 0.6850: 100%|████████████████████████████████| 16/16 [00:00<00:00, 94.40it/s]\n"
     ]
    },
    {
     "name": "stdout",
     "output_type": "stream",
     "text": [
      "----------\n"
     ]
    },
    {
     "name": "stderr",
     "output_type": "stream",
     "text": [
      "Epoch 74 - loss: 0.6134 - accuracy: 0.7000: 100%|████████████████████████████████| 16/16 [00:00<00:00, 86.23it/s]\n",
      "Epoch 74 - loss: 0.6104 - accuracy: 0.6870: 100%|████████████████████████████████| 16/16 [00:00<00:00, 86.67it/s]\n"
     ]
    },
    {
     "name": "stdout",
     "output_type": "stream",
     "text": [
      "----------\n"
     ]
    },
    {
     "name": "stderr",
     "output_type": "stream",
     "text": [
      "Epoch 75 - loss: 0.6114 - accuracy: 0.7000: 100%|████████████████████████████████| 16/16 [00:00<00:00, 88.58it/s]\n",
      "Epoch 75 - loss: 0.6101 - accuracy: 0.6860: 100%|████████████████████████████████| 16/16 [00:00<00:00, 90.03it/s]\n"
     ]
    },
    {
     "name": "stdout",
     "output_type": "stream",
     "text": [
      "----------\n"
     ]
    },
    {
     "name": "stderr",
     "output_type": "stream",
     "text": [
      "Epoch 76 - loss: 0.6126 - accuracy: 0.6890: 100%|████████████████████████████████| 16/16 [00:00<00:00, 84.37it/s]\n",
      "Epoch 76 - loss: 0.6097 - accuracy: 0.6860: 100%|████████████████████████████████| 16/16 [00:00<00:00, 91.82it/s]\n"
     ]
    },
    {
     "name": "stdout",
     "output_type": "stream",
     "text": [
      "----------\n"
     ]
    },
    {
     "name": "stderr",
     "output_type": "stream",
     "text": [
      "Epoch 77 - loss: 0.6101 - accuracy: 0.6890: 100%|████████████████████████████████| 16/16 [00:00<00:00, 82.49it/s]\n",
      "Epoch 77 - loss: 0.6094 - accuracy: 0.6850: 100%|████████████████████████████████| 16/16 [00:00<00:00, 82.96it/s]\n"
     ]
    },
    {
     "name": "stdout",
     "output_type": "stream",
     "text": [
      "----------\n"
     ]
    },
    {
     "name": "stderr",
     "output_type": "stream",
     "text": [
      "Epoch 78 - loss: 0.6099 - accuracy: 0.6910: 100%|████████████████████████████████| 16/16 [00:00<00:00, 76.24it/s]\n",
      "Epoch 78 - loss: 0.6091 - accuracy: 0.6840: 100%|████████████████████████████████| 16/16 [00:00<00:00, 80.69it/s]\n"
     ]
    },
    {
     "name": "stdout",
     "output_type": "stream",
     "text": [
      "----------\n"
     ]
    },
    {
     "name": "stderr",
     "output_type": "stream",
     "text": [
      "Epoch 79 - loss: 0.6119 - accuracy: 0.6930: 100%|████████████████████████████████| 16/16 [00:00<00:00, 76.90it/s]\n",
      "Epoch 79 - loss: 0.6087 - accuracy: 0.6850: 100%|████████████████████████████████| 16/16 [00:00<00:00, 85.19it/s]\n"
     ]
    },
    {
     "name": "stdout",
     "output_type": "stream",
     "text": [
      "----------\n"
     ]
    },
    {
     "name": "stderr",
     "output_type": "stream",
     "text": [
      "Epoch 80 - loss: 0.6094 - accuracy: 0.6960: 100%|████████████████████████████████| 16/16 [00:00<00:00, 82.84it/s]\n",
      "Epoch 80 - loss: 0.6084 - accuracy: 0.6860: 100%|████████████████████████████████| 16/16 [00:00<00:00, 88.91it/s]\n"
     ]
    },
    {
     "name": "stdout",
     "output_type": "stream",
     "text": [
      "----------\n"
     ]
    },
    {
     "name": "stderr",
     "output_type": "stream",
     "text": [
      "Epoch 81 - loss: 0.6089 - accuracy: 0.6960: 100%|████████████████████████████████| 16/16 [00:00<00:00, 84.72it/s]\n",
      "Epoch 81 - loss: 0.6081 - accuracy: 0.6870: 100%|████████████████████████████████| 16/16 [00:00<00:00, 83.54it/s]\n"
     ]
    },
    {
     "name": "stdout",
     "output_type": "stream",
     "text": [
      "----------\n"
     ]
    },
    {
     "name": "stderr",
     "output_type": "stream",
     "text": [
      "Epoch 82 - loss: 0.6089 - accuracy: 0.6970: 100%|████████████████████████████████| 16/16 [00:00<00:00, 84.20it/s]\n",
      "Epoch 82 - loss: 0.6078 - accuracy: 0.6860: 100%|████████████████████████████████| 16/16 [00:00<00:00, 87.55it/s]\n"
     ]
    },
    {
     "name": "stdout",
     "output_type": "stream",
     "text": [
      "----------\n"
     ]
    },
    {
     "name": "stderr",
     "output_type": "stream",
     "text": [
      "Epoch 83 - loss: 0.6107 - accuracy: 0.6960: 100%|████████████████████████████████| 16/16 [00:00<00:00, 84.67it/s]\n",
      "Epoch 83 - loss: 0.6075 - accuracy: 0.6860: 100%|████████████████████████████████| 16/16 [00:00<00:00, 89.60it/s]\n"
     ]
    },
    {
     "name": "stdout",
     "output_type": "stream",
     "text": [
      "----------\n"
     ]
    },
    {
     "name": "stderr",
     "output_type": "stream",
     "text": [
      "Epoch 84 - loss: 0.6087 - accuracy: 0.6970: 100%|████████████████████████████████| 16/16 [00:00<00:00, 83.03it/s]\n",
      "Epoch 84 - loss: 0.6072 - accuracy: 0.6860: 100%|████████████████████████████████| 16/16 [00:00<00:00, 89.58it/s]\n"
     ]
    },
    {
     "name": "stdout",
     "output_type": "stream",
     "text": [
      "----------\n"
     ]
    },
    {
     "name": "stderr",
     "output_type": "stream",
     "text": [
      "Epoch 85 - loss: 0.6104 - accuracy: 0.6970: 100%|████████████████████████████████| 16/16 [00:00<00:00, 83.64it/s]\n",
      "Epoch 85 - loss: 0.6069 - accuracy: 0.6800: 100%|████████████████████████████████| 16/16 [00:00<00:00, 88.61it/s]\n"
     ]
    },
    {
     "name": "stdout",
     "output_type": "stream",
     "text": [
      "----------\n"
     ]
    },
    {
     "name": "stderr",
     "output_type": "stream",
     "text": [
      "Epoch 86 - loss: 0.6074 - accuracy: 0.6960: 100%|████████████████████████████████| 16/16 [00:00<00:00, 84.84it/s]\n",
      "Epoch 86 - loss: 0.6066 - accuracy: 0.6780: 100%|████████████████████████████████| 16/16 [00:00<00:00, 88.70it/s]\n"
     ]
    },
    {
     "name": "stdout",
     "output_type": "stream",
     "text": [
      "----------\n"
     ]
    },
    {
     "name": "stderr",
     "output_type": "stream",
     "text": [
      "Epoch 87 - loss: 0.6075 - accuracy: 0.6900: 100%|████████████████████████████████| 16/16 [00:00<00:00, 83.91it/s]\n",
      "Epoch 87 - loss: 0.6063 - accuracy: 0.6730: 100%|████████████████████████████████| 16/16 [00:00<00:00, 87.92it/s]\n"
     ]
    },
    {
     "name": "stdout",
     "output_type": "stream",
     "text": [
      "----------\n"
     ]
    },
    {
     "name": "stderr",
     "output_type": "stream",
     "text": [
      "Epoch 88 - loss: 0.6082 - accuracy: 0.6910: 100%|████████████████████████████████| 16/16 [00:00<00:00, 84.57it/s]\n",
      "Epoch 88 - loss: 0.6060 - accuracy: 0.6740: 100%|████████████████████████████████| 16/16 [00:00<00:00, 89.88it/s]\n"
     ]
    },
    {
     "name": "stdout",
     "output_type": "stream",
     "text": [
      "----------\n"
     ]
    },
    {
     "name": "stderr",
     "output_type": "stream",
     "text": [
      "Epoch 89 - loss: 0.6061 - accuracy: 0.6910: 100%|████████████████████████████████| 16/16 [00:00<00:00, 83.85it/s]\n",
      "Epoch 89 - loss: 0.6057 - accuracy: 0.6760: 100%|████████████████████████████████| 16/16 [00:00<00:00, 89.82it/s]\n"
     ]
    },
    {
     "name": "stdout",
     "output_type": "stream",
     "text": [
      "----------\n"
     ]
    },
    {
     "name": "stderr",
     "output_type": "stream",
     "text": [
      "Epoch 90 - loss: 0.6078 - accuracy: 0.6930: 100%|████████████████████████████████| 16/16 [00:00<00:00, 86.00it/s]\n",
      "Epoch 90 - loss: 0.6055 - accuracy: 0.6780: 100%|████████████████████████████████| 16/16 [00:00<00:00, 91.05it/s]\n"
     ]
    },
    {
     "name": "stdout",
     "output_type": "stream",
     "text": [
      "----------\n"
     ]
    },
    {
     "name": "stderr",
     "output_type": "stream",
     "text": [
      "Epoch 91 - loss: 0.6062 - accuracy: 0.6940: 100%|████████████████████████████████| 16/16 [00:00<00:00, 88.52it/s]\n",
      "Epoch 91 - loss: 0.6052 - accuracy: 0.6780: 100%|████████████████████████████████| 16/16 [00:00<00:00, 94.16it/s]\n"
     ]
    },
    {
     "name": "stdout",
     "output_type": "stream",
     "text": [
      "----------\n"
     ]
    },
    {
     "name": "stderr",
     "output_type": "stream",
     "text": [
      "Epoch 92 - loss: 0.6077 - accuracy: 0.6940: 100%|████████████████████████████████| 16/16 [00:00<00:00, 87.62it/s]\n",
      "Epoch 92 - loss: 0.6049 - accuracy: 0.6770: 100%|████████████████████████████████| 16/16 [00:00<00:00, 93.64it/s]\n"
     ]
    },
    {
     "name": "stdout",
     "output_type": "stream",
     "text": [
      "----------\n"
     ]
    },
    {
     "name": "stderr",
     "output_type": "stream",
     "text": [
      "Epoch 93 - loss: 0.6070 - accuracy: 0.6900: 100%|████████████████████████████████| 16/16 [00:00<00:00, 88.09it/s]\n",
      "Epoch 93 - loss: 0.6046 - accuracy: 0.6760: 100%|████████████████████████████████| 16/16 [00:00<00:00, 93.41it/s]\n"
     ]
    },
    {
     "name": "stdout",
     "output_type": "stream",
     "text": [
      "----------\n"
     ]
    },
    {
     "name": "stderr",
     "output_type": "stream",
     "text": [
      "Epoch 94 - loss: 0.6056 - accuracy: 0.6900: 100%|████████████████████████████████| 16/16 [00:00<00:00, 84.38it/s]\n",
      "Epoch 94 - loss: 0.6044 - accuracy: 0.6760: 100%|████████████████████████████████| 16/16 [00:00<00:00, 82.94it/s]\n"
     ]
    },
    {
     "name": "stdout",
     "output_type": "stream",
     "text": [
      "----------\n"
     ]
    },
    {
     "name": "stderr",
     "output_type": "stream",
     "text": [
      "Epoch 95 - loss: 0.6053 - accuracy: 0.6920: 100%|████████████████████████████████| 16/16 [00:00<00:00, 89.33it/s]\n",
      "Epoch 95 - loss: 0.6041 - accuracy: 0.6760: 100%|████████████████████████████████| 16/16 [00:00<00:00, 97.89it/s]\n"
     ]
    },
    {
     "name": "stdout",
     "output_type": "stream",
     "text": [
      "----------\n"
     ]
    },
    {
     "name": "stderr",
     "output_type": "stream",
     "text": [
      "Epoch 96 - loss: 0.6047 - accuracy: 0.6890: 100%|████████████████████████████████| 16/16 [00:00<00:00, 92.88it/s]\n",
      "Epoch 96 - loss: 0.6038 - accuracy: 0.6760: 100%|████████████████████████████████| 16/16 [00:00<00:00, 97.01it/s]\n"
     ]
    },
    {
     "name": "stdout",
     "output_type": "stream",
     "text": [
      "----------\n"
     ]
    },
    {
     "name": "stderr",
     "output_type": "stream",
     "text": [
      "Epoch 97 - loss: 0.6047 - accuracy: 0.6890: 100%|████████████████████████████████| 16/16 [00:00<00:00, 93.12it/s]\n",
      "Epoch 97 - loss: 0.6036 - accuracy: 0.6750: 100%|████████████████████████████████| 16/16 [00:00<00:00, 98.11it/s]\n"
     ]
    },
    {
     "name": "stdout",
     "output_type": "stream",
     "text": [
      "----------\n"
     ]
    },
    {
     "name": "stderr",
     "output_type": "stream",
     "text": [
      "Epoch 98 - loss: 0.6051 - accuracy: 0.6890: 100%|████████████████████████████████| 16/16 [00:00<00:00, 92.28it/s]\n",
      "Epoch 98 - loss: 0.6033 - accuracy: 0.6750: 100%|████████████████████████████████| 16/16 [00:00<00:00, 98.38it/s]\n"
     ]
    },
    {
     "name": "stdout",
     "output_type": "stream",
     "text": [
      "----------\n"
     ]
    },
    {
     "name": "stderr",
     "output_type": "stream",
     "text": [
      "Epoch 99 - loss: 0.6066 - accuracy: 0.6880: 100%|████████████████████████████████| 16/16 [00:00<00:00, 92.81it/s]\n",
      "Epoch 99 - loss: 0.6030 - accuracy: 0.6760: 100%|████████████████████████████████| 16/16 [00:00<00:00, 96.83it/s]\n"
     ]
    },
    {
     "name": "stdout",
     "output_type": "stream",
     "text": [
      "----------\n"
     ]
    },
    {
     "name": "stderr",
     "output_type": "stream",
     "text": [
      "Epoch 100 - loss: 0.6062 - accuracy: 0.6890: 100%|███████████████████████████████| 16/16 [00:00<00:00, 79.99it/s]\n",
      "Epoch 100 - loss: 0.6028 - accuracy: 0.6760: 100%|███████████████████████████████| 16/16 [00:00<00:00, 96.02it/s]\n"
     ]
    },
    {
     "name": "stdout",
     "output_type": "stream",
     "text": [
      "----------\n"
     ]
    },
    {
     "name": "stderr",
     "output_type": "stream",
     "text": [
      "Epoch 101 - loss: 0.6038 - accuracy: 0.6870: 100%|███████████████████████████████| 16/16 [00:00<00:00, 90.66it/s]\n",
      "Epoch 101 - loss: 0.6025 - accuracy: 0.6780: 100%|███████████████████████████████| 16/16 [00:00<00:00, 93.38it/s]\n"
     ]
    },
    {
     "name": "stdout",
     "output_type": "stream",
     "text": [
      "----------\n"
     ]
    },
    {
     "name": "stderr",
     "output_type": "stream",
     "text": [
      "Epoch 102 - loss: 0.6040 - accuracy: 0.6860: 100%|███████████████████████████████| 16/16 [00:00<00:00, 89.04it/s]\n",
      "Epoch 102 - loss: 0.6023 - accuracy: 0.6770: 100%|███████████████████████████████| 16/16 [00:00<00:00, 94.72it/s]\n"
     ]
    },
    {
     "name": "stdout",
     "output_type": "stream",
     "text": [
      "----------\n"
     ]
    },
    {
     "name": "stderr",
     "output_type": "stream",
     "text": [
      "Epoch 103 - loss: 0.6029 - accuracy: 0.6850: 100%|███████████████████████████████| 16/16 [00:00<00:00, 89.06it/s]\n",
      "Epoch 103 - loss: 0.6021 - accuracy: 0.6800: 100%|███████████████████████████████| 16/16 [00:00<00:00, 92.58it/s]\n"
     ]
    },
    {
     "name": "stdout",
     "output_type": "stream",
     "text": [
      "----------\n"
     ]
    },
    {
     "name": "stderr",
     "output_type": "stream",
     "text": [
      "Epoch 104 - loss: 0.6028 - accuracy: 0.6850: 100%|███████████████████████████████| 16/16 [00:00<00:00, 91.22it/s]\n",
      "Epoch 104 - loss: 0.6018 - accuracy: 0.6790: 100%|███████████████████████████████| 16/16 [00:00<00:00, 87.46it/s]\n"
     ]
    },
    {
     "name": "stdout",
     "output_type": "stream",
     "text": [
      "----------\n"
     ]
    },
    {
     "name": "stderr",
     "output_type": "stream",
     "text": [
      "Epoch 105 - loss: 0.6030 - accuracy: 0.6860: 100%|███████████████████████████████| 16/16 [00:00<00:00, 85.13it/s]\n",
      "Epoch 105 - loss: 0.6016 - accuracy: 0.6790: 100%|███████████████████████████████| 16/16 [00:00<00:00, 90.24it/s]\n"
     ]
    },
    {
     "name": "stdout",
     "output_type": "stream",
     "text": [
      "----------\n"
     ]
    },
    {
     "name": "stderr",
     "output_type": "stream",
     "text": [
      "Epoch 106 - loss: 0.6033 - accuracy: 0.6890: 100%|███████████████████████████████| 16/16 [00:00<00:00, 84.29it/s]\n",
      "Epoch 106 - loss: 0.6013 - accuracy: 0.6800: 100%|███████████████████████████████| 16/16 [00:00<00:00, 89.68it/s]\n"
     ]
    },
    {
     "name": "stdout",
     "output_type": "stream",
     "text": [
      "----------\n"
     ]
    },
    {
     "name": "stderr",
     "output_type": "stream",
     "text": [
      "Epoch 107 - loss: 0.6043 - accuracy: 0.6870: 100%|███████████████████████████████| 16/16 [00:00<00:00, 83.56it/s]\n",
      "Epoch 107 - loss: 0.6011 - accuracy: 0.6800: 100%|███████████████████████████████| 16/16 [00:00<00:00, 91.80it/s]\n"
     ]
    },
    {
     "name": "stdout",
     "output_type": "stream",
     "text": [
      "----------\n"
     ]
    },
    {
     "name": "stderr",
     "output_type": "stream",
     "text": [
      "Epoch 108 - loss: 0.6029 - accuracy: 0.6870: 100%|███████████████████████████████| 16/16 [00:00<00:00, 77.70it/s]\n",
      "Epoch 108 - loss: 0.6008 - accuracy: 0.6800: 100%|███████████████████████████████| 16/16 [00:00<00:00, 93.20it/s]\n"
     ]
    },
    {
     "name": "stdout",
     "output_type": "stream",
     "text": [
      "----------\n"
     ]
    },
    {
     "name": "stderr",
     "output_type": "stream",
     "text": [
      "Epoch 109 - loss: 0.6025 - accuracy: 0.6860: 100%|███████████████████████████████| 16/16 [00:00<00:00, 90.51it/s]\n",
      "Epoch 109 - loss: 0.6006 - accuracy: 0.6800: 100%|███████████████████████████████| 16/16 [00:00<00:00, 94.03it/s]\n"
     ]
    },
    {
     "name": "stdout",
     "output_type": "stream",
     "text": [
      "----------\n"
     ]
    },
    {
     "name": "stderr",
     "output_type": "stream",
     "text": [
      "Epoch 110 - loss: 0.6018 - accuracy: 0.6860: 100%|███████████████████████████████| 16/16 [00:00<00:00, 91.82it/s]\n",
      "Epoch 110 - loss: 0.6004 - accuracy: 0.6790: 100%|███████████████████████████████| 16/16 [00:00<00:00, 96.39it/s]\n"
     ]
    },
    {
     "name": "stdout",
     "output_type": "stream",
     "text": [
      "----------\n"
     ]
    },
    {
     "name": "stderr",
     "output_type": "stream",
     "text": [
      "Epoch 111 - loss: 0.6032 - accuracy: 0.6870: 100%|███████████████████████████████| 16/16 [00:00<00:00, 92.27it/s]\n",
      "Epoch 111 - loss: 0.6001 - accuracy: 0.6800: 100%|███████████████████████████████| 16/16 [00:00<00:00, 98.66it/s]\n"
     ]
    },
    {
     "name": "stdout",
     "output_type": "stream",
     "text": [
      "----------\n"
     ]
    },
    {
     "name": "stderr",
     "output_type": "stream",
     "text": [
      "Epoch 112 - loss: 0.6009 - accuracy: 0.6870: 100%|███████████████████████████████| 16/16 [00:00<00:00, 81.73it/s]\n",
      "Epoch 112 - loss: 0.5999 - accuracy: 0.6790: 100%|███████████████████████████████| 16/16 [00:00<00:00, 97.74it/s]\n"
     ]
    },
    {
     "name": "stdout",
     "output_type": "stream",
     "text": [
      "----------\n"
     ]
    },
    {
     "name": "stderr",
     "output_type": "stream",
     "text": [
      "Epoch 113 - loss: 0.6028 - accuracy: 0.6870: 100%|███████████████████████████████| 16/16 [00:00<00:00, 80.47it/s]\n",
      "Epoch 113 - loss: 0.5997 - accuracy: 0.6790: 100%|███████████████████████████████| 16/16 [00:00<00:00, 80.29it/s]\n"
     ]
    },
    {
     "name": "stdout",
     "output_type": "stream",
     "text": [
      "----------\n"
     ]
    },
    {
     "name": "stderr",
     "output_type": "stream",
     "text": [
      "Epoch 114 - loss: 0.6004 - accuracy: 0.6890: 100%|███████████████████████████████| 16/16 [00:00<00:00, 78.83it/s]\n",
      "Epoch 114 - loss: 0.5995 - accuracy: 0.6790: 100%|███████████████████████████████| 16/16 [00:00<00:00, 73.60it/s]\n"
     ]
    },
    {
     "name": "stdout",
     "output_type": "stream",
     "text": [
      "----------\n"
     ]
    },
    {
     "name": "stderr",
     "output_type": "stream",
     "text": [
      "Epoch 115 - loss: 0.6009 - accuracy: 0.6880: 100%|███████████████████████████████| 16/16 [00:00<00:00, 85.09it/s]\n",
      "Epoch 115 - loss: 0.5992 - accuracy: 0.6800: 100%|███████████████████████████████| 16/16 [00:00<00:00, 87.84it/s]\n"
     ]
    },
    {
     "name": "stdout",
     "output_type": "stream",
     "text": [
      "----------\n"
     ]
    },
    {
     "name": "stderr",
     "output_type": "stream",
     "text": [
      "Epoch 116 - loss: 0.6003 - accuracy: 0.6890: 100%|███████████████████████████████| 16/16 [00:00<00:00, 63.21it/s]\n",
      "Epoch 116 - loss: 0.5990 - accuracy: 0.6790: 100%|███████████████████████████████| 16/16 [00:00<00:00, 74.68it/s]\n"
     ]
    },
    {
     "name": "stdout",
     "output_type": "stream",
     "text": [
      "----------\n"
     ]
    },
    {
     "name": "stderr",
     "output_type": "stream",
     "text": [
      "Epoch 117 - loss: 0.6010 - accuracy: 0.6890: 100%|███████████████████████████████| 16/16 [00:00<00:00, 78.25it/s]\n",
      "Epoch 117 - loss: 0.5988 - accuracy: 0.6790: 100%|███████████████████████████████| 16/16 [00:00<00:00, 75.44it/s]\n"
     ]
    },
    {
     "name": "stdout",
     "output_type": "stream",
     "text": [
      "----------\n"
     ]
    },
    {
     "name": "stderr",
     "output_type": "stream",
     "text": [
      "Epoch 118 - loss: 0.6011 - accuracy: 0.6900: 100%|███████████████████████████████| 16/16 [00:00<00:00, 68.93it/s]\n",
      "Epoch 118 - loss: 0.5986 - accuracy: 0.6820: 100%|███████████████████████████████| 16/16 [00:00<00:00, 61.14it/s]\n"
     ]
    },
    {
     "name": "stdout",
     "output_type": "stream",
     "text": [
      "----------\n"
     ]
    },
    {
     "name": "stderr",
     "output_type": "stream",
     "text": [
      "Epoch 119 - loss: 0.5996 - accuracy: 0.6890: 100%|███████████████████████████████| 16/16 [00:00<00:00, 71.26it/s]\n",
      "Epoch 119 - loss: 0.5984 - accuracy: 0.6830: 100%|███████████████████████████████| 16/16 [00:00<00:00, 68.59it/s]\n"
     ]
    },
    {
     "name": "stdout",
     "output_type": "stream",
     "text": [
      "----------\n"
     ]
    },
    {
     "name": "stderr",
     "output_type": "stream",
     "text": [
      "Epoch 120 - loss: 0.6002 - accuracy: 0.6890: 100%|███████████████████████████████| 16/16 [00:00<00:00, 63.15it/s]\n",
      "Epoch 120 - loss: 0.5981 - accuracy: 0.6820: 100%|███████████████████████████████| 16/16 [00:00<00:00, 73.37it/s]\n"
     ]
    },
    {
     "name": "stdout",
     "output_type": "stream",
     "text": [
      "----------\n"
     ]
    },
    {
     "name": "stderr",
     "output_type": "stream",
     "text": [
      "Epoch 121 - loss: 0.5982 - accuracy: 0.6870: 100%|███████████████████████████████| 16/16 [00:00<00:00, 68.36it/s]\n",
      "Epoch 121 - loss: 0.5979 - accuracy: 0.6840: 100%|███████████████████████████████| 16/16 [00:00<00:00, 72.78it/s]\n"
     ]
    },
    {
     "name": "stdout",
     "output_type": "stream",
     "text": [
      "----------\n"
     ]
    },
    {
     "name": "stderr",
     "output_type": "stream",
     "text": [
      "Epoch 122 - loss: 0.5996 - accuracy: 0.6820: 100%|███████████████████████████████| 16/16 [00:00<00:00, 68.45it/s]\n",
      "Epoch 122 - loss: 0.5977 - accuracy: 0.6840: 100%|███████████████████████████████| 16/16 [00:00<00:00, 73.25it/s]\n"
     ]
    },
    {
     "name": "stdout",
     "output_type": "stream",
     "text": [
      "----------\n"
     ]
    },
    {
     "name": "stderr",
     "output_type": "stream",
     "text": [
      "Epoch 123 - loss: 0.6003 - accuracy: 0.6850: 100%|███████████████████████████████| 16/16 [00:00<00:00, 72.04it/s]\n",
      "Epoch 123 - loss: 0.5975 - accuracy: 0.6830: 100%|███████████████████████████████| 16/16 [00:00<00:00, 71.50it/s]\n"
     ]
    },
    {
     "name": "stdout",
     "output_type": "stream",
     "text": [
      "----------\n"
     ]
    },
    {
     "name": "stderr",
     "output_type": "stream",
     "text": [
      "Epoch 124 - loss: 0.5990 - accuracy: 0.6870: 100%|███████████████████████████████| 16/16 [00:00<00:00, 43.99it/s]\n",
      "Epoch 124 - loss: 0.5973 - accuracy: 0.6860: 100%|███████████████████████████████| 16/16 [00:00<00:00, 64.48it/s]\n"
     ]
    },
    {
     "name": "stdout",
     "output_type": "stream",
     "text": [
      "----------\n"
     ]
    },
    {
     "name": "stderr",
     "output_type": "stream",
     "text": [
      "Epoch 125 - loss: 0.5994 - accuracy: 0.6870: 100%|███████████████████████████████| 16/16 [00:00<00:00, 45.10it/s]\n",
      "Epoch 125 - loss: 0.5971 - accuracy: 0.6850: 100%|███████████████████████████████| 16/16 [00:00<00:00, 47.32it/s]\n"
     ]
    },
    {
     "name": "stdout",
     "output_type": "stream",
     "text": [
      "----------\n"
     ]
    },
    {
     "name": "stderr",
     "output_type": "stream",
     "text": [
      "Epoch 126 - loss: 0.5999 - accuracy: 0.6810: 100%|███████████████████████████████| 16/16 [00:00<00:00, 40.49it/s]\n",
      "Epoch 126 - loss: 0.5969 - accuracy: 0.6870: 100%|███████████████████████████████| 16/16 [00:00<00:00, 28.55it/s]\n"
     ]
    },
    {
     "name": "stdout",
     "output_type": "stream",
     "text": [
      "----------\n"
     ]
    },
    {
     "name": "stderr",
     "output_type": "stream",
     "text": [
      "Epoch 127 - loss: 0.5997 - accuracy: 0.6850: 100%|███████████████████████████████| 16/16 [00:00<00:00, 33.51it/s]\n",
      "Epoch 127 - loss: 0.5967 - accuracy: 0.6850: 100%|███████████████████████████████| 16/16 [00:00<00:00, 53.18it/s]\n"
     ]
    },
    {
     "name": "stdout",
     "output_type": "stream",
     "text": [
      "----------\n"
     ]
    },
    {
     "name": "stderr",
     "output_type": "stream",
     "text": [
      "Epoch 128 - loss: 0.5987 - accuracy: 0.6870: 100%|███████████████████████████████| 16/16 [00:00<00:00, 64.81it/s]\n",
      "Epoch 128 - loss: 0.5965 - accuracy: 0.6860: 100%|███████████████████████████████| 16/16 [00:00<00:00, 57.07it/s]\n"
     ]
    },
    {
     "name": "stdout",
     "output_type": "stream",
     "text": [
      "----------\n"
     ]
    },
    {
     "name": "stderr",
     "output_type": "stream",
     "text": [
      "Epoch 129 - loss: 0.5974 - accuracy: 0.6840: 100%|███████████████████████████████| 16/16 [00:00<00:00, 42.85it/s]\n",
      "Epoch 129 - loss: 0.5963 - accuracy: 0.6890: 100%|███████████████████████████████| 16/16 [00:00<00:00, 29.07it/s]\n"
     ]
    },
    {
     "name": "stdout",
     "output_type": "stream",
     "text": [
      "----------\n"
     ]
    },
    {
     "name": "stderr",
     "output_type": "stream",
     "text": [
      "Epoch 130 - loss: 0.5975 - accuracy: 0.6860: 100%|███████████████████████████████| 16/16 [00:00<00:00, 34.77it/s]\n",
      "Epoch 130 - loss: 0.5961 - accuracy: 0.6860: 100%|███████████████████████████████| 16/16 [00:00<00:00, 75.44it/s]\n"
     ]
    },
    {
     "name": "stdout",
     "output_type": "stream",
     "text": [
      "----------\n"
     ]
    },
    {
     "name": "stderr",
     "output_type": "stream",
     "text": [
      "Epoch 131 - loss: 0.5961 - accuracy: 0.6860: 100%|███████████████████████████████| 16/16 [00:00<00:00, 51.77it/s]\n",
      "Epoch 131 - loss: 0.5959 - accuracy: 0.6880: 100%|███████████████████████████████| 16/16 [00:00<00:00, 59.67it/s]\n"
     ]
    },
    {
     "name": "stdout",
     "output_type": "stream",
     "text": [
      "----------\n"
     ]
    },
    {
     "name": "stderr",
     "output_type": "stream",
     "text": [
      "Epoch 132 - loss: 0.5961 - accuracy: 0.6850: 100%|███████████████████████████████| 16/16 [00:00<00:00, 52.40it/s]\n",
      "Epoch 132 - loss: 0.5957 - accuracy: 0.6880: 100%|███████████████████████████████| 16/16 [00:00<00:00, 57.64it/s]\n"
     ]
    },
    {
     "name": "stdout",
     "output_type": "stream",
     "text": [
      "----------\n"
     ]
    },
    {
     "name": "stderr",
     "output_type": "stream",
     "text": [
      "Epoch 133 - loss: 0.5962 - accuracy: 0.6830: 100%|███████████████████████████████| 16/16 [00:00<00:00, 57.12it/s]\n",
      "Epoch 133 - loss: 0.5954 - accuracy: 0.6880: 100%|███████████████████████████████| 16/16 [00:00<00:00, 72.26it/s]\n"
     ]
    },
    {
     "name": "stdout",
     "output_type": "stream",
     "text": [
      "----------\n"
     ]
    },
    {
     "name": "stderr",
     "output_type": "stream",
     "text": [
      "Epoch 134 - loss: 0.5980 - accuracy: 0.6830: 100%|███████████████████████████████| 16/16 [00:00<00:00, 45.28it/s]\n",
      "Epoch 134 - loss: 0.5952 - accuracy: 0.6900: 100%|███████████████████████████████| 16/16 [00:00<00:00, 74.07it/s]\n"
     ]
    },
    {
     "name": "stdout",
     "output_type": "stream",
     "text": [
      "----------\n"
     ]
    },
    {
     "name": "stderr",
     "output_type": "stream",
     "text": [
      "Epoch 135 - loss: 0.5977 - accuracy: 0.6840: 100%|███████████████████████████████| 16/16 [00:00<00:00, 71.95it/s]\n",
      "Epoch 135 - loss: 0.5950 - accuracy: 0.6890: 100%|███████████████████████████████| 16/16 [00:00<00:00, 75.03it/s]\n"
     ]
    },
    {
     "name": "stdout",
     "output_type": "stream",
     "text": [
      "----------\n"
     ]
    },
    {
     "name": "stderr",
     "output_type": "stream",
     "text": [
      "Epoch 136 - loss: 0.5985 - accuracy: 0.6840: 100%|███████████████████████████████| 16/16 [00:00<00:00, 73.69it/s]\n",
      "Epoch 136 - loss: 0.5949 - accuracy: 0.6880: 100%|███████████████████████████████| 16/16 [00:00<00:00, 80.48it/s]\n"
     ]
    },
    {
     "name": "stdout",
     "output_type": "stream",
     "text": [
      "----------\n"
     ]
    },
    {
     "name": "stderr",
     "output_type": "stream",
     "text": [
      "Epoch 137 - loss: 0.5950 - accuracy: 0.6850: 100%|███████████████████████████████| 16/16 [00:00<00:00, 79.57it/s]\n",
      "Epoch 137 - loss: 0.5947 - accuracy: 0.6870: 100%|███████████████████████████████| 16/16 [00:00<00:00, 85.06it/s]\n"
     ]
    },
    {
     "name": "stdout",
     "output_type": "stream",
     "text": [
      "----------\n"
     ]
    },
    {
     "name": "stderr",
     "output_type": "stream",
     "text": [
      "Epoch 138 - loss: 0.5965 - accuracy: 0.6850: 100%|███████████████████████████████| 16/16 [00:00<00:00, 84.39it/s]\n",
      "Epoch 138 - loss: 0.5945 - accuracy: 0.6880: 100%|███████████████████████████████| 16/16 [00:00<00:00, 87.06it/s]\n"
     ]
    },
    {
     "name": "stdout",
     "output_type": "stream",
     "text": [
      "----------\n"
     ]
    },
    {
     "name": "stderr",
     "output_type": "stream",
     "text": [
      "Epoch 139 - loss: 0.5956 - accuracy: 0.6840: 100%|███████████████████████████████| 16/16 [00:00<00:00, 86.02it/s]\n",
      "Epoch 139 - loss: 0.5943 - accuracy: 0.6880: 100%|███████████████████████████████| 16/16 [00:00<00:00, 93.34it/s]\n"
     ]
    },
    {
     "name": "stdout",
     "output_type": "stream",
     "text": [
      "----------\n"
     ]
    },
    {
     "name": "stderr",
     "output_type": "stream",
     "text": [
      "Epoch 140 - loss: 0.5970 - accuracy: 0.6840: 100%|███████████████████████████████| 16/16 [00:00<00:00, 90.15it/s]\n",
      "Epoch 140 - loss: 0.5941 - accuracy: 0.6870: 100%|███████████████████████████████| 16/16 [00:00<00:00, 96.82it/s]\n"
     ]
    },
    {
     "name": "stdout",
     "output_type": "stream",
     "text": [
      "----------\n"
     ]
    },
    {
     "name": "stderr",
     "output_type": "stream",
     "text": [
      "Epoch 141 - loss: 0.5965 - accuracy: 0.6830: 100%|███████████████████████████████| 16/16 [00:00<00:00, 90.84it/s]\n",
      "Epoch 141 - loss: 0.5939 - accuracy: 0.6870: 100%|██████████████████████████████| 16/16 [00:00<00:00, 101.40it/s]\n"
     ]
    },
    {
     "name": "stdout",
     "output_type": "stream",
     "text": [
      "----------\n"
     ]
    },
    {
     "name": "stderr",
     "output_type": "stream",
     "text": [
      "Epoch 142 - loss: 0.5961 - accuracy: 0.6840: 100%|███████████████████████████████| 16/16 [00:00<00:00, 96.03it/s]\n",
      "Epoch 142 - loss: 0.5937 - accuracy: 0.6880: 100%|██████████████████████████████| 16/16 [00:00<00:00, 100.93it/s]\n"
     ]
    },
    {
     "name": "stdout",
     "output_type": "stream",
     "text": [
      "----------\n"
     ]
    },
    {
     "name": "stderr",
     "output_type": "stream",
     "text": [
      "Epoch 143 - loss: 0.5951 - accuracy: 0.6810: 100%|███████████████████████████████| 16/16 [00:00<00:00, 79.15it/s]\n",
      "Epoch 143 - loss: 0.5935 - accuracy: 0.6870: 100%|███████████████████████████████| 16/16 [00:00<00:00, 81.01it/s]\n"
     ]
    },
    {
     "name": "stdout",
     "output_type": "stream",
     "text": [
      "----------\n"
     ]
    },
    {
     "name": "stderr",
     "output_type": "stream",
     "text": [
      "Epoch 144 - loss: 0.5978 - accuracy: 0.6830: 100%|███████████████████████████████| 16/16 [00:00<00:00, 85.53it/s]\n",
      "Epoch 144 - loss: 0.5934 - accuracy: 0.6880: 100%|███████████████████████████████| 16/16 [00:00<00:00, 74.31it/s]\n"
     ]
    },
    {
     "name": "stdout",
     "output_type": "stream",
     "text": [
      "----------\n"
     ]
    },
    {
     "name": "stderr",
     "output_type": "stream",
     "text": [
      "Epoch 145 - loss: 0.5946 - accuracy: 0.6880: 100%|███████████████████████████████| 16/16 [00:00<00:00, 73.70it/s]\n",
      "Epoch 145 - loss: 0.5932 - accuracy: 0.6870: 100%|███████████████████████████████| 16/16 [00:00<00:00, 84.01it/s]\n"
     ]
    },
    {
     "name": "stdout",
     "output_type": "stream",
     "text": [
      "----------\n"
     ]
    },
    {
     "name": "stderr",
     "output_type": "stream",
     "text": [
      "Epoch 146 - loss: 0.5956 - accuracy: 0.6850: 100%|███████████████████████████████| 16/16 [00:00<00:00, 92.85it/s]\n",
      "Epoch 146 - loss: 0.5930 - accuracy: 0.6880: 100%|███████████████████████████████| 16/16 [00:00<00:00, 74.93it/s]\n"
     ]
    },
    {
     "name": "stdout",
     "output_type": "stream",
     "text": [
      "----------\n"
     ]
    },
    {
     "name": "stderr",
     "output_type": "stream",
     "text": [
      "Epoch 147 - loss: 0.5944 - accuracy: 0.6850: 100%|███████████████████████████████| 16/16 [00:00<00:00, 73.17it/s]\n",
      "Epoch 147 - loss: 0.5928 - accuracy: 0.6880: 100%|███████████████████████████████| 16/16 [00:00<00:00, 99.40it/s]\n"
     ]
    },
    {
     "name": "stdout",
     "output_type": "stream",
     "text": [
      "----------\n"
     ]
    },
    {
     "name": "stderr",
     "output_type": "stream",
     "text": [
      "Epoch 148 - loss: 0.5922 - accuracy: 0.6820: 100%|███████████████████████████████| 16/16 [00:00<00:00, 91.13it/s]\n",
      "Epoch 148 - loss: 0.5927 - accuracy: 0.6880: 100%|███████████████████████████████| 16/16 [00:00<00:00, 95.54it/s]\n"
     ]
    },
    {
     "name": "stdout",
     "output_type": "stream",
     "text": [
      "----------\n"
     ]
    },
    {
     "name": "stderr",
     "output_type": "stream",
     "text": [
      "Epoch 149 - loss: 0.5939 - accuracy: 0.6820: 100%|███████████████████████████████| 16/16 [00:00<00:00, 95.44it/s]\n",
      "Epoch 149 - loss: 0.5925 - accuracy: 0.6870: 100%|███████████████████████████████| 16/16 [00:00<00:00, 99.32it/s]"
     ]
    },
    {
     "name": "stdout",
     "output_type": "stream",
     "text": [
      "----------\n"
     ]
    },
    {
     "name": "stderr",
     "output_type": "stream",
     "text": [
      "\n"
     ]
    }
   ],
   "source": [
    "# Tensorboard logger\n",
    "import time\n",
    "from src.supervised_ml import get_tensorboard_writer\n",
    "run_name = f'linear/{str(int(time.time()))}'\n",
    "tensorboard_writer = get_tensorboard_writer(run_name)\n",
    "\n",
    "# Adam is always a safe choice\n",
    "import torch.optim as optim\n",
    "optimizer = optim.Adam(model.parameters())\n",
    "\n",
    "# train_val_loop runs a full pass on the given data\n",
    "# (either train or test) and logs metrics to tensorboard\n",
    "from src.supervised_ml import get_train_val_loop\n",
    "train_val_loop = get_train_val_loop(model,\n",
    "                                    criterion,\n",
    "                                    optimizer,\n",
    "                                    tensorboard_writer)\n",
    "\n",
    "\n",
    "# call train_val_loop 150 times for training,\n",
    "# and 150 times for evaluating.\n",
    "N_EPOCHS = 150\n",
    "for epoch in range(N_EPOCHS):\n",
    "    # train\n",
    "    train_val_loop(is_train=True,\n",
    "                   dataloader=train_dataloader,\n",
    "                   epoch=epoch)\n",
    "\n",
    "    with torch.no_grad():\n",
    "        # validate\n",
    "        train_val_loop(is_train=False,\n",
    "                       dataloader=test_dataloader,\n",
    "                       epoch=epoch)\n",
    "\n",
    "    print('----------')"
   ]
  },
  {
   "cell_type": "markdown",
   "id": "0de73bcb",
   "metadata": {},
   "source": [
    "-------"
   ]
  },
  {
   "cell_type": "markdown",
   "id": "db037ccc",
   "metadata": {},
   "source": [
    "## Model 2: Neural network with 1 hidden layer"
   ]
  },
  {
   "cell_type": "markdown",
   "id": "3e40a6c4",
   "metadata": {},
   "source": [
    "### Model architecture 📐🏗️"
   ]
  },
  {
   "cell_type": "code",
   "execution_count": 30,
   "id": "9bbd9af6",
   "metadata": {},
   "outputs": [
    {
     "name": "stdout",
     "output_type": "stream",
     "text": [
      "1,794 parameters\n",
      "Sequential(\n",
      "  (0): Linear(in_features=4, out_features=256, bias=True)\n",
      "  (1): ReLU()\n",
      "  (2): Linear(in_features=256, out_features=2, bias=True)\n",
      ")\n"
     ]
    }
   ],
   "source": [
    "model = get_model(input_dim=4, output_dim=2, hidden_layers=[256])\n",
    "device = torch.device(\"cuda\" if torch.cuda.is_available() else \"cpu\")\n",
    "model.to(device)\n",
    "\n",
    "print(f'{count_parameters(model):,} parameters')\n",
    "print(model)"
   ]
  },
  {
   "cell_type": "markdown",
   "id": "d6219a7f",
   "metadata": {},
   "source": [
    "![image](https://github.com/Paulescu/hands-on-rl/blob/main/03_cart_pole/images/nn_1_hidden_layer_sml.jpg?raw=true)"
   ]
  },
  {
   "cell_type": "markdown",
   "id": "7fec9138",
   "metadata": {},
   "source": [
    "### Train loop 🏋️"
   ]
  },
  {
   "cell_type": "code",
   "execution_count": 31,
   "id": "ef30158a",
   "metadata": {
    "scrolled": true
   },
   "outputs": [
    {
     "name": "stderr",
     "output_type": "stream",
     "text": [
      "Epoch 0 - loss: 0.6908 - accuracy: 0.5280: 100%|████████████████████████████████| 16/16 [00:00<00:00, 113.56it/s]\n",
      "Epoch 0 - loss: 0.6636 - accuracy: 0.6300: 100%|████████████████████████████████| 16/16 [00:00<00:00, 122.02it/s]\n"
     ]
    },
    {
     "name": "stdout",
     "output_type": "stream",
     "text": [
      "----------\n"
     ]
    },
    {
     "name": "stderr",
     "output_type": "stream",
     "text": [
      "Epoch 1 - loss: 0.6566 - accuracy: 0.6130: 100%|████████████████████████████████| 16/16 [00:00<00:00, 114.14it/s]\n",
      "Epoch 1 - loss: 0.6443 - accuracy: 0.6400: 100%|████████████████████████████████| 16/16 [00:00<00:00, 121.70it/s]\n"
     ]
    },
    {
     "name": "stdout",
     "output_type": "stream",
     "text": [
      "----------\n"
     ]
    },
    {
     "name": "stderr",
     "output_type": "stream",
     "text": [
      "Epoch 2 - loss: 0.6364 - accuracy: 0.6540: 100%|████████████████████████████████| 16/16 [00:00<00:00, 111.85it/s]\n",
      "Epoch 2 - loss: 0.6309 - accuracy: 0.6370: 100%|████████████████████████████████| 16/16 [00:00<00:00, 121.70it/s]\n"
     ]
    },
    {
     "name": "stdout",
     "output_type": "stream",
     "text": [
      "----------\n"
     ]
    },
    {
     "name": "stderr",
     "output_type": "stream",
     "text": [
      "Epoch 3 - loss: 0.6289 - accuracy: 0.6560: 100%|████████████████████████████████| 16/16 [00:00<00:00, 107.89it/s]\n",
      "Epoch 3 - loss: 0.6244 - accuracy: 0.6710: 100%|████████████████████████████████| 16/16 [00:00<00:00, 111.66it/s]\n"
     ]
    },
    {
     "name": "stdout",
     "output_type": "stream",
     "text": [
      "----------\n"
     ]
    },
    {
     "name": "stderr",
     "output_type": "stream",
     "text": [
      "Epoch 4 - loss: 0.6216 - accuracy: 0.6680: 100%|█████████████████████████████████| 16/16 [00:00<00:00, 82.39it/s]\n",
      "Epoch 4 - loss: 0.6146 - accuracy: 0.6410: 100%|████████████████████████████████| 16/16 [00:00<00:00, 119.83it/s]\n"
     ]
    },
    {
     "name": "stdout",
     "output_type": "stream",
     "text": [
      "----------\n"
     ]
    },
    {
     "name": "stderr",
     "output_type": "stream",
     "text": [
      "Epoch 5 - loss: 0.6152 - accuracy: 0.6780: 100%|████████████████████████████████| 16/16 [00:00<00:00, 101.52it/s]\n",
      "Epoch 5 - loss: 0.6057 - accuracy: 0.6850: 100%|█████████████████████████████████| 16/16 [00:00<00:00, 83.29it/s]\n"
     ]
    },
    {
     "name": "stdout",
     "output_type": "stream",
     "text": [
      "----------\n"
     ]
    },
    {
     "name": "stderr",
     "output_type": "stream",
     "text": [
      "Epoch 6 - loss: 0.6055 - accuracy: 0.6940: 100%|█████████████████████████████████| 16/16 [00:00<00:00, 87.15it/s]\n",
      "Epoch 6 - loss: 0.5987 - accuracy: 0.6690: 100%|█████████████████████████████████| 16/16 [00:00<00:00, 86.30it/s]\n"
     ]
    },
    {
     "name": "stdout",
     "output_type": "stream",
     "text": [
      "----------\n"
     ]
    },
    {
     "name": "stderr",
     "output_type": "stream",
     "text": [
      "Epoch 7 - loss: 0.5974 - accuracy: 0.6730: 100%|█████████████████████████████████| 16/16 [00:00<00:00, 80.43it/s]\n",
      "Epoch 7 - loss: 0.5909 - accuracy: 0.7060: 100%|████████████████████████████████| 16/16 [00:00<00:00, 122.50it/s]\n"
     ]
    },
    {
     "name": "stdout",
     "output_type": "stream",
     "text": [
      "----------\n"
     ]
    },
    {
     "name": "stderr",
     "output_type": "stream",
     "text": [
      "Epoch 8 - loss: 0.5891 - accuracy: 0.7090: 100%|████████████████████████████████| 16/16 [00:00<00:00, 114.89it/s]\n",
      "Epoch 8 - loss: 0.5851 - accuracy: 0.6980: 100%|█████████████████████████████████| 16/16 [00:00<00:00, 76.02it/s]\n"
     ]
    },
    {
     "name": "stdout",
     "output_type": "stream",
     "text": [
      "----------\n"
     ]
    },
    {
     "name": "stderr",
     "output_type": "stream",
     "text": [
      "Epoch 9 - loss: 0.5817 - accuracy: 0.6970: 100%|█████████████████████████████████| 16/16 [00:00<00:00, 76.88it/s]\n",
      "Epoch 9 - loss: 0.5780 - accuracy: 0.7080: 100%|█████████████████████████████████| 16/16 [00:00<00:00, 74.64it/s]\n"
     ]
    },
    {
     "name": "stdout",
     "output_type": "stream",
     "text": [
      "----------\n"
     ]
    },
    {
     "name": "stderr",
     "output_type": "stream",
     "text": [
      "Epoch 10 - loss: 0.5766 - accuracy: 0.6980: 100%|███████████████████████████████| 16/16 [00:00<00:00, 102.89it/s]\n",
      "Epoch 10 - loss: 0.5710 - accuracy: 0.7160: 100%|███████████████████████████████| 16/16 [00:00<00:00, 106.83it/s]\n"
     ]
    },
    {
     "name": "stdout",
     "output_type": "stream",
     "text": [
      "----------\n"
     ]
    },
    {
     "name": "stderr",
     "output_type": "stream",
     "text": [
      "Epoch 11 - loss: 0.5721 - accuracy: 0.7160: 100%|████████████████████████████████| 16/16 [00:00<00:00, 92.52it/s]\n",
      "Epoch 11 - loss: 0.5651 - accuracy: 0.7190: 100%|███████████████████████████████| 16/16 [00:00<00:00, 116.55it/s]\n"
     ]
    },
    {
     "name": "stdout",
     "output_type": "stream",
     "text": [
      "----------\n"
     ]
    },
    {
     "name": "stderr",
     "output_type": "stream",
     "text": [
      "Epoch 12 - loss: 0.5644 - accuracy: 0.7170: 100%|███████████████████████████████| 16/16 [00:00<00:00, 114.23it/s]\n",
      "Epoch 12 - loss: 0.5593 - accuracy: 0.7260: 100%|███████████████████████████████| 16/16 [00:00<00:00, 122.45it/s]\n"
     ]
    },
    {
     "name": "stdout",
     "output_type": "stream",
     "text": [
      "----------\n"
     ]
    },
    {
     "name": "stderr",
     "output_type": "stream",
     "text": [
      "Epoch 13 - loss: 0.5579 - accuracy: 0.7310: 100%|████████████████████████████████| 16/16 [00:00<00:00, 93.07it/s]\n",
      "Epoch 13 - loss: 0.5547 - accuracy: 0.7200: 100%|███████████████████████████████| 16/16 [00:00<00:00, 103.12it/s]\n"
     ]
    },
    {
     "name": "stdout",
     "output_type": "stream",
     "text": [
      "----------\n"
     ]
    },
    {
     "name": "stderr",
     "output_type": "stream",
     "text": [
      "Epoch 14 - loss: 0.5552 - accuracy: 0.7040: 100%|███████████████████████████████| 16/16 [00:00<00:00, 104.64it/s]\n",
      "Epoch 14 - loss: 0.5497 - accuracy: 0.7290: 100%|███████████████████████████████| 16/16 [00:00<00:00, 109.57it/s]\n"
     ]
    },
    {
     "name": "stdout",
     "output_type": "stream",
     "text": [
      "----------\n"
     ]
    },
    {
     "name": "stderr",
     "output_type": "stream",
     "text": [
      "Epoch 15 - loss: 0.5461 - accuracy: 0.7290: 100%|███████████████████████████████| 16/16 [00:00<00:00, 106.22it/s]\n",
      "Epoch 15 - loss: 0.5422 - accuracy: 0.7340: 100%|███████████████████████████████| 16/16 [00:00<00:00, 119.06it/s]\n"
     ]
    },
    {
     "name": "stdout",
     "output_type": "stream",
     "text": [
      "----------\n"
     ]
    },
    {
     "name": "stderr",
     "output_type": "stream",
     "text": [
      "Epoch 16 - loss: 0.5418 - accuracy: 0.7390: 100%|████████████████████████████████| 16/16 [00:00<00:00, 87.60it/s]\n",
      "Epoch 16 - loss: 0.5375 - accuracy: 0.7400: 100%|████████████████████████████████| 16/16 [00:00<00:00, 97.79it/s]\n"
     ]
    },
    {
     "name": "stdout",
     "output_type": "stream",
     "text": [
      "----------\n"
     ]
    },
    {
     "name": "stderr",
     "output_type": "stream",
     "text": [
      "Epoch 17 - loss: 0.5376 - accuracy: 0.7390: 100%|████████████████████████████████| 16/16 [00:00<00:00, 81.45it/s]\n",
      "Epoch 17 - loss: 0.5347 - accuracy: 0.7300: 100%|████████████████████████████████| 16/16 [00:00<00:00, 92.03it/s]\n"
     ]
    },
    {
     "name": "stdout",
     "output_type": "stream",
     "text": [
      "----------\n"
     ]
    },
    {
     "name": "stderr",
     "output_type": "stream",
     "text": [
      "Epoch 18 - loss: 0.5336 - accuracy: 0.7210: 100%|████████████████████████████████| 16/16 [00:00<00:00, 89.40it/s]\n",
      "Epoch 18 - loss: 0.5348 - accuracy: 0.7490: 100%|███████████████████████████████| 16/16 [00:00<00:00, 104.70it/s]\n"
     ]
    },
    {
     "name": "stdout",
     "output_type": "stream",
     "text": [
      "----------\n"
     ]
    },
    {
     "name": "stderr",
     "output_type": "stream",
     "text": [
      "Epoch 19 - loss: 0.5252 - accuracy: 0.7630: 100%|████████████████████████████████| 16/16 [00:00<00:00, 98.52it/s]\n",
      "Epoch 19 - loss: 0.5301 - accuracy: 0.7400: 100%|███████████████████████████████| 16/16 [00:00<00:00, 109.81it/s]\n"
     ]
    },
    {
     "name": "stdout",
     "output_type": "stream",
     "text": [
      "----------\n"
     ]
    },
    {
     "name": "stderr",
     "output_type": "stream",
     "text": [
      "Epoch 20 - loss: 0.5255 - accuracy: 0.7470: 100%|████████████████████████████████| 16/16 [00:00<00:00, 76.57it/s]\n",
      "Epoch 20 - loss: 0.5208 - accuracy: 0.7430: 100%|████████████████████████████████| 16/16 [00:00<00:00, 97.24it/s]\n"
     ]
    },
    {
     "name": "stdout",
     "output_type": "stream",
     "text": [
      "----------\n"
     ]
    },
    {
     "name": "stderr",
     "output_type": "stream",
     "text": [
      "Epoch 21 - loss: 0.5182 - accuracy: 0.7470: 100%|███████████████████████████████| 16/16 [00:00<00:00, 101.18it/s]\n",
      "Epoch 21 - loss: 0.5156 - accuracy: 0.7470: 100%|███████████████████████████████| 16/16 [00:00<00:00, 108.56it/s]\n"
     ]
    },
    {
     "name": "stdout",
     "output_type": "stream",
     "text": [
      "----------\n"
     ]
    },
    {
     "name": "stderr",
     "output_type": "stream",
     "text": [
      "Epoch 22 - loss: 0.5129 - accuracy: 0.7520: 100%|████████████████████████████████| 16/16 [00:00<00:00, 98.38it/s]\n",
      "Epoch 22 - loss: 0.5125 - accuracy: 0.7550: 100%|███████████████████████████████| 16/16 [00:00<00:00, 108.60it/s]\n"
     ]
    },
    {
     "name": "stdout",
     "output_type": "stream",
     "text": [
      "----------\n"
     ]
    },
    {
     "name": "stderr",
     "output_type": "stream",
     "text": [
      "Epoch 23 - loss: 0.5094 - accuracy: 0.7570: 100%|████████████████████████████████| 16/16 [00:00<00:00, 99.57it/s]\n",
      "Epoch 23 - loss: 0.5086 - accuracy: 0.7550: 100%|███████████████████████████████| 16/16 [00:00<00:00, 107.63it/s]\n"
     ]
    },
    {
     "name": "stdout",
     "output_type": "stream",
     "text": [
      "----------\n"
     ]
    },
    {
     "name": "stderr",
     "output_type": "stream",
     "text": [
      "Epoch 24 - loss: 0.5036 - accuracy: 0.7580: 100%|████████████████████████████████| 16/16 [00:00<00:00, 98.35it/s]\n",
      "Epoch 24 - loss: 0.5044 - accuracy: 0.7600: 100%|███████████████████████████████| 16/16 [00:00<00:00, 107.09it/s]\n"
     ]
    },
    {
     "name": "stdout",
     "output_type": "stream",
     "text": [
      "----------\n"
     ]
    },
    {
     "name": "stderr",
     "output_type": "stream",
     "text": [
      "Epoch 25 - loss: 0.5007 - accuracy: 0.7580: 100%|████████████████████████████████| 16/16 [00:00<00:00, 98.13it/s]\n",
      "Epoch 25 - loss: 0.5018 - accuracy: 0.7560: 100%|███████████████████████████████| 16/16 [00:00<00:00, 108.93it/s]\n"
     ]
    },
    {
     "name": "stdout",
     "output_type": "stream",
     "text": [
      "----------\n"
     ]
    },
    {
     "name": "stderr",
     "output_type": "stream",
     "text": [
      "Epoch 26 - loss: 0.4988 - accuracy: 0.7570: 100%|████████████████████████████████| 16/16 [00:00<00:00, 99.31it/s]\n",
      "Epoch 26 - loss: 0.4981 - accuracy: 0.7650: 100%|███████████████████████████████| 16/16 [00:00<00:00, 108.03it/s]\n"
     ]
    },
    {
     "name": "stdout",
     "output_type": "stream",
     "text": [
      "----------\n"
     ]
    },
    {
     "name": "stderr",
     "output_type": "stream",
     "text": [
      "Epoch 27 - loss: 0.4939 - accuracy: 0.7590: 100%|████████████████████████████████| 16/16 [00:00<00:00, 95.60it/s]\n",
      "Epoch 27 - loss: 0.4962 - accuracy: 0.7600: 100%|███████████████████████████████| 16/16 [00:00<00:00, 108.20it/s]\n"
     ]
    },
    {
     "name": "stdout",
     "output_type": "stream",
     "text": [
      "----------\n"
     ]
    },
    {
     "name": "stderr",
     "output_type": "stream",
     "text": [
      "Epoch 28 - loss: 0.4910 - accuracy: 0.7600: 100%|████████████████████████████████| 16/16 [00:00<00:00, 62.43it/s]\n",
      "Epoch 28 - loss: 0.4918 - accuracy: 0.7650: 100%|████████████████████████████████| 16/16 [00:00<00:00, 95.13it/s]\n"
     ]
    },
    {
     "name": "stdout",
     "output_type": "stream",
     "text": [
      "----------\n"
     ]
    },
    {
     "name": "stderr",
     "output_type": "stream",
     "text": [
      "Epoch 29 - loss: 0.4919 - accuracy: 0.7510: 100%|████████████████████████████████| 16/16 [00:00<00:00, 68.64it/s]\n",
      "Epoch 29 - loss: 0.4901 - accuracy: 0.7650: 100%|████████████████████████████████| 16/16 [00:00<00:00, 74.67it/s]\n"
     ]
    },
    {
     "name": "stdout",
     "output_type": "stream",
     "text": [
      "----------\n"
     ]
    },
    {
     "name": "stderr",
     "output_type": "stream",
     "text": [
      "Epoch 30 - loss: 0.4833 - accuracy: 0.7680: 100%|████████████████████████████████| 16/16 [00:00<00:00, 55.00it/s]\n",
      "Epoch 30 - loss: 0.4874 - accuracy: 0.7710: 100%|████████████████████████████████| 16/16 [00:00<00:00, 78.85it/s]\n"
     ]
    },
    {
     "name": "stdout",
     "output_type": "stream",
     "text": [
      "----------\n"
     ]
    },
    {
     "name": "stderr",
     "output_type": "stream",
     "text": [
      "Epoch 31 - loss: 0.4846 - accuracy: 0.7770: 100%|████████████████████████████████| 16/16 [00:00<00:00, 71.28it/s]\n",
      "Epoch 31 - loss: 0.4851 - accuracy: 0.7700: 100%|████████████████████████████████| 16/16 [00:00<00:00, 74.32it/s]\n"
     ]
    },
    {
     "name": "stdout",
     "output_type": "stream",
     "text": [
      "----------\n"
     ]
    },
    {
     "name": "stderr",
     "output_type": "stream",
     "text": [
      "Epoch 32 - loss: 0.4801 - accuracy: 0.7630: 100%|████████████████████████████████| 16/16 [00:00<00:00, 72.97it/s]\n",
      "Epoch 32 - loss: 0.4836 - accuracy: 0.7660: 100%|████████████████████████████████| 16/16 [00:00<00:00, 80.65it/s]\n"
     ]
    },
    {
     "name": "stdout",
     "output_type": "stream",
     "text": [
      "----------\n"
     ]
    },
    {
     "name": "stderr",
     "output_type": "stream",
     "text": [
      "Epoch 33 - loss: 0.4822 - accuracy: 0.7650: 100%|████████████████████████████████| 16/16 [00:00<00:00, 74.96it/s]\n",
      "Epoch 33 - loss: 0.4811 - accuracy: 0.7710: 100%|████████████████████████████████| 16/16 [00:00<00:00, 85.13it/s]\n"
     ]
    },
    {
     "name": "stdout",
     "output_type": "stream",
     "text": [
      "----------\n"
     ]
    },
    {
     "name": "stderr",
     "output_type": "stream",
     "text": [
      "Epoch 34 - loss: 0.4743 - accuracy: 0.7710: 100%|████████████████████████████████| 16/16 [00:00<00:00, 62.82it/s]\n",
      "Epoch 34 - loss: 0.4778 - accuracy: 0.7800: 100%|████████████████████████████████| 16/16 [00:00<00:00, 79.91it/s]\n"
     ]
    },
    {
     "name": "stdout",
     "output_type": "stream",
     "text": [
      "----------\n"
     ]
    },
    {
     "name": "stderr",
     "output_type": "stream",
     "text": [
      "Epoch 35 - loss: 0.4677 - accuracy: 0.7800: 100%|████████████████████████████████| 16/16 [00:00<00:00, 76.35it/s]\n",
      "Epoch 35 - loss: 0.4749 - accuracy: 0.7720: 100%|████████████████████████████████| 16/16 [00:00<00:00, 83.85it/s]\n"
     ]
    },
    {
     "name": "stdout",
     "output_type": "stream",
     "text": [
      "----------\n"
     ]
    },
    {
     "name": "stderr",
     "output_type": "stream",
     "text": [
      "Epoch 36 - loss: 0.4697 - accuracy: 0.7810: 100%|████████████████████████████████| 16/16 [00:00<00:00, 76.05it/s]\n",
      "Epoch 36 - loss: 0.4709 - accuracy: 0.7850: 100%|████████████████████████████████| 16/16 [00:00<00:00, 82.83it/s]\n"
     ]
    },
    {
     "name": "stdout",
     "output_type": "stream",
     "text": [
      "----------\n"
     ]
    },
    {
     "name": "stderr",
     "output_type": "stream",
     "text": [
      "Epoch 37 - loss: 0.4686 - accuracy: 0.7910: 100%|████████████████████████████████| 16/16 [00:00<00:00, 77.61it/s]\n",
      "Epoch 37 - loss: 0.4753 - accuracy: 0.7740: 100%|████████████████████████████████| 16/16 [00:00<00:00, 85.09it/s]\n"
     ]
    },
    {
     "name": "stdout",
     "output_type": "stream",
     "text": [
      "----------\n"
     ]
    },
    {
     "name": "stderr",
     "output_type": "stream",
     "text": [
      "Epoch 38 - loss: 0.4666 - accuracy: 0.7790: 100%|████████████████████████████████| 16/16 [00:00<00:00, 79.05it/s]\n",
      "Epoch 38 - loss: 0.4667 - accuracy: 0.7860: 100%|████████████████████████████████| 16/16 [00:00<00:00, 85.99it/s]\n"
     ]
    },
    {
     "name": "stdout",
     "output_type": "stream",
     "text": [
      "----------\n"
     ]
    },
    {
     "name": "stderr",
     "output_type": "stream",
     "text": [
      "Epoch 39 - loss: 0.4594 - accuracy: 0.7850: 100%|████████████████████████████████| 16/16 [00:00<00:00, 73.16it/s]\n",
      "Epoch 39 - loss: 0.4653 - accuracy: 0.7740: 100%|████████████████████████████████| 16/16 [00:00<00:00, 82.46it/s]\n"
     ]
    },
    {
     "name": "stdout",
     "output_type": "stream",
     "text": [
      "----------\n"
     ]
    },
    {
     "name": "stderr",
     "output_type": "stream",
     "text": [
      "Epoch 40 - loss: 0.4567 - accuracy: 0.7870: 100%|████████████████████████████████| 16/16 [00:00<00:00, 79.01it/s]\n",
      "Epoch 40 - loss: 0.4632 - accuracy: 0.7880: 100%|████████████████████████████████| 16/16 [00:00<00:00, 84.57it/s]\n"
     ]
    },
    {
     "name": "stdout",
     "output_type": "stream",
     "text": [
      "----------\n"
     ]
    },
    {
     "name": "stderr",
     "output_type": "stream",
     "text": [
      "Epoch 41 - loss: 0.4519 - accuracy: 0.7910: 100%|████████████████████████████████| 16/16 [00:00<00:00, 73.95it/s]\n",
      "Epoch 41 - loss: 0.4614 - accuracy: 0.7900: 100%|████████████████████████████████| 16/16 [00:00<00:00, 83.43it/s]\n"
     ]
    },
    {
     "name": "stdout",
     "output_type": "stream",
     "text": [
      "----------\n"
     ]
    },
    {
     "name": "stderr",
     "output_type": "stream",
     "text": [
      "Epoch 42 - loss: 0.4537 - accuracy: 0.7930: 100%|████████████████████████████████| 16/16 [00:00<00:00, 66.48it/s]\n",
      "Epoch 42 - loss: 0.4590 - accuracy: 0.7820: 100%|████████████████████████████████| 16/16 [00:00<00:00, 85.16it/s]\n"
     ]
    },
    {
     "name": "stdout",
     "output_type": "stream",
     "text": [
      "----------\n"
     ]
    },
    {
     "name": "stderr",
     "output_type": "stream",
     "text": [
      "Epoch 43 - loss: 0.4509 - accuracy: 0.7950: 100%|████████████████████████████████| 16/16 [00:00<00:00, 79.65it/s]\n",
      "Epoch 43 - loss: 0.4554 - accuracy: 0.7990: 100%|████████████████████████████████| 16/16 [00:00<00:00, 80.25it/s]\n"
     ]
    },
    {
     "name": "stdout",
     "output_type": "stream",
     "text": [
      "----------\n"
     ]
    },
    {
     "name": "stderr",
     "output_type": "stream",
     "text": [
      "Epoch 44 - loss: 0.4483 - accuracy: 0.8010: 100%|████████████████████████████████| 16/16 [00:00<00:00, 70.22it/s]\n",
      "Epoch 44 - loss: 0.4539 - accuracy: 0.8000: 100%|████████████████████████████████| 16/16 [00:00<00:00, 77.23it/s]\n"
     ]
    },
    {
     "name": "stdout",
     "output_type": "stream",
     "text": [
      "----------\n"
     ]
    },
    {
     "name": "stderr",
     "output_type": "stream",
     "text": [
      "Epoch 45 - loss: 0.4453 - accuracy: 0.8050: 100%|████████████████████████████████| 16/16 [00:00<00:00, 71.08it/s]\n",
      "Epoch 45 - loss: 0.4528 - accuracy: 0.8020: 100%|████████████████████████████████| 16/16 [00:00<00:00, 75.99it/s]\n"
     ]
    },
    {
     "name": "stdout",
     "output_type": "stream",
     "text": [
      "----------\n"
     ]
    },
    {
     "name": "stderr",
     "output_type": "stream",
     "text": [
      "Epoch 46 - loss: 0.4454 - accuracy: 0.7950: 100%|████████████████████████████████| 16/16 [00:00<00:00, 73.89it/s]\n",
      "Epoch 46 - loss: 0.4524 - accuracy: 0.7850: 100%|████████████████████████████████| 16/16 [00:00<00:00, 77.43it/s]\n"
     ]
    },
    {
     "name": "stdout",
     "output_type": "stream",
     "text": [
      "----------\n"
     ]
    },
    {
     "name": "stderr",
     "output_type": "stream",
     "text": [
      "Epoch 47 - loss: 0.4429 - accuracy: 0.8100: 100%|████████████████████████████████| 16/16 [00:00<00:00, 66.02it/s]\n",
      "Epoch 47 - loss: 0.4501 - accuracy: 0.8020: 100%|████████████████████████████████| 16/16 [00:00<00:00, 78.09it/s]\n"
     ]
    },
    {
     "name": "stdout",
     "output_type": "stream",
     "text": [
      "----------\n"
     ]
    },
    {
     "name": "stderr",
     "output_type": "stream",
     "text": [
      "Epoch 48 - loss: 0.4394 - accuracy: 0.8060: 100%|████████████████████████████████| 16/16 [00:00<00:00, 75.07it/s]\n",
      "Epoch 48 - loss: 0.4458 - accuracy: 0.8030: 100%|████████████████████████████████| 16/16 [00:00<00:00, 94.97it/s]\n"
     ]
    },
    {
     "name": "stdout",
     "output_type": "stream",
     "text": [
      "----------\n"
     ]
    },
    {
     "name": "stderr",
     "output_type": "stream",
     "text": [
      "Epoch 49 - loss: 0.4400 - accuracy: 0.8080: 100%|████████████████████████████████| 16/16 [00:00<00:00, 83.21it/s]\n",
      "Epoch 49 - loss: 0.4467 - accuracy: 0.8000: 100%|████████████████████████████████| 16/16 [00:00<00:00, 91.42it/s]\n"
     ]
    },
    {
     "name": "stdout",
     "output_type": "stream",
     "text": [
      "----------\n"
     ]
    },
    {
     "name": "stderr",
     "output_type": "stream",
     "text": [
      "Epoch 50 - loss: 0.4341 - accuracy: 0.8040: 100%|████████████████████████████████| 16/16 [00:00<00:00, 82.61it/s]\n",
      "Epoch 50 - loss: 0.4434 - accuracy: 0.8030: 100%|████████████████████████████████| 16/16 [00:00<00:00, 80.98it/s]\n"
     ]
    },
    {
     "name": "stdout",
     "output_type": "stream",
     "text": [
      "----------\n"
     ]
    },
    {
     "name": "stderr",
     "output_type": "stream",
     "text": [
      "Epoch 51 - loss: 0.4341 - accuracy: 0.8010: 100%|████████████████████████████████| 16/16 [00:00<00:00, 62.47it/s]\n",
      "Epoch 51 - loss: 0.4408 - accuracy: 0.8040: 100%|████████████████████████████████| 16/16 [00:00<00:00, 68.86it/s]\n"
     ]
    },
    {
     "name": "stdout",
     "output_type": "stream",
     "text": [
      "----------\n"
     ]
    },
    {
     "name": "stderr",
     "output_type": "stream",
     "text": [
      "Epoch 52 - loss: 0.4303 - accuracy: 0.8160: 100%|████████████████████████████████| 16/16 [00:00<00:00, 71.56it/s]\n",
      "Epoch 52 - loss: 0.4401 - accuracy: 0.8080: 100%|████████████████████████████████| 16/16 [00:00<00:00, 77.40it/s]\n"
     ]
    },
    {
     "name": "stdout",
     "output_type": "stream",
     "text": [
      "----------\n"
     ]
    },
    {
     "name": "stderr",
     "output_type": "stream",
     "text": [
      "Epoch 53 - loss: 0.4295 - accuracy: 0.8100: 100%|████████████████████████████████| 16/16 [00:00<00:00, 61.28it/s]\n",
      "Epoch 53 - loss: 0.4384 - accuracy: 0.8010: 100%|████████████████████████████████| 16/16 [00:00<00:00, 79.58it/s]\n"
     ]
    },
    {
     "name": "stdout",
     "output_type": "stream",
     "text": [
      "----------\n"
     ]
    },
    {
     "name": "stderr",
     "output_type": "stream",
     "text": [
      "Epoch 54 - loss: 0.4260 - accuracy: 0.8160: 100%|████████████████████████████████| 16/16 [00:00<00:00, 73.73it/s]\n",
      "Epoch 54 - loss: 0.4382 - accuracy: 0.8110: 100%|████████████████████████████████| 16/16 [00:00<00:00, 77.21it/s]\n"
     ]
    },
    {
     "name": "stdout",
     "output_type": "stream",
     "text": [
      "----------\n"
     ]
    },
    {
     "name": "stderr",
     "output_type": "stream",
     "text": [
      "Epoch 55 - loss: 0.4253 - accuracy: 0.8180: 100%|████████████████████████████████| 16/16 [00:00<00:00, 67.23it/s]\n",
      "Epoch 55 - loss: 0.4362 - accuracy: 0.8080: 100%|████████████████████████████████| 16/16 [00:00<00:00, 81.01it/s]\n"
     ]
    },
    {
     "name": "stdout",
     "output_type": "stream",
     "text": [
      "----------\n"
     ]
    },
    {
     "name": "stderr",
     "output_type": "stream",
     "text": [
      "Epoch 56 - loss: 0.4287 - accuracy: 0.8100: 100%|████████████████████████████████| 16/16 [00:00<00:00, 74.25it/s]\n",
      "Epoch 56 - loss: 0.4322 - accuracy: 0.8100: 100%|████████████████████████████████| 16/16 [00:00<00:00, 79.80it/s]\n"
     ]
    },
    {
     "name": "stdout",
     "output_type": "stream",
     "text": [
      "----------\n"
     ]
    },
    {
     "name": "stderr",
     "output_type": "stream",
     "text": [
      "Epoch 57 - loss: 0.4160 - accuracy: 0.8180: 100%|████████████████████████████████| 16/16 [00:00<00:00, 71.57it/s]\n",
      "Epoch 57 - loss: 0.4320 - accuracy: 0.8180: 100%|████████████████████████████████| 16/16 [00:00<00:00, 77.71it/s]\n"
     ]
    },
    {
     "name": "stdout",
     "output_type": "stream",
     "text": [
      "----------\n"
     ]
    },
    {
     "name": "stderr",
     "output_type": "stream",
     "text": [
      "Epoch 58 - loss: 0.4181 - accuracy: 0.8200: 100%|████████████████████████████████| 16/16 [00:00<00:00, 72.81it/s]\n",
      "Epoch 58 - loss: 0.4322 - accuracy: 0.8110: 100%|████████████████████████████████| 16/16 [00:00<00:00, 82.83it/s]\n"
     ]
    },
    {
     "name": "stdout",
     "output_type": "stream",
     "text": [
      "----------\n"
     ]
    },
    {
     "name": "stderr",
     "output_type": "stream",
     "text": [
      "Epoch 59 - loss: 0.4171 - accuracy: 0.8210: 100%|████████████████████████████████| 16/16 [00:00<00:00, 76.94it/s]\n",
      "Epoch 59 - loss: 0.4322 - accuracy: 0.8120: 100%|████████████████████████████████| 16/16 [00:00<00:00, 80.59it/s]\n"
     ]
    },
    {
     "name": "stdout",
     "output_type": "stream",
     "text": [
      "----------\n"
     ]
    },
    {
     "name": "stderr",
     "output_type": "stream",
     "text": [
      "Epoch 60 - loss: 0.4196 - accuracy: 0.8270: 100%|████████████████████████████████| 16/16 [00:00<00:00, 71.83it/s]\n",
      "Epoch 60 - loss: 0.4264 - accuracy: 0.8210: 100%|████████████████████████████████| 16/16 [00:00<00:00, 74.85it/s]\n"
     ]
    },
    {
     "name": "stdout",
     "output_type": "stream",
     "text": [
      "----------\n"
     ]
    },
    {
     "name": "stderr",
     "output_type": "stream",
     "text": [
      "Epoch 61 - loss: 0.4166 - accuracy: 0.8220: 100%|████████████████████████████████| 16/16 [00:00<00:00, 71.70it/s]\n",
      "Epoch 61 - loss: 0.4339 - accuracy: 0.8120: 100%|████████████████████████████████| 16/16 [00:00<00:00, 74.46it/s]\n"
     ]
    },
    {
     "name": "stdout",
     "output_type": "stream",
     "text": [
      "----------\n"
     ]
    },
    {
     "name": "stderr",
     "output_type": "stream",
     "text": [
      "Epoch 62 - loss: 0.4122 - accuracy: 0.8250: 100%|████████████████████████████████| 16/16 [00:00<00:00, 73.51it/s]\n",
      "Epoch 62 - loss: 0.4236 - accuracy: 0.8220: 100%|████████████████████████████████| 16/16 [00:00<00:00, 70.36it/s]\n"
     ]
    },
    {
     "name": "stdout",
     "output_type": "stream",
     "text": [
      "----------\n"
     ]
    },
    {
     "name": "stderr",
     "output_type": "stream",
     "text": [
      "Epoch 63 - loss: 0.4091 - accuracy: 0.8210: 100%|████████████████████████████████| 16/16 [00:00<00:00, 67.45it/s]\n",
      "Epoch 63 - loss: 0.4231 - accuracy: 0.8170: 100%|████████████████████████████████| 16/16 [00:00<00:00, 71.82it/s]\n"
     ]
    },
    {
     "name": "stdout",
     "output_type": "stream",
     "text": [
      "----------\n"
     ]
    },
    {
     "name": "stderr",
     "output_type": "stream",
     "text": [
      "Epoch 64 - loss: 0.4089 - accuracy: 0.8310: 100%|████████████████████████████████| 16/16 [00:00<00:00, 67.36it/s]\n",
      "Epoch 64 - loss: 0.4212 - accuracy: 0.8190: 100%|████████████████████████████████| 16/16 [00:00<00:00, 70.90it/s]\n"
     ]
    },
    {
     "name": "stdout",
     "output_type": "stream",
     "text": [
      "----------\n"
     ]
    },
    {
     "name": "stderr",
     "output_type": "stream",
     "text": [
      "Epoch 65 - loss: 0.4057 - accuracy: 0.8290: 100%|████████████████████████████████| 16/16 [00:00<00:00, 57.69it/s]\n",
      "Epoch 65 - loss: 0.4192 - accuracy: 0.8210: 100%|████████████████████████████████| 16/16 [00:00<00:00, 64.19it/s]\n"
     ]
    },
    {
     "name": "stdout",
     "output_type": "stream",
     "text": [
      "----------\n"
     ]
    },
    {
     "name": "stderr",
     "output_type": "stream",
     "text": [
      "Epoch 66 - loss: 0.4028 - accuracy: 0.8350: 100%|████████████████████████████████| 16/16 [00:00<00:00, 58.26it/s]\n",
      "Epoch 66 - loss: 0.4203 - accuracy: 0.8220: 100%|████████████████████████████████| 16/16 [00:00<00:00, 65.50it/s]\n"
     ]
    },
    {
     "name": "stdout",
     "output_type": "stream",
     "text": [
      "----------\n"
     ]
    },
    {
     "name": "stderr",
     "output_type": "stream",
     "text": [
      "Epoch 67 - loss: 0.4046 - accuracy: 0.8320: 100%|████████████████████████████████| 16/16 [00:00<00:00, 57.45it/s]\n",
      "Epoch 67 - loss: 0.4194 - accuracy: 0.8210: 100%|████████████████████████████████| 16/16 [00:00<00:00, 58.03it/s]\n"
     ]
    },
    {
     "name": "stdout",
     "output_type": "stream",
     "text": [
      "----------\n"
     ]
    },
    {
     "name": "stderr",
     "output_type": "stream",
     "text": [
      "Epoch 68 - loss: 0.4007 - accuracy: 0.8290: 100%|████████████████████████████████| 16/16 [00:00<00:00, 55.87it/s]\n",
      "Epoch 68 - loss: 0.4167 - accuracy: 0.8240: 100%|████████████████████████████████| 16/16 [00:00<00:00, 49.18it/s]\n"
     ]
    },
    {
     "name": "stdout",
     "output_type": "stream",
     "text": [
      "----------\n"
     ]
    },
    {
     "name": "stderr",
     "output_type": "stream",
     "text": [
      "Epoch 69 - loss: 0.4015 - accuracy: 0.8330: 100%|████████████████████████████████| 16/16 [00:00<00:00, 55.64it/s]\n",
      "Epoch 69 - loss: 0.4150 - accuracy: 0.8220: 100%|████████████████████████████████| 16/16 [00:00<00:00, 50.21it/s]\n"
     ]
    },
    {
     "name": "stdout",
     "output_type": "stream",
     "text": [
      "----------\n"
     ]
    },
    {
     "name": "stderr",
     "output_type": "stream",
     "text": [
      "Epoch 70 - loss: 0.4040 - accuracy: 0.8350: 100%|████████████████████████████████| 16/16 [00:00<00:00, 57.47it/s]\n",
      "Epoch 70 - loss: 0.4193 - accuracy: 0.8110: 100%|████████████████████████████████| 16/16 [00:00<00:00, 63.13it/s]\n"
     ]
    },
    {
     "name": "stdout",
     "output_type": "stream",
     "text": [
      "----------\n"
     ]
    },
    {
     "name": "stderr",
     "output_type": "stream",
     "text": [
      "Epoch 71 - loss: 0.4010 - accuracy: 0.8260: 100%|████████████████████████████████| 16/16 [00:00<00:00, 58.78it/s]\n",
      "Epoch 71 - loss: 0.4155 - accuracy: 0.8300: 100%|████████████████████████████████| 16/16 [00:00<00:00, 56.14it/s]\n"
     ]
    },
    {
     "name": "stdout",
     "output_type": "stream",
     "text": [
      "----------\n"
     ]
    },
    {
     "name": "stderr",
     "output_type": "stream",
     "text": [
      "Epoch 72 - loss: 0.3967 - accuracy: 0.8360: 100%|████████████████████████████████| 16/16 [00:00<00:00, 48.93it/s]\n",
      "Epoch 72 - loss: 0.4131 - accuracy: 0.8310: 100%|████████████████████████████████| 16/16 [00:00<00:00, 60.40it/s]\n"
     ]
    },
    {
     "name": "stdout",
     "output_type": "stream",
     "text": [
      "----------\n"
     ]
    },
    {
     "name": "stderr",
     "output_type": "stream",
     "text": [
      "Epoch 73 - loss: 0.3923 - accuracy: 0.8350: 100%|████████████████████████████████| 16/16 [00:00<00:00, 51.39it/s]\n",
      "Epoch 73 - loss: 0.4100 - accuracy: 0.8220: 100%|████████████████████████████████| 16/16 [00:00<00:00, 66.34it/s]\n"
     ]
    },
    {
     "name": "stdout",
     "output_type": "stream",
     "text": [
      "----------\n"
     ]
    },
    {
     "name": "stderr",
     "output_type": "stream",
     "text": [
      "Epoch 74 - loss: 0.3973 - accuracy: 0.8390: 100%|████████████████████████████████| 16/16 [00:00<00:00, 60.77it/s]\n",
      "Epoch 74 - loss: 0.4102 - accuracy: 0.8220: 100%|████████████████████████████████| 16/16 [00:00<00:00, 65.17it/s]\n"
     ]
    },
    {
     "name": "stdout",
     "output_type": "stream",
     "text": [
      "----------\n"
     ]
    },
    {
     "name": "stderr",
     "output_type": "stream",
     "text": [
      "Epoch 75 - loss: 0.3936 - accuracy: 0.8350: 100%|████████████████████████████████| 16/16 [00:00<00:00, 56.25it/s]\n",
      "Epoch 75 - loss: 0.4103 - accuracy: 0.8260: 100%|████████████████████████████████| 16/16 [00:00<00:00, 61.18it/s]\n"
     ]
    },
    {
     "name": "stdout",
     "output_type": "stream",
     "text": [
      "----------\n"
     ]
    },
    {
     "name": "stderr",
     "output_type": "stream",
     "text": [
      "Epoch 76 - loss: 0.3922 - accuracy: 0.8410: 100%|████████████████████████████████| 16/16 [00:00<00:00, 55.63it/s]\n",
      "Epoch 76 - loss: 0.4142 - accuracy: 0.8340: 100%|████████████████████████████████| 16/16 [00:00<00:00, 58.42it/s]\n"
     ]
    },
    {
     "name": "stdout",
     "output_type": "stream",
     "text": [
      "----------\n"
     ]
    },
    {
     "name": "stderr",
     "output_type": "stream",
     "text": [
      "Epoch 77 - loss: 0.3897 - accuracy: 0.8390: 100%|████████████████████████████████| 16/16 [00:00<00:00, 58.11it/s]\n",
      "Epoch 77 - loss: 0.4066 - accuracy: 0.8230: 100%|████████████████████████████████| 16/16 [00:00<00:00, 60.63it/s]\n"
     ]
    },
    {
     "name": "stdout",
     "output_type": "stream",
     "text": [
      "----------\n"
     ]
    },
    {
     "name": "stderr",
     "output_type": "stream",
     "text": [
      "Epoch 78 - loss: 0.3881 - accuracy: 0.8450: 100%|████████████████████████████████| 16/16 [00:00<00:00, 64.02it/s]\n",
      "Epoch 78 - loss: 0.4052 - accuracy: 0.8240: 100%|████████████████████████████████| 16/16 [00:00<00:00, 62.81it/s]\n"
     ]
    },
    {
     "name": "stdout",
     "output_type": "stream",
     "text": [
      "----------\n"
     ]
    },
    {
     "name": "stderr",
     "output_type": "stream",
     "text": [
      "Epoch 79 - loss: 0.3849 - accuracy: 0.8330: 100%|████████████████████████████████| 16/16 [00:00<00:00, 66.29it/s]\n",
      "Epoch 79 - loss: 0.4037 - accuracy: 0.8290: 100%|████████████████████████████████| 16/16 [00:00<00:00, 72.65it/s]\n"
     ]
    },
    {
     "name": "stdout",
     "output_type": "stream",
     "text": [
      "----------\n"
     ]
    },
    {
     "name": "stderr",
     "output_type": "stream",
     "text": [
      "Epoch 80 - loss: 0.3856 - accuracy: 0.8470: 100%|████████████████████████████████| 16/16 [00:00<00:00, 63.11it/s]\n",
      "Epoch 80 - loss: 0.4045 - accuracy: 0.8320: 100%|████████████████████████████████| 16/16 [00:00<00:00, 66.69it/s]\n"
     ]
    },
    {
     "name": "stdout",
     "output_type": "stream",
     "text": [
      "----------\n"
     ]
    },
    {
     "name": "stderr",
     "output_type": "stream",
     "text": [
      "Epoch 81 - loss: 0.3846 - accuracy: 0.8430: 100%|████████████████████████████████| 16/16 [00:00<00:00, 60.61it/s]\n",
      "Epoch 81 - loss: 0.4040 - accuracy: 0.8200: 100%|████████████████████████████████| 16/16 [00:00<00:00, 69.28it/s]\n"
     ]
    },
    {
     "name": "stdout",
     "output_type": "stream",
     "text": [
      "----------\n"
     ]
    },
    {
     "name": "stderr",
     "output_type": "stream",
     "text": [
      "Epoch 82 - loss: 0.3849 - accuracy: 0.8430: 100%|████████████████████████████████| 16/16 [00:00<00:00, 65.39it/s]\n",
      "Epoch 82 - loss: 0.4011 - accuracy: 0.8280: 100%|████████████████████████████████| 16/16 [00:00<00:00, 72.89it/s]\n"
     ]
    },
    {
     "name": "stdout",
     "output_type": "stream",
     "text": [
      "----------\n"
     ]
    },
    {
     "name": "stderr",
     "output_type": "stream",
     "text": [
      "Epoch 83 - loss: 0.3835 - accuracy: 0.8400: 100%|████████████████████████████████| 16/16 [00:00<00:00, 61.02it/s]\n",
      "Epoch 83 - loss: 0.4018 - accuracy: 0.8320: 100%|████████████████████████████████| 16/16 [00:00<00:00, 72.00it/s]\n"
     ]
    },
    {
     "name": "stdout",
     "output_type": "stream",
     "text": [
      "----------\n"
     ]
    },
    {
     "name": "stderr",
     "output_type": "stream",
     "text": [
      "Epoch 84 - loss: 0.3843 - accuracy: 0.8350: 100%|████████████████████████████████| 16/16 [00:00<00:00, 70.57it/s]\n",
      "Epoch 84 - loss: 0.4018 - accuracy: 0.8360: 100%|████████████████████████████████| 16/16 [00:00<00:00, 75.02it/s]\n"
     ]
    },
    {
     "name": "stdout",
     "output_type": "stream",
     "text": [
      "----------\n"
     ]
    },
    {
     "name": "stderr",
     "output_type": "stream",
     "text": [
      "Epoch 85 - loss: 0.3826 - accuracy: 0.8440: 100%|████████████████████████████████| 16/16 [00:00<00:00, 72.04it/s]\n",
      "Epoch 85 - loss: 0.3989 - accuracy: 0.8250: 100%|████████████████████████████████| 16/16 [00:00<00:00, 75.68it/s]\n"
     ]
    },
    {
     "name": "stdout",
     "output_type": "stream",
     "text": [
      "----------\n"
     ]
    },
    {
     "name": "stderr",
     "output_type": "stream",
     "text": [
      "Epoch 86 - loss: 0.3801 - accuracy: 0.8500: 100%|████████████████████████████████| 16/16 [00:00<00:00, 69.60it/s]\n",
      "Epoch 86 - loss: 0.3987 - accuracy: 0.8200: 100%|████████████████████████████████| 16/16 [00:00<00:00, 74.14it/s]\n"
     ]
    },
    {
     "name": "stdout",
     "output_type": "stream",
     "text": [
      "----------\n"
     ]
    },
    {
     "name": "stderr",
     "output_type": "stream",
     "text": [
      "Epoch 87 - loss: 0.3766 - accuracy: 0.8450: 100%|████████████████████████████████| 16/16 [00:00<00:00, 73.95it/s]\n",
      "Epoch 87 - loss: 0.3977 - accuracy: 0.8390: 100%|████████████████████████████████| 16/16 [00:00<00:00, 81.51it/s]\n"
     ]
    },
    {
     "name": "stdout",
     "output_type": "stream",
     "text": [
      "----------\n"
     ]
    },
    {
     "name": "stderr",
     "output_type": "stream",
     "text": [
      "Epoch 88 - loss: 0.3837 - accuracy: 0.8430: 100%|████████████████████████████████| 16/16 [00:00<00:00, 74.56it/s]\n",
      "Epoch 88 - loss: 0.3967 - accuracy: 0.8340: 100%|████████████████████████████████| 16/16 [00:00<00:00, 81.00it/s]\n"
     ]
    },
    {
     "name": "stdout",
     "output_type": "stream",
     "text": [
      "----------\n"
     ]
    },
    {
     "name": "stderr",
     "output_type": "stream",
     "text": [
      "Epoch 89 - loss: 0.3757 - accuracy: 0.8450: 100%|████████████████████████████████| 16/16 [00:00<00:00, 73.65it/s]\n",
      "Epoch 89 - loss: 0.3956 - accuracy: 0.8250: 100%|████████████████████████████████| 16/16 [00:00<00:00, 68.68it/s]\n"
     ]
    },
    {
     "name": "stdout",
     "output_type": "stream",
     "text": [
      "----------\n"
     ]
    },
    {
     "name": "stderr",
     "output_type": "stream",
     "text": [
      "Epoch 90 - loss: 0.3766 - accuracy: 0.8490: 100%|████████████████████████████████| 16/16 [00:00<00:00, 73.60it/s]\n",
      "Epoch 90 - loss: 0.3999 - accuracy: 0.8440: 100%|████████████████████████████████| 16/16 [00:00<00:00, 83.92it/s]\n"
     ]
    },
    {
     "name": "stdout",
     "output_type": "stream",
     "text": [
      "----------\n"
     ]
    },
    {
     "name": "stderr",
     "output_type": "stream",
     "text": [
      "Epoch 91 - loss: 0.3775 - accuracy: 0.8510: 100%|████████████████████████████████| 16/16 [00:00<00:00, 79.13it/s]\n",
      "Epoch 91 - loss: 0.3972 - accuracy: 0.8200: 100%|████████████████████████████████| 16/16 [00:00<00:00, 84.41it/s]\n"
     ]
    },
    {
     "name": "stdout",
     "output_type": "stream",
     "text": [
      "----------\n"
     ]
    },
    {
     "name": "stderr",
     "output_type": "stream",
     "text": [
      "Epoch 92 - loss: 0.3757 - accuracy: 0.8430: 100%|████████████████████████████████| 16/16 [00:00<00:00, 76.58it/s]\n",
      "Epoch 92 - loss: 0.3947 - accuracy: 0.8240: 100%|████████████████████████████████| 16/16 [00:00<00:00, 83.99it/s]\n"
     ]
    },
    {
     "name": "stdout",
     "output_type": "stream",
     "text": [
      "----------\n"
     ]
    },
    {
     "name": "stderr",
     "output_type": "stream",
     "text": [
      "Epoch 93 - loss: 0.3716 - accuracy: 0.8470: 100%|████████████████████████████████| 16/16 [00:00<00:00, 77.75it/s]\n",
      "Epoch 93 - loss: 0.3980 - accuracy: 0.8400: 100%|████████████████████████████████| 16/16 [00:00<00:00, 85.26it/s]\n"
     ]
    },
    {
     "name": "stdout",
     "output_type": "stream",
     "text": [
      "----------\n"
     ]
    },
    {
     "name": "stderr",
     "output_type": "stream",
     "text": [
      "Epoch 94 - loss: 0.3759 - accuracy: 0.8500: 100%|████████████████████████████████| 16/16 [00:00<00:00, 78.75it/s]\n",
      "Epoch 94 - loss: 0.3922 - accuracy: 0.8250: 100%|████████████████████████████████| 16/16 [00:00<00:00, 84.93it/s]\n"
     ]
    },
    {
     "name": "stdout",
     "output_type": "stream",
     "text": [
      "----------\n"
     ]
    },
    {
     "name": "stderr",
     "output_type": "stream",
     "text": [
      "Epoch 95 - loss: 0.3752 - accuracy: 0.8430: 100%|████████████████████████████████| 16/16 [00:00<00:00, 72.16it/s]\n",
      "Epoch 95 - loss: 0.3976 - accuracy: 0.8260: 100%|████████████████████████████████| 16/16 [00:00<00:00, 86.36it/s]\n"
     ]
    },
    {
     "name": "stdout",
     "output_type": "stream",
     "text": [
      "----------\n"
     ]
    },
    {
     "name": "stderr",
     "output_type": "stream",
     "text": [
      "Epoch 96 - loss: 0.3764 - accuracy: 0.8450: 100%|████████████████████████████████| 16/16 [00:00<00:00, 82.18it/s]\n",
      "Epoch 96 - loss: 0.3935 - accuracy: 0.8270: 100%|████████████████████████████████| 16/16 [00:00<00:00, 86.69it/s]\n"
     ]
    },
    {
     "name": "stdout",
     "output_type": "stream",
     "text": [
      "----------\n"
     ]
    },
    {
     "name": "stderr",
     "output_type": "stream",
     "text": [
      "Epoch 97 - loss: 0.3722 - accuracy: 0.8490: 100%|████████████████████████████████| 16/16 [00:00<00:00, 89.49it/s]\n",
      "Epoch 97 - loss: 0.3978 - accuracy: 0.8480: 100%|███████████████████████████████| 16/16 [00:00<00:00, 103.54it/s]\n"
     ]
    },
    {
     "name": "stdout",
     "output_type": "stream",
     "text": [
      "----------\n"
     ]
    },
    {
     "name": "stderr",
     "output_type": "stream",
     "text": [
      "Epoch 98 - loss: 0.3684 - accuracy: 0.8390: 100%|████████████████████████████████| 16/16 [00:00<00:00, 93.76it/s]\n",
      "Epoch 98 - loss: 0.3894 - accuracy: 0.8260: 100%|████████████████████████████████| 16/16 [00:00<00:00, 91.67it/s]\n"
     ]
    },
    {
     "name": "stdout",
     "output_type": "stream",
     "text": [
      "----------\n"
     ]
    },
    {
     "name": "stderr",
     "output_type": "stream",
     "text": [
      "Epoch 99 - loss: 0.3645 - accuracy: 0.8520: 100%|████████████████████████████████| 16/16 [00:00<00:00, 75.99it/s]\n",
      "Epoch 99 - loss: 0.3896 - accuracy: 0.8300: 100%|████████████████████████████████| 16/16 [00:00<00:00, 79.61it/s]\n"
     ]
    },
    {
     "name": "stdout",
     "output_type": "stream",
     "text": [
      "----------\n"
     ]
    },
    {
     "name": "stderr",
     "output_type": "stream",
     "text": [
      "Epoch 100 - loss: 0.3652 - accuracy: 0.8500: 100%|███████████████████████████████| 16/16 [00:00<00:00, 75.62it/s]\n",
      "Epoch 100 - loss: 0.3882 - accuracy: 0.8280: 100%|███████████████████████████████| 16/16 [00:00<00:00, 83.55it/s]\n"
     ]
    },
    {
     "name": "stdout",
     "output_type": "stream",
     "text": [
      "----------\n"
     ]
    },
    {
     "name": "stderr",
     "output_type": "stream",
     "text": [
      "Epoch 101 - loss: 0.3659 - accuracy: 0.8580: 100%|███████████████████████████████| 16/16 [00:00<00:00, 76.63it/s]\n",
      "Epoch 101 - loss: 0.3912 - accuracy: 0.8450: 100%|███████████████████████████████| 16/16 [00:00<00:00, 75.81it/s]\n"
     ]
    },
    {
     "name": "stdout",
     "output_type": "stream",
     "text": [
      "----------\n"
     ]
    },
    {
     "name": "stderr",
     "output_type": "stream",
     "text": [
      "Epoch 102 - loss: 0.3683 - accuracy: 0.8480: 100%|███████████████████████████████| 16/16 [00:00<00:00, 83.10it/s]\n",
      "Epoch 102 - loss: 0.3905 - accuracy: 0.8280: 100%|███████████████████████████████| 16/16 [00:00<00:00, 89.32it/s]\n"
     ]
    },
    {
     "name": "stdout",
     "output_type": "stream",
     "text": [
      "----------\n"
     ]
    },
    {
     "name": "stderr",
     "output_type": "stream",
     "text": [
      "Epoch 103 - loss: 0.3674 - accuracy: 0.8470: 100%|███████████████████████████████| 16/16 [00:00<00:00, 77.60it/s]\n",
      "Epoch 103 - loss: 0.3894 - accuracy: 0.8280: 100%|███████████████████████████████| 16/16 [00:00<00:00, 89.32it/s]\n"
     ]
    },
    {
     "name": "stdout",
     "output_type": "stream",
     "text": [
      "----------\n"
     ]
    },
    {
     "name": "stderr",
     "output_type": "stream",
     "text": [
      "Epoch 104 - loss: 0.3707 - accuracy: 0.8550: 100%|███████████████████████████████| 16/16 [00:00<00:00, 82.98it/s]\n",
      "Epoch 104 - loss: 0.3858 - accuracy: 0.8270: 100%|███████████████████████████████| 16/16 [00:00<00:00, 90.79it/s]\n"
     ]
    },
    {
     "name": "stdout",
     "output_type": "stream",
     "text": [
      "----------\n"
     ]
    },
    {
     "name": "stderr",
     "output_type": "stream",
     "text": [
      "Epoch 105 - loss: 0.3638 - accuracy: 0.8500: 100%|███████████████████████████████| 16/16 [00:00<00:00, 81.25it/s]\n",
      "Epoch 105 - loss: 0.3862 - accuracy: 0.8390: 100%|███████████████████████████████| 16/16 [00:00<00:00, 89.03it/s]\n"
     ]
    },
    {
     "name": "stdout",
     "output_type": "stream",
     "text": [
      "----------\n"
     ]
    },
    {
     "name": "stderr",
     "output_type": "stream",
     "text": [
      "Epoch 106 - loss: 0.3591 - accuracy: 0.8560: 100%|███████████████████████████████| 16/16 [00:00<00:00, 84.08it/s]\n",
      "Epoch 106 - loss: 0.3857 - accuracy: 0.8330: 100%|███████████████████████████████| 16/16 [00:00<00:00, 88.55it/s]\n"
     ]
    },
    {
     "name": "stdout",
     "output_type": "stream",
     "text": [
      "----------\n"
     ]
    },
    {
     "name": "stderr",
     "output_type": "stream",
     "text": [
      "Epoch 107 - loss: 0.3643 - accuracy: 0.8500: 100%|███████████████████████████████| 16/16 [00:00<00:00, 82.77it/s]\n",
      "Epoch 107 - loss: 0.3863 - accuracy: 0.8320: 100%|███████████████████████████████| 16/16 [00:00<00:00, 85.97it/s]\n"
     ]
    },
    {
     "name": "stdout",
     "output_type": "stream",
     "text": [
      "----------\n"
     ]
    },
    {
     "name": "stderr",
     "output_type": "stream",
     "text": [
      "Epoch 108 - loss: 0.3589 - accuracy: 0.8510: 100%|███████████████████████████████| 16/16 [00:00<00:00, 80.38it/s]\n",
      "Epoch 108 - loss: 0.3848 - accuracy: 0.8440: 100%|███████████████████████████████| 16/16 [00:00<00:00, 83.04it/s]\n"
     ]
    },
    {
     "name": "stdout",
     "output_type": "stream",
     "text": [
      "----------\n"
     ]
    },
    {
     "name": "stderr",
     "output_type": "stream",
     "text": [
      "Epoch 109 - loss: 0.3595 - accuracy: 0.8510: 100%|███████████████████████████████| 16/16 [00:00<00:00, 79.21it/s]\n",
      "Epoch 109 - loss: 0.3894 - accuracy: 0.8290: 100%|███████████████████████████████| 16/16 [00:00<00:00, 84.76it/s]\n"
     ]
    },
    {
     "name": "stdout",
     "output_type": "stream",
     "text": [
      "----------\n"
     ]
    },
    {
     "name": "stderr",
     "output_type": "stream",
     "text": [
      "Epoch 110 - loss: 0.3614 - accuracy: 0.8490: 100%|███████████████████████████████| 16/16 [00:00<00:00, 76.41it/s]\n",
      "Epoch 110 - loss: 0.3839 - accuracy: 0.8330: 100%|███████████████████████████████| 16/16 [00:00<00:00, 83.77it/s]\n"
     ]
    },
    {
     "name": "stdout",
     "output_type": "stream",
     "text": [
      "----------\n"
     ]
    },
    {
     "name": "stderr",
     "output_type": "stream",
     "text": [
      "Epoch 111 - loss: 0.3624 - accuracy: 0.8470: 100%|███████████████████████████████| 16/16 [00:00<00:00, 79.81it/s]\n",
      "Epoch 111 - loss: 0.3894 - accuracy: 0.8470: 100%|███████████████████████████████| 16/16 [00:00<00:00, 74.09it/s]\n"
     ]
    },
    {
     "name": "stdout",
     "output_type": "stream",
     "text": [
      "----------\n"
     ]
    },
    {
     "name": "stderr",
     "output_type": "stream",
     "text": [
      "Epoch 112 - loss: 0.3571 - accuracy: 0.8630: 100%|███████████████████████████████| 16/16 [00:00<00:00, 69.74it/s]\n",
      "Epoch 112 - loss: 0.3815 - accuracy: 0.8310: 100%|███████████████████████████████| 16/16 [00:00<00:00, 80.89it/s]\n"
     ]
    },
    {
     "name": "stdout",
     "output_type": "stream",
     "text": [
      "----------\n"
     ]
    },
    {
     "name": "stderr",
     "output_type": "stream",
     "text": [
      "Epoch 113 - loss: 0.3593 - accuracy: 0.8590: 100%|███████████████████████████████| 16/16 [00:00<00:00, 78.02it/s]\n",
      "Epoch 113 - loss: 0.3809 - accuracy: 0.8280: 100%|███████████████████████████████| 16/16 [00:00<00:00, 83.23it/s]\n"
     ]
    },
    {
     "name": "stdout",
     "output_type": "stream",
     "text": [
      "----------\n"
     ]
    },
    {
     "name": "stderr",
     "output_type": "stream",
     "text": [
      "Epoch 114 - loss: 0.3558 - accuracy: 0.8610: 100%|███████████████████████████████| 16/16 [00:00<00:00, 73.99it/s]\n",
      "Epoch 114 - loss: 0.3808 - accuracy: 0.8280: 100%|███████████████████████████████| 16/16 [00:00<00:00, 80.70it/s]\n"
     ]
    },
    {
     "name": "stdout",
     "output_type": "stream",
     "text": [
      "----------\n"
     ]
    },
    {
     "name": "stderr",
     "output_type": "stream",
     "text": [
      "Epoch 115 - loss: 0.3549 - accuracy: 0.8610: 100%|███████████████████████████████| 16/16 [00:00<00:00, 69.41it/s]\n",
      "Epoch 115 - loss: 0.3810 - accuracy: 0.8310: 100%|███████████████████████████████| 16/16 [00:00<00:00, 76.35it/s]\n"
     ]
    },
    {
     "name": "stdout",
     "output_type": "stream",
     "text": [
      "----------\n"
     ]
    },
    {
     "name": "stderr",
     "output_type": "stream",
     "text": [
      "Epoch 116 - loss: 0.3582 - accuracy: 0.8570: 100%|███████████████████████████████| 16/16 [00:00<00:00, 72.20it/s]\n",
      "Epoch 116 - loss: 0.3801 - accuracy: 0.8450: 100%|███████████████████████████████| 16/16 [00:00<00:00, 73.97it/s]\n"
     ]
    },
    {
     "name": "stdout",
     "output_type": "stream",
     "text": [
      "----------\n"
     ]
    },
    {
     "name": "stderr",
     "output_type": "stream",
     "text": [
      "Epoch 117 - loss: 0.3570 - accuracy: 0.8550: 100%|███████████████████████████████| 16/16 [00:00<00:00, 72.10it/s]\n",
      "Epoch 117 - loss: 0.3821 - accuracy: 0.8390: 100%|███████████████████████████████| 16/16 [00:00<00:00, 72.66it/s]\n"
     ]
    },
    {
     "name": "stdout",
     "output_type": "stream",
     "text": [
      "----------\n"
     ]
    },
    {
     "name": "stderr",
     "output_type": "stream",
     "text": [
      "Epoch 118 - loss: 0.3553 - accuracy: 0.8530: 100%|███████████████████████████████| 16/16 [00:00<00:00, 65.43it/s]\n",
      "Epoch 118 - loss: 0.3806 - accuracy: 0.8350: 100%|███████████████████████████████| 16/16 [00:00<00:00, 71.50it/s]\n"
     ]
    },
    {
     "name": "stdout",
     "output_type": "stream",
     "text": [
      "----------\n"
     ]
    },
    {
     "name": "stderr",
     "output_type": "stream",
     "text": [
      "Epoch 119 - loss: 0.3520 - accuracy: 0.8550: 100%|███████████████████████████████| 16/16 [00:00<00:00, 66.56it/s]\n",
      "Epoch 119 - loss: 0.3778 - accuracy: 0.8350: 100%|███████████████████████████████| 16/16 [00:00<00:00, 73.61it/s]\n"
     ]
    },
    {
     "name": "stdout",
     "output_type": "stream",
     "text": [
      "----------\n"
     ]
    },
    {
     "name": "stderr",
     "output_type": "stream",
     "text": [
      "Epoch 120 - loss: 0.3519 - accuracy: 0.8600: 100%|███████████████████████████████| 16/16 [00:00<00:00, 70.26it/s]\n",
      "Epoch 120 - loss: 0.3783 - accuracy: 0.8430: 100%|███████████████████████████████| 16/16 [00:00<00:00, 74.54it/s]\n"
     ]
    },
    {
     "name": "stdout",
     "output_type": "stream",
     "text": [
      "----------\n"
     ]
    },
    {
     "name": "stderr",
     "output_type": "stream",
     "text": [
      "Epoch 121 - loss: 0.3498 - accuracy: 0.8570: 100%|███████████████████████████████| 16/16 [00:00<00:00, 68.43it/s]\n",
      "Epoch 121 - loss: 0.3782 - accuracy: 0.8310: 100%|███████████████████████████████| 16/16 [00:00<00:00, 73.61it/s]\n"
     ]
    },
    {
     "name": "stdout",
     "output_type": "stream",
     "text": [
      "----------\n"
     ]
    },
    {
     "name": "stderr",
     "output_type": "stream",
     "text": [
      "Epoch 122 - loss: 0.3519 - accuracy: 0.8610: 100%|███████████████████████████████| 16/16 [00:00<00:00, 71.39it/s]\n",
      "Epoch 122 - loss: 0.3813 - accuracy: 0.8300: 100%|███████████████████████████████| 16/16 [00:00<00:00, 66.64it/s]\n"
     ]
    },
    {
     "name": "stdout",
     "output_type": "stream",
     "text": [
      "----------\n"
     ]
    },
    {
     "name": "stderr",
     "output_type": "stream",
     "text": [
      "Epoch 123 - loss: 0.3544 - accuracy: 0.8490: 100%|███████████████████████████████| 16/16 [00:00<00:00, 68.36it/s]\n",
      "Epoch 123 - loss: 0.3826 - accuracy: 0.8460: 100%|███████████████████████████████| 16/16 [00:00<00:00, 74.39it/s]\n"
     ]
    },
    {
     "name": "stdout",
     "output_type": "stream",
     "text": [
      "----------\n"
     ]
    },
    {
     "name": "stderr",
     "output_type": "stream",
     "text": [
      "Epoch 124 - loss: 0.3514 - accuracy: 0.8540: 100%|███████████████████████████████| 16/16 [00:00<00:00, 67.19it/s]\n",
      "Epoch 124 - loss: 0.3772 - accuracy: 0.8410: 100%|███████████████████████████████| 16/16 [00:00<00:00, 74.60it/s]\n"
     ]
    },
    {
     "name": "stdout",
     "output_type": "stream",
     "text": [
      "----------\n"
     ]
    },
    {
     "name": "stderr",
     "output_type": "stream",
     "text": [
      "Epoch 125 - loss: 0.3464 - accuracy: 0.8610: 100%|███████████████████████████████| 16/16 [00:00<00:00, 70.53it/s]\n",
      "Epoch 125 - loss: 0.3766 - accuracy: 0.8450: 100%|███████████████████████████████| 16/16 [00:00<00:00, 73.72it/s]\n"
     ]
    },
    {
     "name": "stdout",
     "output_type": "stream",
     "text": [
      "----------\n"
     ]
    },
    {
     "name": "stderr",
     "output_type": "stream",
     "text": [
      "Epoch 126 - loss: 0.3502 - accuracy: 0.8590: 100%|███████████████████████████████| 16/16 [00:00<00:00, 70.44it/s]\n",
      "Epoch 126 - loss: 0.3789 - accuracy: 0.8340: 100%|███████████████████████████████| 16/16 [00:00<00:00, 76.62it/s]\n"
     ]
    },
    {
     "name": "stdout",
     "output_type": "stream",
     "text": [
      "----------\n"
     ]
    },
    {
     "name": "stderr",
     "output_type": "stream",
     "text": [
      "Epoch 127 - loss: 0.3493 - accuracy: 0.8600: 100%|███████████████████████████████| 16/16 [00:00<00:00, 71.78it/s]\n",
      "Epoch 127 - loss: 0.3754 - accuracy: 0.8350: 100%|███████████████████████████████| 16/16 [00:00<00:00, 71.31it/s]\n"
     ]
    },
    {
     "name": "stdout",
     "output_type": "stream",
     "text": [
      "----------\n"
     ]
    },
    {
     "name": "stderr",
     "output_type": "stream",
     "text": [
      "Epoch 128 - loss: 0.3449 - accuracy: 0.8590: 100%|███████████████████████████████| 16/16 [00:00<00:00, 52.53it/s]\n",
      "Epoch 128 - loss: 0.3735 - accuracy: 0.8410: 100%|███████████████████████████████| 16/16 [00:00<00:00, 56.65it/s]\n"
     ]
    },
    {
     "name": "stdout",
     "output_type": "stream",
     "text": [
      "----------\n"
     ]
    },
    {
     "name": "stderr",
     "output_type": "stream",
     "text": [
      "Epoch 129 - loss: 0.3445 - accuracy: 0.8600: 100%|███████████████████████████████| 16/16 [00:00<00:00, 38.15it/s]\n",
      "Epoch 129 - loss: 0.3736 - accuracy: 0.8410: 100%|███████████████████████████████| 16/16 [00:00<00:00, 41.41it/s]\n"
     ]
    },
    {
     "name": "stdout",
     "output_type": "stream",
     "text": [
      "----------\n"
     ]
    },
    {
     "name": "stderr",
     "output_type": "stream",
     "text": [
      "Epoch 130 - loss: 0.3449 - accuracy: 0.8600: 100%|███████████████████████████████| 16/16 [00:00<00:00, 51.36it/s]\n",
      "Epoch 130 - loss: 0.3726 - accuracy: 0.8450: 100%|███████████████████████████████| 16/16 [00:00<00:00, 47.98it/s]\n"
     ]
    },
    {
     "name": "stdout",
     "output_type": "stream",
     "text": [
      "----------\n"
     ]
    },
    {
     "name": "stderr",
     "output_type": "stream",
     "text": [
      "Epoch 131 - loss: 0.3443 - accuracy: 0.8650: 100%|███████████████████████████████| 16/16 [00:00<00:00, 58.81it/s]\n",
      "Epoch 131 - loss: 0.3772 - accuracy: 0.8430: 100%|███████████████████████████████| 16/16 [00:00<00:00, 83.86it/s]\n"
     ]
    },
    {
     "name": "stdout",
     "output_type": "stream",
     "text": [
      "----------\n"
     ]
    },
    {
     "name": "stderr",
     "output_type": "stream",
     "text": [
      "Epoch 132 - loss: 0.3445 - accuracy: 0.8550: 100%|███████████████████████████████| 16/16 [00:00<00:00, 76.95it/s]\n",
      "Epoch 132 - loss: 0.3733 - accuracy: 0.8360: 100%|███████████████████████████████| 16/16 [00:00<00:00, 63.50it/s]\n"
     ]
    },
    {
     "name": "stdout",
     "output_type": "stream",
     "text": [
      "----------\n"
     ]
    },
    {
     "name": "stderr",
     "output_type": "stream",
     "text": [
      "Epoch 133 - loss: 0.3483 - accuracy: 0.8560: 100%|███████████████████████████████| 16/16 [00:00<00:00, 73.06it/s]\n",
      "Epoch 133 - loss: 0.3730 - accuracy: 0.8390: 100%|███████████████████████████████| 16/16 [00:00<00:00, 47.70it/s]\n"
     ]
    },
    {
     "name": "stdout",
     "output_type": "stream",
     "text": [
      "----------\n"
     ]
    },
    {
     "name": "stderr",
     "output_type": "stream",
     "text": [
      "Epoch 134 - loss: 0.3450 - accuracy: 0.8540: 100%|███████████████████████████████| 16/16 [00:00<00:00, 54.02it/s]\n",
      "Epoch 134 - loss: 0.3802 - accuracy: 0.8470: 100%|███████████████████████████████| 16/16 [00:00<00:00, 73.64it/s]\n"
     ]
    },
    {
     "name": "stdout",
     "output_type": "stream",
     "text": [
      "----------\n"
     ]
    },
    {
     "name": "stderr",
     "output_type": "stream",
     "text": [
      "Epoch 135 - loss: 0.3432 - accuracy: 0.8530: 100%|███████████████████████████████| 16/16 [00:00<00:00, 71.89it/s]\n",
      "Epoch 135 - loss: 0.3731 - accuracy: 0.8400: 100%|███████████████████████████████| 16/16 [00:00<00:00, 56.94it/s]\n"
     ]
    },
    {
     "name": "stdout",
     "output_type": "stream",
     "text": [
      "----------\n"
     ]
    },
    {
     "name": "stderr",
     "output_type": "stream",
     "text": [
      "Epoch 136 - loss: 0.3407 - accuracy: 0.8630: 100%|███████████████████████████████| 16/16 [00:00<00:00, 65.09it/s]\n",
      "Epoch 136 - loss: 0.3718 - accuracy: 0.8420: 100%|███████████████████████████████| 16/16 [00:00<00:00, 50.20it/s]\n"
     ]
    },
    {
     "name": "stdout",
     "output_type": "stream",
     "text": [
      "----------\n"
     ]
    },
    {
     "name": "stderr",
     "output_type": "stream",
     "text": [
      "Epoch 137 - loss: 0.3383 - accuracy: 0.8690: 100%|███████████████████████████████| 16/16 [00:00<00:00, 57.92it/s]\n",
      "Epoch 137 - loss: 0.3733 - accuracy: 0.8370: 100%|███████████████████████████████| 16/16 [00:00<00:00, 58.74it/s]\n"
     ]
    },
    {
     "name": "stdout",
     "output_type": "stream",
     "text": [
      "----------\n"
     ]
    },
    {
     "name": "stderr",
     "output_type": "stream",
     "text": [
      "Epoch 138 - loss: 0.3386 - accuracy: 0.8660: 100%|███████████████████████████████| 16/16 [00:00<00:00, 70.22it/s]\n",
      "Epoch 138 - loss: 0.3716 - accuracy: 0.8420: 100%|███████████████████████████████| 16/16 [00:00<00:00, 52.47it/s]\n"
     ]
    },
    {
     "name": "stdout",
     "output_type": "stream",
     "text": [
      "----------\n"
     ]
    },
    {
     "name": "stderr",
     "output_type": "stream",
     "text": [
      "Epoch 139 - loss: 0.3408 - accuracy: 0.8650: 100%|███████████████████████████████| 16/16 [00:00<00:00, 67.02it/s]\n",
      "Epoch 139 - loss: 0.3718 - accuracy: 0.8390: 100%|███████████████████████████████| 16/16 [00:00<00:00, 75.19it/s]\n"
     ]
    },
    {
     "name": "stdout",
     "output_type": "stream",
     "text": [
      "----------\n"
     ]
    },
    {
     "name": "stderr",
     "output_type": "stream",
     "text": [
      "Epoch 140 - loss: 0.3403 - accuracy: 0.8600: 100%|███████████████████████████████| 16/16 [00:00<00:00, 73.37it/s]\n",
      "Epoch 140 - loss: 0.3718 - accuracy: 0.8460: 100%|███████████████████████████████| 16/16 [00:00<00:00, 78.88it/s]\n"
     ]
    },
    {
     "name": "stdout",
     "output_type": "stream",
     "text": [
      "----------\n"
     ]
    },
    {
     "name": "stderr",
     "output_type": "stream",
     "text": [
      "Epoch 141 - loss: 0.3388 - accuracy: 0.8660: 100%|███████████████████████████████| 16/16 [00:00<00:00, 77.14it/s]\n",
      "Epoch 141 - loss: 0.3704 - accuracy: 0.8390: 100%|███████████████████████████████| 16/16 [00:00<00:00, 83.09it/s]\n"
     ]
    },
    {
     "name": "stdout",
     "output_type": "stream",
     "text": [
      "----------\n"
     ]
    },
    {
     "name": "stderr",
     "output_type": "stream",
     "text": [
      "Epoch 142 - loss: 0.3385 - accuracy: 0.8610: 100%|███████████████████████████████| 16/16 [00:00<00:00, 81.13it/s]\n",
      "Epoch 142 - loss: 0.3722 - accuracy: 0.8450: 100%|███████████████████████████████| 16/16 [00:00<00:00, 87.42it/s]\n"
     ]
    },
    {
     "name": "stdout",
     "output_type": "stream",
     "text": [
      "----------\n"
     ]
    },
    {
     "name": "stderr",
     "output_type": "stream",
     "text": [
      "Epoch 143 - loss: 0.3369 - accuracy: 0.8650: 100%|███████████████████████████████| 16/16 [00:00<00:00, 78.52it/s]\n",
      "Epoch 143 - loss: 0.3724 - accuracy: 0.8480: 100%|███████████████████████████████| 16/16 [00:00<00:00, 77.71it/s]\n"
     ]
    },
    {
     "name": "stdout",
     "output_type": "stream",
     "text": [
      "----------\n"
     ]
    },
    {
     "name": "stderr",
     "output_type": "stream",
     "text": [
      "Epoch 144 - loss: 0.3354 - accuracy: 0.8650: 100%|███████████████████████████████| 16/16 [00:00<00:00, 81.25it/s]\n",
      "Epoch 144 - loss: 0.3716 - accuracy: 0.8460: 100%|███████████████████████████████| 16/16 [00:00<00:00, 82.55it/s]\n"
     ]
    },
    {
     "name": "stdout",
     "output_type": "stream",
     "text": [
      "----------\n"
     ]
    },
    {
     "name": "stderr",
     "output_type": "stream",
     "text": [
      "Epoch 145 - loss: 0.3364 - accuracy: 0.8630: 100%|███████████████████████████████| 16/16 [00:00<00:00, 79.06it/s]\n",
      "Epoch 145 - loss: 0.3685 - accuracy: 0.8460: 100%|███████████████████████████████| 16/16 [00:00<00:00, 82.50it/s]\n"
     ]
    },
    {
     "name": "stdout",
     "output_type": "stream",
     "text": [
      "----------\n"
     ]
    },
    {
     "name": "stderr",
     "output_type": "stream",
     "text": [
      "Epoch 146 - loss: 0.3344 - accuracy: 0.8670: 100%|███████████████████████████████| 16/16 [00:00<00:00, 78.64it/s]\n",
      "Epoch 146 - loss: 0.3716 - accuracy: 0.8480: 100%|███████████████████████████████| 16/16 [00:00<00:00, 88.93it/s]\n"
     ]
    },
    {
     "name": "stdout",
     "output_type": "stream",
     "text": [
      "----------\n"
     ]
    },
    {
     "name": "stderr",
     "output_type": "stream",
     "text": [
      "Epoch 147 - loss: 0.3349 - accuracy: 0.8700: 100%|███████████████████████████████| 16/16 [00:00<00:00, 82.90it/s]\n",
      "Epoch 147 - loss: 0.3708 - accuracy: 0.8360: 100%|███████████████████████████████| 16/16 [00:00<00:00, 83.08it/s]\n"
     ]
    },
    {
     "name": "stdout",
     "output_type": "stream",
     "text": [
      "----------\n"
     ]
    },
    {
     "name": "stderr",
     "output_type": "stream",
     "text": [
      "Epoch 148 - loss: 0.3368 - accuracy: 0.8620: 100%|███████████████████████████████| 16/16 [00:00<00:00, 77.41it/s]\n",
      "Epoch 148 - loss: 0.3684 - accuracy: 0.8370: 100%|███████████████████████████████| 16/16 [00:00<00:00, 77.23it/s]\n"
     ]
    },
    {
     "name": "stdout",
     "output_type": "stream",
     "text": [
      "----------\n"
     ]
    },
    {
     "name": "stderr",
     "output_type": "stream",
     "text": [
      "Epoch 149 - loss: 0.3351 - accuracy: 0.8690: 100%|███████████████████████████████| 16/16 [00:00<00:00, 79.39it/s]\n",
      "Epoch 149 - loss: 0.3732 - accuracy: 0.8490: 100%|███████████████████████████████| 16/16 [00:00<00:00, 94.59it/s]"
     ]
    },
    {
     "name": "stdout",
     "output_type": "stream",
     "text": [
      "----------\n"
     ]
    },
    {
     "name": "stderr",
     "output_type": "stream",
     "text": [
      "\n"
     ]
    }
   ],
   "source": [
    "# Tensoboard logger\n",
    "import time\n",
    "from src.supervised_ml import get_tensorboard_writer\n",
    "\n",
    "run_name = f'[256]/{str(int(time.time()))}'\n",
    "tensorboard_writer = get_tensorboard_writer(run_name)\n",
    "\n",
    "# Adam is always a safe choice\n",
    "import torch.optim as optim\n",
    "optimizer = optim.Adam(model.parameters())\n",
    "\n",
    "from src.supervised_ml import get_train_val_loop\n",
    "train_val_loop = get_train_val_loop(model, criterion, optimizer, tensorboard_writer)\n",
    "\n",
    "N_EPOCHS = 150\n",
    "\n",
    "for epoch in range(N_EPOCHS):\n",
    "    # train\n",
    "    train_val_loop(is_train=True, dataloader=train_dataloader, epoch=epoch)\n",
    "\n",
    "    with torch.no_grad():\n",
    "        # validate\n",
    "        train_val_loop(is_train=False, dataloader=test_dataloader, epoch=epoch)\n",
    "\n",
    "    print('----------')"
   ]
  },
  {
   "cell_type": "markdown",
   "id": "184e8bc1",
   "metadata": {},
   "source": [
    "## Model 3: Neural network with 2 hidden layers"
   ]
  },
  {
   "cell_type": "markdown",
   "id": "e8408e6c",
   "metadata": {},
   "source": [
    "### Model architecture 📐🏗️"
   ]
  },
  {
   "cell_type": "code",
   "execution_count": 33,
   "id": "fac1d923",
   "metadata": {},
   "outputs": [
    {
     "name": "stdout",
     "output_type": "stream",
     "text": [
      "67,586 parameters\n",
      "Sequential(\n",
      "  (0): Linear(in_features=4, out_features=256, bias=True)\n",
      "  (1): ReLU()\n",
      "  (2): Linear(in_features=256, out_features=256, bias=True)\n",
      "  (3): ReLU()\n",
      "  (4): Linear(in_features=256, out_features=2, bias=True)\n",
      ")\n"
     ]
    }
   ],
   "source": [
    "model = get_model(input_dim=4, output_dim=2, hidden_layers=[256, 256])\n",
    "device = torch.device(\"cuda\" if torch.cuda.is_available() else \"cpu\")\n",
    "model.to(device)\n",
    "\n",
    "print(f'{count_parameters(model):,} parameters')\n",
    "print(model)"
   ]
  },
  {
   "cell_type": "markdown",
   "id": "5daf282f",
   "metadata": {},
   "source": [
    "![image](https://github.com/Paulescu/hands-on-rl/blob/main/03_cart_pole/images/nn_2_hidden_layers_sml.jpg?raw=true)"
   ]
  },
  {
   "cell_type": "markdown",
   "id": "86125275",
   "metadata": {},
   "source": [
    "### Train loop 🏋️"
   ]
  },
  {
   "cell_type": "code",
   "execution_count": 34,
   "id": "e4d72a5a",
   "metadata": {
    "scrolled": true
   },
   "outputs": [
    {
     "name": "stderr",
     "output_type": "stream",
     "text": [
      "Epoch 0 - loss: 0.6700 - accuracy: 0.5720: 100%|████████████████████████████████| 16/16 [00:00<00:00, 102.60it/s]\n",
      "Epoch 0 - loss: 0.6590 - accuracy: 0.6030: 100%|████████████████████████████████| 16/16 [00:00<00:00, 123.70it/s]\n"
     ]
    },
    {
     "name": "stdout",
     "output_type": "stream",
     "text": [
      "----------\n"
     ]
    },
    {
     "name": "stderr",
     "output_type": "stream",
     "text": [
      "Epoch 1 - loss: 0.6473 - accuracy: 0.6050: 100%|████████████████████████████████| 16/16 [00:00<00:00, 103.42it/s]\n",
      "Epoch 1 - loss: 0.6358 - accuracy: 0.6410: 100%|████████████████████████████████| 16/16 [00:00<00:00, 121.93it/s]\n"
     ]
    },
    {
     "name": "stdout",
     "output_type": "stream",
     "text": [
      "----------\n"
     ]
    },
    {
     "name": "stderr",
     "output_type": "stream",
     "text": [
      "Epoch 2 - loss: 0.6330 - accuracy: 0.6310: 100%|████████████████████████████████| 16/16 [00:00<00:00, 105.24it/s]\n",
      "Epoch 2 - loss: 0.6142 - accuracy: 0.6740: 100%|████████████████████████████████| 16/16 [00:00<00:00, 120.51it/s]\n"
     ]
    },
    {
     "name": "stdout",
     "output_type": "stream",
     "text": [
      "----------\n"
     ]
    },
    {
     "name": "stderr",
     "output_type": "stream",
     "text": [
      "Epoch 3 - loss: 0.6086 - accuracy: 0.6710: 100%|█████████████████████████████████| 16/16 [00:00<00:00, 97.21it/s]\n",
      "Epoch 3 - loss: 0.5956 - accuracy: 0.6760: 100%|████████████████████████████████| 16/16 [00:00<00:00, 122.65it/s]\n"
     ]
    },
    {
     "name": "stdout",
     "output_type": "stream",
     "text": [
      "----------\n"
     ]
    },
    {
     "name": "stderr",
     "output_type": "stream",
     "text": [
      "Epoch 4 - loss: 0.5891 - accuracy: 0.7040: 100%|████████████████████████████████| 16/16 [00:00<00:00, 102.81it/s]\n",
      "Epoch 4 - loss: 0.5732 - accuracy: 0.7150: 100%|████████████████████████████████| 16/16 [00:00<00:00, 122.32it/s]\n"
     ]
    },
    {
     "name": "stdout",
     "output_type": "stream",
     "text": [
      "----------\n"
     ]
    },
    {
     "name": "stderr",
     "output_type": "stream",
     "text": [
      "Epoch 5 - loss: 0.5667 - accuracy: 0.7150: 100%|████████████████████████████████| 16/16 [00:00<00:00, 103.17it/s]\n",
      "Epoch 5 - loss: 0.5574 - accuracy: 0.7060: 100%|████████████████████████████████| 16/16 [00:00<00:00, 119.52it/s]\n"
     ]
    },
    {
     "name": "stdout",
     "output_type": "stream",
     "text": [
      "----------\n"
     ]
    },
    {
     "name": "stderr",
     "output_type": "stream",
     "text": [
      "Epoch 6 - loss: 0.5710 - accuracy: 0.6890: 100%|█████████████████████████████████| 16/16 [00:00<00:00, 97.19it/s]\n",
      "Epoch 6 - loss: 0.5308 - accuracy: 0.7380: 100%|████████████████████████████████| 16/16 [00:00<00:00, 115.99it/s]\n"
     ]
    },
    {
     "name": "stdout",
     "output_type": "stream",
     "text": [
      "----------\n"
     ]
    },
    {
     "name": "stderr",
     "output_type": "stream",
     "text": [
      "Epoch 7 - loss: 0.5290 - accuracy: 0.7500: 100%|█████████████████████████████████| 16/16 [00:00<00:00, 98.13it/s]\n",
      "Epoch 7 - loss: 0.5243 - accuracy: 0.7460: 100%|████████████████████████████████| 16/16 [00:00<00:00, 101.26it/s]\n"
     ]
    },
    {
     "name": "stdout",
     "output_type": "stream",
     "text": [
      "----------\n"
     ]
    },
    {
     "name": "stderr",
     "output_type": "stream",
     "text": [
      "Epoch 8 - loss: 0.5111 - accuracy: 0.7410: 100%|████████████████████████████████| 16/16 [00:00<00:00, 100.28it/s]\n",
      "Epoch 8 - loss: 0.5071 - accuracy: 0.7550: 100%|████████████████████████████████| 16/16 [00:00<00:00, 119.97it/s]\n"
     ]
    },
    {
     "name": "stdout",
     "output_type": "stream",
     "text": [
      "----------\n"
     ]
    },
    {
     "name": "stderr",
     "output_type": "stream",
     "text": [
      "Epoch 9 - loss: 0.4888 - accuracy: 0.7770: 100%|████████████████████████████████| 16/16 [00:00<00:00, 101.85it/s]\n",
      "Epoch 9 - loss: 0.4832 - accuracy: 0.7800: 100%|████████████████████████████████| 16/16 [00:00<00:00, 120.48it/s]\n"
     ]
    },
    {
     "name": "stdout",
     "output_type": "stream",
     "text": [
      "----------\n"
     ]
    },
    {
     "name": "stderr",
     "output_type": "stream",
     "text": [
      "Epoch 10 - loss: 0.4714 - accuracy: 0.7790: 100%|████████████████████████████████| 16/16 [00:00<00:00, 97.99it/s]\n",
      "Epoch 10 - loss: 0.4912 - accuracy: 0.7560: 100%|███████████████████████████████| 16/16 [00:00<00:00, 104.34it/s]\n"
     ]
    },
    {
     "name": "stdout",
     "output_type": "stream",
     "text": [
      "----------\n"
     ]
    },
    {
     "name": "stderr",
     "output_type": "stream",
     "text": [
      "Epoch 11 - loss: 0.4635 - accuracy: 0.7810: 100%|████████████████████████████████| 16/16 [00:00<00:00, 97.42it/s]\n",
      "Epoch 11 - loss: 0.4717 - accuracy: 0.7800: 100%|███████████████████████████████| 16/16 [00:00<00:00, 109.18it/s]\n"
     ]
    },
    {
     "name": "stdout",
     "output_type": "stream",
     "text": [
      "----------\n"
     ]
    },
    {
     "name": "stderr",
     "output_type": "stream",
     "text": [
      "Epoch 12 - loss: 0.4414 - accuracy: 0.8030: 100%|████████████████████████████████| 16/16 [00:00<00:00, 92.40it/s]\n",
      "Epoch 12 - loss: 0.4470 - accuracy: 0.8030: 100%|███████████████████████████████| 16/16 [00:00<00:00, 110.91it/s]\n"
     ]
    },
    {
     "name": "stdout",
     "output_type": "stream",
     "text": [
      "----------\n"
     ]
    },
    {
     "name": "stderr",
     "output_type": "stream",
     "text": [
      "Epoch 13 - loss: 0.4262 - accuracy: 0.8170: 100%|████████████████████████████████| 16/16 [00:00<00:00, 96.04it/s]\n",
      "Epoch 13 - loss: 0.4312 - accuracy: 0.8220: 100%|███████████████████████████████| 16/16 [00:00<00:00, 112.61it/s]\n"
     ]
    },
    {
     "name": "stdout",
     "output_type": "stream",
     "text": [
      "----------\n"
     ]
    },
    {
     "name": "stderr",
     "output_type": "stream",
     "text": [
      "Epoch 14 - loss: 0.4189 - accuracy: 0.8250: 100%|████████████████████████████████| 16/16 [00:00<00:00, 93.27it/s]\n",
      "Epoch 14 - loss: 0.4181 - accuracy: 0.8240: 100%|███████████████████████████████| 16/16 [00:00<00:00, 109.25it/s]\n"
     ]
    },
    {
     "name": "stdout",
     "output_type": "stream",
     "text": [
      "----------\n"
     ]
    },
    {
     "name": "stderr",
     "output_type": "stream",
     "text": [
      "Epoch 15 - loss: 0.4050 - accuracy: 0.8190: 100%|████████████████████████████████| 16/16 [00:00<00:00, 87.83it/s]\n",
      "Epoch 15 - loss: 0.4131 - accuracy: 0.8100: 100%|████████████████████████████████| 16/16 [00:00<00:00, 98.23it/s]\n"
     ]
    },
    {
     "name": "stdout",
     "output_type": "stream",
     "text": [
      "----------\n"
     ]
    },
    {
     "name": "stderr",
     "output_type": "stream",
     "text": [
      "Epoch 16 - loss: 0.4184 - accuracy: 0.8060: 100%|████████████████████████████████| 16/16 [00:00<00:00, 80.69it/s]\n",
      "Epoch 16 - loss: 0.4296 - accuracy: 0.8000: 100%|████████████████████████████████| 16/16 [00:00<00:00, 96.12it/s]\n"
     ]
    },
    {
     "name": "stdout",
     "output_type": "stream",
     "text": [
      "----------\n"
     ]
    },
    {
     "name": "stderr",
     "output_type": "stream",
     "text": [
      "Epoch 17 - loss: 0.4065 - accuracy: 0.8100: 100%|████████████████████████████████| 16/16 [00:00<00:00, 79.35it/s]\n",
      "Epoch 17 - loss: 0.4251 - accuracy: 0.7980: 100%|████████████████████████████████| 16/16 [00:00<00:00, 95.44it/s]\n"
     ]
    },
    {
     "name": "stdout",
     "output_type": "stream",
     "text": [
      "----------\n"
     ]
    },
    {
     "name": "stderr",
     "output_type": "stream",
     "text": [
      "Epoch 18 - loss: 0.3931 - accuracy: 0.8310: 100%|████████████████████████████████| 16/16 [00:00<00:00, 76.08it/s]\n",
      "Epoch 18 - loss: 0.4065 - accuracy: 0.8360: 100%|████████████████████████████████| 16/16 [00:00<00:00, 96.18it/s]\n"
     ]
    },
    {
     "name": "stdout",
     "output_type": "stream",
     "text": [
      "----------\n"
     ]
    },
    {
     "name": "stderr",
     "output_type": "stream",
     "text": [
      "Epoch 19 - loss: 0.3847 - accuracy: 0.8400: 100%|████████████████████████████████| 16/16 [00:00<00:00, 65.77it/s]\n",
      "Epoch 19 - loss: 0.3897 - accuracy: 0.8250: 100%|████████████████████████████████| 16/16 [00:00<00:00, 88.78it/s]\n"
     ]
    },
    {
     "name": "stdout",
     "output_type": "stream",
     "text": [
      "----------\n"
     ]
    },
    {
     "name": "stderr",
     "output_type": "stream",
     "text": [
      "Epoch 20 - loss: 0.3866 - accuracy: 0.8280: 100%|████████████████████████████████| 16/16 [00:00<00:00, 72.99it/s]\n",
      "Epoch 20 - loss: 0.3995 - accuracy: 0.8120: 100%|████████████████████████████████| 16/16 [00:00<00:00, 85.03it/s]\n"
     ]
    },
    {
     "name": "stdout",
     "output_type": "stream",
     "text": [
      "----------\n"
     ]
    },
    {
     "name": "stderr",
     "output_type": "stream",
     "text": [
      "Epoch 21 - loss: 0.3617 - accuracy: 0.8520: 100%|████████████████████████████████| 16/16 [00:00<00:00, 68.82it/s]\n",
      "Epoch 21 - loss: 0.3835 - accuracy: 0.8410: 100%|████████████████████████████████| 16/16 [00:00<00:00, 86.44it/s]\n"
     ]
    },
    {
     "name": "stdout",
     "output_type": "stream",
     "text": [
      "----------\n"
     ]
    },
    {
     "name": "stderr",
     "output_type": "stream",
     "text": [
      "Epoch 22 - loss: 0.3565 - accuracy: 0.8440: 100%|████████████████████████████████| 16/16 [00:00<00:00, 64.92it/s]\n",
      "Epoch 22 - loss: 0.3801 - accuracy: 0.8340: 100%|████████████████████████████████| 16/16 [00:00<00:00, 84.90it/s]\n"
     ]
    },
    {
     "name": "stdout",
     "output_type": "stream",
     "text": [
      "----------\n"
     ]
    },
    {
     "name": "stderr",
     "output_type": "stream",
     "text": [
      "Epoch 23 - loss: 0.3559 - accuracy: 0.8570: 100%|████████████████████████████████| 16/16 [00:00<00:00, 69.78it/s]\n",
      "Epoch 23 - loss: 0.3815 - accuracy: 0.8350: 100%|████████████████████████████████| 16/16 [00:00<00:00, 88.05it/s]\n"
     ]
    },
    {
     "name": "stdout",
     "output_type": "stream",
     "text": [
      "----------\n"
     ]
    },
    {
     "name": "stderr",
     "output_type": "stream",
     "text": [
      "Epoch 24 - loss: 0.3634 - accuracy: 0.8430: 100%|████████████████████████████████| 16/16 [00:00<00:00, 72.63it/s]\n",
      "Epoch 24 - loss: 0.4104 - accuracy: 0.8140: 100%|████████████████████████████████| 16/16 [00:00<00:00, 84.17it/s]\n"
     ]
    },
    {
     "name": "stdout",
     "output_type": "stream",
     "text": [
      "----------\n"
     ]
    },
    {
     "name": "stderr",
     "output_type": "stream",
     "text": [
      "Epoch 25 - loss: 0.3449 - accuracy: 0.8500: 100%|████████████████████████████████| 16/16 [00:00<00:00, 73.49it/s]\n",
      "Epoch 25 - loss: 0.4158 - accuracy: 0.8000: 100%|████████████████████████████████| 16/16 [00:00<00:00, 86.72it/s]\n"
     ]
    },
    {
     "name": "stdout",
     "output_type": "stream",
     "text": [
      "----------\n"
     ]
    },
    {
     "name": "stderr",
     "output_type": "stream",
     "text": [
      "Epoch 26 - loss: 0.3534 - accuracy: 0.8490: 100%|████████████████████████████████| 16/16 [00:00<00:00, 74.36it/s]\n",
      "Epoch 26 - loss: 0.4130 - accuracy: 0.8120: 100%|████████████████████████████████| 16/16 [00:00<00:00, 84.11it/s]\n"
     ]
    },
    {
     "name": "stdout",
     "output_type": "stream",
     "text": [
      "----------\n"
     ]
    },
    {
     "name": "stderr",
     "output_type": "stream",
     "text": [
      "Epoch 27 - loss: 0.3463 - accuracy: 0.8480: 100%|████████████████████████████████| 16/16 [00:00<00:00, 70.93it/s]\n",
      "Epoch 27 - loss: 0.3711 - accuracy: 0.8410: 100%|████████████████████████████████| 16/16 [00:00<00:00, 82.32it/s]\n"
     ]
    },
    {
     "name": "stdout",
     "output_type": "stream",
     "text": [
      "----------\n"
     ]
    },
    {
     "name": "stderr",
     "output_type": "stream",
     "text": [
      "Epoch 28 - loss: 0.3433 - accuracy: 0.8480: 100%|████████████████████████████████| 16/16 [00:00<00:00, 69.48it/s]\n",
      "Epoch 28 - loss: 0.3908 - accuracy: 0.8260: 100%|████████████████████████████████| 16/16 [00:00<00:00, 81.57it/s]\n"
     ]
    },
    {
     "name": "stdout",
     "output_type": "stream",
     "text": [
      "----------\n"
     ]
    },
    {
     "name": "stderr",
     "output_type": "stream",
     "text": [
      "Epoch 29 - loss: 0.3323 - accuracy: 0.8450: 100%|████████████████████████████████| 16/16 [00:00<00:00, 64.11it/s]\n",
      "Epoch 29 - loss: 0.3639 - accuracy: 0.8420: 100%|████████████████████████████████| 16/16 [00:00<00:00, 78.37it/s]\n"
     ]
    },
    {
     "name": "stdout",
     "output_type": "stream",
     "text": [
      "----------\n"
     ]
    },
    {
     "name": "stderr",
     "output_type": "stream",
     "text": [
      "Epoch 30 - loss: 0.3283 - accuracy: 0.8600: 100%|████████████████████████████████| 16/16 [00:00<00:00, 56.15it/s]\n",
      "Epoch 30 - loss: 0.3695 - accuracy: 0.8400: 100%|████████████████████████████████| 16/16 [00:00<00:00, 81.65it/s]\n"
     ]
    },
    {
     "name": "stdout",
     "output_type": "stream",
     "text": [
      "----------\n"
     ]
    },
    {
     "name": "stderr",
     "output_type": "stream",
     "text": [
      "Epoch 31 - loss: 0.3406 - accuracy: 0.8450: 100%|████████████████████████████████| 16/16 [00:00<00:00, 62.80it/s]\n",
      "Epoch 31 - loss: 0.4059 - accuracy: 0.8140: 100%|████████████████████████████████| 16/16 [00:00<00:00, 83.70it/s]\n"
     ]
    },
    {
     "name": "stdout",
     "output_type": "stream",
     "text": [
      "----------\n"
     ]
    },
    {
     "name": "stderr",
     "output_type": "stream",
     "text": [
      "Epoch 32 - loss: 0.3210 - accuracy: 0.8630: 100%|████████████████████████████████| 16/16 [00:00<00:00, 68.00it/s]\n",
      "Epoch 32 - loss: 0.3630 - accuracy: 0.8410: 100%|████████████████████████████████| 16/16 [00:00<00:00, 83.29it/s]\n"
     ]
    },
    {
     "name": "stdout",
     "output_type": "stream",
     "text": [
      "----------\n"
     ]
    },
    {
     "name": "stderr",
     "output_type": "stream",
     "text": [
      "Epoch 33 - loss: 0.3167 - accuracy: 0.8610: 100%|████████████████████████████████| 16/16 [00:00<00:00, 68.57it/s]\n",
      "Epoch 33 - loss: 0.3606 - accuracy: 0.8530: 100%|████████████████████████████████| 16/16 [00:00<00:00, 80.55it/s]\n"
     ]
    },
    {
     "name": "stdout",
     "output_type": "stream",
     "text": [
      "----------\n"
     ]
    },
    {
     "name": "stderr",
     "output_type": "stream",
     "text": [
      "Epoch 34 - loss: 0.3453 - accuracy: 0.8370: 100%|████████████████████████████████| 16/16 [00:00<00:00, 64.12it/s]\n",
      "Epoch 34 - loss: 0.3716 - accuracy: 0.8370: 100%|████████████████████████████████| 16/16 [00:00<00:00, 78.99it/s]\n"
     ]
    },
    {
     "name": "stdout",
     "output_type": "stream",
     "text": [
      "----------\n"
     ]
    },
    {
     "name": "stderr",
     "output_type": "stream",
     "text": [
      "Epoch 35 - loss: 0.3122 - accuracy: 0.8650: 100%|████████████████████████████████| 16/16 [00:00<00:00, 63.23it/s]\n",
      "Epoch 35 - loss: 0.3577 - accuracy: 0.8620: 100%|████████████████████████████████| 16/16 [00:00<00:00, 81.84it/s]\n"
     ]
    },
    {
     "name": "stdout",
     "output_type": "stream",
     "text": [
      "----------\n"
     ]
    },
    {
     "name": "stderr",
     "output_type": "stream",
     "text": [
      "Epoch 36 - loss: 0.3097 - accuracy: 0.8630: 100%|████████████████████████████████| 16/16 [00:00<00:00, 68.02it/s]\n",
      "Epoch 36 - loss: 0.3617 - accuracy: 0.8660: 100%|████████████████████████████████| 16/16 [00:00<00:00, 85.18it/s]\n"
     ]
    },
    {
     "name": "stdout",
     "output_type": "stream",
     "text": [
      "----------\n"
     ]
    },
    {
     "name": "stderr",
     "output_type": "stream",
     "text": [
      "Epoch 37 - loss: 0.3120 - accuracy: 0.8610: 100%|████████████████████████████████| 16/16 [00:00<00:00, 69.67it/s]\n",
      "Epoch 37 - loss: 0.3619 - accuracy: 0.8410: 100%|████████████████████████████████| 16/16 [00:00<00:00, 84.50it/s]\n"
     ]
    },
    {
     "name": "stdout",
     "output_type": "stream",
     "text": [
      "----------\n"
     ]
    },
    {
     "name": "stderr",
     "output_type": "stream",
     "text": [
      "Epoch 38 - loss: 0.3112 - accuracy: 0.8610: 100%|████████████████████████████████| 16/16 [00:00<00:00, 69.46it/s]\n",
      "Epoch 38 - loss: 0.4017 - accuracy: 0.8350: 100%|████████████████████████████████| 16/16 [00:00<00:00, 85.47it/s]\n"
     ]
    },
    {
     "name": "stdout",
     "output_type": "stream",
     "text": [
      "----------\n"
     ]
    },
    {
     "name": "stderr",
     "output_type": "stream",
     "text": [
      "Epoch 39 - loss: 0.3127 - accuracy: 0.8630: 100%|████████████████████████████████| 16/16 [00:00<00:00, 67.84it/s]\n",
      "Epoch 39 - loss: 0.3697 - accuracy: 0.8550: 100%|████████████████████████████████| 16/16 [00:00<00:00, 37.89it/s]\n"
     ]
    },
    {
     "name": "stdout",
     "output_type": "stream",
     "text": [
      "----------\n"
     ]
    },
    {
     "name": "stderr",
     "output_type": "stream",
     "text": [
      "Epoch 40 - loss: 0.3125 - accuracy: 0.8660: 100%|████████████████████████████████| 16/16 [00:00<00:00, 36.20it/s]\n",
      "Epoch 40 - loss: 0.3458 - accuracy: 0.8580: 100%|████████████████████████████████| 16/16 [00:00<00:00, 78.97it/s]\n"
     ]
    },
    {
     "name": "stdout",
     "output_type": "stream",
     "text": [
      "----------\n"
     ]
    },
    {
     "name": "stderr",
     "output_type": "stream",
     "text": [
      "Epoch 41 - loss: 0.3070 - accuracy: 0.8620: 100%|████████████████████████████████| 16/16 [00:00<00:00, 63.29it/s]\n",
      "Epoch 41 - loss: 0.3503 - accuracy: 0.8630: 100%|████████████████████████████████| 16/16 [00:00<00:00, 53.82it/s]\n"
     ]
    },
    {
     "name": "stdout",
     "output_type": "stream",
     "text": [
      "----------\n"
     ]
    },
    {
     "name": "stderr",
     "output_type": "stream",
     "text": [
      "Epoch 42 - loss: 0.3282 - accuracy: 0.8500: 100%|████████████████████████████████| 16/16 [00:00<00:00, 67.67it/s]\n",
      "Epoch 42 - loss: 0.4311 - accuracy: 0.8030: 100%|████████████████████████████████| 16/16 [00:00<00:00, 83.04it/s]\n"
     ]
    },
    {
     "name": "stdout",
     "output_type": "stream",
     "text": [
      "----------\n"
     ]
    },
    {
     "name": "stderr",
     "output_type": "stream",
     "text": [
      "Epoch 43 - loss: 0.3217 - accuracy: 0.8400: 100%|████████████████████████████████| 16/16 [00:00<00:00, 65.65it/s]\n",
      "Epoch 43 - loss: 0.3553 - accuracy: 0.8480: 100%|████████████████████████████████| 16/16 [00:00<00:00, 80.05it/s]\n"
     ]
    },
    {
     "name": "stdout",
     "output_type": "stream",
     "text": [
      "----------\n"
     ]
    },
    {
     "name": "stderr",
     "output_type": "stream",
     "text": [
      "Epoch 44 - loss: 0.2979 - accuracy: 0.8720: 100%|████████████████████████████████| 16/16 [00:00<00:00, 69.50it/s]\n",
      "Epoch 44 - loss: 0.3632 - accuracy: 0.8460: 100%|████████████████████████████████| 16/16 [00:00<00:00, 81.67it/s]\n"
     ]
    },
    {
     "name": "stdout",
     "output_type": "stream",
     "text": [
      "----------\n"
     ]
    },
    {
     "name": "stderr",
     "output_type": "stream",
     "text": [
      "Epoch 45 - loss: 0.2840 - accuracy: 0.8890: 100%|████████████████████████████████| 16/16 [00:00<00:00, 68.46it/s]\n",
      "Epoch 45 - loss: 0.3970 - accuracy: 0.8250: 100%|████████████████████████████████| 16/16 [00:00<00:00, 83.50it/s]\n"
     ]
    },
    {
     "name": "stdout",
     "output_type": "stream",
     "text": [
      "----------\n"
     ]
    },
    {
     "name": "stderr",
     "output_type": "stream",
     "text": [
      "Epoch 46 - loss: 0.2896 - accuracy: 0.8740: 100%|████████████████████████████████| 16/16 [00:00<00:00, 70.69it/s]\n",
      "Epoch 46 - loss: 0.3874 - accuracy: 0.8410: 100%|████████████████████████████████| 16/16 [00:00<00:00, 85.45it/s]\n"
     ]
    },
    {
     "name": "stdout",
     "output_type": "stream",
     "text": [
      "----------\n"
     ]
    },
    {
     "name": "stderr",
     "output_type": "stream",
     "text": [
      "Epoch 47 - loss: 0.3015 - accuracy: 0.8700: 100%|████████████████████████████████| 16/16 [00:00<00:00, 77.27it/s]\n",
      "Epoch 47 - loss: 0.3521 - accuracy: 0.8610: 100%|███████████████████████████████| 16/16 [00:00<00:00, 103.24it/s]\n"
     ]
    },
    {
     "name": "stdout",
     "output_type": "stream",
     "text": [
      "----------\n"
     ]
    },
    {
     "name": "stderr",
     "output_type": "stream",
     "text": [
      "Epoch 48 - loss: 0.2955 - accuracy: 0.8660: 100%|████████████████████████████████| 16/16 [00:00<00:00, 80.27it/s]\n",
      "Epoch 48 - loss: 0.4086 - accuracy: 0.8260: 100%|████████████████████████████████| 16/16 [00:00<00:00, 89.56it/s]\n"
     ]
    },
    {
     "name": "stdout",
     "output_type": "stream",
     "text": [
      "----------\n"
     ]
    },
    {
     "name": "stderr",
     "output_type": "stream",
     "text": [
      "Epoch 49 - loss: 0.3038 - accuracy: 0.8620: 100%|████████████████████████████████| 16/16 [00:00<00:00, 70.27it/s]\n",
      "Epoch 49 - loss: 0.3560 - accuracy: 0.8700: 100%|████████████████████████████████| 16/16 [00:00<00:00, 80.60it/s]\n"
     ]
    },
    {
     "name": "stdout",
     "output_type": "stream",
     "text": [
      "----------\n"
     ]
    },
    {
     "name": "stderr",
     "output_type": "stream",
     "text": [
      "Epoch 50 - loss: 0.2937 - accuracy: 0.8730: 100%|████████████████████████████████| 16/16 [00:00<00:00, 69.08it/s]\n",
      "Epoch 50 - loss: 0.3413 - accuracy: 0.8560: 100%|████████████████████████████████| 16/16 [00:00<00:00, 81.21it/s]\n"
     ]
    },
    {
     "name": "stdout",
     "output_type": "stream",
     "text": [
      "----------\n"
     ]
    },
    {
     "name": "stderr",
     "output_type": "stream",
     "text": [
      "Epoch 51 - loss: 0.2916 - accuracy: 0.8810: 100%|████████████████████████████████| 16/16 [00:00<00:00, 69.16it/s]\n",
      "Epoch 51 - loss: 0.3340 - accuracy: 0.8620: 100%|████████████████████████████████| 16/16 [00:00<00:00, 82.70it/s]\n"
     ]
    },
    {
     "name": "stdout",
     "output_type": "stream",
     "text": [
      "----------\n"
     ]
    },
    {
     "name": "stderr",
     "output_type": "stream",
     "text": [
      "Epoch 52 - loss: 0.2758 - accuracy: 0.8820: 100%|████████████████████████████████| 16/16 [00:00<00:00, 66.87it/s]\n",
      "Epoch 52 - loss: 0.3739 - accuracy: 0.8430: 100%|████████████████████████████████| 16/16 [00:00<00:00, 77.20it/s]\n"
     ]
    },
    {
     "name": "stdout",
     "output_type": "stream",
     "text": [
      "----------\n"
     ]
    },
    {
     "name": "stderr",
     "output_type": "stream",
     "text": [
      "Epoch 53 - loss: 0.2683 - accuracy: 0.8910: 100%|████████████████████████████████| 16/16 [00:00<00:00, 56.38it/s]\n",
      "Epoch 53 - loss: 0.3439 - accuracy: 0.8560: 100%|████████████████████████████████| 16/16 [00:00<00:00, 88.65it/s]\n"
     ]
    },
    {
     "name": "stdout",
     "output_type": "stream",
     "text": [
      "----------\n"
     ]
    },
    {
     "name": "stderr",
     "output_type": "stream",
     "text": [
      "Epoch 54 - loss: 0.2694 - accuracy: 0.8840: 100%|████████████████████████████████| 16/16 [00:00<00:00, 71.23it/s]\n",
      "Epoch 54 - loss: 0.3367 - accuracy: 0.8680: 100%|████████████████████████████████| 16/16 [00:00<00:00, 89.22it/s]\n"
     ]
    },
    {
     "name": "stdout",
     "output_type": "stream",
     "text": [
      "----------\n"
     ]
    },
    {
     "name": "stderr",
     "output_type": "stream",
     "text": [
      "Epoch 55 - loss: 0.2771 - accuracy: 0.8780: 100%|████████████████████████████████| 16/16 [00:00<00:00, 72.26it/s]\n",
      "Epoch 55 - loss: 0.3756 - accuracy: 0.8470: 100%|████████████████████████████████| 16/16 [00:00<00:00, 85.22it/s]\n"
     ]
    },
    {
     "name": "stdout",
     "output_type": "stream",
     "text": [
      "----------\n"
     ]
    },
    {
     "name": "stderr",
     "output_type": "stream",
     "text": [
      "Epoch 56 - loss: 0.3171 - accuracy: 0.8750: 100%|████████████████████████████████| 16/16 [00:00<00:00, 66.53it/s]\n",
      "Epoch 56 - loss: 0.3791 - accuracy: 0.8300: 100%|████████████████████████████████| 16/16 [00:00<00:00, 82.23it/s]\n"
     ]
    },
    {
     "name": "stdout",
     "output_type": "stream",
     "text": [
      "----------\n"
     ]
    },
    {
     "name": "stderr",
     "output_type": "stream",
     "text": [
      "Epoch 57 - loss: 0.3097 - accuracy: 0.8590: 100%|████████████████████████████████| 16/16 [00:00<00:00, 70.71it/s]\n",
      "Epoch 57 - loss: 0.4368 - accuracy: 0.8120: 100%|████████████████████████████████| 16/16 [00:00<00:00, 81.34it/s]\n"
     ]
    },
    {
     "name": "stdout",
     "output_type": "stream",
     "text": [
      "----------\n"
     ]
    },
    {
     "name": "stderr",
     "output_type": "stream",
     "text": [
      "Epoch 58 - loss: 0.2887 - accuracy: 0.8710: 100%|████████████████████████████████| 16/16 [00:00<00:00, 65.66it/s]\n",
      "Epoch 58 - loss: 0.3346 - accuracy: 0.8640: 100%|████████████████████████████████| 16/16 [00:00<00:00, 73.58it/s]\n"
     ]
    },
    {
     "name": "stdout",
     "output_type": "stream",
     "text": [
      "----------\n"
     ]
    },
    {
     "name": "stderr",
     "output_type": "stream",
     "text": [
      "Epoch 59 - loss: 0.2619 - accuracy: 0.8960: 100%|████████████████████████████████| 16/16 [00:00<00:00, 66.73it/s]\n",
      "Epoch 59 - loss: 0.3579 - accuracy: 0.8570: 100%|████████████████████████████████| 16/16 [00:00<00:00, 80.60it/s]\n"
     ]
    },
    {
     "name": "stdout",
     "output_type": "stream",
     "text": [
      "----------\n"
     ]
    },
    {
     "name": "stderr",
     "output_type": "stream",
     "text": [
      "Epoch 60 - loss: 0.2735 - accuracy: 0.8850: 100%|████████████████████████████████| 16/16 [00:00<00:00, 66.46it/s]\n",
      "Epoch 60 - loss: 0.4416 - accuracy: 0.8260: 100%|████████████████████████████████| 16/16 [00:00<00:00, 81.45it/s]\n"
     ]
    },
    {
     "name": "stdout",
     "output_type": "stream",
     "text": [
      "----------\n"
     ]
    },
    {
     "name": "stderr",
     "output_type": "stream",
     "text": [
      "Epoch 61 - loss: 0.2909 - accuracy: 0.8650: 100%|████████████████████████████████| 16/16 [00:00<00:00, 65.52it/s]\n",
      "Epoch 61 - loss: 0.3360 - accuracy: 0.8770: 100%|████████████████████████████████| 16/16 [00:00<00:00, 76.65it/s]\n"
     ]
    },
    {
     "name": "stdout",
     "output_type": "stream",
     "text": [
      "----------\n"
     ]
    },
    {
     "name": "stderr",
     "output_type": "stream",
     "text": [
      "Epoch 62 - loss: 0.2586 - accuracy: 0.8900: 100%|████████████████████████████████| 16/16 [00:00<00:00, 60.92it/s]\n",
      "Epoch 62 - loss: 0.3352 - accuracy: 0.8840: 100%|████████████████████████████████| 16/16 [00:00<00:00, 71.67it/s]\n"
     ]
    },
    {
     "name": "stdout",
     "output_type": "stream",
     "text": [
      "----------\n"
     ]
    },
    {
     "name": "stderr",
     "output_type": "stream",
     "text": [
      "Epoch 63 - loss: 0.2646 - accuracy: 0.8890: 100%|████████████████████████████████| 16/16 [00:00<00:00, 55.26it/s]\n",
      "Epoch 63 - loss: 0.3650 - accuracy: 0.8440: 100%|████████████████████████████████| 16/16 [00:00<00:00, 80.39it/s]\n"
     ]
    },
    {
     "name": "stdout",
     "output_type": "stream",
     "text": [
      "----------\n"
     ]
    },
    {
     "name": "stderr",
     "output_type": "stream",
     "text": [
      "Epoch 64 - loss: 0.2672 - accuracy: 0.8870: 100%|████████████████████████████████| 16/16 [00:00<00:00, 62.68it/s]\n",
      "Epoch 64 - loss: 0.4141 - accuracy: 0.8130: 100%|████████████████████████████████| 16/16 [00:00<00:00, 72.66it/s]\n"
     ]
    },
    {
     "name": "stdout",
     "output_type": "stream",
     "text": [
      "----------\n"
     ]
    },
    {
     "name": "stderr",
     "output_type": "stream",
     "text": [
      "Epoch 65 - loss: 0.3067 - accuracy: 0.8630: 100%|████████████████████████████████| 16/16 [00:00<00:00, 59.52it/s]\n",
      "Epoch 65 - loss: 0.3694 - accuracy: 0.8670: 100%|████████████████████████████████| 16/16 [00:00<00:00, 71.78it/s]\n"
     ]
    },
    {
     "name": "stdout",
     "output_type": "stream",
     "text": [
      "----------\n"
     ]
    },
    {
     "name": "stderr",
     "output_type": "stream",
     "text": [
      "Epoch 66 - loss: 0.2869 - accuracy: 0.8630: 100%|████████████████████████████████| 16/16 [00:00<00:00, 57.62it/s]\n",
      "Epoch 66 - loss: 0.3792 - accuracy: 0.8420: 100%|████████████████████████████████| 16/16 [00:00<00:00, 67.20it/s]\n"
     ]
    },
    {
     "name": "stdout",
     "output_type": "stream",
     "text": [
      "----------\n"
     ]
    },
    {
     "name": "stderr",
     "output_type": "stream",
     "text": [
      "Epoch 67 - loss: 0.2577 - accuracy: 0.8890: 100%|████████████████████████████████| 16/16 [00:00<00:00, 60.46it/s]\n",
      "Epoch 67 - loss: 0.3251 - accuracy: 0.8750: 100%|████████████████████████████████| 16/16 [00:00<00:00, 61.47it/s]\n"
     ]
    },
    {
     "name": "stdout",
     "output_type": "stream",
     "text": [
      "----------\n"
     ]
    },
    {
     "name": "stderr",
     "output_type": "stream",
     "text": [
      "Epoch 68 - loss: 0.2563 - accuracy: 0.8950: 100%|████████████████████████████████| 16/16 [00:00<00:00, 55.52it/s]\n",
      "Epoch 68 - loss: 0.3528 - accuracy: 0.8680: 100%|████████████████████████████████| 16/16 [00:00<00:00, 68.48it/s]\n"
     ]
    },
    {
     "name": "stdout",
     "output_type": "stream",
     "text": [
      "----------\n"
     ]
    },
    {
     "name": "stderr",
     "output_type": "stream",
     "text": [
      "Epoch 69 - loss: 0.2479 - accuracy: 0.9000: 100%|████████████████████████████████| 16/16 [00:00<00:00, 53.32it/s]\n",
      "Epoch 69 - loss: 0.3380 - accuracy: 0.8760: 100%|████████████████████████████████| 16/16 [00:00<00:00, 72.00it/s]\n"
     ]
    },
    {
     "name": "stdout",
     "output_type": "stream",
     "text": [
      "----------\n"
     ]
    },
    {
     "name": "stderr",
     "output_type": "stream",
     "text": [
      "Epoch 70 - loss: 0.2717 - accuracy: 0.8780: 100%|████████████████████████████████| 16/16 [00:00<00:00, 61.96it/s]\n",
      "Epoch 70 - loss: 0.3319 - accuracy: 0.8780: 100%|████████████████████████████████| 16/16 [00:00<00:00, 75.71it/s]\n"
     ]
    },
    {
     "name": "stdout",
     "output_type": "stream",
     "text": [
      "----------\n"
     ]
    },
    {
     "name": "stderr",
     "output_type": "stream",
     "text": [
      "Epoch 71 - loss: 0.2704 - accuracy: 0.8770: 100%|████████████████████████████████| 16/16 [00:00<00:00, 59.96it/s]\n",
      "Epoch 71 - loss: 0.3492 - accuracy: 0.8650: 100%|████████████████████████████████| 16/16 [00:00<00:00, 70.16it/s]\n"
     ]
    },
    {
     "name": "stdout",
     "output_type": "stream",
     "text": [
      "----------\n"
     ]
    },
    {
     "name": "stderr",
     "output_type": "stream",
     "text": [
      "Epoch 72 - loss: 0.2764 - accuracy: 0.8830: 100%|████████████████████████████████| 16/16 [00:00<00:00, 59.90it/s]\n",
      "Epoch 72 - loss: 0.3310 - accuracy: 0.8800: 100%|████████████████████████████████| 16/16 [00:00<00:00, 72.90it/s]\n"
     ]
    },
    {
     "name": "stdout",
     "output_type": "stream",
     "text": [
      "----------\n"
     ]
    },
    {
     "name": "stderr",
     "output_type": "stream",
     "text": [
      "Epoch 73 - loss: 0.2472 - accuracy: 0.9030: 100%|████████████████████████████████| 16/16 [00:00<00:00, 59.93it/s]\n",
      "Epoch 73 - loss: 0.3412 - accuracy: 0.8790: 100%|████████████████████████████████| 16/16 [00:00<00:00, 72.54it/s]\n"
     ]
    },
    {
     "name": "stdout",
     "output_type": "stream",
     "text": [
      "----------\n"
     ]
    },
    {
     "name": "stderr",
     "output_type": "stream",
     "text": [
      "Epoch 74 - loss: 0.2452 - accuracy: 0.8990: 100%|████████████████████████████████| 16/16 [00:00<00:00, 57.71it/s]\n",
      "Epoch 74 - loss: 0.3423 - accuracy: 0.8680: 100%|████████████████████████████████| 16/16 [00:00<00:00, 70.00it/s]\n"
     ]
    },
    {
     "name": "stdout",
     "output_type": "stream",
     "text": [
      "----------\n"
     ]
    },
    {
     "name": "stderr",
     "output_type": "stream",
     "text": [
      "Epoch 75 - loss: 0.2443 - accuracy: 0.9040: 100%|████████████████████████████████| 16/16 [00:00<00:00, 54.53it/s]\n",
      "Epoch 75 - loss: 0.3355 - accuracy: 0.8790: 100%|████████████████████████████████| 16/16 [00:00<00:00, 70.30it/s]\n"
     ]
    },
    {
     "name": "stdout",
     "output_type": "stream",
     "text": [
      "----------\n"
     ]
    },
    {
     "name": "stderr",
     "output_type": "stream",
     "text": [
      "Epoch 76 - loss: 0.2582 - accuracy: 0.8920: 100%|████████████████████████████████| 16/16 [00:00<00:00, 56.31it/s]\n",
      "Epoch 76 - loss: 0.3951 - accuracy: 0.8390: 100%|████████████████████████████████| 16/16 [00:00<00:00, 65.27it/s]\n"
     ]
    },
    {
     "name": "stdout",
     "output_type": "stream",
     "text": [
      "----------\n"
     ]
    },
    {
     "name": "stderr",
     "output_type": "stream",
     "text": [
      "Epoch 77 - loss: 0.2573 - accuracy: 0.8910: 100%|████████████████████████████████| 16/16 [00:00<00:00, 55.37it/s]\n",
      "Epoch 77 - loss: 0.3267 - accuracy: 0.8850: 100%|████████████████████████████████| 16/16 [00:00<00:00, 67.24it/s]\n"
     ]
    },
    {
     "name": "stdout",
     "output_type": "stream",
     "text": [
      "----------\n"
     ]
    },
    {
     "name": "stderr",
     "output_type": "stream",
     "text": [
      "Epoch 78 - loss: 0.2420 - accuracy: 0.9000: 100%|████████████████████████████████| 16/16 [00:00<00:00, 54.70it/s]\n",
      "Epoch 78 - loss: 0.3966 - accuracy: 0.8520: 100%|████████████████████████████████| 16/16 [00:00<00:00, 68.08it/s]\n"
     ]
    },
    {
     "name": "stdout",
     "output_type": "stream",
     "text": [
      "----------\n"
     ]
    },
    {
     "name": "stderr",
     "output_type": "stream",
     "text": [
      "Epoch 79 - loss: 0.2365 - accuracy: 0.9050: 100%|████████████████████████████████| 16/16 [00:00<00:00, 48.64it/s]\n",
      "Epoch 79 - loss: 0.3407 - accuracy: 0.8610: 100%|████████████████████████████████| 16/16 [00:00<00:00, 68.18it/s]\n"
     ]
    },
    {
     "name": "stdout",
     "output_type": "stream",
     "text": [
      "----------\n"
     ]
    },
    {
     "name": "stderr",
     "output_type": "stream",
     "text": [
      "Epoch 80 - loss: 0.2475 - accuracy: 0.8950: 100%|████████████████████████████████| 16/16 [00:00<00:00, 55.06it/s]\n",
      "Epoch 80 - loss: 0.3545 - accuracy: 0.8660: 100%|████████████████████████████████| 16/16 [00:00<00:00, 64.95it/s]\n"
     ]
    },
    {
     "name": "stdout",
     "output_type": "stream",
     "text": [
      "----------\n"
     ]
    },
    {
     "name": "stderr",
     "output_type": "stream",
     "text": [
      "Epoch 81 - loss: 0.2341 - accuracy: 0.8970: 100%|████████████████████████████████| 16/16 [00:00<00:00, 56.40it/s]\n",
      "Epoch 81 - loss: 0.3376 - accuracy: 0.8780: 100%|████████████████████████████████| 16/16 [00:00<00:00, 65.22it/s]\n"
     ]
    },
    {
     "name": "stdout",
     "output_type": "stream",
     "text": [
      "----------\n"
     ]
    },
    {
     "name": "stderr",
     "output_type": "stream",
     "text": [
      "Epoch 82 - loss: 0.2397 - accuracy: 0.9070: 100%|████████████████████████████████| 16/16 [00:00<00:00, 49.50it/s]\n",
      "Epoch 82 - loss: 0.3301 - accuracy: 0.8880: 100%|████████████████████████████████| 16/16 [00:00<00:00, 58.18it/s]\n"
     ]
    },
    {
     "name": "stdout",
     "output_type": "stream",
     "text": [
      "----------\n"
     ]
    },
    {
     "name": "stderr",
     "output_type": "stream",
     "text": [
      "Epoch 83 - loss: 0.2380 - accuracy: 0.9020: 100%|████████████████████████████████| 16/16 [00:00<00:00, 48.38it/s]\n",
      "Epoch 83 - loss: 0.3743 - accuracy: 0.8600: 100%|████████████████████████████████| 16/16 [00:00<00:00, 50.19it/s]\n"
     ]
    },
    {
     "name": "stdout",
     "output_type": "stream",
     "text": [
      "----------\n"
     ]
    },
    {
     "name": "stderr",
     "output_type": "stream",
     "text": [
      "Epoch 84 - loss: 0.2413 - accuracy: 0.9070: 100%|████████████████████████████████| 16/16 [00:00<00:00, 47.54it/s]\n",
      "Epoch 84 - loss: 0.3465 - accuracy: 0.8810: 100%|████████████████████████████████| 16/16 [00:00<00:00, 57.05it/s]\n"
     ]
    },
    {
     "name": "stdout",
     "output_type": "stream",
     "text": [
      "----------\n"
     ]
    },
    {
     "name": "stderr",
     "output_type": "stream",
     "text": [
      "Epoch 85 - loss: 0.2382 - accuracy: 0.9030: 100%|████████████████████████████████| 16/16 [00:00<00:00, 46.08it/s]\n",
      "Epoch 85 - loss: 0.3335 - accuracy: 0.8730: 100%|████████████████████████████████| 16/16 [00:00<00:00, 58.98it/s]\n"
     ]
    },
    {
     "name": "stdout",
     "output_type": "stream",
     "text": [
      "----------\n"
     ]
    },
    {
     "name": "stderr",
     "output_type": "stream",
     "text": [
      "Epoch 86 - loss: 0.2378 - accuracy: 0.9060: 100%|████████████████████████████████| 16/16 [00:00<00:00, 46.75it/s]\n",
      "Epoch 86 - loss: 0.3451 - accuracy: 0.8730: 100%|████████████████████████████████| 16/16 [00:00<00:00, 54.69it/s]\n"
     ]
    },
    {
     "name": "stdout",
     "output_type": "stream",
     "text": [
      "----------\n"
     ]
    },
    {
     "name": "stderr",
     "output_type": "stream",
     "text": [
      "Epoch 87 - loss: 0.2465 - accuracy: 0.8870: 100%|████████████████████████████████| 16/16 [00:00<00:00, 45.78it/s]\n",
      "Epoch 87 - loss: 0.3491 - accuracy: 0.8930: 100%|████████████████████████████████| 16/16 [00:00<00:00, 50.21it/s]\n"
     ]
    },
    {
     "name": "stdout",
     "output_type": "stream",
     "text": [
      "----------\n"
     ]
    },
    {
     "name": "stderr",
     "output_type": "stream",
     "text": [
      "Epoch 88 - loss: 0.2529 - accuracy: 0.8820: 100%|████████████████████████████████| 16/16 [00:00<00:00, 45.22it/s]\n",
      "Epoch 88 - loss: 0.3765 - accuracy: 0.8480: 100%|████████████████████████████████| 16/16 [00:00<00:00, 52.06it/s]\n"
     ]
    },
    {
     "name": "stdout",
     "output_type": "stream",
     "text": [
      "----------\n"
     ]
    },
    {
     "name": "stderr",
     "output_type": "stream",
     "text": [
      "Epoch 89 - loss: 0.2752 - accuracy: 0.8670: 100%|████████████████████████████████| 16/16 [00:00<00:00, 41.45it/s]\n",
      "Epoch 89 - loss: 0.3977 - accuracy: 0.8530: 100%|████████████████████████████████| 16/16 [00:00<00:00, 50.93it/s]\n"
     ]
    },
    {
     "name": "stdout",
     "output_type": "stream",
     "text": [
      "----------\n"
     ]
    },
    {
     "name": "stderr",
     "output_type": "stream",
     "text": [
      "Epoch 90 - loss: 0.2698 - accuracy: 0.8800: 100%|████████████████████████████████| 16/16 [00:00<00:00, 39.98it/s]\n",
      "Epoch 90 - loss: 0.3669 - accuracy: 0.8600: 100%|████████████████████████████████| 16/16 [00:00<00:00, 54.89it/s]\n"
     ]
    },
    {
     "name": "stdout",
     "output_type": "stream",
     "text": [
      "----------\n"
     ]
    },
    {
     "name": "stderr",
     "output_type": "stream",
     "text": [
      "Epoch 91 - loss: 0.2649 - accuracy: 0.8760: 100%|████████████████████████████████| 16/16 [00:00<00:00, 48.17it/s]\n",
      "Epoch 91 - loss: 0.3675 - accuracy: 0.8660: 100%|████████████████████████████████| 16/16 [00:00<00:00, 55.13it/s]\n"
     ]
    },
    {
     "name": "stdout",
     "output_type": "stream",
     "text": [
      "----------\n"
     ]
    },
    {
     "name": "stderr",
     "output_type": "stream",
     "text": [
      "Epoch 92 - loss: 0.2461 - accuracy: 0.8930: 100%|████████████████████████████████| 16/16 [00:00<00:00, 39.36it/s]\n",
      "Epoch 92 - loss: 0.3216 - accuracy: 0.8820: 100%|████████████████████████████████| 16/16 [00:00<00:00, 55.22it/s]\n"
     ]
    },
    {
     "name": "stdout",
     "output_type": "stream",
     "text": [
      "----------\n"
     ]
    },
    {
     "name": "stderr",
     "output_type": "stream",
     "text": [
      "Epoch 93 - loss: 0.2327 - accuracy: 0.9000: 100%|████████████████████████████████| 16/16 [00:00<00:00, 39.08it/s]\n",
      "Epoch 93 - loss: 0.3255 - accuracy: 0.8950: 100%|████████████████████████████████| 16/16 [00:00<00:00, 60.96it/s]\n"
     ]
    },
    {
     "name": "stdout",
     "output_type": "stream",
     "text": [
      "----------\n"
     ]
    },
    {
     "name": "stderr",
     "output_type": "stream",
     "text": [
      "Epoch 94 - loss: 0.2186 - accuracy: 0.9130: 100%|████████████████████████████████| 16/16 [00:00<00:00, 42.56it/s]\n",
      "Epoch 94 - loss: 0.3470 - accuracy: 0.8830: 100%|████████████████████████████████| 16/16 [00:00<00:00, 67.11it/s]\n"
     ]
    },
    {
     "name": "stdout",
     "output_type": "stream",
     "text": [
      "----------\n"
     ]
    },
    {
     "name": "stderr",
     "output_type": "stream",
     "text": [
      "Epoch 95 - loss: 0.2260 - accuracy: 0.9040: 100%|████████████████████████████████| 16/16 [00:00<00:00, 42.39it/s]\n",
      "Epoch 95 - loss: 0.3433 - accuracy: 0.8800: 100%|████████████████████████████████| 16/16 [00:00<00:00, 49.81it/s]\n"
     ]
    },
    {
     "name": "stdout",
     "output_type": "stream",
     "text": [
      "----------\n"
     ]
    },
    {
     "name": "stderr",
     "output_type": "stream",
     "text": [
      "Epoch 96 - loss: 0.2194 - accuracy: 0.9110: 100%|████████████████████████████████| 16/16 [00:00<00:00, 38.00it/s]\n",
      "Epoch 96 - loss: 0.3348 - accuracy: 0.8800: 100%|████████████████████████████████| 16/16 [00:00<00:00, 51.90it/s]\n"
     ]
    },
    {
     "name": "stdout",
     "output_type": "stream",
     "text": [
      "----------\n"
     ]
    },
    {
     "name": "stderr",
     "output_type": "stream",
     "text": [
      "Epoch 97 - loss: 0.2266 - accuracy: 0.9020: 100%|████████████████████████████████| 16/16 [00:00<00:00, 46.16it/s]\n",
      "Epoch 97 - loss: 0.3652 - accuracy: 0.8680: 100%|████████████████████████████████| 16/16 [00:00<00:00, 68.10it/s]\n"
     ]
    },
    {
     "name": "stdout",
     "output_type": "stream",
     "text": [
      "----------\n"
     ]
    },
    {
     "name": "stderr",
     "output_type": "stream",
     "text": [
      "Epoch 98 - loss: 0.2448 - accuracy: 0.8930: 100%|████████████████████████████████| 16/16 [00:00<00:00, 52.31it/s]\n",
      "Epoch 98 - loss: 0.3856 - accuracy: 0.8430: 100%|████████████████████████████████| 16/16 [00:00<00:00, 52.80it/s]\n"
     ]
    },
    {
     "name": "stdout",
     "output_type": "stream",
     "text": [
      "----------\n"
     ]
    },
    {
     "name": "stderr",
     "output_type": "stream",
     "text": [
      "Epoch 99 - loss: 0.2442 - accuracy: 0.8940: 100%|████████████████████████████████| 16/16 [00:00<00:00, 25.66it/s]\n",
      "Epoch 99 - loss: 0.3755 - accuracy: 0.8650: 100%|████████████████████████████████| 16/16 [00:00<00:00, 43.86it/s]\n"
     ]
    },
    {
     "name": "stdout",
     "output_type": "stream",
     "text": [
      "----------\n"
     ]
    },
    {
     "name": "stderr",
     "output_type": "stream",
     "text": [
      "Epoch 100 - loss: 0.2317 - accuracy: 0.9030: 100%|███████████████████████████████| 16/16 [00:00<00:00, 21.17it/s]\n",
      "Epoch 100 - loss: 0.3462 - accuracy: 0.8870: 100%|███████████████████████████████| 16/16 [00:00<00:00, 33.20it/s]\n"
     ]
    },
    {
     "name": "stdout",
     "output_type": "stream",
     "text": [
      "----------\n"
     ]
    },
    {
     "name": "stderr",
     "output_type": "stream",
     "text": [
      "Epoch 101 - loss: 0.2280 - accuracy: 0.9080: 100%|███████████████████████████████| 16/16 [00:00<00:00, 31.39it/s]\n",
      "Epoch 101 - loss: 0.3406 - accuracy: 0.8750: 100%|███████████████████████████████| 16/16 [00:00<00:00, 62.84it/s]\n"
     ]
    },
    {
     "name": "stdout",
     "output_type": "stream",
     "text": [
      "----------\n"
     ]
    },
    {
     "name": "stderr",
     "output_type": "stream",
     "text": [
      "Epoch 102 - loss: 0.2164 - accuracy: 0.9050: 100%|███████████████████████████████| 16/16 [00:00<00:00, 52.00it/s]\n",
      "Epoch 102 - loss: 0.3418 - accuracy: 0.8800: 100%|███████████████████████████████| 16/16 [00:00<00:00, 36.01it/s]\n"
     ]
    },
    {
     "name": "stdout",
     "output_type": "stream",
     "text": [
      "----------\n"
     ]
    },
    {
     "name": "stderr",
     "output_type": "stream",
     "text": [
      "Epoch 103 - loss: 0.2390 - accuracy: 0.8910: 100%|███████████████████████████████| 16/16 [00:00<00:00, 42.88it/s]\n",
      "Epoch 103 - loss: 0.3216 - accuracy: 0.8920: 100%|███████████████████████████████| 16/16 [00:00<00:00, 39.63it/s]\n"
     ]
    },
    {
     "name": "stdout",
     "output_type": "stream",
     "text": [
      "----------\n"
     ]
    },
    {
     "name": "stderr",
     "output_type": "stream",
     "text": [
      "Epoch 104 - loss: 0.2640 - accuracy: 0.8730: 100%|███████████████████████████████| 16/16 [00:00<00:00, 43.88it/s]\n",
      "Epoch 104 - loss: 0.3356 - accuracy: 0.8880: 100%|███████████████████████████████| 16/16 [00:00<00:00, 54.86it/s]\n"
     ]
    },
    {
     "name": "stdout",
     "output_type": "stream",
     "text": [
      "----------\n"
     ]
    },
    {
     "name": "stderr",
     "output_type": "stream",
     "text": [
      "Epoch 105 - loss: 0.2369 - accuracy: 0.8930: 100%|███████████████████████████████| 16/16 [00:00<00:00, 42.37it/s]\n",
      "Epoch 105 - loss: 0.3310 - accuracy: 0.8840: 100%|███████████████████████████████| 16/16 [00:00<00:00, 53.69it/s]\n"
     ]
    },
    {
     "name": "stdout",
     "output_type": "stream",
     "text": [
      "----------\n"
     ]
    },
    {
     "name": "stderr",
     "output_type": "stream",
     "text": [
      "Epoch 106 - loss: 0.2269 - accuracy: 0.8980: 100%|███████████████████████████████| 16/16 [00:00<00:00, 34.54it/s]\n",
      "Epoch 106 - loss: 0.3531 - accuracy: 0.8810: 100%|███████████████████████████████| 16/16 [00:00<00:00, 42.55it/s]\n"
     ]
    },
    {
     "name": "stdout",
     "output_type": "stream",
     "text": [
      "----------\n"
     ]
    },
    {
     "name": "stderr",
     "output_type": "stream",
     "text": [
      "Epoch 107 - loss: 0.2224 - accuracy: 0.9070: 100%|███████████████████████████████| 16/16 [00:00<00:00, 22.27it/s]\n",
      "Epoch 107 - loss: 0.3199 - accuracy: 0.8890: 100%|███████████████████████████████| 16/16 [00:00<00:00, 21.54it/s]\n"
     ]
    },
    {
     "name": "stdout",
     "output_type": "stream",
     "text": [
      "----------\n"
     ]
    },
    {
     "name": "stderr",
     "output_type": "stream",
     "text": [
      "Epoch 108 - loss: 0.2162 - accuracy: 0.9120: 100%|███████████████████████████████| 16/16 [00:00<00:00, 16.22it/s]\n",
      "Epoch 108 - loss: 0.3685 - accuracy: 0.8660: 100%|███████████████████████████████| 16/16 [00:00<00:00, 16.71it/s]\n"
     ]
    },
    {
     "name": "stdout",
     "output_type": "stream",
     "text": [
      "----------\n"
     ]
    },
    {
     "name": "stderr",
     "output_type": "stream",
     "text": [
      "Epoch 109 - loss: 0.2461 - accuracy: 0.8970: 100%|███████████████████████████████| 16/16 [00:01<00:00, 14.35it/s]\n",
      "Epoch 109 - loss: 0.3144 - accuracy: 0.8970: 100%|███████████████████████████████| 16/16 [00:00<00:00, 18.32it/s]\n"
     ]
    },
    {
     "name": "stdout",
     "output_type": "stream",
     "text": [
      "----------\n"
     ]
    },
    {
     "name": "stderr",
     "output_type": "stream",
     "text": [
      "Epoch 110 - loss: 0.2317 - accuracy: 0.8980: 100%|███████████████████████████████| 16/16 [00:01<00:00, 13.45it/s]\n",
      "Epoch 110 - loss: 0.3358 - accuracy: 0.8770: 100%|███████████████████████████████| 16/16 [00:00<00:00, 46.71it/s]\n"
     ]
    },
    {
     "name": "stdout",
     "output_type": "stream",
     "text": [
      "----------\n"
     ]
    },
    {
     "name": "stderr",
     "output_type": "stream",
     "text": [
      "Epoch 111 - loss: 0.2198 - accuracy: 0.9130: 100%|███████████████████████████████| 16/16 [00:00<00:00, 34.96it/s]\n",
      "Epoch 111 - loss: 0.3600 - accuracy: 0.8730: 100%|███████████████████████████████| 16/16 [00:00<00:00, 51.18it/s]\n"
     ]
    },
    {
     "name": "stdout",
     "output_type": "stream",
     "text": [
      "----------\n"
     ]
    },
    {
     "name": "stderr",
     "output_type": "stream",
     "text": [
      "Epoch 112 - loss: 0.2150 - accuracy: 0.9120: 100%|███████████████████████████████| 16/16 [00:00<00:00, 33.70it/s]\n",
      "Epoch 112 - loss: 0.3399 - accuracy: 0.8810: 100%|███████████████████████████████| 16/16 [00:00<00:00, 31.42it/s]\n"
     ]
    },
    {
     "name": "stdout",
     "output_type": "stream",
     "text": [
      "----------\n"
     ]
    },
    {
     "name": "stderr",
     "output_type": "stream",
     "text": [
      "Epoch 113 - loss: 0.2159 - accuracy: 0.9060: 100%|███████████████████████████████| 16/16 [00:00<00:00, 25.58it/s]\n",
      "Epoch 113 - loss: 0.3527 - accuracy: 0.8750: 100%|███████████████████████████████| 16/16 [00:00<00:00, 32.06it/s]\n"
     ]
    },
    {
     "name": "stdout",
     "output_type": "stream",
     "text": [
      "----------\n"
     ]
    },
    {
     "name": "stderr",
     "output_type": "stream",
     "text": [
      "Epoch 114 - loss: 0.2135 - accuracy: 0.9210: 100%|███████████████████████████████| 16/16 [00:00<00:00, 27.01it/s]\n",
      "Epoch 114 - loss: 0.3285 - accuracy: 0.8850: 100%|███████████████████████████████| 16/16 [00:00<00:00, 29.57it/s]\n"
     ]
    },
    {
     "name": "stdout",
     "output_type": "stream",
     "text": [
      "----------\n"
     ]
    },
    {
     "name": "stderr",
     "output_type": "stream",
     "text": [
      "Epoch 115 - loss: 0.2150 - accuracy: 0.9080: 100%|███████████████████████████████| 16/16 [00:00<00:00, 23.44it/s]\n",
      "Epoch 115 - loss: 0.3262 - accuracy: 0.8940: 100%|███████████████████████████████| 16/16 [00:00<00:00, 33.17it/s]\n"
     ]
    },
    {
     "name": "stdout",
     "output_type": "stream",
     "text": [
      "----------\n"
     ]
    },
    {
     "name": "stderr",
     "output_type": "stream",
     "text": [
      "Epoch 116 - loss: 0.2190 - accuracy: 0.9060: 100%|███████████████████████████████| 16/16 [00:00<00:00, 31.75it/s]\n",
      "Epoch 116 - loss: 0.3478 - accuracy: 0.8720: 100%|███████████████████████████████| 16/16 [00:00<00:00, 42.97it/s]\n"
     ]
    },
    {
     "name": "stdout",
     "output_type": "stream",
     "text": [
      "----------\n"
     ]
    },
    {
     "name": "stderr",
     "output_type": "stream",
     "text": [
      "Epoch 117 - loss: 0.2348 - accuracy: 0.8880: 100%|███████████████████████████████| 16/16 [00:00<00:00, 38.62it/s]\n",
      "Epoch 117 - loss: 0.4300 - accuracy: 0.8360: 100%|███████████████████████████████| 16/16 [00:00<00:00, 51.13it/s]\n"
     ]
    },
    {
     "name": "stdout",
     "output_type": "stream",
     "text": [
      "----------\n"
     ]
    },
    {
     "name": "stderr",
     "output_type": "stream",
     "text": [
      "Epoch 118 - loss: 0.2724 - accuracy: 0.8630: 100%|███████████████████████████████| 16/16 [00:00<00:00, 41.21it/s]\n",
      "Epoch 118 - loss: 0.3600 - accuracy: 0.8600: 100%|███████████████████████████████| 16/16 [00:00<00:00, 49.17it/s]\n"
     ]
    },
    {
     "name": "stdout",
     "output_type": "stream",
     "text": [
      "----------\n"
     ]
    },
    {
     "name": "stderr",
     "output_type": "stream",
     "text": [
      "Epoch 119 - loss: 0.2291 - accuracy: 0.8970: 100%|███████████████████████████████| 16/16 [00:00<00:00, 42.26it/s]\n",
      "Epoch 119 - loss: 0.3311 - accuracy: 0.8970: 100%|███████████████████████████████| 16/16 [00:00<00:00, 39.10it/s]\n"
     ]
    },
    {
     "name": "stdout",
     "output_type": "stream",
     "text": [
      "----------\n"
     ]
    },
    {
     "name": "stderr",
     "output_type": "stream",
     "text": [
      "Epoch 120 - loss: 0.2106 - accuracy: 0.9170: 100%|███████████████████████████████| 16/16 [00:00<00:00, 37.59it/s]\n",
      "Epoch 120 - loss: 0.3401 - accuracy: 0.8810: 100%|███████████████████████████████| 16/16 [00:00<00:00, 41.07it/s]\n"
     ]
    },
    {
     "name": "stdout",
     "output_type": "stream",
     "text": [
      "----------\n"
     ]
    },
    {
     "name": "stderr",
     "output_type": "stream",
     "text": [
      "Epoch 121 - loss: 0.2005 - accuracy: 0.9160: 100%|███████████████████████████████| 16/16 [00:00<00:00, 37.39it/s]\n",
      "Epoch 121 - loss: 0.3426 - accuracy: 0.8690: 100%|███████████████████████████████| 16/16 [00:00<00:00, 38.22it/s]\n"
     ]
    },
    {
     "name": "stdout",
     "output_type": "stream",
     "text": [
      "----------\n"
     ]
    },
    {
     "name": "stderr",
     "output_type": "stream",
     "text": [
      "Epoch 122 - loss: 0.2233 - accuracy: 0.9080: 100%|███████████████████████████████| 16/16 [00:00<00:00, 33.93it/s]\n",
      "Epoch 122 - loss: 0.3410 - accuracy: 0.8850: 100%|███████████████████████████████| 16/16 [00:00<00:00, 41.54it/s]\n"
     ]
    },
    {
     "name": "stdout",
     "output_type": "stream",
     "text": [
      "----------\n"
     ]
    },
    {
     "name": "stderr",
     "output_type": "stream",
     "text": [
      "Epoch 123 - loss: 0.2117 - accuracy: 0.9100: 100%|███████████████████████████████| 16/16 [00:00<00:00, 32.62it/s]\n",
      "Epoch 123 - loss: 0.3383 - accuracy: 0.8730: 100%|███████████████████████████████| 16/16 [00:00<00:00, 40.26it/s]\n"
     ]
    },
    {
     "name": "stdout",
     "output_type": "stream",
     "text": [
      "----------\n"
     ]
    },
    {
     "name": "stderr",
     "output_type": "stream",
     "text": [
      "Epoch 124 - loss: 0.2153 - accuracy: 0.9100: 100%|███████████████████████████████| 16/16 [00:00<00:00, 42.97it/s]\n",
      "Epoch 124 - loss: 0.3395 - accuracy: 0.8930: 100%|███████████████████████████████| 16/16 [00:00<00:00, 53.24it/s]\n"
     ]
    },
    {
     "name": "stdout",
     "output_type": "stream",
     "text": [
      "----------\n"
     ]
    },
    {
     "name": "stderr",
     "output_type": "stream",
     "text": [
      "Epoch 125 - loss: 0.2073 - accuracy: 0.9150: 100%|███████████████████████████████| 16/16 [00:00<00:00, 38.74it/s]\n",
      "Epoch 125 - loss: 0.3226 - accuracy: 0.8910: 100%|███████████████████████████████| 16/16 [00:00<00:00, 58.04it/s]\n"
     ]
    },
    {
     "name": "stdout",
     "output_type": "stream",
     "text": [
      "----------\n"
     ]
    },
    {
     "name": "stderr",
     "output_type": "stream",
     "text": [
      "Epoch 126 - loss: 0.2155 - accuracy: 0.8970: 100%|███████████████████████████████| 16/16 [00:00<00:00, 49.72it/s]\n",
      "Epoch 126 - loss: 0.3569 - accuracy: 0.8750: 100%|███████████████████████████████| 16/16 [00:00<00:00, 63.83it/s]\n"
     ]
    },
    {
     "name": "stdout",
     "output_type": "stream",
     "text": [
      "----------\n"
     ]
    },
    {
     "name": "stderr",
     "output_type": "stream",
     "text": [
      "Epoch 127 - loss: 0.2003 - accuracy: 0.9140: 100%|███████████████████████████████| 16/16 [00:00<00:00, 52.13it/s]\n",
      "Epoch 127 - loss: 0.3152 - accuracy: 0.8960: 100%|███████████████████████████████| 16/16 [00:00<00:00, 45.50it/s]\n"
     ]
    },
    {
     "name": "stdout",
     "output_type": "stream",
     "text": [
      "----------\n"
     ]
    },
    {
     "name": "stderr",
     "output_type": "stream",
     "text": [
      "Epoch 128 - loss: 0.2035 - accuracy: 0.9180: 100%|███████████████████████████████| 16/16 [00:00<00:00, 50.52it/s]\n",
      "Epoch 128 - loss: 0.3500 - accuracy: 0.8890: 100%|███████████████████████████████| 16/16 [00:00<00:00, 58.12it/s]\n"
     ]
    },
    {
     "name": "stdout",
     "output_type": "stream",
     "text": [
      "----------\n"
     ]
    },
    {
     "name": "stderr",
     "output_type": "stream",
     "text": [
      "Epoch 129 - loss: 0.2021 - accuracy: 0.9140: 100%|███████████████████████████████| 16/16 [00:00<00:00, 51.03it/s]\n",
      "Epoch 129 - loss: 0.3495 - accuracy: 0.8760: 100%|███████████████████████████████| 16/16 [00:00<00:00, 61.42it/s]\n"
     ]
    },
    {
     "name": "stdout",
     "output_type": "stream",
     "text": [
      "----------\n"
     ]
    },
    {
     "name": "stderr",
     "output_type": "stream",
     "text": [
      "Epoch 130 - loss: 0.2067 - accuracy: 0.9020: 100%|███████████████████████████████| 16/16 [00:00<00:00, 47.39it/s]\n",
      "Epoch 130 - loss: 0.3509 - accuracy: 0.8780: 100%|███████████████████████████████| 16/16 [00:00<00:00, 55.42it/s]\n"
     ]
    },
    {
     "name": "stdout",
     "output_type": "stream",
     "text": [
      "----------\n"
     ]
    },
    {
     "name": "stderr",
     "output_type": "stream",
     "text": [
      "Epoch 131 - loss: 0.2038 - accuracy: 0.9120: 100%|███████████████████████████████| 16/16 [00:00<00:00, 38.27it/s]\n",
      "Epoch 131 - loss: 0.3558 - accuracy: 0.8740: 100%|███████████████████████████████| 16/16 [00:00<00:00, 60.16it/s]\n"
     ]
    },
    {
     "name": "stdout",
     "output_type": "stream",
     "text": [
      "----------\n"
     ]
    },
    {
     "name": "stderr",
     "output_type": "stream",
     "text": [
      "Epoch 132 - loss: 0.2007 - accuracy: 0.9180: 100%|███████████████████████████████| 16/16 [00:00<00:00, 44.62it/s]\n",
      "Epoch 132 - loss: 0.3376 - accuracy: 0.8870: 100%|███████████████████████████████| 16/16 [00:00<00:00, 53.40it/s]\n"
     ]
    },
    {
     "name": "stdout",
     "output_type": "stream",
     "text": [
      "----------\n"
     ]
    },
    {
     "name": "stderr",
     "output_type": "stream",
     "text": [
      "Epoch 133 - loss: 0.1955 - accuracy: 0.9160: 100%|███████████████████████████████| 16/16 [00:00<00:00, 43.91it/s]\n",
      "Epoch 133 - loss: 0.3538 - accuracy: 0.8810: 100%|███████████████████████████████| 16/16 [00:00<00:00, 54.29it/s]\n"
     ]
    },
    {
     "name": "stdout",
     "output_type": "stream",
     "text": [
      "----------\n"
     ]
    },
    {
     "name": "stderr",
     "output_type": "stream",
     "text": [
      "Epoch 134 - loss: 0.1977 - accuracy: 0.9130: 100%|███████████████████████████████| 16/16 [00:00<00:00, 42.42it/s]\n",
      "Epoch 134 - loss: 0.3321 - accuracy: 0.8920: 100%|███████████████████████████████| 16/16 [00:00<00:00, 54.92it/s]\n"
     ]
    },
    {
     "name": "stdout",
     "output_type": "stream",
     "text": [
      "----------\n"
     ]
    },
    {
     "name": "stderr",
     "output_type": "stream",
     "text": [
      "Epoch 135 - loss: 0.1925 - accuracy: 0.9180: 100%|███████████████████████████████| 16/16 [00:00<00:00, 39.18it/s]\n",
      "Epoch 135 - loss: 0.3245 - accuracy: 0.8930: 100%|███████████████████████████████| 16/16 [00:00<00:00, 62.86it/s]\n"
     ]
    },
    {
     "name": "stdout",
     "output_type": "stream",
     "text": [
      "----------\n"
     ]
    },
    {
     "name": "stderr",
     "output_type": "stream",
     "text": [
      "Epoch 136 - loss: 0.1918 - accuracy: 0.9210: 100%|███████████████████████████████| 16/16 [00:00<00:00, 53.09it/s]\n",
      "Epoch 136 - loss: 0.3168 - accuracy: 0.8990: 100%|███████████████████████████████| 16/16 [00:00<00:00, 63.18it/s]\n"
     ]
    },
    {
     "name": "stdout",
     "output_type": "stream",
     "text": [
      "----------\n"
     ]
    },
    {
     "name": "stderr",
     "output_type": "stream",
     "text": [
      "Epoch 137 - loss: 0.2182 - accuracy: 0.9070: 100%|███████████████████████████████| 16/16 [00:00<00:00, 50.54it/s]\n",
      "Epoch 137 - loss: 0.3746 - accuracy: 0.8640: 100%|███████████████████████████████| 16/16 [00:00<00:00, 56.59it/s]\n"
     ]
    },
    {
     "name": "stdout",
     "output_type": "stream",
     "text": [
      "----------\n"
     ]
    },
    {
     "name": "stderr",
     "output_type": "stream",
     "text": [
      "Epoch 138 - loss: 0.2001 - accuracy: 0.9060: 100%|███████████████████████████████| 16/16 [00:00<00:00, 46.58it/s]\n",
      "Epoch 138 - loss: 0.3221 - accuracy: 0.8990: 100%|███████████████████████████████| 16/16 [00:00<00:00, 58.55it/s]\n"
     ]
    },
    {
     "name": "stdout",
     "output_type": "stream",
     "text": [
      "----------\n"
     ]
    },
    {
     "name": "stderr",
     "output_type": "stream",
     "text": [
      "Epoch 139 - loss: 0.1926 - accuracy: 0.9200: 100%|███████████████████████████████| 16/16 [00:00<00:00, 43.81it/s]\n",
      "Epoch 139 - loss: 0.3377 - accuracy: 0.8970: 100%|███████████████████████████████| 16/16 [00:00<00:00, 50.05it/s]\n"
     ]
    },
    {
     "name": "stdout",
     "output_type": "stream",
     "text": [
      "----------\n"
     ]
    },
    {
     "name": "stderr",
     "output_type": "stream",
     "text": [
      "Epoch 140 - loss: 0.2040 - accuracy: 0.9170: 100%|███████████████████████████████| 16/16 [00:00<00:00, 43.04it/s]\n",
      "Epoch 140 - loss: 0.3211 - accuracy: 0.8990: 100%|███████████████████████████████| 16/16 [00:00<00:00, 56.87it/s]\n"
     ]
    },
    {
     "name": "stdout",
     "output_type": "stream",
     "text": [
      "----------\n"
     ]
    },
    {
     "name": "stderr",
     "output_type": "stream",
     "text": [
      "Epoch 141 - loss: 0.1985 - accuracy: 0.9100: 100%|███████████████████████████████| 16/16 [00:00<00:00, 39.33it/s]\n",
      "Epoch 141 - loss: 0.3510 - accuracy: 0.8720: 100%|███████████████████████████████| 16/16 [00:00<00:00, 52.16it/s]\n"
     ]
    },
    {
     "name": "stdout",
     "output_type": "stream",
     "text": [
      "----------\n"
     ]
    },
    {
     "name": "stderr",
     "output_type": "stream",
     "text": [
      "Epoch 142 - loss: 0.2017 - accuracy: 0.9160: 100%|███████████████████████████████| 16/16 [00:00<00:00, 43.68it/s]\n",
      "Epoch 142 - loss: 0.3306 - accuracy: 0.8930: 100%|███████████████████████████████| 16/16 [00:00<00:00, 52.45it/s]\n"
     ]
    },
    {
     "name": "stdout",
     "output_type": "stream",
     "text": [
      "----------\n"
     ]
    },
    {
     "name": "stderr",
     "output_type": "stream",
     "text": [
      "Epoch 143 - loss: 0.1973 - accuracy: 0.9140: 100%|███████████████████████████████| 16/16 [00:00<00:00, 42.26it/s]\n",
      "Epoch 143 - loss: 0.3453 - accuracy: 0.8680: 100%|███████████████████████████████| 16/16 [00:00<00:00, 50.71it/s]\n"
     ]
    },
    {
     "name": "stdout",
     "output_type": "stream",
     "text": [
      "----------\n"
     ]
    },
    {
     "name": "stderr",
     "output_type": "stream",
     "text": [
      "Epoch 144 - loss: 0.1942 - accuracy: 0.9120: 100%|███████████████████████████████| 16/16 [00:00<00:00, 41.76it/s]\n",
      "Epoch 144 - loss: 0.3384 - accuracy: 0.8960: 100%|███████████████████████████████| 16/16 [00:00<00:00, 57.24it/s]\n"
     ]
    },
    {
     "name": "stdout",
     "output_type": "stream",
     "text": [
      "----------\n"
     ]
    },
    {
     "name": "stderr",
     "output_type": "stream",
     "text": [
      "Epoch 145 - loss: 0.1916 - accuracy: 0.9140: 100%|███████████████████████████████| 16/16 [00:00<00:00, 50.59it/s]\n",
      "Epoch 145 - loss: 0.3294 - accuracy: 0.8870: 100%|███████████████████████████████| 16/16 [00:00<00:00, 59.20it/s]\n"
     ]
    },
    {
     "name": "stdout",
     "output_type": "stream",
     "text": [
      "----------\n"
     ]
    },
    {
     "name": "stderr",
     "output_type": "stream",
     "text": [
      "Epoch 146 - loss: 0.2023 - accuracy: 0.9160: 100%|███████████████████████████████| 16/16 [00:00<00:00, 49.71it/s]\n",
      "Epoch 146 - loss: 0.3683 - accuracy: 0.8680: 100%|███████████████████████████████| 16/16 [00:00<00:00, 55.27it/s]\n"
     ]
    },
    {
     "name": "stdout",
     "output_type": "stream",
     "text": [
      "----------\n"
     ]
    },
    {
     "name": "stderr",
     "output_type": "stream",
     "text": [
      "Epoch 147 - loss: 0.2140 - accuracy: 0.9000: 100%|███████████████████████████████| 16/16 [00:00<00:00, 47.71it/s]\n",
      "Epoch 147 - loss: 0.3387 - accuracy: 0.8980: 100%|███████████████████████████████| 16/16 [00:00<00:00, 58.34it/s]\n"
     ]
    },
    {
     "name": "stdout",
     "output_type": "stream",
     "text": [
      "----------\n"
     ]
    },
    {
     "name": "stderr",
     "output_type": "stream",
     "text": [
      "Epoch 148 - loss: 0.2027 - accuracy: 0.9120: 100%|███████████████████████████████| 16/16 [00:00<00:00, 50.23it/s]\n",
      "Epoch 148 - loss: 0.3859 - accuracy: 0.8620: 100%|███████████████████████████████| 16/16 [00:00<00:00, 57.06it/s]\n"
     ]
    },
    {
     "name": "stdout",
     "output_type": "stream",
     "text": [
      "----------\n"
     ]
    },
    {
     "name": "stderr",
     "output_type": "stream",
     "text": [
      "Epoch 149 - loss: 0.1915 - accuracy: 0.9260: 100%|███████████████████████████████| 16/16 [00:00<00:00, 53.02it/s]\n",
      "Epoch 149 - loss: 0.3268 - accuracy: 0.8900: 100%|███████████████████████████████| 16/16 [00:00<00:00, 58.02it/s]"
     ]
    },
    {
     "name": "stdout",
     "output_type": "stream",
     "text": [
      "----------\n"
     ]
    },
    {
     "name": "stderr",
     "output_type": "stream",
     "text": [
      "\n"
     ]
    }
   ],
   "source": [
    "# Tensoboard logger\n",
    "import time\n",
    "from src.supervised_ml import get_tensorboard_writer\n",
    "\n",
    "run_name = f'[256,256]/{str(int(time.time()))}'\n",
    "tensorboard_writer = get_tensorboard_writer(run_name)\n",
    "\n",
    "# Adam is always a safe choice\n",
    "import torch.optim as optim\n",
    "optimizer = optim.Adam(model.parameters())\n",
    "\n",
    "from src.supervised_ml import get_train_val_loop\n",
    "train_val_loop = get_train_val_loop(model, criterion, optimizer, tensorboard_writer)\n",
    "\n",
    "N_EPOCHS = 150\n",
    "\n",
    "for epoch in range(N_EPOCHS):\n",
    "    # train\n",
    "    train_val_loop(is_train=True, dataloader=train_dataloader, epoch=epoch)\n",
    "\n",
    "    with torch.no_grad():\n",
    "        # validate\n",
    "        train_val_loop(is_train=False, dataloader=test_dataloader, epoch=epoch)\n",
    "\n",
    "    print('----------')"
   ]
  },
  {
   "cell_type": "markdown",
   "id": "2378f564",
   "metadata": {},
   "source": [
    "-------"
   ]
  },
  {
   "cell_type": "markdown",
   "id": "a2b6e995",
   "metadata": {},
   "source": [
    "## Model 4: Neural network with 3 hidden layers"
   ]
  },
  {
   "cell_type": "markdown",
   "id": "3622fe82",
   "metadata": {},
   "source": [
    "### Model architecture 📐🏗️"
   ]
  },
  {
   "cell_type": "code",
   "execution_count": 36,
   "id": "4f9226ff",
   "metadata": {},
   "outputs": [
    {
     "name": "stdout",
     "output_type": "stream",
     "text": [
      "133,378 parameters\n",
      "Sequential(\n",
      "  (0): Linear(in_features=4, out_features=256, bias=True)\n",
      "  (1): ReLU()\n",
      "  (2): Linear(in_features=256, out_features=256, bias=True)\n",
      "  (3): ReLU()\n",
      "  (4): Linear(in_features=256, out_features=256, bias=True)\n",
      "  (5): ReLU()\n",
      "  (6): Linear(in_features=256, out_features=2, bias=True)\n",
      ")\n"
     ]
    }
   ],
   "source": [
    "model = get_model(input_dim=4, output_dim=2,\n",
    "                  hidden_layers=[256, 256, 256])\n",
    "device = torch.device(\"cuda\" if torch.cuda.is_available() else \"cpu\")\n",
    "model.to(device)\n",
    "\n",
    "print(f'{count_parameters(model):,} parameters')\n",
    "print(model)"
   ]
  },
  {
   "cell_type": "markdown",
   "id": "3db31b2d",
   "metadata": {},
   "source": [
    "![image](https://github.com/Paulescu/hands-on-rl/blob/main/03_cart_pole/images/nn_3_hidden_layers_sml.jpg?raw=true)"
   ]
  },
  {
   "cell_type": "markdown",
   "id": "d78b077f",
   "metadata": {},
   "source": [
    "### Train loop 🏋️"
   ]
  },
  {
   "cell_type": "code",
   "execution_count": 37,
   "id": "1f4c9ddb",
   "metadata": {
    "scrolled": true
   },
   "outputs": [
    {
     "name": "stderr",
     "output_type": "stream",
     "text": [
      "Epoch 0 - loss: 0.6693 - accuracy: 0.5850: 100%|█████████████████████████████████| 16/16 [00:00<00:00, 82.02it/s]\n",
      "Epoch 0 - loss: 0.6579 - accuracy: 0.6060: 100%|████████████████████████████████| 16/16 [00:00<00:00, 104.80it/s]\n"
     ]
    },
    {
     "name": "stdout",
     "output_type": "stream",
     "text": [
      "----------\n"
     ]
    },
    {
     "name": "stderr",
     "output_type": "stream",
     "text": [
      "Epoch 1 - loss: 0.6367 - accuracy: 0.6530: 100%|█████████████████████████████████| 16/16 [00:00<00:00, 82.12it/s]\n",
      "Epoch 1 - loss: 0.6200 - accuracy: 0.6740: 100%|████████████████████████████████| 16/16 [00:00<00:00, 106.11it/s]\n"
     ]
    },
    {
     "name": "stdout",
     "output_type": "stream",
     "text": [
      "----------\n"
     ]
    },
    {
     "name": "stderr",
     "output_type": "stream",
     "text": [
      "Epoch 2 - loss: 0.6234 - accuracy: 0.6610: 100%|█████████████████████████████████| 16/16 [00:00<00:00, 80.26it/s]\n",
      "Epoch 2 - loss: 0.5956 - accuracy: 0.7050: 100%|█████████████████████████████████| 16/16 [00:00<00:00, 91.97it/s]\n"
     ]
    },
    {
     "name": "stdout",
     "output_type": "stream",
     "text": [
      "----------\n"
     ]
    },
    {
     "name": "stderr",
     "output_type": "stream",
     "text": [
      "Epoch 3 - loss: 0.5958 - accuracy: 0.6820: 100%|█████████████████████████████████| 16/16 [00:00<00:00, 68.22it/s]\n",
      "Epoch 3 - loss: 0.5786 - accuracy: 0.7130: 100%|█████████████████████████████████| 16/16 [00:00<00:00, 79.00it/s]\n"
     ]
    },
    {
     "name": "stdout",
     "output_type": "stream",
     "text": [
      "----------\n"
     ]
    },
    {
     "name": "stderr",
     "output_type": "stream",
     "text": [
      "Epoch 4 - loss: 0.5903 - accuracy: 0.6940: 100%|█████████████████████████████████| 16/16 [00:00<00:00, 79.47it/s]\n",
      "Epoch 4 - loss: 0.5524 - accuracy: 0.7000: 100%|█████████████████████████████████| 16/16 [00:00<00:00, 66.52it/s]\n"
     ]
    },
    {
     "name": "stdout",
     "output_type": "stream",
     "text": [
      "----------\n"
     ]
    },
    {
     "name": "stderr",
     "output_type": "stream",
     "text": [
      "Epoch 5 - loss: 0.5433 - accuracy: 0.7190: 100%|█████████████████████████████████| 16/16 [00:00<00:00, 53.69it/s]\n",
      "Epoch 5 - loss: 0.5495 - accuracy: 0.7130: 100%|█████████████████████████████████| 16/16 [00:00<00:00, 58.62it/s]\n"
     ]
    },
    {
     "name": "stdout",
     "output_type": "stream",
     "text": [
      "----------\n"
     ]
    },
    {
     "name": "stderr",
     "output_type": "stream",
     "text": [
      "Epoch 6 - loss: 0.5270 - accuracy: 0.7500: 100%|█████████████████████████████████| 16/16 [00:00<00:00, 61.98it/s]\n",
      "Epoch 6 - loss: 0.5143 - accuracy: 0.7320: 100%|█████████████████████████████████| 16/16 [00:00<00:00, 84.84it/s]\n"
     ]
    },
    {
     "name": "stdout",
     "output_type": "stream",
     "text": [
      "----------\n"
     ]
    },
    {
     "name": "stderr",
     "output_type": "stream",
     "text": [
      "Epoch 7 - loss: 0.5175 - accuracy: 0.7340: 100%|█████████████████████████████████| 16/16 [00:00<00:00, 63.71it/s]\n",
      "Epoch 7 - loss: 0.5212 - accuracy: 0.7250: 100%|█████████████████████████████████| 16/16 [00:00<00:00, 94.26it/s]\n"
     ]
    },
    {
     "name": "stdout",
     "output_type": "stream",
     "text": [
      "----------\n"
     ]
    },
    {
     "name": "stderr",
     "output_type": "stream",
     "text": [
      "Epoch 8 - loss: 0.5028 - accuracy: 0.7410: 100%|█████████████████████████████████| 16/16 [00:00<00:00, 47.00it/s]\n",
      "Epoch 8 - loss: 0.4826 - accuracy: 0.7590: 100%|█████████████████████████████████| 16/16 [00:00<00:00, 85.38it/s]\n"
     ]
    },
    {
     "name": "stdout",
     "output_type": "stream",
     "text": [
      "----------\n"
     ]
    },
    {
     "name": "stderr",
     "output_type": "stream",
     "text": [
      "Epoch 9 - loss: 0.4962 - accuracy: 0.7490: 100%|█████████████████████████████████| 16/16 [00:00<00:00, 70.49it/s]\n",
      "Epoch 9 - loss: 0.4687 - accuracy: 0.7660: 100%|█████████████████████████████████| 16/16 [00:00<00:00, 95.43it/s]\n"
     ]
    },
    {
     "name": "stdout",
     "output_type": "stream",
     "text": [
      "----------\n"
     ]
    },
    {
     "name": "stderr",
     "output_type": "stream",
     "text": [
      "Epoch 10 - loss: 0.4775 - accuracy: 0.7690: 100%|████████████████████████████████| 16/16 [00:00<00:00, 70.94it/s]\n",
      "Epoch 10 - loss: 0.4653 - accuracy: 0.7960: 100%|████████████████████████████████| 16/16 [00:00<00:00, 96.24it/s]\n"
     ]
    },
    {
     "name": "stdout",
     "output_type": "stream",
     "text": [
      "----------\n"
     ]
    },
    {
     "name": "stderr",
     "output_type": "stream",
     "text": [
      "Epoch 11 - loss: 0.4349 - accuracy: 0.7990: 100%|████████████████████████████████| 16/16 [00:00<00:00, 71.36it/s]\n",
      "Epoch 11 - loss: 0.4604 - accuracy: 0.7970: 100%|████████████████████████████████| 16/16 [00:00<00:00, 94.92it/s]\n"
     ]
    },
    {
     "name": "stdout",
     "output_type": "stream",
     "text": [
      "----------\n"
     ]
    },
    {
     "name": "stderr",
     "output_type": "stream",
     "text": [
      "Epoch 12 - loss: 0.4413 - accuracy: 0.8040: 100%|████████████████████████████████| 16/16 [00:00<00:00, 71.57it/s]\n",
      "Epoch 12 - loss: 0.4453 - accuracy: 0.8010: 100%|████████████████████████████████| 16/16 [00:00<00:00, 94.26it/s]\n"
     ]
    },
    {
     "name": "stdout",
     "output_type": "stream",
     "text": [
      "----------\n"
     ]
    },
    {
     "name": "stderr",
     "output_type": "stream",
     "text": [
      "Epoch 13 - loss: 0.4171 - accuracy: 0.8160: 100%|████████████████████████████████| 16/16 [00:00<00:00, 64.79it/s]\n",
      "Epoch 13 - loss: 0.4133 - accuracy: 0.8130: 100%|████████████████████████████████| 16/16 [00:00<00:00, 84.39it/s]\n"
     ]
    },
    {
     "name": "stdout",
     "output_type": "stream",
     "text": [
      "----------\n"
     ]
    },
    {
     "name": "stderr",
     "output_type": "stream",
     "text": [
      "Epoch 14 - loss: 0.4166 - accuracy: 0.8040: 100%|████████████████████████████████| 16/16 [00:00<00:00, 58.43it/s]\n",
      "Epoch 14 - loss: 0.4370 - accuracy: 0.7960: 100%|████████████████████████████████| 16/16 [00:00<00:00, 87.20it/s]\n"
     ]
    },
    {
     "name": "stdout",
     "output_type": "stream",
     "text": [
      "----------\n"
     ]
    },
    {
     "name": "stderr",
     "output_type": "stream",
     "text": [
      "Epoch 15 - loss: 0.4750 - accuracy: 0.7650: 100%|████████████████████████████████| 16/16 [00:00<00:00, 59.33it/s]\n",
      "Epoch 15 - loss: 0.4724 - accuracy: 0.7390: 100%|████████████████████████████████| 16/16 [00:00<00:00, 85.78it/s]\n"
     ]
    },
    {
     "name": "stdout",
     "output_type": "stream",
     "text": [
      "----------\n"
     ]
    },
    {
     "name": "stderr",
     "output_type": "stream",
     "text": [
      "Epoch 16 - loss: 0.4156 - accuracy: 0.8020: 100%|████████████████████████████████| 16/16 [00:00<00:00, 63.05it/s]\n",
      "Epoch 16 - loss: 0.4020 - accuracy: 0.8250: 100%|████████████████████████████████| 16/16 [00:00<00:00, 84.81it/s]\n"
     ]
    },
    {
     "name": "stdout",
     "output_type": "stream",
     "text": [
      "----------\n"
     ]
    },
    {
     "name": "stderr",
     "output_type": "stream",
     "text": [
      "Epoch 17 - loss: 0.3969 - accuracy: 0.8170: 100%|████████████████████████████████| 16/16 [00:00<00:00, 57.70it/s]\n",
      "Epoch 17 - loss: 0.3885 - accuracy: 0.8280: 100%|████████████████████████████████| 16/16 [00:00<00:00, 63.19it/s]\n"
     ]
    },
    {
     "name": "stdout",
     "output_type": "stream",
     "text": [
      "----------\n"
     ]
    },
    {
     "name": "stderr",
     "output_type": "stream",
     "text": [
      "Epoch 18 - loss: 0.3801 - accuracy: 0.8270: 100%|████████████████████████████████| 16/16 [00:00<00:00, 34.19it/s]\n",
      "Epoch 18 - loss: 0.3945 - accuracy: 0.8380: 100%|████████████████████████████████| 16/16 [00:00<00:00, 62.59it/s]\n"
     ]
    },
    {
     "name": "stdout",
     "output_type": "stream",
     "text": [
      "----------\n"
     ]
    },
    {
     "name": "stderr",
     "output_type": "stream",
     "text": [
      "Epoch 19 - loss: 0.3664 - accuracy: 0.8420: 100%|████████████████████████████████| 16/16 [00:00<00:00, 62.21it/s]\n",
      "Epoch 19 - loss: 0.3929 - accuracy: 0.8390: 100%|████████████████████████████████| 16/16 [00:00<00:00, 85.55it/s]\n"
     ]
    },
    {
     "name": "stdout",
     "output_type": "stream",
     "text": [
      "----------\n"
     ]
    },
    {
     "name": "stderr",
     "output_type": "stream",
     "text": [
      "Epoch 20 - loss: 0.3796 - accuracy: 0.8330: 100%|████████████████████████████████| 16/16 [00:00<00:00, 65.82it/s]\n",
      "Epoch 20 - loss: 0.3850 - accuracy: 0.8280: 100%|████████████████████████████████| 16/16 [00:00<00:00, 75.88it/s]\n"
     ]
    },
    {
     "name": "stdout",
     "output_type": "stream",
     "text": [
      "----------\n"
     ]
    },
    {
     "name": "stderr",
     "output_type": "stream",
     "text": [
      "Epoch 21 - loss: 0.3455 - accuracy: 0.8610: 100%|████████████████████████████████| 16/16 [00:00<00:00, 47.38it/s]\n",
      "Epoch 21 - loss: 0.4019 - accuracy: 0.8220: 100%|████████████████████████████████| 16/16 [00:00<00:00, 76.65it/s]\n"
     ]
    },
    {
     "name": "stdout",
     "output_type": "stream",
     "text": [
      "----------\n"
     ]
    },
    {
     "name": "stderr",
     "output_type": "stream",
     "text": [
      "Epoch 22 - loss: 0.3608 - accuracy: 0.8450: 100%|████████████████████████████████| 16/16 [00:00<00:00, 59.56it/s]\n",
      "Epoch 22 - loss: 0.3982 - accuracy: 0.8130: 100%|████████████████████████████████| 16/16 [00:00<00:00, 86.34it/s]\n"
     ]
    },
    {
     "name": "stdout",
     "output_type": "stream",
     "text": [
      "----------\n"
     ]
    },
    {
     "name": "stderr",
     "output_type": "stream",
     "text": [
      "Epoch 23 - loss: 0.3522 - accuracy: 0.8500: 100%|████████████████████████████████| 16/16 [00:00<00:00, 48.06it/s]\n",
      "Epoch 23 - loss: 0.3722 - accuracy: 0.8450: 100%|████████████████████████████████| 16/16 [00:00<00:00, 55.38it/s]\n"
     ]
    },
    {
     "name": "stdout",
     "output_type": "stream",
     "text": [
      "----------\n"
     ]
    },
    {
     "name": "stderr",
     "output_type": "stream",
     "text": [
      "Epoch 24 - loss: 0.3552 - accuracy: 0.8280: 100%|████████████████████████████████| 16/16 [00:00<00:00, 42.10it/s]\n",
      "Epoch 24 - loss: 0.3795 - accuracy: 0.8290: 100%|████████████████████████████████| 16/16 [00:00<00:00, 83.89it/s]\n"
     ]
    },
    {
     "name": "stdout",
     "output_type": "stream",
     "text": [
      "----------\n"
     ]
    },
    {
     "name": "stderr",
     "output_type": "stream",
     "text": [
      "Epoch 25 - loss: 0.3452 - accuracy: 0.8510: 100%|████████████████████████████████| 16/16 [00:00<00:00, 47.44it/s]\n",
      "Epoch 25 - loss: 0.4226 - accuracy: 0.8080: 100%|████████████████████████████████| 16/16 [00:00<00:00, 40.15it/s]\n"
     ]
    },
    {
     "name": "stdout",
     "output_type": "stream",
     "text": [
      "----------\n"
     ]
    },
    {
     "name": "stderr",
     "output_type": "stream",
     "text": [
      "Epoch 26 - loss: 0.3509 - accuracy: 0.8340: 100%|████████████████████████████████| 16/16 [00:00<00:00, 46.04it/s]\n",
      "Epoch 26 - loss: 0.3551 - accuracy: 0.8500: 100%|████████████████████████████████| 16/16 [00:00<00:00, 72.25it/s]\n"
     ]
    },
    {
     "name": "stdout",
     "output_type": "stream",
     "text": [
      "----------\n"
     ]
    },
    {
     "name": "stderr",
     "output_type": "stream",
     "text": [
      "Epoch 27 - loss: 0.3358 - accuracy: 0.8510: 100%|████████████████████████████████| 16/16 [00:00<00:00, 54.21it/s]\n",
      "Epoch 27 - loss: 0.3734 - accuracy: 0.8400: 100%|████████████████████████████████| 16/16 [00:00<00:00, 36.47it/s]\n"
     ]
    },
    {
     "name": "stdout",
     "output_type": "stream",
     "text": [
      "----------\n"
     ]
    },
    {
     "name": "stderr",
     "output_type": "stream",
     "text": [
      "Epoch 28 - loss: 0.3483 - accuracy: 0.8400: 100%|████████████████████████████████| 16/16 [00:00<00:00, 32.72it/s]\n",
      "Epoch 28 - loss: 0.4573 - accuracy: 0.7710: 100%|████████████████████████████████| 16/16 [00:00<00:00, 51.99it/s]\n"
     ]
    },
    {
     "name": "stdout",
     "output_type": "stream",
     "text": [
      "----------\n"
     ]
    },
    {
     "name": "stderr",
     "output_type": "stream",
     "text": [
      "Epoch 29 - loss: 0.3354 - accuracy: 0.8490: 100%|████████████████████████████████| 16/16 [00:00<00:00, 51.43it/s]\n",
      "Epoch 29 - loss: 0.3536 - accuracy: 0.8490: 100%|████████████████████████████████| 16/16 [00:00<00:00, 31.96it/s]\n"
     ]
    },
    {
     "name": "stdout",
     "output_type": "stream",
     "text": [
      "----------\n"
     ]
    },
    {
     "name": "stderr",
     "output_type": "stream",
     "text": [
      "Epoch 30 - loss: 0.3127 - accuracy: 0.8570: 100%|████████████████████████████████| 16/16 [00:00<00:00, 31.73it/s]\n",
      "Epoch 30 - loss: 0.3755 - accuracy: 0.8300: 100%|████████████████████████████████| 16/16 [00:00<00:00, 57.07it/s]\n"
     ]
    },
    {
     "name": "stdout",
     "output_type": "stream",
     "text": [
      "----------\n"
     ]
    },
    {
     "name": "stderr",
     "output_type": "stream",
     "text": [
      "Epoch 31 - loss: 0.3133 - accuracy: 0.8660: 100%|████████████████████████████████| 16/16 [00:00<00:00, 53.54it/s]\n",
      "Epoch 31 - loss: 0.3685 - accuracy: 0.8380: 100%|████████████████████████████████| 16/16 [00:00<00:00, 67.69it/s]\n"
     ]
    },
    {
     "name": "stdout",
     "output_type": "stream",
     "text": [
      "----------\n"
     ]
    },
    {
     "name": "stderr",
     "output_type": "stream",
     "text": [
      "Epoch 32 - loss: 0.3007 - accuracy: 0.8690: 100%|████████████████████████████████| 16/16 [00:00<00:00, 52.09it/s]\n",
      "Epoch 32 - loss: 0.3734 - accuracy: 0.8340: 100%|████████████████████████████████| 16/16 [00:00<00:00, 77.87it/s]\n"
     ]
    },
    {
     "name": "stdout",
     "output_type": "stream",
     "text": [
      "----------\n"
     ]
    },
    {
     "name": "stderr",
     "output_type": "stream",
     "text": [
      "Epoch 33 - loss: 0.3048 - accuracy: 0.8690: 100%|████████████████████████████████| 16/16 [00:00<00:00, 47.70it/s]\n",
      "Epoch 33 - loss: 0.3479 - accuracy: 0.8600: 100%|████████████████████████████████| 16/16 [00:00<00:00, 75.68it/s]\n"
     ]
    },
    {
     "name": "stdout",
     "output_type": "stream",
     "text": [
      "----------\n"
     ]
    },
    {
     "name": "stderr",
     "output_type": "stream",
     "text": [
      "Epoch 34 - loss: 0.2927 - accuracy: 0.8850: 100%|████████████████████████████████| 16/16 [00:00<00:00, 55.01it/s]\n",
      "Epoch 34 - loss: 0.3493 - accuracy: 0.8490: 100%|████████████████████████████████| 16/16 [00:00<00:00, 49.76it/s]\n"
     ]
    },
    {
     "name": "stdout",
     "output_type": "stream",
     "text": [
      "----------\n"
     ]
    },
    {
     "name": "stderr",
     "output_type": "stream",
     "text": [
      "Epoch 35 - loss: 0.2849 - accuracy: 0.8750: 100%|████████████████████████████████| 16/16 [00:00<00:00, 46.49it/s]\n",
      "Epoch 35 - loss: 0.3313 - accuracy: 0.8640: 100%|████████████████████████████████| 16/16 [00:00<00:00, 62.49it/s]\n"
     ]
    },
    {
     "name": "stdout",
     "output_type": "stream",
     "text": [
      "----------\n"
     ]
    },
    {
     "name": "stderr",
     "output_type": "stream",
     "text": [
      "Epoch 36 - loss: 0.2857 - accuracy: 0.8770: 100%|████████████████████████████████| 16/16 [00:00<00:00, 40.05it/s]\n",
      "Epoch 36 - loss: 0.3340 - accuracy: 0.8590: 100%|████████████████████████████████| 16/16 [00:00<00:00, 53.57it/s]\n"
     ]
    },
    {
     "name": "stdout",
     "output_type": "stream",
     "text": [
      "----------\n"
     ]
    },
    {
     "name": "stderr",
     "output_type": "stream",
     "text": [
      "Epoch 37 - loss: 0.2913 - accuracy: 0.8720: 100%|████████████████████████████████| 16/16 [00:00<00:00, 54.08it/s]\n",
      "Epoch 37 - loss: 0.3823 - accuracy: 0.8320: 100%|████████████████████████████████| 16/16 [00:00<00:00, 74.48it/s]\n"
     ]
    },
    {
     "name": "stdout",
     "output_type": "stream",
     "text": [
      "----------\n"
     ]
    },
    {
     "name": "stderr",
     "output_type": "stream",
     "text": [
      "Epoch 38 - loss: 0.3813 - accuracy: 0.8230: 100%|████████████████████████████████| 16/16 [00:00<00:00, 45.31it/s]\n",
      "Epoch 38 - loss: 0.4845 - accuracy: 0.7880: 100%|████████████████████████████████| 16/16 [00:00<00:00, 44.18it/s]\n"
     ]
    },
    {
     "name": "stdout",
     "output_type": "stream",
     "text": [
      "----------\n"
     ]
    },
    {
     "name": "stderr",
     "output_type": "stream",
     "text": [
      "Epoch 39 - loss: 0.3211 - accuracy: 0.8470: 100%|████████████████████████████████| 16/16 [00:00<00:00, 34.80it/s]\n",
      "Epoch 39 - loss: 0.3285 - accuracy: 0.8630: 100%|████████████████████████████████| 16/16 [00:00<00:00, 51.12it/s]\n"
     ]
    },
    {
     "name": "stdout",
     "output_type": "stream",
     "text": [
      "----------\n"
     ]
    },
    {
     "name": "stderr",
     "output_type": "stream",
     "text": [
      "Epoch 40 - loss: 0.2777 - accuracy: 0.8800: 100%|████████████████████████████████| 16/16 [00:00<00:00, 51.04it/s]\n",
      "Epoch 40 - loss: 0.3262 - accuracy: 0.8710: 100%|████████████████████████████████| 16/16 [00:00<00:00, 45.05it/s]\n"
     ]
    },
    {
     "name": "stdout",
     "output_type": "stream",
     "text": [
      "----------\n"
     ]
    },
    {
     "name": "stderr",
     "output_type": "stream",
     "text": [
      "Epoch 41 - loss: 0.2849 - accuracy: 0.8820: 100%|████████████████████████████████| 16/16 [00:00<00:00, 50.38it/s]\n",
      "Epoch 41 - loss: 0.3270 - accuracy: 0.8690: 100%|████████████████████████████████| 16/16 [00:00<00:00, 59.82it/s]\n"
     ]
    },
    {
     "name": "stdout",
     "output_type": "stream",
     "text": [
      "----------\n"
     ]
    },
    {
     "name": "stderr",
     "output_type": "stream",
     "text": [
      "Epoch 42 - loss: 0.2794 - accuracy: 0.8740: 100%|████████████████████████████████| 16/16 [00:00<00:00, 38.78it/s]\n",
      "Epoch 42 - loss: 0.3989 - accuracy: 0.8320: 100%|████████████████████████████████| 16/16 [00:00<00:00, 57.70it/s]\n"
     ]
    },
    {
     "name": "stdout",
     "output_type": "stream",
     "text": [
      "----------\n"
     ]
    },
    {
     "name": "stderr",
     "output_type": "stream",
     "text": [
      "Epoch 43 - loss: 0.2766 - accuracy: 0.8820: 100%|████████████████████████████████| 16/16 [00:00<00:00, 47.16it/s]\n",
      "Epoch 43 - loss: 0.4365 - accuracy: 0.8150: 100%|████████████████████████████████| 16/16 [00:00<00:00, 69.76it/s]\n"
     ]
    },
    {
     "name": "stdout",
     "output_type": "stream",
     "text": [
      "----------\n"
     ]
    },
    {
     "name": "stderr",
     "output_type": "stream",
     "text": [
      "Epoch 44 - loss: 0.2796 - accuracy: 0.8670: 100%|████████████████████████████████| 16/16 [00:00<00:00, 51.49it/s]\n",
      "Epoch 44 - loss: 0.3838 - accuracy: 0.8470: 100%|████████████████████████████████| 16/16 [00:00<00:00, 80.84it/s]\n"
     ]
    },
    {
     "name": "stdout",
     "output_type": "stream",
     "text": [
      "----------\n"
     ]
    },
    {
     "name": "stderr",
     "output_type": "stream",
     "text": [
      "Epoch 45 - loss: 0.3144 - accuracy: 0.8530: 100%|████████████████████████████████| 16/16 [00:00<00:00, 43.94it/s]\n",
      "Epoch 45 - loss: 0.3532 - accuracy: 0.8660: 100%|████████████████████████████████| 16/16 [00:00<00:00, 55.48it/s]\n"
     ]
    },
    {
     "name": "stdout",
     "output_type": "stream",
     "text": [
      "----------\n"
     ]
    },
    {
     "name": "stderr",
     "output_type": "stream",
     "text": [
      "Epoch 46 - loss: 0.2937 - accuracy: 0.8660: 100%|████████████████████████████████| 16/16 [00:00<00:00, 47.57it/s]\n",
      "Epoch 46 - loss: 0.3374 - accuracy: 0.8700: 100%|████████████████████████████████| 16/16 [00:00<00:00, 71.84it/s]\n"
     ]
    },
    {
     "name": "stdout",
     "output_type": "stream",
     "text": [
      "----------\n"
     ]
    },
    {
     "name": "stderr",
     "output_type": "stream",
     "text": [
      "Epoch 47 - loss: 0.2478 - accuracy: 0.8980: 100%|████████████████████████████████| 16/16 [00:00<00:00, 46.52it/s]\n",
      "Epoch 47 - loss: 0.3560 - accuracy: 0.8470: 100%|████████████████████████████████| 16/16 [00:00<00:00, 66.96it/s]\n"
     ]
    },
    {
     "name": "stdout",
     "output_type": "stream",
     "text": [
      "----------\n"
     ]
    },
    {
     "name": "stderr",
     "output_type": "stream",
     "text": [
      "Epoch 48 - loss: 0.2501 - accuracy: 0.8900: 100%|████████████████████████████████| 16/16 [00:00<00:00, 52.88it/s]\n",
      "Epoch 48 - loss: 0.3300 - accuracy: 0.8800: 100%|████████████████████████████████| 16/16 [00:00<00:00, 85.41it/s]\n"
     ]
    },
    {
     "name": "stdout",
     "output_type": "stream",
     "text": [
      "----------\n"
     ]
    },
    {
     "name": "stderr",
     "output_type": "stream",
     "text": [
      "Epoch 49 - loss: 0.2794 - accuracy: 0.8750: 100%|████████████████████████████████| 16/16 [00:00<00:00, 55.31it/s]\n",
      "Epoch 49 - loss: 0.3232 - accuracy: 0.8810: 100%|████████████████████████████████| 16/16 [00:00<00:00, 79.71it/s]\n"
     ]
    },
    {
     "name": "stdout",
     "output_type": "stream",
     "text": [
      "----------\n"
     ]
    },
    {
     "name": "stderr",
     "output_type": "stream",
     "text": [
      "Epoch 50 - loss: 0.2687 - accuracy: 0.8710: 100%|████████████████████████████████| 16/16 [00:00<00:00, 60.29it/s]\n",
      "Epoch 50 - loss: 0.3409 - accuracy: 0.8680: 100%|████████████████████████████████| 16/16 [00:00<00:00, 87.94it/s]\n"
     ]
    },
    {
     "name": "stdout",
     "output_type": "stream",
     "text": [
      "----------\n"
     ]
    },
    {
     "name": "stderr",
     "output_type": "stream",
     "text": [
      "Epoch 51 - loss: 0.2448 - accuracy: 0.9010: 100%|████████████████████████████████| 16/16 [00:00<00:00, 62.10it/s]\n",
      "Epoch 51 - loss: 0.3405 - accuracy: 0.8550: 100%|████████████████████████████████| 16/16 [00:00<00:00, 93.47it/s]\n"
     ]
    },
    {
     "name": "stdout",
     "output_type": "stream",
     "text": [
      "----------\n"
     ]
    },
    {
     "name": "stderr",
     "output_type": "stream",
     "text": [
      "Epoch 52 - loss: 0.2530 - accuracy: 0.8900: 100%|████████████████████████████████| 16/16 [00:00<00:00, 67.21it/s]\n",
      "Epoch 52 - loss: 0.3235 - accuracy: 0.8760: 100%|████████████████████████████████| 16/16 [00:00<00:00, 94.85it/s]\n"
     ]
    },
    {
     "name": "stdout",
     "output_type": "stream",
     "text": [
      "----------\n"
     ]
    },
    {
     "name": "stderr",
     "output_type": "stream",
     "text": [
      "Epoch 53 - loss: 0.2563 - accuracy: 0.8820: 100%|████████████████████████████████| 16/16 [00:00<00:00, 70.01it/s]\n",
      "Epoch 53 - loss: 0.3700 - accuracy: 0.8620: 100%|███████████████████████████████| 16/16 [00:00<00:00, 100.50it/s]\n"
     ]
    },
    {
     "name": "stdout",
     "output_type": "stream",
     "text": [
      "----------\n"
     ]
    },
    {
     "name": "stderr",
     "output_type": "stream",
     "text": [
      "Epoch 54 - loss: 0.2735 - accuracy: 0.8750: 100%|████████████████████████████████| 16/16 [00:00<00:00, 72.06it/s]\n",
      "Epoch 54 - loss: 0.3574 - accuracy: 0.8500: 100%|███████████████████████████████| 16/16 [00:00<00:00, 104.12it/s]\n"
     ]
    },
    {
     "name": "stdout",
     "output_type": "stream",
     "text": [
      "----------\n"
     ]
    },
    {
     "name": "stderr",
     "output_type": "stream",
     "text": [
      "Epoch 55 - loss: 0.2522 - accuracy: 0.8820: 100%|████████████████████████████████| 16/16 [00:00<00:00, 73.69it/s]\n",
      "Epoch 55 - loss: 0.3454 - accuracy: 0.8670: 100%|███████████████████████████████| 16/16 [00:00<00:00, 103.70it/s]\n"
     ]
    },
    {
     "name": "stdout",
     "output_type": "stream",
     "text": [
      "----------\n"
     ]
    },
    {
     "name": "stderr",
     "output_type": "stream",
     "text": [
      "Epoch 56 - loss: 0.2283 - accuracy: 0.9060: 100%|████████████████████████████████| 16/16 [00:00<00:00, 74.57it/s]\n",
      "Epoch 56 - loss: 0.3195 - accuracy: 0.8800: 100%|███████████████████████████████| 16/16 [00:00<00:00, 105.48it/s]\n"
     ]
    },
    {
     "name": "stdout",
     "output_type": "stream",
     "text": [
      "----------\n"
     ]
    },
    {
     "name": "stderr",
     "output_type": "stream",
     "text": [
      "Epoch 57 - loss: 0.2212 - accuracy: 0.9090: 100%|████████████████████████████████| 16/16 [00:00<00:00, 76.99it/s]\n",
      "Epoch 57 - loss: 0.3279 - accuracy: 0.8680: 100%|███████████████████████████████| 16/16 [00:00<00:00, 107.40it/s]\n"
     ]
    },
    {
     "name": "stdout",
     "output_type": "stream",
     "text": [
      "----------\n"
     ]
    },
    {
     "name": "stderr",
     "output_type": "stream",
     "text": [
      "Epoch 58 - loss: 0.2254 - accuracy: 0.9110: 100%|████████████████████████████████| 16/16 [00:00<00:00, 70.57it/s]\n",
      "Epoch 58 - loss: 0.3198 - accuracy: 0.8770: 100%|███████████████████████████████| 16/16 [00:00<00:00, 107.23it/s]\n"
     ]
    },
    {
     "name": "stdout",
     "output_type": "stream",
     "text": [
      "----------\n"
     ]
    },
    {
     "name": "stderr",
     "output_type": "stream",
     "text": [
      "Epoch 59 - loss: 0.2117 - accuracy: 0.9010: 100%|████████████████████████████████| 16/16 [00:00<00:00, 57.52it/s]\n",
      "Epoch 59 - loss: 0.3424 - accuracy: 0.8700: 100%|████████████████████████████████| 16/16 [00:00<00:00, 85.74it/s]\n"
     ]
    },
    {
     "name": "stdout",
     "output_type": "stream",
     "text": [
      "----------\n"
     ]
    },
    {
     "name": "stderr",
     "output_type": "stream",
     "text": [
      "Epoch 60 - loss: 0.2257 - accuracy: 0.9010: 100%|████████████████████████████████| 16/16 [00:00<00:00, 71.29it/s]\n",
      "Epoch 60 - loss: 0.3149 - accuracy: 0.8870: 100%|████████████████████████████████| 16/16 [00:00<00:00, 84.89it/s]\n"
     ]
    },
    {
     "name": "stdout",
     "output_type": "stream",
     "text": [
      "----------\n"
     ]
    },
    {
     "name": "stderr",
     "output_type": "stream",
     "text": [
      "Epoch 61 - loss: 0.2153 - accuracy: 0.9100: 100%|████████████████████████████████| 16/16 [00:00<00:00, 71.29it/s]\n",
      "Epoch 61 - loss: 0.3237 - accuracy: 0.8880: 100%|███████████████████████████████| 16/16 [00:00<00:00, 105.21it/s]\n"
     ]
    },
    {
     "name": "stdout",
     "output_type": "stream",
     "text": [
      "----------\n"
     ]
    },
    {
     "name": "stderr",
     "output_type": "stream",
     "text": [
      "Epoch 62 - loss: 0.2302 - accuracy: 0.8980: 100%|████████████████████████████████| 16/16 [00:00<00:00, 75.46it/s]\n",
      "Epoch 62 - loss: 0.3011 - accuracy: 0.8950: 100%|████████████████████████████████| 16/16 [00:00<00:00, 96.99it/s]\n"
     ]
    },
    {
     "name": "stdout",
     "output_type": "stream",
     "text": [
      "----------\n"
     ]
    },
    {
     "name": "stderr",
     "output_type": "stream",
     "text": [
      "Epoch 63 - loss: 0.2067 - accuracy: 0.9030: 100%|████████████████████████████████| 16/16 [00:00<00:00, 72.02it/s]\n",
      "Epoch 63 - loss: 0.3282 - accuracy: 0.8830: 100%|████████████████████████████████| 16/16 [00:00<00:00, 72.93it/s]\n"
     ]
    },
    {
     "name": "stdout",
     "output_type": "stream",
     "text": [
      "----------\n"
     ]
    },
    {
     "name": "stderr",
     "output_type": "stream",
     "text": [
      "Epoch 64 - loss: 0.2431 - accuracy: 0.8840: 100%|████████████████████████████████| 16/16 [00:00<00:00, 69.69it/s]\n",
      "Epoch 64 - loss: 0.3323 - accuracy: 0.8790: 100%|███████████████████████████████| 16/16 [00:00<00:00, 107.12it/s]\n"
     ]
    },
    {
     "name": "stdout",
     "output_type": "stream",
     "text": [
      "----------\n"
     ]
    },
    {
     "name": "stderr",
     "output_type": "stream",
     "text": [
      "Epoch 65 - loss: 0.2240 - accuracy: 0.8980: 100%|████████████████████████████████| 16/16 [00:00<00:00, 75.88it/s]\n",
      "Epoch 65 - loss: 0.3533 - accuracy: 0.8730: 100%|███████████████████████████████| 16/16 [00:00<00:00, 106.54it/s]\n"
     ]
    },
    {
     "name": "stdout",
     "output_type": "stream",
     "text": [
      "----------\n"
     ]
    },
    {
     "name": "stderr",
     "output_type": "stream",
     "text": [
      "Epoch 66 - loss: 0.2628 - accuracy: 0.8760: 100%|████████████████████████████████| 16/16 [00:00<00:00, 72.95it/s]\n",
      "Epoch 66 - loss: 0.3061 - accuracy: 0.8810: 100%|███████████████████████████████| 16/16 [00:00<00:00, 104.78it/s]\n"
     ]
    },
    {
     "name": "stdout",
     "output_type": "stream",
     "text": [
      "----------\n"
     ]
    },
    {
     "name": "stderr",
     "output_type": "stream",
     "text": [
      "Epoch 67 - loss: 0.2878 - accuracy: 0.8560: 100%|████████████████████████████████| 16/16 [00:00<00:00, 76.80it/s]\n",
      "Epoch 67 - loss: 0.3115 - accuracy: 0.8780: 100%|███████████████████████████████| 16/16 [00:00<00:00, 107.56it/s]\n"
     ]
    },
    {
     "name": "stdout",
     "output_type": "stream",
     "text": [
      "----------\n"
     ]
    },
    {
     "name": "stderr",
     "output_type": "stream",
     "text": [
      "Epoch 68 - loss: 0.2200 - accuracy: 0.8970: 100%|████████████████████████████████| 16/16 [00:00<00:00, 76.37it/s]\n",
      "Epoch 68 - loss: 0.3149 - accuracy: 0.8740: 100%|███████████████████████████████| 16/16 [00:00<00:00, 111.89it/s]\n"
     ]
    },
    {
     "name": "stdout",
     "output_type": "stream",
     "text": [
      "----------\n"
     ]
    },
    {
     "name": "stderr",
     "output_type": "stream",
     "text": [
      "Epoch 69 - loss: 0.2234 - accuracy: 0.9000: 100%|████████████████████████████████| 16/16 [00:00<00:00, 78.75it/s]\n",
      "Epoch 69 - loss: 0.3148 - accuracy: 0.8910: 100%|███████████████████████████████| 16/16 [00:00<00:00, 112.50it/s]\n"
     ]
    },
    {
     "name": "stdout",
     "output_type": "stream",
     "text": [
      "----------\n"
     ]
    },
    {
     "name": "stderr",
     "output_type": "stream",
     "text": [
      "Epoch 70 - loss: 0.1992 - accuracy: 0.9140: 100%|████████████████████████████████| 16/16 [00:00<00:00, 79.02it/s]\n",
      "Epoch 70 - loss: 0.3609 - accuracy: 0.8720: 100%|███████████████████████████████| 16/16 [00:00<00:00, 107.87it/s]\n"
     ]
    },
    {
     "name": "stdout",
     "output_type": "stream",
     "text": [
      "----------\n"
     ]
    },
    {
     "name": "stderr",
     "output_type": "stream",
     "text": [
      "Epoch 71 - loss: 0.2142 - accuracy: 0.9090: 100%|████████████████████████████████| 16/16 [00:00<00:00, 65.29it/s]\n",
      "Epoch 71 - loss: 0.3067 - accuracy: 0.8910: 100%|███████████████████████████████| 16/16 [00:00<00:00, 111.65it/s]\n"
     ]
    },
    {
     "name": "stdout",
     "output_type": "stream",
     "text": [
      "----------\n"
     ]
    },
    {
     "name": "stderr",
     "output_type": "stream",
     "text": [
      "Epoch 72 - loss: 0.2860 - accuracy: 0.8670: 100%|████████████████████████████████| 16/16 [00:00<00:00, 76.03it/s]\n",
      "Epoch 72 - loss: 0.3716 - accuracy: 0.8570: 100%|███████████████████████████████| 16/16 [00:00<00:00, 111.57it/s]\n"
     ]
    },
    {
     "name": "stdout",
     "output_type": "stream",
     "text": [
      "----------\n"
     ]
    },
    {
     "name": "stderr",
     "output_type": "stream",
     "text": [
      "Epoch 73 - loss: 0.2325 - accuracy: 0.8900: 100%|████████████████████████████████| 16/16 [00:00<00:00, 79.28it/s]\n",
      "Epoch 73 - loss: 0.3426 - accuracy: 0.8760: 100%|███████████████████████████████| 16/16 [00:00<00:00, 112.71it/s]\n"
     ]
    },
    {
     "name": "stdout",
     "output_type": "stream",
     "text": [
      "----------\n"
     ]
    },
    {
     "name": "stderr",
     "output_type": "stream",
     "text": [
      "Epoch 74 - loss: 0.2257 - accuracy: 0.8890: 100%|████████████████████████████████| 16/16 [00:00<00:00, 79.05it/s]\n",
      "Epoch 74 - loss: 0.3119 - accuracy: 0.8820: 100%|███████████████████████████████| 16/16 [00:00<00:00, 110.25it/s]\n"
     ]
    },
    {
     "name": "stdout",
     "output_type": "stream",
     "text": [
      "----------\n"
     ]
    },
    {
     "name": "stderr",
     "output_type": "stream",
     "text": [
      "Epoch 75 - loss: 0.2131 - accuracy: 0.8990: 100%|████████████████████████████████| 16/16 [00:00<00:00, 64.24it/s]\n",
      "Epoch 75 - loss: 0.4019 - accuracy: 0.8650: 100%|███████████████████████████████| 16/16 [00:00<00:00, 111.95it/s]\n"
     ]
    },
    {
     "name": "stdout",
     "output_type": "stream",
     "text": [
      "----------\n"
     ]
    },
    {
     "name": "stderr",
     "output_type": "stream",
     "text": [
      "Epoch 76 - loss: 0.2051 - accuracy: 0.9090: 100%|████████████████████████████████| 16/16 [00:00<00:00, 79.05it/s]\n",
      "Epoch 76 - loss: 0.2997 - accuracy: 0.8920: 100%|███████████████████████████████| 16/16 [00:00<00:00, 112.86it/s]\n"
     ]
    },
    {
     "name": "stdout",
     "output_type": "stream",
     "text": [
      "----------\n"
     ]
    },
    {
     "name": "stderr",
     "output_type": "stream",
     "text": [
      "Epoch 77 - loss: 0.1967 - accuracy: 0.9160: 100%|████████████████████████████████| 16/16 [00:00<00:00, 70.35it/s]\n",
      "Epoch 77 - loss: 0.3334 - accuracy: 0.8860: 100%|███████████████████████████████| 16/16 [00:00<00:00, 109.54it/s]\n"
     ]
    },
    {
     "name": "stdout",
     "output_type": "stream",
     "text": [
      "----------\n"
     ]
    },
    {
     "name": "stderr",
     "output_type": "stream",
     "text": [
      "Epoch 78 - loss: 0.1994 - accuracy: 0.9170: 100%|████████████████████████████████| 16/16 [00:00<00:00, 77.16it/s]\n",
      "Epoch 78 - loss: 0.3104 - accuracy: 0.8870: 100%|███████████████████████████████| 16/16 [00:00<00:00, 107.20it/s]\n"
     ]
    },
    {
     "name": "stdout",
     "output_type": "stream",
     "text": [
      "----------\n"
     ]
    },
    {
     "name": "stderr",
     "output_type": "stream",
     "text": [
      "Epoch 79 - loss: 0.1830 - accuracy: 0.9150: 100%|████████████████████████████████| 16/16 [00:00<00:00, 76.09it/s]\n",
      "Epoch 79 - loss: 0.3043 - accuracy: 0.8970: 100%|████████████████████████████████| 16/16 [00:00<00:00, 53.82it/s]\n"
     ]
    },
    {
     "name": "stdout",
     "output_type": "stream",
     "text": [
      "----------\n"
     ]
    },
    {
     "name": "stderr",
     "output_type": "stream",
     "text": [
      "Epoch 80 - loss: 0.1955 - accuracy: 0.9150: 100%|████████████████████████████████| 16/16 [00:00<00:00, 56.35it/s]\n",
      "Epoch 80 - loss: 0.3190 - accuracy: 0.8890: 100%|███████████████████████████████| 16/16 [00:00<00:00, 105.55it/s]\n"
     ]
    },
    {
     "name": "stdout",
     "output_type": "stream",
     "text": [
      "----------\n"
     ]
    },
    {
     "name": "stderr",
     "output_type": "stream",
     "text": [
      "Epoch 81 - loss: 0.2009 - accuracy: 0.9130: 100%|████████████████████████████████| 16/16 [00:00<00:00, 71.54it/s]\n",
      "Epoch 81 - loss: 0.3221 - accuracy: 0.8820: 100%|███████████████████████████████| 16/16 [00:00<00:00, 107.40it/s]\n"
     ]
    },
    {
     "name": "stdout",
     "output_type": "stream",
     "text": [
      "----------\n"
     ]
    },
    {
     "name": "stderr",
     "output_type": "stream",
     "text": [
      "Epoch 82 - loss: 0.2015 - accuracy: 0.9100: 100%|████████████████████████████████| 16/16 [00:00<00:00, 76.19it/s]\n",
      "Epoch 82 - loss: 0.2952 - accuracy: 0.8980: 100%|███████████████████████████████| 16/16 [00:00<00:00, 109.03it/s]\n"
     ]
    },
    {
     "name": "stdout",
     "output_type": "stream",
     "text": [
      "----------\n"
     ]
    },
    {
     "name": "stderr",
     "output_type": "stream",
     "text": [
      "Epoch 83 - loss: 0.1880 - accuracy: 0.9060: 100%|████████████████████████████████| 16/16 [00:00<00:00, 76.70it/s]\n",
      "Epoch 83 - loss: 0.3358 - accuracy: 0.8810: 100%|███████████████████████████████| 16/16 [00:00<00:00, 106.01it/s]\n"
     ]
    },
    {
     "name": "stdout",
     "output_type": "stream",
     "text": [
      "----------\n"
     ]
    },
    {
     "name": "stderr",
     "output_type": "stream",
     "text": [
      "Epoch 84 - loss: 0.1781 - accuracy: 0.9270: 100%|████████████████████████████████| 16/16 [00:00<00:00, 76.32it/s]\n",
      "Epoch 84 - loss: 0.3331 - accuracy: 0.8950: 100%|███████████████████████████████| 16/16 [00:00<00:00, 107.27it/s]\n"
     ]
    },
    {
     "name": "stdout",
     "output_type": "stream",
     "text": [
      "----------\n"
     ]
    },
    {
     "name": "stderr",
     "output_type": "stream",
     "text": [
      "Epoch 85 - loss: 0.1735 - accuracy: 0.9150: 100%|████████████████████████████████| 16/16 [00:00<00:00, 76.24it/s]\n",
      "Epoch 85 - loss: 0.3332 - accuracy: 0.8860: 100%|███████████████████████████████| 16/16 [00:00<00:00, 108.30it/s]\n"
     ]
    },
    {
     "name": "stdout",
     "output_type": "stream",
     "text": [
      "----------\n"
     ]
    },
    {
     "name": "stderr",
     "output_type": "stream",
     "text": [
      "Epoch 86 - loss: 0.1773 - accuracy: 0.9200: 100%|████████████████████████████████| 16/16 [00:00<00:00, 76.48it/s]\n",
      "Epoch 86 - loss: 0.3369 - accuracy: 0.8820: 100%|███████████████████████████████| 16/16 [00:00<00:00, 107.79it/s]\n"
     ]
    },
    {
     "name": "stdout",
     "output_type": "stream",
     "text": [
      "----------\n"
     ]
    },
    {
     "name": "stderr",
     "output_type": "stream",
     "text": [
      "Epoch 87 - loss: 0.2224 - accuracy: 0.8940: 100%|████████████████████████████████| 16/16 [00:00<00:00, 78.65it/s]\n",
      "Epoch 87 - loss: 0.3540 - accuracy: 0.8820: 100%|███████████████████████████████| 16/16 [00:00<00:00, 110.27it/s]\n"
     ]
    },
    {
     "name": "stdout",
     "output_type": "stream",
     "text": [
      "----------\n"
     ]
    },
    {
     "name": "stderr",
     "output_type": "stream",
     "text": [
      "Epoch 88 - loss: 0.2036 - accuracy: 0.9140: 100%|████████████████████████████████| 16/16 [00:00<00:00, 79.97it/s]\n",
      "Epoch 88 - loss: 0.4000 - accuracy: 0.8690: 100%|███████████████████████████████| 16/16 [00:00<00:00, 113.04it/s]\n"
     ]
    },
    {
     "name": "stdout",
     "output_type": "stream",
     "text": [
      "----------\n"
     ]
    },
    {
     "name": "stderr",
     "output_type": "stream",
     "text": [
      "Epoch 89 - loss: 0.1875 - accuracy: 0.9130: 100%|████████████████████████████████| 16/16 [00:00<00:00, 77.20it/s]\n",
      "Epoch 89 - loss: 0.3287 - accuracy: 0.8900: 100%|███████████████████████████████| 16/16 [00:00<00:00, 112.14it/s]\n"
     ]
    },
    {
     "name": "stdout",
     "output_type": "stream",
     "text": [
      "----------\n"
     ]
    },
    {
     "name": "stderr",
     "output_type": "stream",
     "text": [
      "Epoch 90 - loss: 0.1928 - accuracy: 0.9060: 100%|████████████████████████████████| 16/16 [00:00<00:00, 79.35it/s]\n",
      "Epoch 90 - loss: 0.3892 - accuracy: 0.8660: 100%|███████████████████████████████| 16/16 [00:00<00:00, 112.53it/s]\n"
     ]
    },
    {
     "name": "stdout",
     "output_type": "stream",
     "text": [
      "----------\n"
     ]
    },
    {
     "name": "stderr",
     "output_type": "stream",
     "text": [
      "Epoch 91 - loss: 0.2092 - accuracy: 0.9120: 100%|████████████████████████████████| 16/16 [00:00<00:00, 79.34it/s]\n",
      "Epoch 91 - loss: 0.3120 - accuracy: 0.8800: 100%|███████████████████████████████| 16/16 [00:00<00:00, 113.59it/s]\n"
     ]
    },
    {
     "name": "stdout",
     "output_type": "stream",
     "text": [
      "----------\n"
     ]
    },
    {
     "name": "stderr",
     "output_type": "stream",
     "text": [
      "Epoch 92 - loss: 0.1895 - accuracy: 0.9000: 100%|████████████████████████████████| 16/16 [00:00<00:00, 76.54it/s]\n",
      "Epoch 92 - loss: 0.4087 - accuracy: 0.8410: 100%|████████████████████████████████| 16/16 [00:00<00:00, 85.04it/s]\n"
     ]
    },
    {
     "name": "stdout",
     "output_type": "stream",
     "text": [
      "----------\n"
     ]
    },
    {
     "name": "stderr",
     "output_type": "stream",
     "text": [
      "Epoch 93 - loss: 0.1841 - accuracy: 0.9220: 100%|████████████████████████████████| 16/16 [00:00<00:00, 77.68it/s]\n",
      "Epoch 93 - loss: 0.3183 - accuracy: 0.8890: 100%|███████████████████████████████| 16/16 [00:00<00:00, 116.12it/s]\n"
     ]
    },
    {
     "name": "stdout",
     "output_type": "stream",
     "text": [
      "----------\n"
     ]
    },
    {
     "name": "stderr",
     "output_type": "stream",
     "text": [
      "Epoch 94 - loss: 0.1654 - accuracy: 0.9290: 100%|████████████████████████████████| 16/16 [00:00<00:00, 81.16it/s]\n",
      "Epoch 94 - loss: 0.3251 - accuracy: 0.8910: 100%|████████████████████████████████| 16/16 [00:00<00:00, 99.66it/s]\n"
     ]
    },
    {
     "name": "stdout",
     "output_type": "stream",
     "text": [
      "----------\n"
     ]
    },
    {
     "name": "stderr",
     "output_type": "stream",
     "text": [
      "Epoch 95 - loss: 0.1892 - accuracy: 0.9120: 100%|████████████████████████████████| 16/16 [00:00<00:00, 81.54it/s]\n",
      "Epoch 95 - loss: 0.3276 - accuracy: 0.8860: 100%|███████████████████████████████| 16/16 [00:00<00:00, 105.98it/s]\n"
     ]
    },
    {
     "name": "stdout",
     "output_type": "stream",
     "text": [
      "----------\n"
     ]
    },
    {
     "name": "stderr",
     "output_type": "stream",
     "text": [
      "Epoch 96 - loss: 0.2077 - accuracy: 0.8990: 100%|████████████████████████████████| 16/16 [00:00<00:00, 76.30it/s]\n",
      "Epoch 96 - loss: 0.3112 - accuracy: 0.9020: 100%|███████████████████████████████| 16/16 [00:00<00:00, 113.62it/s]\n"
     ]
    },
    {
     "name": "stdout",
     "output_type": "stream",
     "text": [
      "----------\n"
     ]
    },
    {
     "name": "stderr",
     "output_type": "stream",
     "text": [
      "Epoch 97 - loss: 0.2816 - accuracy: 0.8800: 100%|████████████████████████████████| 16/16 [00:00<00:00, 80.99it/s]\n",
      "Epoch 97 - loss: 0.3167 - accuracy: 0.8760: 100%|███████████████████████████████| 16/16 [00:00<00:00, 114.26it/s]\n"
     ]
    },
    {
     "name": "stdout",
     "output_type": "stream",
     "text": [
      "----------\n"
     ]
    },
    {
     "name": "stderr",
     "output_type": "stream",
     "text": [
      "Epoch 98 - loss: 0.2139 - accuracy: 0.8950: 100%|████████████████████████████████| 16/16 [00:00<00:00, 79.75it/s]\n",
      "Epoch 98 - loss: 0.3556 - accuracy: 0.8700: 100%|███████████████████████████████| 16/16 [00:00<00:00, 114.56it/s]\n"
     ]
    },
    {
     "name": "stdout",
     "output_type": "stream",
     "text": [
      "----------\n"
     ]
    },
    {
     "name": "stderr",
     "output_type": "stream",
     "text": [
      "Epoch 99 - loss: 0.1958 - accuracy: 0.9100: 100%|████████████████████████████████| 16/16 [00:00<00:00, 81.46it/s]\n",
      "Epoch 99 - loss: 0.3297 - accuracy: 0.8930: 100%|███████████████████████████████| 16/16 [00:00<00:00, 114.30it/s]\n"
     ]
    },
    {
     "name": "stdout",
     "output_type": "stream",
     "text": [
      "----------\n"
     ]
    },
    {
     "name": "stderr",
     "output_type": "stream",
     "text": [
      "Epoch 100 - loss: 0.2029 - accuracy: 0.8930: 100%|███████████████████████████████| 16/16 [00:00<00:00, 81.62it/s]\n",
      "Epoch 100 - loss: 0.3427 - accuracy: 0.8740: 100%|██████████████████████████████| 16/16 [00:00<00:00, 116.83it/s]\n"
     ]
    },
    {
     "name": "stdout",
     "output_type": "stream",
     "text": [
      "----------\n"
     ]
    },
    {
     "name": "stderr",
     "output_type": "stream",
     "text": [
      "Epoch 101 - loss: 0.2069 - accuracy: 0.9040: 100%|███████████████████████████████| 16/16 [00:00<00:00, 82.34it/s]\n",
      "Epoch 101 - loss: 0.3316 - accuracy: 0.8910: 100%|██████████████████████████████| 16/16 [00:00<00:00, 116.43it/s]\n"
     ]
    },
    {
     "name": "stdout",
     "output_type": "stream",
     "text": [
      "----------\n"
     ]
    },
    {
     "name": "stderr",
     "output_type": "stream",
     "text": [
      "Epoch 102 - loss: 0.1621 - accuracy: 0.9220: 100%|███████████████████████████████| 16/16 [00:00<00:00, 82.07it/s]\n",
      "Epoch 102 - loss: 0.2878 - accuracy: 0.8960: 100%|██████████████████████████████| 16/16 [00:00<00:00, 115.38it/s]\n"
     ]
    },
    {
     "name": "stdout",
     "output_type": "stream",
     "text": [
      "----------\n"
     ]
    },
    {
     "name": "stderr",
     "output_type": "stream",
     "text": [
      "Epoch 103 - loss: 0.1615 - accuracy: 0.9210: 100%|███████████████████████████████| 16/16 [00:00<00:00, 81.65it/s]\n",
      "Epoch 103 - loss: 0.3116 - accuracy: 0.8960: 100%|██████████████████████████████| 16/16 [00:00<00:00, 117.89it/s]\n"
     ]
    },
    {
     "name": "stdout",
     "output_type": "stream",
     "text": [
      "----------\n"
     ]
    },
    {
     "name": "stderr",
     "output_type": "stream",
     "text": [
      "Epoch 104 - loss: 0.1895 - accuracy: 0.9150: 100%|███████████████████████████████| 16/16 [00:00<00:00, 84.56it/s]\n",
      "Epoch 104 - loss: 0.3941 - accuracy: 0.8600: 100%|██████████████████████████████| 16/16 [00:00<00:00, 119.70it/s]\n"
     ]
    },
    {
     "name": "stdout",
     "output_type": "stream",
     "text": [
      "----------\n"
     ]
    },
    {
     "name": "stderr",
     "output_type": "stream",
     "text": [
      "Epoch 105 - loss: 0.2289 - accuracy: 0.8900: 100%|███████████████████████████████| 16/16 [00:00<00:00, 84.17it/s]\n",
      "Epoch 105 - loss: 0.2932 - accuracy: 0.8970: 100%|██████████████████████████████| 16/16 [00:00<00:00, 119.78it/s]\n"
     ]
    },
    {
     "name": "stdout",
     "output_type": "stream",
     "text": [
      "----------\n"
     ]
    },
    {
     "name": "stderr",
     "output_type": "stream",
     "text": [
      "Epoch 106 - loss: 0.2168 - accuracy: 0.9030: 100%|███████████████████████████████| 16/16 [00:00<00:00, 84.54it/s]\n",
      "Epoch 106 - loss: 0.3617 - accuracy: 0.8740: 100%|██████████████████████████████| 16/16 [00:00<00:00, 120.17it/s]\n"
     ]
    },
    {
     "name": "stdout",
     "output_type": "stream",
     "text": [
      "----------\n"
     ]
    },
    {
     "name": "stderr",
     "output_type": "stream",
     "text": [
      "Epoch 107 - loss: 0.1718 - accuracy: 0.9150: 100%|███████████████████████████████| 16/16 [00:00<00:00, 84.59it/s]\n",
      "Epoch 107 - loss: 0.3170 - accuracy: 0.8800: 100%|██████████████████████████████| 16/16 [00:00<00:00, 120.58it/s]\n"
     ]
    },
    {
     "name": "stdout",
     "output_type": "stream",
     "text": [
      "----------\n"
     ]
    },
    {
     "name": "stderr",
     "output_type": "stream",
     "text": [
      "Epoch 108 - loss: 0.1840 - accuracy: 0.9130: 100%|███████████████████████████████| 16/16 [00:00<00:00, 85.00it/s]\n",
      "Epoch 108 - loss: 0.3379 - accuracy: 0.8910: 100%|██████████████████████████████| 16/16 [00:00<00:00, 120.64it/s]\n"
     ]
    },
    {
     "name": "stdout",
     "output_type": "stream",
     "text": [
      "----------\n"
     ]
    },
    {
     "name": "stderr",
     "output_type": "stream",
     "text": [
      "Epoch 109 - loss: 0.1638 - accuracy: 0.9240: 100%|███████████████████████████████| 16/16 [00:00<00:00, 84.16it/s]\n",
      "Epoch 109 - loss: 0.3789 - accuracy: 0.8710: 100%|██████████████████████████████| 16/16 [00:00<00:00, 119.62it/s]\n"
     ]
    },
    {
     "name": "stdout",
     "output_type": "stream",
     "text": [
      "----------\n"
     ]
    },
    {
     "name": "stderr",
     "output_type": "stream",
     "text": [
      "Epoch 110 - loss: 0.2285 - accuracy: 0.8950: 100%|███████████████████████████████| 16/16 [00:00<00:00, 86.62it/s]\n",
      "Epoch 110 - loss: 0.3084 - accuracy: 0.8800: 100%|██████████████████████████████| 16/16 [00:00<00:00, 124.56it/s]\n"
     ]
    },
    {
     "name": "stdout",
     "output_type": "stream",
     "text": [
      "----------\n"
     ]
    },
    {
     "name": "stderr",
     "output_type": "stream",
     "text": [
      "Epoch 111 - loss: 0.2053 - accuracy: 0.9020: 100%|███████████████████████████████| 16/16 [00:00<00:00, 86.25it/s]\n",
      "Epoch 111 - loss: 0.3423 - accuracy: 0.8760: 100%|██████████████████████████████| 16/16 [00:00<00:00, 114.40it/s]\n"
     ]
    },
    {
     "name": "stdout",
     "output_type": "stream",
     "text": [
      "----------\n"
     ]
    },
    {
     "name": "stderr",
     "output_type": "stream",
     "text": [
      "Epoch 112 - loss: 0.1836 - accuracy: 0.9100: 100%|███████████████████████████████| 16/16 [00:00<00:00, 86.94it/s]\n",
      "Epoch 112 - loss: 0.3476 - accuracy: 0.8780: 100%|███████████████████████████████| 16/16 [00:00<00:00, 98.35it/s]\n"
     ]
    },
    {
     "name": "stdout",
     "output_type": "stream",
     "text": [
      "----------\n"
     ]
    },
    {
     "name": "stderr",
     "output_type": "stream",
     "text": [
      "Epoch 113 - loss: 0.1917 - accuracy: 0.9060: 100%|███████████████████████████████| 16/16 [00:00<00:00, 86.13it/s]\n",
      "Epoch 113 - loss: 0.3495 - accuracy: 0.8860: 100%|██████████████████████████████| 16/16 [00:00<00:00, 113.77it/s]\n"
     ]
    },
    {
     "name": "stdout",
     "output_type": "stream",
     "text": [
      "----------\n"
     ]
    },
    {
     "name": "stderr",
     "output_type": "stream",
     "text": [
      "Epoch 114 - loss: 0.2058 - accuracy: 0.8990: 100%|███████████████████████████████| 16/16 [00:00<00:00, 71.81it/s]\n",
      "Epoch 114 - loss: 0.2943 - accuracy: 0.8860: 100%|██████████████████████████████| 16/16 [00:00<00:00, 120.44it/s]\n"
     ]
    },
    {
     "name": "stdout",
     "output_type": "stream",
     "text": [
      "----------\n"
     ]
    },
    {
     "name": "stderr",
     "output_type": "stream",
     "text": [
      "Epoch 115 - loss: 0.1882 - accuracy: 0.9100: 100%|███████████████████████████████| 16/16 [00:00<00:00, 86.71it/s]\n",
      "Epoch 115 - loss: 0.3830 - accuracy: 0.8820: 100%|██████████████████████████████| 16/16 [00:00<00:00, 108.70it/s]\n"
     ]
    },
    {
     "name": "stdout",
     "output_type": "stream",
     "text": [
      "----------\n"
     ]
    },
    {
     "name": "stderr",
     "output_type": "stream",
     "text": [
      "Epoch 116 - loss: 0.1796 - accuracy: 0.9180: 100%|███████████████████████████████| 16/16 [00:00<00:00, 88.61it/s]\n",
      "Epoch 116 - loss: 0.3523 - accuracy: 0.8760: 100%|██████████████████████████████| 16/16 [00:00<00:00, 124.46it/s]\n"
     ]
    },
    {
     "name": "stdout",
     "output_type": "stream",
     "text": [
      "----------\n"
     ]
    },
    {
     "name": "stderr",
     "output_type": "stream",
     "text": [
      "Epoch 117 - loss: 0.1523 - accuracy: 0.9300: 100%|███████████████████████████████| 16/16 [00:00<00:00, 85.16it/s]\n",
      "Epoch 117 - loss: 0.3108 - accuracy: 0.8860: 100%|██████████████████████████████| 16/16 [00:00<00:00, 119.99it/s]\n"
     ]
    },
    {
     "name": "stdout",
     "output_type": "stream",
     "text": [
      "----------\n"
     ]
    },
    {
     "name": "stderr",
     "output_type": "stream",
     "text": [
      "Epoch 118 - loss: 0.1445 - accuracy: 0.9330: 100%|███████████████████████████████| 16/16 [00:00<00:00, 87.50it/s]\n",
      "Epoch 118 - loss: 0.3198 - accuracy: 0.9030: 100%|██████████████████████████████| 16/16 [00:00<00:00, 123.78it/s]\n"
     ]
    },
    {
     "name": "stdout",
     "output_type": "stream",
     "text": [
      "----------\n"
     ]
    },
    {
     "name": "stderr",
     "output_type": "stream",
     "text": [
      "Epoch 119 - loss: 0.1607 - accuracy: 0.9280: 100%|███████████████████████████████| 16/16 [00:00<00:00, 87.62it/s]\n",
      "Epoch 119 - loss: 0.3277 - accuracy: 0.8950: 100%|██████████████████████████████| 16/16 [00:00<00:00, 124.62it/s]\n"
     ]
    },
    {
     "name": "stdout",
     "output_type": "stream",
     "text": [
      "----------\n"
     ]
    },
    {
     "name": "stderr",
     "output_type": "stream",
     "text": [
      "Epoch 120 - loss: 0.1805 - accuracy: 0.9150: 100%|███████████████████████████████| 16/16 [00:00<00:00, 86.66it/s]\n",
      "Epoch 120 - loss: 0.3058 - accuracy: 0.8970: 100%|██████████████████████████████| 16/16 [00:00<00:00, 124.49it/s]\n"
     ]
    },
    {
     "name": "stdout",
     "output_type": "stream",
     "text": [
      "----------\n"
     ]
    },
    {
     "name": "stderr",
     "output_type": "stream",
     "text": [
      "Epoch 121 - loss: 0.1554 - accuracy: 0.9270: 100%|███████████████████████████████| 16/16 [00:00<00:00, 87.28it/s]\n",
      "Epoch 121 - loss: 0.3327 - accuracy: 0.8910: 100%|██████████████████████████████| 16/16 [00:00<00:00, 121.27it/s]\n"
     ]
    },
    {
     "name": "stdout",
     "output_type": "stream",
     "text": [
      "----------\n"
     ]
    },
    {
     "name": "stderr",
     "output_type": "stream",
     "text": [
      "Epoch 122 - loss: 0.1431 - accuracy: 0.9380: 100%|███████████████████████████████| 16/16 [00:00<00:00, 86.89it/s]\n",
      "Epoch 122 - loss: 0.3109 - accuracy: 0.9000: 100%|██████████████████████████████| 16/16 [00:00<00:00, 124.63it/s]\n"
     ]
    },
    {
     "name": "stdout",
     "output_type": "stream",
     "text": [
      "----------\n"
     ]
    },
    {
     "name": "stderr",
     "output_type": "stream",
     "text": [
      "Epoch 123 - loss: 0.1448 - accuracy: 0.9270: 100%|███████████████████████████████| 16/16 [00:00<00:00, 87.18it/s]\n",
      "Epoch 123 - loss: 0.3133 - accuracy: 0.8970: 100%|██████████████████████████████| 16/16 [00:00<00:00, 125.29it/s]\n"
     ]
    },
    {
     "name": "stdout",
     "output_type": "stream",
     "text": [
      "----------\n"
     ]
    },
    {
     "name": "stderr",
     "output_type": "stream",
     "text": [
      "Epoch 124 - loss: 0.1432 - accuracy: 0.9280: 100%|███████████████████████████████| 16/16 [00:00<00:00, 87.99it/s]\n",
      "Epoch 124 - loss: 0.3893 - accuracy: 0.8700: 100%|██████████████████████████████| 16/16 [00:00<00:00, 122.58it/s]\n"
     ]
    },
    {
     "name": "stdout",
     "output_type": "stream",
     "text": [
      "----------\n"
     ]
    },
    {
     "name": "stderr",
     "output_type": "stream",
     "text": [
      "Epoch 125 - loss: 0.1685 - accuracy: 0.9210: 100%|███████████████████████████████| 16/16 [00:00<00:00, 87.42it/s]\n",
      "Epoch 125 - loss: 0.3547 - accuracy: 0.8890: 100%|██████████████████████████████| 16/16 [00:00<00:00, 123.80it/s]\n"
     ]
    },
    {
     "name": "stdout",
     "output_type": "stream",
     "text": [
      "----------\n"
     ]
    },
    {
     "name": "stderr",
     "output_type": "stream",
     "text": [
      "Epoch 126 - loss: 0.2063 - accuracy: 0.9060: 100%|███████████████████████████████| 16/16 [00:00<00:00, 87.27it/s]\n",
      "Epoch 126 - loss: 0.3102 - accuracy: 0.8880: 100%|██████████████████████████████| 16/16 [00:00<00:00, 124.28it/s]\n"
     ]
    },
    {
     "name": "stdout",
     "output_type": "stream",
     "text": [
      "----------\n"
     ]
    },
    {
     "name": "stderr",
     "output_type": "stream",
     "text": [
      "Epoch 127 - loss: 0.1899 - accuracy: 0.9180: 100%|███████████████████████████████| 16/16 [00:00<00:00, 88.11it/s]\n",
      "Epoch 127 - loss: 0.3560 - accuracy: 0.8810: 100%|██████████████████████████████| 16/16 [00:00<00:00, 124.02it/s]\n"
     ]
    },
    {
     "name": "stdout",
     "output_type": "stream",
     "text": [
      "----------\n"
     ]
    },
    {
     "name": "stderr",
     "output_type": "stream",
     "text": [
      "Epoch 128 - loss: 0.2179 - accuracy: 0.9010: 100%|███████████████████████████████| 16/16 [00:00<00:00, 78.07it/s]\n",
      "Epoch 128 - loss: 0.3348 - accuracy: 0.8800: 100%|██████████████████████████████| 16/16 [00:00<00:00, 123.07it/s]\n"
     ]
    },
    {
     "name": "stdout",
     "output_type": "stream",
     "text": [
      "----------\n"
     ]
    },
    {
     "name": "stderr",
     "output_type": "stream",
     "text": [
      "Epoch 129 - loss: 0.1903 - accuracy: 0.9050: 100%|███████████████████████████████| 16/16 [00:00<00:00, 87.59it/s]\n",
      "Epoch 129 - loss: 0.3202 - accuracy: 0.8970: 100%|██████████████████████████████| 16/16 [00:00<00:00, 123.52it/s]\n"
     ]
    },
    {
     "name": "stdout",
     "output_type": "stream",
     "text": [
      "----------\n"
     ]
    },
    {
     "name": "stderr",
     "output_type": "stream",
     "text": [
      "Epoch 130 - loss: 0.2427 - accuracy: 0.8870: 100%|███████████████████████████████| 16/16 [00:00<00:00, 87.81it/s]\n",
      "Epoch 130 - loss: 0.2860 - accuracy: 0.8950: 100%|██████████████████████████████| 16/16 [00:00<00:00, 123.02it/s]\n"
     ]
    },
    {
     "name": "stdout",
     "output_type": "stream",
     "text": [
      "----------\n"
     ]
    },
    {
     "name": "stderr",
     "output_type": "stream",
     "text": [
      "Epoch 131 - loss: 0.2311 - accuracy: 0.8940: 100%|███████████████████████████████| 16/16 [00:00<00:00, 87.09it/s]\n",
      "Epoch 131 - loss: 0.3258 - accuracy: 0.8770: 100%|██████████████████████████████| 16/16 [00:00<00:00, 124.20it/s]\n"
     ]
    },
    {
     "name": "stdout",
     "output_type": "stream",
     "text": [
      "----------\n"
     ]
    },
    {
     "name": "stderr",
     "output_type": "stream",
     "text": [
      "Epoch 132 - loss: 0.2197 - accuracy: 0.8990: 100%|███████████████████████████████| 16/16 [00:00<00:00, 87.39it/s]\n",
      "Epoch 132 - loss: 0.2877 - accuracy: 0.9000: 100%|██████████████████████████████| 16/16 [00:00<00:00, 123.43it/s]\n"
     ]
    },
    {
     "name": "stdout",
     "output_type": "stream",
     "text": [
      "----------\n"
     ]
    },
    {
     "name": "stderr",
     "output_type": "stream",
     "text": [
      "Epoch 133 - loss: 0.1992 - accuracy: 0.9020: 100%|███████████████████████████████| 16/16 [00:00<00:00, 87.63it/s]\n",
      "Epoch 133 - loss: 0.2839 - accuracy: 0.8990: 100%|██████████████████████████████| 16/16 [00:00<00:00, 123.98it/s]\n"
     ]
    },
    {
     "name": "stdout",
     "output_type": "stream",
     "text": [
      "----------\n"
     ]
    },
    {
     "name": "stderr",
     "output_type": "stream",
     "text": [
      "Epoch 134 - loss: 0.1850 - accuracy: 0.9120: 100%|███████████████████████████████| 16/16 [00:00<00:00, 88.18it/s]\n",
      "Epoch 134 - loss: 0.3435 - accuracy: 0.8860: 100%|██████████████████████████████| 16/16 [00:00<00:00, 124.33it/s]\n"
     ]
    },
    {
     "name": "stdout",
     "output_type": "stream",
     "text": [
      "----------\n"
     ]
    },
    {
     "name": "stderr",
     "output_type": "stream",
     "text": [
      "Epoch 135 - loss: 0.1599 - accuracy: 0.9220: 100%|███████████████████████████████| 16/16 [00:00<00:00, 88.22it/s]\n",
      "Epoch 135 - loss: 0.3060 - accuracy: 0.8860: 100%|██████████████████████████████| 16/16 [00:00<00:00, 123.87it/s]\n"
     ]
    },
    {
     "name": "stdout",
     "output_type": "stream",
     "text": [
      "----------\n"
     ]
    },
    {
     "name": "stderr",
     "output_type": "stream",
     "text": [
      "Epoch 136 - loss: 0.1624 - accuracy: 0.9230: 100%|███████████████████████████████| 16/16 [00:00<00:00, 87.05it/s]\n",
      "Epoch 136 - loss: 0.2966 - accuracy: 0.9030: 100%|██████████████████████████████| 16/16 [00:00<00:00, 126.67it/s]\n"
     ]
    },
    {
     "name": "stdout",
     "output_type": "stream",
     "text": [
      "----------\n"
     ]
    },
    {
     "name": "stderr",
     "output_type": "stream",
     "text": [
      "Epoch 137 - loss: 0.1521 - accuracy: 0.9270: 100%|███████████████████████████████| 16/16 [00:00<00:00, 90.26it/s]\n",
      "Epoch 137 - loss: 0.3021 - accuracy: 0.9020: 100%|██████████████████████████████| 16/16 [00:00<00:00, 125.05it/s]\n"
     ]
    },
    {
     "name": "stdout",
     "output_type": "stream",
     "text": [
      "----------\n"
     ]
    },
    {
     "name": "stderr",
     "output_type": "stream",
     "text": [
      "Epoch 138 - loss: 0.1633 - accuracy: 0.9210: 100%|███████████████████████████████| 16/16 [00:00<00:00, 90.51it/s]\n",
      "Epoch 138 - loss: 0.2937 - accuracy: 0.8960: 100%|██████████████████████████████| 16/16 [00:00<00:00, 127.97it/s]\n"
     ]
    },
    {
     "name": "stdout",
     "output_type": "stream",
     "text": [
      "----------\n"
     ]
    },
    {
     "name": "stderr",
     "output_type": "stream",
     "text": [
      "Epoch 139 - loss: 0.1941 - accuracy: 0.9180: 100%|███████████████████████████████| 16/16 [00:00<00:00, 84.35it/s]\n",
      "Epoch 139 - loss: 0.3583 - accuracy: 0.8780: 100%|██████████████████████████████| 16/16 [00:00<00:00, 128.04it/s]\n"
     ]
    },
    {
     "name": "stdout",
     "output_type": "stream",
     "text": [
      "----------\n"
     ]
    },
    {
     "name": "stderr",
     "output_type": "stream",
     "text": [
      "Epoch 140 - loss: 0.1897 - accuracy: 0.9130: 100%|███████████████████████████████| 16/16 [00:00<00:00, 90.63it/s]\n",
      "Epoch 140 - loss: 0.3052 - accuracy: 0.8880: 100%|██████████████████████████████| 16/16 [00:00<00:00, 125.79it/s]\n"
     ]
    },
    {
     "name": "stdout",
     "output_type": "stream",
     "text": [
      "----------\n"
     ]
    },
    {
     "name": "stderr",
     "output_type": "stream",
     "text": [
      "Epoch 141 - loss: 0.1757 - accuracy: 0.9130: 100%|███████████████████████████████| 16/16 [00:00<00:00, 89.93it/s]\n",
      "Epoch 141 - loss: 0.3094 - accuracy: 0.8890: 100%|██████████████████████████████| 16/16 [00:00<00:00, 127.55it/s]\n"
     ]
    },
    {
     "name": "stdout",
     "output_type": "stream",
     "text": [
      "----------\n"
     ]
    },
    {
     "name": "stderr",
     "output_type": "stream",
     "text": [
      "Epoch 142 - loss: 0.1514 - accuracy: 0.9280: 100%|███████████████████████████████| 16/16 [00:00<00:00, 91.05it/s]\n",
      "Epoch 142 - loss: 0.2933 - accuracy: 0.8950: 100%|██████████████████████████████| 16/16 [00:00<00:00, 110.99it/s]\n"
     ]
    },
    {
     "name": "stdout",
     "output_type": "stream",
     "text": [
      "----------\n"
     ]
    },
    {
     "name": "stderr",
     "output_type": "stream",
     "text": [
      "Epoch 143 - loss: 0.1353 - accuracy: 0.9400: 100%|███████████████████████████████| 16/16 [00:00<00:00, 90.61it/s]\n",
      "Epoch 143 - loss: 0.3070 - accuracy: 0.8940: 100%|██████████████████████████████| 16/16 [00:00<00:00, 126.65it/s]\n"
     ]
    },
    {
     "name": "stdout",
     "output_type": "stream",
     "text": [
      "----------\n"
     ]
    },
    {
     "name": "stderr",
     "output_type": "stream",
     "text": [
      "Epoch 144 - loss: 0.1434 - accuracy: 0.9340: 100%|███████████████████████████████| 16/16 [00:00<00:00, 90.80it/s]\n",
      "Epoch 144 - loss: 0.3224 - accuracy: 0.8980: 100%|██████████████████████████████| 16/16 [00:00<00:00, 127.09it/s]\n"
     ]
    },
    {
     "name": "stdout",
     "output_type": "stream",
     "text": [
      "----------\n"
     ]
    },
    {
     "name": "stderr",
     "output_type": "stream",
     "text": [
      "Epoch 145 - loss: 0.1448 - accuracy: 0.9310: 100%|███████████████████████████████| 16/16 [00:00<00:00, 89.04it/s]\n",
      "Epoch 145 - loss: 0.3542 - accuracy: 0.8700: 100%|██████████████████████████████| 16/16 [00:00<00:00, 127.89it/s]\n"
     ]
    },
    {
     "name": "stdout",
     "output_type": "stream",
     "text": [
      "----------\n"
     ]
    },
    {
     "name": "stderr",
     "output_type": "stream",
     "text": [
      "Epoch 146 - loss: 0.1692 - accuracy: 0.9110: 100%|███████████████████████████████| 16/16 [00:00<00:00, 91.18it/s]\n",
      "Epoch 146 - loss: 0.3143 - accuracy: 0.8860: 100%|██████████████████████████████| 16/16 [00:00<00:00, 126.58it/s]\n"
     ]
    },
    {
     "name": "stdout",
     "output_type": "stream",
     "text": [
      "----------\n"
     ]
    },
    {
     "name": "stderr",
     "output_type": "stream",
     "text": [
      "Epoch 147 - loss: 0.1700 - accuracy: 0.9230: 100%|███████████████████████████████| 16/16 [00:00<00:00, 90.27it/s]\n",
      "Epoch 147 - loss: 0.3650 - accuracy: 0.8900: 100%|██████████████████████████████| 16/16 [00:00<00:00, 127.87it/s]\n"
     ]
    },
    {
     "name": "stdout",
     "output_type": "stream",
     "text": [
      "----------\n"
     ]
    },
    {
     "name": "stderr",
     "output_type": "stream",
     "text": [
      "Epoch 148 - loss: 0.1839 - accuracy: 0.9120: 100%|███████████████████████████████| 16/16 [00:00<00:00, 90.97it/s]\n",
      "Epoch 148 - loss: 0.3012 - accuracy: 0.9000: 100%|██████████████████████████████| 16/16 [00:00<00:00, 106.24it/s]\n"
     ]
    },
    {
     "name": "stdout",
     "output_type": "stream",
     "text": [
      "----------\n"
     ]
    },
    {
     "name": "stderr",
     "output_type": "stream",
     "text": [
      "Epoch 149 - loss: 0.1544 - accuracy: 0.9200: 100%|███████████████████████████████| 16/16 [00:00<00:00, 90.25it/s]\n",
      "Epoch 149 - loss: 0.3274 - accuracy: 0.8750: 100%|██████████████████████████████| 16/16 [00:00<00:00, 127.91it/s]"
     ]
    },
    {
     "name": "stdout",
     "output_type": "stream",
     "text": [
      "----------\n"
     ]
    },
    {
     "name": "stderr",
     "output_type": "stream",
     "text": [
      "\n"
     ]
    }
   ],
   "source": [
    "# Tensoboard logger\n",
    "import time\n",
    "from src.supervised_ml import get_tensorboard_writer\n",
    "\n",
    "run_name = f'[256,256,256]/{str(int(time.time()))}'\n",
    "tensorboard_writer = get_tensorboard_writer(run_name)\n",
    "\n",
    "# Adam is always a safe choice\n",
    "import torch.optim as optim\n",
    "optimizer = optim.Adam(model.parameters())\n",
    "\n",
    "from src.supervised_ml import get_train_val_loop\n",
    "train_val_loop = get_train_val_loop(model, criterion, optimizer, tensorboard_writer)\n",
    "\n",
    "N_EPOCHS = 150\n",
    "\n",
    "for epoch in range(N_EPOCHS):\n",
    "    # train\n",
    "    train_val_loop(is_train=True, dataloader=train_dataloader, epoch=epoch)\n",
    "\n",
    "    with torch.no_grad():\n",
    "        # validate\n",
    "        train_val_loop(is_train=False, dataloader=test_dataloader, epoch=epoch)\n",
    "\n",
    "    print('----------')"
   ]
  },
  {
   "cell_type": "markdown",
   "id": "1f2806ec",
   "metadata": {},
   "source": [
    "## Tensorboard ON to visualize train and validation curves"
   ]
  },
  {
   "cell_type": "code",
   "execution_count": 39,
   "id": "12456d53",
   "metadata": {},
   "outputs": [
    {
     "name": "stdout",
     "output_type": "stream",
     "text": [
      "The tensorboard extension is already loaded. To reload it, use:\n",
      "  %reload_ext tensorboard\n"
     ]
    },
    {
     "data": {
      "text/html": [
       "\n",
       "      <iframe id=\"tensorboard-frame-c5094516feb91c25\" width=\"100%\" height=\"800\" frameborder=\"0\">\n",
       "      </iframe>\n",
       "      <script>\n",
       "        (function() {\n",
       "          const frame = document.getElementById(\"tensorboard-frame-c5094516feb91c25\");\n",
       "          const url = new URL(\"/\", window.location);\n",
       "          const port = 6011;\n",
       "          if (port) {\n",
       "            url.port = port;\n",
       "          }\n",
       "          frame.src = url;\n",
       "        })();\n",
       "      </script>\n",
       "    "
      ],
      "text/plain": [
       "<IPython.core.display.HTML object>"
      ]
     },
     "metadata": {},
     "output_type": "display_data"
    }
   ],
   "source": [
    "from src.config import TENSORBOARD_LOG_DIR\n",
    "%load_ext tensorboard\n",
    "%tensorboard --logdir $TENSORBOARD_LOG_DIR"
   ]
  },
  {
   "cell_type": "code",
   "execution_count": null,
   "id": "d9cbe675",
   "metadata": {},
   "outputs": [],
   "source": []
  }
 ],
 "metadata": {
  "kernelspec": {
   "display_name": "Python 3 (ipykernel)",
   "language": "python",
   "name": "python3"
  },
  "language_info": {
   "codemirror_mode": {
    "name": "ipython",
    "version": 3
   },
   "file_extension": ".py",
   "mimetype": "text/x-python",
   "name": "python",
   "nbconvert_exporter": "python",
   "pygments_lexer": "ipython3",
   "version": "3.7.5"
  }
 },
 "nbformat": 4,
 "nbformat_minor": 5
}
