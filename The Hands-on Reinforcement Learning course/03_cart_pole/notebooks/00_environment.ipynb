{
 "cells": [
  {
   "cell_type": "markdown",
   "id": "4c2ff31f",
   "metadata": {},
   "source": [
    "# 00 Environment"
   ]
  },
  {
   "cell_type": "markdown",
   "id": "04a5c882",
   "metadata": {},
   "source": [
    "#### 👉Before you solve a Reinforcement Learning problem you need to define what are\n",
    "- the actions\n",
    "- the states of the world\n",
    "- the rewards\n",
    "\n",
    "#### 👉We are using the `CartPole-v0` environment from [OpenAI's gym](https://github.com/openai/gym/blob/master/gym/envs/classic_control/cartpole.py)\n",
    "\n",
    "#### 👉`CartPole-v0` is not an extremely difficult environment. However, it is complex enough to force us level up our game. The tools we will use to solve it are really powerful.\n",
    "\n",
    "#### 👉Let's explore it!"
   ]
  },
  {
   "cell_type": "code",
   "execution_count": 44,
   "id": "e3629346",
   "metadata": {},
   "outputs": [
    {
     "name": "stdout",
     "output_type": "stream",
     "text": [
      "The autoreload extension is already loaded. To reload it, use:\n",
      "  %reload_ext autoreload\n",
      "Populating the interactive namespace from numpy and matplotlib\n"
     ]
    }
   ],
   "source": [
    "%load_ext autoreload\n",
    "%autoreload 2\n",
    "%pylab inline\n",
    "%config InlineBackend.figure_format = 'svg'\n",
    "\n",
    "from matplotlib import pyplot as plt\n",
    "%matplotlib inline"
   ]
  },
  {
   "cell_type": "markdown",
   "id": "76e9a06d",
   "metadata": {},
   "source": [
    "## Load the environment 🌎"
   ]
  },
  {
   "cell_type": "code",
   "execution_count": 45,
   "id": "ebfba291",
   "metadata": {},
   "outputs": [],
   "source": [
    "import gym\n",
    "env = gym.make('CartPole-v1')"
   ]
  },
  {
   "cell_type": "markdown",
   "id": "c6e2bc37",
   "metadata": {},
   "source": [
    "## The goal\n",
    "### is to keep the pole in an upright position as long as you can by moving the cart a the bottom, left and right."
   ]
  },
  {
   "cell_type": "markdown",
   "id": "7babf939",
   "metadata": {},
   "source": [
    "![title](../images/cart_pole.jpg)"
   ]
  },
  {
   "cell_type": "markdown",
   "id": "9cb921cf",
   "metadata": {},
   "source": [
    "## Let's see how a good agent solves this problem"
   ]
  },
  {
   "cell_type": "code",
   "execution_count": null,
   "id": "92dcbf74",
   "metadata": {},
   "outputs": [],
   "source": []
  },
  {
   "cell_type": "code",
   "execution_count": 30,
   "id": "2ded2ba5",
   "metadata": {},
   "outputs": [
    {
     "data": {
      "text/plain": [
       "<matplotlib.image.AxesImage at 0x11d26b590>"
      ]
     },
     "execution_count": 30,
     "metadata": {},
     "output_type": "execute_result"
    },
    {
     "data": {
      "image/svg+xml": [
       "<?xml version=\"1.0\" encoding=\"utf-8\" standalone=\"no\"?>\n",
       "<!DOCTYPE svg PUBLIC \"-//W3C//DTD SVG 1.1//EN\"\n",
       "  \"http://www.w3.org/Graphics/SVG/1.1/DTD/svg11.dtd\">\n",
       "<svg xmlns:xlink=\"http://www.w3.org/1999/xlink\" width=\"409.292016pt\" height=\"357.238125pt\" viewBox=\"0 0 409.292016 357.238125\" xmlns=\"http://www.w3.org/2000/svg\" version=\"1.1\">\n",
       " <metadata>\n",
       "  <rdf:RDF xmlns:dc=\"http://purl.org/dc/elements/1.1/\" xmlns:cc=\"http://creativecommons.org/ns#\" xmlns:rdf=\"http://www.w3.org/1999/02/22-rdf-syntax-ns#\">\n",
       "   <cc:Work>\n",
       "    <dc:type rdf:resource=\"http://purl.org/dc/dcmitype/StillImage\"/>\n",
       "    <dc:date>2022-01-10T09:36:37.476916</dc:date>\n",
       "    <dc:format>image/svg+xml</dc:format>\n",
       "    <dc:creator>\n",
       "     <cc:Agent>\n",
       "      <dc:title>Matplotlib v3.5.1, https://matplotlib.org/</dc:title>\n",
       "     </cc:Agent>\n",
       "    </dc:creator>\n",
       "   </cc:Work>\n",
       "  </rdf:RDF>\n",
       " </metadata>\n",
       " <defs>\n",
       "  <style type=\"text/css\">*{stroke-linejoin: round; stroke-linecap: butt}</style>\n",
       " </defs>\n",
       " <g id=\"figure_1\">\n",
       "  <g id=\"patch_1\">\n",
       "   <path d=\"M 0 357.238125 \n",
       "L 409.292016 357.238125 \n",
       "L 409.292016 0 \n",
       "L 0 0 \n",
       "L 0 357.238125 \n",
       "z\n",
       "\" style=\"fill: none\"/>\n",
       "  </g>\n",
       "  <g id=\"axes_1\">\n",
       "   <g id=\"patch_2\">\n",
       "    <path d=\"M 10.7 333.36 \n",
       "L 402.092016 333.36 \n",
       "L 402.092016 7.2 \n",
       "L 10.7 7.2 \n",
       "z\n",
       "\" style=\"fill: #ffffff\"/>\n",
       "   </g>\n",
       "   <g clip-path=\"url(#p2d2b1a84a4)\">\n",
       "    <image xlink:href=\"data:image/png;base64,\n",
       "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\" id=\"imagef829029a41\" transform=\"scale(1 -1)translate(0 -327)\" x=\"10.7\" y=\"-6.36\" width=\"392\" height=\"327\"/>\n",
       "   </g>\n",
       "   <g id=\"matplotlib.axis_1\">\n",
       "    <g id=\"xtick_1\">\n",
       "     <g id=\"line2d_1\">\n",
       "      <defs>\n",
       "       <path id=\"mbc9af65224\" d=\"M 0 0 \n",
       "L 0 3.5 \n",
       "\" style=\"stroke: #000000; stroke-width: 0.8\"/>\n",
       "      </defs>\n",
       "      <g>\n",
       "       <use xlink:href=\"#mbc9af65224\" x=\"43.316008\" y=\"333.36\" style=\"stroke: #000000; stroke-width: 0.8\"/>\n",
       "      </g>\n",
       "     </g>\n",
       "     <g id=\"text_1\">\n",
       "      <!-- −4 -->\n",
       "      <g transform=\"translate(35.944914 347.958438)scale(0.1 -0.1)\">\n",
       "       <defs>\n",
       "        <path id=\"DejaVuSans-2212\" d=\"M 678 2272 \n",
       "L 4684 2272 \n",
       "L 4684 1741 \n",
       "L 678 1741 \n",
       "L 678 2272 \n",
       "z\n",
       "\" transform=\"scale(0.015625)\"/>\n",
       "        <path id=\"DejaVuSans-34\" d=\"M 2419 4116 \n",
       "L 825 1625 \n",
       "L 2419 1625 \n",
       "L 2419 4116 \n",
       "z\n",
       "M 2253 4666 \n",
       "L 3047 4666 \n",
       "L 3047 1625 \n",
       "L 3713 1625 \n",
       "L 3713 1100 \n",
       "L 3047 1100 \n",
       "L 3047 0 \n",
       "L 2419 0 \n",
       "L 2419 1100 \n",
       "L 313 1100 \n",
       "L 313 1709 \n",
       "L 2253 4666 \n",
       "z\n",
       "\" transform=\"scale(0.015625)\"/>\n",
       "       </defs>\n",
       "       <use xlink:href=\"#DejaVuSans-2212\"/>\n",
       "       <use xlink:href=\"#DejaVuSans-34\" x=\"83.789062\"/>\n",
       "      </g>\n",
       "     </g>\n",
       "    </g>\n",
       "    <g id=\"xtick_2\">\n",
       "     <g id=\"line2d_2\">\n",
       "      <g>\n",
       "       <use xlink:href=\"#mbc9af65224\" x=\"124.856008\" y=\"333.36\" style=\"stroke: #000000; stroke-width: 0.8\"/>\n",
       "      </g>\n",
       "     </g>\n",
       "     <g id=\"text_2\">\n",
       "      <!-- −2 -->\n",
       "      <g transform=\"translate(117.484914 347.958438)scale(0.1 -0.1)\">\n",
       "       <defs>\n",
       "        <path id=\"DejaVuSans-32\" d=\"M 1228 531 \n",
       "L 3431 531 \n",
       "L 3431 0 \n",
       "L 469 0 \n",
       "L 469 531 \n",
       "Q 828 903 1448 1529 \n",
       "Q 2069 2156 2228 2338 \n",
       "Q 2531 2678 2651 2914 \n",
       "Q 2772 3150 2772 3378 \n",
       "Q 2772 3750 2511 3984 \n",
       "Q 2250 4219 1831 4219 \n",
       "Q 1534 4219 1204 4116 \n",
       "Q 875 4013 500 3803 \n",
       "L 500 4441 \n",
       "Q 881 4594 1212 4672 \n",
       "Q 1544 4750 1819 4750 \n",
       "Q 2544 4750 2975 4387 \n",
       "Q 3406 4025 3406 3419 \n",
       "Q 3406 3131 3298 2873 \n",
       "Q 3191 2616 2906 2266 \n",
       "Q 2828 2175 2409 1742 \n",
       "Q 1991 1309 1228 531 \n",
       "z\n",
       "\" transform=\"scale(0.015625)\"/>\n",
       "       </defs>\n",
       "       <use xlink:href=\"#DejaVuSans-2212\"/>\n",
       "       <use xlink:href=\"#DejaVuSans-32\" x=\"83.789062\"/>\n",
       "      </g>\n",
       "     </g>\n",
       "    </g>\n",
       "    <g id=\"xtick_3\">\n",
       "     <g id=\"line2d_3\">\n",
       "      <g>\n",
       "       <use xlink:href=\"#mbc9af65224\" x=\"206.396008\" y=\"333.36\" style=\"stroke: #000000; stroke-width: 0.8\"/>\n",
       "      </g>\n",
       "     </g>\n",
       "     <g id=\"text_3\">\n",
       "      <!-- 0 -->\n",
       "      <g transform=\"translate(203.214758 347.958438)scale(0.1 -0.1)\">\n",
       "       <defs>\n",
       "        <path id=\"DejaVuSans-30\" d=\"M 2034 4250 \n",
       "Q 1547 4250 1301 3770 \n",
       "Q 1056 3291 1056 2328 \n",
       "Q 1056 1369 1301 889 \n",
       "Q 1547 409 2034 409 \n",
       "Q 2525 409 2770 889 \n",
       "Q 3016 1369 3016 2328 \n",
       "Q 3016 3291 2770 3770 \n",
       "Q 2525 4250 2034 4250 \n",
       "z\n",
       "M 2034 4750 \n",
       "Q 2819 4750 3233 4129 \n",
       "Q 3647 3509 3647 2328 \n",
       "Q 3647 1150 3233 529 \n",
       "Q 2819 -91 2034 -91 \n",
       "Q 1250 -91 836 529 \n",
       "Q 422 1150 422 2328 \n",
       "Q 422 3509 836 4129 \n",
       "Q 1250 4750 2034 4750 \n",
       "z\n",
       "\" transform=\"scale(0.015625)\"/>\n",
       "       </defs>\n",
       "       <use xlink:href=\"#DejaVuSans-30\"/>\n",
       "      </g>\n",
       "     </g>\n",
       "    </g>\n",
       "    <g id=\"xtick_4\">\n",
       "     <g id=\"line2d_4\">\n",
       "      <g>\n",
       "       <use xlink:href=\"#mbc9af65224\" x=\"287.936008\" y=\"333.36\" style=\"stroke: #000000; stroke-width: 0.8\"/>\n",
       "      </g>\n",
       "     </g>\n",
       "     <g id=\"text_4\">\n",
       "      <!-- 2 -->\n",
       "      <g transform=\"translate(284.754758 347.958438)scale(0.1 -0.1)\">\n",
       "       <use xlink:href=\"#DejaVuSans-32\"/>\n",
       "      </g>\n",
       "     </g>\n",
       "    </g>\n",
       "    <g id=\"xtick_5\">\n",
       "     <g id=\"line2d_5\">\n",
       "      <g>\n",
       "       <use xlink:href=\"#mbc9af65224\" x=\"369.476008\" y=\"333.36\" style=\"stroke: #000000; stroke-width: 0.8\"/>\n",
       "      </g>\n",
       "     </g>\n",
       "     <g id=\"text_5\">\n",
       "      <!-- 4 -->\n",
       "      <g transform=\"translate(366.294758 347.958438)scale(0.1 -0.1)\">\n",
       "       <use xlink:href=\"#DejaVuSans-34\"/>\n",
       "      </g>\n",
       "     </g>\n",
       "    </g>\n",
       "   </g>\n",
       "   <g id=\"patch_3\">\n",
       "    <path d=\"M 10.7 333.36 \n",
       "L 10.7 7.2 \n",
       "\" style=\"fill: none; stroke: #000000; stroke-width: 0.8; stroke-linejoin: miter; stroke-linecap: square\"/>\n",
       "   </g>\n",
       "   <g id=\"patch_4\">\n",
       "    <path d=\"M 402.092016 333.36 \n",
       "L 402.092016 7.2 \n",
       "\" style=\"fill: none; stroke: #000000; stroke-width: 0.8; stroke-linejoin: miter; stroke-linecap: square\"/>\n",
       "   </g>\n",
       "   <g id=\"patch_5\">\n",
       "    <path d=\"M 10.7 333.36 \n",
       "L 402.092016 333.36 \n",
       "\" style=\"fill: none; stroke: #000000; stroke-width: 0.8; stroke-linejoin: miter; stroke-linecap: square\"/>\n",
       "   </g>\n",
       "   <g id=\"patch_6\">\n",
       "    <path d=\"M 10.7 7.2 \n",
       "L 402.092016 7.2 \n",
       "\" style=\"fill: none; stroke: #000000; stroke-width: 0.8; stroke-linejoin: miter; stroke-linecap: square\"/>\n",
       "   </g>\n",
       "  </g>\n",
       " </g>\n",
       " <defs>\n",
       "  <clipPath id=\"p2d2b1a84a4\">\n",
       "   <rect x=\"10.7\" y=\"7.2\" width=\"391.392016\" height=\"326.16\"/>\n",
       "  </clipPath>\n",
       " </defs>\n",
       "</svg>\n"
      ],
      "text/plain": [
       "<Figure size 576x432 with 1 Axes>"
      ]
     },
     "metadata": {
      "needs_background": "light"
     },
     "output_type": "display_data"
    }
   ],
   "source": [
    "# env.reset()\n",
    "# frame = env.render(mode='rgb_array')\n",
    "\n",
    "# fig, ax = plt.subplots(figsize=(8, 6))\n",
    "# ax.axes.yaxis.set_visible(False)\n",
    "# min_x = env.observation_space.low[0]\n",
    "# max_x = env.observation_space.high[0]\n",
    "# ax.imshow(frame, extent=[min_x, max_x, 0, 8])\n",
    "\n"
   ]
  },
  {
   "cell_type": "markdown",
   "id": "4f53a38e",
   "metadata": {},
   "source": [
    "## State space"
   ]
  },
  {
   "cell_type": "code",
   "execution_count": 51,
   "id": "e809514b",
   "metadata": {},
   "outputs": [
    {
     "name": "stdout",
     "output_type": "stream",
     "text": [
      "Cart position from -4.80 to 4.80\n",
      "Cart velocity from -3.40E+38 to 3.40E+38\n",
      "Angle from -0.42 to 0.42\n",
      "Angular velocity from -3.40E+38 to 3.40E+38\n"
     ]
    }
   ],
   "source": [
    "# The state consists of 4 numbers:\n",
    "x_min, v_min, angle_min, angular_v_min = env.observation_space.low\n",
    "x_max, v_max, angle_max, angular_v_max = env.observation_space.high\n",
    "\n",
    "print(f'Cart position from {x_min:.2f} to {x_max:.2f}')\n",
    "print(f'Cart velocity from {v_min:.2E} to {v_max:.2E}')\n",
    "print(f'Angle from {angle_min:.2f} to {angle_max:.2f}')\n",
    "print(f'Angular velocity from {angular_v_min:.2E} to {angular_v_max:.2E}')"
   ]
  },
  {
   "cell_type": "markdown",
   "id": "f413604e",
   "metadata": {},
   "source": [
    "[IMAGE]"
   ]
  },
  {
   "cell_type": "markdown",
   "id": "5e0c527b",
   "metadata": {},
   "source": [
    "### The ranges for the cart velocity and pole angular velocity are a bit too large, aren't they?\n",
    "\n",
    "👉 As a general principle, the high/low state values you can read from `env.observation_space`\n",
    "are set very conservatively, to guarantee that the state value alwayas lies between the max and the min.\n",
    "\n",
    "👉In practice, you need to simulate a few interactions with the environment to really see the actual intervals where the state components lie.\n",
    "\n",
    "👉 Knowing the max and min values for each state component is going to be useful later when we normalize the inputs to our Parametric models."
   ]
  },
  {
   "cell_type": "markdown",
   "id": "1fcfc13a",
   "metadata": {},
   "source": [
    "## Action space\n",
    "\n",
    "- `0` Push cart to the left\n",
    "- `1` Push cart to the right"
   ]
  },
  {
   "cell_type": "code",
   "execution_count": 43,
   "id": "98cfdb84",
   "metadata": {},
   "outputs": [
    {
     "name": "stdout",
     "output_type": "stream",
     "text": [
      "Action Space Discrete(2)\n"
     ]
    }
   ],
   "source": [
    "print(\"Action Space {}\".format(env.action_space))"
   ]
  },
  {
   "cell_type": "markdown",
   "id": "c8f6a690",
   "metadata": {},
   "source": [
    "## Rewards\n",
    "\n",
    "- A reward of -1 is awarded if the position of the car is less than 0.5.\n",
    "- The episode ends once the car's position is above 0.5, or the max number of steps has been reached: `n_steps >= env._max_episode_steps`\n",
    "\n",
    "A default negative reward of -1 encourages the car to escape the valley as fast as possible."
   ]
  },
  {
   "cell_type": "code",
   "execution_count": null,
   "id": "578d1ba3",
   "metadata": {},
   "outputs": [],
   "source": []
  }
 ],
 "metadata": {
  "kernelspec": {
   "display_name": "Python 3 (ipykernel)",
   "language": "python",
   "name": "python3"
  },
  "language_info": {
   "codemirror_mode": {
    "name": "ipython",
    "version": 3
   },
   "file_extension": ".py",
   "mimetype": "text/x-python",
   "name": "python",
   "nbconvert_exporter": "python",
   "pygments_lexer": "ipython3",
   "version": "3.7.5"
  }
 },
 "nbformat": 4,
 "nbformat_minor": 5
}
