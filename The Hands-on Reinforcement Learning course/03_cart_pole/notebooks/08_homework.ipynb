{
 "cells": [
  {
   "cell_type": "markdown",
   "id": "f0fd6807",
   "metadata": {},
   "source": [
    "# 08 Homework 🏋️🏋️🏋️"
   ]
  },
  {
   "cell_type": "markdown",
   "id": "abcf6613",
   "metadata": {},
   "source": [
    "#### 👉A course without homework is not a course!\n",
    "\n",
    "#### 👉Spend some time thinking and trying to implement the challenges I propose here.\n",
    "\n",
    "#### 👉Feel free to email me your solutions at:"
   ]
  },
  {
   "cell_type": "markdown",
   "id": "d1d983a3",
   "metadata": {},
   "source": [
    "# `plabartabajo@gmail.com`"
   ]
  },
  {
   "cell_type": "markdown",
   "id": "86f82e45",
   "metadata": {},
   "source": [
    "-----"
   ]
  },
  {
   "cell_type": "markdown",
   "id": "67656662",
   "metadata": {},
   "source": [
    "### 1. Re-train the neural networks from `05_crash_course_on_neural_nets.ipynb` with a larger training set, e.g. `10,000 samples`?\n",
    "\n",
    "👉Do the validation metrics improve?\n",
    "\n",
    "👉Did you manage to get to 95% validation accuracy?"
   ]
  },
  {
   "cell_type": "markdown",
   "id": "c0a46bf7",
   "metadata": {},
   "source": [
    "## 2. Can you perfectly solve the `Cart Pole` environment using a neural network with only 1 hidden layer?\n",
    "\n",
    "\n",
    "![](https://github.com/Paulescu/hands-on-rl/blob/main/03_cart_pole/images/neural_net_homework.jpg?raw=true)"
   ]
  }
 ],
 "metadata": {
  "kernelspec": {
   "display_name": "Python 3 (ipykernel)",
   "language": "python",
   "name": "python3"
  },
  "language_info": {
   "codemirror_mode": {
    "name": "ipython",
    "version": 3
   },
   "file_extension": ".py",
   "mimetype": "text/x-python",
   "name": "python",
   "nbconvert_exporter": "python",
   "pygments_lexer": "ipython3",
   "version": "3.7.5"
  }
 },
 "nbformat": 4,
 "nbformat_minor": 5
}
